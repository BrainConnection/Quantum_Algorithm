{
  "nbformat": 4,
  "nbformat_minor": 0,
  "metadata": {
    "colab": {
      "provenance": [],
      "machine_shape": "hm",
      "gpuType": "V100",
      "authorship_tag": "ABX9TyOT1HiwD8Qlb+Fry9+g3qdr",
      "include_colab_link": true
    },
    "kernelspec": {
      "name": "python3",
      "display_name": "Python 3"
    },
    "language_info": {
      "name": "python"
    }
  },
  "cells": [
    {
      "cell_type": "markdown",
      "metadata": {
        "id": "view-in-github",
        "colab_type": "text"
      },
      "source": [
        "<a href=\"https://colab.research.google.com/github/BrainConnection/Quantum_Algorithm/blob/main/1.%20TFIM%20VQE%20COPY%203.ipynb\" target=\"_parent\"><img src=\"https://colab.research.google.com/assets/colab-badge.svg\" alt=\"Open In Colab\"/></a>"
      ]
    },
    {
      "cell_type": "markdown",
      "source": [
        "# Environment Setting"
      ],
      "metadata": {
        "id": "nHZOKbnMg33g"
      }
    },
    {
      "cell_type": "code",
      "execution_count": 2,
      "metadata": {
        "colab": {
          "base_uri": "https://localhost:8080/"
        },
        "id": "09dlWASwmtoK",
        "outputId": "8ef4902a-307e-46e9-bbbc-a059edf4e455"
      },
      "outputs": [
        {
          "output_type": "stream",
          "name": "stdout",
          "text": [
            "Collecting qiskit\n",
            "  Downloading qiskit-1.0.2-cp38-abi3-manylinux_2_17_x86_64.manylinux2014_x86_64.whl (5.6 MB)\n",
            "\u001b[2K     \u001b[90m━━━━━━━━━━━━━━━━━━━━━━━━━━━━━━━━━━━━━━━━\u001b[0m \u001b[32m5.6/5.6 MB\u001b[0m \u001b[31m29.7 MB/s\u001b[0m eta \u001b[36m0:00:00\u001b[0m\n",
            "\u001b[?25hCollecting rustworkx>=0.14.0 (from qiskit)\n",
            "  Downloading rustworkx-0.14.2-cp310-cp310-manylinux_2_17_x86_64.manylinux2014_x86_64.whl (2.1 MB)\n",
            "\u001b[2K     \u001b[90m━━━━━━━━━━━━━━━━━━━━━━━━━━━━━━━━━━━━━━━━\u001b[0m \u001b[32m2.1/2.1 MB\u001b[0m \u001b[31m55.4 MB/s\u001b[0m eta \u001b[36m0:00:00\u001b[0m\n",
            "\u001b[?25hRequirement already satisfied: numpy<2,>=1.17 in /usr/local/lib/python3.10/dist-packages (from qiskit) (1.25.2)\n",
            "Requirement already satisfied: scipy>=1.5 in /usr/local/lib/python3.10/dist-packages (from qiskit) (1.11.4)\n",
            "Requirement already satisfied: sympy>=1.3 in /usr/local/lib/python3.10/dist-packages (from qiskit) (1.12)\n",
            "Collecting dill>=0.3 (from qiskit)\n",
            "  Downloading dill-0.3.8-py3-none-any.whl (116 kB)\n",
            "\u001b[2K     \u001b[90m━━━━━━━━━━━━━━━━━━━━━━━━━━━━━━━━━━━━━━━━\u001b[0m \u001b[32m116.3/116.3 kB\u001b[0m \u001b[31m11.3 MB/s\u001b[0m eta \u001b[36m0:00:00\u001b[0m\n",
            "\u001b[?25hRequirement already satisfied: python-dateutil>=2.8.0 in /usr/local/lib/python3.10/dist-packages (from qiskit) (2.8.2)\n",
            "Collecting stevedore>=3.0.0 (from qiskit)\n",
            "  Downloading stevedore-5.2.0-py3-none-any.whl (49 kB)\n",
            "\u001b[2K     \u001b[90m━━━━━━━━━━━━━━━━━━━━━━━━━━━━━━━━━━━━━━━━\u001b[0m \u001b[32m49.7/49.7 kB\u001b[0m \u001b[31m4.4 MB/s\u001b[0m eta \u001b[36m0:00:00\u001b[0m\n",
            "\u001b[?25hRequirement already satisfied: typing-extensions in /usr/local/lib/python3.10/dist-packages (from qiskit) (4.10.0)\n",
            "Collecting symengine>=0.11 (from qiskit)\n",
            "  Downloading symengine-0.11.0-cp310-cp310-manylinux_2_12_x86_64.manylinux2010_x86_64.whl (39.4 MB)\n",
            "\u001b[2K     \u001b[90m━━━━━━━━━━━━━━━━━━━━━━━━━━━━━━━━━━━━━━━━\u001b[0m \u001b[32m39.4/39.4 MB\u001b[0m \u001b[31m45.0 MB/s\u001b[0m eta \u001b[36m0:00:00\u001b[0m\n",
            "\u001b[?25hRequirement already satisfied: six>=1.5 in /usr/local/lib/python3.10/dist-packages (from python-dateutil>=2.8.0->qiskit) (1.16.0)\n",
            "Collecting pbr!=2.1.0,>=2.0.0 (from stevedore>=3.0.0->qiskit)\n",
            "  Downloading pbr-6.0.0-py2.py3-none-any.whl (107 kB)\n",
            "\u001b[2K     \u001b[90m━━━━━━━━━━━━━━━━━━━━━━━━━━━━━━━━━━━━━━━━\u001b[0m \u001b[32m107.5/107.5 kB\u001b[0m \u001b[31m10.3 MB/s\u001b[0m eta \u001b[36m0:00:00\u001b[0m\n",
            "\u001b[?25hRequirement already satisfied: mpmath>=0.19 in /usr/local/lib/python3.10/dist-packages (from sympy>=1.3->qiskit) (1.3.0)\n",
            "Installing collected packages: symengine, rustworkx, pbr, dill, stevedore, qiskit\n",
            "Successfully installed dill-0.3.8 pbr-6.0.0 qiskit-1.0.2 rustworkx-0.14.2 stevedore-5.2.0 symengine-0.11.0\n",
            "Collecting qiskit-ibm-runtime\n",
            "  Downloading qiskit_ibm_runtime-0.21.1-py3-none-any.whl (3.0 MB)\n",
            "\u001b[2K     \u001b[90m━━━━━━━━━━━━━━━━━━━━━━━━━━━━━━━━━━━━━━━━\u001b[0m \u001b[32m3.0/3.0 MB\u001b[0m \u001b[31m26.4 MB/s\u001b[0m eta \u001b[36m0:00:00\u001b[0m\n",
            "\u001b[?25hRequirement already satisfied: requests>=2.19 in /usr/local/lib/python3.10/dist-packages (from qiskit-ibm-runtime) (2.31.0)\n",
            "Collecting requests-ntlm>=1.1.0 (from qiskit-ibm-runtime)\n",
            "  Downloading requests_ntlm-1.2.0-py3-none-any.whl (6.0 kB)\n",
            "Requirement already satisfied: numpy>=1.13 in /usr/local/lib/python3.10/dist-packages (from qiskit-ibm-runtime) (1.25.2)\n",
            "Requirement already satisfied: urllib3>=1.21.1 in /usr/local/lib/python3.10/dist-packages (from qiskit-ibm-runtime) (2.0.7)\n",
            "Requirement already satisfied: python-dateutil>=2.8.0 in /usr/local/lib/python3.10/dist-packages (from qiskit-ibm-runtime) (2.8.2)\n",
            "Requirement already satisfied: websocket-client>=1.5.1 in /usr/local/lib/python3.10/dist-packages (from qiskit-ibm-runtime) (1.7.0)\n",
            "Collecting ibm-platform-services>=0.22.6 (from qiskit-ibm-runtime)\n",
            "  Downloading ibm-platform-services-0.52.0.tar.gz (316 kB)\n",
            "\u001b[2K     \u001b[90m━━━━━━━━━━━━━━━━━━━━━━━━━━━━━━━━━━━━━━━━\u001b[0m \u001b[32m316.3/316.3 kB\u001b[0m \u001b[31m26.8 MB/s\u001b[0m eta \u001b[36m0:00:00\u001b[0m\n",
            "\u001b[?25h  Installing build dependencies ... \u001b[?25l\u001b[?25hdone\n",
            "  Getting requirements to build wheel ... \u001b[?25l\u001b[?25hdone\n",
            "  Preparing metadata (pyproject.toml) ... \u001b[?25l\u001b[?25hdone\n",
            "Requirement already satisfied: pydantic in /usr/local/lib/python3.10/dist-packages (from qiskit-ibm-runtime) (2.6.4)\n",
            "Requirement already satisfied: qiskit>=1.0.0 in /usr/local/lib/python3.10/dist-packages (from qiskit-ibm-runtime) (1.0.2)\n",
            "Collecting ibm-cloud-sdk-core<4.0.0,>=3.19.2 (from ibm-platform-services>=0.22.6->qiskit-ibm-runtime)\n",
            "  Downloading ibm-cloud-sdk-core-3.19.2.tar.gz (61 kB)\n",
            "\u001b[2K     \u001b[90m━━━━━━━━━━━━━━━━━━━━━━━━━━━━━━━━━━━━━━━━\u001b[0m \u001b[32m62.0/62.0 kB\u001b[0m \u001b[31m6.8 MB/s\u001b[0m eta \u001b[36m0:00:00\u001b[0m\n",
            "\u001b[?25h  Installing build dependencies ... \u001b[?25l\u001b[?25hdone\n",
            "  Getting requirements to build wheel ... \u001b[?25l\u001b[?25hdone\n",
            "  Preparing metadata (pyproject.toml) ... \u001b[?25l\u001b[?25hdone\n",
            "Requirement already satisfied: six>=1.5 in /usr/local/lib/python3.10/dist-packages (from python-dateutil>=2.8.0->qiskit-ibm-runtime) (1.16.0)\n",
            "Requirement already satisfied: rustworkx>=0.14.0 in /usr/local/lib/python3.10/dist-packages (from qiskit>=1.0.0->qiskit-ibm-runtime) (0.14.2)\n",
            "Requirement already satisfied: scipy>=1.5 in /usr/local/lib/python3.10/dist-packages (from qiskit>=1.0.0->qiskit-ibm-runtime) (1.11.4)\n",
            "Requirement already satisfied: sympy>=1.3 in /usr/local/lib/python3.10/dist-packages (from qiskit>=1.0.0->qiskit-ibm-runtime) (1.12)\n",
            "Requirement already satisfied: dill>=0.3 in /usr/local/lib/python3.10/dist-packages (from qiskit>=1.0.0->qiskit-ibm-runtime) (0.3.8)\n",
            "Requirement already satisfied: stevedore>=3.0.0 in /usr/local/lib/python3.10/dist-packages (from qiskit>=1.0.0->qiskit-ibm-runtime) (5.2.0)\n",
            "Requirement already satisfied: typing-extensions in /usr/local/lib/python3.10/dist-packages (from qiskit>=1.0.0->qiskit-ibm-runtime) (4.10.0)\n",
            "Requirement already satisfied: symengine>=0.11 in /usr/local/lib/python3.10/dist-packages (from qiskit>=1.0.0->qiskit-ibm-runtime) (0.11.0)\n",
            "Requirement already satisfied: charset-normalizer<4,>=2 in /usr/local/lib/python3.10/dist-packages (from requests>=2.19->qiskit-ibm-runtime) (3.3.2)\n",
            "Requirement already satisfied: idna<4,>=2.5 in /usr/local/lib/python3.10/dist-packages (from requests>=2.19->qiskit-ibm-runtime) (3.6)\n",
            "Requirement already satisfied: certifi>=2017.4.17 in /usr/local/lib/python3.10/dist-packages (from requests>=2.19->qiskit-ibm-runtime) (2024.2.2)\n",
            "Requirement already satisfied: cryptography>=1.3 in /usr/local/lib/python3.10/dist-packages (from requests-ntlm>=1.1.0->qiskit-ibm-runtime) (42.0.5)\n",
            "Collecting pyspnego>=0.1.6 (from requests-ntlm>=1.1.0->qiskit-ibm-runtime)\n",
            "  Downloading pyspnego-0.10.2-py3-none-any.whl (129 kB)\n",
            "\u001b[2K     \u001b[90m━━━━━━━━━━━━━━━━━━━━━━━━━━━━━━━━━━━━━━━━\u001b[0m \u001b[32m129.9/129.9 kB\u001b[0m \u001b[31m15.4 MB/s\u001b[0m eta \u001b[36m0:00:00\u001b[0m\n",
            "\u001b[?25hRequirement already satisfied: annotated-types>=0.4.0 in /usr/local/lib/python3.10/dist-packages (from pydantic->qiskit-ibm-runtime) (0.6.0)\n",
            "Requirement already satisfied: pydantic-core==2.16.3 in /usr/local/lib/python3.10/dist-packages (from pydantic->qiskit-ibm-runtime) (2.16.3)\n",
            "Requirement already satisfied: cffi>=1.12 in /usr/local/lib/python3.10/dist-packages (from cryptography>=1.3->requests-ntlm>=1.1.0->qiskit-ibm-runtime) (1.16.0)\n",
            "Collecting urllib3>=1.21.1 (from qiskit-ibm-runtime)\n",
            "  Downloading urllib3-2.2.1-py3-none-any.whl (121 kB)\n",
            "\u001b[2K     \u001b[90m━━━━━━━━━━━━━━━━━━━━━━━━━━━━━━━━━━━━━━━━\u001b[0m \u001b[32m121.1/121.1 kB\u001b[0m \u001b[31m14.0 MB/s\u001b[0m eta \u001b[36m0:00:00\u001b[0m\n",
            "\u001b[?25hCollecting PyJWT<3.0.0,>=2.8.0 (from ibm-cloud-sdk-core<4.0.0,>=3.19.2->ibm-platform-services>=0.22.6->qiskit-ibm-runtime)\n",
            "  Downloading PyJWT-2.8.0-py3-none-any.whl (22 kB)\n",
            "Requirement already satisfied: pbr!=2.1.0,>=2.0.0 in /usr/local/lib/python3.10/dist-packages (from stevedore>=3.0.0->qiskit>=1.0.0->qiskit-ibm-runtime) (6.0.0)\n",
            "Requirement already satisfied: mpmath>=0.19 in /usr/local/lib/python3.10/dist-packages (from sympy>=1.3->qiskit>=1.0.0->qiskit-ibm-runtime) (1.3.0)\n",
            "Requirement already satisfied: pycparser in /usr/local/lib/python3.10/dist-packages (from cffi>=1.12->cryptography>=1.3->requests-ntlm>=1.1.0->qiskit-ibm-runtime) (2.21)\n",
            "Building wheels for collected packages: ibm-platform-services, ibm-cloud-sdk-core\n",
            "  Building wheel for ibm-platform-services (pyproject.toml) ... \u001b[?25l\u001b[?25hdone\n",
            "  Created wheel for ibm-platform-services: filename=ibm_platform_services-0.52.0-py3-none-any.whl size=331902 sha256=0cc16c438f502c8cc81e0961b555d111892affce5d4a43437f165973c58717a5\n",
            "  Stored in directory: /root/.cache/pip/wheels/9b/34/7b/f02968953b977f20d07a36eab5f7ea8c4d6590f5919940a9f8\n",
            "  Building wheel for ibm-cloud-sdk-core (pyproject.toml) ... \u001b[?25l\u001b[?25hdone\n",
            "  Created wheel for ibm-cloud-sdk-core: filename=ibm_cloud_sdk_core-3.19.2-py3-none-any.whl size=98827 sha256=06aa5ffcea2caad35e6f8c1e75a1600bc4adb76f810d2bf7c27402cddc1a2b2a\n",
            "  Stored in directory: /root/.cache/pip/wheels/90/05/db/f544eb28b85089bf6cf29cb9e30f56b471bf59d56a46c92519\n",
            "Successfully built ibm-platform-services ibm-cloud-sdk-core\n",
            "Installing collected packages: urllib3, PyJWT, pyspnego, ibm-cloud-sdk-core, requests-ntlm, ibm-platform-services, qiskit-ibm-runtime\n",
            "  Attempting uninstall: urllib3\n",
            "    Found existing installation: urllib3 2.0.7\n",
            "    Uninstalling urllib3-2.0.7:\n",
            "      Successfully uninstalled urllib3-2.0.7\n",
            "  Attempting uninstall: PyJWT\n",
            "    Found existing installation: PyJWT 2.3.0\n",
            "    Uninstalling PyJWT-2.3.0:\n",
            "      Successfully uninstalled PyJWT-2.3.0\n",
            "Successfully installed PyJWT-2.8.0 ibm-cloud-sdk-core-3.19.2 ibm-platform-services-0.52.0 pyspnego-0.10.2 qiskit-ibm-runtime-0.21.1 requests-ntlm-1.2.0 urllib3-2.2.1\n",
            "Requirement already satisfied: qiskit[visualization] in /usr/local/lib/python3.10/dist-packages (1.0.2)\n",
            "Requirement already satisfied: rustworkx>=0.14.0 in /usr/local/lib/python3.10/dist-packages (from qiskit[visualization]) (0.14.2)\n",
            "Requirement already satisfied: numpy<2,>=1.17 in /usr/local/lib/python3.10/dist-packages (from qiskit[visualization]) (1.25.2)\n",
            "Requirement already satisfied: scipy>=1.5 in /usr/local/lib/python3.10/dist-packages (from qiskit[visualization]) (1.11.4)\n",
            "Requirement already satisfied: sympy>=1.3 in /usr/local/lib/python3.10/dist-packages (from qiskit[visualization]) (1.12)\n",
            "Requirement already satisfied: dill>=0.3 in /usr/local/lib/python3.10/dist-packages (from qiskit[visualization]) (0.3.8)\n",
            "Requirement already satisfied: python-dateutil>=2.8.0 in /usr/local/lib/python3.10/dist-packages (from qiskit[visualization]) (2.8.2)\n",
            "Requirement already satisfied: stevedore>=3.0.0 in /usr/local/lib/python3.10/dist-packages (from qiskit[visualization]) (5.2.0)\n",
            "Requirement already satisfied: typing-extensions in /usr/local/lib/python3.10/dist-packages (from qiskit[visualization]) (4.10.0)\n",
            "Requirement already satisfied: symengine>=0.11 in /usr/local/lib/python3.10/dist-packages (from qiskit[visualization]) (0.11.0)\n",
            "Requirement already satisfied: matplotlib>=3.3 in /usr/local/lib/python3.10/dist-packages (from qiskit[visualization]) (3.7.1)\n",
            "Requirement already satisfied: pydot in /usr/local/lib/python3.10/dist-packages (from qiskit[visualization]) (1.4.2)\n",
            "Requirement already satisfied: Pillow>=4.2.1 in /usr/local/lib/python3.10/dist-packages (from qiskit[visualization]) (9.4.0)\n",
            "Collecting pylatexenc>=1.4 (from qiskit[visualization])\n",
            "  Downloading pylatexenc-2.10.tar.gz (162 kB)\n",
            "\u001b[2K     \u001b[90m━━━━━━━━━━━━━━━━━━━━━━━━━━━━━━━━━━━━━━━━\u001b[0m \u001b[32m162.6/162.6 kB\u001b[0m \u001b[31m7.0 MB/s\u001b[0m eta \u001b[36m0:00:00\u001b[0m\n",
            "\u001b[?25h  Preparing metadata (setup.py) ... \u001b[?25l\u001b[?25hdone\n",
            "Requirement already satisfied: seaborn>=0.9.0 in /usr/local/lib/python3.10/dist-packages (from qiskit[visualization]) (0.13.1)\n",
            "Requirement already satisfied: contourpy>=1.0.1 in /usr/local/lib/python3.10/dist-packages (from matplotlib>=3.3->qiskit[visualization]) (1.2.0)\n",
            "Requirement already satisfied: cycler>=0.10 in /usr/local/lib/python3.10/dist-packages (from matplotlib>=3.3->qiskit[visualization]) (0.12.1)\n",
            "Requirement already satisfied: fonttools>=4.22.0 in /usr/local/lib/python3.10/dist-packages (from matplotlib>=3.3->qiskit[visualization]) (4.49.0)\n",
            "Requirement already satisfied: kiwisolver>=1.0.1 in /usr/local/lib/python3.10/dist-packages (from matplotlib>=3.3->qiskit[visualization]) (1.4.5)\n",
            "Requirement already satisfied: packaging>=20.0 in /usr/local/lib/python3.10/dist-packages (from matplotlib>=3.3->qiskit[visualization]) (24.0)\n",
            "Requirement already satisfied: pyparsing>=2.3.1 in /usr/local/lib/python3.10/dist-packages (from matplotlib>=3.3->qiskit[visualization]) (3.1.2)\n",
            "Requirement already satisfied: six>=1.5 in /usr/local/lib/python3.10/dist-packages (from python-dateutil>=2.8.0->qiskit[visualization]) (1.16.0)\n",
            "Requirement already satisfied: pandas>=1.2 in /usr/local/lib/python3.10/dist-packages (from seaborn>=0.9.0->qiskit[visualization]) (1.5.3)\n",
            "Requirement already satisfied: pbr!=2.1.0,>=2.0.0 in /usr/local/lib/python3.10/dist-packages (from stevedore>=3.0.0->qiskit[visualization]) (6.0.0)\n",
            "Requirement already satisfied: mpmath>=0.19 in /usr/local/lib/python3.10/dist-packages (from sympy>=1.3->qiskit[visualization]) (1.3.0)\n",
            "Requirement already satisfied: pytz>=2020.1 in /usr/local/lib/python3.10/dist-packages (from pandas>=1.2->seaborn>=0.9.0->qiskit[visualization]) (2023.4)\n",
            "Building wheels for collected packages: pylatexenc\n",
            "  Building wheel for pylatexenc (setup.py) ... \u001b[?25l\u001b[?25hdone\n",
            "  Created wheel for pylatexenc: filename=pylatexenc-2.10-py3-none-any.whl size=136816 sha256=619070702cc28a54ccf084008076806153be74c9895f3868e87e013a8f9a1d1d\n",
            "  Stored in directory: /root/.cache/pip/wheels/d3/31/8b/e09b0386afd80cfc556c00408c9aeea5c35c4d484a9c762fd5\n",
            "Successfully built pylatexenc\n",
            "Installing collected packages: pylatexenc\n",
            "Successfully installed pylatexenc-2.10\n",
            "Collecting qiskit-algorithms\n",
            "  Downloading qiskit_algorithms-0.3.0-py3-none-any.whl (308 kB)\n",
            "\u001b[2K     \u001b[90m━━━━━━━━━━━━━━━━━━━━━━━━━━━━━━━━━━━━━━━━\u001b[0m \u001b[32m308.6/308.6 kB\u001b[0m \u001b[31m9.5 MB/s\u001b[0m eta \u001b[36m0:00:00\u001b[0m\n",
            "\u001b[?25hRequirement already satisfied: qiskit>=0.44 in /usr/local/lib/python3.10/dist-packages (from qiskit-algorithms) (1.0.2)\n",
            "Requirement already satisfied: scipy>=1.4 in /usr/local/lib/python3.10/dist-packages (from qiskit-algorithms) (1.11.4)\n",
            "Requirement already satisfied: numpy>=1.17 in /usr/local/lib/python3.10/dist-packages (from qiskit-algorithms) (1.25.2)\n",
            "Requirement already satisfied: rustworkx>=0.14.0 in /usr/local/lib/python3.10/dist-packages (from qiskit>=0.44->qiskit-algorithms) (0.14.2)\n",
            "Requirement already satisfied: sympy>=1.3 in /usr/local/lib/python3.10/dist-packages (from qiskit>=0.44->qiskit-algorithms) (1.12)\n",
            "Requirement already satisfied: dill>=0.3 in /usr/local/lib/python3.10/dist-packages (from qiskit>=0.44->qiskit-algorithms) (0.3.8)\n",
            "Requirement already satisfied: python-dateutil>=2.8.0 in /usr/local/lib/python3.10/dist-packages (from qiskit>=0.44->qiskit-algorithms) (2.8.2)\n",
            "Requirement already satisfied: stevedore>=3.0.0 in /usr/local/lib/python3.10/dist-packages (from qiskit>=0.44->qiskit-algorithms) (5.2.0)\n",
            "Requirement already satisfied: typing-extensions in /usr/local/lib/python3.10/dist-packages (from qiskit>=0.44->qiskit-algorithms) (4.10.0)\n",
            "Requirement already satisfied: symengine>=0.11 in /usr/local/lib/python3.10/dist-packages (from qiskit>=0.44->qiskit-algorithms) (0.11.0)\n",
            "Requirement already satisfied: six>=1.5 in /usr/local/lib/python3.10/dist-packages (from python-dateutil>=2.8.0->qiskit>=0.44->qiskit-algorithms) (1.16.0)\n",
            "Requirement already satisfied: pbr!=2.1.0,>=2.0.0 in /usr/local/lib/python3.10/dist-packages (from stevedore>=3.0.0->qiskit>=0.44->qiskit-algorithms) (6.0.0)\n",
            "Requirement already satisfied: mpmath>=0.19 in /usr/local/lib/python3.10/dist-packages (from sympy>=1.3->qiskit>=0.44->qiskit-algorithms) (1.3.0)\n",
            "Installing collected packages: qiskit-algorithms\n",
            "Successfully installed qiskit-algorithms-0.3.0\n",
            "Collecting qiskit-aer\n",
            "  Downloading qiskit_aer-0.13.3-cp310-cp310-manylinux_2_17_x86_64.manylinux2014_x86_64.whl (12.3 MB)\n",
            "\u001b[2K     \u001b[90m━━━━━━━━━━━━━━━━━━━━━━━━━━━━━━━━━━━━━━━━\u001b[0m \u001b[32m12.3/12.3 MB\u001b[0m \u001b[31m41.4 MB/s\u001b[0m eta \u001b[36m0:00:00\u001b[0m\n",
            "\u001b[?25hRequirement already satisfied: qiskit>=0.45.0 in /usr/local/lib/python3.10/dist-packages (from qiskit-aer) (1.0.2)\n",
            "Requirement already satisfied: numpy>=1.16.3 in /usr/local/lib/python3.10/dist-packages (from qiskit-aer) (1.25.2)\n",
            "Requirement already satisfied: scipy>=1.0 in /usr/local/lib/python3.10/dist-packages (from qiskit-aer) (1.11.4)\n",
            "Requirement already satisfied: psutil>=5 in /usr/local/lib/python3.10/dist-packages (from qiskit-aer) (5.9.5)\n",
            "Requirement already satisfied: rustworkx>=0.14.0 in /usr/local/lib/python3.10/dist-packages (from qiskit>=0.45.0->qiskit-aer) (0.14.2)\n",
            "Requirement already satisfied: sympy>=1.3 in /usr/local/lib/python3.10/dist-packages (from qiskit>=0.45.0->qiskit-aer) (1.12)\n",
            "Requirement already satisfied: dill>=0.3 in /usr/local/lib/python3.10/dist-packages (from qiskit>=0.45.0->qiskit-aer) (0.3.8)\n",
            "Requirement already satisfied: python-dateutil>=2.8.0 in /usr/local/lib/python3.10/dist-packages (from qiskit>=0.45.0->qiskit-aer) (2.8.2)\n",
            "Requirement already satisfied: stevedore>=3.0.0 in /usr/local/lib/python3.10/dist-packages (from qiskit>=0.45.0->qiskit-aer) (5.2.0)\n",
            "Requirement already satisfied: typing-extensions in /usr/local/lib/python3.10/dist-packages (from qiskit>=0.45.0->qiskit-aer) (4.10.0)\n",
            "Requirement already satisfied: symengine>=0.11 in /usr/local/lib/python3.10/dist-packages (from qiskit>=0.45.0->qiskit-aer) (0.11.0)\n",
            "Requirement already satisfied: six>=1.5 in /usr/local/lib/python3.10/dist-packages (from python-dateutil>=2.8.0->qiskit>=0.45.0->qiskit-aer) (1.16.0)\n",
            "Requirement already satisfied: pbr!=2.1.0,>=2.0.0 in /usr/local/lib/python3.10/dist-packages (from stevedore>=3.0.0->qiskit>=0.45.0->qiskit-aer) (6.0.0)\n",
            "Requirement already satisfied: mpmath>=0.19 in /usr/local/lib/python3.10/dist-packages (from sympy>=1.3->qiskit>=0.45.0->qiskit-aer) (1.3.0)\n",
            "Installing collected packages: qiskit-aer\n",
            "Successfully installed qiskit-aer-0.13.3\n",
            "Requirement already satisfied: scipy in /usr/local/lib/python3.10/dist-packages (1.11.4)\n",
            "Requirement already satisfied: numpy<1.28.0,>=1.21.6 in /usr/local/lib/python3.10/dist-packages (from scipy) (1.25.2)\n",
            "Requirement already satisfied: matplotlib in /usr/local/lib/python3.10/dist-packages (3.7.1)\n",
            "Requirement already satisfied: contourpy>=1.0.1 in /usr/local/lib/python3.10/dist-packages (from matplotlib) (1.2.0)\n",
            "Requirement already satisfied: cycler>=0.10 in /usr/local/lib/python3.10/dist-packages (from matplotlib) (0.12.1)\n",
            "Requirement already satisfied: fonttools>=4.22.0 in /usr/local/lib/python3.10/dist-packages (from matplotlib) (4.49.0)\n",
            "Requirement already satisfied: kiwisolver>=1.0.1 in /usr/local/lib/python3.10/dist-packages (from matplotlib) (1.4.5)\n",
            "Requirement already satisfied: numpy>=1.20 in /usr/local/lib/python3.10/dist-packages (from matplotlib) (1.25.2)\n",
            "Requirement already satisfied: packaging>=20.0 in /usr/local/lib/python3.10/dist-packages (from matplotlib) (24.0)\n",
            "Requirement already satisfied: pillow>=6.2.0 in /usr/local/lib/python3.10/dist-packages (from matplotlib) (9.4.0)\n",
            "Requirement already satisfied: pyparsing>=2.3.1 in /usr/local/lib/python3.10/dist-packages (from matplotlib) (3.1.2)\n",
            "Requirement already satisfied: python-dateutil>=2.7 in /usr/local/lib/python3.10/dist-packages (from matplotlib) (2.8.2)\n",
            "Requirement already satisfied: six>=1.5 in /usr/local/lib/python3.10/dist-packages (from python-dateutil>=2.7->matplotlib) (1.16.0)\n"
          ]
        }
      ],
      "source": [
        "!pip install qiskit\n",
        "!pip install qiskit-ibm-runtime\n",
        "!pip install qiskit[visualization]\n",
        "!pip install qiskit-algorithms\n",
        "!pip install qiskit-aer\n",
        "\n",
        "!pip install scipy\n",
        "!pip install matplotlib"
      ]
    },
    {
      "cell_type": "code",
      "source": [
        "from qiskit_ibm_runtime import QiskitRuntimeService, Estimator, Options\n",
        "\n",
        "# Save an IBM Quantum account and set it as your default account.\n",
        "QiskitRuntimeService.save_account(channel=\"ibm_quantum\",\n",
        "                                  token=\"067e5c82606f0a1157dd554e2087d6b7a9b823dbaa4ad47b95c3337eab2e6cd9361719cc0470f4a98d1631b73b264a82577012a0b8ff32963d5964e6cc12c525\",\n",
        "                                  set_as_default=True,\n",
        "                                  overwrite=True)\n",
        "\n",
        "service = QiskitRuntimeService()\n",
        "backend = service.backend(\"ibmq_qasm_simulator\")"
      ],
      "metadata": {
        "id": "2WPbDpzlm75h"
      },
      "execution_count": 3,
      "outputs": []
    },
    {
      "cell_type": "markdown",
      "source": [
        "# Hamiltonian Diagonalization"
      ],
      "metadata": {
        "id": "KxlrsTqLfZMB"
      }
    },
    {
      "cell_type": "markdown",
      "source": [
        "$$ H = -(1-g) Σ Z_j Z_{j+1} -g Σ X_j  $$\n",
        "\n",
        "1D 5 Qubit System"
      ],
      "metadata": {
        "id": "ECHhrgxzxyoj"
      }
    },
    {
      "cell_type": "code",
      "source": [
        "from qiskit.quantum_info import SparsePauliOp\n",
        "import numpy as np\n",
        "import matplotlib.pyplot as plt"
      ],
      "metadata": {
        "id": "DtnIBeDK08QA"
      },
      "execution_count": 4,
      "outputs": []
    },
    {
      "cell_type": "code",
      "source": [
        "interation = 1\n",
        "bias = -1\n",
        "\n",
        "coeff_list = [interation for _ in range(5)] + [bias for _ in range(5)]\n",
        "operator_list = [\"ZZIII\", \"IZZII\", \"IIZZI\", \"IIIZZ\", \"ZIIIZ\", \"XIIII\", \"IXIII\", \"IIXII\", \"IIIXI\", \"IIIIX\"]\n",
        "hamiltonian_list = []\n",
        "for i in range(10):\n",
        "  hamiltonian_list.append((operator_list[i], coeff_list[i]))\n",
        "hamiltonian = SparsePauliOp.from_list(hamiltonian_list)\n",
        "hamiltonian_matrix = hamiltonian.to_matrix()\n",
        "\n",
        "eigenvalue, eigenvector = np.linalg.eig(hamiltonian_matrix)\n",
        "\n",
        "lowest_energy = np.min(eigenvalue)\n",
        "\n",
        "np.real(lowest_energy)"
      ],
      "metadata": {
        "colab": {
          "base_uri": "https://localhost:8080/"
        },
        "id": "DF1a7aGu4fUc",
        "outputId": "737a9d23-cc18-4465-8142-bdde9d403e4c"
      },
      "execution_count": 5,
      "outputs": [
        {
          "output_type": "execute_result",
          "data": {
            "text/plain": [
              "-6.155367074350501"
            ]
          },
          "metadata": {},
          "execution_count": 5
        }
      ]
    },
    {
      "cell_type": "code",
      "source": [
        "interation = 1\n",
        "bias = -1\n",
        "\n",
        "coeff_list = [interation for _ in range(4)] + [bias for _ in range(5)]\n",
        "operator_list = [\"ZZIII\", \"IZZII\", \"IIZZI\", \"IIIZZ\", \"XIIII\", \"IXIII\", \"IIXII\", \"IIIXI\", \"IIIIX\"]\n",
        "hamiltonian_list = []\n",
        "for i in range(9):\n",
        "  hamiltonian_list.append((operator_list[i], coeff_list[i]))\n",
        "hamiltonian = SparsePauliOp.from_list(hamiltonian_list)\n",
        "hamiltonian_matrix = hamiltonian.to_matrix()\n",
        "\n",
        "eigenvalue, eigenvector = np.linalg.eig(hamiltonian_matrix)\n",
        "\n",
        "lowest_energy = np.min(eigenvalue)\n",
        "\n",
        "np.real(lowest_energy)"
      ],
      "metadata": {
        "colab": {
          "base_uri": "https://localhost:8080/"
        },
        "id": "ibnWJRIIS7w8",
        "outputId": "6f6dca96-379c-4c28-9805-fe97d17cf96a"
      },
      "execution_count": 6,
      "outputs": [
        {
          "output_type": "execute_result",
          "data": {
            "text/plain": [
              "-6.026674183332294"
            ]
          },
          "metadata": {},
          "execution_count": 6
        }
      ]
    },
    {
      "cell_type": "markdown",
      "source": [
        "# VQE in Exact Simulator (Method 1)\n",
        "\n",
        "quantum_algorithms VQE object"
      ],
      "metadata": {
        "id": "VSK1jKSCkGd3"
      }
    },
    {
      "cell_type": "code",
      "source": [
        "from qiskit.circuit import QuantumCircuit, QuantumRegister, Parameter\n",
        "from qiskit.quantum_info import SparsePauliOp\n",
        "from qiskit.circuit import ParameterVector\n",
        "import numpy as np\n",
        "\n",
        "# Instantiate the system Hamiltonian\n",
        "interation = 1\n",
        "bias = -1\n",
        "\n",
        "coeff_list = [interation for _ in range(4)] + [bias for _ in range(5)]\n",
        "operator_list = [\"ZZIII\", \"IZZII\", \"IIZZI\", \"IIIZZ\", \"XIIII\", \"IXIII\", \"IIXII\", \"IIIXI\", \"IIIIX\"]\n",
        "hamiltonian_list = []\n",
        "for i in range(9):\n",
        "  hamiltonian_list.append((operator_list[i], coeff_list[i]))\n",
        "hamiltonian = SparsePauliOp.from_list(hamiltonian_list)"
      ],
      "metadata": {
        "id": "wyE7E-3fkCwj"
      },
      "execution_count": null,
      "outputs": []
    },
    {
      "cell_type": "code",
      "source": [
        "ansatz = QuantumCircuit(5)\n",
        "params = ParameterVector(\"theta\", length=9)\n",
        "it = iter(params)\n",
        "ansatz.h(range(0,5))\n",
        "\n",
        "ansatz.barrier()\n",
        "\n",
        "ansatz.cx(0, 1)\n",
        "ansatz.cx(2, 3)\n",
        "ansatz.rz(next(it), 1)\n",
        "ansatz.rz(next(it), 3)\n",
        "ansatz.cx(0, 1)\n",
        "ansatz.cx(2, 3)\n",
        "ansatz.cx(1, 2)\n",
        "ansatz.cx(3, 4)\n",
        "ansatz.rz(next(it), 2)\n",
        "ansatz.rz(next(it), 4)\n",
        "ansatz.cx(1, 2)\n",
        "ansatz.cx(3, 4)\n",
        "\n",
        "ansatz.barrier()\n",
        "\n",
        "ansatz.rx(next(it), 0)\n",
        "ansatz.rx(next(it), 1)\n",
        "ansatz.rx(next(it), 2)\n",
        "ansatz.rx(next(it), 3)\n",
        "ansatz.rx(next(it), 4)\n",
        "\n",
        "ansatz.draw(\"mpl\")"
      ],
      "metadata": {
        "colab": {
          "base_uri": "https://localhost:8080/"
        },
        "id": "qt1iKeHukCts",
        "outputId": "ae678bae-e9d6-478f-c8f6-83dbd44487b6"
      },
      "execution_count": null,
      "outputs": [
        {
          "output_type": "execute_result",
          "data": {
            "text/plain": [
              "<Figure size 956.385x451.5 with 1 Axes>"
            ],
            "image/png": "[encoded data removed]"
          },
          "metadata": {},
          "execution_count": 7
        }
      ]
    },
    {
      "cell_type": "code",
      "source": [
        "from qiskit_algorithms.optimizers import CG\n",
        "from qiskit_algorithms import VQE, SamplingVQE\n",
        "from qiskit_algorithms.gradients import LinCombEstimatorGradient\n",
        "from qiskit.primitives import Estimator\n",
        "\n",
        "step_list = np.array([i for i in range(20)])\n",
        "vqe_list = []\n",
        "\n",
        "for max in range(20):\n",
        "\n",
        "  # Conjugate Gradient algorithm\n",
        "  optimizer = CG(maxiter=max)\n",
        "\n",
        "  # Gradient callable\n",
        "  estimator = Estimator()\n",
        "  grad = LinCombEstimatorGradient(estimator)  # optional estimator gradient\n",
        "  vqe = VQE(estimator=estimator, ansatz=ansatz, optimizer=optimizer, gradient=grad)\n",
        "\n",
        "  result = vqe.compute_minimum_eigenvalue(hamiltonian)\n",
        "  vqe_list.append(result.optimal_value)\n",
        "\n",
        "vqe_list = np.array(vqe_list)"
      ],
      "metadata": {
        "id": "_a6qMXM7kbuu"
      },
      "execution_count": null,
      "outputs": []
    },
    {
      "cell_type": "code",
      "source": [
        "import matplotlib.pyplot as plt\n",
        "\n",
        "fig, ax = plt.subplots()\n",
        "ax.plot(step_list, vqe_list)\n",
        "ax.set_xlabel(\"Iterations\")\n",
        "ax.set_ylabel(\"Cost\")\n",
        "plt.draw()"
      ],
      "metadata": {
        "colab": {
          "base_uri": "https://localhost:8080/"
        },
        "id": "6ftUh5K-l4xZ",
        "outputId": "760892c8-1fb9-4939-f9a9-35a9751df3a1"
      },
      "execution_count": null,
      "outputs": [
        {
          "output_type": "display_data",
          "data": {
            "text/plain": [
              "<Figure size 640x480 with 1 Axes>"
            ],
            "image/png": "[encoded data removed]"
          },
          "metadata": {}
        }
      ]
    },
    {
      "cell_type": "markdown",
      "source": [
        "# VQE in Exact Simulator (Method 2)\n",
        "\n",
        "scipy minimize"
      ],
      "metadata": {
        "id": "-WrqU9C2g8fS"
      }
    },
    {
      "cell_type": "markdown",
      "source": [
        "## Function Definition"
      ],
      "metadata": {
        "id": "cmvKiG5U_VJH"
      }
    },
    {
      "cell_type": "code",
      "source": [
        "from qiskit.circuit import QuantumCircuit, QuantumRegister, Parameter\n",
        "from qiskit.quantum_info import SparsePauliOp\n",
        "from qiskit.circuit import ParameterVector\n",
        "from qiskit.primitives import Estimator\n",
        "\n",
        "import numpy as np\n",
        "from scipy.optimize import minimize"
      ],
      "metadata": {
        "id": "rEnUcxZ96kcK"
      },
      "execution_count": null,
      "outputs": []
    },
    {
      "cell_type": "code",
      "source": [
        "# Instantiate the system Hamiltonian\n",
        "interation = 1\n",
        "bias = -1\n",
        "\n",
        "coeff_list = [interation for _ in range(4)] + [bias for _ in range(5)]\n",
        "operator_list = [\"ZZIII\", \"IZZII\", \"IIZZI\", \"IIIZZ\", \"XIIII\", \"IXIII\", \"IIXII\", \"IIIXI\", \"IIIIX\"]\n",
        "hamiltonian_list = []\n",
        "for i in range(9):\n",
        "  hamiltonian_list.append((operator_list[i], coeff_list[i]))\n",
        "hamiltonian = SparsePauliOp.from_list(hamiltonian_list)"
      ],
      "metadata": {
        "id": "KoR-xtSmhIFG"
      },
      "execution_count": null,
      "outputs": []
    },
    {
      "cell_type": "code",
      "source": [
        "# Ansatz\n",
        "\n",
        "ansatz = QuantumCircuit(5)\n",
        "params = ParameterVector(\"theta\", length=9)\n",
        "it = iter(params)\n",
        "ansatz.h(range(0,5))\n",
        "\n",
        "ansatz.barrier()\n",
        "\n",
        "ansatz.cx(0, 1)\n",
        "ansatz.cx(2, 3)\n",
        "ansatz.rz(next(it), 1)\n",
        "ansatz.rz(next(it), 3)\n",
        "ansatz.cx(0, 1)\n",
        "ansatz.cx(2, 3)\n",
        "ansatz.cx(1, 2)\n",
        "ansatz.cx(3, 4)\n",
        "ansatz.rz(next(it), 2)\n",
        "ansatz.rz(next(it), 4)\n",
        "ansatz.cx(1, 2)\n",
        "ansatz.cx(3, 4)\n",
        "\n",
        "ansatz.barrier()\n",
        "\n",
        "ansatz.rx(next(it), 0)\n",
        "ansatz.rx(next(it), 1)\n",
        "ansatz.rx(next(it), 2)\n",
        "ansatz.rx(next(it), 3)\n",
        "ansatz.rx(next(it), 4)\n",
        "\n",
        "ansatz.draw(\"mpl\")"
      ],
      "metadata": {
        "id": "kQizJBKXlHwO",
        "outputId": "22cf96de-1474-4e59-fad0-da7406fde52c",
        "colab": {
          "base_uri": "https://localhost:8080/"
        }
      },
      "execution_count": null,
      "outputs": [
        {
          "output_type": "execute_result",
          "data": {
            "text/plain": [
              "<Figure size 956.385x451.5 with 1 Axes>"
            ],
            "image/png": "[encoded data removed]"
          },
          "metadata": {},
          "execution_count": 12
        }
      ]
    },
    {
      "cell_type": "code",
      "source": [
        "# Estimator\n",
        "\n",
        "estimator = Estimator()"
      ],
      "metadata": {
        "id": "_rBBWOGgTPa3"
      },
      "execution_count": null,
      "outputs": []
    },
    {
      "cell_type": "code",
      "source": [
        "def cost_func_vqe(params, ansatz, hamiltonian, estimator):\n",
        "    cost = estimator.run(ansatz, hamiltonian, parameter_values=params).result()\n",
        "    return cost.values[0]"
      ],
      "metadata": {
        "id": "gUgIPgDjp9Kj"
      },
      "execution_count": null,
      "outputs": []
    },
    {
      "cell_type": "code",
      "source": [
        "def build_callback(ansatz, hamiltonian, estimator, callback_dict):\n",
        "  def callback(current_vector):\n",
        "    callback_dict[\"iters\"] += 1\n",
        "    callback_dict[\"prev_vector\"] = current_vector\n",
        "    current_cost = cost_func_vqe(current_vector, ansatz, hamiltonian, estimator)\n",
        "\n",
        "    callback_dict[\"cost_history\"].append(current_cost)\n",
        "\n",
        "    print(\n",
        "      \"Iters. done: {} [Current cost: {}]\".format(callback_dict[\"iters\"], current_cost),\n",
        "      end=\"\\r\",\n",
        "      flush=True,\n",
        "    )\n",
        "\n",
        "  return callback"
      ],
      "metadata": {
        "id": "OFgXN1F4x-yG"
      },
      "execution_count": null,
      "outputs": []
    },
    {
      "cell_type": "markdown",
      "source": [
        "## Minimizing Method Trial\n",
        "\n",
        "COBYLA, SLSQP, BFGS"
      ],
      "metadata": {
        "id": "lFAqiQXZ_cOm"
      }
    },
    {
      "cell_type": "code",
      "source": [
        "callback_dict = {\n",
        "    \"prev_vector\": None,\n",
        "    \"iters\": 0,\n",
        "    \"cost_history\": [],\n",
        "}\n",
        "\n",
        "np.random.seed(1)\n",
        "x0 = 2 * np.pi * np.random.random(9)\n",
        "\n",
        "x0"
      ],
      "metadata": {
        "id": "fbtJseldyr3r",
        "colab": {
          "base_uri": "https://localhost:8080/"
        },
        "outputId": "68134ba8-4c4c-413b-ddca-ab156db4dd87"
      },
      "execution_count": null,
      "outputs": [
        {
          "output_type": "execute_result",
          "data": {
            "text/plain": [
              "array([2.62022653e+00, 4.52593227e+00, 7.18638172e-04, 1.89961158e+00,\n",
              "       9.22094457e-01, 5.80180502e-01, 1.17030742e+00, 2.17122208e+00,\n",
              "       2.49296356e+00])"
            ]
          },
          "metadata": {},
          "execution_count": 16
        }
      ]
    },
    {
      "cell_type": "code",
      "source": [
        "callback = build_callback(ansatz, hamiltonian, estimator, callback_dict)\n",
        "res = minimize(\n",
        "  cost_func_vqe,\n",
        "  x0,\n",
        "  args=(ansatz, hamiltonian, estimator),\n",
        "  method=\"cobyla\",\n",
        "  callback=callback,\n",
        ")"
      ],
      "metadata": {
        "id": "eBHr-RDPytHr",
        "outputId": "68938897-7569-46da-9631-081ea6420e24",
        "colab": {
          "base_uri": "https://localhost:8080/"
        }
      },
      "execution_count": null,
      "outputs": [
        {
          "output_type": "stream",
          "name": "stdout",
          "text": []
        }
      ]
    },
    {
      "cell_type": "code",
      "source": [
        "res"
      ],
      "metadata": {
        "id": "R97EUoPb1LTW",
        "colab": {
          "base_uri": "https://localhost:8080/"
        },
        "outputId": "5691daf4-f9d8-4438-d5d9-dd38890ae45c"
      },
      "execution_count": null,
      "outputs": [
        {
          "output_type": "execute_result",
          "data": {
            "text/plain": [
              " message: Maximum number of function evaluations has been exceeded.\n",
              " success: False\n",
              "  status: 2\n",
              "     fun: -5.8686873148044505\n",
              "       x: [ 5.837e+00  6.673e+00  3.926e-01  4.467e-01 -9.710e-01\n",
              "            2.544e+00  2.177e+00  2.548e+00  2.166e+00]\n",
              "    nfev: 1000\n",
              "   maxcv: 0.0"
            ]
          },
          "metadata": {},
          "execution_count": 18
        }
      ]
    },
    {
      "cell_type": "code",
      "source": [
        "fig, ax = plt.subplots()\n",
        "ax.plot(range(callback_dict[\"iters\"]), callback_dict[\"cost_history\"])\n",
        "ax.set_xlabel(\"Iterations\")\n",
        "ax.set_ylabel(\"Cost\")\n",
        "plt.draw()"
      ],
      "metadata": {
        "id": "82bVxHG4ytC6",
        "colab": {
          "base_uri": "https://localhost:8080/"
        },
        "outputId": "cf9a82ea-dca6-4058-ea0a-c05d3751595a"
      },
      "execution_count": null,
      "outputs": [
        {
          "output_type": "display_data",
          "data": {
            "text/plain": [
              "<Figure size 640x480 with 1 Axes>"
            ],
            "image/png": "[encoded data removed]"
          },
          "metadata": {}
        }
      ]
    },
    {
      "cell_type": "code",
      "source": [
        "callback_dict = {\n",
        "    \"prev_vector\": None,\n",
        "    \"iters\": 0,\n",
        "    \"cost_history\": [],\n",
        "}\n",
        "\n",
        "np.random.seed(1)\n",
        "x0 = 2 * np.pi * np.random.random(9)\n",
        "\n",
        "x0"
      ],
      "metadata": {
        "id": "wGceDYYRViCC",
        "outputId": "8022d92a-fd73-4cc4-d9f4-49f843775092",
        "colab": {
          "base_uri": "https://localhost:8080/"
        }
      },
      "execution_count": null,
      "outputs": [
        {
          "output_type": "execute_result",
          "data": {
            "text/plain": [
              "array([2.62022653e+00, 4.52593227e+00, 7.18638172e-04, 1.89961158e+00,\n",
              "       9.22094457e-01, 5.80180502e-01, 1.17030742e+00, 2.17122208e+00,\n",
              "       2.49296356e+00])"
            ]
          },
          "metadata": {},
          "execution_count": 20
        }
      ]
    },
    {
      "cell_type": "code",
      "source": [
        "callback = build_callback(ansatz, hamiltonian, estimator, callback_dict)\n",
        "res = minimize(\n",
        "  cost_func_vqe,\n",
        "  x0,\n",
        "  args=(ansatz, hamiltonian, estimator),\n",
        "  method=\"SLSQP\",\n",
        "  callback=callback,\n",
        ")"
      ],
      "metadata": {
        "colab": {
          "base_uri": "https://localhost:8080/"
        },
        "id": "QrUvUrl5-x0W",
        "outputId": "0715c3c3-559a-408e-918a-2603ff3d08a9"
      },
      "execution_count": null,
      "outputs": [
        {
          "output_type": "stream",
          "name": "stdout",
          "text": []
        }
      ]
    },
    {
      "cell_type": "code",
      "source": [
        "res"
      ],
      "metadata": {
        "colab": {
          "base_uri": "https://localhost:8080/"
        },
        "id": "nrAglRWo-xx1",
        "outputId": "a17af1a7-3e29-40ac-84c6-c39df9638a5c"
      },
      "execution_count": null,
      "outputs": [
        {
          "output_type": "execute_result",
          "data": {
            "text/plain": [
              " message: Optimization terminated successfully\n",
              " success: True\n",
              "  status: 0\n",
              "     fun: -5.897229043538905\n",
              "       x: [-4.799e-01  1.296e+01  3.976e-01 -6.763e+00  1.571e+00\n",
              "            4.614e-04 -1.571e+00  7.090e-04  1.570e+00]\n",
              "     nit: 26\n",
              "     jac: [-2.710e-04 -2.074e-04  1.441e-04 -7.761e-05  1.005e-04\n",
              "            1.032e-04  1.562e-05  1.583e-04  4.566e-05]\n",
              "    nfev: 262\n",
              "    njev: 26"
            ]
          },
          "metadata": {},
          "execution_count": 22
        }
      ]
    },
    {
      "cell_type": "code",
      "source": [
        "fig, ax = plt.subplots()\n",
        "ax.plot(range(callback_dict[\"iters\"]), callback_dict[\"cost_history\"])\n",
        "ax.set_xlabel(\"Iterations\")\n",
        "ax.set_ylabel(\"Cost\")\n",
        "plt.draw()"
      ],
      "metadata": {
        "colab": {
          "base_uri": "https://localhost:8080/"
        },
        "id": "Lc35_4Ua-xvO",
        "outputId": "a9bc89e6-8a1e-4799-88e7-db55ec7ae851"
      },
      "execution_count": null,
      "outputs": [
        {
          "output_type": "display_data",
          "data": {
            "text/plain": [
              "<Figure size 640x480 with 1 Axes>"
            ],
            "image/png": "[encoded data removed]"
          },
          "metadata": {}
        }
      ]
    },
    {
      "cell_type": "code",
      "source": [
        "callback_dict = {\n",
        "    \"prev_vector\": None,\n",
        "    \"iters\": 0,\n",
        "    \"cost_history\": [],\n",
        "}\n",
        "\n",
        "np.random.seed(1)\n",
        "x0 = 2 * np.pi * np.random.random(9)\n",
        "\n",
        "x0"
      ],
      "metadata": {
        "id": "jNjnRE8iVjAQ",
        "outputId": "2d9a3d69-c541-40fe-e1bc-a4efc98adff1",
        "colab": {
          "base_uri": "https://localhost:8080/"
        }
      },
      "execution_count": null,
      "outputs": [
        {
          "output_type": "execute_result",
          "data": {
            "text/plain": [
              "array([2.62022653e+00, 4.52593227e+00, 7.18638172e-04, 1.89961158e+00,\n",
              "       9.22094457e-01, 5.80180502e-01, 1.17030742e+00, 2.17122208e+00,\n",
              "       2.49296356e+00])"
            ]
          },
          "metadata": {},
          "execution_count": 24
        }
      ]
    },
    {
      "cell_type": "code",
      "source": [
        "callback = build_callback(ansatz, hamiltonian, estimator, callback_dict)\n",
        "res = minimize(\n",
        "  cost_func_vqe,\n",
        "  x0,\n",
        "  args=(ansatz, hamiltonian, estimator),\n",
        "  method=\"BFGS\",\n",
        "  callback=callback,\n",
        ")"
      ],
      "metadata": {
        "colab": {
          "base_uri": "https://localhost:8080/"
        },
        "id": "5Io-qjDm-xse",
        "outputId": "fcf507b9-2c32-4246-b22d-d1fb49009e58"
      },
      "execution_count": null,
      "outputs": [
        {
          "output_type": "stream",
          "name": "stdout",
          "text": []
        }
      ]
    },
    {
      "cell_type": "code",
      "source": [
        "res"
      ],
      "metadata": {
        "colab": {
          "base_uri": "https://localhost:8080/"
        },
        "id": "2qADZIJl-xpv",
        "outputId": "792b83d5-073c-40d8-cfe0-6f3ad6eb9af8"
      },
      "execution_count": null,
      "outputs": [
        {
          "output_type": "execute_result",
          "data": {
            "text/plain": [
              "  message: Optimization terminated successfully.\n",
              "  success: True\n",
              "   status: 0\n",
              "      fun: -5.8972291332413995\n",
              "        x: [ 4.797e-01 -3.975e-01  6.681e+00  5.803e+00 -4.712e+00\n",
              "             3.142e+00  1.571e+00 -1.721e-05  1.571e+00]\n",
              "      nit: 28\n",
              "      jac: [ 8.702e-06 -5.484e-06 -6.437e-06  4.053e-06  4.768e-07\n",
              "            -3.338e-06 -5.245e-06 -2.384e-06  2.146e-06]\n",
              " hess_inv: [[ 4.495e-01  2.533e-02 ...  4.487e-02 -1.532e-01]\n",
              "            [ 2.533e-02  4.622e-01 ... -7.152e-02  1.585e-01]\n",
              "            ...\n",
              "            [ 4.487e-02 -7.152e-02 ...  6.177e+00 -5.512e+00]\n",
              "            [-1.532e-01  1.585e-01 ... -5.512e+00  6.966e+00]]\n",
              "     nfev: 340\n",
              "     njev: 34"
            ]
          },
          "metadata": {},
          "execution_count": 26
        }
      ]
    },
    {
      "cell_type": "code",
      "source": [
        "fig, ax = plt.subplots()\n",
        "ax.plot(range(callback_dict[\"iters\"]), callback_dict[\"cost_history\"])\n",
        "ax.set_xlabel(\"Iterations\")\n",
        "ax.set_ylabel(\"Cost\")\n",
        "plt.draw()"
      ],
      "metadata": {
        "colab": {
          "base_uri": "https://localhost:8080/"
        },
        "id": "ABWxbu4J-xm-",
        "outputId": "eb73a22a-44eb-4bde-cb9e-ef4ee580c76c"
      },
      "execution_count": null,
      "outputs": [
        {
          "output_type": "display_data",
          "data": {
            "text/plain": [
              "<Figure size 640x480 with 1 Axes>"
            ],
            "image/png": "[encoded data removed]"
          },
          "metadata": {}
        }
      ]
    },
    {
      "cell_type": "markdown",
      "source": [
        "## Finding Seed of np.random.seed"
      ],
      "metadata": {
        "id": "8M8wfGCy_Pj5"
      }
    },
    {
      "cell_type": "code",
      "source": [
        "local_minimum_list = []\n",
        "seed_list = []\n",
        "k = 0\n",
        "\n",
        "while (len(seed_list)<120) :\n",
        "\n",
        "  callback_dict = {\n",
        "    \"prev_vector\": None,\n",
        "    \"iters\": 0,\n",
        "    \"cost_history\": [],\n",
        "  }\n",
        "\n",
        "  np.random.seed(k)\n",
        "  x0 = 2 * np.pi * np.random.random(9)\n",
        "\n",
        "  callback = build_callback(ansatz, hamiltonian, estimator, callback_dict)\n",
        "\n",
        "  options = dict()\n",
        "  options[\"maxiter\"] = 400\n",
        "  options[\"disp\"] = True\n",
        "\n",
        "  res = minimize(\n",
        "    cost_func_vqe,\n",
        "    x0,\n",
        "    args=(ansatz, hamiltonian, estimator),\n",
        "    method=\"cobyla\",\n",
        "    callback=callback,\n",
        "    options=options\n",
        "  )\n",
        "\n",
        "  local_minimum_dict = callback_dict[\"cost_history\"]\n",
        "  local_minimum_list.append(local_minimum_dict[-1])\n",
        "\n",
        "  if local_minimum_dict[-1] < -5 :\n",
        "    seed_list.append(k)\n",
        "\n",
        "  k = k + 1\n",
        "\n",
        "\n",
        "local_minimum_list = np.array(local_minimum_list)\n",
        "seed_list = np.array(seed_list)"
      ],
      "metadata": {
        "colab": {
          "base_uri": "https://localhost:8080/"
        },
        "id": "Omx12cth_XfI",
        "outputId": "1b044e16-fb7b-4f1f-866b-a0e3e298342e"
      },
      "execution_count": null,
      "outputs": [
        {
          "output_type": "stream",
          "name": "stdout",
          "text": []
        }
      ]
    },
    {
      "cell_type": "code",
      "source": [
        "local_minimum_list"
      ],
      "metadata": {
        "colab": {
          "base_uri": "https://localhost:8080/"
        },
        "id": "PPS53ID4A6Ln",
        "outputId": "bc5e799d-1ec8-4c0d-bae7-22aa519f829f"
      },
      "execution_count": null,
      "outputs": [
        {
          "output_type": "execute_result",
          "data": {
            "text/plain": [
              "array([-3.64352019, -5.82879886, -3.64352019, -3.64352019, -5.89649831,\n",
              "       -5.89460313, -5.87216999, -5.89714665, -5.8970116 , -3.64352019,\n",
              "       -5.82318112, -5.88723766, -5.87906279, -5.89633351, -5.89712631,\n",
              "       -5.89706667, -3.64352018, -5.89640049, -5.89686096, -5.84344741,\n",
              "       -5.89722894, -5.89514208, -3.64352019, -5.89722285, -5.89281514,\n",
              "       -5.8954058 , -3.64352018, -5.89660128, -5.89722463, -5.8262015 ,\n",
              "       -5.89560605, -5.83363386, -3.64352019, -3.64352019, -5.87957003,\n",
              "       -3.64352019, -5.82656423, -5.89196626, -5.82341307, -5.8972198 ,\n",
              "       -5.82579769, -5.89274968, -5.89058962, -5.89571965, -5.89121954,\n",
              "       -5.89066143, -5.89556185, -5.8294686 , -5.89500158, -5.88381387,\n",
              "       -3.64352019, -5.89720651, -5.86661138, -3.57102188, -3.00057907,\n",
              "       -5.89703354, -5.8971071 , -3.26759188, -3.64348142, -5.89488588,\n",
              "       -3.64351983, -5.88977925, -3.64208323, -5.89321505, -3.48455584,\n",
              "       -5.89655454, -5.89722776, -5.89703659, -5.8961525 , -5.89248345,\n",
              "       -5.89678098, -5.89358845, -3.64352019, -3.64352018, -5.82619791,\n",
              "       -5.88964449, -5.89599961, -5.89636862, -5.87624267, -3.64352018,\n",
              "       -3.64352019, -5.89717557, -3.64352019, -3.49885124, -3.64352019,\n",
              "       -3.61958171, -5.89514411, -5.83231881, -3.64352019, -3.64352019,\n",
              "       -5.89722489, -3.6435202 , -3.64352019, -5.89417956, -3.64352018,\n",
              "       -5.86522879, -5.89603463, -5.82299708, -3.64352018, -5.89690459,\n",
              "       -3.64352019, -5.89513546, -5.88945447, -5.89701515, -5.89144585,\n",
              "       -5.89279627, -5.89577581, -5.836521  , -5.88388422, -3.4930488 ,\n",
              "       -5.89711739, -5.84467668, -5.89351984, -5.89512836, -5.89677164,\n",
              "       -5.87800257, -5.88000114, -3.64352019, -5.83970428, -5.88410124,\n",
              "       -3.64352018, -5.86785946, -3.64352019, -3.50030344, -5.8962536 ,\n",
              "       -5.89717338, -5.84988649, -5.892418  , -5.88143104, -3.64352019,\n",
              "       -4.61751404, -5.89473968, -5.89702307, -5.85915542, -3.64352019,\n",
              "       -5.89705331, -5.89717653, -5.89196071, -5.89641764, -5.88954192,\n",
              "       -5.89643247, -5.87526326, -5.87665054, -3.64352018, -5.89114796,\n",
              "       -3.64352019, -3.61644449, -5.89216479, -5.89659767, -5.82367041,\n",
              "       -5.89716998, -5.87167894, -5.89713761, -3.64316007, -5.89381185,\n",
              "       -5.84994722, -3.64352018, -5.87792315, -3.6435189 , -3.64352018,\n",
              "       -3.64352019, -3.64352019, -5.84570272, -3.64352019, -3.4977149 ,\n",
              "       -5.89480458, -5.8589973 , -3.64352019, -3.56015325, -5.8952731 ,\n",
              "       -3.64352019, -5.89601665, -5.88907325, -3.5040473 , -5.89514313,\n",
              "       -3.64352019, -3.64352018, -5.89343759])"
            ]
          },
          "metadata": {},
          "execution_count": 29
        }
      ]
    },
    {
      "cell_type": "code",
      "source": [
        "seed_list"
      ],
      "metadata": {
        "colab": {
          "base_uri": "https://localhost:8080/"
        },
        "id": "6FDN7Lu_A5zX",
        "outputId": "6d57b151-90fb-42bd-be79-ba0bb9c20f8e"
      },
      "execution_count": null,
      "outputs": [
        {
          "output_type": "execute_result",
          "data": {
            "text/plain": [
              "array([  1,   4,   5,   6,   7,   8,  10,  11,  12,  13,  14,  15,  17,\n",
              "        18,  19,  20,  21,  23,  24,  25,  27,  28,  29,  30,  31,  34,\n",
              "        36,  37,  38,  39,  40,  41,  42,  43,  44,  45,  46,  47,  48,\n",
              "        49,  51,  52,  55,  56,  59,  61,  63,  65,  66,  67,  68,  69,\n",
              "        70,  71,  74,  75,  76,  77,  78,  81,  86,  87,  90,  93,  95,\n",
              "        96,  97,  99, 101, 102, 103, 104, 105, 106, 107, 108, 110, 111,\n",
              "       112, 113, 114, 115, 116, 118, 119, 121, 124, 125, 126, 127, 128,\n",
              "       131, 132, 133, 135, 136, 137, 138, 139, 140, 141, 142, 144, 147,\n",
              "       148, 149, 150, 151, 152, 154, 155, 157, 162, 165, 166, 169, 171,\n",
              "       172, 174, 177])"
            ]
          },
          "metadata": {},
          "execution_count": 30
        }
      ]
    },
    {
      "cell_type": "markdown",
      "source": [
        "# VQE in Noisy Simulator (Trial)\n",
        "\n",
        "scipy minimize method trial (\"cobyla\", \"bfsd\", \"slsqp\")"
      ],
      "metadata": {
        "id": "WfhzQg3PCqTU"
      }
    },
    {
      "cell_type": "markdown",
      "source": [
        "## Function Definition"
      ],
      "metadata": {
        "id": "VscAJ2CtCqTk"
      }
    },
    {
      "cell_type": "code",
      "source": [
        "from qiskit.circuit import QuantumCircuit, QuantumRegister, Parameter\n",
        "from qiskit.visualization import plot_histogram\n",
        "from qiskit.quantum_info import SparsePauliOp\n",
        "from qiskit.circuit import ParameterVector\n",
        "from qiskit_aer.primitives import Estimator\n",
        "\n",
        "import numpy as np\n",
        "from scipy.optimize import minimize\n",
        "import matplotlib.pyplot as plt\n",
        "\n",
        "# Import from Qiskit Aer noise module\n",
        "from qiskit_aer.noise import (\n",
        "    NoiseModel,\n",
        "    QuantumError,\n",
        "    ReadoutError,\n",
        "    depolarizing_error,\n",
        "    pauli_error,\n",
        "    thermal_relaxation_error,\n",
        ")"
      ],
      "metadata": {
        "id": "rDaiPP25CqTk"
      },
      "execution_count": null,
      "outputs": []
    },
    {
      "cell_type": "code",
      "source": [
        "# Instantiate the system Hamiltonian\n",
        "interation = 1\n",
        "bias = -1\n",
        "\n",
        "coeff_list = [interation for _ in range(4)] + [bias for _ in range(5)]\n",
        "operator_list = [\"ZZIII\", \"IZZII\", \"IIZZI\", \"IIIZZ\", \"XIIII\", \"IXIII\", \"IIXII\", \"IIIXI\", \"IIIIX\"]\n",
        "hamiltonian_list = []\n",
        "for i in range(9):\n",
        "  hamiltonian_list.append((operator_list[i], coeff_list[i]))\n",
        "hamiltonian = SparsePauliOp.from_list(hamiltonian_list)"
      ],
      "metadata": {
        "id": "I1WUYRxECqTl"
      },
      "execution_count": null,
      "outputs": []
    },
    {
      "cell_type": "code",
      "source": [
        "# Ansatz\n",
        "\n",
        "ansatz = QuantumCircuit(5)\n",
        "params = ParameterVector(\"theta\", length=9)\n",
        "it = iter(params)\n",
        "ansatz.h(range(0,5))\n",
        "\n",
        "ansatz.barrier()\n",
        "\n",
        "ansatz.cx(0, 1)\n",
        "ansatz.cx(2, 3)\n",
        "ansatz.rz(next(it), 1)\n",
        "ansatz.rz(next(it), 3)\n",
        "ansatz.cx(0, 1)\n",
        "ansatz.cx(2, 3)\n",
        "ansatz.cx(1, 2)\n",
        "ansatz.cx(3, 4)\n",
        "ansatz.rz(next(it), 2)\n",
        "ansatz.rz(next(it), 4)\n",
        "ansatz.cx(1, 2)\n",
        "ansatz.cx(3, 4)\n",
        "\n",
        "ansatz.barrier()\n",
        "\n",
        "ansatz.rx(next(it), 0)\n",
        "ansatz.rx(next(it), 1)\n",
        "ansatz.rx(next(it), 2)\n",
        "ansatz.rx(next(it), 3)\n",
        "ansatz.rx(next(it), 4)\n",
        "\n",
        "ansatz.draw(\"mpl\")"
      ],
      "metadata": {
        "outputId": "75c1ac60-58f4-4bee-d147-70fc5f90cc54",
        "colab": {
          "base_uri": "https://localhost:8080/"
        },
        "id": "42jLcycaCqTl"
      },
      "execution_count": null,
      "outputs": [
        {
          "output_type": "execute_result",
          "data": {
            "text/plain": [
              "<Figure size 956.385x451.5 with 1 Axes>"
            ],
            "image/png": "[encoded data removed]"
          },
          "metadata": {},
          "execution_count": 33
        }
      ]
    },
    {
      "cell_type": "code",
      "source": [
        "noise_model = NoiseModel()\n",
        "\n",
        "# Example error probabilities\n",
        "p_reset = 0.03\n",
        "p_meas = 0.1\n",
        "p_gate1 = 0.05\n",
        "cx_depolarizing_prob = 0.02\n",
        "\n",
        "\n",
        "# QuantumError objects\n",
        "error_reset = pauli_error([('X', p_reset), ('I', 1 - p_reset)])\n",
        "error_meas = pauli_error([('X',p_meas), ('I', 1 - p_meas)])\n",
        "error_gate1 = pauli_error([('X',p_gate1), ('I', 1 - p_gate1)])\n",
        "error_gate2 = error_gate1.tensor(error_gate1)\n",
        "\n",
        "noise_model.add_all_qubit_quantum_error(error_reset, \"reset\")\n",
        "noise_model.add_all_qubit_quantum_error(error_meas, \"measure\")\n",
        "noise_model.add_all_qubit_quantum_error(error_gate1, [\"u1\", \"u2\", \"u3\"])\n",
        "noise_model.add_all_qubit_quantum_error(error_gate2, [\"cx\"])\n",
        "noise_model.add_all_qubit_quantum_error(depolarizing_error(cx_depolarizing_prob, 2), [\"cx\"])\n",
        "\n",
        "\n",
        "estimator = Estimator(backend_options={\"noise_model\": noise_model}, skip_transpilation=True)\n",
        "\n",
        "print(noise_model)"
      ],
      "metadata": {
        "colab": {
          "base_uri": "https://localhost:8080/"
        },
        "id": "Yym2umjKneTs",
        "outputId": "71be9426-0491-46fd-c1c1-99585f63f77a"
      },
      "execution_count": null,
      "outputs": [
        {
          "output_type": "stream",
          "name": "stderr",
          "text": [
            "WARNING:qiskit_aer.noise.noise_model:WARNING: all-qubit error already exists for instruction \"cx\", composing with additional error.\n"
          ]
        },
        {
          "output_type": "stream",
          "name": "stdout",
          "text": [
            "NoiseModel:\n",
            "  Basis gates: ['cx', 'id', 'rz', 'sx', 'u1', 'u2', 'u3']\n",
            "  Instructions with noise: ['u3', 'cx', 'measure', 'u1', 'reset', 'u2']\n",
            "  All-qubits errors: ['reset', 'measure', 'u1', 'u2', 'u3', 'cx']\n"
          ]
        }
      ]
    },
    {
      "cell_type": "code",
      "source": [
        "def cost_func_vqe(params, ansatz, hamiltonian, estimator):\n",
        "    cost = estimator.run(ansatz, hamiltonian, parameter_values=params).result()\n",
        "    return cost.values[0]"
      ],
      "metadata": {
        "id": "NcaL4PZ7CqTl"
      },
      "execution_count": null,
      "outputs": []
    },
    {
      "cell_type": "code",
      "source": [
        "def build_callback(ansatz, hamiltonian, estimator, callback_dict):\n",
        "  def callback(current_vector):\n",
        "    callback_dict[\"iters\"] += 1\n",
        "    callback_dict[\"prev_vector\"] = current_vector\n",
        "    current_cost = cost_func_vqe(current_vector, ansatz, hamiltonian, estimator)\n",
        "\n",
        "    callback_dict[\"cost_history\"].append(current_cost)\n",
        "\n",
        "    print(\n",
        "      \"Iters. done: {} [Current cost: {}]\".format(callback_dict[\"iters\"], current_cost),\n",
        "      end=\"\\r\",\n",
        "      flush=True,\n",
        "    )\n",
        "\n",
        "  return callback"
      ],
      "metadata": {
        "id": "3067SIwuCqTm"
      },
      "execution_count": null,
      "outputs": []
    },
    {
      "cell_type": "markdown",
      "source": [
        "## Minimizing Method Trial\n",
        "\n",
        "COBYLA, SLSQP, BFGS"
      ],
      "metadata": {
        "id": "TI3b6_gbCqTm"
      }
    },
    {
      "cell_type": "code",
      "source": [
        "callback_dict = {\n",
        "    \"prev_vector\": None,\n",
        "    \"iters\": 0,\n",
        "    \"cost_history\": [],\n",
        "}\n",
        "\n",
        "np.random.seed(5)\n",
        "x0 = 2 * np.pi * np.random.random(9)\n",
        "\n",
        "x0"
      ],
      "metadata": {
        "colab": {
          "base_uri": "https://localhost:8080/"
        },
        "outputId": "75c49180-c6b2-4da1-b500-fa50f4d0b825",
        "id": "QCNtUQ4rCqTm"
      },
      "execution_count": null,
      "outputs": [
        {
          "output_type": "execute_result",
          "data": {
            "text/plain": [
              "array([1.39482423, 5.47097243, 1.29885476, 5.77180256, 3.06877801,\n",
              "       3.84370005, 4.81234099, 3.25731628, 1.86485255])"
            ]
          },
          "metadata": {},
          "execution_count": 37
        }
      ]
    },
    {
      "cell_type": "code",
      "source": [
        "callback = build_callback(ansatz, hamiltonian, estimator, callback_dict)\n",
        "res = minimize(\n",
        "  cost_func_vqe,\n",
        "  x0,\n",
        "  args=(ansatz, hamiltonian, estimator),\n",
        "  method=\"cobyla\",\n",
        "  callback=callback,\n",
        ")"
      ],
      "metadata": {
        "outputId": "13d6e649-b66f-4b63-9c68-5a83f9ba6d72",
        "colab": {
          "base_uri": "https://localhost:8080/"
        },
        "id": "GXLbveKeCqTm"
      },
      "execution_count": null,
      "outputs": [
        {
          "output_type": "stream",
          "name": "stdout",
          "text": []
        }
      ]
    },
    {
      "cell_type": "code",
      "source": [
        "res"
      ],
      "metadata": {
        "colab": {
          "base_uri": "https://localhost:8080/"
        },
        "outputId": "9c51979e-c805-4901-d5f4-9b29919466a3",
        "id": "et-qu-ByCqTn"
      },
      "execution_count": null,
      "outputs": [
        {
          "output_type": "execute_result",
          "data": {
            "text/plain": [
              " message: Optimization terminated successfully.\n",
              " success: True\n",
              "  status: 1\n",
              "     fun: -3.833984375\n",
              "       x: [-1.772e-01  6.251e+00  4.286e-01  6.645e+00  2.471e+00\n",
              "            5.300e+00  5.802e+00  2.812e+00  1.528e+00]\n",
              "    nfev: 105\n",
              "   maxcv: 0.0"
            ]
          },
          "metadata": {},
          "execution_count": 39
        }
      ]
    },
    {
      "cell_type": "code",
      "source": [
        "fig, ax = plt.subplots()\n",
        "ax.plot(range(callback_dict[\"iters\"]), callback_dict[\"cost_history\"])\n",
        "ax.set_xlabel(\"Iterations\")\n",
        "ax.set_ylabel(\"Cost\")\n",
        "plt.draw()"
      ],
      "metadata": {
        "colab": {
          "base_uri": "https://localhost:8080/"
        },
        "outputId": "e7803ac8-d2c3-4ef2-ab00-b67758eaf67e",
        "id": "Et5hyxADCqTn"
      },
      "execution_count": null,
      "outputs": [
        {
          "output_type": "display_data",
          "data": {
            "text/plain": [
              "<Figure size 640x480 with 1 Axes>"
            ],
            "image/png": "[encoded data removed]"
          },
          "metadata": {}
        }
      ]
    },
    {
      "cell_type": "code",
      "source": [
        "callback_dict = {\n",
        "    \"prev_vector\": None,\n",
        "    \"iters\": 0,\n",
        "    \"cost_history\": [],\n",
        "}\n",
        "\n",
        "np.random.seed(1)\n",
        "x0 = 2 * np.pi * np.random.random(9)\n",
        "\n",
        "x0"
      ],
      "metadata": {
        "outputId": "7e721985-d3af-4dfc-fe29-fd261ac9c592",
        "colab": {
          "base_uri": "https://localhost:8080/"
        },
        "id": "u1cTZsT_CqTn"
      },
      "execution_count": null,
      "outputs": [
        {
          "output_type": "execute_result",
          "data": {
            "text/plain": [
              "array([2.62022653e+00, 4.52593227e+00, 7.18638172e-04, 1.89961158e+00,\n",
              "       9.22094457e-01, 5.80180502e-01, 1.17030742e+00, 2.17122208e+00,\n",
              "       2.49296356e+00])"
            ]
          },
          "metadata": {},
          "execution_count": 41
        }
      ]
    },
    {
      "cell_type": "code",
      "source": [
        "callback = build_callback(ansatz, hamiltonian, estimator, callback_dict)\n",
        "res = minimize(\n",
        "  cost_func_vqe,\n",
        "  x0,\n",
        "  args=(ansatz, hamiltonian, estimator),\n",
        "  method=\"SLSQP\",\n",
        "  callback=callback,\n",
        ")"
      ],
      "metadata": {
        "colab": {
          "base_uri": "https://localhost:8080/"
        },
        "outputId": "6c7a4a52-85cf-4d0e-e7e9-5d2178acea8e",
        "id": "_2znnR0aCqTo"
      },
      "execution_count": null,
      "outputs": [
        {
          "output_type": "stream",
          "name": "stdout",
          "text": []
        }
      ]
    },
    {
      "cell_type": "code",
      "source": [
        "res"
      ],
      "metadata": {
        "colab": {
          "base_uri": "https://localhost:8080/"
        },
        "outputId": "26536882-100c-49e3-9230-62ec0f0cacb0",
        "id": "8pfFKqcuCqTo"
      },
      "execution_count": null,
      "outputs": [
        {
          "output_type": "execute_result",
          "data": {
            "text/plain": [
              " message: Optimization terminated successfully\n",
              " success: True\n",
              "  status: 0\n",
              "     fun: -0.490234375\n",
              "       x: [-7.691e+05  9.834e+06  1.536e+07 -5.090e+06 -1.904e+07\n",
              "            3.058e+07  2.420e+07 -1.903e+07  1.292e+07]\n",
              "     nit: 46\n",
              "     jac: [ 1.717e+07  7.602e+06  1.075e+07  1.363e+07  1.337e+07\n",
              "            1.206e+07  1.901e+07  1.049e+07  1.835e+06]\n",
              "    nfev: 921\n",
              "    njev: 46"
            ]
          },
          "metadata": {},
          "execution_count": 43
        }
      ]
    },
    {
      "cell_type": "code",
      "source": [
        "fig, ax = plt.subplots()\n",
        "ax.plot(range(callback_dict[\"iters\"]), callback_dict[\"cost_history\"])\n",
        "ax.set_xlabel(\"Iterations\")\n",
        "ax.set_ylabel(\"Cost\")\n",
        "plt.draw()"
      ],
      "metadata": {
        "colab": {
          "base_uri": "https://localhost:8080/"
        },
        "outputId": "981450b4-99cc-480a-f874-9316aabfd664",
        "id": "Jga1_SRvCqTo"
      },
      "execution_count": null,
      "outputs": [
        {
          "output_type": "display_data",
          "data": {
            "text/plain": [
              "<Figure size 640x480 with 1 Axes>"
            ],
            "image/png": "[encoded data removed]"
          },
          "metadata": {}
        }
      ]
    },
    {
      "cell_type": "code",
      "source": [
        "callback_dict = {\n",
        "    \"prev_vector\": None,\n",
        "    \"iters\": 0,\n",
        "    \"cost_history\": [],\n",
        "}\n",
        "\n",
        "np.random.seed(1)\n",
        "x0 = 2 * np.pi * np.random.random(9)\n",
        "\n",
        "x0"
      ],
      "metadata": {
        "outputId": "310fa3dc-3cfc-4b3c-deb2-439fdfb662a3",
        "colab": {
          "base_uri": "https://localhost:8080/"
        },
        "id": "ulcDk_aTCqTo"
      },
      "execution_count": null,
      "outputs": [
        {
          "output_type": "execute_result",
          "data": {
            "text/plain": [
              "array([2.62022653e+00, 4.52593227e+00, 7.18638172e-04, 1.89961158e+00,\n",
              "       9.22094457e-01, 5.80180502e-01, 1.17030742e+00, 2.17122208e+00,\n",
              "       2.49296356e+00])"
            ]
          },
          "metadata": {},
          "execution_count": 45
        }
      ]
    },
    {
      "cell_type": "code",
      "source": [
        "callback = build_callback(ansatz, hamiltonian, estimator, callback_dict)\n",
        "res = minimize(\n",
        "  cost_func_vqe,\n",
        "  x0,\n",
        "  args=(ansatz, hamiltonian, estimator),\n",
        "  method=\"BFGS\",\n",
        "  callback=callback,\n",
        ")"
      ],
      "metadata": {
        "colab": {
          "base_uri": "https://localhost:8080/"
        },
        "outputId": "dc153044-624d-4268-df7f-2aeaf507f389",
        "id": "RQAJILMKCqTp"
      },
      "execution_count": null,
      "outputs": [
        {
          "output_type": "stream",
          "name": "stdout",
          "text": [
            "Iters. done: 1 [Current cost: 1.951171875]\r"
          ]
        }
      ]
    },
    {
      "cell_type": "code",
      "source": [
        "res"
      ],
      "metadata": {
        "colab": {
          "base_uri": "https://localhost:8080/"
        },
        "outputId": "fd9066dc-6725-4264-f136-fd15d8a86820",
        "id": "yQJvT2dwCqTp"
      },
      "execution_count": null,
      "outputs": [
        {
          "output_type": "execute_result",
          "data": {
            "text/plain": [
              "  message: Desired error not necessarily achieved due to precision loss.\n",
              "  success: False\n",
              "   status: 2\n",
              "      fun: 1.837890625\n",
              "        x: [ 2.620e+00  4.526e+00  7.186e-04  1.900e+00  9.221e-01\n",
              "             5.802e-01  1.170e+00  2.171e+00  2.493e+00]\n",
              "      nit: 1\n",
              "      jac: [ 5.898e+06 -7.995e+06  1.324e+07  7.340e+06  3.932e+06\n",
              "             4.063e+06 -1.835e+06 -9.961e+06  1.704e+06]\n",
              " hess_inv: [[ 1.219e+00 -9.976e-03 ...  1.791e-02  1.384e-01]\n",
              "            [-9.976e-03  7.765e-01 ... -3.035e-01 -6.494e-02]\n",
              "            ...\n",
              "            [ 1.791e-02 -3.035e-01 ...  5.923e-01 -6.794e-02]\n",
              "            [ 1.384e-01 -6.494e-02 ... -6.794e-02  1.072e+00]]\n",
              "     nfev: 221\n",
              "     njev: 21"
            ]
          },
          "metadata": {},
          "execution_count": 47
        }
      ]
    },
    {
      "cell_type": "code",
      "source": [
        "fig, ax = plt.subplots()\n",
        "ax.plot(range(callback_dict[\"iters\"]), callback_dict[\"cost_history\"])\n",
        "ax.set_xlabel(\"Iterations\")\n",
        "ax.set_ylabel(\"Cost\")\n",
        "plt.draw()"
      ],
      "metadata": {
        "colab": {
          "base_uri": "https://localhost:8080/"
        },
        "outputId": "cfe1a000-1090-4db2-c27a-974c695c851e",
        "id": "8Oihe4XYCqTp"
      },
      "execution_count": null,
      "outputs": [
        {
          "output_type": "display_data",
          "data": {
            "text/plain": [
              "<Figure size 640x480 with 1 Axes>"
            ],
            "image/png": "[encoded data removed]"
          },
          "metadata": {}
        }
      ]
    },
    {
      "cell_type": "markdown",
      "source": [
        "# VQE in Noisy Simulator (Various types of error)\n",
        "\n",
        "scipy minimize method \"cobyla\""
      ],
      "metadata": {
        "id": "5H0hTHhSFjKV"
      }
    },
    {
      "cell_type": "markdown",
      "source": [
        "## Function Setting"
      ],
      "metadata": {
        "id": "LE_cJDJqLLeq"
      }
    },
    {
      "cell_type": "code",
      "source": [
        "from qiskit.circuit import QuantumCircuit, QuantumRegister, Parameter\n",
        "from qiskit.visualization import plot_histogram\n",
        "from qiskit.quantum_info import SparsePauliOp\n",
        "from qiskit.circuit import ParameterVector\n",
        "from qiskit_aer.primitives import Estimator\n",
        "\n",
        "import numpy as np\n",
        "from scipy.optimize import minimize\n",
        "import matplotlib.pyplot as plt\n",
        "\n",
        "# Import from Qiskit Aer noise module\n",
        "from qiskit_aer.noise import (\n",
        "    NoiseModel,\n",
        "    QuantumError,\n",
        "    ReadoutError,\n",
        "    depolarizing_error,\n",
        "    pauli_error,\n",
        "    thermal_relaxation_error,\n",
        ")"
      ],
      "metadata": {
        "id": "LkL3pqVyLPJE"
      },
      "execution_count": 7,
      "outputs": []
    },
    {
      "cell_type": "code",
      "source": [
        "# Instantiate the system Hamiltonian\n",
        "interation = 1\n",
        "bias = -1\n",
        "\n",
        "coeff_list = [interation for _ in range(4)] + [bias for _ in range(5)]\n",
        "operator_list = [\"ZZIII\", \"IZZII\", \"IIZZI\", \"IIIZZ\", \"XIIII\", \"IXIII\", \"IIXII\", \"IIIXI\", \"IIIIX\"]\n",
        "hamiltonian_list = []\n",
        "for i in range(9):\n",
        "  hamiltonian_list.append((operator_list[i], coeff_list[i]))\n",
        "hamiltonian = SparsePauliOp.from_list(hamiltonian_list)"
      ],
      "metadata": {
        "id": "zK6fuZ3-LPGf"
      },
      "execution_count": 8,
      "outputs": []
    },
    {
      "cell_type": "code",
      "source": [
        "# Ansatz\n",
        "\n",
        "ansatz = QuantumCircuit(5)\n",
        "params = ParameterVector(\"theta\", length=9)\n",
        "it = iter(params)\n",
        "ansatz.h(range(0,5))\n",
        "\n",
        "ansatz.barrier()\n",
        "\n",
        "ansatz.cx(0, 1)\n",
        "ansatz.cx(2, 3)\n",
        "ansatz.rz(next(it), 1)\n",
        "ansatz.rz(next(it), 3)\n",
        "ansatz.cx(0, 1)\n",
        "ansatz.cx(2, 3)\n",
        "ansatz.cx(1, 2)\n",
        "ansatz.cx(3, 4)\n",
        "ansatz.rz(next(it), 2)\n",
        "ansatz.rz(next(it), 4)\n",
        "ansatz.cx(1, 2)\n",
        "ansatz.cx(3, 4)\n",
        "\n",
        "ansatz.barrier()\n",
        "\n",
        "ansatz.rx(next(it), 0)\n",
        "ansatz.rx(next(it), 1)\n",
        "ansatz.rx(next(it), 2)\n",
        "ansatz.rx(next(it), 3)\n",
        "ansatz.rx(next(it), 4)\n",
        "\n",
        "ansatz.draw(\"mpl\")"
      ],
      "metadata": {
        "colab": {
          "base_uri": "https://localhost:8080/",
          "height": 384
        },
        "id": "JtIzciKXLPDw",
        "outputId": "2060bc51-975f-481a-b3a4-2733f2f270ae"
      },
      "execution_count": 9,
      "outputs": [
        {
          "output_type": "execute_result",
          "data": {
            "text/plain": [
              "<Figure size 956.385x451.5 with 1 Axes>"
            ],
            "image/png": "[encoded data removed]"
          },
          "metadata": {},
          "execution_count": 9
        }
      ]
    },
    {
      "cell_type": "code",
      "source": [
        "service = QiskitRuntimeService()\n",
        "backend = service.backend(\"ibmq_qasm_simulator\")"
      ],
      "metadata": {
        "id": "xOGdJ6UUL8K6"
      },
      "execution_count": 10,
      "outputs": []
    },
    {
      "cell_type": "code",
      "source": [
        "seed_list = [1,   4,   5,   6,   7,   8,  10,  11,  12,  13,\n",
        "14,  15,  17,  18,  19,  20,  21,  23,  24,  25,\n",
        "27,  28,  29,  30,  31,  34,  36,  38,  39,  40,\n",
        "41,  42,  43,  45,  46,  47,  48,  49,  51,  52,\n",
        "55,  59,  61,  63,  65,  66,  67,  68,  70,  71,\n",
        "74,  75,  76,  77,  78,  81,  86,  87,  90,  93,\n",
        "95,  96,  97,  101, 102, 103, 104, 105, 106, 107,\n",
        "112, 113, 114, 116, 118, 121, 124, 126, 127, 128,\n",
        "132, 133, 135, 136, 137, 138, 139, 140, 141, 142,\n",
        "144, 147, 148, 149, 150, 151, 152, 154, 155, 162,\n",
        "165, 166, 169, 171, 172, 174]"
      ],
      "metadata": {
        "id": "lAJbJEf9JvxJ"
      },
      "execution_count": 11,
      "outputs": []
    },
    {
      "cell_type": "markdown",
      "source": [
        "## Ideal Simulator"
      ],
      "metadata": {
        "id": "W-2AcOQYFjKh"
      }
    },
    {
      "cell_type": "code",
      "source": [
        "noise_model = NoiseModel()\n",
        "\n",
        "estimator = Estimator(backend_options={\"noise_model\": noise_model}, skip_transpilation=True)"
      ],
      "metadata": {
        "id": "EkBUkDurFjKi"
      },
      "execution_count": 12,
      "outputs": []
    },
    {
      "cell_type": "code",
      "source": [
        "def cost_func_vqe(params, ansatz, hamiltonian, estimator):\n",
        "    cost = estimator.run(ansatz, hamiltonian, parameter_values=params, shots=8000, seed=1).result()\n",
        "    return cost.values[0]\n",
        "\n",
        "\n",
        "def build_callback(ansatz, hamiltonian, estimator, callback_dict):\n",
        "  def callback(current_vector):\n",
        "    callback_dict[\"iters\"] += 1\n",
        "    callback_dict[\"prev_vector\"] = current_vector\n",
        "    current_cost = cost_func_vqe(current_vector, ansatz, hamiltonian, estimator)\n",
        "\n",
        "    callback_dict[\"cost_history\"].append(current_cost)\n",
        "\n",
        "    print(\n",
        "      \"Iters. done: {} [Current cost: {}]\".format(callback_dict[\"iters\"], current_cost),\n",
        "      end=\"\\r\",\n",
        "      flush=True,\n",
        "    )\n",
        "\n",
        "  return callback"
      ],
      "metadata": {
        "id": "AHwNwxiZFjKi"
      },
      "execution_count": 13,
      "outputs": []
    },
    {
      "cell_type": "code",
      "source": [
        "local_minimum_list = []\n",
        "\n",
        "for k in range(100):\n",
        "\n",
        "  callback_dict = {\n",
        "    \"prev_vector\": None,\n",
        "    \"iters\": 0,\n",
        "    \"cost_history\": [],\n",
        "  }\n",
        "\n",
        "  np.random.seed(seed_list[k])\n",
        "  x0 = 2 * np.pi * np.random.random(9)\n",
        "\n",
        "  callback = build_callback(ansatz, hamiltonian, estimator, callback_dict)\n",
        "\n",
        "  options = dict()\n",
        "  options[\"maxiter\"] = 4000\n",
        "  options[\"disp\"] = True\n",
        "\n",
        "  res = minimize(\n",
        "    cost_func_vqe,\n",
        "    x0,\n",
        "    args=(ansatz, hamiltonian, estimator),\n",
        "    method=\"cobyla\",\n",
        "    callback=callback,\n",
        "    options=options\n",
        "  )\n",
        "\n",
        "  local_minimum_dict = callback_dict[\"cost_history\"]\n",
        "  local_minimum_list.append(local_minimum_dict[-1])\n",
        "\n",
        "\n",
        "local_minimum_list = np.array(local_minimum_list)"
      ],
      "metadata": {
        "colab": {
          "base_uri": "https://localhost:8080/"
        },
        "id": "3cFZogBMFjKi",
        "outputId": "11f9e8db-43de-4aee-8ac0-cf30b85cfbb8"
      },
      "execution_count": 14,
      "outputs": [
        {
          "output_type": "stream",
          "name": "stdout",
          "text": []
        }
      ]
    },
    {
      "cell_type": "code",
      "source": [
        "mean_ideal = np.mean(local_minimum_list)\n",
        "var_ideal = np.var(local_minimum_list)\n",
        "max_ideal = np.max(local_minimum_list)\n",
        "min_ideal = np.min(local_minimum_list)\n",
        "\n",
        "print(\"mean : {0}\".format(mean_ideal))\n",
        "print(\"variance : {0}\".format(var_ideal))\n",
        "print(\"maximum : {0}\".format(max_ideal))\n",
        "print(\"minimum : {0}\".format(min_ideal))\n",
        "print()\n",
        "print(local_minimum_list)"
      ],
      "metadata": {
        "colab": {
          "base_uri": "https://localhost:8080/"
        },
        "id": "dDE6hhKQU1jg",
        "outputId": "2204043d-41e3-4e06-cf89-0973e226b48b"
      },
      "execution_count": 15,
      "outputs": [
        {
          "output_type": "stream",
          "name": "stdout",
          "text": [
            "mean : -5.7790824999999995\n",
            "variance : 0.008404233818749992\n",
            "maximum : -5.449750000000001\n",
            "minimum : -5.90325\n",
            "\n",
            "[-5.723   -5.86275 -5.71075 -5.82475 -5.86225 -5.87675 -5.7625  -5.84475\n",
            " -5.83475 -5.70975 -5.8365  -5.867   -5.8535  -5.75825 -5.688   -5.8685\n",
            " -5.66375 -5.864   -5.7965  -5.80675 -5.87375 -5.865   -5.809   -5.6275\n",
            " -5.637   -5.7915  -5.6225  -5.81875 -5.7755  -5.8245  -5.845   -5.719\n",
            " -5.855   -5.818   -5.82925 -5.46875 -5.86575 -5.645   -5.849   -5.68875\n",
            " -5.67775 -5.686   -5.79125 -5.69875 -5.666   -5.89375 -5.90325 -5.8385\n",
            " -5.6245  -5.818   -5.77925 -5.8205  -5.86575 -5.68725 -5.79275 -5.863\n",
            " -5.65575 -5.759   -5.88875 -5.7025  -5.65    -5.85575 -5.85125 -5.80325\n",
            " -5.7465  -5.794   -5.636   -5.576   -5.86925 -5.87575 -5.8055  -5.727\n",
            " -5.8785  -5.82125 -5.80275 -5.80125 -5.861   -5.76975 -5.77375 -5.71525\n",
            " -5.851   -5.791   -5.88625 -5.7815  -5.74225 -5.6115  -5.8355  -5.68225\n",
            " -5.89175 -5.81325 -5.44975 -5.872   -5.8725  -5.76    -5.82275 -5.81675\n",
            " -5.76625 -5.852   -5.7865  -5.75425]\n"
          ]
        }
      ]
    },
    {
      "cell_type": "code",
      "source": [
        "callback_dict = {\n",
        "    \"prev_vector\": None,\n",
        "    \"iters\": 0,\n",
        "    \"cost_history\": [],\n",
        "}\n",
        "\n",
        "np.random.seed(seed_list[72])\n",
        "x0 = 2 * np.pi * np.random.random(9)\n",
        "\n",
        "callback = build_callback(ansatz, hamiltonian, estimator, callback_dict)\n",
        "\n",
        "options = dict()\n",
        "options[\"maxiter\"] = 400\n",
        "options[\"disp\"] = True\n",
        "\n",
        "res = minimize(\n",
        "    cost_func_vqe,\n",
        "    x0,\n",
        "    args=(ansatz, hamiltonian, estimator),\n",
        "    method=\"cobyla\",\n",
        "    callback=callback,\n",
        "    options=options\n",
        ")"
      ],
      "metadata": {
        "id": "TbQeORpKbWd4",
        "outputId": "9ce8787a-3159-446d-a8b1-b24a71221f54",
        "colab": {
          "base_uri": "https://localhost:8080/"
        }
      },
      "execution_count": 16,
      "outputs": [
        {
          "output_type": "stream",
          "name": "stdout",
          "text": []
        }
      ]
    },
    {
      "cell_type": "code",
      "source": [
        "res"
      ],
      "metadata": {
        "id": "sW60NVdVbWbe",
        "outputId": "00610599-fecf-41e6-b8ed-48882d8b0856",
        "colab": {
          "base_uri": "https://localhost:8080/"
        }
      },
      "execution_count": 17,
      "outputs": [
        {
          "output_type": "execute_result",
          "data": {
            "text/plain": [
              " message: Optimization terminated successfully.\n",
              " success: True\n",
              "  status: 1\n",
              "     fun: -5.878500000000001\n",
              "       x: [-4.775e-01  6.702e+00  6.692e+00  5.673e+00  4.363e+00\n",
              "            3.458e+00  1.274e+00  3.199e+00  4.746e+00]\n",
              "    nfev: 116\n",
              "   maxcv: 0.0"
            ]
          },
          "metadata": {},
          "execution_count": 17
        }
      ]
    },
    {
      "cell_type": "markdown",
      "source": [
        "## Reset Error"
      ],
      "metadata": {
        "id": "amGS4Z_NWnF8"
      }
    },
    {
      "cell_type": "code",
      "source": [
        "noise_model = NoiseModel()\n",
        "\n",
        "# Example error probabilities\n",
        "p_reset = 0.01\n",
        "\n",
        "# QuantumError objects\n",
        "noise_model.add_all_qubit_quantum_error(pauli_error([('X', p_reset), ('I', 1 - p_reset)]), \"reset\")\n",
        "\n",
        "\n",
        "estimator = Estimator(backend_options={\"noise_model\": noise_model}, skip_transpilation=True)"
      ],
      "metadata": {
        "id": "DJnNTinqWnGC"
      },
      "execution_count": 18,
      "outputs": []
    },
    {
      "cell_type": "code",
      "source": [
        "def cost_func_vqe(params, ansatz, hamiltonian, estimator):\n",
        "    cost = estimator.run(ansatz, hamiltonian, parameter_values=params, shots=8000, seed=1).result()\n",
        "    return cost.values[0]\n",
        "\n",
        "\n",
        "def build_callback(ansatz, hamiltonian, estimator, callback_dict):\n",
        "  def callback(current_vector):\n",
        "    callback_dict[\"iters\"] += 1\n",
        "    callback_dict[\"prev_vector\"] = current_vector\n",
        "    current_cost = cost_func_vqe(current_vector, ansatz, hamiltonian, estimator)\n",
        "\n",
        "    callback_dict[\"cost_history\"].append(current_cost)\n",
        "\n",
        "    print(\n",
        "      \"Iters. done: {} [Current cost: {}]\".format(callback_dict[\"iters\"], current_cost),\n",
        "      end=\"\\r\",\n",
        "      flush=True,\n",
        "    )\n",
        "\n",
        "  return callback"
      ],
      "metadata": {
        "id": "CeGHFTsPWnGC"
      },
      "execution_count": 19,
      "outputs": []
    },
    {
      "cell_type": "code",
      "source": [
        "local_minimum_list = []\n",
        "\n",
        "for k in range(100):\n",
        "\n",
        "  callback_dict = {\n",
        "    \"prev_vector\": None,\n",
        "    \"iters\": 0,\n",
        "    \"cost_history\": [],\n",
        "  }\n",
        "\n",
        "  np.random.seed(seed_list[k])\n",
        "  x0 = 2 * np.pi * np.random.random(9)\n",
        "\n",
        "  callback = build_callback(ansatz, hamiltonian, estimator, callback_dict)\n",
        "\n",
        "  options = dict()\n",
        "  options[\"maxiter\"] = 4000\n",
        "  options[\"disp\"] = True\n",
        "\n",
        "  res = minimize(\n",
        "    cost_func_vqe,\n",
        "    x0,\n",
        "    args=(ansatz, hamiltonian, estimator),\n",
        "    method=\"cobyla\",\n",
        "    callback=callback,\n",
        "    options=options\n",
        "  )\n",
        "\n",
        "  local_minimum_dict = callback_dict[\"cost_history\"]\n",
        "  local_minimum_list.append(local_minimum_dict[-1])\n",
        "\n",
        "\n",
        "local_minimum_list = np.array(local_minimum_list)"
      ],
      "metadata": {
        "colab": {
          "base_uri": "https://localhost:8080/"
        },
        "outputId": "1b07db39-3176-4b17-ee57-8e9dbd84e1fc",
        "id": "UwspTQVLWnGD"
      },
      "execution_count": 20,
      "outputs": [
        {
          "output_type": "stream",
          "name": "stdout",
          "text": []
        }
      ]
    },
    {
      "cell_type": "code",
      "source": [
        "mean_rst = np.mean(local_minimum_list)\n",
        "var_rst = np.var(local_minimum_list)\n",
        "max_rst = np.max(local_minimum_list)\n",
        "min_rst = np.min(local_minimum_list)\n",
        "\n",
        "print(\"mean : {0}\".format(mean_rst))\n",
        "print(\"variance : {0}\".format(var_rst))\n",
        "print(\"maximum : {0}\".format(max_rst))\n",
        "print(\"minimum : {0}\".format(min_rst))\n",
        "print()\n",
        "print(local_minimum_list)"
      ],
      "metadata": {
        "colab": {
          "base_uri": "https://localhost:8080/"
        },
        "id": "-XlSF1a6WnGD",
        "outputId": "34f574cf-3980-4512-c40c-c7b370ec9bfb"
      },
      "execution_count": 21,
      "outputs": [
        {
          "output_type": "stream",
          "name": "stdout",
          "text": [
            "mean : -5.7790824999999995\n",
            "variance : 0.008404233818749992\n",
            "maximum : -5.449750000000001\n",
            "minimum : -5.90325\n",
            "\n",
            "[-5.723   -5.86275 -5.71075 -5.82475 -5.86225 -5.87675 -5.7625  -5.84475\n",
            " -5.83475 -5.70975 -5.8365  -5.867   -5.8535  -5.75825 -5.688   -5.8685\n",
            " -5.66375 -5.864   -5.7965  -5.80675 -5.87375 -5.865   -5.809   -5.6275\n",
            " -5.637   -5.7915  -5.6225  -5.81875 -5.7755  -5.8245  -5.845   -5.719\n",
            " -5.855   -5.818   -5.82925 -5.46875 -5.86575 -5.645   -5.849   -5.68875\n",
            " -5.67775 -5.686   -5.79125 -5.69875 -5.666   -5.89375 -5.90325 -5.8385\n",
            " -5.6245  -5.818   -5.77925 -5.8205  -5.86575 -5.68725 -5.79275 -5.863\n",
            " -5.65575 -5.759   -5.88875 -5.7025  -5.65    -5.85575 -5.85125 -5.80325\n",
            " -5.7465  -5.794   -5.636   -5.576   -5.86925 -5.87575 -5.8055  -5.727\n",
            " -5.8785  -5.82125 -5.80275 -5.80125 -5.861   -5.76975 -5.77375 -5.71525\n",
            " -5.851   -5.791   -5.88625 -5.7815  -5.74225 -5.6115  -5.8355  -5.68225\n",
            " -5.89175 -5.81325 -5.44975 -5.872   -5.8725  -5.76    -5.82275 -5.81675\n",
            " -5.76625 -5.852   -5.7865  -5.75425]\n"
          ]
        }
      ]
    },
    {
      "cell_type": "markdown",
      "source": [
        "## Measurement Error"
      ],
      "metadata": {
        "id": "0TP9YNTvYxUG"
      }
    },
    {
      "cell_type": "code",
      "source": [
        "noise_model = NoiseModel()\n",
        "\n",
        "# Example error probabilities\n",
        "p_measure = 0.01\n",
        "\n",
        "# QuantumError objects\n",
        "noise_model.add_all_qubit_quantum_error(pauli_error([('X', p_measure), ('I', 1 - p_measure)]), \"measure\")\n",
        "\n",
        "\n",
        "estimator = Estimator(backend_options={\"noise_model\": noise_model}, skip_transpilation=True)"
      ],
      "metadata": {
        "id": "UPNYO1J1YxUR"
      },
      "execution_count": 22,
      "outputs": []
    },
    {
      "cell_type": "code",
      "source": [
        "def cost_func_vqe(params, ansatz, hamiltonian, estimator):\n",
        "    cost = estimator.run(ansatz, hamiltonian, parameter_values=params, shots=8000, seed=1).result()\n",
        "    return cost.values[0]\n",
        "\n",
        "\n",
        "def build_callback(ansatz, hamiltonian, estimator, callback_dict):\n",
        "  def callback(current_vector):\n",
        "    callback_dict[\"iters\"] += 1\n",
        "    callback_dict[\"prev_vector\"] = current_vector\n",
        "    current_cost = cost_func_vqe(current_vector, ansatz, hamiltonian, estimator)\n",
        "\n",
        "    callback_dict[\"cost_history\"].append(current_cost)\n",
        "\n",
        "    print(\n",
        "      \"Iters. done: {} [Current cost: {}]\".format(callback_dict[\"iters\"], current_cost),\n",
        "      end=\"\\r\",\n",
        "      flush=True,\n",
        "    )\n",
        "\n",
        "  return callback"
      ],
      "metadata": {
        "id": "LZcpFqL_YxUR"
      },
      "execution_count": 23,
      "outputs": []
    },
    {
      "cell_type": "code",
      "source": [
        "local_minimum_list = []\n",
        "\n",
        "for k in range(100):\n",
        "\n",
        "  callback_dict = {\n",
        "    \"prev_vector\": None,\n",
        "    \"iters\": 0,\n",
        "    \"cost_history\": [],\n",
        "  }\n",
        "\n",
        "  np.random.seed(seed_list[k])\n",
        "  x0 = 2 * np.pi * np.random.random(9)\n",
        "\n",
        "  callback = build_callback(ansatz, hamiltonian, estimator, callback_dict)\n",
        "\n",
        "  options = dict()\n",
        "  options[\"maxiter\"] = 4000\n",
        "  options[\"disp\"] = True\n",
        "\n",
        "  res = minimize(\n",
        "    cost_func_vqe,\n",
        "    x0,\n",
        "    args=(ansatz, hamiltonian, estimator),\n",
        "    method=\"cobyla\",\n",
        "    callback=callback,\n",
        "    options=options\n",
        "  )\n",
        "\n",
        "  local_minimum_dict = callback_dict[\"cost_history\"]\n",
        "  local_minimum_list.append(local_minimum_dict[-1])\n",
        "\n",
        "\n",
        "local_minimum_list = np.array(local_minimum_list)"
      ],
      "metadata": {
        "colab": {
          "base_uri": "https://localhost:8080/"
        },
        "outputId": "a91f482a-9f13-4e76-8d8f-ce67e16299ca",
        "id": "CEtAJZsnYxUR"
      },
      "execution_count": 24,
      "outputs": [
        {
          "output_type": "stream",
          "name": "stdout",
          "text": []
        }
      ]
    },
    {
      "cell_type": "code",
      "source": [
        "mean_measure = np.mean(local_minimum_list)\n",
        "var_measure = np.var(local_minimum_list)\n",
        "max_measure = np.max(local_minimum_list)\n",
        "min_measure = np.min(local_minimum_list)\n",
        "\n",
        "print(\"mean : {0}\".format(mean_measure))\n",
        "print(\"variance : {0}\".format(var_measure))\n",
        "print(\"maximum : {0}\".format(max_measure))\n",
        "print(\"minimum : {0}\".format(min_measure))\n",
        "print()\n",
        "print(local_minimum_list)"
      ],
      "metadata": {
        "colab": {
          "base_uri": "https://localhost:8080/"
        },
        "id": "cK_EdZ2tYxUR",
        "outputId": "e6f452b4-6fee-4d8e-c5d2-52e7676c332b"
      },
      "execution_count": 25,
      "outputs": [
        {
          "output_type": "stream",
          "name": "stdout",
          "text": [
            "mean : -5.638239999999999\n",
            "variance : 0.006621234899999987\n",
            "maximum : -5.3715\n",
            "minimum : -5.75625\n",
            "\n",
            "[-5.558   -5.70425 -5.59875 -5.70875 -5.74325 -5.73775 -5.6585  -5.6595\n",
            " -5.71075 -5.55575 -5.5625  -5.66825 -5.6995  -5.553   -5.59    -5.72875\n",
            " -5.5855  -5.736   -5.64375 -5.60125 -5.733   -5.75625 -5.6975  -5.59125\n",
            " -5.48675 -5.662   -5.57125 -5.59925 -5.6805  -5.4205  -5.71275 -5.7175\n",
            " -5.724   -5.6745  -5.6865  -5.66775 -5.696   -5.5405  -5.49375 -5.50975\n",
            " -5.58475 -5.6845  -5.701   -5.5535  -5.5925  -5.747   -5.6925  -5.73075\n",
            " -5.50775 -5.69225 -5.596   -5.6945  -5.52125 -5.539   -5.64    -5.6985\n",
            " -5.727   -5.6415  -5.72925 -5.56425 -5.51975 -5.70225 -5.6985  -5.64225\n",
            " -5.641   -5.70975 -5.4985  -5.5105  -5.667   -5.49675 -5.6925  -5.7085\n",
            " -5.57175 -5.65875 -5.69025 -5.6215  -5.73075 -5.59775 -5.63675 -5.6585\n",
            " -5.67225 -5.63525 -5.49725 -5.71275 -5.61725 -5.3715  -5.71525 -5.5665\n",
            " -5.70575 -5.66725 -5.55075 -5.729   -5.73225 -5.612   -5.69425 -5.567\n",
            " -5.66875 -5.70075 -5.71425 -5.578  ]\n"
          ]
        }
      ]
    },
    {
      "cell_type": "markdown",
      "source": [
        "## Bit Flip"
      ],
      "metadata": {
        "id": "ZhldUP5CZRnN"
      }
    },
    {
      "cell_type": "code",
      "source": [
        "noise_model = NoiseModel()\n",
        "\n",
        "# Example error probabilities\n",
        "p_bit = 0.01\n",
        "\n",
        "bit1 = pauli_error([('X', p_bit), ('I', 1 - p_bit)])\n",
        "bit2 = bit1.tensor(bit1)\n",
        "\n",
        "# QuantumError objects\n",
        "noise_model.add_all_qubit_quantum_error(bit1, [\"u1\", \"u2\", \"u3\"])\n",
        "noise_model.add_all_qubit_quantum_error(bit2, [\"cx\"])\n",
        "\n",
        "\n",
        "estimator = Estimator(backend_options={\"noise_model\": noise_model}, skip_transpilation=True)"
      ],
      "metadata": {
        "id": "kkciiMUkZRnW"
      },
      "execution_count": 26,
      "outputs": []
    },
    {
      "cell_type": "code",
      "source": [
        "def cost_func_vqe(params, ansatz, hamiltonian, estimator):\n",
        "    cost = estimator.run(ansatz, hamiltonian, parameter_values=params, shots=8000, seed=1).result()\n",
        "    return cost.values[0]\n",
        "\n",
        "\n",
        "def build_callback(ansatz, hamiltonian, estimator, callback_dict):\n",
        "  def callback(current_vector):\n",
        "    callback_dict[\"iters\"] += 1\n",
        "    callback_dict[\"prev_vector\"] = current_vector\n",
        "    current_cost = cost_func_vqe(current_vector, ansatz, hamiltonian, estimator)\n",
        "\n",
        "    callback_dict[\"cost_history\"].append(current_cost)\n",
        "\n",
        "    print(\n",
        "      \"Iters. done: {} [Current cost: {}]\".format(callback_dict[\"iters\"], current_cost),\n",
        "      end=\"\\r\",\n",
        "      flush=True,\n",
        "    )\n",
        "\n",
        "  return callback"
      ],
      "metadata": {
        "id": "hQpnWA3TZRnW"
      },
      "execution_count": 27,
      "outputs": []
    },
    {
      "cell_type": "code",
      "source": [
        "local_minimum_list = []\n",
        "\n",
        "for k in range(100):\n",
        "\n",
        "  callback_dict = {\n",
        "    \"prev_vector\": None,\n",
        "    \"iters\": 0,\n",
        "    \"cost_history\": [],\n",
        "  }\n",
        "\n",
        "  np.random.seed(seed_list[k])\n",
        "  x0 = 2 * np.pi * np.random.random(9)\n",
        "\n",
        "  callback = build_callback(ansatz, hamiltonian, estimator, callback_dict)\n",
        "\n",
        "  options = dict()\n",
        "  options[\"maxiter\"] = 4000\n",
        "  options[\"disp\"] = True\n",
        "\n",
        "  res = minimize(\n",
        "    cost_func_vqe,\n",
        "    x0,\n",
        "    args=(ansatz, hamiltonian, estimator),\n",
        "    method=\"cobyla\",\n",
        "    callback=callback,\n",
        "    options=options\n",
        "  )\n",
        "\n",
        "  local_minimum_dict = callback_dict[\"cost_history\"]\n",
        "  local_minimum_list.append(local_minimum_dict[-1])\n",
        "\n",
        "\n",
        "local_minimum_list = np.array(local_minimum_list)"
      ],
      "metadata": {
        "colab": {
          "base_uri": "https://localhost:8080/"
        },
        "outputId": "147bde6e-d4d9-4581-9ebe-2c308198b4e5",
        "id": "QwJ7_8InZRnW"
      },
      "execution_count": 28,
      "outputs": [
        {
          "output_type": "stream",
          "name": "stdout",
          "text": []
        }
      ]
    },
    {
      "cell_type": "code",
      "source": [
        "mean_bit = np.mean(local_minimum_list)\n",
        "var_bit = np.var(local_minimum_list)\n",
        "max_bit = np.max(local_minimum_list)\n",
        "min_bit = np.min(local_minimum_list)\n",
        "\n",
        "print(\"mean : {0}\".format(mean_bit))\n",
        "print(\"variance : {0}\".format(var_bit))\n",
        "print(\"maximum : {0}\".format(max_bit))\n",
        "print(\"minimum : {0}\".format(min_bit))\n",
        "print()\n",
        "print(local_minimum_list)"
      ],
      "metadata": {
        "colab": {
          "base_uri": "https://localhost:8080/"
        },
        "id": "zKWtMZuUZRnW",
        "outputId": "ccf6eba7-3827-49da-83a3-9b668b76b5ca"
      },
      "execution_count": 29,
      "outputs": [
        {
          "output_type": "stream",
          "name": "stdout",
          "text": [
            "mean : -5.665257499999999\n",
            "variance : 0.006384240568749993\n",
            "maximum : -5.313250000000001\n",
            "minimum : -5.78125\n",
            "\n",
            "[-5.606   -5.71875 -5.60175 -5.698   -5.78125 -5.767   -5.5845  -5.645\n",
            " -5.69425 -5.51475 -5.56775 -5.75575 -5.769   -5.57125 -5.64275 -5.74275\n",
            " -5.5175  -5.7255  -5.666   -5.73625 -5.723   -5.7545  -5.6705  -5.60075\n",
            " -5.52975 -5.6935  -5.61425 -5.6985  -5.69325 -5.6845  -5.73225 -5.72175\n",
            " -5.6815  -5.31325 -5.7015  -5.70625 -5.68925 -5.738   -5.71325 -5.672\n",
            " -5.66375 -5.618   -5.6725  -5.6015  -5.615   -5.7535  -5.52925 -5.767\n",
            " -5.736   -5.7325  -5.647   -5.6445  -5.72275 -5.55    -5.67225 -5.68075\n",
            " -5.7195  -5.6425  -5.7215  -5.60475 -5.72025 -5.709   -5.58275 -5.7115\n",
            " -5.7125  -5.6935  -5.6955  -5.53825 -5.53225 -5.52125 -5.64025 -5.644\n",
            " -5.7355  -5.6575  -5.6785  -5.56625 -5.762   -5.6985  -5.697   -5.63975\n",
            " -5.61525 -5.68075 -5.76425 -5.7605  -5.699   -5.57325 -5.707   -5.57125\n",
            " -5.74275 -5.68675 -5.4285  -5.7675  -5.76325 -5.6595  -5.71025 -5.66375\n",
            " -5.6435  -5.726   -5.67075 -5.62425]\n"
          ]
        }
      ]
    },
    {
      "cell_type": "markdown",
      "source": [
        "## Phase Flip"
      ],
      "metadata": {
        "id": "0bQIczJLa5Ql"
      }
    },
    {
      "cell_type": "code",
      "source": [
        "noise_model = NoiseModel()\n",
        "\n",
        "# Example error probabilities\n",
        "p_phase = 0.01\n",
        "\n",
        "phase1 = pauli_error([('Z', p_phase), ('I', 1 - p_phase)])\n",
        "phase2 = bit1.tensor(bit1)\n",
        "\n",
        "# QuantumError objects\n",
        "noise_model.add_all_qubit_quantum_error(phase1, [\"u1\", \"u2\", \"u3\"])\n",
        "noise_model.add_all_qubit_quantum_error(phase2, [\"cx\"])\n",
        "\n",
        "\n",
        "estimator = Estimator(backend_options={\"noise_model\": noise_model}, skip_transpilation=True)"
      ],
      "metadata": {
        "id": "kUqTN912a5Qq"
      },
      "execution_count": 30,
      "outputs": []
    },
    {
      "cell_type": "code",
      "source": [
        "def cost_func_vqe(params, ansatz, hamiltonian, estimator):\n",
        "    cost = estimator.run(ansatz, hamiltonian, parameter_values=params, shots=8000, seed=1).result()\n",
        "    return cost.values[0]\n",
        "\n",
        "\n",
        "def build_callback(ansatz, hamiltonian, estimator, callback_dict):\n",
        "  def callback(current_vector):\n",
        "    callback_dict[\"iters\"] += 1\n",
        "    callback_dict[\"prev_vector\"] = current_vector\n",
        "    current_cost = cost_func_vqe(current_vector, ansatz, hamiltonian, estimator)\n",
        "\n",
        "    callback_dict[\"cost_history\"].append(current_cost)\n",
        "\n",
        "    print(\n",
        "      \"Iters. done: {} [Current cost: {}]\".format(callback_dict[\"iters\"], current_cost),\n",
        "      end=\"\\r\",\n",
        "      flush=True,\n",
        "    )\n",
        "\n",
        "  return callback"
      ],
      "metadata": {
        "id": "X1xvb3RLa5Qq"
      },
      "execution_count": 31,
      "outputs": []
    },
    {
      "cell_type": "code",
      "source": [
        "local_minimum_list = []\n",
        "\n",
        "for k in range(100):\n",
        "\n",
        "  callback_dict = {\n",
        "    \"prev_vector\": None,\n",
        "    \"iters\": 0,\n",
        "    \"cost_history\": [],\n",
        "  }\n",
        "\n",
        "  np.random.seed(seed_list[k])\n",
        "  x0 = 2 * np.pi * np.random.random(9)\n",
        "\n",
        "  callback = build_callback(ansatz, hamiltonian, estimator, callback_dict)\n",
        "\n",
        "  options = dict()\n",
        "  options[\"maxiter\"] = 4000\n",
        "  options[\"disp\"] = True\n",
        "\n",
        "  res = minimize(\n",
        "    cost_func_vqe,\n",
        "    x0,\n",
        "    args=(ansatz, hamiltonian, estimator),\n",
        "    method=\"cobyla\",\n",
        "    callback=callback,\n",
        "    options=options\n",
        "  )\n",
        "\n",
        "  local_minimum_dict = callback_dict[\"cost_history\"]\n",
        "  local_minimum_list.append(local_minimum_dict[-1])\n",
        "\n",
        "\n",
        "local_minimum_list = np.array(local_minimum_list)"
      ],
      "metadata": {
        "colab": {
          "base_uri": "https://localhost:8080/"
        },
        "outputId": "dd0646e7-3f34-4732-ad33-74b31cf3006b",
        "id": "7-EhSUDFa5Qq"
      },
      "execution_count": 32,
      "outputs": [
        {
          "output_type": "stream",
          "name": "stdout",
          "text": []
        }
      ]
    },
    {
      "cell_type": "code",
      "source": [
        "mean_phase = np.mean(local_minimum_list)\n",
        "var_phase = np.var(local_minimum_list)\n",
        "max_phase = np.max(local_minimum_list)\n",
        "min_phase = np.min(local_minimum_list)\n",
        "\n",
        "print(\"mean : {0}\".format(mean_phase))\n",
        "print(\"variance : {0}\".format(var_phase))\n",
        "print(\"maximum : {0}\".format(max_phase))\n",
        "print(\"minimum : {0}\".format(min_phase))\n",
        "print()\n",
        "print(local_minimum_list)"
      ],
      "metadata": {
        "colab": {
          "base_uri": "https://localhost:8080/"
        },
        "id": "Myydq92za5Qq",
        "outputId": "58ec1cfb-2129-43ea-ddd5-1eb9ab4d88af"
      },
      "execution_count": 33,
      "outputs": [
        {
          "output_type": "stream",
          "name": "stdout",
          "text": [
            "mean : -5.665257499999999\n",
            "variance : 0.006384240568749993\n",
            "maximum : -5.313250000000001\n",
            "minimum : -5.78125\n",
            "\n",
            "[-5.606   -5.71875 -5.60175 -5.698   -5.78125 -5.767   -5.5845  -5.645\n",
            " -5.69425 -5.51475 -5.56775 -5.75575 -5.769   -5.57125 -5.64275 -5.74275\n",
            " -5.5175  -5.7255  -5.666   -5.73625 -5.723   -5.7545  -5.6705  -5.60075\n",
            " -5.52975 -5.6935  -5.61425 -5.6985  -5.69325 -5.6845  -5.73225 -5.72175\n",
            " -5.6815  -5.31325 -5.7015  -5.70625 -5.68925 -5.738   -5.71325 -5.672\n",
            " -5.66375 -5.618   -5.6725  -5.6015  -5.615   -5.7535  -5.52925 -5.767\n",
            " -5.736   -5.7325  -5.647   -5.6445  -5.72275 -5.55    -5.67225 -5.68075\n",
            " -5.7195  -5.6425  -5.7215  -5.60475 -5.72025 -5.709   -5.58275 -5.7115\n",
            " -5.7125  -5.6935  -5.6955  -5.53825 -5.53225 -5.52125 -5.64025 -5.644\n",
            " -5.7355  -5.6575  -5.6785  -5.56625 -5.762   -5.6985  -5.697   -5.63975\n",
            " -5.61525 -5.68075 -5.76425 -5.7605  -5.699   -5.57325 -5.707   -5.57125\n",
            " -5.74275 -5.68675 -5.4285  -5.7675  -5.76325 -5.6595  -5.71025 -5.66375\n",
            " -5.6435  -5.726   -5.67075 -5.62425]\n"
          ]
        }
      ]
    },
    {
      "cell_type": "markdown",
      "source": [
        "## Depolarization"
      ],
      "metadata": {
        "id": "g0QEks6TbdHL"
      }
    },
    {
      "cell_type": "code",
      "source": [
        "noise_model = NoiseModel()\n",
        "\n",
        "# Example error probabilities\n",
        "u_depolarizing_prob = 0.01\n",
        "cx_depolarizing_prob = 0.01\n",
        "\n",
        "# QuantumError objects\n",
        "noise_model.add_all_qubit_quantum_error(depolarizing_error(u_depolarizing_prob, 1), ['u1', 'u2', 'u3'])\n",
        "noise_model.add_all_qubit_quantum_error(depolarizing_error(cx_depolarizing_prob, 2), [\"cx\"])\n",
        "\n",
        "estimator = Estimator(backend_options={\"noise_model\": noise_model}, skip_transpilation=True)"
      ],
      "metadata": {
        "id": "hB-S8e00bdHU"
      },
      "execution_count": 34,
      "outputs": []
    },
    {
      "cell_type": "code",
      "source": [
        "def cost_func_vqe(params, ansatz, hamiltonian, estimator):\n",
        "    cost = estimator.run(ansatz, hamiltonian, parameter_values=params, shots=8000, seed=1).result()\n",
        "    return cost.values[0]\n",
        "\n",
        "\n",
        "def build_callback(ansatz, hamiltonian, estimator, callback_dict):\n",
        "  def callback(current_vector):\n",
        "    callback_dict[\"iters\"] += 1\n",
        "    callback_dict[\"prev_vector\"] = current_vector\n",
        "    current_cost = cost_func_vqe(current_vector, ansatz, hamiltonian, estimator)\n",
        "\n",
        "    callback_dict[\"cost_history\"].append(current_cost)\n",
        "\n",
        "    print(\n",
        "      \"Iters. done: {} [Current cost: {}]\".format(callback_dict[\"iters\"], current_cost),\n",
        "      end=\"\\r\",\n",
        "      flush=True,\n",
        "    )\n",
        "\n",
        "  return callback"
      ],
      "metadata": {
        "id": "BAGiKpysbdHU"
      },
      "execution_count": 35,
      "outputs": []
    },
    {
      "cell_type": "code",
      "source": [
        "local_minimum_list = []\n",
        "\n",
        "for k in range(100):\n",
        "\n",
        "  callback_dict = {\n",
        "    \"prev_vector\": None,\n",
        "    \"iters\": 0,\n",
        "    \"cost_history\": [],\n",
        "  }\n",
        "\n",
        "  np.random.seed(seed_list[k])\n",
        "  x0 = 2 * np.pi * np.random.random(9)\n",
        "\n",
        "  callback = build_callback(ansatz, hamiltonian, estimator, callback_dict)\n",
        "\n",
        "  options = dict()\n",
        "  options[\"maxiter\"] = 4000\n",
        "  options[\"disp\"] = True\n",
        "\n",
        "  res = minimize(\n",
        "    cost_func_vqe,\n",
        "    x0,\n",
        "    args=(ansatz, hamiltonian, estimator),\n",
        "    method=\"cobyla\",\n",
        "    callback=callback,\n",
        "    options=options\n",
        "  )\n",
        "\n",
        "  local_minimum_dict = callback_dict[\"cost_history\"]\n",
        "  local_minimum_list.append(local_minimum_dict[-1])\n",
        "\n",
        "\n",
        "local_minimum_list = np.array(local_minimum_list)"
      ],
      "metadata": {
        "colab": {
          "base_uri": "https://localhost:8080/"
        },
        "outputId": "b2ad2d28-8e91-4498-dd04-949047875a01",
        "id": "65j_k0CRbdHU"
      },
      "execution_count": 36,
      "outputs": [
        {
          "output_type": "stream",
          "name": "stdout",
          "text": []
        }
      ]
    },
    {
      "cell_type": "code",
      "source": [
        "mean_depo = np.mean(local_minimum_list)\n",
        "var_depo = np.var(local_minimum_list)\n",
        "max_depo = np.max(local_minimum_list)\n",
        "min_depo = np.min(local_minimum_list)\n",
        "\n",
        "print(\"mean : {0}\".format(mean_depo))\n",
        "print(\"variance : {0}\".format(var_depo))\n",
        "print(\"maximum : {0}\".format(max_depo))\n",
        "print(\"minimum : {0}\".format(min_depo))\n",
        "print()\n",
        "print(local_minimum_list)"
      ],
      "metadata": {
        "colab": {
          "base_uri": "https://localhost:8080/"
        },
        "id": "13d3OARFbdHU",
        "outputId": "41746a03-2a21-40aa-e096-de3d345ddb7c"
      },
      "execution_count": 37,
      "outputs": [
        {
          "output_type": "stream",
          "name": "stdout",
          "text": [
            "mean : -5.574622499999999\n",
            "variance : 0.009950661868749986\n",
            "maximum : -5.30525\n",
            "minimum : -5.710000000000001\n",
            "\n",
            "[-5.464   -5.5505  -5.50125 -5.64825 -5.70225 -5.70025 -5.43825 -5.57275\n",
            " -5.4745  -5.6055  -5.66075 -5.692   -5.68175 -5.47775 -5.317   -5.67375\n",
            " -5.529   -5.657   -5.55025 -5.46625 -5.69025 -5.67975 -5.631   -5.4515\n",
            " -5.412   -5.6265  -5.53575 -5.43025 -5.5855  -5.4955  -5.6855  -5.6505\n",
            " -5.672   -5.35175 -5.65225 -5.65475 -5.4135  -5.56525 -5.438   -5.6115\n",
            " -5.5225  -5.52325 -5.55525 -5.501   -5.3635  -5.70075 -5.649   -5.7025\n",
            " -5.4855  -5.625   -5.6135  -5.633   -5.43725 -5.46675 -5.6255  -5.704\n",
            " -5.432   -5.55775 -5.686   -5.511   -5.4655  -5.68625 -5.5895  -5.5275\n",
            " -5.5875  -5.432   -5.30525 -5.475   -5.6845  -5.6685  -5.56775 -5.686\n",
            " -5.502   -5.615   -5.6445  -5.5425  -5.67275 -5.57275 -5.614   -5.57625\n",
            " -5.68275 -5.572   -5.68975 -5.66025 -5.5175  -5.597   -5.653   -5.49375\n",
            " -5.71    -5.3725  -5.61425 -5.67175 -5.671   -5.55375 -5.63675 -5.5605\n",
            " -5.66775 -5.65575 -5.62475 -5.5515 ]\n"
          ]
        }
      ]
    },
    {
      "cell_type": "markdown",
      "source": [
        "## Summation of all-type Error & Conclusion"
      ],
      "metadata": {
        "id": "J4KoB_K_cMxx"
      }
    },
    {
      "cell_type": "code",
      "source": [
        "noise_model = NoiseModel()\n",
        "\n",
        "# Example error probabilities\n",
        "p_reset = 0.01\n",
        "p_measure = 0.01\n",
        "p_bit = 0.01\n",
        "p_phase = 0.01\n",
        "u_depolarizing_prob = 0.01\n",
        "cx_depolarizing_prob = 0.01\n",
        "\n",
        "bit1 = pauli_error([('X', p_bit), ('I', 1 - p_bit)])\n",
        "bit2 = bit1.tensor(bit1)\n",
        "\n",
        "phase1 = pauli_error([('Z', p_phase), ('I', 1 - p_phase)])\n",
        "phase2 = bit1.tensor(bit1)\n",
        "\n",
        "# QuantumError objects\n",
        "noise_model.add_all_qubit_quantum_error(pauli_error([('X', p_reset), ('I', 1 - p_reset)]), \"reset\")\n",
        "\n",
        "noise_model.add_all_qubit_quantum_error(pauli_error([('X', p_measure), ('I', 1 - p_measure)]), \"measure\")\n",
        "\n",
        "noise_model.add_all_qubit_quantum_error(bit1, [\"u1\", \"u2\", \"u3\"])\n",
        "noise_model.add_all_qubit_quantum_error(bit2, [\"cx\"])\n",
        "\n",
        "noise_model.add_all_qubit_quantum_error(phase1, [\"u1\", \"u2\", \"u3\"])\n",
        "noise_model.add_all_qubit_quantum_error(phase2, [\"cx\"])\n",
        "\n",
        "noise_model.add_all_qubit_quantum_error(depolarizing_error(u_depolarizing_prob, 1), ['u1', 'u2', 'u3'])\n",
        "noise_model.add_all_qubit_quantum_error(depolarizing_error(cx_depolarizing_prob, 2), [\"cx\"])\n",
        "\n",
        "estimator = Estimator(backend_options={\"noise_model\": noise_model}, skip_transpilation=True)"
      ],
      "metadata": {
        "colab": {
          "base_uri": "https://localhost:8080/"
        },
        "id": "OH0-CwkScMxy",
        "outputId": "50dc72df-f56b-4c93-84f3-7d1e26d0d2a0"
      },
      "execution_count": 38,
      "outputs": [
        {
          "output_type": "stream",
          "name": "stderr",
          "text": [
            "WARNING:qiskit_aer.noise.noise_model:WARNING: all-qubit error already exists for instruction \"u1\", composing with additional error.\n",
            "WARNING:qiskit_aer.noise.noise_model:WARNING: all-qubit error already exists for instruction \"u2\", composing with additional error.\n",
            "WARNING:qiskit_aer.noise.noise_model:WARNING: all-qubit error already exists for instruction \"u3\", composing with additional error.\n",
            "WARNING:qiskit_aer.noise.noise_model:WARNING: all-qubit error already exists for instruction \"cx\", composing with additional error.\n",
            "WARNING:qiskit_aer.noise.noise_model:WARNING: all-qubit error already exists for instruction \"u1\", composing with additional error.\n",
            "WARNING:qiskit_aer.noise.noise_model:WARNING: all-qubit error already exists for instruction \"u2\", composing with additional error.\n",
            "WARNING:qiskit_aer.noise.noise_model:WARNING: all-qubit error already exists for instruction \"u3\", composing with additional error.\n",
            "WARNING:qiskit_aer.noise.noise_model:WARNING: all-qubit error already exists for instruction \"cx\", composing with additional error.\n"
          ]
        }
      ]
    },
    {
      "cell_type": "code",
      "source": [
        "def cost_func_vqe(params, ansatz, hamiltonian, estimator):\n",
        "    cost = estimator.run(ansatz, hamiltonian, parameter_values=params, shots=8000, seed=1).result()\n",
        "    return cost.values[0]\n",
        "\n",
        "\n",
        "def build_callback(ansatz, hamiltonian, estimator, callback_dict):\n",
        "  def callback(current_vector):\n",
        "    callback_dict[\"iters\"] += 1\n",
        "    callback_dict[\"prev_vector\"] = current_vector\n",
        "    current_cost = cost_func_vqe(current_vector, ansatz, hamiltonian, estimator)\n",
        "\n",
        "    callback_dict[\"cost_history\"].append(current_cost)\n",
        "\n",
        "    print(\n",
        "      \"Iters. done: {} [Current cost: {}]\".format(callback_dict[\"iters\"], current_cost),\n",
        "      end=\"\\r\",\n",
        "      flush=True,\n",
        "    )\n",
        "\n",
        "  return callback"
      ],
      "metadata": {
        "id": "AH0UeODycMxy"
      },
      "execution_count": 39,
      "outputs": []
    },
    {
      "cell_type": "code",
      "source": [
        "local_minimum_list = []\n",
        "\n",
        "for k in range(100):\n",
        "\n",
        "  callback_dict = {\n",
        "    \"prev_vector\": None,\n",
        "    \"iters\": 0,\n",
        "    \"cost_history\": [],\n",
        "  }\n",
        "\n",
        "  np.random.seed(seed_list[k])\n",
        "  x0 = 2 * np.pi * np.random.random(9)\n",
        "\n",
        "  callback = build_callback(ansatz, hamiltonian, estimator, callback_dict)\n",
        "\n",
        "  options = dict()\n",
        "  options[\"maxiter\"] = 4000\n",
        "  options[\"disp\"] = True\n",
        "\n",
        "  res = minimize(\n",
        "    cost_func_vqe,\n",
        "    x0,\n",
        "    args=(ansatz, hamiltonian, estimator),\n",
        "    method=\"cobyla\",\n",
        "    callback=callback,\n",
        "    options=options\n",
        "  )\n",
        "\n",
        "  local_minimum_dict = callback_dict[\"cost_history\"]\n",
        "  local_minimum_list.append(local_minimum_dict[-1])\n",
        "\n",
        "\n",
        "local_minimum_list = np.array(local_minimum_list)"
      ],
      "metadata": {
        "colab": {
          "base_uri": "https://localhost:8080/"
        },
        "id": "LVrDLUPgcMxz",
        "outputId": "b4328772-102e-4df0-edb2-4c1542aa4d3f"
      },
      "execution_count": 40,
      "outputs": [
        {
          "output_type": "stream",
          "name": "stdout",
          "text": []
        }
      ]
    },
    {
      "cell_type": "code",
      "source": [
        "mean_all = np.mean(local_minimum_list)\n",
        "var_all = np.var(local_minimum_list)\n",
        "max_all = np.max(local_minimum_list)\n",
        "min_all = np.min(local_minimum_list)\n",
        "\n",
        "print(\"mean : {0}\".format(mean_all))\n",
        "print(\"variance : {0}\".format(var_all))\n",
        "print(\"maximum : {0}\".format(max_all))\n",
        "print(\"minimum : {0}\".format(min_all))\n",
        "print()\n",
        "print(local_minimum_list)"
      ],
      "metadata": {
        "colab": {
          "base_uri": "https://localhost:8080/"
        },
        "id": "x_HSovVpcMxz",
        "outputId": "d2c30eb3-cd06-4a6d-9fe6-f942e27e3c5d"
      },
      "execution_count": 41,
      "outputs": [
        {
          "output_type": "stream",
          "name": "stdout",
          "text": [
            "mean : -5.2649824999999995\n",
            "variance : 0.0035983065687499984\n",
            "maximum : -5.0925\n",
            "minimum : -5.367\n",
            "\n",
            "[-5.1855  -5.22875 -5.2355  -5.28475 -5.31925 -5.3575  -5.28625 -5.30275\n",
            " -5.22475 -5.22675 -5.28225 -5.2945  -5.286   -5.2965  -5.1045  -5.285\n",
            " -5.1875  -5.338   -5.22525 -5.33275 -5.336   -5.35325 -5.2595  -5.30575\n",
            " -5.17075 -5.33125 -5.215   -5.347   -5.292   -5.352   -5.178   -5.322\n",
            " -5.2885  -5.2715  -5.3015  -5.1325  -5.32325 -5.22875 -5.0925  -5.2575\n",
            " -5.2465  -5.30675 -5.23475 -5.2215  -5.225   -5.32925 -5.18925 -5.367\n",
            " -5.3315  -5.245   -5.26075 -5.25925 -5.29    -5.34625 -5.265   -5.292\n",
            " -5.18025 -5.23625 -5.3335  -5.25475 -5.176   -5.34625 -5.3305  -5.1635\n",
            " -5.17125 -5.32425 -5.283   -5.2055  -5.138   -5.29075 -5.28125 -5.2435\n",
            " -5.2775  -5.203   -5.3025  -5.23775 -5.323   -5.16825 -5.26175 -5.29025\n",
            " -5.26475 -5.23825 -5.3385  -5.2225  -5.31625 -5.256   -5.30875 -5.17275\n",
            " -5.34025 -5.268   -5.26625 -5.346   -5.27625 -5.24325 -5.21275 -5.3015\n",
            " -5.24125 -5.2795  -5.21725 -5.3135 ]\n"
          ]
        }
      ]
    },
    {
      "cell_type": "code",
      "source": [
        "import matplotlib.pyplot as plt\n",
        "\n",
        "x = [\"Ideal\", \"Reset\", \"Measure\", \"Bit Flip\", \"Phase Flip\", \"Depolarize\", \"Sum\"]\n",
        "y = [mean_ideal, mean_rst, mean_measure, mean_bit, mean_phase, mean_depo, mean_all]\n",
        "yerr = [2*np.sqrt(var_ideal), 2*np.sqrt(var_rst), 2*np.sqrt(var_measure), 2*np.sqrt(var_bit), 2*np.sqrt(var_phase), 2*np.sqrt(var_depo), 2*np.sqrt(var_all)]\n",
        "\n",
        "plt.plot(x, y)\n",
        "plt.errorbar(x, y, yerr=yerr, fmt ='o')\n",
        "plt.xlabel('Error')\n",
        "plt.ylabel('Lowest Energy')\n",
        "plt.show()"
      ],
      "metadata": {
        "colab": {
          "base_uri": "https://localhost:8080/",
          "height": 449
        },
        "id": "WwrvF8cVd3n1",
        "outputId": "fe28b187-b5cf-46c1-cc3a-ab5296ef1e3b"
      },
      "execution_count": 42,
      "outputs": [
        {
          "output_type": "display_data",
          "data": {
            "text/plain": [
              "<Figure size 640x480 with 1 Axes>"
            ],
            "image/png": "[encoded data removed]"
          },
          "metadata": {}
        }
      ]
    },
    {
      "cell_type": "code",
      "source": [
        "res"
      ],
      "metadata": {
        "colab": {
          "base_uri": "https://localhost:8080/"
        },
        "id": "QTZf01CA0mYU",
        "outputId": "e7eb6346-e7da-4523-b0fa-2fc59b0ad4b9"
      },
      "execution_count": 43,
      "outputs": [
        {
          "output_type": "execute_result",
          "data": {
            "text/plain": [
              " message: Optimization terminated successfully.\n",
              " success: True\n",
              "  status: 1\n",
              "     fun: -5.3134999999999994\n",
              "       x: [ 3.104e-01  5.937e+00  6.681e+00  6.635e+00  5.006e+00\n",
              "            5.497e+00  5.517e+00  2.420e+00  2.234e+00]\n",
              "    nfev: 143\n",
              "   maxcv: 0.0"
            ]
          },
          "metadata": {},
          "execution_count": 43
        }
      ]
    },
    {
      "cell_type": "markdown",
      "source": [
        "# VQE in IBM Hardware (IBM CUSCO)\n",
        "\n",
        "use parameter optimized in Noiseless Simulator & just conduct measurement for 10 times"
      ],
      "metadata": {
        "id": "XNbQIir0i6Mc"
      }
    },
    {
      "cell_type": "markdown",
      "source": [
        "## optimization_level = 3 resilence_level = 0"
      ],
      "metadata": {
        "id": "wNLFzG0I00OJ"
      }
    },
    {
      "cell_type": "code",
      "source": [
        "from qiskit.circuit import QuantumCircuit, QuantumRegister, Parameter\n",
        "from qiskit.quantum_info import SparsePauliOp\n",
        "from qiskit.circuit import ParameterVector\n",
        "\n",
        "from qiskit_ibm_runtime import QiskitRuntimeService, Estimator, Options\n",
        "from qiskit.transpiler.preset_passmanagers import generate_preset_pass_manager\n",
        "\n",
        "import numpy as np"
      ],
      "metadata": {
        "id": "VSbxuwSSi6Ml"
      },
      "execution_count": 46,
      "outputs": []
    },
    {
      "cell_type": "code",
      "source": [
        "# Instantiate the system Hamiltonian\n",
        "interation = 1\n",
        "bias = -1\n",
        "\n",
        "coeff_list = [interation for _ in range(4)] + [bias for _ in range(5)]\n",
        "operator_list = [\"ZZIII\", \"IZZII\", \"IIZZI\", \"IIIZZ\", \"XIIII\", \"IXIII\", \"IIXII\", \"IIIXI\", \"IIIIX\"]\n",
        "hamiltonian_list = []\n",
        "for i in range(9):\n",
        "  hamiltonian_list.append((operator_list[i], coeff_list[i]))\n",
        "hamiltonian = SparsePauliOp.from_list(hamiltonian_list)"
      ],
      "metadata": {
        "id": "x6iWoO7ii6Ml"
      },
      "execution_count": 47,
      "outputs": []
    },
    {
      "cell_type": "code",
      "source": [
        "# Ansatz\n",
        "\n",
        "ansatz = QuantumCircuit(5)\n",
        "params = ParameterVector(\"theta\", length=9)\n",
        "it = iter(params)\n",
        "ansatz.h(range(0,5))\n",
        "\n",
        "ansatz.barrier()\n",
        "\n",
        "ansatz.cx(0, 1)\n",
        "ansatz.cx(2, 3)\n",
        "ansatz.rz(next(it), 1)\n",
        "ansatz.rz(next(it), 3)\n",
        "ansatz.cx(0, 1)\n",
        "ansatz.cx(2, 3)\n",
        "ansatz.cx(1, 2)\n",
        "ansatz.cx(3, 4)\n",
        "ansatz.rz(next(it), 2)\n",
        "ansatz.rz(next(it), 4)\n",
        "ansatz.cx(1, 2)\n",
        "ansatz.cx(3, 4)\n",
        "\n",
        "ansatz.barrier()\n",
        "\n",
        "ansatz.rx(next(it), 0)\n",
        "ansatz.rx(next(it), 1)\n",
        "ansatz.rx(next(it), 2)\n",
        "ansatz.rx(next(it), 3)\n",
        "ansatz.rx(next(it), 4)\n",
        "\n",
        "ansatz.draw(\"mpl\")"
      ],
      "metadata": {
        "colab": {
          "base_uri": "https://localhost:8080/",
          "height": 384
        },
        "outputId": "f24ad191-d44a-4325-f793-cfb0d6f0b985",
        "id": "swE-gOWdi6Ml"
      },
      "execution_count": 48,
      "outputs": [
        {
          "output_type": "execute_result",
          "data": {
            "text/plain": [
              "<Figure size 956.385x451.5 with 1 Axes>"
            ],
            "image/png": "[encoded data removed]"
          },
          "metadata": {},
          "execution_count": 48
        }
      ]
    },
    {
      "cell_type": "code",
      "source": [
        "service = QiskitRuntimeService()\n",
        "\n",
        "backend = service.backend(\"ibm_nazca\")\n",
        "print(backend)"
      ],
      "metadata": {
        "colab": {
          "base_uri": "https://localhost:8080/"
        },
        "outputId": "d7bdbde7-367c-4057-f333-6d4d77ee7bde",
        "id": "n0Fv5vS0i6Ml"
      },
      "execution_count": 49,
      "outputs": [
        {
          "output_type": "stream",
          "name": "stdout",
          "text": [
            "<IBMBackend('ibm_nazca')>\n"
          ]
        }
      ]
    },
    {
      "cell_type": "code",
      "source": [
        "pm = generate_preset_pass_manager(backend=backend, optimization_level=1)\n",
        "isa_circuit = pm.run(ansatz)\n",
        "isa_observable = hamiltonian.apply_layout(isa_circuit.layout)\n",
        "\n",
        "options = Options()\n",
        "options.optimization_level = 3\n",
        "options.resilience_level = 0\n",
        "\n",
        "estimator = Estimator(backend=backend, options=options)"
      ],
      "metadata": {
        "id": "nQ-aqP4fi6Mm"
      },
      "execution_count": 50,
      "outputs": []
    },
    {
      "cell_type": "code",
      "source": [
        "def cost_func_vqe(params, ansatz, hamiltonian, estimator):\n",
        "    cost = estimator.run(ansatz, hamiltonian, parameter_values=params, shots=8000).result()\n",
        "    return cost.values[0]"
      ],
      "metadata": {
        "id": "W2jFCudn_9pd"
      },
      "execution_count": 51,
      "outputs": []
    },
    {
      "cell_type": "code",
      "source": [
        "x0 = np.array([-5.497e-01,  6.701e+00,  6.719e+00,  5.781e+00,  4.499e+00,  3.260e+00,  1.411e+00,  3.240e+00,  4.786e+00])\n",
        "local_minimum_list = []\n",
        "\n",
        "for _ in range(10):\n",
        "  local_minimum_list.append(cost_func_vqe(x0, isa_circuit, isa_observable, estimator))\n",
        "\n",
        "local_minimum_list = np.array(local_minimum_list)"
      ],
      "metadata": {
        "id": "QKxTDSbE_FyS"
      },
      "execution_count": null,
      "outputs": []
    },
    {
      "cell_type": "code",
      "source": [
        "local_minimum_list"
      ],
      "metadata": {
        "id": "u-daA0I0AxoT"
      },
      "execution_count": null,
      "outputs": []
    },
    {
      "cell_type": "markdown",
      "source": [
        "## optimization_level = 3 resilence_level = 1"
      ],
      "metadata": {
        "id": "K7jbvFubBBBp"
      }
    },
    {
      "cell_type": "code",
      "source": [
        "from qiskit.circuit import QuantumCircuit, QuantumRegister, Parameter\n",
        "from qiskit.quantum_info import SparsePauliOp\n",
        "from qiskit.circuit import ParameterVector\n",
        "\n",
        "from qiskit_ibm_runtime import QiskitRuntimeService, Estimator, Options\n",
        "from qiskit.transpiler.preset_passmanagers import generate_preset_pass_manager\n",
        "\n",
        "import numpy as np"
      ],
      "metadata": {
        "id": "Bbd0V3pdBBB6"
      },
      "execution_count": null,
      "outputs": []
    },
    {
      "cell_type": "code",
      "source": [
        "# Instantiate the system Hamiltonian\n",
        "interation = 1\n",
        "bias = -1\n",
        "\n",
        "coeff_list = [interation for _ in range(4)] + [bias for _ in range(5)]\n",
        "operator_list = [\"ZZIII\", \"IZZII\", \"IIZZI\", \"IIIZZ\", \"XIIII\", \"IXIII\", \"IIXII\", \"IIIXI\", \"IIIIX\"]\n",
        "hamiltonian_list = []\n",
        "for i in range(9):\n",
        "  hamiltonian_list.append((operator_list[i], coeff_list[i]))\n",
        "hamiltonian = SparsePauliOp.from_list(hamiltonian_list)"
      ],
      "metadata": {
        "id": "DrPLTvyWBBB6"
      },
      "execution_count": null,
      "outputs": []
    },
    {
      "cell_type": "code",
      "source": [
        "# Ansatz\n",
        "\n",
        "ansatz = QuantumCircuit(5)\n",
        "params = ParameterVector(\"theta\", length=9)\n",
        "it = iter(params)\n",
        "ansatz.h(range(0,5))\n",
        "\n",
        "ansatz.barrier()\n",
        "\n",
        "ansatz.cx(0, 1)\n",
        "ansatz.cx(2, 3)\n",
        "ansatz.rz(next(it), 1)\n",
        "ansatz.rz(next(it), 3)\n",
        "ansatz.cx(0, 1)\n",
        "ansatz.cx(2, 3)\n",
        "ansatz.cx(1, 2)\n",
        "ansatz.cx(3, 4)\n",
        "ansatz.rz(next(it), 2)\n",
        "ansatz.rz(next(it), 4)\n",
        "ansatz.cx(1, 2)\n",
        "ansatz.cx(3, 4)\n",
        "\n",
        "ansatz.barrier()\n",
        "\n",
        "ansatz.rx(next(it), 0)\n",
        "ansatz.rx(next(it), 1)\n",
        "ansatz.rx(next(it), 2)\n",
        "ansatz.rx(next(it), 3)\n",
        "ansatz.rx(next(it), 4)\n",
        "\n",
        "ansatz.draw(\"mpl\")"
      ],
      "metadata": {
        "id": "Q1728UAmBBB6"
      },
      "execution_count": null,
      "outputs": []
    },
    {
      "cell_type": "code",
      "source": [
        "service = QiskitRuntimeService()\n",
        "\n",
        "backend = service.backend(\"ibm_nazca\")\n",
        "print(backend)"
      ],
      "metadata": {
        "id": "fKK3ld9jBBB7"
      },
      "execution_count": null,
      "outputs": []
    },
    {
      "cell_type": "code",
      "source": [
        "pm = generate_preset_pass_manager(backend=backend, optimization_level=1)\n",
        "isa_circuit = pm.run(ansatz)\n",
        "isa_observable = hamiltonian.apply_layout(isa_circuit.layout)\n",
        "\n",
        "options = Options()\n",
        "options.optimization_level = 3\n",
        "options.resilience_level = 1\n",
        "\n",
        "estimator = Estimator(backend=backend, options=options)"
      ],
      "metadata": {
        "id": "u8cFwdeeBBB7"
      },
      "execution_count": null,
      "outputs": []
    },
    {
      "cell_type": "code",
      "source": [
        "def cost_func_vqe(params, ansatz, hamiltonian, estimator):\n",
        "    cost = estimator.run(ansatz, hamiltonian, parameter_values=params, shots=8000).result()\n",
        "    return cost.values[0]"
      ],
      "metadata": {
        "id": "fnTDNNcJBBB8"
      },
      "execution_count": null,
      "outputs": []
    },
    {
      "cell_type": "code",
      "source": [
        "x0 = np.array([-5.497e-01,  6.701e+00,  6.719e+00,  5.781e+00,  4.499e+00,  3.260e+00,  1.411e+00,  3.240e+00,  4.786e+00])\n",
        "local_minimum_list = []\n",
        "\n",
        "for _ in range(10):\n",
        "  local_minimum_list.append(cost_func_vqe(x0, isa_circuit, isa_observable, estimator))\n",
        "\n",
        "local_minimum_list = np.array(local_minimum_list)"
      ],
      "metadata": {
        "id": "GwS57hdyBBB8"
      },
      "execution_count": null,
      "outputs": []
    },
    {
      "cell_type": "code",
      "source": [
        "local_minimum_list"
      ],
      "metadata": {
        "id": "mut9rNQKBBB8"
      },
      "execution_count": null,
      "outputs": []
    },
    {
      "cell_type": "markdown",
      "source": [
        "## optimization_level = 3 resilence_level = 2"
      ],
      "metadata": {
        "id": "11OrZZmkBBgo"
      }
    },
    {
      "cell_type": "code",
      "source": [
        "from qiskit.circuit import QuantumCircuit, QuantumRegister, Parameter\n",
        "from qiskit.quantum_info import SparsePauliOp\n",
        "from qiskit.circuit import ParameterVector\n",
        "\n",
        "from qiskit_ibm_runtime import QiskitRuntimeService, Estimator, Options\n",
        "from qiskit.transpiler.preset_passmanagers import generate_preset_pass_manager\n",
        "\n",
        "import numpy as np"
      ],
      "metadata": {
        "id": "Oo_FEcODBBgp"
      },
      "execution_count": null,
      "outputs": []
    },
    {
      "cell_type": "code",
      "source": [
        "# Instantiate the system Hamiltonian\n",
        "interation = 1\n",
        "bias = -1\n",
        "\n",
        "coeff_list = [interation for _ in range(4)] + [bias for _ in range(5)]\n",
        "operator_list = [\"ZZIII\", \"IZZII\", \"IIZZI\", \"IIIZZ\", \"XIIII\", \"IXIII\", \"IIXII\", \"IIIXI\", \"IIIIX\"]\n",
        "hamiltonian_list = []\n",
        "for i in range(9):\n",
        "  hamiltonian_list.append((operator_list[i], coeff_list[i]))\n",
        "hamiltonian = SparsePauliOp.from_list(hamiltonian_list)"
      ],
      "metadata": {
        "id": "Md5C_3CsBBgp"
      },
      "execution_count": null,
      "outputs": []
    },
    {
      "cell_type": "code",
      "source": [
        "# Ansatz\n",
        "\n",
        "ansatz = QuantumCircuit(5)\n",
        "params = ParameterVector(\"theta\", length=9)\n",
        "it = iter(params)\n",
        "ansatz.h(range(0,5))\n",
        "\n",
        "ansatz.barrier()\n",
        "\n",
        "ansatz.cx(0, 1)\n",
        "ansatz.cx(2, 3)\n",
        "ansatz.rz(next(it), 1)\n",
        "ansatz.rz(next(it), 3)\n",
        "ansatz.cx(0, 1)\n",
        "ansatz.cx(2, 3)\n",
        "ansatz.cx(1, 2)\n",
        "ansatz.cx(3, 4)\n",
        "ansatz.rz(next(it), 2)\n",
        "ansatz.rz(next(it), 4)\n",
        "ansatz.cx(1, 2)\n",
        "ansatz.cx(3, 4)\n",
        "\n",
        "ansatz.barrier()\n",
        "\n",
        "ansatz.rx(next(it), 0)\n",
        "ansatz.rx(next(it), 1)\n",
        "ansatz.rx(next(it), 2)\n",
        "ansatz.rx(next(it), 3)\n",
        "ansatz.rx(next(it), 4)\n",
        "\n",
        "ansatz.draw(\"mpl\")"
      ],
      "metadata": {
        "id": "bFsX9F7QBBgp"
      },
      "execution_count": null,
      "outputs": []
    },
    {
      "cell_type": "code",
      "source": [
        "service = QiskitRuntimeService()\n",
        "\n",
        "backend = service.backend(\"ibm_nazca\")\n",
        "print(backend)"
      ],
      "metadata": {
        "id": "1l8nOgnZBBgq"
      },
      "execution_count": null,
      "outputs": []
    },
    {
      "cell_type": "code",
      "source": [
        "pm = generate_preset_pass_manager(backend=backend, optimization_level=1)\n",
        "isa_circuit = pm.run(ansatz)\n",
        "isa_observable = hamiltonian.apply_layout(isa_circuit.layout)\n",
        "\n",
        "options = Options()\n",
        "options.optimization_level = 3\n",
        "options.resilience_level = 2\n",
        "\n",
        "estimator = Estimator(backend=backend, options=options)"
      ],
      "metadata": {
        "id": "lmr687ocBBgq"
      },
      "execution_count": null,
      "outputs": []
    },
    {
      "cell_type": "code",
      "source": [
        "def cost_func_vqe(params, ansatz, hamiltonian, estimator):\n",
        "    cost = estimator.run(ansatz, hamiltonian, parameter_values=params, shots=8000).result()\n",
        "    return cost.values[0]"
      ],
      "metadata": {
        "id": "_SOOjkE3BBgq"
      },
      "execution_count": null,
      "outputs": []
    },
    {
      "cell_type": "code",
      "source": [
        "x0 = np.array([-5.497e-01,  6.701e+00,  6.719e+00,  5.781e+00,  4.499e+00,  3.260e+00,  1.411e+00,  3.240e+00,  4.786e+00])\n",
        "local_minimum_list = []\n",
        "\n",
        "for _ in range(10):\n",
        "  local_minimum_list.append(cost_func_vqe(x0, isa_circuit, isa_observable, estimator))\n",
        "\n",
        "local_minimum_list = np.array(local_minimum_list)"
      ],
      "metadata": {
        "id": "irTE5VudBBgq"
      },
      "execution_count": null,
      "outputs": []
    },
    {
      "cell_type": "code",
      "source": [
        "local_minimum_list"
      ],
      "metadata": {
        "id": "xqdZYx0xBBgq"
      },
      "execution_count": null,
      "outputs": []
    },
    {
      "cell_type": "markdown",
      "source": [
        "## optimization_level = 3 resilence_level = 3"
      ],
      "metadata": {
        "id": "wNbkWxyLBB15"
      }
    },
    {
      "cell_type": "code",
      "source": [
        "from qiskit.circuit import QuantumCircuit, QuantumRegister, Parameter\n",
        "from qiskit.quantum_info import SparsePauliOp\n",
        "from qiskit.circuit import ParameterVector\n",
        "\n",
        "from qiskit_ibm_runtime import QiskitRuntimeService, Estimator, Options\n",
        "from qiskit.transpiler.preset_passmanagers import generate_preset_pass_manager\n",
        "\n",
        "import numpy as np"
      ],
      "metadata": {
        "id": "7BTHBHLmBB16"
      },
      "execution_count": null,
      "outputs": []
    },
    {
      "cell_type": "code",
      "source": [
        "# Instantiate the system Hamiltonian\n",
        "interation = 1\n",
        "bias = -1\n",
        "\n",
        "coeff_list = [interation for _ in range(4)] + [bias for _ in range(5)]\n",
        "operator_list = [\"ZZIII\", \"IZZII\", \"IIZZI\", \"IIIZZ\", \"XIIII\", \"IXIII\", \"IIXII\", \"IIIXI\", \"IIIIX\"]\n",
        "hamiltonian_list = []\n",
        "for i in range(9):\n",
        "  hamiltonian_list.append((operator_list[i], coeff_list[i]))\n",
        "hamiltonian = SparsePauliOp.from_list(hamiltonian_list)"
      ],
      "metadata": {
        "id": "FuvdEv4_BB16"
      },
      "execution_count": null,
      "outputs": []
    },
    {
      "cell_type": "code",
      "source": [
        "# Ansatz\n",
        "\n",
        "ansatz = QuantumCircuit(5)\n",
        "params = ParameterVector(\"theta\", length=9)\n",
        "it = iter(params)\n",
        "ansatz.h(range(0,5))\n",
        "\n",
        "ansatz.barrier()\n",
        "\n",
        "ansatz.cx(0, 1)\n",
        "ansatz.cx(2, 3)\n",
        "ansatz.rz(next(it), 1)\n",
        "ansatz.rz(next(it), 3)\n",
        "ansatz.cx(0, 1)\n",
        "ansatz.cx(2, 3)\n",
        "ansatz.cx(1, 2)\n",
        "ansatz.cx(3, 4)\n",
        "ansatz.rz(next(it), 2)\n",
        "ansatz.rz(next(it), 4)\n",
        "ansatz.cx(1, 2)\n",
        "ansatz.cx(3, 4)\n",
        "\n",
        "ansatz.barrier()\n",
        "\n",
        "ansatz.rx(next(it), 0)\n",
        "ansatz.rx(next(it), 1)\n",
        "ansatz.rx(next(it), 2)\n",
        "ansatz.rx(next(it), 3)\n",
        "ansatz.rx(next(it), 4)\n",
        "\n",
        "ansatz.draw(\"mpl\")"
      ],
      "metadata": {
        "id": "aUf7tIxPBB16"
      },
      "execution_count": null,
      "outputs": []
    },
    {
      "cell_type": "code",
      "source": [
        "service = QiskitRuntimeService()\n",
        "\n",
        "backend = service.backend(\"ibm_nazca\")\n",
        "print(backend)"
      ],
      "metadata": {
        "id": "7DBYloBKBB17"
      },
      "execution_count": null,
      "outputs": []
    },
    {
      "cell_type": "code",
      "source": [
        "pm = generate_preset_pass_manager(backend=backend, optimization_level=1)\n",
        "isa_circuit = pm.run(ansatz)\n",
        "isa_observable = hamiltonian.apply_layout(isa_circuit.layout)\n",
        "\n",
        "options = Options()\n",
        "options.optimization_level = 3\n",
        "options.resilience_level = 3\n",
        "\n",
        "estimator = Estimator(backend=backend, options=options)"
      ],
      "metadata": {
        "id": "rEm9i-KBBB17"
      },
      "execution_count": null,
      "outputs": []
    },
    {
      "cell_type": "code",
      "source": [
        "def cost_func_vqe(params, ansatz, hamiltonian, estimator):\n",
        "    cost = estimator.run(ansatz, hamiltonian, parameter_values=params, shots=8000).result()\n",
        "    return cost.values[0]"
      ],
      "metadata": {
        "id": "u95b9BYBBB17"
      },
      "execution_count": null,
      "outputs": []
    },
    {
      "cell_type": "code",
      "source": [
        "x0 = np.array([-5.497e-01,  6.701e+00,  6.719e+00,  5.781e+00,  4.499e+00,  3.260e+00,  1.411e+00,  3.240e+00,  4.786e+00])\n",
        "local_minimum_list = []\n",
        "\n",
        "for _ in range(10):\n",
        "  local_minimum_list.append(cost_func_vqe(x0, isa_circuit, isa_observable, estimator))\n",
        "\n",
        "local_minimum_list = np.array(local_minimum_list)"
      ],
      "metadata": {
        "id": "I5dr3Ge8BB18"
      },
      "execution_count": null,
      "outputs": []
    },
    {
      "cell_type": "code",
      "source": [
        "local_minimum_list"
      ],
      "metadata": {
        "id": "X7vo_xXKBB19"
      },
      "execution_count": null,
      "outputs": []
    },
    {
      "cell_type": "markdown",
      "source": [
        "## Optimized Lowest Energy\n",
        "\n",
        "Optimization_level=3 & Resilence_level=0\n",
        "\n",
        "[-5.06079102, -5.26391602, -5.17651367, -5.2253418 , -5.31274414, -5.31054688, -5.2878418 , -5.27050781, -5.28540039, -5.29614258]\n",
        "\n",
        "Optimization_level=3 & Resilence_level=1\n",
        "\n",
        "[-5.72749676, -5.72937777, -5.73962453, -5.7612482 , -5.68476149, -5.6843978 , -5.64541463, -5.76621523, -5.71810848, -5.76632458]\n",
        "\n",
        "Optimization_level=3 & Resilence_level=2\n",
        "\n",
        "[-5.69306641, -5.74666425, -5.69708356, -5.7189238 , -5.70712288, -5.67600891, -5.72470249, -5.74243537, -5.69886404, -5.62487282]\n",
        "\n",
        "Optimization_level=3 & Resilence_level=3\n",
        "\n",
        "[-6.22839352, -4.62640797, -6.19686491, -5.54156607, -5.65017652, -5.74497337, -6.03524048, -5.48405816, -5.61264108, -6.14861837]"
      ],
      "metadata": {
        "id": "OnQHVMJmseyt"
      }
    },
    {
      "cell_type": "code",
      "source": [
        "# When Optimization_level=3 & Resilence_level=0\n",
        "\n",
        "local_minimum_list = np.array([-5.06079102, -5.26391602, -5.17651367, -5.2253418 , -5.31274414, -5.31054688, -5.2878418 , -5.27050781, -5.28540039, -5.29614258])\n",
        "\n",
        "mean_0 = np.mean(local_minimum_list)\n",
        "var_0 = np.var(local_minimum_list)\n",
        "max_0 = np.max(local_minimum_list)\n",
        "min_0 = np.min(local_minimum_list)\n",
        "\n",
        "print(\"mean : {0}\".format(mean_0))\n",
        "print(\"variance : {0}\".format(var_0))\n",
        "print(\"maximum : {0}\".format(max_0))\n",
        "print(\"minimum : {0}\".format(min_0))\n",
        "print()\n",
        "print(local_minimum_list)"
      ],
      "metadata": {
        "colab": {
          "base_uri": "https://localhost:8080/"
        },
        "id": "b6Qw9KesxQ_W",
        "outputId": "5bfa7319-f2fa-4034-942f-eefbe1e6e21c"
      },
      "execution_count": null,
      "outputs": [
        {
          "output_type": "stream",
          "name": "stdout",
          "text": [
            "mean : -5.2489746109999995\n",
            "variance : 0.005482909620489517\n",
            "maximum : -5.06079102\n",
            "minimum : -5.31274414\n",
            "\n",
            "[-5.06079102 -5.26391602 -5.17651367 -5.2253418  -5.31274414 -5.31054688\n",
            " -5.2878418  -5.27050781 -5.28540039 -5.29614258]\n"
          ]
        }
      ]
    },
    {
      "cell_type": "code",
      "source": [
        "# When Optimization_level=3 & Resilence_level=1\n",
        "\n",
        "local_minimum_list = np.array([-5.72749676, -5.72937777, -5.73962453, -5.7612482 , -5.68476149, -5.6843978 , -5.64541463, -5.76621523, -5.71810848, -5.76632458])\n",
        "\n",
        "mean_1 = np.mean(local_minimum_list)\n",
        "var_1 = np.var(local_minimum_list)\n",
        "max_1 = np.max(local_minimum_list)\n",
        "min_1 = np.min(local_minimum_list)\n",
        "\n",
        "print(\"mean : {0}\".format(mean_1))\n",
        "print(\"variance : {0}\".format(var_1))\n",
        "print(\"maximum : {0}\".format(max_1))\n",
        "print(\"minimum : {0}\".format(min_1))\n",
        "print()\n",
        "print(local_minimum_list)"
      ],
      "metadata": {
        "colab": {
          "base_uri": "https://localhost:8080/"
        },
        "id": "ZWaQeRHUxQ8k",
        "outputId": "2e6cf137-13f2-4b51-e565-658a8b1981b4"
      },
      "execution_count": null,
      "outputs": [
        {
          "output_type": "stream",
          "name": "stdout",
          "text": [
            "mean : -5.722296947\n",
            "variance : 0.0014535559200360005\n",
            "maximum : -5.64541463\n",
            "minimum : -5.76632458\n",
            "\n",
            "[-5.72749676 -5.72937777 -5.73962453 -5.7612482  -5.68476149 -5.6843978\n",
            " -5.64541463 -5.76621523 -5.71810848 -5.76632458]\n"
          ]
        }
      ]
    },
    {
      "cell_type": "code",
      "source": [
        "# When Optimization_level=3 & Resilence_level=2\n",
        "\n",
        "local_minimum_list = np.array([-5.69306641, -5.74666425, -5.69708356, -5.7189238 , -5.70712288, -5.67600891, -5.72470249, -5.74243537, -5.69886404, -5.62487282])\n",
        "\n",
        "mean_2 = np.mean(local_minimum_list)\n",
        "var_2 = np.var(local_minimum_list)\n",
        "max_2 = np.max(local_minimum_list)\n",
        "min_2 = np.min(local_minimum_list)\n",
        "\n",
        "print(\"mean : {0}\".format(mean_2))\n",
        "print(\"variance : {0}\".format(var_2))\n",
        "print(\"maximum : {0}\".format(max_2))\n",
        "print(\"minimum : {0}\".format(min_2))\n",
        "print()\n",
        "print(local_minimum_list)"
      ],
      "metadata": {
        "colab": {
          "base_uri": "https://localhost:8080/"
        },
        "id": "2l_BfyBUxQ3_",
        "outputId": "f3489cb6-01b7-4eb7-a527-634e7e3d88b3"
      },
      "execution_count": null,
      "outputs": [
        {
          "output_type": "stream",
          "name": "stdout",
          "text": [
            "mean : -5.702974453000001\n",
            "variance : 0.001118643405856558\n",
            "maximum : -5.62487282\n",
            "minimum : -5.74666425\n",
            "\n",
            "[-5.69306641 -5.74666425 -5.69708356 -5.7189238  -5.70712288 -5.67600891\n",
            " -5.72470249 -5.74243537 -5.69886404 -5.62487282]\n"
          ]
        }
      ]
    },
    {
      "cell_type": "code",
      "source": [
        "# When Optimization_level=3 & Resilence_level=3\n",
        "\n",
        "local_minimum_list = np.array([-6.22839352, -4.62640797, -6.19686491, -5.54156607, -5.65017652, -5.74497337, -6.03524048, -5.48405816, -5.61264108, -6.14861837])\n",
        "\n",
        "mean_3 = np.mean(local_minimum_list)\n",
        "var_3 = np.var(local_minimum_list)\n",
        "max_3 = np.max(local_minimum_list)\n",
        "min_3 = np.min(local_minimum_list)\n",
        "\n",
        "print(\"mean : {0}\".format(mean_3))\n",
        "print(\"variance : {0}\".format(var_3))\n",
        "print(\"maximum : {0}\".format(max_3))\n",
        "print(\"minimum : {0}\".format(min_3))\n",
        "print()\n",
        "print(local_minimum_list)"
      ],
      "metadata": {
        "colab": {
          "base_uri": "https://localhost:8080/"
        },
        "id": "sS1CxCBsyEn2",
        "outputId": "dcff99b3-42be-4e55-faac-8904d4e1e57c"
      },
      "execution_count": null,
      "outputs": [
        {
          "output_type": "stream",
          "name": "stdout",
          "text": [
            "mean : -5.726894045\n",
            "variance : 0.20689547749241513\n",
            "maximum : -4.62640797\n",
            "minimum : -6.22839352\n",
            "\n",
            "[-6.22839352 -4.62640797 -6.19686491 -5.54156607 -5.65017652 -5.74497337\n",
            " -6.03524048 -5.48405816 -5.61264108 -6.14861837]\n"
          ]
        }
      ]
    },
    {
      "cell_type": "code",
      "source": [
        "import matplotlib.pyplot as plt\n",
        "\n",
        "x = [\"Resilience_level=0\", \"Resilience_level=1\", \"Resilience_level=2\", \"Resilience_level=3\"]\n",
        "y = [mean_0,mean_1,mean_2,mean_3]\n",
        "yerr = [2*np.sqrt(var_0), 2*np.sqrt(var_1), 2*np.sqrt(var_2), 2*np.sqrt(var_3)]\n",
        "\n",
        "plt.plot(x, y)\n",
        "plt.errorbar(x, y, yerr=yerr, fmt ='o')\n",
        "plt.xlabel('Error')\n",
        "plt.ylabel('Lowest Energy, Optimization_level=3')\n",
        "plt.show()"
      ],
      "metadata": {
        "colab": {
          "base_uri": "https://localhost:8080/",
          "height": 451
        },
        "id": "xJnV2-kOyEgN",
        "outputId": "464a0dbe-01e9-498a-fdee-fa46ea405a1b"
      },
      "execution_count": null,
      "outputs": [
        {
          "output_type": "display_data",
          "data": {
            "text/plain": [
              "<Figure size 640x480 with 1 Axes>"
            ],
            "image/png": "[encoded data removed]"
          },
          "metadata": {}
        }
      ]
    },
    {
      "cell_type": "code",
      "source": [
        "dct = {0: 0.000703318749639, 1: 0.00279701230776, 2: 0.018962583903367, 3: 0.004633930511633, 4: 0.006873627806736, 5: 0.033051991418439, 6: 0.019247714308425, 7: 0.005906259179086, 8: 0.015282054058638, 9: 0.084477253768211, 10: 0.147913247730329, 11: 0.033322767782439, 12: 0.015974756754199, 13: 0.078755517519148, 14: 0.025803949922671, 15: 0.009556648531217, 16: 0.003014439712155, 17: 0.021196278884722, 18: 0.07334858435814, 19: 0.01789682068835, 20: 0.027081690130632, 21: 0.128669683874592, 22: 0.071120033379857, 23: 0.021254392687701, 24: 0.005067797516043, 25: 0.035538049235404, 26: 0.053010842498968, 27: 0.01443383641633, 28: 0.003419917110751, 29: 0.017811049699612, 30: 0.002038596308552, 31: 0.001835353246256}"
      ],
      "metadata": {
        "id": "THMwKrOWpaV8"
      },
      "execution_count": 44,
      "outputs": []
    },
    {
      "cell_type": "code",
      "source": [
        "sum = 0\n",
        "for i in range(32):\n",
        "  sum = sum + dct[i]\n",
        "\n",
        "sum"
      ],
      "metadata": {
        "colab": {
          "base_uri": "https://localhost:8080/"
        },
        "id": "MewjMFEqpiXB",
        "outputId": "e1feb40f-262a-42af-f7ad-a4c6d2f323dc"
      },
      "execution_count": 45,
      "outputs": [
        {
          "output_type": "execute_result",
          "data": {
            "text/plain": [
              "1.0000000000000018"
            ]
          },
          "metadata": {},
          "execution_count": 45
        }
      ]
    }
  ]
}