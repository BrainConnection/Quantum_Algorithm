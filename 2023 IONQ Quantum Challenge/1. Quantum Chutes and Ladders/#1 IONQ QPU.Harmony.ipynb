{
  "nbformat": 4,
  "nbformat_minor": 0,
  "metadata": {
    "colab": {
      "provenance": [],
      "machine_shape": "hm",
      "authorship_tag": "ABX9TyM+CWA8/OHqwJNibXLOmbgm",
      "include_colab_link": true
    },
    "kernelspec": {
      "name": "python3",
      "display_name": "Python 3"
    },
    "language_info": {
      "name": "python"
    }
  },
  "cells": [
    {
      "cell_type": "markdown",
      "metadata": {
        "id": "view-in-github",
        "colab_type": "text"
      },
      "source": [
        "<a href=\"https://colab.research.google.com/github/BrainConnection/Qiskit/blob/main/Project%20Quantum%20Challenge%202023/1.%20Quantum%20Chutes%20and%20Ladders/%231%20IONQ%20QPU.Harmony.ipynb\" target=\"_parent\"><img src=\"https://colab.research.google.com/assets/colab-badge.svg\" alt=\"Open In Colab\"/></a>"
      ]
    },
    {
      "cell_type": "markdown",
      "source": [
        "#Environment Setting"
      ],
      "metadata": {
        "id": "wFTTlKRB4I5m"
      }
    },
    {
      "cell_type": "code",
      "execution_count": 1,
      "metadata": {
        "colab": {
          "base_uri": "https://localhost:8080/"
        },
        "id": "lbTAJCQKFw8f",
        "outputId": "ea93976f-f865-4b03-dc89-76ee0f34d77c"
      },
      "outputs": [
        {
          "output_type": "stream",
          "name": "stdout",
          "text": [
            "Requirement already satisfied: qiskit in /usr/local/lib/python3.10/dist-packages (0.45.0)\n",
            "Requirement already satisfied: qiskit-terra==0.45.0 in /usr/local/lib/python3.10/dist-packages (from qiskit) (0.45.0)\n",
            "Requirement already satisfied: rustworkx>=0.13.0 in /usr/local/lib/python3.10/dist-packages (from qiskit-terra==0.45.0->qiskit) (0.13.2)\n",
            "Requirement already satisfied: numpy<2,>=1.17 in /usr/local/lib/python3.10/dist-packages (from qiskit-terra==0.45.0->qiskit) (1.23.5)\n",
            "Requirement already satisfied: ply>=3.10 in /usr/local/lib/python3.10/dist-packages (from qiskit-terra==0.45.0->qiskit) (3.11)\n",
            "Requirement already satisfied: psutil>=5 in /usr/local/lib/python3.10/dist-packages (from qiskit-terra==0.45.0->qiskit) (5.9.5)\n",
            "Requirement already satisfied: scipy>=1.5 in /usr/local/lib/python3.10/dist-packages (from qiskit-terra==0.45.0->qiskit) (1.11.3)\n",
            "Requirement already satisfied: sympy>=1.3 in /usr/local/lib/python3.10/dist-packages (from qiskit-terra==0.45.0->qiskit) (1.12)\n",
            "Requirement already satisfied: dill>=0.3 in /usr/local/lib/python3.10/dist-packages (from qiskit-terra==0.45.0->qiskit) (0.3.7)\n",
            "Requirement already satisfied: python-dateutil>=2.8.0 in /usr/local/lib/python3.10/dist-packages (from qiskit-terra==0.45.0->qiskit) (2.8.2)\n",
            "Requirement already satisfied: stevedore>=3.0.0 in /usr/local/lib/python3.10/dist-packages (from qiskit-terra==0.45.0->qiskit) (5.1.0)\n",
            "Requirement already satisfied: symengine<0.10,>=0.9 in /usr/local/lib/python3.10/dist-packages (from qiskit-terra==0.45.0->qiskit) (0.9.2)\n",
            "Requirement already satisfied: typing-extensions in /usr/local/lib/python3.10/dist-packages (from qiskit-terra==0.45.0->qiskit) (4.5.0)\n",
            "Requirement already satisfied: six>=1.5 in /usr/local/lib/python3.10/dist-packages (from python-dateutil>=2.8.0->qiskit-terra==0.45.0->qiskit) (1.16.0)\n",
            "Requirement already satisfied: pbr!=2.1.0,>=2.0.0 in /usr/local/lib/python3.10/dist-packages (from stevedore>=3.0.0->qiskit-terra==0.45.0->qiskit) (6.0.0)\n",
            "Requirement already satisfied: mpmath>=0.19 in /usr/local/lib/python3.10/dist-packages (from sympy>=1.3->qiskit-terra==0.45.0->qiskit) (1.3.0)\n",
            "Requirement already satisfied: qiskit-ionq in /usr/local/lib/python3.10/dist-packages (0.4.4)\n",
            "Requirement already satisfied: decorator>=5.1.0 in /usr/local/lib/python3.10/dist-packages (from qiskit-ionq) (5.1.1)\n",
            "Requirement already satisfied: qiskit-terra>=0.17.4 in /usr/local/lib/python3.10/dist-packages (from qiskit-ionq) (0.45.0)\n",
            "Requirement already satisfied: requests>=2.24.0 in /usr/local/lib/python3.10/dist-packages (from qiskit-ionq) (2.31.0)\n",
            "Requirement already satisfied: retry>=0.9.0 in /usr/local/lib/python3.10/dist-packages (from qiskit-ionq) (0.9.2)\n",
            "Requirement already satisfied: importlib-metadata>=4.11.4 in /usr/local/lib/python3.10/dist-packages (from qiskit-ionq) (6.8.0)\n",
            "Requirement already satisfied: zipp>=0.5 in /usr/local/lib/python3.10/dist-packages (from importlib-metadata>=4.11.4->qiskit-ionq) (3.17.0)\n",
            "Requirement already satisfied: rustworkx>=0.13.0 in /usr/local/lib/python3.10/dist-packages (from qiskit-terra>=0.17.4->qiskit-ionq) (0.13.2)\n",
            "Requirement already satisfied: numpy<2,>=1.17 in /usr/local/lib/python3.10/dist-packages (from qiskit-terra>=0.17.4->qiskit-ionq) (1.23.5)\n",
            "Requirement already satisfied: ply>=3.10 in /usr/local/lib/python3.10/dist-packages (from qiskit-terra>=0.17.4->qiskit-ionq) (3.11)\n",
            "Requirement already satisfied: psutil>=5 in /usr/local/lib/python3.10/dist-packages (from qiskit-terra>=0.17.4->qiskit-ionq) (5.9.5)\n",
            "Requirement already satisfied: scipy>=1.5 in /usr/local/lib/python3.10/dist-packages (from qiskit-terra>=0.17.4->qiskit-ionq) (1.11.3)\n",
            "Requirement already satisfied: sympy>=1.3 in /usr/local/lib/python3.10/dist-packages (from qiskit-terra>=0.17.4->qiskit-ionq) (1.12)\n",
            "Requirement already satisfied: dill>=0.3 in /usr/local/lib/python3.10/dist-packages (from qiskit-terra>=0.17.4->qiskit-ionq) (0.3.7)\n",
            "Requirement already satisfied: python-dateutil>=2.8.0 in /usr/local/lib/python3.10/dist-packages (from qiskit-terra>=0.17.4->qiskit-ionq) (2.8.2)\n",
            "Requirement already satisfied: stevedore>=3.0.0 in /usr/local/lib/python3.10/dist-packages (from qiskit-terra>=0.17.4->qiskit-ionq) (5.1.0)\n",
            "Requirement already satisfied: symengine<0.10,>=0.9 in /usr/local/lib/python3.10/dist-packages (from qiskit-terra>=0.17.4->qiskit-ionq) (0.9.2)\n",
            "Requirement already satisfied: typing-extensions in /usr/local/lib/python3.10/dist-packages (from qiskit-terra>=0.17.4->qiskit-ionq) (4.5.0)\n",
            "Requirement already satisfied: charset-normalizer<4,>=2 in /usr/local/lib/python3.10/dist-packages (from requests>=2.24.0->qiskit-ionq) (3.3.2)\n",
            "Requirement already satisfied: idna<4,>=2.5 in /usr/local/lib/python3.10/dist-packages (from requests>=2.24.0->qiskit-ionq) (3.4)\n",
            "Requirement already satisfied: urllib3<3,>=1.21.1 in /usr/local/lib/python3.10/dist-packages (from requests>=2.24.0->qiskit-ionq) (2.0.7)\n",
            "Requirement already satisfied: certifi>=2017.4.17 in /usr/local/lib/python3.10/dist-packages (from requests>=2.24.0->qiskit-ionq) (2023.7.22)\n",
            "Requirement already satisfied: py<2.0.0,>=1.4.26 in /usr/local/lib/python3.10/dist-packages (from retry>=0.9.0->qiskit-ionq) (1.11.0)\n",
            "Requirement already satisfied: six>=1.5 in /usr/local/lib/python3.10/dist-packages (from python-dateutil>=2.8.0->qiskit-terra>=0.17.4->qiskit-ionq) (1.16.0)\n",
            "Requirement already satisfied: pbr!=2.1.0,>=2.0.0 in /usr/local/lib/python3.10/dist-packages (from stevedore>=3.0.0->qiskit-terra>=0.17.4->qiskit-ionq) (6.0.0)\n",
            "Requirement already satisfied: mpmath>=0.19 in /usr/local/lib/python3.10/dist-packages (from sympy>=1.3->qiskit-terra>=0.17.4->qiskit-ionq) (1.3.0)\n",
            "Requirement already satisfied: qiskit[visualization] in /usr/local/lib/python3.10/dist-packages (0.45.0)\n",
            "Requirement already satisfied: qiskit-terra==0.45.0 in /usr/local/lib/python3.10/dist-packages (from qiskit[visualization]) (0.45.0)\n",
            "Requirement already satisfied: rustworkx>=0.13.0 in /usr/local/lib/python3.10/dist-packages (from qiskit-terra==0.45.0->qiskit[visualization]) (0.13.2)\n",
            "Requirement already satisfied: numpy<2,>=1.17 in /usr/local/lib/python3.10/dist-packages (from qiskit-terra==0.45.0->qiskit[visualization]) (1.23.5)\n",
            "Requirement already satisfied: ply>=3.10 in /usr/local/lib/python3.10/dist-packages (from qiskit-terra==0.45.0->qiskit[visualization]) (3.11)\n",
            "Requirement already satisfied: psutil>=5 in /usr/local/lib/python3.10/dist-packages (from qiskit-terra==0.45.0->qiskit[visualization]) (5.9.5)\n",
            "Requirement already satisfied: scipy>=1.5 in /usr/local/lib/python3.10/dist-packages (from qiskit-terra==0.45.0->qiskit[visualization]) (1.11.3)\n",
            "Requirement already satisfied: sympy>=1.3 in /usr/local/lib/python3.10/dist-packages (from qiskit-terra==0.45.0->qiskit[visualization]) (1.12)\n",
            "Requirement already satisfied: dill>=0.3 in /usr/local/lib/python3.10/dist-packages (from qiskit-terra==0.45.0->qiskit[visualization]) (0.3.7)\n",
            "Requirement already satisfied: python-dateutil>=2.8.0 in /usr/local/lib/python3.10/dist-packages (from qiskit-terra==0.45.0->qiskit[visualization]) (2.8.2)\n",
            "Requirement already satisfied: stevedore>=3.0.0 in /usr/local/lib/python3.10/dist-packages (from qiskit-terra==0.45.0->qiskit[visualization]) (5.1.0)\n",
            "Requirement already satisfied: symengine<0.10,>=0.9 in /usr/local/lib/python3.10/dist-packages (from qiskit-terra==0.45.0->qiskit[visualization]) (0.9.2)\n",
            "Requirement already satisfied: typing-extensions in /usr/local/lib/python3.10/dist-packages (from qiskit-terra==0.45.0->qiskit[visualization]) (4.5.0)\n",
            "Requirement already satisfied: matplotlib>=3.3 in /usr/local/lib/python3.10/dist-packages (from qiskit-terra==0.45.0->qiskit[visualization]) (3.7.1)\n",
            "Requirement already satisfied: ipywidgets>=7.3.0 in /usr/local/lib/python3.10/dist-packages (from qiskit-terra==0.45.0->qiskit[visualization]) (7.7.1)\n",
            "Requirement already satisfied: pydot in /usr/local/lib/python3.10/dist-packages (from qiskit-terra==0.45.0->qiskit[visualization]) (1.4.2)\n",
            "Requirement already satisfied: pillow>=4.2.1 in /usr/local/lib/python3.10/dist-packages (from qiskit-terra==0.45.0->qiskit[visualization]) (9.4.0)\n",
            "Requirement already satisfied: pylatexenc>=1.4 in /usr/local/lib/python3.10/dist-packages (from qiskit-terra==0.45.0->qiskit[visualization]) (2.10)\n",
            "Requirement already satisfied: seaborn>=0.9.0 in /usr/local/lib/python3.10/dist-packages (from qiskit-terra==0.45.0->qiskit[visualization]) (0.12.2)\n",
            "Requirement already satisfied: pygments>=2.4 in /usr/local/lib/python3.10/dist-packages (from qiskit-terra==0.45.0->qiskit[visualization]) (2.16.1)\n",
            "Requirement already satisfied: ipykernel>=4.5.1 in /usr/local/lib/python3.10/dist-packages (from ipywidgets>=7.3.0->qiskit-terra==0.45.0->qiskit[visualization]) (5.5.6)\n",
            "Requirement already satisfied: ipython-genutils~=0.2.0 in /usr/local/lib/python3.10/dist-packages (from ipywidgets>=7.3.0->qiskit-terra==0.45.0->qiskit[visualization]) (0.2.0)\n",
            "Requirement already satisfied: traitlets>=4.3.1 in /usr/local/lib/python3.10/dist-packages (from ipywidgets>=7.3.0->qiskit-terra==0.45.0->qiskit[visualization]) (5.7.1)\n",
            "Requirement already satisfied: widgetsnbextension~=3.6.0 in /usr/local/lib/python3.10/dist-packages (from ipywidgets>=7.3.0->qiskit-terra==0.45.0->qiskit[visualization]) (3.6.6)\n",
            "Requirement already satisfied: ipython>=4.0.0 in /usr/local/lib/python3.10/dist-packages (from ipywidgets>=7.3.0->qiskit-terra==0.45.0->qiskit[visualization]) (7.34.0)\n",
            "Requirement already satisfied: jupyterlab-widgets>=1.0.0 in /usr/local/lib/python3.10/dist-packages (from ipywidgets>=7.3.0->qiskit-terra==0.45.0->qiskit[visualization]) (3.0.9)\n",
            "Requirement already satisfied: contourpy>=1.0.1 in /usr/local/lib/python3.10/dist-packages (from matplotlib>=3.3->qiskit-terra==0.45.0->qiskit[visualization]) (1.2.0)\n",
            "Requirement already satisfied: cycler>=0.10 in /usr/local/lib/python3.10/dist-packages (from matplotlib>=3.3->qiskit-terra==0.45.0->qiskit[visualization]) (0.12.1)\n",
            "Requirement already satisfied: fonttools>=4.22.0 in /usr/local/lib/python3.10/dist-packages (from matplotlib>=3.3->qiskit-terra==0.45.0->qiskit[visualization]) (4.44.0)\n",
            "Requirement already satisfied: kiwisolver>=1.0.1 in /usr/local/lib/python3.10/dist-packages (from matplotlib>=3.3->qiskit-terra==0.45.0->qiskit[visualization]) (1.4.5)\n",
            "Requirement already satisfied: packaging>=20.0 in /usr/local/lib/python3.10/dist-packages (from matplotlib>=3.3->qiskit-terra==0.45.0->qiskit[visualization]) (23.2)\n",
            "Requirement already satisfied: pyparsing>=2.3.1 in /usr/local/lib/python3.10/dist-packages (from matplotlib>=3.3->qiskit-terra==0.45.0->qiskit[visualization]) (3.1.1)\n",
            "Requirement already satisfied: six>=1.5 in /usr/local/lib/python3.10/dist-packages (from python-dateutil>=2.8.0->qiskit-terra==0.45.0->qiskit[visualization]) (1.16.0)\n",
            "Requirement already satisfied: pandas>=0.25 in /usr/local/lib/python3.10/dist-packages (from seaborn>=0.9.0->qiskit-terra==0.45.0->qiskit[visualization]) (1.5.3)\n",
            "Requirement already satisfied: pbr!=2.1.0,>=2.0.0 in /usr/local/lib/python3.10/dist-packages (from stevedore>=3.0.0->qiskit-terra==0.45.0->qiskit[visualization]) (6.0.0)\n",
            "Requirement already satisfied: mpmath>=0.19 in /usr/local/lib/python3.10/dist-packages (from sympy>=1.3->qiskit-terra==0.45.0->qiskit[visualization]) (1.3.0)\n",
            "Requirement already satisfied: jupyter-client in /usr/local/lib/python3.10/dist-packages (from ipykernel>=4.5.1->ipywidgets>=7.3.0->qiskit-terra==0.45.0->qiskit[visualization]) (6.1.12)\n",
            "Requirement already satisfied: tornado>=4.2 in /usr/local/lib/python3.10/dist-packages (from ipykernel>=4.5.1->ipywidgets>=7.3.0->qiskit-terra==0.45.0->qiskit[visualization]) (6.3.2)\n",
            "Requirement already satisfied: setuptools>=18.5 in /usr/local/lib/python3.10/dist-packages (from ipython>=4.0.0->ipywidgets>=7.3.0->qiskit-terra==0.45.0->qiskit[visualization]) (67.7.2)\n",
            "Requirement already satisfied: jedi>=0.16 in /usr/local/lib/python3.10/dist-packages (from ipython>=4.0.0->ipywidgets>=7.3.0->qiskit-terra==0.45.0->qiskit[visualization]) (0.19.1)\n",
            "Requirement already satisfied: decorator in /usr/local/lib/python3.10/dist-packages (from ipython>=4.0.0->ipywidgets>=7.3.0->qiskit-terra==0.45.0->qiskit[visualization]) (5.1.1)\n",
            "Requirement already satisfied: pickleshare in /usr/local/lib/python3.10/dist-packages (from ipython>=4.0.0->ipywidgets>=7.3.0->qiskit-terra==0.45.0->qiskit[visualization]) (0.7.5)\n",
            "Requirement already satisfied: prompt-toolkit!=3.0.0,!=3.0.1,<3.1.0,>=2.0.0 in /usr/local/lib/python3.10/dist-packages (from ipython>=4.0.0->ipywidgets>=7.3.0->qiskit-terra==0.45.0->qiskit[visualization]) (3.0.39)\n",
            "Requirement already satisfied: backcall in /usr/local/lib/python3.10/dist-packages (from ipython>=4.0.0->ipywidgets>=7.3.0->qiskit-terra==0.45.0->qiskit[visualization]) (0.2.0)\n",
            "Requirement already satisfied: matplotlib-inline in /usr/local/lib/python3.10/dist-packages (from ipython>=4.0.0->ipywidgets>=7.3.0->qiskit-terra==0.45.0->qiskit[visualization]) (0.1.6)\n",
            "Requirement already satisfied: pexpect>4.3 in /usr/local/lib/python3.10/dist-packages (from ipython>=4.0.0->ipywidgets>=7.3.0->qiskit-terra==0.45.0->qiskit[visualization]) (4.8.0)\n",
            "Requirement already satisfied: pytz>=2020.1 in /usr/local/lib/python3.10/dist-packages (from pandas>=0.25->seaborn>=0.9.0->qiskit-terra==0.45.0->qiskit[visualization]) (2023.3.post1)\n",
            "Requirement already satisfied: notebook>=4.4.1 in /usr/local/lib/python3.10/dist-packages (from widgetsnbextension~=3.6.0->ipywidgets>=7.3.0->qiskit-terra==0.45.0->qiskit[visualization]) (6.5.5)\n",
            "Requirement already satisfied: parso<0.9.0,>=0.8.3 in /usr/local/lib/python3.10/dist-packages (from jedi>=0.16->ipython>=4.0.0->ipywidgets>=7.3.0->qiskit-terra==0.45.0->qiskit[visualization]) (0.8.3)\n",
            "Requirement already satisfied: jinja2 in /usr/local/lib/python3.10/dist-packages (from notebook>=4.4.1->widgetsnbextension~=3.6.0->ipywidgets>=7.3.0->qiskit-terra==0.45.0->qiskit[visualization]) (3.1.2)\n",
            "Requirement already satisfied: pyzmq<25,>=17 in /usr/local/lib/python3.10/dist-packages (from notebook>=4.4.1->widgetsnbextension~=3.6.0->ipywidgets>=7.3.0->qiskit-terra==0.45.0->qiskit[visualization]) (23.2.1)\n",
            "Requirement already satisfied: argon2-cffi in /usr/local/lib/python3.10/dist-packages (from notebook>=4.4.1->widgetsnbextension~=3.6.0->ipywidgets>=7.3.0->qiskit-terra==0.45.0->qiskit[visualization]) (23.1.0)\n",
            "Requirement already satisfied: jupyter-core>=4.6.1 in /usr/local/lib/python3.10/dist-packages (from notebook>=4.4.1->widgetsnbextension~=3.6.0->ipywidgets>=7.3.0->qiskit-terra==0.45.0->qiskit[visualization]) (5.5.0)\n",
            "Requirement already satisfied: nbformat in /usr/local/lib/python3.10/dist-packages (from notebook>=4.4.1->widgetsnbextension~=3.6.0->ipywidgets>=7.3.0->qiskit-terra==0.45.0->qiskit[visualization]) (5.9.2)\n",
            "Requirement already satisfied: nbconvert>=5 in /usr/local/lib/python3.10/dist-packages (from notebook>=4.4.1->widgetsnbextension~=3.6.0->ipywidgets>=7.3.0->qiskit-terra==0.45.0->qiskit[visualization]) (6.5.4)\n",
            "Requirement already satisfied: nest-asyncio>=1.5 in /usr/local/lib/python3.10/dist-packages (from notebook>=4.4.1->widgetsnbextension~=3.6.0->ipywidgets>=7.3.0->qiskit-terra==0.45.0->qiskit[visualization]) (1.5.8)\n",
            "Requirement already satisfied: Send2Trash>=1.8.0 in /usr/local/lib/python3.10/dist-packages (from notebook>=4.4.1->widgetsnbextension~=3.6.0->ipywidgets>=7.3.0->qiskit-terra==0.45.0->qiskit[visualization]) (1.8.2)\n",
            "Requirement already satisfied: terminado>=0.8.3 in /usr/local/lib/python3.10/dist-packages (from notebook>=4.4.1->widgetsnbextension~=3.6.0->ipywidgets>=7.3.0->qiskit-terra==0.45.0->qiskit[visualization]) (0.17.1)\n",
            "Requirement already satisfied: prometheus-client in /usr/local/lib/python3.10/dist-packages (from notebook>=4.4.1->widgetsnbextension~=3.6.0->ipywidgets>=7.3.0->qiskit-terra==0.45.0->qiskit[visualization]) (0.18.0)\n",
            "Requirement already satisfied: nbclassic>=0.4.7 in /usr/local/lib/python3.10/dist-packages (from notebook>=4.4.1->widgetsnbextension~=3.6.0->ipywidgets>=7.3.0->qiskit-terra==0.45.0->qiskit[visualization]) (1.0.0)\n",
            "Requirement already satisfied: ptyprocess>=0.5 in /usr/local/lib/python3.10/dist-packages (from pexpect>4.3->ipython>=4.0.0->ipywidgets>=7.3.0->qiskit-terra==0.45.0->qiskit[visualization]) (0.7.0)\n",
            "Requirement already satisfied: wcwidth in /usr/local/lib/python3.10/dist-packages (from prompt-toolkit!=3.0.0,!=3.0.1,<3.1.0,>=2.0.0->ipython>=4.0.0->ipywidgets>=7.3.0->qiskit-terra==0.45.0->qiskit[visualization]) (0.2.9)\n",
            "Requirement already satisfied: platformdirs>=2.5 in /usr/local/lib/python3.10/dist-packages (from jupyter-core>=4.6.1->notebook>=4.4.1->widgetsnbextension~=3.6.0->ipywidgets>=7.3.0->qiskit-terra==0.45.0->qiskit[visualization]) (3.11.0)\n",
            "Requirement already satisfied: jupyter-server>=1.8 in /usr/local/lib/python3.10/dist-packages (from nbclassic>=0.4.7->notebook>=4.4.1->widgetsnbextension~=3.6.0->ipywidgets>=7.3.0->qiskit-terra==0.45.0->qiskit[visualization]) (1.24.0)\n",
            "Requirement already satisfied: notebook-shim>=0.2.3 in /usr/local/lib/python3.10/dist-packages (from nbclassic>=0.4.7->notebook>=4.4.1->widgetsnbextension~=3.6.0->ipywidgets>=7.3.0->qiskit-terra==0.45.0->qiskit[visualization]) (0.2.3)\n",
            "Requirement already satisfied: lxml in /usr/local/lib/python3.10/dist-packages (from nbconvert>=5->notebook>=4.4.1->widgetsnbextension~=3.6.0->ipywidgets>=7.3.0->qiskit-terra==0.45.0->qiskit[visualization]) (4.9.3)\n",
            "Requirement already satisfied: beautifulsoup4 in /usr/local/lib/python3.10/dist-packages (from nbconvert>=5->notebook>=4.4.1->widgetsnbextension~=3.6.0->ipywidgets>=7.3.0->qiskit-terra==0.45.0->qiskit[visualization]) (4.11.2)\n",
            "Requirement already satisfied: bleach in /usr/local/lib/python3.10/dist-packages (from nbconvert>=5->notebook>=4.4.1->widgetsnbextension~=3.6.0->ipywidgets>=7.3.0->qiskit-terra==0.45.0->qiskit[visualization]) (6.1.0)\n",
            "Requirement already satisfied: defusedxml in /usr/local/lib/python3.10/dist-packages (from nbconvert>=5->notebook>=4.4.1->widgetsnbextension~=3.6.0->ipywidgets>=7.3.0->qiskit-terra==0.45.0->qiskit[visualization]) (0.7.1)\n",
            "Requirement already satisfied: entrypoints>=0.2.2 in /usr/local/lib/python3.10/dist-packages (from nbconvert>=5->notebook>=4.4.1->widgetsnbextension~=3.6.0->ipywidgets>=7.3.0->qiskit-terra==0.45.0->qiskit[visualization]) (0.4)\n",
            "Requirement already satisfied: jupyterlab-pygments in /usr/local/lib/python3.10/dist-packages (from nbconvert>=5->notebook>=4.4.1->widgetsnbextension~=3.6.0->ipywidgets>=7.3.0->qiskit-terra==0.45.0->qiskit[visualization]) (0.2.2)\n",
            "Requirement already satisfied: MarkupSafe>=2.0 in /usr/local/lib/python3.10/dist-packages (from nbconvert>=5->notebook>=4.4.1->widgetsnbextension~=3.6.0->ipywidgets>=7.3.0->qiskit-terra==0.45.0->qiskit[visualization]) (2.1.3)\n",
            "Requirement already satisfied: mistune<2,>=0.8.1 in /usr/local/lib/python3.10/dist-packages (from nbconvert>=5->notebook>=4.4.1->widgetsnbextension~=3.6.0->ipywidgets>=7.3.0->qiskit-terra==0.45.0->qiskit[visualization]) (0.8.4)\n",
            "Requirement already satisfied: nbclient>=0.5.0 in /usr/local/lib/python3.10/dist-packages (from nbconvert>=5->notebook>=4.4.1->widgetsnbextension~=3.6.0->ipywidgets>=7.3.0->qiskit-terra==0.45.0->qiskit[visualization]) (0.9.0)\n",
            "Requirement already satisfied: pandocfilters>=1.4.1 in /usr/local/lib/python3.10/dist-packages (from nbconvert>=5->notebook>=4.4.1->widgetsnbextension~=3.6.0->ipywidgets>=7.3.0->qiskit-terra==0.45.0->qiskit[visualization]) (1.5.0)\n",
            "Requirement already satisfied: tinycss2 in /usr/local/lib/python3.10/dist-packages (from nbconvert>=5->notebook>=4.4.1->widgetsnbextension~=3.6.0->ipywidgets>=7.3.0->qiskit-terra==0.45.0->qiskit[visualization]) (1.2.1)\n",
            "Requirement already satisfied: fastjsonschema in /usr/local/lib/python3.10/dist-packages (from nbformat->notebook>=4.4.1->widgetsnbextension~=3.6.0->ipywidgets>=7.3.0->qiskit-terra==0.45.0->qiskit[visualization]) (2.18.1)\n",
            "Requirement already satisfied: jsonschema>=2.6 in /usr/local/lib/python3.10/dist-packages (from nbformat->notebook>=4.4.1->widgetsnbextension~=3.6.0->ipywidgets>=7.3.0->qiskit-terra==0.45.0->qiskit[visualization]) (4.19.2)\n",
            "Requirement already satisfied: argon2-cffi-bindings in /usr/local/lib/python3.10/dist-packages (from argon2-cffi->notebook>=4.4.1->widgetsnbextension~=3.6.0->ipywidgets>=7.3.0->qiskit-terra==0.45.0->qiskit[visualization]) (21.2.0)\n",
            "Requirement already satisfied: attrs>=22.2.0 in /usr/local/lib/python3.10/dist-packages (from jsonschema>=2.6->nbformat->notebook>=4.4.1->widgetsnbextension~=3.6.0->ipywidgets>=7.3.0->qiskit-terra==0.45.0->qiskit[visualization]) (23.1.0)\n",
            "Requirement already satisfied: jsonschema-specifications>=2023.03.6 in /usr/local/lib/python3.10/dist-packages (from jsonschema>=2.6->nbformat->notebook>=4.4.1->widgetsnbextension~=3.6.0->ipywidgets>=7.3.0->qiskit-terra==0.45.0->qiskit[visualization]) (2023.7.1)\n",
            "Requirement already satisfied: referencing>=0.28.4 in /usr/local/lib/python3.10/dist-packages (from jsonschema>=2.6->nbformat->notebook>=4.4.1->widgetsnbextension~=3.6.0->ipywidgets>=7.3.0->qiskit-terra==0.45.0->qiskit[visualization]) (0.30.2)\n",
            "Requirement already satisfied: rpds-py>=0.7.1 in /usr/local/lib/python3.10/dist-packages (from jsonschema>=2.6->nbformat->notebook>=4.4.1->widgetsnbextension~=3.6.0->ipywidgets>=7.3.0->qiskit-terra==0.45.0->qiskit[visualization]) (0.12.0)\n",
            "Requirement already satisfied: anyio<4,>=3.1.0 in /usr/local/lib/python3.10/dist-packages (from jupyter-server>=1.8->nbclassic>=0.4.7->notebook>=4.4.1->widgetsnbextension~=3.6.0->ipywidgets>=7.3.0->qiskit-terra==0.45.0->qiskit[visualization]) (3.7.1)\n",
            "Requirement already satisfied: websocket-client in /usr/local/lib/python3.10/dist-packages (from jupyter-server>=1.8->nbclassic>=0.4.7->notebook>=4.4.1->widgetsnbextension~=3.6.0->ipywidgets>=7.3.0->qiskit-terra==0.45.0->qiskit[visualization]) (1.6.4)\n",
            "Requirement already satisfied: cffi>=1.0.1 in /usr/local/lib/python3.10/dist-packages (from argon2-cffi-bindings->argon2-cffi->notebook>=4.4.1->widgetsnbextension~=3.6.0->ipywidgets>=7.3.0->qiskit-terra==0.45.0->qiskit[visualization]) (1.16.0)\n",
            "Requirement already satisfied: soupsieve>1.2 in /usr/local/lib/python3.10/dist-packages (from beautifulsoup4->nbconvert>=5->notebook>=4.4.1->widgetsnbextension~=3.6.0->ipywidgets>=7.3.0->qiskit-terra==0.45.0->qiskit[visualization]) (2.5)\n",
            "Requirement already satisfied: webencodings in /usr/local/lib/python3.10/dist-packages (from bleach->nbconvert>=5->notebook>=4.4.1->widgetsnbextension~=3.6.0->ipywidgets>=7.3.0->qiskit-terra==0.45.0->qiskit[visualization]) (0.5.1)\n",
            "Requirement already satisfied: idna>=2.8 in /usr/local/lib/python3.10/dist-packages (from anyio<4,>=3.1.0->jupyter-server>=1.8->nbclassic>=0.4.7->notebook>=4.4.1->widgetsnbextension~=3.6.0->ipywidgets>=7.3.0->qiskit-terra==0.45.0->qiskit[visualization]) (3.4)\n",
            "Requirement already satisfied: sniffio>=1.1 in /usr/local/lib/python3.10/dist-packages (from anyio<4,>=3.1.0->jupyter-server>=1.8->nbclassic>=0.4.7->notebook>=4.4.1->widgetsnbextension~=3.6.0->ipywidgets>=7.3.0->qiskit-terra==0.45.0->qiskit[visualization]) (1.3.0)\n",
            "Requirement already satisfied: exceptiongroup in /usr/local/lib/python3.10/dist-packages (from anyio<4,>=3.1.0->jupyter-server>=1.8->nbclassic>=0.4.7->notebook>=4.4.1->widgetsnbextension~=3.6.0->ipywidgets>=7.3.0->qiskit-terra==0.45.0->qiskit[visualization]) (1.1.3)\n",
            "Requirement already satisfied: pycparser in /usr/local/lib/python3.10/dist-packages (from cffi>=1.0.1->argon2-cffi-bindings->argon2-cffi->notebook>=4.4.1->widgetsnbextension~=3.6.0->ipywidgets>=7.3.0->qiskit-terra==0.45.0->qiskit[visualization]) (2.21)\n",
            "Requirement already satisfied: matplotlib in /usr/local/lib/python3.10/dist-packages (3.7.1)\n",
            "Requirement already satisfied: contourpy>=1.0.1 in /usr/local/lib/python3.10/dist-packages (from matplotlib) (1.2.0)\n",
            "Requirement already satisfied: cycler>=0.10 in /usr/local/lib/python3.10/dist-packages (from matplotlib) (0.12.1)\n",
            "Requirement already satisfied: fonttools>=4.22.0 in /usr/local/lib/python3.10/dist-packages (from matplotlib) (4.44.0)\n",
            "Requirement already satisfied: kiwisolver>=1.0.1 in /usr/local/lib/python3.10/dist-packages (from matplotlib) (1.4.5)\n",
            "Requirement already satisfied: numpy>=1.20 in /usr/local/lib/python3.10/dist-packages (from matplotlib) (1.23.5)\n",
            "Requirement already satisfied: packaging>=20.0 in /usr/local/lib/python3.10/dist-packages (from matplotlib) (23.2)\n",
            "Requirement already satisfied: pillow>=6.2.0 in /usr/local/lib/python3.10/dist-packages (from matplotlib) (9.4.0)\n",
            "Requirement already satisfied: pyparsing>=2.3.1 in /usr/local/lib/python3.10/dist-packages (from matplotlib) (3.1.1)\n",
            "Requirement already satisfied: python-dateutil>=2.7 in /usr/local/lib/python3.10/dist-packages (from matplotlib) (2.8.2)\n",
            "Requirement already satisfied: six>=1.5 in /usr/local/lib/python3.10/dist-packages (from python-dateutil>=2.7->matplotlib) (1.16.0)\n"
          ]
        }
      ],
      "source": [
        "!pip install qiskit\n",
        "!pip install qiskit-ionq\n",
        "!pip install qiskit[visualization]\n",
        "!pip install matplotlib"
      ]
    },
    {
      "cell_type": "code",
      "source": [
        "from qiskit import transpile\n",
        "from qiskit_ionq import IonQProvider\n",
        "from qiskit.visualization import plot_histogram\n",
        "from matplotlib import pyplot as plt\n",
        "\n",
        "from qiskit.circuit import QuantumCircuit, QuantumRegister, ClassicalRegister\n",
        "from qiskit.circuit.library.standard_gates import C3XGate"
      ],
      "metadata": {
        "id": "Vg92TWfHQv7f"
      },
      "execution_count": 2,
      "outputs": []
    },
    {
      "cell_type": "code",
      "source": [
        "# Save an IBM Quantum account and set it as your default account.\n",
        "provider = IonQProvider(\"UzzeMcx6n1tPMvqRynIZf83nfVMCH3KY\")\n",
        "\n",
        "# Show all backends:\n",
        "print(provider.backends())\n",
        "\n",
        "# Get IonQ Hardware backend:\n",
        "qpu_backend = provider.get_backend(\"ionq_qpu.harmony\")\n",
        "#qpu_backend = provider.get_backend(\"ionq_simulator\")"
      ],
      "metadata": {
        "id": "WtDYcCThHljv",
        "colab": {
          "base_uri": "https://localhost:8080/"
        },
        "outputId": "4f77ca60-b87d-4fc8-b0de-d3208eb5e659"
      },
      "execution_count": 3,
      "outputs": [
        {
          "output_type": "stream",
          "name": "stdout",
          "text": [
            "[<IonQSimulatorBackend('ionq_simulator')>, <IonQQPUBackend('ionq_qpu')>]\n"
          ]
        }
      ]
    },
    {
      "cell_type": "markdown",
      "source": [
        "#1. Fair Quantum Coin Operator & Four-Sided Fair Quantum Coin Operator"
      ],
      "metadata": {
        "id": "Uh_QXwXXTi70"
      }
    },
    {
      "cell_type": "markdown",
      "source": [
        "1) Quantum Coin State"
      ],
      "metadata": {
        "id": "2WnA6YSc44N8"
      }
    },
    {
      "cell_type": "code",
      "source": [
        "Two_Sided_Fair_Coin = QuantumCircuit(1)\n",
        "Two_Sided_Fair_Coin.draw(\"mpl\")"
      ],
      "metadata": {
        "colab": {
          "base_uri": "https://localhost:8080/",
          "height": 183
        },
        "id": "JWbouQx947Ej",
        "outputId": "6793b22d-487a-4059-e4a4-08efd5df6b3f"
      },
      "execution_count": 4,
      "outputs": [
        {
          "output_type": "stream",
          "name": "stderr",
          "text": [
            "/usr/local/lib/python3.10/dist-packages/qiskit/visualization/circuit/matplotlib.py:266: FutureWarning: The default matplotlib drawer scheme will be changed to \"iqp\" in a following release. To silence this warning, specify the current default explicitly as style=\"clifford\", or the new default as style=\"iqp\".\n",
            "  self._style, def_font_ratio = load_style(self._style)\n"
          ]
        },
        {
          "output_type": "execute_result",
          "data": {
            "text/plain": [
              "<Figure size 143.647x117.056 with 1 Axes>"
            ],
            "image/png": "[encoded data removed]"
          },
          "metadata": {},
          "execution_count": 4
        }
      ]
    },
    {
      "cell_type": "markdown",
      "source": [
        "2) Fair Quantum Coin Operator"
      ],
      "metadata": {
        "id": "fWVxxrFGfT_o"
      }
    },
    {
      "cell_type": "markdown",
      "source": [
        "Fair Quantum Coin Operator"
      ],
      "metadata": {
        "id": "pBx9GR5U7Mbw"
      }
    },
    {
      "cell_type": "code",
      "source": [
        "Two_Sided_Fair_Coin = QuantumCircuit(1)\n",
        "Two_Sided_Fair_Coin.h(0)\n",
        "\n",
        "Two_Sided_Fair_Coin.draw(\"mpl\")"
      ],
      "metadata": {
        "colab": {
          "base_uri": "https://localhost:8080/",
          "height": 127
        },
        "id": "Ou1P9RwEHlcu",
        "outputId": "b7acc978-575c-4895-ab6e-8b6217e41a38"
      },
      "execution_count": 5,
      "outputs": [
        {
          "output_type": "execute_result",
          "data": {
            "text/plain": [
              "<Figure size 185.453x117.056 with 1 Axes>"
            ],
            "image/png": "[encoded data removed]"
          },
          "metadata": {},
          "execution_count": 5
        }
      ]
    },
    {
      "cell_type": "markdown",
      "source": [
        "Verifying Fair Quantum Coin Operator"
      ],
      "metadata": {
        "id": "XJtaR7Y87QCm"
      }
    },
    {
      "cell_type": "code",
      "source": [
        "qubits = QuantumRegister(1, 'q')\n",
        "clbits = ClassicalRegister(1, 'c')\n",
        "Two_Sided_Fair_Coin_Circuit = QuantumCircuit(qubits, clbits)\n",
        "(q0,) = qubits\n",
        "(c0,) = clbits\n",
        "\n",
        "Two_Sided_Fair_Coin_Circuit.h(q0)\n",
        "Two_Sided_Fair_Coin_Circuit.measure(q0, c0)\n",
        "\n",
        "Two_Sided_Fair_Coin_Circuit_basis = transpile(Two_Sided_Fair_Coin_Circuit, qpu_backend)\n",
        "Two_Sided_Fair_Coin_Circuit_basis.draw(\"mpl\")"
      ],
      "metadata": {
        "colab": {
          "base_uri": "https://localhost:8080/",
          "height": 191
        },
        "id": "sDa2n5syHlSG",
        "outputId": "67781938-72b2-45ee-af8a-14c8f97686a3"
      },
      "execution_count": 6,
      "outputs": [
        {
          "output_type": "execute_result",
          "data": {
            "text/plain": [
              "<Figure size 269.064x200.667 with 1 Axes>"
            ],
            "image/png": "[encoded data removed]"
          },
          "metadata": {},
          "execution_count": 6
        }
      ]
    },
    {
      "cell_type": "code",
      "source": [
        "# Run the circuit on IonQ's platform:\n",
        "job = qpu_backend.run(Two_Sided_Fair_Coin_Circuit_basis, shots=10000)\n",
        "print(job.get_counts())\n",
        "\n",
        "print(job.get_probabilities())\n",
        "plot_histogram(job.get_probabilities(), sort='asc')"
      ],
      "metadata": {
        "colab": {
          "base_uri": "https://localhost:8080/",
          "height": 419
        },
        "id": "Vb8-RARnX0F_",
        "outputId": "bb7e6db2-45c6-4874-b517-1540d01d0ddf"
      },
      "execution_count": 7,
      "outputs": [
        {
          "output_type": "error",
          "ename": "IonQJobFailureError",
          "evalue": "ignored",
          "traceback": [
            "\u001b[0;31m---------------------------------------------------------------------------\u001b[0m",
            "\u001b[0;31mIonQJobFailureError\u001b[0m                       Traceback (most recent call last)",
            "\u001b[0;32m<ipython-input-7-f53b8a4d033e>\u001b[0m in \u001b[0;36m<cell line: 3>\u001b[0;34m()\u001b[0m\n\u001b[1;32m      1\u001b[0m \u001b[0;31m# Run the circuit on IonQ's platform:\u001b[0m\u001b[0;34m\u001b[0m\u001b[0;34m\u001b[0m\u001b[0m\n\u001b[1;32m      2\u001b[0m \u001b[0mjob\u001b[0m \u001b[0;34m=\u001b[0m \u001b[0mqpu_backend\u001b[0m\u001b[0;34m.\u001b[0m\u001b[0mrun\u001b[0m\u001b[0;34m(\u001b[0m\u001b[0mTwo_Sided_Fair_Coin_Circuit_basis\u001b[0m\u001b[0;34m,\u001b[0m \u001b[0mshots\u001b[0m\u001b[0;34m=\u001b[0m\u001b[0;36m10000\u001b[0m\u001b[0;34m)\u001b[0m\u001b[0;34m\u001b[0m\u001b[0;34m\u001b[0m\u001b[0m\n\u001b[0;32m----> 3\u001b[0;31m \u001b[0mprint\u001b[0m\u001b[0;34m(\u001b[0m\u001b[0mjob\u001b[0m\u001b[0;34m.\u001b[0m\u001b[0mget_counts\u001b[0m\u001b[0;34m(\u001b[0m\u001b[0;34m)\u001b[0m\u001b[0;34m)\u001b[0m\u001b[0;34m\u001b[0m\u001b[0;34m\u001b[0m\u001b[0m\n\u001b[0m\u001b[1;32m      4\u001b[0m \u001b[0;34m\u001b[0m\u001b[0m\n\u001b[1;32m      5\u001b[0m \u001b[0mprint\u001b[0m\u001b[0;34m(\u001b[0m\u001b[0mjob\u001b[0m\u001b[0;34m.\u001b[0m\u001b[0mget_probabilities\u001b[0m\u001b[0;34m(\u001b[0m\u001b[0;34m)\u001b[0m\u001b[0;34m)\u001b[0m\u001b[0;34m\u001b[0m\u001b[0;34m\u001b[0m\u001b[0m\n",
            "\u001b[0;32m/usr/local/lib/python3.10/dist-packages/qiskit_ionq/ionq_job.py\u001b[0m in \u001b[0;36mget_counts\u001b[0;34m(self, circuit)\u001b[0m\n\u001b[1;32m    238\u001b[0m             \u001b[0mdict\u001b[0m\u001b[0;34m:\u001b[0m \u001b[0mA\u001b[0m \u001b[0mdictionary\u001b[0m \u001b[0mof\u001b[0m \u001b[0mcounts\u001b[0m\u001b[0;34m.\u001b[0m\u001b[0;34m\u001b[0m\u001b[0;34m\u001b[0m\u001b[0m\n\u001b[1;32m    239\u001b[0m         \"\"\"\n\u001b[0;32m--> 240\u001b[0;31m         \u001b[0;32mreturn\u001b[0m \u001b[0mself\u001b[0m\u001b[0;34m.\u001b[0m\u001b[0mresult\u001b[0m\u001b[0;34m(\u001b[0m\u001b[0;34m)\u001b[0m\u001b[0;34m.\u001b[0m\u001b[0mget_counts\u001b[0m\u001b[0;34m(\u001b[0m\u001b[0mcircuit\u001b[0m\u001b[0;34m)\u001b[0m\u001b[0;34m\u001b[0m\u001b[0;34m\u001b[0m\u001b[0m\n\u001b[0m\u001b[1;32m    241\u001b[0m \u001b[0;34m\u001b[0m\u001b[0m\n\u001b[1;32m    242\u001b[0m     \u001b[0;32mdef\u001b[0m \u001b[0mget_probabilities\u001b[0m\u001b[0;34m(\u001b[0m\u001b[0mself\u001b[0m\u001b[0;34m,\u001b[0m \u001b[0mcircuit\u001b[0m\u001b[0;34m=\u001b[0m\u001b[0;32mNone\u001b[0m\u001b[0;34m)\u001b[0m\u001b[0;34m:\u001b[0m  \u001b[0;31m# pylint: disable=unused-argument\u001b[0m\u001b[0;34m\u001b[0m\u001b[0;34m\u001b[0m\u001b[0m\n",
            "\u001b[0;32m/usr/local/lib/python3.10/dist-packages/qiskit_ionq/ionq_job.py\u001b[0m in \u001b[0;36mresult\u001b[0;34m(self, sharpen, extra_query_params, **kwargs)\u001b[0m\n\u001b[1;32m    284\u001b[0m         \u001b[0;31m# Wait for the job to complete.\u001b[0m\u001b[0;34m\u001b[0m\u001b[0;34m\u001b[0m\u001b[0m\n\u001b[1;32m    285\u001b[0m         \u001b[0;32mtry\u001b[0m\u001b[0;34m:\u001b[0m\u001b[0;34m\u001b[0m\u001b[0;34m\u001b[0m\u001b[0m\n\u001b[0;32m--> 286\u001b[0;31m             \u001b[0mself\u001b[0m\u001b[0;34m.\u001b[0m\u001b[0mwait_for_final_state\u001b[0m\u001b[0;34m(\u001b[0m\u001b[0;34m**\u001b[0m\u001b[0mkwargs\u001b[0m\u001b[0;34m)\u001b[0m\u001b[0;34m\u001b[0m\u001b[0;34m\u001b[0m\u001b[0m\n\u001b[0m\u001b[1;32m    287\u001b[0m         \u001b[0;32mexcept\u001b[0m \u001b[0mJobTimeoutError\u001b[0m \u001b[0;32mas\u001b[0m \u001b[0mex\u001b[0m\u001b[0;34m:\u001b[0m\u001b[0;34m\u001b[0m\u001b[0;34m\u001b[0m\u001b[0m\n\u001b[1;32m    288\u001b[0m             raise exceptions.IonQJobTimeoutError(\n",
            "\u001b[0;32m/usr/local/lib/python3.10/dist-packages/qiskit/providers/job.py\u001b[0m in \u001b[0;36mwait_for_final_state\u001b[0;34m(self, timeout, wait, callback)\u001b[0m\n\u001b[1;32m    112\u001b[0m             \u001b[0;32mreturn\u001b[0m\u001b[0;34m\u001b[0m\u001b[0;34m\u001b[0m\u001b[0m\n\u001b[1;32m    113\u001b[0m         \u001b[0mstart_time\u001b[0m \u001b[0;34m=\u001b[0m \u001b[0mtime\u001b[0m\u001b[0;34m.\u001b[0m\u001b[0mtime\u001b[0m\u001b[0;34m(\u001b[0m\u001b[0;34m)\u001b[0m\u001b[0;34m\u001b[0m\u001b[0;34m\u001b[0m\u001b[0m\n\u001b[0;32m--> 114\u001b[0;31m         \u001b[0mstatus\u001b[0m \u001b[0;34m=\u001b[0m \u001b[0mself\u001b[0m\u001b[0;34m.\u001b[0m\u001b[0mstatus\u001b[0m\u001b[0;34m(\u001b[0m\u001b[0;34m)\u001b[0m\u001b[0;34m\u001b[0m\u001b[0;34m\u001b[0m\u001b[0m\n\u001b[0m\u001b[1;32m    115\u001b[0m         \u001b[0;32mwhile\u001b[0m \u001b[0mstatus\u001b[0m \u001b[0;32mnot\u001b[0m \u001b[0;32min\u001b[0m \u001b[0mJOB_FINAL_STATES\u001b[0m\u001b[0;34m:\u001b[0m\u001b[0;34m\u001b[0m\u001b[0;34m\u001b[0m\u001b[0m\n\u001b[1;32m    116\u001b[0m             \u001b[0melapsed_time\u001b[0m \u001b[0;34m=\u001b[0m \u001b[0mtime\u001b[0m\u001b[0;34m.\u001b[0m\u001b[0mtime\u001b[0m\u001b[0;34m(\u001b[0m\u001b[0;34m)\u001b[0m \u001b[0;34m-\u001b[0m \u001b[0mstart_time\u001b[0m\u001b[0;34m\u001b[0m\u001b[0;34m\u001b[0m\u001b[0m\n",
            "\u001b[0;32m/usr/local/lib/python3.10/dist-packages/qiskit_ionq/ionq_job.py\u001b[0m in \u001b[0;36mstatus\u001b[0;34m(self)\u001b[0m\n\u001b[1;32m    365\u001b[0m                 \u001b[0;34mf'Failure from IonQ API \"{failure_type}: {failure_message}\"'\u001b[0m\u001b[0;34m\u001b[0m\u001b[0;34m\u001b[0m\u001b[0m\n\u001b[1;32m    366\u001b[0m             )\n\u001b[0;32m--> 367\u001b[0;31m             \u001b[0;32mraise\u001b[0m \u001b[0mexceptions\u001b[0m\u001b[0;34m.\u001b[0m\u001b[0mIonQJobFailureError\u001b[0m\u001b[0;34m(\u001b[0m\u001b[0merror_message\u001b[0m\u001b[0;34m)\u001b[0m\u001b[0;34m\u001b[0m\u001b[0;34m\u001b[0m\u001b[0m\n\u001b[0m\u001b[1;32m    368\u001b[0m \u001b[0;34m\u001b[0m\u001b[0m\n\u001b[1;32m    369\u001b[0m         \u001b[0;32mif\u001b[0m \u001b[0mself\u001b[0m\u001b[0;34m.\u001b[0m\u001b[0m_status\u001b[0m \u001b[0;34m==\u001b[0m \u001b[0mjobstatus\u001b[0m\u001b[0;34m.\u001b[0m\u001b[0mJobStatus\u001b[0m\u001b[0;34m.\u001b[0m\u001b[0mCANCELLED\u001b[0m\u001b[0;34m:\u001b[0m\u001b[0;34m\u001b[0m\u001b[0;34m\u001b[0m\u001b[0m\n",
            "\u001b[0;31mIonQJobFailureError\u001b[0m: IonQJobFailureError('Unable to retreive result for job c6f600e2-2ccc-4db6-9177-9664580dfdae. Failure from IonQ API \"QuotaExhaustedError: exhausted spending quota of type (user)\"')"
          ]
        }
      ]
    },
    {
      "cell_type": "markdown",
      "source": [
        "3) Four-Sided Quantum Coin State"
      ],
      "metadata": {
        "id": "IMaIglLE5Iy2"
      }
    },
    {
      "cell_type": "code",
      "source": [
        "Four_Sided_Fair_Coin = QuantumCircuit(2)\n",
        "Four_Sided_Fair_Coin.draw(\"mpl\")"
      ],
      "metadata": {
        "id": "9K1Brr_p5RGU"
      },
      "execution_count": null,
      "outputs": []
    },
    {
      "cell_type": "markdown",
      "source": [
        "4) Four-Sided Fair Quantum Coin Operator"
      ],
      "metadata": {
        "id": "qh1b8SeqfjAc"
      }
    },
    {
      "cell_type": "markdown",
      "source": [
        "Four-Sided Fair Quantum Coin Operator"
      ],
      "metadata": {
        "id": "gIqiN_0f7XIH"
      }
    },
    {
      "cell_type": "code",
      "source": [
        "from qiskit.circuit.library.standard_gates import SGate, TGate\n",
        "\n",
        "csgate = SGate().control(1) # the parameter is the amount of control points you want\n",
        "\n",
        "Four_Sided_Fair_Coin = QuantumCircuit(2)\n",
        "Four_Sided_Fair_Coin.h(0)\n",
        "Four_Sided_Fair_Coin.append(csgate, [1, 0])\n",
        "Four_Sided_Fair_Coin.h(1)\n",
        "\n",
        "Four_Sided_Fair_Coin.draw(\"mpl\")"
      ],
      "metadata": {
        "id": "F0Acc0iLeGBS"
      },
      "execution_count": null,
      "outputs": []
    },
    {
      "cell_type": "markdown",
      "source": [
        "Verifying Four-Sided Fair Quantum Coin Operator"
      ],
      "metadata": {
        "id": "2I4TY0IC7YqI"
      }
    },
    {
      "cell_type": "code",
      "source": [
        "qubits = QuantumRegister(2, 'q')\n",
        "clbits = ClassicalRegister(2, 'c')\n",
        "Four_Sided_Fair_Coin_Circuit = QuantumCircuit(qubits, clbits)\n",
        "(q0,q1,) = qubits\n",
        "(c0,c1,) = clbits\n",
        "\n",
        "Four_Sided_Fair_Coin_Circuit.h(q0)\n",
        "Four_Sided_Fair_Coin_Circuit.append(csgate, [q1, q0])\n",
        "Four_Sided_Fair_Coin_Circuit.h(q1)\n",
        "Four_Sided_Fair_Coin_Circuit.measure(qubits, clbits)\n",
        "\n",
        "Four_Sided_Fair_Coin_Circuit_basis = transpile(Four_Sided_Fair_Coin_Circuit, qpu_backend)\n",
        "Four_Sided_Fair_Coin_Circuit_basis.draw(\"mpl\")"
      ],
      "metadata": {
        "id": "6Vu68NqCgH7i"
      },
      "execution_count": null,
      "outputs": []
    },
    {
      "cell_type": "code",
      "source": [
        "# Run the circuit on IonQ's platform:\n",
        "job = qpu_backend.run(Four_Sided_Fair_Coin_Circuit_basis, shots=10000)\n",
        "print(job.get_counts())\n",
        "\n",
        "print(job.get_probabilities())\n",
        "plot_histogram(job.get_probabilities(), sort='asc')"
      ],
      "metadata": {
        "id": "4h7FX3eCgKR7"
      },
      "execution_count": null,
      "outputs": []
    },
    {
      "cell_type": "markdown",
      "source": [
        "5) Fairness Check\n",
        "\n",
        "all matrix elements of each operator have same absolute value, thus unbiased coin"
      ],
      "metadata": {
        "id": "jZXgLItC6mHW"
      }
    },
    {
      "cell_type": "markdown",
      "source": [
        "#2. Location on the Board"
      ],
      "metadata": {
        "id": "-xrDu2lW5nyC"
      }
    },
    {
      "cell_type": "code",
      "source": [
        "qreg_q = QuantumRegister(4, 'q')\n",
        "Board = QuantumCircuit(qreg_q)\n",
        "\n",
        "Board.draw(\"mpl\")"
      ],
      "metadata": {
        "id": "2YrGiBLq51MT"
      },
      "execution_count": null,
      "outputs": []
    },
    {
      "cell_type": "markdown",
      "source": [
        "#3. Quantum Coin with Shift Operator"
      ],
      "metadata": {
        "id": "KpNcRKQ2nWMW"
      }
    },
    {
      "cell_type": "markdown",
      "source": [
        "1) Shift Operator"
      ],
      "metadata": {
        "id": "ue8UDF6LndAo"
      }
    },
    {
      "cell_type": "markdown",
      "source": [
        "Right Shift Operator"
      ],
      "metadata": {
        "id": "MYCZ8uGP7eCI"
      }
    },
    {
      "cell_type": "code",
      "source": [
        "qreg_q = QuantumRegister(4, 'q')\n",
        "Shift = QuantumCircuit(qreg_q)\n",
        "\n",
        "Shift.append(C3XGate(), [qreg_q[0], qreg_q[1], qreg_q[2], qreg_q[3]])\n",
        "Shift.ccx(qreg_q[0], qreg_q[1], qreg_q[2])\n",
        "Shift.cx(qreg_q[0], qreg_q[1])\n",
        "Shift.x(qreg_q[0])\n",
        "\n",
        "Shift.draw(\"mpl\")"
      ],
      "metadata": {
        "id": "azjmmHVI5vHE"
      },
      "execution_count": null,
      "outputs": []
    },
    {
      "cell_type": "markdown",
      "source": [
        "Verifying Right Shift Operator"
      ],
      "metadata": {
        "id": "YsM0byPf7irU"
      }
    },
    {
      "cell_type": "code",
      "source": [
        "from qiskit.circuit.library.standard_gates import C3XGate\n",
        "\n",
        "qreg_q = QuantumRegister(4, 'q')\n",
        "creg_c = ClassicalRegister(4, 'c')\n",
        "Shift = QuantumCircuit(qreg_q, creg_c)\n",
        "\n",
        "Shift.append(C3XGate(), [qreg_q[0], qreg_q[1], qreg_q[2], qreg_q[3]])\n",
        "Shift.ccx(qreg_q[0], qreg_q[1], qreg_q[2])\n",
        "Shift.cx(qreg_q[0], qreg_q[1])\n",
        "Shift.x(qreg_q[0])\n",
        "\n",
        "Shift.measure(qreg_q, creg_c)\n",
        "\n",
        "Shift_basis = transpile(Shift, qpu_backend)\n",
        "Shift_basis.draw(\"mpl\")"
      ],
      "metadata": {
        "id": "jigSqDqOnckd"
      },
      "execution_count": null,
      "outputs": []
    },
    {
      "cell_type": "code",
      "source": [
        "# Run the circuit on IonQ's platform:\n",
        "job = qpu_backend.run(Shift_basis, shots=10000)\n",
        "print(job.get_counts())\n",
        "\n",
        "print(job.get_probabilities())\n",
        "plot_histogram(job.get_probabilities(), sort='asc')"
      ],
      "metadata": {
        "id": "WPHmGk4_naF_"
      },
      "execution_count": null,
      "outputs": []
    },
    {
      "cell_type": "markdown",
      "source": [
        "2) Shift Operator with Quantum Coin Operator"
      ],
      "metadata": {
        "id": "QUXRZEgEyVvR"
      }
    },
    {
      "cell_type": "markdown",
      "source": [
        "Shift Operator"
      ],
      "metadata": {
        "id": "gp9X91M58XcS"
      }
    },
    {
      "cell_type": "code",
      "source": [
        "Shift = QuantumCircuit(4)\n",
        "Shift.append(C3XGate(), [0,1,2,3])\n",
        "Shift.ccx(0,1,2)\n",
        "Shift.cx(0,1)\n",
        "Shift.x(0)\n",
        "\n",
        "Shift.draw(\"mpl\")"
      ],
      "metadata": {
        "id": "iwqYCZm-8Nog"
      },
      "execution_count": null,
      "outputs": []
    },
    {
      "cell_type": "markdown",
      "source": [
        "1 Step Board Evolution Operator"
      ],
      "metadata": {
        "id": "TihBsMxI7mJA"
      }
    },
    {
      "cell_type": "code",
      "source": [
        "coin_bit = QuantumRegister(1, 's')\n",
        "position_bits = QuantumRegister(4, 'p')\n",
        "circuit = QuantumCircuit(coin_bit, position_bits)\n",
        "\n",
        "s = coin_bit\n",
        "p0, p1, p2, p3 = position_bits\n",
        "\n",
        "Ugate = Shift.to_gate().control(1)\n",
        "circuit.h(s)\n",
        "circuit.append(Ugate, [s, p0, p1, p2, p3])\n",
        "\n",
        "circuit.draw(\"mpl\")"
      ],
      "metadata": {
        "id": "hA9B6Nzz70lB"
      },
      "execution_count": null,
      "outputs": []
    },
    {
      "cell_type": "markdown",
      "source": [
        "N Step Board Evolution Operator"
      ],
      "metadata": {
        "id": "g-NIY0kZ8fDZ"
      }
    },
    {
      "cell_type": "code",
      "source": [
        "# varying N\n",
        "N = 4\n",
        "\n",
        "coin_bit = QuantumRegister(1, 's')\n",
        "position_bits = QuantumRegister(4, 'p')\n",
        "classical_bits = ClassicalRegister(4, 'c')\n",
        "circuit = QuantumCircuit(coin_bit, position_bits, classical_bits)\n",
        "\n",
        "s = coin_bit\n",
        "p0, p1, p2, p3 = position_bits\n",
        "c0, c1, c2, c3 = classical_bits\n",
        "\n",
        "Ugate = Shift.to_gate().control(1)\n",
        "\n",
        "for i in range(N):\n",
        "  circuit.barrier()\n",
        "  circuit.h(s)\n",
        "  circuit.append(Ugate, [s, p0, p1, p2, p3])\n",
        "\n",
        "circuit.barrier()\n",
        "\n",
        "circuit.measure([p0, p1, p2, p3], [c0, c1, c2, c3])\n",
        "\n",
        "circuit_basis = transpile(circuit, qpu_backend)\n",
        "circuit_basis.draw(\"mpl\")"
      ],
      "metadata": {
        "id": "QaD7Nf5_nano"
      },
      "execution_count": null,
      "outputs": []
    },
    {
      "cell_type": "code",
      "source": [
        "# Run the circuit on IonQ's platform:\n",
        "job = qpu_backend.run(circuit_basis, shots=1000)\n",
        "print(job.get_counts())\n",
        "\n",
        "print(job.get_probabilities())\n",
        "plot_histogram(job.get_probabilities(), sort='asc')"
      ],
      "metadata": {
        "id": "5eQWrkdmnakP"
      },
      "execution_count": null,
      "outputs": []
    },
    {
      "cell_type": "markdown",
      "source": [
        "Verifying N Step Board Evolution Operator"
      ],
      "metadata": {
        "id": "NjVRZ_di8zBt"
      }
    },
    {
      "cell_type": "code",
      "source": [
        "var_notcontainingCL = []\n",
        "entropy_notcontainingCL = []\n",
        "for N in range(50):\n",
        "  coin_bit = QuantumRegister(1, 's')\n",
        "  position_bits = QuantumRegister(4, 'p')\n",
        "  classical_bis = ClassicalRegister(4, 'c')\n",
        "  circuit = QuantumCircuit(coin_bit, position_bits, classical_bis)\n",
        "\n",
        "  s = coin_bit\n",
        "  p0, p1, p2, p3 = position_bits\n",
        "  c0, c1, c2, c3 = classical_bis\n",
        "\n",
        "  Ugate = Shift.to_gate().control(1)\n",
        "\n",
        "  for i in range(N):\n",
        "    circuit.barrier()\n",
        "    circuit.h(s)\n",
        "    circuit.append(Ugate, [s, p0, p1, p2, p3])\n",
        "\n",
        "  circuit.barrier()\n",
        "\n",
        "  circuit.measure([p0, p1, p2, p3], [c0, c1, c2, c3])\n",
        "\n",
        "  circuit_basis = transpile(circuit, qpu_backend)\n",
        "\n",
        "  job = qpu_backend.run(circuit_basis, shots=1000)\n",
        "  print(N)\n",
        "  print(job.get_counts())\n",
        "  print(job.get_probabilities())\n",
        "\n",
        "  board = ['0000','0001','0010','0011','0100','0101','0110','0111','1000','1001','1010','1011','1100','1101','1110','1111']\n",
        "  prob = []\n",
        "  for i in board:\n",
        "    prob.append(dict(job.get_probabilities()).get(i, 0))\n",
        "\n",
        "  entropy = 0\n",
        "  for i in range(16):\n",
        "    if prob[i] != 0 :\n",
        "      entropy = entropy - prob[i]*np.log(prob[i])\n",
        "\n",
        "  var_notcontainingCL.append(np.var(prob))\n",
        "  entropy_notcontainingCL.append(entropy)\n",
        "  print(\"variance : \", np.var(prob))\n",
        "  print(\"entropy : \", entropy)\n",
        "  plt.bar(board, prob, 0.5)\n",
        "  plt.xticks(board)\n",
        "  plt.show()\n",
        "  print()\n",
        "  print()"
      ],
      "metadata": {
        "id": "nBO2rHIdnacn"
      },
      "execution_count": null,
      "outputs": []
    },
    {
      "cell_type": "markdown",
      "source": [
        "#4. Adding Chutes and Ladders in Board"
      ],
      "metadata": {
        "id": "hGh8Iz7_m6Fw"
      }
    },
    {
      "cell_type": "markdown",
      "source": [
        "1) Chutes & Ladder Operator (Notated CL)"
      ],
      "metadata": {
        "id": "kfortFBp1dVY"
      }
    },
    {
      "cell_type": "markdown",
      "source": [
        "Chutes & Ladder Operator"
      ],
      "metadata": {
        "id": "mfgD7FUz9nQ5"
      }
    },
    {
      "cell_type": "code",
      "source": [
        "CL = QuantumCircuit(4)\n",
        "\n",
        "qc1 = QuantumCircuit(2)\n",
        "qc1.swap(0,1)\n",
        "Ugate = qc1.to_gate().control(2)\n",
        "\n",
        "CL.x(2)\n",
        "CL.append(Ugate, [1,2,0,3])\n",
        "CL.x(2)\n",
        "CL.x(1)\n",
        "CL.append(C3XGate(), [0,1,3,2])\n",
        "CL.x(1)\n",
        "\n",
        "CL.draw(\"mpl\")"
      ],
      "metadata": {
        "id": "gD2kJ9AI57Q9"
      },
      "execution_count": null,
      "outputs": []
    },
    {
      "cell_type": "markdown",
      "source": [
        "Verifying Chutes & Ladder Operator (3 <-> 10)"
      ],
      "metadata": {
        "id": "Txq1zmc-970P"
      }
    },
    {
      "cell_type": "code",
      "source": [
        "q_reg = QuantumRegister(4, 'q')\n",
        "c_reg = ClassicalRegister(4, 'c')\n",
        "CL = QuantumCircuit(q_reg, c_reg)\n",
        "\n",
        "qc1 = QuantumCircuit(2)\n",
        "qc1.swap(0,1)\n",
        "Ugate = qc1.to_gate().control(2)\n",
        "\n",
        "CL.x(0)\n",
        "CL.x(1)\n",
        "\n",
        "CL.barrier()\n",
        "CL.x(2)\n",
        "CL.append(Ugate, [1,2,0,3])\n",
        "CL.x(2)\n",
        "CL.x(1)\n",
        "CL.append(C3XGate(), [0,1,3,2])\n",
        "CL.x(1)\n",
        "CL.barrier()\n",
        "\n",
        "CL.measure(q_reg, c_reg)\n",
        "\n",
        "CL_basis = transpile(CL, qpu_backend)\n",
        "CL_basis.draw(\"mpl\")"
      ],
      "metadata": {
        "id": "q7dgz6e7nCCl"
      },
      "execution_count": null,
      "outputs": []
    },
    {
      "cell_type": "code",
      "source": [
        "# Run the circuit on IonQ's platform:\n",
        "job = qpu_backend.run(CL_basis, shots=10000)\n",
        "print(job.get_counts())\n",
        "\n",
        "print(job.get_probabilities())\n",
        "plot_histogram(job.get_probabilities(), sort='asc')"
      ],
      "metadata": {
        "id": "TXYgRQo_5tHe"
      },
      "execution_count": null,
      "outputs": []
    },
    {
      "cell_type": "markdown",
      "source": [
        "Verifying Chutes & Ladder Operator (9 <-> 13)"
      ],
      "metadata": {
        "id": "KxCLNFFd-FSE"
      }
    },
    {
      "cell_type": "code",
      "source": [
        "q_reg = QuantumRegister(4, 'q')\n",
        "c_reg = ClassicalRegister(4, 'c')\n",
        "CL = QuantumCircuit(q_reg, c_reg)\n",
        "\n",
        "qc1 = QuantumCircuit(2)\n",
        "qc1.swap(0,1)\n",
        "Ugate = qc1.to_gate().control(2)\n",
        "\n",
        "CL.x(0)\n",
        "CL.x(3)\n",
        "\n",
        "CL.barrier()\n",
        "CL.x(2)\n",
        "CL.append(Ugate, [1,2,0,3])\n",
        "CL.x(2)\n",
        "CL.x(1)\n",
        "CL.append(C3XGate(), [0,1,3,2])\n",
        "CL.x(1)\n",
        "CL.barrier()\n",
        "\n",
        "CL.measure(q_reg, c_reg)\n",
        "\n",
        "CL_basis = transpile(CL, qpu_backend)\n",
        "CL_basis.draw(\"mpl\")"
      ],
      "metadata": {
        "id": "TYFvSb3S62WP"
      },
      "execution_count": null,
      "outputs": []
    },
    {
      "cell_type": "code",
      "source": [
        "# Run the circuit on IonQ's platform:\n",
        "job = qpu_backend.run(CL_basis, shots=1000)\n",
        "print(job.get_counts())\n",
        "\n",
        "print(job.get_probabilities())\n",
        "plot_histogram(job.get_probabilities(), sort='asc')"
      ],
      "metadata": {
        "id": "KDgg7ovK69GO"
      },
      "execution_count": null,
      "outputs": []
    },
    {
      "cell_type": "markdown",
      "source": [
        "Verifying Chutes & Ladder Operator (7 <-> 7)"
      ],
      "metadata": {
        "id": "lATuG8OKAcqe"
      }
    },
    {
      "cell_type": "code",
      "source": [
        "q_reg = QuantumRegister(4, 'q')\n",
        "c_reg = ClassicalRegister(4, 'c')\n",
        "CL = QuantumCircuit(q_reg, c_reg)\n",
        "\n",
        "qc1 = QuantumCircuit(2)\n",
        "qc1.swap(0,1)\n",
        "Ugate = qc1.to_gate().control(2)\n",
        "\n",
        "CL.x(0)\n",
        "CL.x(1)\n",
        "CL.x(2)\n",
        "\n",
        "CL.barrier()\n",
        "CL.x(2)\n",
        "CL.append(Ugate, [1,2,0,3])\n",
        "CL.x(2)\n",
        "CL.x(1)\n",
        "CL.append(C3XGate(), [0,1,3,2])\n",
        "CL.x(1)\n",
        "CL.barrier()\n",
        "\n",
        "CL.measure(q_reg, c_reg)\n",
        "\n",
        "CL_basis = transpile(CL, qpu_backend)\n",
        "CL_basis.draw(\"mpl\")"
      ],
      "metadata": {
        "id": "GaxUV9SSAgpF"
      },
      "execution_count": null,
      "outputs": []
    },
    {
      "cell_type": "code",
      "source": [
        "# Run the circuit on IonQ's platform:\n",
        "job = qpu_backend.run(CL_basis, shots=1000)\n",
        "print(job.get_counts())\n",
        "\n",
        "print(job.get_probabilities())\n",
        "plot_histogram(job.get_probabilities(), sort='asc')"
      ],
      "metadata": {
        "id": "f5KyfDFrAg8p"
      },
      "execution_count": null,
      "outputs": []
    },
    {
      "cell_type": "markdown",
      "source": [
        "2) Chutes & Ladders Board Evolution Operator"
      ],
      "metadata": {
        "id": "3UYIiVKu-uGX"
      }
    },
    {
      "cell_type": "markdown",
      "source": [
        "Chutes & Ladder Operator"
      ],
      "metadata": {
        "id": "yWiJCH62_kce"
      }
    },
    {
      "cell_type": "code",
      "source": [
        "CL = QuantumCircuit(4)\n",
        "\n",
        "qc1 = QuantumCircuit(2)\n",
        "qc1.swap(0,1)\n",
        "Ugate = qc1.to_gate().control(2)\n",
        "\n",
        "CL.x(2)\n",
        "CL.append(Ugate, [1,2,0,3])\n",
        "CL.x(2)\n",
        "CL.x(1)\n",
        "CL.append(C3XGate(), [0,1,3,2])\n",
        "CL.x(1)\n",
        "\n",
        "CL.draw(\"mpl\")"
      ],
      "metadata": {
        "id": "U00aI6JG_lXw"
      },
      "execution_count": null,
      "outputs": []
    },
    {
      "cell_type": "markdown",
      "source": [
        "1 Step Chutes & Ladders Board Evolution Operator"
      ],
      "metadata": {
        "id": "TKznDheY_WmH"
      }
    },
    {
      "cell_type": "code",
      "source": [
        "coin_bit = QuantumRegister(1, 's')\n",
        "position_bits = QuantumRegister(4, 'p')\n",
        "circuit = QuantumCircuit(coin_bit, position_bits)\n",
        "\n",
        "s = coin_bit\n",
        "p0, p1, p2, p3 = position_bits\n",
        "\n",
        "Ugate = Shift.to_gate().control(1)\n",
        "circuit.h(s)\n",
        "circuit.append(Ugate, [s, p0, p1, p2, p3])\n",
        "circuit.append(CL, [p0, p1, p2, p3])\n",
        "\n",
        "circuit.draw(\"mpl\")"
      ],
      "metadata": {
        "id": "qYN2RGCs-2Jl"
      },
      "execution_count": null,
      "outputs": []
    },
    {
      "cell_type": "code",
      "source": [
        "coin_bit = QuantumRegister(1, 's')\n",
        "position_bits = QuantumRegister(4, 'p')\n",
        "circuit = QuantumCircuit(coin_bit, position_bits)\n",
        "\n",
        "s = coin_bit\n",
        "p0, p1, p2, p3 = position_bits\n",
        "\n",
        "Ugate = Shift.to_gate().control(1)\n",
        "circuit.h(s)\n",
        "circuit.append(Ugate, [s, p0, p1, p2, p3])\n",
        "circuit.append(CL, [p0, p1, p2, p3])\n",
        "\n",
        "circuit_basis = transpile(circuit, qpu_backend)\n",
        "circuit_basis.draw(\"mpl\")"
      ],
      "metadata": {
        "id": "LnVeyarGwJ04"
      },
      "execution_count": null,
      "outputs": []
    },
    {
      "cell_type": "markdown",
      "source": [
        "#5. Discussion"
      ],
      "metadata": {
        "id": "jt4B9oP-BmYR"
      }
    },
    {
      "cell_type": "markdown",
      "source": [
        "1) Role of Measurement in Quantum Chutes and Ladders Game\n",
        "\n",
        "State measurement makes wave function collapse. Collapse of wave function arises randomness of Quantum Chutes and Ladders Game."
      ],
      "metadata": {
        "id": "ybbgY5o6I-Pf"
      }
    },
    {
      "cell_type": "markdown",
      "source": [
        "2) Measurement between Turns\n",
        "\n",
        "Repetition of measurement and initializaing states is just repetition of 1 step evolution. Repetition of measurement can obtain probability of each state after 1 step evolution."
      ],
      "metadata": {
        "id": "132vrp5fI-Am"
      }
    },
    {
      "cell_type": "markdown",
      "source": [
        "3) No Measurement between Turns\n",
        "\n",
        "No measurement makes unitary evolution by each step. This procedure can obtain quantum superposition of states."
      ],
      "metadata": {
        "id": "Z0zscr4yI99O"
      }
    },
    {
      "cell_type": "markdown",
      "source": [
        "4) Quantum Analog of the \"Memoryless\" Nature of the Classical Game?\n",
        "\n",
        "Quantum walks are quantum analogues of classical random walks.\n",
        "\n",
        "Classical Walk : Walker occupy definite states and randomness arises from stocastic transitions defined by Markov's Process.\n",
        "\n",
        "Quantum Walk : Randomness arises through quantum superposition of states, non-random, reversible unitary evolution and collapse of the wave function due to state measurements."
      ],
      "metadata": {
        "id": "Irgvp0bcI91-"
      }
    },
    {
      "cell_type": "markdown",
      "source": [
        "#6. Compare between #3 & #4 (10 Step)"
      ],
      "metadata": {
        "id": "m4Ov8hS3BtAM"
      }
    },
    {
      "cell_type": "markdown",
      "source": [
        "1) Task 3 (Not Containing Chutes & Ladders)"
      ],
      "metadata": {
        "id": "MCBwsmVsCgj-"
      }
    },
    {
      "cell_type": "code",
      "source": [
        "N = 10\n",
        "\n",
        "coin_bit = QuantumRegister(1, 's')\n",
        "position_bits = QuantumRegister(4, 'p')\n",
        "classical_bits = ClassicalRegister(4, 'c')\n",
        "circuit = QuantumCircuit(coin_bit, position_bits, classical_bits)\n",
        "\n",
        "s = coin_bit\n",
        "p0, p1, p2, p3 = position_bits\n",
        "c0, c1, c2, c3 = classical_bits\n",
        "\n",
        "Ugate = Shift.to_gate().control(1)\n",
        "\n",
        "for i in range(N):\n",
        "  circuit.barrier()\n",
        "  circuit.h(s)\n",
        "  circuit.append(Ugate, [s, p0, p1, p2, p3])\n",
        "\n",
        "circuit.barrier()\n",
        "\n",
        "circuit.measure([p0, p1, p2, p3], [c0, c1, c2, c3])\n",
        "\n",
        "circuit_basis = transpile(circuit, qpu_backend)\n",
        "circuit_basis.draw(\"mpl\")"
      ],
      "metadata": {
        "id": "xLp_dRmXB6FE"
      },
      "execution_count": null,
      "outputs": []
    },
    {
      "cell_type": "code",
      "source": [
        "# Run the circuit on IonQ's platform:\n",
        "job = qpu_backend.run(circuit_basis, shots=1000)\n",
        "print(job.get_counts())\n",
        "\n",
        "print(job.get_probabilities())\n",
        "plot_histogram(job.get_probabilities(), sort='asc')"
      ],
      "metadata": {
        "id": "HRsYIkEdC1o7"
      },
      "execution_count": null,
      "outputs": []
    },
    {
      "cell_type": "markdown",
      "source": [
        "2) Task 4 (Not Containing Chutes & Ladders)"
      ],
      "metadata": {
        "id": "zDou9pyHCjeL"
      }
    },
    {
      "cell_type": "code",
      "source": [
        "N = 10\n",
        "\n",
        "coin_bit = QuantumRegister(1, 's')\n",
        "position_bits = QuantumRegister(4, 'p')\n",
        "classical_bits = ClassicalRegister(4, 'c')\n",
        "circuit = QuantumCircuit(coin_bit, position_bits, classical_bits)\n",
        "\n",
        "s = coin_bit\n",
        "p0, p1, p2, p3 = position_bits\n",
        "c0, c1, c2, c3 = classical_bits\n",
        "\n",
        "Ugate = Shift.to_gate().control(1)\n",
        "\n",
        "for i in range(N):\n",
        "  circuit.barrier()\n",
        "  circuit.h(s)\n",
        "  circuit.append(Ugate, [s, p0, p1, p2, p3])\n",
        "\n",
        "  qc1 = QuantumCircuit(2)\n",
        "  qc1.swap(0,1)\n",
        "  CSwapgate = qc1.to_gate().control(2)\n",
        "\n",
        "  circuit.x(p2)\n",
        "  circuit.append(CSwapgate, [p1,p2,p0,p3])\n",
        "  circuit.x(p2)\n",
        "  circuit.x(p1)\n",
        "  circuit.append(C3XGate(), [p0,p1,p3,p2])\n",
        "  circuit.x(p1)\n",
        "\n",
        "circuit.barrier()\n",
        "\n",
        "circuit.measure([p0, p1, p2, p3], [c0, c1, c2, c3])\n",
        "\n",
        "circuit_basis = transpile(circuit, qpu_backend)\n",
        "circuit_basis.draw(\"mpl\")"
      ],
      "metadata": {
        "id": "iv0C0i40B61q"
      },
      "execution_count": null,
      "outputs": []
    },
    {
      "cell_type": "code",
      "source": [
        "# Run the circuit on IonQ's platform:\n",
        "job = qpu_backend.run(circuit_basis, shots=1000)\n",
        "print(job.get_counts())\n",
        "\n",
        "print(job.get_probabilities())\n",
        "plot_histogram(job.get_probabilities(), sort='asc')"
      ],
      "metadata": {
        "id": "So_ZVuV8FKQx"
      },
      "execution_count": null,
      "outputs": []
    },
    {
      "cell_type": "markdown",
      "source": [
        "3) N Step Board Operator Containing Chutes & Ladders"
      ],
      "metadata": {
        "id": "yGaKSChDHHpm"
      }
    },
    {
      "cell_type": "code",
      "source": [
        "var_containingCL = []\n",
        "entropy_containingCL = []\n",
        "for N in range(50):\n",
        "  coin_bit = QuantumRegister(1, 's')\n",
        "  position_bits = QuantumRegister(4, 'p')\n",
        "  classical_bis = ClassicalRegister(4, 'c')\n",
        "  circuit = QuantumCircuit(coin_bit, position_bits, classical_bis)\n",
        "\n",
        "  s = coin_bit\n",
        "  p0, p1, p2, p3 = position_bits\n",
        "  c0, c1, c2, c3 = classical_bis\n",
        "\n",
        "  Ugate = Shift.to_gate().control(1)\n",
        "\n",
        "  for i in range(N):\n",
        "    circuit.barrier()\n",
        "    circuit.h(s)\n",
        "    circuit.append(Ugate, [s, p0, p1, p2, p3])\n",
        "\n",
        "    qc1 = QuantumCircuit(2)\n",
        "    qc1.swap(0,1)\n",
        "    CSwapgate = qc1.to_gate().control(2)\n",
        "\n",
        "    circuit.x(p2)\n",
        "    circuit.append(CSwapgate, [p1,p2,p0,p3])\n",
        "    circuit.x(p2)\n",
        "    circuit.x(p1)\n",
        "    circuit.append(C3XGate(), [p0,p1,p3,p2])\n",
        "    circuit.x(p1)\n",
        "\n",
        "  circuit.barrier()\n",
        "\n",
        "  circuit.measure([p0, p1, p2, p3], [c0, c1, c2, c3])\n",
        "\n",
        "  circuit_basis = transpile(circuit, qpu_backend)\n",
        "\n",
        "  job = qpu_backend.run(circuit_basis, shots=1000)\n",
        "  print(N)\n",
        "  print(job.get_counts())\n",
        "  print(job.get_probabilities())\n",
        "\n",
        "  board = ['0000','0001','0010','0011','0100','0101','0110','0111','1000','1001','1010','1011','1100','1101','1110','1111']\n",
        "  prob = []\n",
        "  for i in board:\n",
        "    prob.append(dict(job.get_probabilities()).get(i, 0))\n",
        "\n",
        "  entropy = 0\n",
        "  for i in range(16):\n",
        "    if prob[i] != 0 :\n",
        "      entropy = entropy - prob[i]*np.log(prob[i])\n",
        "\n",
        "  var_containingCL.append(np.var(prob))\n",
        "  entropy_containingCL.append(entropy)\n",
        "  print(\"variance : \", np.var(prob))\n",
        "  print(\"entropy : \", entropy)\n",
        "  plt.bar(board, prob, 0.5)\n",
        "  plt.xticks(board)\n",
        "  plt.show()\n",
        "  print()\n",
        "  print()"
      ],
      "metadata": {
        "id": "IHKX6HISHIAU"
      },
      "execution_count": null,
      "outputs": []
    },
    {
      "cell_type": "markdown",
      "source": [
        "compare entropy between task3 and task4"
      ],
      "metadata": {
        "id": "zuydUSSfuMbw"
      }
    },
    {
      "cell_type": "code",
      "source": [
        "n = [i for i in range(50)]\n",
        "plt.plot(n, entropy_notcontainingCL, color='red', marker='o', alpha=0.5, linewidth=2)\n",
        "plt.plot(n, entropy_containingCL, color='blue', marker='o', alpha=0.5, linewidth=2)\n",
        "\n",
        "plt.title(\"entropy\")\n",
        "plt.xlabel(\"repetition number N\")\n",
        "plt.ylabel(\"entropy\")\n",
        "plt.legend([\"Entropy not containing Chutes & Ladders (task3)\", \"Entropy containing Chutes & Ladders (task4)\"], fontsize=\"small\")\n",
        "plt.show()"
      ],
      "metadata": {
        "id": "9wV9-v2_uMx3"
      },
      "execution_count": null,
      "outputs": []
    },
    {
      "cell_type": "markdown",
      "source": [
        "compare variance between task3 and task4"
      ],
      "metadata": {
        "id": "PcgLJGZmuNFJ"
      }
    },
    {
      "cell_type": "code",
      "source": [
        "n = [i for i in range(50)]\n",
        "plt.plot(n, var_notcontainingCL, color='red', marker='o', alpha=0.5, linewidth=2)\n",
        "plt.plot(n, var_containingCL, color='blue', marker='o', alpha=0.5, linewidth=2)\n",
        "\n",
        "plt.title(\"variance\")\n",
        "plt.xlabel(\"repetition number N\")\n",
        "plt.ylabel(\"variance\")\n",
        "plt.legend([\"Variance not containing Chutes & Ladders (task3)\", \"Variance containing Chutes & Ladders (task4)\"], fontsize=\"small\")\n",
        "plt.show()"
      ],
      "metadata": {
        "id": "ImGJgeXNuNbS"
      },
      "execution_count": null,
      "outputs": []
    }
  ]
}