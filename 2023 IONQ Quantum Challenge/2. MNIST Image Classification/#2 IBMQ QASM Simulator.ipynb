{
  "nbformat": 4,
  "nbformat_minor": 0,
  "metadata": {
    "colab": {
      "provenance": [],
      "authorship_tag": "ABX9TyNj2mxHnFPKc4BB7L38u0iE",
      "include_colab_link": true
    },
    "kernelspec": {
      "name": "python3",
      "display_name": "Python 3"
    },
    "language_info": {
      "name": "python"
    }
  },
  "cells": [
    {
      "cell_type": "markdown",
      "metadata": {
        "id": "view-in-github",
        "colab_type": "text"
      },
      "source": [
        "<a href=\"https://colab.research.google.com/github/BrainConnection/Qiskit/blob/main/Project%20Quantum%20Challenge%202023/2.%20MNIST%20Image%20Classification/%232%20IBMQ%20QASM%20Simulator.ipynb\" target=\"_parent\"><img src=\"https://colab.research.google.com/assets/colab-badge.svg\" alt=\"Open In Colab\"/></a>"
      ]
    },
    {
      "cell_type": "markdown",
      "source": [
        "#Environment Setting\n"
      ],
      "metadata": {
        "id": "1U3jFPlPWK-O"
      }
    },
    {
      "cell_type": "code",
      "execution_count": 1,
      "metadata": {
        "colab": {
          "base_uri": "https://localhost:8080/"
        },
        "id": "gAGHCufKV-ce",
        "outputId": "c48df90b-cd75-498c-e0c7-706bae5f80ac"
      },
      "outputs": [
        {
          "output_type": "stream",
          "name": "stdout",
          "text": [
            "Requirement already satisfied: qiskit in /usr/local/lib/python3.10/dist-packages (0.45.0)\n",
            "Requirement already satisfied: qiskit-terra==0.45.0 in /usr/local/lib/python3.10/dist-packages (from qiskit) (0.45.0)\n",
            "Requirement already satisfied: rustworkx>=0.13.0 in /usr/local/lib/python3.10/dist-packages (from qiskit-terra==0.45.0->qiskit) (0.13.2)\n",
            "Requirement already satisfied: numpy<2,>=1.17 in /usr/local/lib/python3.10/dist-packages (from qiskit-terra==0.45.0->qiskit) (1.23.5)\n",
            "Requirement already satisfied: ply>=3.10 in /usr/local/lib/python3.10/dist-packages (from qiskit-terra==0.45.0->qiskit) (3.11)\n",
            "Requirement already satisfied: psutil>=5 in /usr/local/lib/python3.10/dist-packages (from qiskit-terra==0.45.0->qiskit) (5.9.5)\n",
            "Requirement already satisfied: scipy>=1.5 in /usr/local/lib/python3.10/dist-packages (from qiskit-terra==0.45.0->qiskit) (1.11.3)\n",
            "Requirement already satisfied: sympy>=1.3 in /usr/local/lib/python3.10/dist-packages (from qiskit-terra==0.45.0->qiskit) (1.12)\n",
            "Requirement already satisfied: dill>=0.3 in /usr/local/lib/python3.10/dist-packages (from qiskit-terra==0.45.0->qiskit) (0.3.7)\n",
            "Requirement already satisfied: python-dateutil>=2.8.0 in /usr/local/lib/python3.10/dist-packages (from qiskit-terra==0.45.0->qiskit) (2.8.2)\n",
            "Requirement already satisfied: stevedore>=3.0.0 in /usr/local/lib/python3.10/dist-packages (from qiskit-terra==0.45.0->qiskit) (5.1.0)\n",
            "Requirement already satisfied: symengine<0.10,>=0.9 in /usr/local/lib/python3.10/dist-packages (from qiskit-terra==0.45.0->qiskit) (0.9.2)\n",
            "Requirement already satisfied: typing-extensions in /usr/local/lib/python3.10/dist-packages (from qiskit-terra==0.45.0->qiskit) (4.5.0)\n",
            "Requirement already satisfied: six>=1.5 in /usr/local/lib/python3.10/dist-packages (from python-dateutil>=2.8.0->qiskit-terra==0.45.0->qiskit) (1.16.0)\n",
            "Requirement already satisfied: pbr!=2.1.0,>=2.0.0 in /usr/local/lib/python3.10/dist-packages (from stevedore>=3.0.0->qiskit-terra==0.45.0->qiskit) (6.0.0)\n",
            "Requirement already satisfied: mpmath>=0.19 in /usr/local/lib/python3.10/dist-packages (from sympy>=1.3->qiskit-terra==0.45.0->qiskit) (1.3.0)\n",
            "Requirement already satisfied: qiskit-ibm-runtime in /usr/local/lib/python3.10/dist-packages (0.15.1)\n",
            "Requirement already satisfied: qiskit>=0.44.1 in /usr/local/lib/python3.10/dist-packages (from qiskit-ibm-runtime) (0.45.0)\n",
            "Requirement already satisfied: requests>=2.19 in /usr/local/lib/python3.10/dist-packages (from qiskit-ibm-runtime) (2.31.0)\n",
            "Requirement already satisfied: requests-ntlm>=1.1.0 in /usr/local/lib/python3.10/dist-packages (from qiskit-ibm-runtime) (1.2.0)\n",
            "Requirement already satisfied: numpy>=1.13 in /usr/local/lib/python3.10/dist-packages (from qiskit-ibm-runtime) (1.23.5)\n",
            "Requirement already satisfied: urllib3>=1.21.1 in /usr/local/lib/python3.10/dist-packages (from qiskit-ibm-runtime) (1.26.18)\n",
            "Requirement already satisfied: python-dateutil>=2.8.0 in /usr/local/lib/python3.10/dist-packages (from qiskit-ibm-runtime) (2.8.2)\n",
            "Requirement already satisfied: websocket-client>=1.5.1 in /usr/local/lib/python3.10/dist-packages (from qiskit-ibm-runtime) (1.6.4)\n",
            "Requirement already satisfied: ibm-platform-services>=0.22.6 in /usr/local/lib/python3.10/dist-packages (from qiskit-ibm-runtime) (0.47.0)\n",
            "Requirement already satisfied: qiskit-ibm-provider>=0.7.2 in /usr/local/lib/python3.10/dist-packages (from qiskit-ibm-runtime) (0.7.2)\n",
            "Requirement already satisfied: ibm-cloud-sdk-core<4.0.0,>=3.17.0 in /usr/local/lib/python3.10/dist-packages (from ibm-platform-services>=0.22.6->qiskit-ibm-runtime) (3.18.0)\n",
            "Requirement already satisfied: six>=1.5 in /usr/local/lib/python3.10/dist-packages (from python-dateutil>=2.8.0->qiskit-ibm-runtime) (1.16.0)\n",
            "Requirement already satisfied: qiskit-terra==0.45.0 in /usr/local/lib/python3.10/dist-packages (from qiskit>=0.44.1->qiskit-ibm-runtime) (0.45.0)\n",
            "Requirement already satisfied: rustworkx>=0.13.0 in /usr/local/lib/python3.10/dist-packages (from qiskit-terra==0.45.0->qiskit>=0.44.1->qiskit-ibm-runtime) (0.13.2)\n",
            "Requirement already satisfied: ply>=3.10 in /usr/local/lib/python3.10/dist-packages (from qiskit-terra==0.45.0->qiskit>=0.44.1->qiskit-ibm-runtime) (3.11)\n",
            "Requirement already satisfied: psutil>=5 in /usr/local/lib/python3.10/dist-packages (from qiskit-terra==0.45.0->qiskit>=0.44.1->qiskit-ibm-runtime) (5.9.5)\n",
            "Requirement already satisfied: scipy>=1.5 in /usr/local/lib/python3.10/dist-packages (from qiskit-terra==0.45.0->qiskit>=0.44.1->qiskit-ibm-runtime) (1.11.3)\n",
            "Requirement already satisfied: sympy>=1.3 in /usr/local/lib/python3.10/dist-packages (from qiskit-terra==0.45.0->qiskit>=0.44.1->qiskit-ibm-runtime) (1.12)\n",
            "Requirement already satisfied: dill>=0.3 in /usr/local/lib/python3.10/dist-packages (from qiskit-terra==0.45.0->qiskit>=0.44.1->qiskit-ibm-runtime) (0.3.7)\n",
            "Requirement already satisfied: stevedore>=3.0.0 in /usr/local/lib/python3.10/dist-packages (from qiskit-terra==0.45.0->qiskit>=0.44.1->qiskit-ibm-runtime) (5.1.0)\n",
            "Requirement already satisfied: symengine<0.10,>=0.9 in /usr/local/lib/python3.10/dist-packages (from qiskit-terra==0.45.0->qiskit>=0.44.1->qiskit-ibm-runtime) (0.9.2)\n",
            "Requirement already satisfied: typing-extensions in /usr/local/lib/python3.10/dist-packages (from qiskit-terra==0.45.0->qiskit>=0.44.1->qiskit-ibm-runtime) (4.5.0)\n",
            "Requirement already satisfied: websockets>=10.0 in /usr/local/lib/python3.10/dist-packages (from qiskit-ibm-provider>=0.7.2->qiskit-ibm-runtime) (12.0)\n",
            "Requirement already satisfied: charset-normalizer<4,>=2 in /usr/local/lib/python3.10/dist-packages (from requests>=2.19->qiskit-ibm-runtime) (3.3.2)\n",
            "Requirement already satisfied: idna<4,>=2.5 in /usr/local/lib/python3.10/dist-packages (from requests>=2.19->qiskit-ibm-runtime) (3.4)\n",
            "Requirement already satisfied: certifi>=2017.4.17 in /usr/local/lib/python3.10/dist-packages (from requests>=2.19->qiskit-ibm-runtime) (2023.7.22)\n",
            "Requirement already satisfied: cryptography>=1.3 in /usr/local/lib/python3.10/dist-packages (from requests-ntlm>=1.1.0->qiskit-ibm-runtime) (41.0.5)\n",
            "Requirement already satisfied: pyspnego>=0.1.6 in /usr/local/lib/python3.10/dist-packages (from requests-ntlm>=1.1.0->qiskit-ibm-runtime) (0.10.2)\n",
            "Requirement already satisfied: cffi>=1.12 in /usr/local/lib/python3.10/dist-packages (from cryptography>=1.3->requests-ntlm>=1.1.0->qiskit-ibm-runtime) (1.16.0)\n",
            "Requirement already satisfied: PyJWT<3.0.0,>=2.8.0 in /usr/local/lib/python3.10/dist-packages (from ibm-cloud-sdk-core<4.0.0,>=3.17.0->ibm-platform-services>=0.22.6->qiskit-ibm-runtime) (2.8.0)\n",
            "Requirement already satisfied: pycparser in /usr/local/lib/python3.10/dist-packages (from cffi>=1.12->cryptography>=1.3->requests-ntlm>=1.1.0->qiskit-ibm-runtime) (2.21)\n",
            "Requirement already satisfied: pbr!=2.1.0,>=2.0.0 in /usr/local/lib/python3.10/dist-packages (from stevedore>=3.0.0->qiskit-terra==0.45.0->qiskit>=0.44.1->qiskit-ibm-runtime) (6.0.0)\n",
            "Requirement already satisfied: mpmath>=0.19 in /usr/local/lib/python3.10/dist-packages (from sympy>=1.3->qiskit-terra==0.45.0->qiskit>=0.44.1->qiskit-ibm-runtime) (1.3.0)\n",
            "Requirement already satisfied: qiskit[visualization] in /usr/local/lib/python3.10/dist-packages (0.45.0)\n",
            "Requirement already satisfied: qiskit-terra==0.45.0 in /usr/local/lib/python3.10/dist-packages (from qiskit[visualization]) (0.45.0)\n",
            "Requirement already satisfied: rustworkx>=0.13.0 in /usr/local/lib/python3.10/dist-packages (from qiskit-terra==0.45.0->qiskit[visualization]) (0.13.2)\n",
            "Requirement already satisfied: numpy<2,>=1.17 in /usr/local/lib/python3.10/dist-packages (from qiskit-terra==0.45.0->qiskit[visualization]) (1.23.5)\n",
            "Requirement already satisfied: ply>=3.10 in /usr/local/lib/python3.10/dist-packages (from qiskit-terra==0.45.0->qiskit[visualization]) (3.11)\n",
            "Requirement already satisfied: psutil>=5 in /usr/local/lib/python3.10/dist-packages (from qiskit-terra==0.45.0->qiskit[visualization]) (5.9.5)\n",
            "Requirement already satisfied: scipy>=1.5 in /usr/local/lib/python3.10/dist-packages (from qiskit-terra==0.45.0->qiskit[visualization]) (1.11.3)\n",
            "Requirement already satisfied: sympy>=1.3 in /usr/local/lib/python3.10/dist-packages (from qiskit-terra==0.45.0->qiskit[visualization]) (1.12)\n",
            "Requirement already satisfied: dill>=0.3 in /usr/local/lib/python3.10/dist-packages (from qiskit-terra==0.45.0->qiskit[visualization]) (0.3.7)\n",
            "Requirement already satisfied: python-dateutil>=2.8.0 in /usr/local/lib/python3.10/dist-packages (from qiskit-terra==0.45.0->qiskit[visualization]) (2.8.2)\n",
            "Requirement already satisfied: stevedore>=3.0.0 in /usr/local/lib/python3.10/dist-packages (from qiskit-terra==0.45.0->qiskit[visualization]) (5.1.0)\n",
            "Requirement already satisfied: symengine<0.10,>=0.9 in /usr/local/lib/python3.10/dist-packages (from qiskit-terra==0.45.0->qiskit[visualization]) (0.9.2)\n",
            "Requirement already satisfied: typing-extensions in /usr/local/lib/python3.10/dist-packages (from qiskit-terra==0.45.0->qiskit[visualization]) (4.5.0)\n",
            "Requirement already satisfied: matplotlib>=3.3 in /usr/local/lib/python3.10/dist-packages (from qiskit-terra==0.45.0->qiskit[visualization]) (3.7.1)\n",
            "Requirement already satisfied: ipywidgets>=7.3.0 in /usr/local/lib/python3.10/dist-packages (from qiskit-terra==0.45.0->qiskit[visualization]) (7.7.1)\n",
            "Requirement already satisfied: pydot in /usr/local/lib/python3.10/dist-packages (from qiskit-terra==0.45.0->qiskit[visualization]) (1.4.2)\n",
            "Requirement already satisfied: pillow>=4.2.1 in /usr/local/lib/python3.10/dist-packages (from qiskit-terra==0.45.0->qiskit[visualization]) (9.4.0)\n",
            "Requirement already satisfied: pylatexenc>=1.4 in /usr/local/lib/python3.10/dist-packages (from qiskit-terra==0.45.0->qiskit[visualization]) (2.10)\n",
            "Requirement already satisfied: seaborn>=0.9.0 in /usr/local/lib/python3.10/dist-packages (from qiskit-terra==0.45.0->qiskit[visualization]) (0.12.2)\n",
            "Requirement already satisfied: pygments>=2.4 in /usr/local/lib/python3.10/dist-packages (from qiskit-terra==0.45.0->qiskit[visualization]) (2.16.1)\n",
            "Requirement already satisfied: ipykernel>=4.5.1 in /usr/local/lib/python3.10/dist-packages (from ipywidgets>=7.3.0->qiskit-terra==0.45.0->qiskit[visualization]) (5.5.6)\n",
            "Requirement already satisfied: ipython-genutils~=0.2.0 in /usr/local/lib/python3.10/dist-packages (from ipywidgets>=7.3.0->qiskit-terra==0.45.0->qiskit[visualization]) (0.2.0)\n",
            "Requirement already satisfied: traitlets>=4.3.1 in /usr/local/lib/python3.10/dist-packages (from ipywidgets>=7.3.0->qiskit-terra==0.45.0->qiskit[visualization]) (5.7.1)\n",
            "Requirement already satisfied: widgetsnbextension~=3.6.0 in /usr/local/lib/python3.10/dist-packages (from ipywidgets>=7.3.0->qiskit-terra==0.45.0->qiskit[visualization]) (3.6.6)\n",
            "Requirement already satisfied: ipython>=4.0.0 in /usr/local/lib/python3.10/dist-packages (from ipywidgets>=7.3.0->qiskit-terra==0.45.0->qiskit[visualization]) (7.34.0)\n",
            "Requirement already satisfied: jupyterlab-widgets>=1.0.0 in /usr/local/lib/python3.10/dist-packages (from ipywidgets>=7.3.0->qiskit-terra==0.45.0->qiskit[visualization]) (3.0.9)\n",
            "Requirement already satisfied: contourpy>=1.0.1 in /usr/local/lib/python3.10/dist-packages (from matplotlib>=3.3->qiskit-terra==0.45.0->qiskit[visualization]) (1.2.0)\n",
            "Requirement already satisfied: cycler>=0.10 in /usr/local/lib/python3.10/dist-packages (from matplotlib>=3.3->qiskit-terra==0.45.0->qiskit[visualization]) (0.12.1)\n",
            "Requirement already satisfied: fonttools>=4.22.0 in /usr/local/lib/python3.10/dist-packages (from matplotlib>=3.3->qiskit-terra==0.45.0->qiskit[visualization]) (4.44.3)\n",
            "Requirement already satisfied: kiwisolver>=1.0.1 in /usr/local/lib/python3.10/dist-packages (from matplotlib>=3.3->qiskit-terra==0.45.0->qiskit[visualization]) (1.4.5)\n",
            "Requirement already satisfied: packaging>=20.0 in /usr/local/lib/python3.10/dist-packages (from matplotlib>=3.3->qiskit-terra==0.45.0->qiskit[visualization]) (23.2)\n",
            "Requirement already satisfied: pyparsing>=2.3.1 in /usr/local/lib/python3.10/dist-packages (from matplotlib>=3.3->qiskit-terra==0.45.0->qiskit[visualization]) (3.1.1)\n",
            "Requirement already satisfied: six>=1.5 in /usr/local/lib/python3.10/dist-packages (from python-dateutil>=2.8.0->qiskit-terra==0.45.0->qiskit[visualization]) (1.16.0)\n",
            "Requirement already satisfied: pandas>=0.25 in /usr/local/lib/python3.10/dist-packages (from seaborn>=0.9.0->qiskit-terra==0.45.0->qiskit[visualization]) (1.5.3)\n",
            "Requirement already satisfied: pbr!=2.1.0,>=2.0.0 in /usr/local/lib/python3.10/dist-packages (from stevedore>=3.0.0->qiskit-terra==0.45.0->qiskit[visualization]) (6.0.0)\n",
            "Requirement already satisfied: mpmath>=0.19 in /usr/local/lib/python3.10/dist-packages (from sympy>=1.3->qiskit-terra==0.45.0->qiskit[visualization]) (1.3.0)\n",
            "Requirement already satisfied: jupyter-client in /usr/local/lib/python3.10/dist-packages (from ipykernel>=4.5.1->ipywidgets>=7.3.0->qiskit-terra==0.45.0->qiskit[visualization]) (6.1.12)\n",
            "Requirement already satisfied: tornado>=4.2 in /usr/local/lib/python3.10/dist-packages (from ipykernel>=4.5.1->ipywidgets>=7.3.0->qiskit-terra==0.45.0->qiskit[visualization]) (6.3.2)\n",
            "Requirement already satisfied: setuptools>=18.5 in /usr/local/lib/python3.10/dist-packages (from ipython>=4.0.0->ipywidgets>=7.3.0->qiskit-terra==0.45.0->qiskit[visualization]) (67.7.2)\n",
            "Requirement already satisfied: jedi>=0.16 in /usr/local/lib/python3.10/dist-packages (from ipython>=4.0.0->ipywidgets>=7.3.0->qiskit-terra==0.45.0->qiskit[visualization]) (0.19.1)\n",
            "Requirement already satisfied: decorator in /usr/local/lib/python3.10/dist-packages (from ipython>=4.0.0->ipywidgets>=7.3.0->qiskit-terra==0.45.0->qiskit[visualization]) (4.4.2)\n",
            "Requirement already satisfied: pickleshare in /usr/local/lib/python3.10/dist-packages (from ipython>=4.0.0->ipywidgets>=7.3.0->qiskit-terra==0.45.0->qiskit[visualization]) (0.7.5)\n",
            "Requirement already satisfied: prompt-toolkit!=3.0.0,!=3.0.1,<3.1.0,>=2.0.0 in /usr/local/lib/python3.10/dist-packages (from ipython>=4.0.0->ipywidgets>=7.3.0->qiskit-terra==0.45.0->qiskit[visualization]) (3.0.41)\n",
            "Requirement already satisfied: backcall in /usr/local/lib/python3.10/dist-packages (from ipython>=4.0.0->ipywidgets>=7.3.0->qiskit-terra==0.45.0->qiskit[visualization]) (0.2.0)\n",
            "Requirement already satisfied: matplotlib-inline in /usr/local/lib/python3.10/dist-packages (from ipython>=4.0.0->ipywidgets>=7.3.0->qiskit-terra==0.45.0->qiskit[visualization]) (0.1.6)\n",
            "Requirement already satisfied: pexpect>4.3 in /usr/local/lib/python3.10/dist-packages (from ipython>=4.0.0->ipywidgets>=7.3.0->qiskit-terra==0.45.0->qiskit[visualization]) (4.8.0)\n",
            "Requirement already satisfied: pytz>=2020.1 in /usr/local/lib/python3.10/dist-packages (from pandas>=0.25->seaborn>=0.9.0->qiskit-terra==0.45.0->qiskit[visualization]) (2023.3.post1)\n",
            "Requirement already satisfied: notebook>=4.4.1 in /usr/local/lib/python3.10/dist-packages (from widgetsnbextension~=3.6.0->ipywidgets>=7.3.0->qiskit-terra==0.45.0->qiskit[visualization]) (6.5.5)\n",
            "Requirement already satisfied: parso<0.9.0,>=0.8.3 in /usr/local/lib/python3.10/dist-packages (from jedi>=0.16->ipython>=4.0.0->ipywidgets>=7.3.0->qiskit-terra==0.45.0->qiskit[visualization]) (0.8.3)\n",
            "Requirement already satisfied: jinja2 in /usr/local/lib/python3.10/dist-packages (from notebook>=4.4.1->widgetsnbextension~=3.6.0->ipywidgets>=7.3.0->qiskit-terra==0.45.0->qiskit[visualization]) (3.1.2)\n",
            "Requirement already satisfied: pyzmq<25,>=17 in /usr/local/lib/python3.10/dist-packages (from notebook>=4.4.1->widgetsnbextension~=3.6.0->ipywidgets>=7.3.0->qiskit-terra==0.45.0->qiskit[visualization]) (23.2.1)\n",
            "Requirement already satisfied: argon2-cffi in /usr/local/lib/python3.10/dist-packages (from notebook>=4.4.1->widgetsnbextension~=3.6.0->ipywidgets>=7.3.0->qiskit-terra==0.45.0->qiskit[visualization]) (23.1.0)\n",
            "Requirement already satisfied: jupyter-core>=4.6.1 in /usr/local/lib/python3.10/dist-packages (from notebook>=4.4.1->widgetsnbextension~=3.6.0->ipywidgets>=7.3.0->qiskit-terra==0.45.0->qiskit[visualization]) (5.5.0)\n",
            "Requirement already satisfied: nbformat in /usr/local/lib/python3.10/dist-packages (from notebook>=4.4.1->widgetsnbextension~=3.6.0->ipywidgets>=7.3.0->qiskit-terra==0.45.0->qiskit[visualization]) (5.9.2)\n",
            "Requirement already satisfied: nbconvert>=5 in /usr/local/lib/python3.10/dist-packages (from notebook>=4.4.1->widgetsnbextension~=3.6.0->ipywidgets>=7.3.0->qiskit-terra==0.45.0->qiskit[visualization]) (6.5.4)\n",
            "Requirement already satisfied: nest-asyncio>=1.5 in /usr/local/lib/python3.10/dist-packages (from notebook>=4.4.1->widgetsnbextension~=3.6.0->ipywidgets>=7.3.0->qiskit-terra==0.45.0->qiskit[visualization]) (1.5.8)\n",
            "Requirement already satisfied: Send2Trash>=1.8.0 in /usr/local/lib/python3.10/dist-packages (from notebook>=4.4.1->widgetsnbextension~=3.6.0->ipywidgets>=7.3.0->qiskit-terra==0.45.0->qiskit[visualization]) (1.8.2)\n",
            "Requirement already satisfied: terminado>=0.8.3 in /usr/local/lib/python3.10/dist-packages (from notebook>=4.4.1->widgetsnbextension~=3.6.0->ipywidgets>=7.3.0->qiskit-terra==0.45.0->qiskit[visualization]) (0.18.0)\n",
            "Requirement already satisfied: prometheus-client in /usr/local/lib/python3.10/dist-packages (from notebook>=4.4.1->widgetsnbextension~=3.6.0->ipywidgets>=7.3.0->qiskit-terra==0.45.0->qiskit[visualization]) (0.18.0)\n",
            "Requirement already satisfied: nbclassic>=0.4.7 in /usr/local/lib/python3.10/dist-packages (from notebook>=4.4.1->widgetsnbextension~=3.6.0->ipywidgets>=7.3.0->qiskit-terra==0.45.0->qiskit[visualization]) (1.0.0)\n",
            "Requirement already satisfied: ptyprocess>=0.5 in /usr/local/lib/python3.10/dist-packages (from pexpect>4.3->ipython>=4.0.0->ipywidgets>=7.3.0->qiskit-terra==0.45.0->qiskit[visualization]) (0.7.0)\n",
            "Requirement already satisfied: wcwidth in /usr/local/lib/python3.10/dist-packages (from prompt-toolkit!=3.0.0,!=3.0.1,<3.1.0,>=2.0.0->ipython>=4.0.0->ipywidgets>=7.3.0->qiskit-terra==0.45.0->qiskit[visualization]) (0.2.10)\n",
            "Requirement already satisfied: platformdirs>=2.5 in /usr/local/lib/python3.10/dist-packages (from jupyter-core>=4.6.1->notebook>=4.4.1->widgetsnbextension~=3.6.0->ipywidgets>=7.3.0->qiskit-terra==0.45.0->qiskit[visualization]) (4.0.0)\n",
            "Requirement already satisfied: jupyter-server>=1.8 in /usr/local/lib/python3.10/dist-packages (from nbclassic>=0.4.7->notebook>=4.4.1->widgetsnbextension~=3.6.0->ipywidgets>=7.3.0->qiskit-terra==0.45.0->qiskit[visualization]) (1.24.0)\n",
            "Requirement already satisfied: notebook-shim>=0.2.3 in /usr/local/lib/python3.10/dist-packages (from nbclassic>=0.4.7->notebook>=4.4.1->widgetsnbextension~=3.6.0->ipywidgets>=7.3.0->qiskit-terra==0.45.0->qiskit[visualization]) (0.2.3)\n",
            "Requirement already satisfied: lxml in /usr/local/lib/python3.10/dist-packages (from nbconvert>=5->notebook>=4.4.1->widgetsnbextension~=3.6.0->ipywidgets>=7.3.0->qiskit-terra==0.45.0->qiskit[visualization]) (4.9.3)\n",
            "Requirement already satisfied: beautifulsoup4 in /usr/local/lib/python3.10/dist-packages (from nbconvert>=5->notebook>=4.4.1->widgetsnbextension~=3.6.0->ipywidgets>=7.3.0->qiskit-terra==0.45.0->qiskit[visualization]) (4.11.2)\n",
            "Requirement already satisfied: bleach in /usr/local/lib/python3.10/dist-packages (from nbconvert>=5->notebook>=4.4.1->widgetsnbextension~=3.6.0->ipywidgets>=7.3.0->qiskit-terra==0.45.0->qiskit[visualization]) (6.1.0)\n",
            "Requirement already satisfied: defusedxml in /usr/local/lib/python3.10/dist-packages (from nbconvert>=5->notebook>=4.4.1->widgetsnbextension~=3.6.0->ipywidgets>=7.3.0->qiskit-terra==0.45.0->qiskit[visualization]) (0.7.1)\n",
            "Requirement already satisfied: entrypoints>=0.2.2 in /usr/local/lib/python3.10/dist-packages (from nbconvert>=5->notebook>=4.4.1->widgetsnbextension~=3.6.0->ipywidgets>=7.3.0->qiskit-terra==0.45.0->qiskit[visualization]) (0.4)\n",
            "Requirement already satisfied: jupyterlab-pygments in /usr/local/lib/python3.10/dist-packages (from nbconvert>=5->notebook>=4.4.1->widgetsnbextension~=3.6.0->ipywidgets>=7.3.0->qiskit-terra==0.45.0->qiskit[visualization]) (0.2.2)\n",
            "Requirement already satisfied: MarkupSafe>=2.0 in /usr/local/lib/python3.10/dist-packages (from nbconvert>=5->notebook>=4.4.1->widgetsnbextension~=3.6.0->ipywidgets>=7.3.0->qiskit-terra==0.45.0->qiskit[visualization]) (2.1.3)\n",
            "Requirement already satisfied: mistune<2,>=0.8.1 in /usr/local/lib/python3.10/dist-packages (from nbconvert>=5->notebook>=4.4.1->widgetsnbextension~=3.6.0->ipywidgets>=7.3.0->qiskit-terra==0.45.0->qiskit[visualization]) (0.8.4)\n",
            "Requirement already satisfied: nbclient>=0.5.0 in /usr/local/lib/python3.10/dist-packages (from nbconvert>=5->notebook>=4.4.1->widgetsnbextension~=3.6.0->ipywidgets>=7.3.0->qiskit-terra==0.45.0->qiskit[visualization]) (0.9.0)\n",
            "Requirement already satisfied: pandocfilters>=1.4.1 in /usr/local/lib/python3.10/dist-packages (from nbconvert>=5->notebook>=4.4.1->widgetsnbextension~=3.6.0->ipywidgets>=7.3.0->qiskit-terra==0.45.0->qiskit[visualization]) (1.5.0)\n",
            "Requirement already satisfied: tinycss2 in /usr/local/lib/python3.10/dist-packages (from nbconvert>=5->notebook>=4.4.1->widgetsnbextension~=3.6.0->ipywidgets>=7.3.0->qiskit-terra==0.45.0->qiskit[visualization]) (1.2.1)\n",
            "Requirement already satisfied: fastjsonschema in /usr/local/lib/python3.10/dist-packages (from nbformat->notebook>=4.4.1->widgetsnbextension~=3.6.0->ipywidgets>=7.3.0->qiskit-terra==0.45.0->qiskit[visualization]) (2.19.0)\n",
            "Requirement already satisfied: jsonschema>=2.6 in /usr/local/lib/python3.10/dist-packages (from nbformat->notebook>=4.4.1->widgetsnbextension~=3.6.0->ipywidgets>=7.3.0->qiskit-terra==0.45.0->qiskit[visualization]) (4.19.2)\n",
            "Requirement already satisfied: argon2-cffi-bindings in /usr/local/lib/python3.10/dist-packages (from argon2-cffi->notebook>=4.4.1->widgetsnbextension~=3.6.0->ipywidgets>=7.3.0->qiskit-terra==0.45.0->qiskit[visualization]) (21.2.0)\n",
            "Requirement already satisfied: attrs>=22.2.0 in /usr/local/lib/python3.10/dist-packages (from jsonschema>=2.6->nbformat->notebook>=4.4.1->widgetsnbextension~=3.6.0->ipywidgets>=7.3.0->qiskit-terra==0.45.0->qiskit[visualization]) (23.1.0)\n",
            "Requirement already satisfied: jsonschema-specifications>=2023.03.6 in /usr/local/lib/python3.10/dist-packages (from jsonschema>=2.6->nbformat->notebook>=4.4.1->widgetsnbextension~=3.6.0->ipywidgets>=7.3.0->qiskit-terra==0.45.0->qiskit[visualization]) (2023.11.1)\n",
            "Requirement already satisfied: referencing>=0.28.4 in /usr/local/lib/python3.10/dist-packages (from jsonschema>=2.6->nbformat->notebook>=4.4.1->widgetsnbextension~=3.6.0->ipywidgets>=7.3.0->qiskit-terra==0.45.0->qiskit[visualization]) (0.31.0)\n",
            "Requirement already satisfied: rpds-py>=0.7.1 in /usr/local/lib/python3.10/dist-packages (from jsonschema>=2.6->nbformat->notebook>=4.4.1->widgetsnbextension~=3.6.0->ipywidgets>=7.3.0->qiskit-terra==0.45.0->qiskit[visualization]) (0.12.0)\n",
            "Requirement already satisfied: anyio<4,>=3.1.0 in /usr/local/lib/python3.10/dist-packages (from jupyter-server>=1.8->nbclassic>=0.4.7->notebook>=4.4.1->widgetsnbextension~=3.6.0->ipywidgets>=7.3.0->qiskit-terra==0.45.0->qiskit[visualization]) (3.7.1)\n",
            "Requirement already satisfied: websocket-client in /usr/local/lib/python3.10/dist-packages (from jupyter-server>=1.8->nbclassic>=0.4.7->notebook>=4.4.1->widgetsnbextension~=3.6.0->ipywidgets>=7.3.0->qiskit-terra==0.45.0->qiskit[visualization]) (1.6.4)\n",
            "Requirement already satisfied: cffi>=1.0.1 in /usr/local/lib/python3.10/dist-packages (from argon2-cffi-bindings->argon2-cffi->notebook>=4.4.1->widgetsnbextension~=3.6.0->ipywidgets>=7.3.0->qiskit-terra==0.45.0->qiskit[visualization]) (1.16.0)\n",
            "Requirement already satisfied: soupsieve>1.2 in /usr/local/lib/python3.10/dist-packages (from beautifulsoup4->nbconvert>=5->notebook>=4.4.1->widgetsnbextension~=3.6.0->ipywidgets>=7.3.0->qiskit-terra==0.45.0->qiskit[visualization]) (2.5)\n",
            "Requirement already satisfied: webencodings in /usr/local/lib/python3.10/dist-packages (from bleach->nbconvert>=5->notebook>=4.4.1->widgetsnbextension~=3.6.0->ipywidgets>=7.3.0->qiskit-terra==0.45.0->qiskit[visualization]) (0.5.1)\n",
            "Requirement already satisfied: idna>=2.8 in /usr/local/lib/python3.10/dist-packages (from anyio<4,>=3.1.0->jupyter-server>=1.8->nbclassic>=0.4.7->notebook>=4.4.1->widgetsnbextension~=3.6.0->ipywidgets>=7.3.0->qiskit-terra==0.45.0->qiskit[visualization]) (3.4)\n",
            "Requirement already satisfied: sniffio>=1.1 in /usr/local/lib/python3.10/dist-packages (from anyio<4,>=3.1.0->jupyter-server>=1.8->nbclassic>=0.4.7->notebook>=4.4.1->widgetsnbextension~=3.6.0->ipywidgets>=7.3.0->qiskit-terra==0.45.0->qiskit[visualization]) (1.3.0)\n",
            "Requirement already satisfied: exceptiongroup in /usr/local/lib/python3.10/dist-packages (from anyio<4,>=3.1.0->jupyter-server>=1.8->nbclassic>=0.4.7->notebook>=4.4.1->widgetsnbextension~=3.6.0->ipywidgets>=7.3.0->qiskit-terra==0.45.0->qiskit[visualization]) (1.1.3)\n",
            "Requirement already satisfied: pycparser in /usr/local/lib/python3.10/dist-packages (from cffi>=1.0.1->argon2-cffi-bindings->argon2-cffi->notebook>=4.4.1->widgetsnbextension~=3.6.0->ipywidgets>=7.3.0->qiskit-terra==0.45.0->qiskit[visualization]) (2.21)\n",
            "Requirement already satisfied: matplotlib in /usr/local/lib/python3.10/dist-packages (3.7.1)\n",
            "Requirement already satisfied: contourpy>=1.0.1 in /usr/local/lib/python3.10/dist-packages (from matplotlib) (1.2.0)\n",
            "Requirement already satisfied: cycler>=0.10 in /usr/local/lib/python3.10/dist-packages (from matplotlib) (0.12.1)\n",
            "Requirement already satisfied: fonttools>=4.22.0 in /usr/local/lib/python3.10/dist-packages (from matplotlib) (4.44.3)\n",
            "Requirement already satisfied: kiwisolver>=1.0.1 in /usr/local/lib/python3.10/dist-packages (from matplotlib) (1.4.5)\n",
            "Requirement already satisfied: numpy>=1.20 in /usr/local/lib/python3.10/dist-packages (from matplotlib) (1.23.5)\n",
            "Requirement already satisfied: packaging>=20.0 in /usr/local/lib/python3.10/dist-packages (from matplotlib) (23.2)\n",
            "Requirement already satisfied: pillow>=6.2.0 in /usr/local/lib/python3.10/dist-packages (from matplotlib) (9.4.0)\n",
            "Requirement already satisfied: pyparsing>=2.3.1 in /usr/local/lib/python3.10/dist-packages (from matplotlib) (3.1.1)\n",
            "Requirement already satisfied: python-dateutil>=2.7 in /usr/local/lib/python3.10/dist-packages (from matplotlib) (2.8.2)\n",
            "Requirement already satisfied: six>=1.5 in /usr/local/lib/python3.10/dist-packages (from python-dateutil>=2.7->matplotlib) (1.16.0)\n",
            "Requirement already satisfied: numpy in /usr/local/lib/python3.10/dist-packages (1.23.5)\n"
          ]
        }
      ],
      "source": [
        "!pip install qiskit\n",
        "!pip install qiskit-ibm-runtime\n",
        "!pip install qiskit[visualization]\n",
        "!pip install matplotlib\n",
        "!pip install numpy"
      ]
    },
    {
      "cell_type": "code",
      "source": [
        "from qiskit_ibm_runtime import QiskitRuntimeService\n",
        "from qiskit_ibm_runtime import Sampler\n",
        "from qiskit.visualization import plot_histogram\n",
        "from matplotlib import pyplot as plt\n",
        "import numpy as np\n",
        "\n",
        "from qiskit.circuit import QuantumCircuit, QuantumRegister, ClassicalRegister\n",
        "from qiskit.circuit.library.standard_gates import C3XGate, SwapGate, RXGate, CXGate\n",
        "from qiskit.circuit.library import UnitaryGate"
      ],
      "metadata": {
        "id": "Lx8CbbKSWN9e"
      },
      "execution_count": 2,
      "outputs": []
    },
    {
      "cell_type": "code",
      "source": [
        "# Save an IBM Quantum account and set it as your default account.\n",
        "QiskitRuntimeService.save_account(channel=\"ibm_quantum\",\n",
        "                                  token=\"067e5c82606f0a1157dd554e2087d6b7a9b823dbaa4ad47b95c3337eab2e6cd9361719cc0470f4a98d1631b73b264a82577012a0b8ff32963d5964e6cc12c525\",\n",
        "                                  set_as_default=True,\n",
        "                                  overwrite=True)"
      ],
      "metadata": {
        "id": "uCoZ9D7gWOZ0"
      },
      "execution_count": 3,
      "outputs": []
    },
    {
      "cell_type": "code",
      "source": [
        "service = QiskitRuntimeService()\n",
        "backend = service.get_backend(\"ibmq_qasm_simulator\")\n",
        "\n",
        "sampler = Sampler(backend=backend)"
      ],
      "metadata": {
        "id": "Mbj0etYrWOOr"
      },
      "execution_count": 4,
      "outputs": []
    },
    {
      "cell_type": "markdown",
      "source": [
        "#1. Product State Encoding to 8 Qubits"
      ],
      "metadata": {
        "id": "-eOEfP0YfSeS"
      }
    },
    {
      "cell_type": "markdown",
      "source": [
        "Encoding [1, 5, 2, 6, 3, 7, 4, 8] to 8 Qubits\n",
        "\n"
      ],
      "metadata": {
        "id": "4sMAwrsDjdR_"
      }
    },
    {
      "cell_type": "code",
      "source": [
        "# Initial Setting\n",
        "order = [0,1,2,3,4,5,6,7]\n",
        "vector = [1,5,2,6,3,7,4,8]\n",
        "norm = np.linalg.norm(vector)\n",
        "Probability_1_List = []\n",
        "\n",
        "# Circuit Setting\n",
        "Eight_Qubits_Quantum_Register = QuantumRegister(8, 'q')\n",
        "Eight_Qubits_Encoding = QuantumCircuit(Eight_Qubits_Quantum_Register)\n",
        "\n",
        "# Single Rotation Matrix Implement\n",
        "for j in range(8) :\n",
        "  Eight_Qubits_Encoding.rx(2*np.arcsin(np.sqrt(vector[j]/norm)), Eight_Qubits_Quantum_Register[j])\n",
        "\n",
        "# Circuit Drawing\n",
        "Eight_Qubits_Encoding.draw(\"mpl\")"
      ],
      "metadata": {
        "id": "aPmU3W3OfYVt",
        "outputId": "10f4e9c8-f8c6-4488-e55e-4c61d0ca847b",
        "colab": {
          "base_uri": "https://localhost:8080/",
          "height": 0
        }
      },
      "execution_count": 5,
      "outputs": [
        {
          "output_type": "stream",
          "name": "stderr",
          "text": [
            "/usr/local/lib/python3.10/dist-packages/qiskit/visualization/circuit/matplotlib.py:266: FutureWarning: The default matplotlib drawer scheme will be changed to \"iqp\" in a following release. To silence this warning, specify the current default explicitly as style=\"clifford\", or the new default as style=\"iqp\".\n",
            "  self._style, def_font_ratio = load_style(self._style)\n"
          ]
        },
        {
          "output_type": "execute_result",
          "data": {
            "text/plain": [
              "<Figure size 203.885x702.333 with 1 Axes>"
            ],
            "image/png": "[encoded data removed]"
          },
          "metadata": {},
          "execution_count": 5
        }
      ]
    },
    {
      "cell_type": "markdown",
      "source": [
        "Verifying Encoding : Measurement of Probabiltiy 1"
      ],
      "metadata": {
        "id": "8pY5UzKniqPi"
      }
    },
    {
      "cell_type": "code",
      "source": [
        "# Initial Setting\n",
        "order = [0,1,2,3,4,5,6,7]\n",
        "vector = [1,5,2,6,3,7,4,8]\n",
        "norm = np.linalg.norm(vector)\n",
        "Probability_1_List = []\n",
        "\n",
        "for i in range(8) :\n",
        "  # Circuit Setting\n",
        "  Eight_Qubits_Quantum_Register = QuantumRegister(8, 'q')\n",
        "  Eight_Qubits_Classical_Register = ClassicalRegister(8, 'c')\n",
        "  Eight_Qubits_Encoding = QuantumCircuit(Eight_Qubits_Quantum_Register, Eight_Qubits_Classical_Register)\n",
        "\n",
        "  # Single Rotation Matrix Implement\n",
        "  for j in range(8) :\n",
        "    Eight_Qubits_Encoding.rx(2*np.arcsin(np.sqrt(vector[j]/norm)), Eight_Qubits_Quantum_Register[j])\n",
        "\n",
        "  # Measurement on ith qubit\n",
        "  Eight_Qubits_Encoding.measure(Eight_Qubits_Quantum_Register[i], Eight_Qubits_Classical_Register[i])\n",
        "\n",
        "  # Probability of measuring 1 on ith qubit\n",
        "  job = sampler.run(Eight_Qubits_Encoding, shots=100000)\n",
        "  result = job.result()\n",
        "\n",
        "  counts = dict(result.quasi_dists[0])\n",
        "  Probability_1_List.append(norm*counts[np.power(2,i)])\n",
        "\n",
        "# Probabiltiy Bar Plot\n",
        "print(Probability_1_List)\n",
        "\n",
        "bar = plt.bar(order, Probability_1_List, 0.5)\n",
        "plt.xticks(order)\n",
        "for rect in bar:\n",
        "    height = rect.get_height()\n",
        "    plt.text(rect.get_x() + rect.get_width()/2.0, height, '%.2f' % height, ha='center', va='bottom', size = 12)\n",
        "plt.show()"
      ],
      "metadata": {
        "id": "thVAf-wtf1k4",
        "outputId": "d4e541be-266c-4fd8-dbde-ee842a3a5591",
        "colab": {
          "base_uri": "https://localhost:8080/",
          "height": 0
        }
      },
      "execution_count": 6,
      "outputs": [
        {
          "output_type": "stream",
          "name": "stdout",
          "text": [
            "[0.995943608644586, 4.991572814414311, 1.9916015601520303, 6.014939508224502, 3.01154036831652, 7.049875316088931, 4.006055691275398, 7.997542868556567]\n"
          ]
        },
        {
          "output_type": "display_data",
          "data": {
            "text/plain": [
              "<Figure size 640x480 with 1 Axes>"
            ],
            "image/png": "[encoded data removed]"
          },
          "metadata": {}
        }
      ]
    },
    {
      "cell_type": "markdown",
      "source": [
        "#2. Encoding to 3 Qubits"
      ],
      "metadata": {
        "id": "SzjxzjtCjDaf"
      }
    },
    {
      "cell_type": "markdown",
      "source": [
        "Encoding [1, 5, 2, 6, 3, 7, 4, 8] to 3 Qubits"
      ],
      "metadata": {
        "id": "WOMU4-t4qhvu"
      }
    },
    {
      "cell_type": "code",
      "source": [
        "# Matrix Setting\n",
        "vector1 = [1, 5, 2, 6, 3, 7, 4, 8]\n",
        "vector2 = [-5, 1, 0, 0, 0, 0, 0, 0]\n",
        "vector3 = [0, 0, -6, 2, 0, 0, 0, 0]\n",
        "vector4 = [0, 0, 0, 0, -7, 3, 0, 0]\n",
        "vector5 = [0, 0, 0, 0, 0, 0, -8, 4]\n",
        "vector6 = [-1, -5, 0, 0, 0, 0, 1.3, 2.6]\n",
        "vector7 = [10/53, 50/53, -1, -3, 0, 0, 40/53, 80/53]\n",
        "vector8 = [290/73, 1450/73, 580/73, 1740/73, -30, -70, 1160/73, 2320/73]\n",
        "\n",
        "v1 = []\n",
        "v2 = []\n",
        "v3 = []\n",
        "v4 = []\n",
        "v5 = []\n",
        "v6 = []\n",
        "v7 = []\n",
        "v8 = []\n",
        "for i in range(8):\n",
        "  v1.append(vector1[i]/np.linalg.norm(vector1))\n",
        "  v2.append(vector2[i]/np.linalg.norm(vector2))\n",
        "  v3.append(vector3[i]/np.linalg.norm(vector3))\n",
        "  v4.append(vector4[i]/np.linalg.norm(vector4))\n",
        "  v5.append(vector5[i]/np.linalg.norm(vector5))\n",
        "  v6.append(vector6[i]/np.linalg.norm(vector6))\n",
        "  v7.append(vector7[i]/np.linalg.norm(vector7))\n",
        "  v8.append(vector8[i]/np.linalg.norm(vector8))\n",
        "\n",
        "matrix = []\n",
        "print(v1)\n",
        "print(v2)\n",
        "print(v3)\n",
        "print(v4)\n",
        "print(v5)\n",
        "print(v6)\n",
        "print(v7)\n",
        "print(v8)\n",
        "for i in range(8):\n",
        "  matrix.append([v1[i], v2[i], v3[i], v4[i], v5[i], v6[i], v7[i], v8[i]])\n",
        "\n",
        "print(matrix)\n",
        "gate = UnitaryGate(matrix)\n",
        "\n",
        "# Circuit Setting\n",
        "Three_Qubits_Quantum_Register = QuantumRegister(3, 'q')\n",
        "Three_Qubits_Classical_Register = ClassicalRegister(3, 'c')\n",
        "Three_Qubits_Encoding = QuantumCircuit(Three_Qubits_Quantum_Register, Three_Qubits_Classical_Register)\n",
        "\n",
        "# Single Rotation Matrix Implement\n",
        "Three_Qubits_Encoding.append(gate, [0, 1, 2])\n",
        "Three_Qubits_Encoding.measure([0, 1, 2], [0, 1, 2])\n",
        "\n",
        "# Circuit Drawing\n",
        "Three_Qubits_Encoding.draw(\"mpl\")"
      ],
      "metadata": {
        "id": "YjnnIpNwmqBg",
        "outputId": "b7b3e892-b0b2-4690-ec77-d5e98dfaf24d",
        "colab": {
          "base_uri": "https://localhost:8080/",
          "height": 0
        }
      },
      "execution_count": 7,
      "outputs": [
        {
          "output_type": "stream",
          "name": "stdout",
          "text": [
            "[0.07001400420140048, 0.3500700210070024, 0.14002800840280097, 0.42008402520840293, 0.21004201260420147, 0.4900980294098034, 0.28005601680560194, 0.5601120336112039]\n",
            "[-0.9805806756909202, 0.19611613513818404, 0.0, 0.0, 0.0, 0.0, 0.0, 0.0]\n",
            "[0.0, 0.0, -0.9486832980505138, 0.31622776601683794, 0.0, 0.0, 0.0, 0.0]\n",
            "[0.0, 0.0, 0.0, 0.0, -0.9191450300180578, 0.39391929857916763, 0.0, 0.0]\n",
            "[0.0, 0.0, 0.0, 0.0, 0.0, 0.0, -0.8944271909999159, 0.4472135954999579]\n",
            "[-0.1703748109239964, -0.8518740546199819, 0.0, 0.0, 0.0, 0.0, 0.2214872542011953, 0.4429745084023906]\n",
            "[0.05083942560314576, 0.2541971280157288, -0.26944895569667254, -0.8083468670900176, 0.0, 0.0, 0.20335770241258305, 0.4067154048251661]\n",
            "[0.044128837330927095, 0.22064418665463548, 0.08825767466185419, 0.26477302398556257, -0.33324880605079427, -0.7775805474518533, 0.17651534932370838, 0.35303069864741676]\n",
            "[[0.07001400420140048, -0.9805806756909202, 0.0, 0.0, 0.0, -0.1703748109239964, 0.05083942560314576, 0.044128837330927095], [0.3500700210070024, 0.19611613513818404, 0.0, 0.0, 0.0, -0.8518740546199819, 0.2541971280157288, 0.22064418665463548], [0.14002800840280097, 0.0, -0.9486832980505138, 0.0, 0.0, 0.0, -0.26944895569667254, 0.08825767466185419], [0.42008402520840293, 0.0, 0.31622776601683794, 0.0, 0.0, 0.0, -0.8083468670900176, 0.26477302398556257], [0.21004201260420147, 0.0, 0.0, -0.9191450300180578, 0.0, 0.0, 0.0, -0.33324880605079427], [0.4900980294098034, 0.0, 0.0, 0.39391929857916763, 0.0, 0.0, 0.0, -0.7775805474518533], [0.28005601680560194, 0.0, 0.0, 0.0, -0.8944271909999159, 0.2214872542011953, 0.20335770241258305, 0.17651534932370838], [0.5601120336112039, 0.0, 0.0, 0.0, 0.4472135954999579, 0.4429745084023906, 0.4067154048251661, 0.35303069864741676]]\n"
          ]
        },
        {
          "output_type": "execute_result",
          "data": {
            "text/plain": [
              "<Figure size 538.33x367.889 with 1 Axes>"
            ],
            "image/png": "[encoded data removed]"
          },
          "metadata": {},
          "execution_count": 7
        }
      ]
    },
    {
      "cell_type": "markdown",
      "source": [
        "Verifying Encoding : Measurement of Probability of Each State"
      ],
      "metadata": {
        "id": "9qRGBZ5SqnBJ"
      }
    },
    {
      "cell_type": "code",
      "source": [
        "# Circuit Running\n",
        "job = sampler.run(Three_Qubits_Encoding, shots=100000)\n",
        "print(f\">>> Job ID: {job.job_id()}\")\n",
        "print(f\">>> Job Status: {job.status()}\")\n",
        "\n",
        "result = job.result()\n",
        "print(f\">>> {result}\")\n",
        "print(f\"  > Quasi-probability distribution: {result.quasi_dists[0]}\")\n",
        "print(f\"  > Metadata: {result.metadata[0]}\")\n",
        "\n",
        "counts = dict(result.quasi_dists[0])\n",
        "plot_histogram(counts, sort='asc')"
      ],
      "metadata": {
        "id": "YiLMdHwBmquh",
        "outputId": "e703da65-a282-411f-af47-8402487064d7",
        "colab": {
          "base_uri": "https://localhost:8080/",
          "height": 0
        }
      },
      "execution_count": 8,
      "outputs": [
        {
          "output_type": "stream",
          "name": "stdout",
          "text": [
            ">>> Job ID: cle2j43k8l5ohou8bq5g\n",
            ">>> Job Status: JobStatus.RUNNING\n",
            ">>> SamplerResult(quasi_dists=[{2: 0.01887, 0: 0.0049, 7: 0.31415, 3: 0.17654, 5: 0.23777, 1: 0.12353, 6: 0.07987, 4: 0.04437}], metadata=[{'shots': 100000, 'circuit_metadata': {}}])\n",
            "  > Quasi-probability distribution: {2: 0.01887, 0: 0.0049, 7: 0.31415, 3: 0.17654, 5: 0.23777, 1: 0.12353, 6: 0.07987, 4: 0.04437}\n",
            "  > Metadata: {'shots': 100000, 'circuit_metadata': {}}\n"
          ]
        },
        {
          "output_type": "execute_result",
          "data": {
            "text/plain": [
              "<Figure size 700x500 with 1 Axes>"
            ],
            "image/png": "[encoded data removed]"
          },
          "metadata": {},
          "execution_count": 8
        }
      ]
    },
    {
      "cell_type": "code",
      "source": [
        "Encoded_List = []\n",
        "for i in range(8):\n",
        "  Encoded_List.append(np.linalg.norm(vector1)*np.sqrt(counts[i]))\n",
        "\n",
        "# Probabiltiy Bar Plot\n",
        "print(Encoded_List)\n",
        "\n",
        "bar = plt.bar([0,1,2,3,4,5,6,7], Encoded_List, 0.5)\n",
        "plt.xticks([0,1,2,3,4,5,6,7])\n",
        "for rect in bar:\n",
        "    height = rect.get_height()\n",
        "    plt.text(rect.get_x() + rect.get_width()/2.0, height, '%.2f' % height, ha='center', va='bottom', size = 12)\n",
        "plt.show()"
      ],
      "metadata": {
        "id": "gVfmQfgamrDN",
        "outputId": "d4561d13-e269-4e53-cde5-edaf76d782bf",
        "colab": {
          "base_uri": "https://localhost:8080/",
          "height": 0
        }
      },
      "execution_count": 9,
      "outputs": [
        {
          "output_type": "stream",
          "name": "stdout",
          "text": [
            "[0.999799979995999, 5.019972111476318, 1.9620091742904773, 6.001179883989482, 3.0085677655655356, 6.964558851786666, 4.036518301705072, 8.005410670290438]\n"
          ]
        },
        {
          "output_type": "display_data",
          "data": {
            "text/plain": [
              "<Figure size 640x480 with 1 Axes>"
            ],
            "image/png": "[encoded data removed]"
          },
          "metadata": {}
        }
      ]
    },
    {
      "cell_type": "markdown",
      "source": [
        "#3. Enhanced Encoding Method"
      ],
      "metadata": {
        "id": "zbMW2zQe2wRm"
      }
    },
    {
      "cell_type": "markdown",
      "source": [
        "1) Task 1 VS Task 2\n",
        "\n",
        "Task 1\n",
        "\n",
        "Pros  : Only 8 single rotating gates. Low cost in gate number.\n",
        "\n",
        "Cons  : One-Hot encoding. 8 qubits are used. High cost in qubit number.\n",
        "\n",
        "Task2\n",
        "\n",
        "Pros  : Binary encoding. Only 3 qubits used for encoding. Low cost in qubit number.\n",
        "\n",
        "Cons  : too much gates to construct accurate unitary matrix whose probability of each state is equal to normalized vector's entry."
      ],
      "metadata": {
        "id": "gGFjECNl3Cwa"
      }
    },
    {
      "cell_type": "markdown",
      "source": [
        "2) Enhanced Encoding Method"
      ],
      "metadata": {
        "id": "LGkHoEIT3tfg"
      }
    },
    {
      "cell_type": "markdown",
      "source": [
        "Constructing Enhanced Encoding"
      ],
      "metadata": {
        "id": "Fy9_uqHQRGXM"
      }
    },
    {
      "cell_type": "code",
      "source": [
        "# Initial Setting\n",
        "order = [0,1,2,3,4,5,6,7]\n",
        "vector = [1,5,2,6,3,7,4,8]\n",
        "norm = np.linalg.norm(vector)\n",
        "\n",
        "# Circuit Setting\n",
        "Position_Qubits = QuantumRegister(3, 'p')\n",
        "Probability_Qubit = QuantumRegister(1, 's')\n",
        "Four_Qubits_Encoding = QuantumCircuit(Position_Qubits, Probability_Qubit)\n",
        "\n",
        "s = Probability_Qubit\n",
        "p0, p1, p2 = Position_Qubits\n",
        "\n",
        "# Initial State\n",
        "\n",
        "# Probability Qubit Rotating\n",
        "\n",
        "Rotate = QuantumCircuit(1)\n",
        "Rotate.rx(2*np.arcsin(np.sqrt(vector[0]/norm)), 0)\n",
        "Ugate = Rotate.to_gate().control(3)\n",
        "\n",
        "Four_Qubits_Encoding.x(p0)\n",
        "Four_Qubits_Encoding.x(p1)\n",
        "Four_Qubits_Encoding.x(p2)\n",
        "Four_Qubits_Encoding.append(Ugate, [p0, p1, p2, s])\n",
        "Four_Qubits_Encoding.x(p0)\n",
        "Four_Qubits_Encoding.x(p1)\n",
        "Four_Qubits_Encoding.x(p2)\n",
        "\n",
        "\n",
        "Rotate = QuantumCircuit(1)\n",
        "Rotate.rx(2*np.arcsin(np.sqrt(vector[1]/norm)), 0)\n",
        "Ugate = Rotate.to_gate().control(3)\n",
        "\n",
        "Four_Qubits_Encoding.x(p0)\n",
        "Four_Qubits_Encoding.x(p1)\n",
        "#Four_Qubits_Encoding.x(p2)\n",
        "Four_Qubits_Encoding.append(Ugate, [p0, p1, p2, s])\n",
        "Four_Qubits_Encoding.x(p0)\n",
        "Four_Qubits_Encoding.x(p1)\n",
        "#Four_Qubits_Encoding.x(p2)\n",
        "\n",
        "\n",
        "Rotate = QuantumCircuit(1)\n",
        "Rotate.rx(2*np.arcsin(np.sqrt(vector[2]/norm)), 0)\n",
        "Ugate = Rotate.to_gate().control(3)\n",
        "\n",
        "Four_Qubits_Encoding.x(p0)\n",
        "#Four_Qubits_Encoding.x(p1)\n",
        "Four_Qubits_Encoding.x(p2)\n",
        "Four_Qubits_Encoding.append(Ugate, [p0, p1, p2, s])\n",
        "Four_Qubits_Encoding.x(p0)\n",
        "#Four_Qubits_Encoding.x(p1)\n",
        "Four_Qubits_Encoding.x(p2)\n",
        "\n",
        "\n",
        "Rotate = QuantumCircuit(1)\n",
        "Rotate.rx(2*np.arcsin(np.sqrt(vector[3]/norm)), 0)\n",
        "Ugate = Rotate.to_gate().control(3)\n",
        "\n",
        "Four_Qubits_Encoding.x(p0)\n",
        "#Four_Qubits_Encoding.x(p1)\n",
        "#Four_Qubits_Encoding.x(p2)\n",
        "Four_Qubits_Encoding.append(Ugate, [p0, p1, p2, s])\n",
        "Four_Qubits_Encoding.x(p0)\n",
        "#Four_Qubits_Encoding.x(p1)\n",
        "#Four_Qubits_Encoding.x(p2)\n",
        "\n",
        "\n",
        "Rotate = QuantumCircuit(1)\n",
        "Rotate.rx(2*np.arcsin(np.sqrt(vector[4]/norm)), 0)\n",
        "Ugate = Rotate.to_gate().control(3)\n",
        "\n",
        "#Four_Qubits_Encoding.x(p0)\n",
        "Four_Qubits_Encoding.x(p1)\n",
        "Four_Qubits_Encoding.x(p2)\n",
        "Four_Qubits_Encoding.append(Ugate, [p0, p1, p2, s])\n",
        "#Four_Qubits_Encoding.x(p0)\n",
        "Four_Qubits_Encoding.x(p1)\n",
        "Four_Qubits_Encoding.x(p2)\n",
        "\n",
        "\n",
        "Rotate = QuantumCircuit(1)\n",
        "Rotate.rx(2*np.arcsin(np.sqrt(vector[5]/norm)), 0)\n",
        "Ugate = Rotate.to_gate().control(3)\n",
        "\n",
        "#Four_Qubits_Encoding.x(p0)\n",
        "Four_Qubits_Encoding.x(p1)\n",
        "#Four_Qubits_Encoding.x(p2)\n",
        "Four_Qubits_Encoding.append(Ugate, [p0, p1, p2, s])\n",
        "#Four_Qubits_Encoding.x(p0)\n",
        "Four_Qubits_Encoding.x(p1)\n",
        "#Four_Qubits_Encoding.x(p2)\n",
        "\n",
        "\n",
        "Rotate = QuantumCircuit(1)\n",
        "Rotate.rx(2*np.arcsin(np.sqrt(vector[6]/norm)), 0)\n",
        "Ugate = Rotate.to_gate().control(3)\n",
        "\n",
        "#Four_Qubits_Encoding.x(p0)\n",
        "#Four_Qubits_Encoding.x(p1)\n",
        "Four_Qubits_Encoding.x(p2)\n",
        "Four_Qubits_Encoding.append(Ugate, [p0, p1, p2, s])\n",
        "#Four_Qubits_Encoding.x(p0)\n",
        "#Four_Qubits_Encoding.x(p1)\n",
        "Four_Qubits_Encoding.x(p2)\n",
        "\n",
        "\n",
        "Rotate = QuantumCircuit(1)\n",
        "Rotate.rx(2*np.arcsin(np.sqrt(vector[7]/norm)), 0)\n",
        "Ugate = Rotate.to_gate().control(3)\n",
        "\n",
        "#Four_Qubits_Encoding.x(p0)\n",
        "#Four_Qubits_Encoding.x(p1)\n",
        "#Four_Qubits_Encoding.x(p2)\n",
        "Four_Qubits_Encoding.append(Ugate, [p0, p1, p2, s])\n",
        "#Four_Qubits_Encoding.x(p0)\n",
        "#Four_Qubits_Encoding.x(p1)\n",
        "#Four_Qubits_Encoding.x(p2)\n",
        "\n",
        "# Circuit Drawing\n",
        "Four_Qubits_Encoding.draw(\"mpl\")"
      ],
      "metadata": {
        "id": "sXnnrfOK2117",
        "outputId": "d98aecd1-a579-44da-d8c6-db47fd4640a1",
        "colab": {
          "base_uri": "https://localhost:8080/",
          "height": 495
        }
      },
      "execution_count": 10,
      "outputs": [
        {
          "output_type": "execute_result",
          "data": {
            "text/plain": [
              "<Figure size 2210.75x785.944 with 1 Axes>"
            ],
            "image/png": "[encoded data removed]"
          },
          "metadata": {},
          "execution_count": 10
        }
      ]
    },
    {
      "cell_type": "markdown",
      "source": [
        "From State 000 ~ 111, Verifying Encoding : Probability X Norm is equal to each vector entry [1, 5, 2, 6, 3, 7, 4, 8]"
      ],
      "metadata": {
        "id": "WlYQ6JrCRMVT"
      }
    },
    {
      "cell_type": "code",
      "source": [
        "Decoded_Vector = []\n",
        "Encoding = Four_Qubits_Encoding.to_gate()"
      ],
      "metadata": {
        "id": "G0dvdJbZL64f"
      },
      "execution_count": 11,
      "outputs": []
    },
    {
      "cell_type": "code",
      "source": [
        "# Circuit Setting\n",
        "Position_Qubits = QuantumRegister(3, 'p')\n",
        "Probability_Qubit = QuantumRegister(1, 's')\n",
        "Classical_Qubit = ClassicalRegister(4, 'c')\n",
        "Four_Qubits_Measuring = QuantumCircuit(Position_Qubits, Probability_Qubit, Classical_Qubit)\n",
        "\n",
        "\n",
        "# Produce Superposition State\n",
        "Four_Qubits_Measuring.h(p0)\n",
        "Four_Qubits_Measuring.h(p1)\n",
        "Four_Qubits_Measuring.h(p2)\n",
        "Four_Qubits_Measuring.append(Encoding, [0,1,2,3])\n",
        "Four_Qubits_Measuring.measure([0,1,2,3], [3,2,1,0])\n",
        "\n",
        "Four_Qubits_Measuring.draw(\"mpl\")"
      ],
      "metadata": {
        "id": "ipSOKr3VL0bI",
        "outputId": "ee0a516b-7f15-4e76-98fb-070dba2cada7",
        "colab": {
          "base_uri": "https://localhost:8080/",
          "height": 384
        }
      },
      "execution_count": 12,
      "outputs": [
        {
          "output_type": "execute_result",
          "data": {
            "text/plain": [
              "<Figure size 705.754x451.5 with 1 Axes>"
            ],
            "image/png": "[encoded data removed]"
          },
          "metadata": {},
          "execution_count": 12
        }
      ]
    },
    {
      "cell_type": "code",
      "source": [
        "job = sampler.run(Four_Qubits_Measuring, shots=100000)\n",
        "print(f\">>> Job ID: {job.job_id()}\")\n",
        "print(f\">>> Job Status: {job.status()}\")\n",
        "\n",
        "result = job.result()\n",
        "print(f\">>> {result}\")\n",
        "print(f\"  > Quasi-probability distribution: {result.quasi_dists[0]}\")\n",
        "print(f\"  > Metadata: {result.metadata[0]}\")\n",
        "\n",
        "cnts = dict(result.quasi_dists[0])\n",
        "plot_histogram(cnts, sort='asc')"
      ],
      "metadata": {
        "id": "wB3dpR3SZk7-",
        "outputId": "a207ff8f-deeb-4bd9-df63-5729f57a2370",
        "colab": {
          "base_uri": "https://localhost:8080/",
          "height": 570
        }
      },
      "execution_count": 13,
      "outputs": [
        {
          "output_type": "stream",
          "name": "stdout",
          "text": [
            ">>> Job ID: cle2j4tlqrutvh1dap60\n",
            ">>> Job Status: JobStatus.RUNNING\n",
            ">>> SamplerResult(quasi_dists=[{9: 0.0259, 14: 0.0565, 1: 0.00883, 13: 0.03421, 8: 0.09953, 0: 0.11703, 3: 0.04436, 7: 0.05232, 15: 0.06952, 10: 0.06388, 5: 0.01692, 12: 0.09003, 11: 0.06102, 2: 0.07947, 4: 0.10777, 6: 0.07271}], metadata=[{'shots': 100000, 'circuit_metadata': {}}])\n",
            "  > Quasi-probability distribution: {9: 0.0259, 14: 0.0565, 1: 0.00883, 13: 0.03421, 8: 0.09953, 0: 0.11703, 3: 0.04436, 7: 0.05232, 15: 0.06952, 10: 0.06388, 5: 0.01692, 12: 0.09003, 11: 0.06102, 2: 0.07947, 4: 0.10777, 6: 0.07271}\n",
            "  > Metadata: {'shots': 100000, 'circuit_metadata': {}}\n"
          ]
        },
        {
          "output_type": "execute_result",
          "data": {
            "text/plain": [
              "<Figure size 700x500 with 1 Axes>"
            ],
            "image/png": "[encoded data removed]"
          },
          "metadata": {},
          "execution_count": 13
        }
      ]
    },
    {
      "cell_type": "code",
      "source": [
        "for i in range(8):\n",
        "  Decoded_Vector.append(8*norm*cnts[2*i+1])\n",
        "print(Decoded_Vector)\n",
        "\n",
        "bar = plt.bar([0,1,2,3,4,5,6,7], Decoded_Vector, 0.5)\n",
        "plt.xticks([0,1,2,3,4,5,6,7])\n",
        "for rect in bar:\n",
        "    height = rect.get_height()\n",
        "    plt.text(rect.get_x() + rect.get_width()/2.0, height, '%.2f' % height, ha='center', va='bottom', size = 12)\n",
        "plt.show()"
      ],
      "metadata": {
        "id": "1xxCx5ORaBlL",
        "outputId": "0f2e930a-e747-424e-81a2-395e2b1849a2",
        "colab": {
          "base_uri": "https://localhost:8080/",
          "height": 448
        }
      },
      "execution_count": 14,
      "outputs": [
        {
          "output_type": "stream",
          "name": "stdout",
          "text": [
            "[1.0089410083845338, 5.068700241442573, 1.9333275041751206, 5.9782325661017905, 2.9594079407881573, 6.972319403354955, 3.9089322646472144, 7.943553669636783]\n"
          ]
        },
        {
          "output_type": "display_data",
          "data": {
            "text/plain": [
              "<Figure size 640x480 with 1 Axes>"
            ],
            "image/png": "[encoded data removed]"
          },
          "metadata": {}
        }
      ]
    },
    {
      "cell_type": "markdown",
      "source": [
        "#4. Encoding 3 X 3 Image"
      ],
      "metadata": {
        "id": "p1t9mAXEdnsM"
      }
    },
    {
      "cell_type": "code",
      "source": [
        "# adding dummy pixels to make 4 X 4. Each row and columns 2 qubits.\n",
        "matrix = [[0, 0.5, 0, 0],\n",
        "          [0.8, 1, 0.8, 0],\n",
        "          [0, 0.5, 0, 0],\n",
        "          [0, 0, 0, 0]]\n",
        "\n",
        "# Circuit Setting\n",
        "Y_Qubits = QuantumRegister(2, 'y')\n",
        "X_Qubits = QuantumRegister(2, 'x')\n",
        "Probability_Qubit = QuantumRegister(1, 's')\n",
        "Classical_Register = ClassicalRegister(5, 'c')\n",
        "Five_Qubits_Encoding = QuantumCircuit(Y_Qubits, X_Qubits, Probability_Qubit, Classical_Register)\n",
        "\n",
        "s = Probability_Qubit\n",
        "y0, y1 = Y_Qubits\n",
        "x0, x1 = X_Qubits\n",
        "\n",
        "# Initial State\n",
        "Five_Qubits_Encoding.h(y0)\n",
        "Five_Qubits_Encoding.h(y1)\n",
        "Five_Qubits_Encoding.h(x0)\n",
        "Five_Qubits_Encoding.h(x1)\n",
        "\n",
        "# Probability Qubit Rotating\n",
        "for i in range(4):\n",
        "  for j in range(4):\n",
        "    Rotate = QuantumCircuit(1)\n",
        "    Rotate.rx(2*np.arcsin(np.sqrt(matrix[i][j])), 0)\n",
        "    Ugate = Rotate.to_gate().control(4)\n",
        "\n",
        "    if i==0:\n",
        "      Five_Qubits_Encoding.x(y0)\n",
        "      Five_Qubits_Encoding.x(y1)\n",
        "    elif i==1:\n",
        "      Five_Qubits_Encoding.x(y0)\n",
        "    elif i==2:\n",
        "      Five_Qubits_Encoding.x(y1)\n",
        "    else:\n",
        "      pass\n",
        "\n",
        "    if j==0:\n",
        "      Five_Qubits_Encoding.x(x0)\n",
        "      Five_Qubits_Encoding.x(x1)\n",
        "    elif j==1:\n",
        "      Five_Qubits_Encoding.x(x0)\n",
        "    elif j==2:\n",
        "      Five_Qubits_Encoding.x(x1)\n",
        "    else:\n",
        "      pass\n",
        "\n",
        "    Five_Qubits_Encoding.append(Ugate, [y0, y1, x0, x1, s])\n",
        "\n",
        "    if i==0:\n",
        "      Five_Qubits_Encoding.x(y0)\n",
        "      Five_Qubits_Encoding.x(y1)\n",
        "    elif i==1:\n",
        "      Five_Qubits_Encoding.x(y0)\n",
        "    elif i==2:\n",
        "      Five_Qubits_Encoding.x(y1)\n",
        "    else:\n",
        "      pass\n",
        "\n",
        "    if j==0:\n",
        "      Five_Qubits_Encoding.x(x0)\n",
        "      Five_Qubits_Encoding.x(x1)\n",
        "    elif j==1:\n",
        "      Five_Qubits_Encoding.x(x0)\n",
        "    elif j==2:\n",
        "      Five_Qubits_Encoding.x(x1)\n",
        "    else:\n",
        "      pass\n",
        "\n",
        "Five_Qubits_Encoding.measure([0,1,2,3,4], [4,3,2,1,0])\n",
        "\n",
        "# Circuit Drawing\n",
        "Five_Qubits_Encoding.draw(\"mpl\")"
      ],
      "metadata": {
        "id": "jrTo2YARdsbt",
        "outputId": "99ecf433-fe44-4e33-8f20-245d3ec67b43",
        "colab": {
          "base_uri": "https://localhost:8080/",
          "height": 0
        }
      },
      "execution_count": 15,
      "outputs": [
        {
          "output_type": "execute_result",
          "data": {
            "text/plain": [
              "<Figure size 2209.15x1705.67 with 1 Axes>"
            ],
            "image/png": "[encoded data removed]"
          },
          "metadata": {},
          "execution_count": 15
        }
      ]
    },
    {
      "cell_type": "code",
      "source": [
        "job = sampler.run(Five_Qubits_Encoding, shots=100000)\n",
        "print(f\">>> Job ID: {job.job_id()}\")\n",
        "print(f\">>> Job Status: {job.status()}\")\n",
        "\n",
        "result = job.result()\n",
        "print(f\">>> {result}\")\n",
        "print(f\"  > Quasi-probability distribution: {result.quasi_dists[0]}\")\n",
        "print(f\"  > Metadata: {result.metadata[0]}\")\n",
        "\n",
        "cnts = dict(result.quasi_dists[0])\n",
        "plot_histogram(cnts, sort='asc')"
      ],
      "metadata": {
        "id": "ZbU6AOQRi_v2",
        "outputId": "3a86664b-39ca-4043-f1df-d64a1eef329e",
        "colab": {
          "base_uri": "https://localhost:8080/",
          "height": 0
        }
      },
      "execution_count": 16,
      "outputs": [
        {
          "output_type": "stream",
          "name": "stdout",
          "text": [
            ">>> Job ID: cle2j65r12tet1qs9dc0\n",
            ">>> Job Status: JobStatus.RUNNING\n",
            ">>> SamplerResult(quasi_dists=[{8: 0.01251, 6: 0.06368, 19: 0.03197, 2: 0.03086, 13: 0.0501, 26: 0.06286, 11: 0.06201, 0: 0.06517, 16: 0.06162, 20: 0.06308, 28: 0.06231, 30: 0.06111, 3: 0.03069, 4: 0.06294, 22: 0.06204, 18: 0.03112, 14: 0.06185, 12: 0.01184, 24: 0.06256, 9: 0.04968}], metadata=[{'shots': 100000, 'circuit_metadata': {}}])\n",
            "  > Quasi-probability distribution: {8: 0.01251, 6: 0.06368, 19: 0.03197, 2: 0.03086, 13: 0.0501, 26: 0.06286, 11: 0.06201, 0: 0.06517, 16: 0.06162, 20: 0.06308, 28: 0.06231, 30: 0.06111, 3: 0.03069, 4: 0.06294, 22: 0.06204, 18: 0.03112, 14: 0.06185, 12: 0.01184, 24: 0.06256, 9: 0.04968}\n",
            "  > Metadata: {'shots': 100000, 'circuit_metadata': {}}\n"
          ]
        },
        {
          "output_type": "execute_result",
          "data": {
            "text/plain": [
              "<Figure size 700x500 with 1 Axes>"
            ],
            "image/png": "[encoded data removed]"
          },
          "metadata": {},
          "execution_count": 16
        }
      ]
    },
    {
      "cell_type": "code",
      "source": [
        "# Store Decoded Matrix except for dummy entry\n",
        "Decoded_Matrix = []\n",
        "for i in range(16):\n",
        "  if i%4==3:\n",
        "    pass\n",
        "  elif i>10:\n",
        "    pass\n",
        "  elif cnts.get(2*i+1)==None:\n",
        "    Decoded_Matrix.append(0)\n",
        "  else:\n",
        "    Decoded_Matrix.append(16*cnts.get(2*i+1))\n",
        "print(Decoded_Matrix)\n",
        "\n",
        "bar = plt.bar([0,1,2,3,4,5,6,7,8], Decoded_Matrix, 0.5)\n",
        "plt.xticks([0,1,2,3,4,5,6,7,8])\n",
        "for rect in bar:\n",
        "    height = rect.get_height()\n",
        "    plt.text(rect.get_x() + rect.get_width()/2.0, height, '%.2f' % height, ha='center', va='bottom', size = 12)\n",
        "plt.show()"
      ],
      "metadata": {
        "id": "xNL-qG7-jaSW",
        "outputId": "0009b580-e39e-466f-f32c-1ebcb2949bcc",
        "colab": {
          "base_uri": "https://localhost:8080/",
          "height": 0
        }
      },
      "execution_count": 17,
      "outputs": [
        {
          "output_type": "stream",
          "name": "stdout",
          "text": [
            "[0, 0.49104, 0, 0.79488, 0.99216, 0.8016, 0, 0.51152, 0]\n"
          ]
        },
        {
          "output_type": "display_data",
          "data": {
            "text/plain": [
              "<Figure size 640x480 with 1 Axes>"
            ],
            "image/png": "[encoded data removed]"
          },
          "metadata": {}
        }
      ]
    },
    {
      "cell_type": "markdown",
      "source": [
        "#Image Setting"
      ],
      "metadata": {
        "id": "2Z2Pvk2A06Bf"
      }
    },
    {
      "cell_type": "code",
      "source": [
        "from google.colab import drive\n",
        "drive.mount('/content/drive')\n",
        "images_test = np.load('images_test_100.npy')\n",
        "labels_test = np.load('labels_test_100.npy')"
      ],
      "metadata": {
        "id": "q74BmMVd081q",
        "outputId": "41d3c03e-7ebf-4f63-a61f-cd6e8803e7ce",
        "colab": {
          "base_uri": "https://localhost:8080/"
        }
      },
      "execution_count": 18,
      "outputs": [
        {
          "output_type": "stream",
          "name": "stdout",
          "text": [
            "Drive already mounted at /content/drive; to attempt to forcibly remount, call drive.mount(\"/content/drive\", force_remount=True).\n"
          ]
        }
      ]
    },
    {
      "cell_type": "code",
      "source": [
        "print(images_test[0])\n",
        "print(images_test[1])\n",
        "print(images_test[2])\n",
        "print(images_test[3])\n",
        "print(images_test[4])"
      ],
      "metadata": {
        "id": "7cQiz6lT5eWP",
        "outputId": "f6ca56a4-1ecd-48be-89f2-debfd5ad4105",
        "colab": {
          "base_uri": "https://localhost:8080/"
        }
      },
      "execution_count": 19,
      "outputs": [
        {
          "output_type": "stream",
          "name": "stdout",
          "text": [
            "[[  0   0   0   0   0   0   0   5  75   0   0   0   0   0   0   0   0   5\n",
            "    0  47  27   0   0   0   0   0   0   0]\n",
            " [  0   0   0   0   0   0   0   0  93   2   0   2   0   0   0   0   0   5\n",
            "    0  65  32   0   0   0   0   0   0   0]\n",
            " [  0   0   0   0   0   0   2   0  45  12   0   0   0   0   0   0   0   2\n",
            "    0  47   0   0   0   0   0   0   0   0]\n",
            " [  0   0   0   0   0   0   2   0  32 133   0   0   0   0   0   0   0   0\n",
            "   80 111   0   2   0   0   0   0   0   0]\n",
            " [  0   0   0   0   0   0   2   0   2 229 113  65  98  85  85  93  98  70\n",
            "  217 118   0   5   0   0   0   0   0   0]\n",
            " [  0   0   0   0   0   0   2   0  55 207 164  20  20  40  32  50  12  98\n",
            "  196 159   0   0   0   0   0   0   0   0]\n",
            " [  0   0   0   0   0   0   7   0 106 199 184 133   5   5   5   5  88 186\n",
            "  166 186   0   0   0   0   0   0   0   0]\n",
            " [  0   0   0   0   0   0   5   0 126 191 146 174 212 103  75 199 201 151\n",
            "  161 201   0   0   0   0   0   0   0   0]\n",
            " [  0   0   0   0   0   0   5   0 141 194 151 133 176 247 255 212 138 154\n",
            "  169 212   0   0   0   0   0   0   0   0]\n",
            " [  0   0   0   0   0   0   2   0 166 191 151 159 138 179 232 143 146 159\n",
            "  169 207   0   0   0   0   0   0   0   0]\n",
            " [  0   0   0   0   0   0   0   0 191 174 151 151 154 151 166 143 156 156\n",
            "  159 212  22   0   0   0   0   0   0   0]\n",
            " [  0   0   0   0   0   0   0   0 209 156 154 154 154 154 154 156 154 161\n",
            "  154 212  60   0   0   0   0   0   0   0]\n",
            " [  0   0   0   0   0   0   0  27 222 151 161 159 159 159 161 156 154 161\n",
            "  156 204 111   0   0   0   0   0   0   0]\n",
            " [  0   0   0   0   0   0   0  55 224 143 156 159 159 159 159 156 154 161\n",
            "  156 196 154   0   0   0   0   0   0   0]\n",
            " [  0   0   0   0   0   0   0  73 212 143 156 159 159 159 159 156 154 159\n",
            "  159 184 176   0   0   0   0   0   0   0]\n",
            " [  0   0   0   0   0   0   0  90 209 141 156 156 156 156 161 159 154 156\n",
            "  156 171 176   0   0   0   0   0   0   0]\n",
            " [  0   0   0   0   0   0   0 121 207 138 156 156 156 156 161 159 154 159\n",
            "  161 166 186   0   0   0   0   0   0   0]\n",
            " [  0   0   0   0   0   0   0 133 186 138 159 156 156 156 161 159 154 159\n",
            "  161 161 194   5   0   0   0   0   0   0]\n",
            " [  0   0   0   0   0   0   0 148 184 146 159 159 156 156 161 164 156 156\n",
            "  159 151 196  22   0   0   0   0   0   0]\n",
            " [  0   0   0   0   0   0   0 154 179 143 159 159 156 156 161 164 156 156\n",
            "  159 148 191  50   0   0   0   0   0   0]\n",
            " [  0   0   0   0   0   0   0 161 174 143 159 159 156 154 159 161 156 156\n",
            "  159 148 184  68   0   0   0   0   0   0]\n",
            " [  0   0   0   0   0   0   0 166 171 146 159 159 159 156 164 166 151 151\n",
            "  161 151 181  75   0   0   0   0   0   0]\n",
            " [  0   0   0   0   0   0   0 174 164 146 159 159 159 159 164 166 151 151\n",
            "  161 148 179  90   0   0   0   0   0   0]\n",
            " [  0   0   0   0   0   0   2 189 151 148 161 159 159 156 164 164 148 151\n",
            "  161 151 171 111   0   0   0   0   0   0]\n",
            " [  0   0   0   0   0   0  10 186 154 146 156 159 156 159 161 164 151 151\n",
            "  161 154 171 116   0   0   0   0   0   0]\n",
            " [  0   0   0   0   0   0  32 181 151 156 169 164 154 169 174 171 161 159\n",
            "  161 151 156 108   0   0   0   0   0   0]\n",
            " [  0   0   0   0   0   0  60 222 171 164 186 181 196 194 181 189 176 164\n",
            "  169 174 201 143   0   0   0   0   0   0]\n",
            " [  0   0   0   0   0   0  12  93   5   0   0   5   5   0   0   0   0   0\n",
            "    2   2  42  47   0   0   0   0   0   0]]\n",
            "[[  0   0   0   0   0   0   0   0   0   0   0   0   0   0   0   0   0   0\n",
            "    0   0   0   0   0   0   0   0   0   0]\n",
            " [  0   0   0   0   0   0   0   0   0   0   0   0   0   0   0   0   0   0\n",
            "    0   0   0   0   0   0   0   0   0   0]\n",
            " [  0   0   0   0   0   0   0   0   0   0   0   0   0   0   0   0   0   0\n",
            "    0   0   0   0   0   0   0   0   0   0]\n",
            " [  0   0   0   0   0   0   0   0   0   0   0   0   0   0   0   0   0   0\n",
            "    0   0   0   0   0   0   0   0   0   0]\n",
            " [  0   0   0   0   0   0   0   0   0   0   0   0   0   0   0   0   0   0\n",
            "    0   0   0   0   0   0   0   0   0   0]\n",
            " [  0   0   0   0   0   0   0   0   0   0   0   0   0   0   0   0   0   0\n",
            "    0   0   0   0   0   0   0   0   0   0]\n",
            " [  0   0   0   0   0   0   0   0   0   0   0   0   0   0   0   0   0   0\n",
            "    0   0   0   0   0   0   0   0   0   0]\n",
            " [  0   0   0   0   0   0   0   0   0   0   0   0   0   0   0   0   0   0\n",
            "    0   0   0   0   0   0   0   0   0   0]\n",
            " [  0   0   0   0   0   0   0   0   0   0   0   0   0   0   0   0   4  54\n",
            "   30  20  27  21   0   0   0   0   0   0]\n",
            " [  0   0   0   0   0   0   0   0   0   0   0   1   1   2   8   0  58 134\n",
            "  138 171 173 168 162  44   0  76  57   0]\n",
            " [  0   0   0   0   0   0   0   0   3   2   0   0   0   0   0   0  34  88\n",
            "  111 165 137 134 146 150 123 126  25   0]\n",
            " [  0   0   0   1   3   3   4   0   0   0   0   0   1   0  93 118  59  88\n",
            "   68  82  38  55  87  89 106  61   0   0]\n",
            " [  1   0   0   1   0   0   0   0  53  24  12  91 119  73 134 127   0  21\n",
            "  131 180  97 171  82  24   3  11   0   1]\n",
            " [  1   0   3   0  52 147 135 135 178 133 129  58  74 131  92 131 120 255\n",
            "  200 193 143 174  86  97   3  42   0   0]\n",
            " [  0   0   5   0  65 232 124  91  96 133  83  82 106 117 119 135 183 177\n",
            "  130 171 145 167  74 176 155   0   2   0]\n",
            " [  3   3   3   0   0 157  63 129 148  98 166 127 156 137 154 142 135 185\n",
            "  117 155 183 205   1  21  59   0   4   0]\n",
            " [  0   0   0  10  43  76 146 140 174   4  53  82 102 135 166 102   0 202\n",
            "  177 214 173 186   0   0   0   0   0   0]\n",
            " [ 72  49   3  46 197 140 155 155 100   0   0   0 101 153 184 147   0 134\n",
            "  210 215 193 201  42   1   3   0   0   0]\n",
            " [ 46 111 119 117 159 180 197 167 114 110 117 137 211 162 147 164 145 142\n",
            "  140 163 186 173 176 178 189 147 191  59]\n",
            " [  0   0   5  23  22  38  59  71  63  68  50  35   7   0   0   0   0   0\n",
            "    0   5 126  97 101 111 116 110  86  11]\n",
            " [  0   0   0   0   0   0   0   0   0   0   0   0   0   0   0   0   0   0\n",
            "    0   0   0   0   0   0   0   0   0   0]\n",
            " [  0   0   0   0   0   0   0   0   0   0   0   0   0   0   0   0   0   0\n",
            "    0   0   0   0   0   0   0   0   0   0]\n",
            " [  0   0   0   0   0   0   0   0   0   0   0   0   0   0   0   0   0   0\n",
            "    0   0   0   0   0   0   0   0   0   0]\n",
            " [  0   0   0   0   0   0   0   0   0   0   0   0   0   0   0   0   0   0\n",
            "    0   0   0   0   0   0   0   0   0   0]\n",
            " [  0   0   0   0   0   0   0   0   0   0   0   0   0   0   0   0   0   0\n",
            "    0   0   0   0   0   0   0   0   0   0]\n",
            " [  0   0   0   0   0   0   0   0   0   0   0   0   0   0   0   0   0   0\n",
            "    0   0   0   0   0   0   0   0   0   0]\n",
            " [  0   0   0   0   0   0   0   0   0   0   0   0   0   0   0   0   0   0\n",
            "    0   0   0   0   0   0   0   0   0   0]\n",
            " [  0   0   0   0   0   0   0   0   0   0   0   0   0   0   0   0   0   0\n",
            "    0   0   0   0   0   0   0   0   0   0]]\n",
            "[[  0   0   0   0   0   0   0   0  40  93  61  19  13   5  12  25  61 154\n",
            "  122  52   1   0   0   0   0   0   0   0]\n",
            " [  0   0   0   0   0   8  82 122 133 131 139 146 131 129 129 138 164 155\n",
            "  113 148 155 109  22   0   0   0   0   0]\n",
            " [  0   0   0   0  13 126 110 105 104 109 109 124 126 146 136 145 149 100\n",
            "  106 102 105 116 136  16   0   0   0   0]\n",
            " [  0   0   0   0 106 105  99 102 105 105 106 107 112 128 128 109  92  98\n",
            "   99  98 101  96  99 106   0   0   0   0]\n",
            " [  0   0   0  58 102 104  96  99  99 105  92  81  77  80  80  78  91  96\n",
            "  102  92  88 101  97 112  25   0   0   0]\n",
            " [  0   0   0  32 120 101 110  93  93  83  94 123 129 155 123  80  86  80\n",
            "   88  92  81  91  98 102  94   0   0   0]\n",
            " [  0   0   0   0  19 117 126  92  78 115 157 179 133 134  81 132 208  83\n",
            "   81  85  81  97 114 109   0   0   0   0]\n",
            " [  0   0   0   0   0   0 149 123  74 164 147  80  60 114 121  56 130 162\n",
            "   91  75  84 149  99   0   0   0   0   0]\n",
            " [  0   0   0   0   0   0   9 101 129 154  52  67  84  77 246  88  43 138\n",
            "  116  73  93  64   0   0   0   0   0   0]\n",
            " [  0   0   0   0   0   0   0  57 152 121 124  93  51  35 149 255  60 104\n",
            "  166  77  73   0   0   0   0   0   0   0]\n",
            " [  0   0   0   0   0   0   0  56 137  76 129 205 188  25 108 213  42  85\n",
            "  171  90  74   0   0   1   0   0   0   0]\n",
            " [  0   0   0   0   0   1   0  43 106  83  68  51 168 181 212 186  46  80\n",
            "   48  89  69   0   0   1   0   0   0   0]\n",
            " [  0   0   0   0   0   1   0  32 121  92  94  86  25 160 232  48  68  86\n",
            "   74  96  68   0   0   0   0   0   0   0]\n",
            " [  0   0   0   0   0   1   0  22 116  90  90  94  42 178 138  53  77  88\n",
            "   75  92  67   0   0   0   0   0   0   0]\n",
            " [  0   0   0   0   0   1   0  14 117  88  88  90  52 218  91  68  86  80\n",
            "   75  85  68   0   0   0   0   0   0   0]\n",
            " [  0   0   0   0   0   1   0  13 117  83  86  96  57 210 102  64  83  86\n",
            "   82  83  73   0   0   0   0   0   0   0]\n",
            " [  0   0   0   0   0   0   0  17 115  78  84  84  58 115 132  65  73  61\n",
            "   80  83  67   0   0   0   0   0   0   0]\n",
            " [  0   0   0   0   0   0   0  16 126 120 141 160 156 152 156 165 152 155\n",
            "   72  84  68   0   0   0   0   0   0   0]\n",
            " [  0   0   0   0   0   0   0  18 118 126 129 136 108 123 138 118 144 160\n",
            "   70  85  69   0   0   0   0   0   0   0]\n",
            " [  0   0   0   0   0   0   0  18 117  74  76  77  83  72  69  78  66  78\n",
            "   86  88  69   0   0   0   0   0   0   0]\n",
            " [  0   0   0   0   0   1   0  19 121  91  99  99  97  92  91  91  90  88\n",
            "   88  82  72   0   0   0   0   0   0   0]\n",
            " [  0   0   0   0   0   1   0  18 121  90  97  96  92  88  84  90  91  90\n",
            "   90  90  73   0   0   0   0   0   0   0]\n",
            " [  0   0   0   0   0   1   0  18 121  90  97  99  99  92  93  98  91  97\n",
            "   93  91  82   0   0   1   0   0   0   0]\n",
            " [  0   0   0   0   0   0   0  17 125  91  97 102  98  91  90  96  91  99\n",
            "   94  83  91   0   0   1   0   0   0   0]\n",
            " [  0   0   0   0   0   0   0  16 126  93  99 106  97  93  91  91  97 100\n",
            "  100  93 102   3   0   1   0   0   0   0]\n",
            " [  0   0   0   0   0   0   0  12 122  98 100 109  98  91  96  90  99  98\n",
            "  100  92  99   5   0   1   0   0   0   0]\n",
            " [  0   0   0   0   0   1   0  14 148 106 120 125 105  99 107 101 106 113\n",
            "  117 112 115   9   0   1   0   0   0   0]\n",
            " [  0   0   0   0   0   0   0   0  61  67  75  90  88  86  83  80  81  72\n",
            "   72  76  46   0   0   0   0   0   0   0]]\n",
            "[[  0   0   0   0   0   0   0   0   0  14 115  25   0   0   0   0   0  54\n",
            "  118   0   0   0   0   0   0   0   0   0]\n",
            " [  0   0   0   0   0   0   0  26 168 126 150 183 145 137 132 137 154 187\n",
            "  144 131 163   0   0   0   0   0   0   0]\n",
            " [  0   0   0   0   0   0   0  10 131 118 108 128 166 182 196 187 156 113\n",
            "  106 122 117   0   0   0   0   0   0   0]\n",
            " [  0   0   0   0   0   0   0   0 130 117 113 105  98 121 121  99  91 107\n",
            "  111 125  80   0   0   0   0   0   0   0]\n",
            " [  0   0   0   0   0   0   0   0 101 118 109 112 115 111 109 114 112 113\n",
            "  102 118  69   0   0   0   0   0   0   0]\n",
            " [  0   0   0   0   0   0   0   0  99 120 105 111 111 110 111 108 108 110\n",
            "  100 115 104   0   0   0   0   0   0   0]\n",
            " [  0   0   0   0   0   0   0   0 111 117 107 104 104 105 104 103 102 105\n",
            "   97 116 135   0   0   0   0   0   0   0]\n",
            " [  0   0   0   0   0   0   0   0 145 117 107 105 104 104 103 103 103 103\n",
            "   93 113 122   0   0   0   0   0   0   0]\n",
            " [  0   0   0   0   0   0   0   0  61 129 120 111 110 109 109 110 111 115\n",
            "  109 113  13   0   0   0   0   0   0   0]\n",
            " [  0   0   0   0   0   0   0   0  45 140 121 108 110 109 110 109 108 112\n",
            "  113 130  19   0   0   0   0   0   0   0]\n",
            " [  0   0   0   0   0   0   0   0  41 143 118 111 110 111 111 111 110 105\n",
            "  113 130   4   0   0   0   0   0   0   0]\n",
            " [  0   0   0   0   0   0   0   0  23 140 119 113 108 114 112 111 110 109\n",
            "  112 134   0   0   0   0   0   0   0   0]\n",
            " [  0   0   0   0   0   0   0   0  13 138 119 115 110 113 113 113 114 114\n",
            "  111 114   6   0   0   0   0   0   0   0]\n",
            " [  0   0   0   0   0   0   0   0  28 138 120 114 112 115 114 114 115 112\n",
            "  112 117  18   0   0   0   0   0   0   0]\n",
            " [  0   0   0   0   0   0   0   0  51 139 121 112 113 117 114 115 116 111\n",
            "  114 120  33   0   0   0   0   0   0   0]\n",
            " [  0   0   0   0   0   0   0   0  85 134 120 115 113 119 116 114 117 114\n",
            "  114 120  53   0   0   0   0   0   0   0]\n",
            " [  0   0   0   0   0   0   0   0 104 130 121 117 116 120 117 115 117 117\n",
            "  115 120  79   0   0   0   0   0   0   0]\n",
            " [  0   0   0   0   0   0   0   0  99 128 122 121 121 121 118 120 118 119\n",
            "  117 120  97   0   0   0   0   0   0   0]\n",
            " [  0   0   0   0   0   0   0   0 129 128 122 123 123 122 118 121 119 121\n",
            "  119 118 122   0   0   0   0   0   0   0]\n",
            " [  0   0   0   0   0   0   0   3 141 125 124 124 123 124 119 120 120 122\n",
            "  121 120 133   9   0   0   0   0   0   0]\n",
            " [  0   0   0   0   0   0   0  23 145 123 126 124 124 124 119 121 120 122\n",
            "  122 123 135  39   0   0   0   0   0   0]\n",
            " [  0   0   0   0   0   0   0  48 147 126 129 124 124 125 121 122 121 124\n",
            "  123 126 136  57   0   0   0   0   0   0]\n",
            " [  0   0   0   0   0   0   0  67 143 125 130 125 123 123 123 120 119 126\n",
            "  123 123 139  65   0   0   0   0   0   0]\n",
            " [  0   0   0   0   0   0   0  81 144 129 134 130 130 129 129 125 125 132\n",
            "  129 123 144  78   0   0   0   0   0   0]\n",
            " [  0   0   0   0   0   0   0  56 129 114 117 107 104 103 104 102 102 111\n",
            "  104  98 113  76   0   0   0   0   0   0]\n",
            " [  0   0   0   0   0   0   0  89 154 143 156 154 161 170 172 163 160 169\n",
            "  162 149 169  96   0   0   0   0   0   0]\n",
            " [  0   0   0   0   0   0   0 207 226 182 194 197 202 220 215 190 194 211\n",
            "  214 195 255 155   0   0   0   0   0   0]\n",
            " [  0   0   0   0   0   0   0  83 136 106  80  69  69  70  57  53  75  90\n",
            "  115  82 140  57   0   0   0   0   0   0]]\n",
            "[[  0   0   0   0   0   0   0   0   0  11 159 143  76  59  47  54 133 147\n",
            "   36   0   0   0   0   1   0   0   0   0]\n",
            " [  0   0   0   0   0   0  50 134 211 195 211 220 234 252 250 253 240 224\n",
            "  231 183 130  83   0   0   0   0   0   0]\n",
            " [  0   0   0   0   0 198 234 216 182 147 156 198 173 190 205 212 218 193\n",
            "  153 100 196 167 197  21   0   0   0   0]\n",
            " [  0   0   0   0 187 201 198 184 146 238 236 214 221 221 211 211 206 216\n",
            "  220 221 245 193 196 210   0   0   0   0]\n",
            " [  0   0   0  28 218 143 210 118 150 235 214 212 193 197 197 200 202 207\n",
            "  203 156 151 217 199 207  38   0   0   0]\n",
            " [  0   0   0  80 230 158 185 188 126 236 216 220 202 161 198 202 206 216\n",
            "  218 217  92 177 212 182  60   0   0   0]\n",
            " [  0   0   0  57 201 212 224 255 106 208 214 208 221 216 143 194 249 206\n",
            "  223 255 172 164 215 208 203   0   0   0]\n",
            " [  0   0   0 154 127  88 230 221  88 132 200 139 132 146 163 214 203  50\n",
            "  166 244 129 156 227 213 214   7   0   0]\n",
            " [  0   0  56 187 149 128 205 157 113 170 253 186  68  90  62 140  68  65\n",
            "  103  55 100 225 208 187 194  19   0   0]\n",
            " [  0   0  68 183 201 189 241 139 175 255 191 135 128 244 177  84 157 164\n",
            "  122 106 212 240 133  79 146  86   0   0]\n",
            " [  0   0  69 176 232 237 199 175 207 207  69   0 190 226 208 229 188 125\n",
            "  195 228 146 170 166 146  93  12   0   0]\n",
            " [  0   0   0   0  68 165  38 190 220 153  44   0  71 219 195 221 139  90\n",
            "  244 219  63   0  48   0   0   0   0   0]\n",
            " [  0   0   0   0   0   0   0 163 216 164  83  57 115 235 208 248 142  54\n",
            "  118 239  58   0   0   0   1   1   0   0]\n",
            " [  0   0   0   3   2   3   0 130 193 149 171 158 204 175 203 184 130  81\n",
            "  165 217  13   0   5   1   0   0   0   0]\n",
            " [  0   0   0   0   0   1   0  81 210 168 101 158 195 171 158  77  98 173\n",
            "  200 234   1   0   1   0   0   0   0   0]\n",
            " [  0   0   0   0   1   1   0  20 240 146 112 227 168 183 160 197 204 148\n",
            "  170 213   0   0   3   0   0   0   0   0]\n",
            " [  0   0   0   0   1   2   0   0 227 150 148 216 192 196 221 223 227 177\n",
            "  178 192   0   0   3   0   1   0   0   0]\n",
            " [  0   0   0   0   0   3   0  28 239 207 231 203 211 204 200 183 187 209\n",
            "  205 205  22   0   5   0   1   0   0   0]\n",
            " [  0   0   0   0   0   2   0  53 186 205 216 195 176 197 182 191 190 200\n",
            "  182 153  56   0   4   0   0   0   0   0]\n",
            " [  0   0   0   1   0   3   0 123 196 203 213 212 198 166 207 201 196 199\n",
            "  203 199  78   0   3   0   1   0   0   0]\n",
            " [  0   0   0   1   0   3   0 186 168 171 232 223 207 167 152 189 216 222\n",
            "  198 221 116   0   3   0   1   0   0   0]\n",
            " [  0   0   0   0   0   0   0 200 135 120 185 163 203 220 150 209 249 115\n",
            "  215 200  79   0   1   0   1   0   0   0]\n",
            " [  0   0   0   0   0   0   0 125 119 101 201 158  94 105 130 207 145  38\n",
            "  118 117  84   0   0   1   0   0   0   0]\n",
            " [  0   0   1   1   1   0   0 129 146 195 250 219  95 122  76 123  89 124\n",
            "  108  84 151   0   0   3   0   0   0   0]\n",
            " [  0   0   0   0   1   0   0 171 198 220 192  91 152 244 197 107 172 170\n",
            "  151 164 217   0   0   3   2   0   0   0]\n",
            " [  0   0   0   0   1   0   0 174 202 166 109   0 167 206 203 211 177 104\n",
            "  205 204 162   0   0   2   0   0   0   0]\n",
            " [  0   0   0   0   1   0   0 183 222 186  82  61 111 219 208 225 163 103\n",
            "  219 212 191   0   0   3   0   0   0   0]\n",
            " [  0   0   0   0   1   0   0  69 113  68  62  56  99 176 159 165  88  27\n",
            "   33  47  85   0   0   1   0   0   0   0]]\n"
          ]
        }
      ]
    },
    {
      "cell_type": "markdown",
      "source": [
        "#5. Encoding 28 X 28 Image"
      ],
      "metadata": {
        "id": "zI54u7kB5vvZ"
      }
    },
    {
      "cell_type": "markdown",
      "source": [
        "1) Adding Dummy Entries to make 32 X 32"
      ],
      "metadata": {
        "id": "CyAb2XjD6Sn2"
      }
    },
    {
      "cell_type": "code",
      "source": [
        "# adding dummy pixels to make 32 X 32. Each row and columns 5 qubits.\n",
        "test = images_test[0]\n",
        "max = np.max(test)\n",
        "matrix = []\n",
        "for i in range(28):\n",
        "  row = []\n",
        "  for j in range(28):\n",
        "    row.append(test[i][j]/max)\n",
        "  row.append(0)\n",
        "  row.append(0)\n",
        "  row.append(0)\n",
        "  row.append(0)\n",
        "  matrix.append(row)\n",
        "\n",
        "matrix.append([0,0,0,0,0,0,0,0,0,0,0,0,0,0,0,0,0,0,0,0,0,0,0,0,0,0,0,0,0,0,0,0])\n",
        "matrix.append([0,0,0,0,0,0,0,0,0,0,0,0,0,0,0,0,0,0,0,0,0,0,0,0,0,0,0,0,0,0,0,0])\n",
        "matrix.append([0,0,0,0,0,0,0,0,0,0,0,0,0,0,0,0,0,0,0,0,0,0,0,0,0,0,0,0,0,0,0,0])\n",
        "matrix.append([0,0,0,0,0,0,0,0,0,0,0,0,0,0,0,0,0,0,0,0,0,0,0,0,0,0,0,0,0,0,0,0])\n",
        "\n",
        "print(matrix)"
      ],
      "metadata": {
        "id": "P_hSceBS6CR9",
        "outputId": "e836fa57-65bc-4312-d021-74e3ce9926c8",
        "colab": {
          "base_uri": "https://localhost:8080/"
        }
      },
      "execution_count": 20,
      "outputs": [
        {
          "output_type": "stream",
          "name": "stdout",
          "text": [
            "[[0.0, 0.0, 0.0, 0.0, 0.0, 0.0, 0.0, 0.0196078431372549, 0.29411764705882354, 0.0, 0.0, 0.0, 0.0, 0.0, 0.0, 0.0, 0.0, 0.0196078431372549, 0.0, 0.1843137254901961, 0.10588235294117647, 0.0, 0.0, 0.0, 0.0, 0.0, 0.0, 0.0, 0, 0, 0, 0], [0.0, 0.0, 0.0, 0.0, 0.0, 0.0, 0.0, 0.0, 0.36470588235294116, 0.00784313725490196, 0.0, 0.00784313725490196, 0.0, 0.0, 0.0, 0.0, 0.0, 0.0196078431372549, 0.0, 0.2549019607843137, 0.12549019607843137, 0.0, 0.0, 0.0, 0.0, 0.0, 0.0, 0.0, 0, 0, 0, 0], [0.0, 0.0, 0.0, 0.0, 0.0, 0.0, 0.00784313725490196, 0.0, 0.17647058823529413, 0.047058823529411764, 0.0, 0.0, 0.0, 0.0, 0.0, 0.0, 0.0, 0.00784313725490196, 0.0, 0.1843137254901961, 0.0, 0.0, 0.0, 0.0, 0.0, 0.0, 0.0, 0.0, 0, 0, 0, 0], [0.0, 0.0, 0.0, 0.0, 0.0, 0.0, 0.00784313725490196, 0.0, 0.12549019607843137, 0.5215686274509804, 0.0, 0.0, 0.0, 0.0, 0.0, 0.0, 0.0, 0.0, 0.3137254901960784, 0.43529411764705883, 0.0, 0.00784313725490196, 0.0, 0.0, 0.0, 0.0, 0.0, 0.0, 0, 0, 0, 0], [0.0, 0.0, 0.0, 0.0, 0.0, 0.0, 0.00784313725490196, 0.0, 0.00784313725490196, 0.8980392156862745, 0.44313725490196076, 0.2549019607843137, 0.3843137254901961, 0.3333333333333333, 0.3333333333333333, 0.36470588235294116, 0.3843137254901961, 0.27450980392156865, 0.8509803921568627, 0.4627450980392157, 0.0, 0.0196078431372549, 0.0, 0.0, 0.0, 0.0, 0.0, 0.0, 0, 0, 0, 0], [0.0, 0.0, 0.0, 0.0, 0.0, 0.0, 0.00784313725490196, 0.0, 0.21568627450980393, 0.8117647058823529, 0.6431372549019608, 0.0784313725490196, 0.0784313725490196, 0.1568627450980392, 0.12549019607843137, 0.19607843137254902, 0.047058823529411764, 0.3843137254901961, 0.7686274509803922, 0.6235294117647059, 0.0, 0.0, 0.0, 0.0, 0.0, 0.0, 0.0, 0.0, 0, 0, 0, 0], [0.0, 0.0, 0.0, 0.0, 0.0, 0.0, 0.027450980392156862, 0.0, 0.41568627450980394, 0.7803921568627451, 0.7215686274509804, 0.5215686274509804, 0.0196078431372549, 0.0196078431372549, 0.0196078431372549, 0.0196078431372549, 0.34509803921568627, 0.7294117647058823, 0.6509803921568628, 0.7294117647058823, 0.0, 0.0, 0.0, 0.0, 0.0, 0.0, 0.0, 0.0, 0, 0, 0, 0], [0.0, 0.0, 0.0, 0.0, 0.0, 0.0, 0.0196078431372549, 0.0, 0.49411764705882355, 0.7490196078431373, 0.5725490196078431, 0.6823529411764706, 0.8313725490196079, 0.403921568627451, 0.29411764705882354, 0.7803921568627451, 0.788235294117647, 0.592156862745098, 0.6313725490196078, 0.788235294117647, 0.0, 0.0, 0.0, 0.0, 0.0, 0.0, 0.0, 0.0, 0, 0, 0, 0], [0.0, 0.0, 0.0, 0.0, 0.0, 0.0, 0.0196078431372549, 0.0, 0.5529411764705883, 0.7607843137254902, 0.592156862745098, 0.5215686274509804, 0.6901960784313725, 0.9686274509803922, 1.0, 0.8313725490196079, 0.5411764705882353, 0.6039215686274509, 0.6627450980392157, 0.8313725490196079, 0.0, 0.0, 0.0, 0.0, 0.0, 0.0, 0.0, 0.0, 0, 0, 0, 0], [0.0, 0.0, 0.0, 0.0, 0.0, 0.0, 0.00784313725490196, 0.0, 0.6509803921568628, 0.7490196078431373, 0.592156862745098, 0.6235294117647059, 0.5411764705882353, 0.7019607843137254, 0.9098039215686274, 0.5607843137254902, 0.5725490196078431, 0.6235294117647059, 0.6627450980392157, 0.8117647058823529, 0.0, 0.0, 0.0, 0.0, 0.0, 0.0, 0.0, 0.0, 0, 0, 0, 0], [0.0, 0.0, 0.0, 0.0, 0.0, 0.0, 0.0, 0.0, 0.7490196078431373, 0.6823529411764706, 0.592156862745098, 0.592156862745098, 0.6039215686274509, 0.592156862745098, 0.6509803921568628, 0.5607843137254902, 0.611764705882353, 0.611764705882353, 0.6235294117647059, 0.8313725490196079, 0.08627450980392157, 0.0, 0.0, 0.0, 0.0, 0.0, 0.0, 0.0, 0, 0, 0, 0], [0.0, 0.0, 0.0, 0.0, 0.0, 0.0, 0.0, 0.0, 0.8196078431372549, 0.611764705882353, 0.6039215686274509, 0.6039215686274509, 0.6039215686274509, 0.6039215686274509, 0.6039215686274509, 0.611764705882353, 0.6039215686274509, 0.6313725490196078, 0.6039215686274509, 0.8313725490196079, 0.23529411764705882, 0.0, 0.0, 0.0, 0.0, 0.0, 0.0, 0.0, 0, 0, 0, 0], [0.0, 0.0, 0.0, 0.0, 0.0, 0.0, 0.0, 0.10588235294117647, 0.8705882352941177, 0.592156862745098, 0.6313725490196078, 0.6235294117647059, 0.6235294117647059, 0.6235294117647059, 0.6313725490196078, 0.611764705882353, 0.6039215686274509, 0.6313725490196078, 0.611764705882353, 0.8, 0.43529411764705883, 0.0, 0.0, 0.0, 0.0, 0.0, 0.0, 0.0, 0, 0, 0, 0], [0.0, 0.0, 0.0, 0.0, 0.0, 0.0, 0.0, 0.21568627450980393, 0.8784313725490196, 0.5607843137254902, 0.611764705882353, 0.6235294117647059, 0.6235294117647059, 0.6235294117647059, 0.6235294117647059, 0.611764705882353, 0.6039215686274509, 0.6313725490196078, 0.611764705882353, 0.7686274509803922, 0.6039215686274509, 0.0, 0.0, 0.0, 0.0, 0.0, 0.0, 0.0, 0, 0, 0, 0], [0.0, 0.0, 0.0, 0.0, 0.0, 0.0, 0.0, 0.28627450980392155, 0.8313725490196079, 0.5607843137254902, 0.611764705882353, 0.6235294117647059, 0.6235294117647059, 0.6235294117647059, 0.6235294117647059, 0.611764705882353, 0.6039215686274509, 0.6235294117647059, 0.6235294117647059, 0.7215686274509804, 0.6901960784313725, 0.0, 0.0, 0.0, 0.0, 0.0, 0.0, 0.0, 0, 0, 0, 0], [0.0, 0.0, 0.0, 0.0, 0.0, 0.0, 0.0, 0.35294117647058826, 0.8196078431372549, 0.5529411764705883, 0.611764705882353, 0.611764705882353, 0.611764705882353, 0.611764705882353, 0.6313725490196078, 0.6235294117647059, 0.6039215686274509, 0.611764705882353, 0.611764705882353, 0.6705882352941176, 0.6901960784313725, 0.0, 0.0, 0.0, 0.0, 0.0, 0.0, 0.0, 0, 0, 0, 0], [0.0, 0.0, 0.0, 0.0, 0.0, 0.0, 0.0, 0.4745098039215686, 0.8117647058823529, 0.5411764705882353, 0.611764705882353, 0.611764705882353, 0.611764705882353, 0.611764705882353, 0.6313725490196078, 0.6235294117647059, 0.6039215686274509, 0.6235294117647059, 0.6313725490196078, 0.6509803921568628, 0.7294117647058823, 0.0, 0.0, 0.0, 0.0, 0.0, 0.0, 0.0, 0, 0, 0, 0], [0.0, 0.0, 0.0, 0.0, 0.0, 0.0, 0.0, 0.5215686274509804, 0.7294117647058823, 0.5411764705882353, 0.6235294117647059, 0.611764705882353, 0.611764705882353, 0.611764705882353, 0.6313725490196078, 0.6235294117647059, 0.6039215686274509, 0.6235294117647059, 0.6313725490196078, 0.6313725490196078, 0.7607843137254902, 0.0196078431372549, 0.0, 0.0, 0.0, 0.0, 0.0, 0.0, 0, 0, 0, 0], [0.0, 0.0, 0.0, 0.0, 0.0, 0.0, 0.0, 0.5803921568627451, 0.7215686274509804, 0.5725490196078431, 0.6235294117647059, 0.6235294117647059, 0.611764705882353, 0.611764705882353, 0.6313725490196078, 0.6431372549019608, 0.611764705882353, 0.611764705882353, 0.6235294117647059, 0.592156862745098, 0.7686274509803922, 0.08627450980392157, 0.0, 0.0, 0.0, 0.0, 0.0, 0.0, 0, 0, 0, 0], [0.0, 0.0, 0.0, 0.0, 0.0, 0.0, 0.0, 0.6039215686274509, 0.7019607843137254, 0.5607843137254902, 0.6235294117647059, 0.6235294117647059, 0.611764705882353, 0.611764705882353, 0.6313725490196078, 0.6431372549019608, 0.611764705882353, 0.611764705882353, 0.6235294117647059, 0.5803921568627451, 0.7490196078431373, 0.19607843137254902, 0.0, 0.0, 0.0, 0.0, 0.0, 0.0, 0, 0, 0, 0], [0.0, 0.0, 0.0, 0.0, 0.0, 0.0, 0.0, 0.6313725490196078, 0.6823529411764706, 0.5607843137254902, 0.6235294117647059, 0.6235294117647059, 0.611764705882353, 0.6039215686274509, 0.6235294117647059, 0.6313725490196078, 0.611764705882353, 0.611764705882353, 0.6235294117647059, 0.5803921568627451, 0.7215686274509804, 0.26666666666666666, 0.0, 0.0, 0.0, 0.0, 0.0, 0.0, 0, 0, 0, 0], [0.0, 0.0, 0.0, 0.0, 0.0, 0.0, 0.0, 0.6509803921568628, 0.6705882352941176, 0.5725490196078431, 0.6235294117647059, 0.6235294117647059, 0.6235294117647059, 0.611764705882353, 0.6431372549019608, 0.6509803921568628, 0.592156862745098, 0.592156862745098, 0.6313725490196078, 0.592156862745098, 0.7098039215686275, 0.29411764705882354, 0.0, 0.0, 0.0, 0.0, 0.0, 0.0, 0, 0, 0, 0], [0.0, 0.0, 0.0, 0.0, 0.0, 0.0, 0.0, 0.6823529411764706, 0.6431372549019608, 0.5725490196078431, 0.6235294117647059, 0.6235294117647059, 0.6235294117647059, 0.6235294117647059, 0.6431372549019608, 0.6509803921568628, 0.592156862745098, 0.592156862745098, 0.6313725490196078, 0.5803921568627451, 0.7019607843137254, 0.35294117647058826, 0.0, 0.0, 0.0, 0.0, 0.0, 0.0, 0, 0, 0, 0], [0.0, 0.0, 0.0, 0.0, 0.0, 0.0, 0.00784313725490196, 0.7411764705882353, 0.592156862745098, 0.5803921568627451, 0.6313725490196078, 0.6235294117647059, 0.6235294117647059, 0.611764705882353, 0.6431372549019608, 0.6431372549019608, 0.5803921568627451, 0.592156862745098, 0.6313725490196078, 0.592156862745098, 0.6705882352941176, 0.43529411764705883, 0.0, 0.0, 0.0, 0.0, 0.0, 0.0, 0, 0, 0, 0], [0.0, 0.0, 0.0, 0.0, 0.0, 0.0, 0.0392156862745098, 0.7294117647058823, 0.6039215686274509, 0.5725490196078431, 0.611764705882353, 0.6235294117647059, 0.611764705882353, 0.6235294117647059, 0.6313725490196078, 0.6431372549019608, 0.592156862745098, 0.592156862745098, 0.6313725490196078, 0.6039215686274509, 0.6705882352941176, 0.4549019607843137, 0.0, 0.0, 0.0, 0.0, 0.0, 0.0, 0, 0, 0, 0], [0.0, 0.0, 0.0, 0.0, 0.0, 0.0, 0.12549019607843137, 0.7098039215686275, 0.592156862745098, 0.611764705882353, 0.6627450980392157, 0.6431372549019608, 0.6039215686274509, 0.6627450980392157, 0.6823529411764706, 0.6705882352941176, 0.6313725490196078, 0.6235294117647059, 0.6313725490196078, 0.592156862745098, 0.611764705882353, 0.4235294117647059, 0.0, 0.0, 0.0, 0.0, 0.0, 0.0, 0, 0, 0, 0], [0.0, 0.0, 0.0, 0.0, 0.0, 0.0, 0.23529411764705882, 0.8705882352941177, 0.6705882352941176, 0.6431372549019608, 0.7294117647058823, 0.7098039215686275, 0.7686274509803922, 0.7607843137254902, 0.7098039215686275, 0.7411764705882353, 0.6901960784313725, 0.6431372549019608, 0.6627450980392157, 0.6823529411764706, 0.788235294117647, 0.5607843137254902, 0.0, 0.0, 0.0, 0.0, 0.0, 0.0, 0, 0, 0, 0], [0.0, 0.0, 0.0, 0.0, 0.0, 0.0, 0.047058823529411764, 0.36470588235294116, 0.0196078431372549, 0.0, 0.0, 0.0196078431372549, 0.0196078431372549, 0.0, 0.0, 0.0, 0.0, 0.0, 0.00784313725490196, 0.00784313725490196, 0.16470588235294117, 0.1843137254901961, 0.0, 0.0, 0.0, 0.0, 0.0, 0.0, 0, 0, 0, 0], [0, 0, 0, 0, 0, 0, 0, 0, 0, 0, 0, 0, 0, 0, 0, 0, 0, 0, 0, 0, 0, 0, 0, 0, 0, 0, 0, 0, 0, 0, 0, 0], [0, 0, 0, 0, 0, 0, 0, 0, 0, 0, 0, 0, 0, 0, 0, 0, 0, 0, 0, 0, 0, 0, 0, 0, 0, 0, 0, 0, 0, 0, 0, 0], [0, 0, 0, 0, 0, 0, 0, 0, 0, 0, 0, 0, 0, 0, 0, 0, 0, 0, 0, 0, 0, 0, 0, 0, 0, 0, 0, 0, 0, 0, 0, 0], [0, 0, 0, 0, 0, 0, 0, 0, 0, 0, 0, 0, 0, 0, 0, 0, 0, 0, 0, 0, 0, 0, 0, 0, 0, 0, 0, 0, 0, 0, 0, 0]]\n"
          ]
        }
      ]
    },
    {
      "cell_type": "markdown",
      "source": [
        "2) Encode to 11 Qubits"
      ],
      "metadata": {
        "id": "cTRXogosPENu"
      }
    },
    {
      "cell_type": "code",
      "source": [
        "# Circuit Setting\n",
        "Y_Qubits = QuantumRegister(5, 'y')\n",
        "X_Qubits = QuantumRegister(5, 'x')\n",
        "Probability_Qubit = QuantumRegister(1, 's')\n",
        "Classical_Register = ClassicalRegister(11, 'c')\n",
        "Eleven_Qubits_Encoding = QuantumCircuit(Y_Qubits, X_Qubits, Probability_Qubit, Classical_Register)\n",
        "\n",
        "s = Probability_Qubit\n",
        "y0, y1, y2, y3, y4 = Y_Qubits\n",
        "x0, x1, x2, x3, x4 = X_Qubits\n",
        "\n",
        "# Initial State\n",
        "Eleven_Qubits_Encoding.h(y0)\n",
        "Eleven_Qubits_Encoding.h(y1)\n",
        "Eleven_Qubits_Encoding.h(y2)\n",
        "Eleven_Qubits_Encoding.h(y3)\n",
        "Eleven_Qubits_Encoding.h(y4)\n",
        "Eleven_Qubits_Encoding.h(x0)\n",
        "Eleven_Qubits_Encoding.h(x1)\n",
        "Eleven_Qubits_Encoding.h(x2)\n",
        "Eleven_Qubits_Encoding.h(x3)\n",
        "Eleven_Qubits_Encoding.h(x4)\n",
        "\n",
        "def Binary(i):\n",
        "  num = []\n",
        "  num.append(i%2)\n",
        "  i = i//2\n",
        "  num.append(i%2)\n",
        "  i = i//2\n",
        "  num.append(i%2)\n",
        "  i = i//2\n",
        "  num.append(i%2)\n",
        "  i = i//2\n",
        "  num.append(i%2)\n",
        "\n",
        "  rot = []\n",
        "  for j in range(5):\n",
        "    rot.append(1-num[4-j])\n",
        "\n",
        "  return rot\n",
        "\n",
        "\n",
        "def Y_Not(lst):\n",
        "  if lst[0]:\n",
        "    Eleven_Qubits_Encoding.x(y0)\n",
        "  if lst[1]:\n",
        "    Eleven_Qubits_Encoding.x(y1)\n",
        "  if lst[2]:\n",
        "    Eleven_Qubits_Encoding.x(y2)\n",
        "  if lst[3]:\n",
        "    Eleven_Qubits_Encoding.x(y3)\n",
        "  if lst[4]:\n",
        "    Eleven_Qubits_Encoding.x(y4)\n",
        "\n",
        "\n",
        "def X_Not(lst):\n",
        "  if lst[0]:\n",
        "    Eleven_Qubits_Encoding.x(x0)\n",
        "  if lst[1]:\n",
        "    Eleven_Qubits_Encoding.x(x1)\n",
        "  if lst[2]:\n",
        "    Eleven_Qubits_Encoding.x(x2)\n",
        "  if lst[3]:\n",
        "    Eleven_Qubits_Encoding.x(x3)\n",
        "  if lst[4]:\n",
        "    Eleven_Qubits_Encoding.x(x4)\n",
        "\n",
        "\n",
        "# Probability Qubit Rotating\n",
        "for i in range(32):\n",
        "  for j in range(32):\n",
        "    Rotate = QuantumCircuit(1)\n",
        "    Rotate.rx(2*np.arcsin(np.sqrt(matrix[i][j])), 0)\n",
        "    Ugate = Rotate.to_gate().control(10)\n",
        "\n",
        "    y_rot = Binary(i)\n",
        "    x_rot = Binary(j)\n",
        "\n",
        "    Y_Not(y_rot)\n",
        "    X_Not(x_rot)\n",
        "    Eleven_Qubits_Encoding.append(Ugate, [y0, y1, y2, y3, y4, x0, x1, x2, x3, x4, s])\n",
        "    Y_Not(y_rot)\n",
        "    X_Not(x_rot)\n",
        "\n",
        "\n",
        "Eleven_Qubits_Encoding.measure([0,1,2,3,4,5,6,7,8,9,10], [10,9,8,7,6,5,4,3,2,1,0])"
      ],
      "metadata": {
        "id": "bRFVRYkw5sPH",
        "outputId": "9076e603-68c2-4d7c-de56-48ea091a749e",
        "colab": {
          "base_uri": "https://localhost:8080/"
        }
      },
      "execution_count": 21,
      "outputs": [
        {
          "output_type": "execute_result",
          "data": {
            "text/plain": [
              "<qiskit.circuit.instructionset.InstructionSet at 0x7bbad89c4220>"
            ]
          },
          "metadata": {},
          "execution_count": 21
        }
      ]
    },
    {
      "cell_type": "markdown",
      "source": [
        "3) Recover Image"
      ],
      "metadata": {
        "id": "7ytHk_47SCSY"
      }
    },
    {
      "cell_type": "code",
      "source": [
        "job = sampler.run(Eleven_Qubits_Encoding, shots=1000000)\n",
        "result = job.result()\n",
        "cnts = dict(result.quasi_dists[0])\n",
        "\n",
        "# Store Decoded Matrix except for dummy entry\n",
        "Decoded_Matrix = np.zeros((28,28))\n",
        "Decoded_Vector = []\n",
        "for i in range(1024):\n",
        "  if cnts.get(2*i+1)==None:\n",
        "    Decoded_Vector.append(0)\n",
        "  else:\n",
        "    Decoded_Vector.append(1024*max*cnts.get(2*i+1))\n",
        "\n",
        "for i in range(32):\n",
        "  for j in range(32):\n",
        "    if j>27 or i>27:\n",
        "      pass\n",
        "    else:\n",
        "      Decoded_Matrix[i][j] = Decoded_Vector[i*32+j]\n",
        "\n",
        "print(Decoded_Matrix)"
      ],
      "metadata": {
        "id": "Jji_iagS5sKa",
        "outputId": "d480e53c-2c72-41d0-a69d-5f30aaff3764",
        "colab": {
          "base_uri": "https://localhost:8080/"
        }
      },
      "execution_count": 22,
      "outputs": [
        {
          "output_type": "stream",
          "name": "stdout",
          "text": [
            "[[  0.        0.        0.        0.        0.        0.        0.\n",
            "    4.96128  77.55264   0.        0.        0.        0.        0.\n",
            "    0.        0.        0.        4.17792   0.       39.69024  23.76192\n",
            "    0.        0.        0.        0.        0.        0.        0.     ]\n",
            " [  0.        0.        0.        0.        0.        0.        0.\n",
            "    0.       85.90848   1.04448   0.        3.13344   0.        0.\n",
            "    0.        0.        0.        5.2224    0.       60.57984  33.16224\n",
            "    0.        0.        0.        0.        0.        0.        0.     ]\n",
            " [  0.        0.        0.        0.        0.        0.        2.6112\n",
            "    0.       48.56832  10.70592   0.        0.        0.        0.\n",
            "    0.        0.        0.        1.56672   0.       47.78496   0.\n",
            "    0.        0.        0.        0.        0.        0.        0.     ]\n",
            " [  0.        0.        0.        0.        0.        0.        2.6112\n",
            "    0.       27.15648 131.08224   0.        0.        0.        0.\n",
            "    0.        0.        0.        0.       85.38624 115.67616   0.\n",
            "    1.82784   0.        0.        0.        0.        0.        0.     ]\n",
            " [  0.        0.        0.        0.        0.        0.        3.39456\n",
            "    0.        1.04448 219.07968 108.62592  64.23552  98.18112  73.37472\n",
            "   90.86976  89.30304 101.05344  63.9744  219.60192 112.02048   0.\n",
            "    4.70016   0.        0.        0.        0.        0.        0.     ]\n",
            " [  0.        0.        0.        0.        0.        0.        1.3056\n",
            "    0.       49.09056 209.94048 170.51136  20.10624  18.53952  37.34016\n",
            "   31.07328  45.43488  10.70592 105.7536  196.10112 166.07232   0.\n",
            "    0.        0.        0.        0.        0.        0.        0.     ]\n",
            " [  0.        0.        0.        0.        0.        0.        8.87808\n",
            "    0.      100.00896 202.62912 184.87296 136.04352   7.05024   3.39456\n",
            "    4.43904   5.48352  92.95872 185.65632 167.90016 202.368     0.\n",
            "    0.        0.        0.        0.        0.        0.        0.     ]\n",
            " [  0.        0.        0.        0.        0.        0.        5.48352\n",
            "    0.      116.45952 195.31776 141.0048  163.2     197.40672 102.35904\n",
            "   80.42496 205.50144 190.35648 138.91584 160.5888  207.5904    0.\n",
            "    0.        0.        0.        0.        0.        0.        0.     ]\n",
            " [  0.        0.        0.        0.        0.        0.        4.43904\n",
            "    0.      149.36064 204.9792  149.09952 133.43232 173.90592 252.76416\n",
            "  260.85888 214.64064 147.27168 159.80544 165.02784 199.23456   0.\n",
            "    0.        0.        0.        0.        0.        0.        0.     ]\n",
            " [  0.        0.        0.        0.        0.        0.        1.3056\n",
            "    0.      160.84992 183.30624 152.23296 160.32768 140.48256 163.2\n",
            "  234.22464 143.35488 134.73792 163.2     161.8944  211.5072    0.\n",
            "    0.        0.        0.        0.        0.        0.        0.     ]\n",
            " [  0.        0.        0.        0.        0.        0.        0.\n",
            "    0.      201.84576 184.61184 149.88288 162.15552 162.41664 145.18272\n",
            "  166.33344 145.96608 148.57728 149.88288 158.23872 221.69088  19.84512\n",
            "    0.        0.        0.        0.        0.        0.        0.     ]\n",
            " [  0.        0.        0.        0.        0.        0.        0.\n",
            "    0.      213.33504 161.8944  165.28896 148.31616 158.49984 163.2\n",
            "  164.5056  163.2     158.49984 152.23296 150.144   226.12992  63.71328\n",
            "    0.        0.        0.        0.        0.        0.        0.     ]\n",
            " [  0.        0.        0.        0.        0.        0.        0.\n",
            "   24.8064  224.5632  155.62752 161.37216 160.84992 156.93312 168.68352\n",
            "  165.55008 147.5328  153.53856 165.02784 168.16128 198.97344 115.15392\n",
            "    0.        0.        0.        0.        0.        0.        0.     ]\n",
            " [  0.        0.        0.        0.        0.        0.        0.\n",
            "   51.96288 233.7024  148.57728 163.98336 148.57728 161.63328 162.15552\n",
            "  165.28896 143.87712 149.09952 160.06656 158.76096 205.24032 151.97184\n",
            "    0.        0.        0.        0.        0.        0.        0.     ]\n",
            " [  0.        0.        0.        0.        0.        0.        0.\n",
            "   72.59136 225.08544 146.2272  159.80544 155.88864 159.80544 154.32192\n",
            "  150.40512 149.09952 157.71648 161.37216 160.06656 177.5616  169.728\n",
            "    0.        0.        0.        0.        0.        0.        0.     ]\n",
            " [  0.        0.        0.        0.        0.        0.        0.\n",
            "   95.04768 217.51296 141.26592 155.62752 160.84992 148.57728 154.58304\n",
            "  163.98336 166.33344 159.80544 156.41088 154.58304 170.51136 170.25024\n",
            "    0.        0.        0.        0.        0.        0.        0.     ]\n",
            " [  0.        0.        0.        0.        0.        0.        0.\n",
            "  112.02048 199.7568  136.56576 163.46112 148.8384  149.09952 142.3104\n",
            "  155.88864 176.77824 145.44384 151.71072 168.68352 167.37792 167.1168\n",
            "    0.        0.        0.        0.        0.        0.        0.     ]\n",
            " [  0.        0.        0.        0.        0.        0.        0.\n",
            "  139.17696 186.17856 143.616   168.94464 165.28896 151.97184 160.84992\n",
            "  168.94464 151.71072 160.84992 166.59456 171.0336  165.8112  193.75104\n",
            "    6.26688   0.        0.        0.        0.        0.        0.     ]\n",
            " [  0.        0.        0.        0.        0.        0.        0.\n",
            "  144.39936 180.1728  156.14976 162.15552 158.23872 158.76096 155.3664\n",
            "  172.60032 179.12832 153.27744 160.32768 151.18848 150.92736 199.23456\n",
            "   22.97856   0.        0.        0.        0.        0.        0.     ]\n",
            " [  0.        0.        0.        0.        0.        0.        0.\n",
            "  152.49408 178.8672  139.96032 147.27168 155.10528 156.41088 147.79392\n",
            "  157.9776  163.72224 172.60032 148.8384  163.2     151.97184 180.1728\n",
            "   47.52384   0.        0.        0.        0.        0.        0.     ]\n",
            " [  0.        0.        0.        0.        0.        0.        0.\n",
            "  154.0608  178.08384 138.13248 167.90016 154.84416 155.88864 149.36064\n",
            "  158.49984 156.93312 152.49408 157.19424 161.11104 147.27168 190.09536\n",
            "   72.33024   0.        0.        0.        0.        0.        0.     ]\n",
            " [  0.        0.        0.        0.        0.        0.        0.\n",
            "  159.02208 166.85568 146.48832 162.67776 153.79968 154.58304 150.40512\n",
            "  177.03936 161.63328 145.70496 156.41088 162.67776 146.2272  176.51712\n",
            "   79.11936   0.        0.        0.        0.        0.        0.     ]\n",
            " [  0.        0.        0.        0.        0.        0.        0.\n",
            "  166.33344 165.02784 147.5328  163.72224 162.41664 159.02208 164.5056\n",
            "  171.81696 153.79968 147.5328  154.84416 150.144   150.40512 183.56736\n",
            "   92.95872   0.        0.        0.        0.        0.        0.     ]\n",
            " [  0.        0.        0.        0.        0.        0.        1.82784\n",
            "  192.96768 162.67776 144.39936 168.68352 168.68352 152.7552  156.14976\n",
            "  147.01056 165.28896 158.76096 154.84416 154.32192 151.71072 179.65056\n",
            "  108.88704   0.        0.        0.        0.        0.        0.     ]\n",
            " [  0.        0.        0.        0.        0.        0.        8.09472\n",
            "  190.09536 155.88864 141.0048  158.49984 157.45536 142.57152 161.11104\n",
            "  168.68352 168.68352 151.4496  153.01632 163.98336 166.85568 177.03936\n",
            "  114.63168   0.        0.        0.        0.        0.        0.     ]\n",
            " [  0.        0.        0.        0.        0.        0.       32.11776\n",
            "  190.35648 154.32192 149.36064 171.55584 161.11104 147.79392 166.33344\n",
            "  183.04512 170.77248 164.76672 150.66624 159.80544 151.18848 150.144\n",
            "  112.2816    0.        0.        0.        0.        0.        0.     ]\n",
            " [  0.        0.        0.        0.        0.        0.       61.88544\n",
            "  220.90752 168.68352 157.9776  182.52288 177.82272 200.01792 198.97344\n",
            "  184.0896  187.48416 185.65632 159.80544 172.86144 170.77248 211.5072\n",
            "  137.61024   0.        0.        0.        0.        0.        0.     ]\n",
            " [  0.        0.        0.        0.        0.        0.        7.57248\n",
            "   91.91424   3.65568   0.        0.        3.13344   5.74464   0.\n",
            "    0.        0.        0.        0.        2.6112    2.6112   40.73472\n",
            "   47.52384   0.        0.        0.        0.        0.        0.     ]]\n"
          ]
        }
      ]
    },
    {
      "cell_type": "markdown",
      "source": [
        "4) Original Image"
      ],
      "metadata": {
        "id": "UzwCykagRXKY"
      }
    },
    {
      "cell_type": "code",
      "source": [
        "plt.imshow(test, interpolation='nearest')\n",
        "plt.show()"
      ],
      "metadata": {
        "id": "nIdsPrL1RTxK",
        "outputId": "e52cad07-cb2e-4a4e-fa41-b41e8ce876ff",
        "colab": {
          "base_uri": "https://localhost:8080/",
          "height": 430
        }
      },
      "execution_count": 23,
      "outputs": [
        {
          "output_type": "display_data",
          "data": {
            "text/plain": [
              "<Figure size 640x480 with 1 Axes>"
            ],
            "image/png": "[encoded data removed]"
          },
          "metadata": {}
        }
      ]
    },
    {
      "cell_type": "markdown",
      "source": [
        "5) Recovered Image"
      ],
      "metadata": {
        "id": "bnmQJ3uIRZs4"
      }
    },
    {
      "cell_type": "code",
      "source": [
        "plt.imshow(Decoded_Matrix, interpolation='nearest')\n",
        "plt.show()"
      ],
      "metadata": {
        "id": "Pk_DNXypRTka",
        "outputId": "08a421dd-6ac5-4158-f9e0-35216f1af7ee",
        "colab": {
          "base_uri": "https://localhost:8080/",
          "height": 430
        }
      },
      "execution_count": 24,
      "outputs": [
        {
          "output_type": "display_data",
          "data": {
            "text/plain": [
              "<Figure size 640x480 with 1 Axes>"
            ],
            "image/png": "[encoded data removed]"
          },
          "metadata": {}
        }
      ]
    },
    {
      "cell_type": "markdown",
      "source": [
        "#6. QPU HW Encoding"
      ],
      "metadata": {
        "id": "yGSLyLEEPRZB"
      }
    },
    {
      "cell_type": "markdown",
      "source": [
        "1) Image_Test[0]"
      ],
      "metadata": {
        "id": "w4hQt5o_Phzk"
      }
    },
    {
      "cell_type": "code",
      "source": [
        "# adding dummy pixels to make 32 X 32. Each row and columns 5 qubits.\n",
        "test = images_test[0]\n",
        "max = np.max(test)\n",
        "matrix = []\n",
        "for i in range(28):\n",
        "  row = []\n",
        "  for j in range(28):\n",
        "    row.append(test[i][j]/max)\n",
        "  row.append(0)\n",
        "  row.append(0)\n",
        "  row.append(0)\n",
        "  row.append(0)\n",
        "  matrix.append(row)\n",
        "\n",
        "matrix.append([0,0,0,0,0,0,0,0,0,0,0,0,0,0,0,0,0,0,0,0,0,0,0,0,0,0,0,0,0,0,0,0])\n",
        "matrix.append([0,0,0,0,0,0,0,0,0,0,0,0,0,0,0,0,0,0,0,0,0,0,0,0,0,0,0,0,0,0,0,0])\n",
        "matrix.append([0,0,0,0,0,0,0,0,0,0,0,0,0,0,0,0,0,0,0,0,0,0,0,0,0,0,0,0,0,0,0,0])\n",
        "matrix.append([0,0,0,0,0,0,0,0,0,0,0,0,0,0,0,0,0,0,0,0,0,0,0,0,0,0,0,0,0,0,0,0])\n",
        "\n",
        "print(matrix)"
      ],
      "metadata": {
        "id": "axf0JDy-PgI0",
        "outputId": "acfdf800-3ca1-42eb-a520-28777d1a9f5a",
        "colab": {
          "base_uri": "https://localhost:8080/"
        }
      },
      "execution_count": 25,
      "outputs": [
        {
          "output_type": "stream",
          "name": "stdout",
          "text": [
            "[[0.0, 0.0, 0.0, 0.0, 0.0, 0.0, 0.0, 0.0196078431372549, 0.29411764705882354, 0.0, 0.0, 0.0, 0.0, 0.0, 0.0, 0.0, 0.0, 0.0196078431372549, 0.0, 0.1843137254901961, 0.10588235294117647, 0.0, 0.0, 0.0, 0.0, 0.0, 0.0, 0.0, 0, 0, 0, 0], [0.0, 0.0, 0.0, 0.0, 0.0, 0.0, 0.0, 0.0, 0.36470588235294116, 0.00784313725490196, 0.0, 0.00784313725490196, 0.0, 0.0, 0.0, 0.0, 0.0, 0.0196078431372549, 0.0, 0.2549019607843137, 0.12549019607843137, 0.0, 0.0, 0.0, 0.0, 0.0, 0.0, 0.0, 0, 0, 0, 0], [0.0, 0.0, 0.0, 0.0, 0.0, 0.0, 0.00784313725490196, 0.0, 0.17647058823529413, 0.047058823529411764, 0.0, 0.0, 0.0, 0.0, 0.0, 0.0, 0.0, 0.00784313725490196, 0.0, 0.1843137254901961, 0.0, 0.0, 0.0, 0.0, 0.0, 0.0, 0.0, 0.0, 0, 0, 0, 0], [0.0, 0.0, 0.0, 0.0, 0.0, 0.0, 0.00784313725490196, 0.0, 0.12549019607843137, 0.5215686274509804, 0.0, 0.0, 0.0, 0.0, 0.0, 0.0, 0.0, 0.0, 0.3137254901960784, 0.43529411764705883, 0.0, 0.00784313725490196, 0.0, 0.0, 0.0, 0.0, 0.0, 0.0, 0, 0, 0, 0], [0.0, 0.0, 0.0, 0.0, 0.0, 0.0, 0.00784313725490196, 0.0, 0.00784313725490196, 0.8980392156862745, 0.44313725490196076, 0.2549019607843137, 0.3843137254901961, 0.3333333333333333, 0.3333333333333333, 0.36470588235294116, 0.3843137254901961, 0.27450980392156865, 0.8509803921568627, 0.4627450980392157, 0.0, 0.0196078431372549, 0.0, 0.0, 0.0, 0.0, 0.0, 0.0, 0, 0, 0, 0], [0.0, 0.0, 0.0, 0.0, 0.0, 0.0, 0.00784313725490196, 0.0, 0.21568627450980393, 0.8117647058823529, 0.6431372549019608, 0.0784313725490196, 0.0784313725490196, 0.1568627450980392, 0.12549019607843137, 0.19607843137254902, 0.047058823529411764, 0.3843137254901961, 0.7686274509803922, 0.6235294117647059, 0.0, 0.0, 0.0, 0.0, 0.0, 0.0, 0.0, 0.0, 0, 0, 0, 0], [0.0, 0.0, 0.0, 0.0, 0.0, 0.0, 0.027450980392156862, 0.0, 0.41568627450980394, 0.7803921568627451, 0.7215686274509804, 0.5215686274509804, 0.0196078431372549, 0.0196078431372549, 0.0196078431372549, 0.0196078431372549, 0.34509803921568627, 0.7294117647058823, 0.6509803921568628, 0.7294117647058823, 0.0, 0.0, 0.0, 0.0, 0.0, 0.0, 0.0, 0.0, 0, 0, 0, 0], [0.0, 0.0, 0.0, 0.0, 0.0, 0.0, 0.0196078431372549, 0.0, 0.49411764705882355, 0.7490196078431373, 0.5725490196078431, 0.6823529411764706, 0.8313725490196079, 0.403921568627451, 0.29411764705882354, 0.7803921568627451, 0.788235294117647, 0.592156862745098, 0.6313725490196078, 0.788235294117647, 0.0, 0.0, 0.0, 0.0, 0.0, 0.0, 0.0, 0.0, 0, 0, 0, 0], [0.0, 0.0, 0.0, 0.0, 0.0, 0.0, 0.0196078431372549, 0.0, 0.5529411764705883, 0.7607843137254902, 0.592156862745098, 0.5215686274509804, 0.6901960784313725, 0.9686274509803922, 1.0, 0.8313725490196079, 0.5411764705882353, 0.6039215686274509, 0.6627450980392157, 0.8313725490196079, 0.0, 0.0, 0.0, 0.0, 0.0, 0.0, 0.0, 0.0, 0, 0, 0, 0], [0.0, 0.0, 0.0, 0.0, 0.0, 0.0, 0.00784313725490196, 0.0, 0.6509803921568628, 0.7490196078431373, 0.592156862745098, 0.6235294117647059, 0.5411764705882353, 0.7019607843137254, 0.9098039215686274, 0.5607843137254902, 0.5725490196078431, 0.6235294117647059, 0.6627450980392157, 0.8117647058823529, 0.0, 0.0, 0.0, 0.0, 0.0, 0.0, 0.0, 0.0, 0, 0, 0, 0], [0.0, 0.0, 0.0, 0.0, 0.0, 0.0, 0.0, 0.0, 0.7490196078431373, 0.6823529411764706, 0.592156862745098, 0.592156862745098, 0.6039215686274509, 0.592156862745098, 0.6509803921568628, 0.5607843137254902, 0.611764705882353, 0.611764705882353, 0.6235294117647059, 0.8313725490196079, 0.08627450980392157, 0.0, 0.0, 0.0, 0.0, 0.0, 0.0, 0.0, 0, 0, 0, 0], [0.0, 0.0, 0.0, 0.0, 0.0, 0.0, 0.0, 0.0, 0.8196078431372549, 0.611764705882353, 0.6039215686274509, 0.6039215686274509, 0.6039215686274509, 0.6039215686274509, 0.6039215686274509, 0.611764705882353, 0.6039215686274509, 0.6313725490196078, 0.6039215686274509, 0.8313725490196079, 0.23529411764705882, 0.0, 0.0, 0.0, 0.0, 0.0, 0.0, 0.0, 0, 0, 0, 0], [0.0, 0.0, 0.0, 0.0, 0.0, 0.0, 0.0, 0.10588235294117647, 0.8705882352941177, 0.592156862745098, 0.6313725490196078, 0.6235294117647059, 0.6235294117647059, 0.6235294117647059, 0.6313725490196078, 0.611764705882353, 0.6039215686274509, 0.6313725490196078, 0.611764705882353, 0.8, 0.43529411764705883, 0.0, 0.0, 0.0, 0.0, 0.0, 0.0, 0.0, 0, 0, 0, 0], [0.0, 0.0, 0.0, 0.0, 0.0, 0.0, 0.0, 0.21568627450980393, 0.8784313725490196, 0.5607843137254902, 0.611764705882353, 0.6235294117647059, 0.6235294117647059, 0.6235294117647059, 0.6235294117647059, 0.611764705882353, 0.6039215686274509, 0.6313725490196078, 0.611764705882353, 0.7686274509803922, 0.6039215686274509, 0.0, 0.0, 0.0, 0.0, 0.0, 0.0, 0.0, 0, 0, 0, 0], [0.0, 0.0, 0.0, 0.0, 0.0, 0.0, 0.0, 0.28627450980392155, 0.8313725490196079, 0.5607843137254902, 0.611764705882353, 0.6235294117647059, 0.6235294117647059, 0.6235294117647059, 0.6235294117647059, 0.611764705882353, 0.6039215686274509, 0.6235294117647059, 0.6235294117647059, 0.7215686274509804, 0.6901960784313725, 0.0, 0.0, 0.0, 0.0, 0.0, 0.0, 0.0, 0, 0, 0, 0], [0.0, 0.0, 0.0, 0.0, 0.0, 0.0, 0.0, 0.35294117647058826, 0.8196078431372549, 0.5529411764705883, 0.611764705882353, 0.611764705882353, 0.611764705882353, 0.611764705882353, 0.6313725490196078, 0.6235294117647059, 0.6039215686274509, 0.611764705882353, 0.611764705882353, 0.6705882352941176, 0.6901960784313725, 0.0, 0.0, 0.0, 0.0, 0.0, 0.0, 0.0, 0, 0, 0, 0], [0.0, 0.0, 0.0, 0.0, 0.0, 0.0, 0.0, 0.4745098039215686, 0.8117647058823529, 0.5411764705882353, 0.611764705882353, 0.611764705882353, 0.611764705882353, 0.611764705882353, 0.6313725490196078, 0.6235294117647059, 0.6039215686274509, 0.6235294117647059, 0.6313725490196078, 0.6509803921568628, 0.7294117647058823, 0.0, 0.0, 0.0, 0.0, 0.0, 0.0, 0.0, 0, 0, 0, 0], [0.0, 0.0, 0.0, 0.0, 0.0, 0.0, 0.0, 0.5215686274509804, 0.7294117647058823, 0.5411764705882353, 0.6235294117647059, 0.611764705882353, 0.611764705882353, 0.611764705882353, 0.6313725490196078, 0.6235294117647059, 0.6039215686274509, 0.6235294117647059, 0.6313725490196078, 0.6313725490196078, 0.7607843137254902, 0.0196078431372549, 0.0, 0.0, 0.0, 0.0, 0.0, 0.0, 0, 0, 0, 0], [0.0, 0.0, 0.0, 0.0, 0.0, 0.0, 0.0, 0.5803921568627451, 0.7215686274509804, 0.5725490196078431, 0.6235294117647059, 0.6235294117647059, 0.611764705882353, 0.611764705882353, 0.6313725490196078, 0.6431372549019608, 0.611764705882353, 0.611764705882353, 0.6235294117647059, 0.592156862745098, 0.7686274509803922, 0.08627450980392157, 0.0, 0.0, 0.0, 0.0, 0.0, 0.0, 0, 0, 0, 0], [0.0, 0.0, 0.0, 0.0, 0.0, 0.0, 0.0, 0.6039215686274509, 0.7019607843137254, 0.5607843137254902, 0.6235294117647059, 0.6235294117647059, 0.611764705882353, 0.611764705882353, 0.6313725490196078, 0.6431372549019608, 0.611764705882353, 0.611764705882353, 0.6235294117647059, 0.5803921568627451, 0.7490196078431373, 0.19607843137254902, 0.0, 0.0, 0.0, 0.0, 0.0, 0.0, 0, 0, 0, 0], [0.0, 0.0, 0.0, 0.0, 0.0, 0.0, 0.0, 0.6313725490196078, 0.6823529411764706, 0.5607843137254902, 0.6235294117647059, 0.6235294117647059, 0.611764705882353, 0.6039215686274509, 0.6235294117647059, 0.6313725490196078, 0.611764705882353, 0.611764705882353, 0.6235294117647059, 0.5803921568627451, 0.7215686274509804, 0.26666666666666666, 0.0, 0.0, 0.0, 0.0, 0.0, 0.0, 0, 0, 0, 0], [0.0, 0.0, 0.0, 0.0, 0.0, 0.0, 0.0, 0.6509803921568628, 0.6705882352941176, 0.5725490196078431, 0.6235294117647059, 0.6235294117647059, 0.6235294117647059, 0.611764705882353, 0.6431372549019608, 0.6509803921568628, 0.592156862745098, 0.592156862745098, 0.6313725490196078, 0.592156862745098, 0.7098039215686275, 0.29411764705882354, 0.0, 0.0, 0.0, 0.0, 0.0, 0.0, 0, 0, 0, 0], [0.0, 0.0, 0.0, 0.0, 0.0, 0.0, 0.0, 0.6823529411764706, 0.6431372549019608, 0.5725490196078431, 0.6235294117647059, 0.6235294117647059, 0.6235294117647059, 0.6235294117647059, 0.6431372549019608, 0.6509803921568628, 0.592156862745098, 0.592156862745098, 0.6313725490196078, 0.5803921568627451, 0.7019607843137254, 0.35294117647058826, 0.0, 0.0, 0.0, 0.0, 0.0, 0.0, 0, 0, 0, 0], [0.0, 0.0, 0.0, 0.0, 0.0, 0.0, 0.00784313725490196, 0.7411764705882353, 0.592156862745098, 0.5803921568627451, 0.6313725490196078, 0.6235294117647059, 0.6235294117647059, 0.611764705882353, 0.6431372549019608, 0.6431372549019608, 0.5803921568627451, 0.592156862745098, 0.6313725490196078, 0.592156862745098, 0.6705882352941176, 0.43529411764705883, 0.0, 0.0, 0.0, 0.0, 0.0, 0.0, 0, 0, 0, 0], [0.0, 0.0, 0.0, 0.0, 0.0, 0.0, 0.0392156862745098, 0.7294117647058823, 0.6039215686274509, 0.5725490196078431, 0.611764705882353, 0.6235294117647059, 0.611764705882353, 0.6235294117647059, 0.6313725490196078, 0.6431372549019608, 0.592156862745098, 0.592156862745098, 0.6313725490196078, 0.6039215686274509, 0.6705882352941176, 0.4549019607843137, 0.0, 0.0, 0.0, 0.0, 0.0, 0.0, 0, 0, 0, 0], [0.0, 0.0, 0.0, 0.0, 0.0, 0.0, 0.12549019607843137, 0.7098039215686275, 0.592156862745098, 0.611764705882353, 0.6627450980392157, 0.6431372549019608, 0.6039215686274509, 0.6627450980392157, 0.6823529411764706, 0.6705882352941176, 0.6313725490196078, 0.6235294117647059, 0.6313725490196078, 0.592156862745098, 0.611764705882353, 0.4235294117647059, 0.0, 0.0, 0.0, 0.0, 0.0, 0.0, 0, 0, 0, 0], [0.0, 0.0, 0.0, 0.0, 0.0, 0.0, 0.23529411764705882, 0.8705882352941177, 0.6705882352941176, 0.6431372549019608, 0.7294117647058823, 0.7098039215686275, 0.7686274509803922, 0.7607843137254902, 0.7098039215686275, 0.7411764705882353, 0.6901960784313725, 0.6431372549019608, 0.6627450980392157, 0.6823529411764706, 0.788235294117647, 0.5607843137254902, 0.0, 0.0, 0.0, 0.0, 0.0, 0.0, 0, 0, 0, 0], [0.0, 0.0, 0.0, 0.0, 0.0, 0.0, 0.047058823529411764, 0.36470588235294116, 0.0196078431372549, 0.0, 0.0, 0.0196078431372549, 0.0196078431372549, 0.0, 0.0, 0.0, 0.0, 0.0, 0.00784313725490196, 0.00784313725490196, 0.16470588235294117, 0.1843137254901961, 0.0, 0.0, 0.0, 0.0, 0.0, 0.0, 0, 0, 0, 0], [0, 0, 0, 0, 0, 0, 0, 0, 0, 0, 0, 0, 0, 0, 0, 0, 0, 0, 0, 0, 0, 0, 0, 0, 0, 0, 0, 0, 0, 0, 0, 0], [0, 0, 0, 0, 0, 0, 0, 0, 0, 0, 0, 0, 0, 0, 0, 0, 0, 0, 0, 0, 0, 0, 0, 0, 0, 0, 0, 0, 0, 0, 0, 0], [0, 0, 0, 0, 0, 0, 0, 0, 0, 0, 0, 0, 0, 0, 0, 0, 0, 0, 0, 0, 0, 0, 0, 0, 0, 0, 0, 0, 0, 0, 0, 0], [0, 0, 0, 0, 0, 0, 0, 0, 0, 0, 0, 0, 0, 0, 0, 0, 0, 0, 0, 0, 0, 0, 0, 0, 0, 0, 0, 0, 0, 0, 0, 0]]\n"
          ]
        }
      ]
    },
    {
      "cell_type": "code",
      "source": [
        "# Circuit Setting\n",
        "Y_Qubits = QuantumRegister(5, 'y')\n",
        "X_Qubits = QuantumRegister(5, 'x')\n",
        "Probability_Qubit = QuantumRegister(1, 's')\n",
        "Classical_Register = ClassicalRegister(11, 'c')\n",
        "Eleven_Qubits_Encoding = QuantumCircuit(Y_Qubits, X_Qubits, Probability_Qubit, Classical_Register)\n",
        "\n",
        "s = Probability_Qubit\n",
        "y0, y1, y2, y3, y4 = Y_Qubits\n",
        "x0, x1, x2, x3, x4 = X_Qubits\n",
        "\n",
        "# Initial State\n",
        "Eleven_Qubits_Encoding.h(y0)\n",
        "Eleven_Qubits_Encoding.h(y1)\n",
        "Eleven_Qubits_Encoding.h(y2)\n",
        "Eleven_Qubits_Encoding.h(y3)\n",
        "Eleven_Qubits_Encoding.h(y4)\n",
        "Eleven_Qubits_Encoding.h(x0)\n",
        "Eleven_Qubits_Encoding.h(x1)\n",
        "Eleven_Qubits_Encoding.h(x2)\n",
        "Eleven_Qubits_Encoding.h(x3)\n",
        "Eleven_Qubits_Encoding.h(x4)\n",
        "\n",
        "def Binary(i):\n",
        "  num = []\n",
        "  num.append(i%2)\n",
        "  i = i//2\n",
        "  num.append(i%2)\n",
        "  i = i//2\n",
        "  num.append(i%2)\n",
        "  i = i//2\n",
        "  num.append(i%2)\n",
        "  i = i//2\n",
        "  num.append(i%2)\n",
        "\n",
        "  rot = []\n",
        "  for j in range(5):\n",
        "    rot.append(1-num[4-j])\n",
        "\n",
        "  return rot\n",
        "\n",
        "\n",
        "def Y_Not(lst):\n",
        "  if lst[0]:\n",
        "    Eleven_Qubits_Encoding.x(y0)\n",
        "  if lst[1]:\n",
        "    Eleven_Qubits_Encoding.x(y1)\n",
        "  if lst[2]:\n",
        "    Eleven_Qubits_Encoding.x(y2)\n",
        "  if lst[3]:\n",
        "    Eleven_Qubits_Encoding.x(y3)\n",
        "  if lst[4]:\n",
        "    Eleven_Qubits_Encoding.x(y4)\n",
        "\n",
        "\n",
        "def X_Not(lst):\n",
        "  if lst[0]:\n",
        "    Eleven_Qubits_Encoding.x(x0)\n",
        "  if lst[1]:\n",
        "    Eleven_Qubits_Encoding.x(x1)\n",
        "  if lst[2]:\n",
        "    Eleven_Qubits_Encoding.x(x2)\n",
        "  if lst[3]:\n",
        "    Eleven_Qubits_Encoding.x(x3)\n",
        "  if lst[4]:\n",
        "    Eleven_Qubits_Encoding.x(x4)\n",
        "\n",
        "\n",
        "# Probability Qubit Rotating\n",
        "for i in range(32):\n",
        "  print(i)\n",
        "  for j in range(32):\n",
        "    Rotate = QuantumCircuit(1)\n",
        "    Rotate.rx(2*np.arcsin(np.sqrt(matrix[i][j])), 0)\n",
        "    Ugate = Rotate.to_gate().control(10)\n",
        "\n",
        "    y_rot = Binary(i)\n",
        "    x_rot = Binary(j)\n",
        "\n",
        "    Y_Not(y_rot)\n",
        "    X_Not(x_rot)\n",
        "    Eleven_Qubits_Encoding.append(Ugate, [y0, y1, y2, y3, y4, x0, x1, x2, x3, x4, s])\n",
        "    Y_Not(y_rot)\n",
        "    X_Not(x_rot)\n",
        "\n",
        "\n",
        "Eleven_Qubits_Encoding.measure([0,1,2,3,4,5,6,7,8,9,10], [10,9,8,7,6,5,4,3,2,1,0])"
      ],
      "metadata": {
        "id": "hNmAR4-oP8wG",
        "outputId": "d54f5d1b-1e79-49c9-92a9-244dec62b233",
        "colab": {
          "base_uri": "https://localhost:8080/"
        }
      },
      "execution_count": 26,
      "outputs": [
        {
          "output_type": "stream",
          "name": "stdout",
          "text": [
            "0\n",
            "1\n",
            "2\n",
            "3\n",
            "4\n",
            "5\n",
            "6\n",
            "7\n",
            "8\n",
            "9\n",
            "10\n",
            "11\n",
            "12\n",
            "13\n",
            "14\n",
            "15\n",
            "16\n",
            "17\n",
            "18\n",
            "19\n",
            "20\n",
            "21\n",
            "22\n",
            "23\n",
            "24\n",
            "25\n",
            "26\n",
            "27\n",
            "28\n",
            "29\n",
            "30\n",
            "31\n"
          ]
        },
        {
          "output_type": "execute_result",
          "data": {
            "text/plain": [
              "<qiskit.circuit.instructionset.InstructionSet at 0x7bbad3cbe9b0>"
            ]
          },
          "metadata": {},
          "execution_count": 26
        }
      ]
    },
    {
      "cell_type": "code",
      "source": [
        "job = sampler.run(Eleven_Qubits_Encoding, shots=1000000)\n",
        "result = job.result()\n",
        "cnts = dict(result.quasi_dists[0])\n",
        "\n",
        "# Store Decoded Matrix except for dummy entry\n",
        "Decoded_Matrix = np.zeros((28,28))\n",
        "Decoded_Vector = []\n",
        "for i in range(1024):\n",
        "  if cnts.get(2*i+1)==None:\n",
        "    Decoded_Vector.append(0)\n",
        "  else:\n",
        "    Decoded_Vector.append(1024*max*cnts.get(2*i+1))\n",
        "\n",
        "for i in range(32):\n",
        "  for j in range(32):\n",
        "    if j>27 or i>27:\n",
        "      pass\n",
        "    else:\n",
        "      Decoded_Matrix[i][j] = Decoded_Vector[i*32+j]\n",
        "\n",
        "print(Decoded_Matrix)"
      ],
      "metadata": {
        "id": "npqaa7itP8mp",
        "outputId": "b4a9a619-15cb-47e7-a605-1d0ea5959755",
        "colab": {
          "base_uri": "https://localhost:8080/"
        }
      },
      "execution_count": 27,
      "outputs": [
        {
          "output_type": "stream",
          "name": "stdout",
          "text": [
            "[[  0.        0.        0.        0.        0.        0.        0.\n",
            "    6.00576  75.20256   0.        0.        0.        0.        0.\n",
            "    0.        0.        0.        3.39456   0.       54.05184  29.50656\n",
            "    0.        0.        0.        0.        0.        0.        0.     ]\n",
            " [  0.        0.        0.        0.        0.        0.        0.\n",
            "    0.       86.43072   2.35008   0.        1.82784   0.        0.\n",
            "    0.        0.        0.        5.74464   0.       64.49664  33.42336\n",
            "    0.        0.        0.        0.        0.        0.        0.     ]\n",
            " [  0.        0.        0.        0.        0.        0.        1.82784\n",
            "    0.       49.6128   11.7504    0.        0.        0.        0.\n",
            "    0.        0.        0.        2.6112    0.       48.82944   0.\n",
            "    0.        0.        0.        0.        0.        0.        0.     ]\n",
            " [  0.        0.        0.        0.        0.        0.        1.04448\n",
            "    0.       33.42336 134.4768    0.        0.        0.        0.\n",
            "    0.        0.        0.        0.       91.392   112.2816    0.\n",
            "    2.08896   0.        0.        0.        0.        0.        0.     ]\n",
            " [  0.        0.        0.        0.        0.        0.        1.82784\n",
            "    0.        2.08896 234.22464 120.1152   66.32448  97.65888  90.0864\n",
            "   79.6416   84.34176  95.3088   69.1968  216.46848 117.24288   0.\n",
            "    4.96128   0.        0.        0.        0.        0.        0.     ]\n",
            " [  0.        0.        0.        0.        0.        0.        1.82784\n",
            "    0.       53.00736 200.54016 170.51136  17.75616  22.97856  38.90688\n",
            "   30.28992  48.82944  12.53376  98.70336 191.9232  157.19424   0.\n",
            "    0.        0.        0.        0.        0.        0.        0.     ]\n",
            " [  0.        0.        0.        0.        0.        0.        5.74464\n",
            "    0.      111.49824 207.32928 173.12256 134.21568   6.528     5.48352\n",
            "    7.31136   5.48352  93.74208 191.9232  161.37216 178.34496   0.\n",
            "    0.        0.        0.        0.        0.        0.        0.     ]\n",
            " [  0.        0.        0.        0.        0.        0.        3.65568\n",
            "    0.      118.02624 186.43968 153.79968 184.35072 213.07392 106.27584\n",
            "   77.81376 195.05664 202.89024 150.144   154.84416 202.368     0.\n",
            "    0.        0.        0.        0.        0.        0.        0.     ]\n",
            " [  0.        0.        0.        0.        0.        0.        3.9168\n",
            "    0.      134.99904 198.19008 146.2272  125.85984 174.16704 241.01376\n",
            "  260.33664 214.37952 130.29888 162.41664 161.11104 218.81856   0.\n",
            "    0.        0.        0.        0.        0.        0.        0.     ]\n",
            " [  0.        0.        0.        0.        0.        0.        1.04448\n",
            "    0.      183.82848 190.6176  151.4496  158.23872 134.73792 187.74528\n",
            "  243.88608 142.57152 145.70496 161.37216 164.24448 199.49568   0.\n",
            "    0.        0.        0.        0.        0.        0.        0.     ]\n",
            " [  0.        0.        0.        0.        0.        0.        0.\n",
            "    0.      183.30624 177.82272 159.54432 145.44384 155.10528 148.57728\n",
            "  166.07232 150.66624 150.40512 152.49408 159.54432 206.54592  21.41184\n",
            "    0.        0.        0.        0.        0.        0.        0.     ]\n",
            " [  0.        0.        0.        0.        0.        0.        0.\n",
            "    0.      201.58464 154.58304 143.87712 148.31616 155.3664  157.9776\n",
            "  153.53856 157.45536 159.2832  157.45536 174.42816 206.02368  56.66304\n",
            "    0.        0.        0.        0.        0.        0.        0.     ]\n",
            " [  0.        0.        0.        0.        0.        0.        0.\n",
            "   26.89536 218.0352  150.66624 174.68928 153.01632 155.3664  160.32768\n",
            "  150.92736 157.45536 147.5328  159.80544 156.41088 207.5904  125.85984\n",
            "    0.        0.        0.        0.        0.        0.        0.     ]\n",
            " [  0.        0.        0.        0.        0.        0.        0.\n",
            "   51.44064 225.34656 141.0048  149.62176 161.37216 151.4496  162.67776\n",
            "  154.0608  148.8384  155.62752 167.90016 158.23872 186.96192 150.66624\n",
            "    0.        0.        0.        0.        0.        0.        0.     ]\n",
            " [  0.        0.        0.        0.        0.        0.        0.\n",
            "   75.98592 210.72384 142.04928 166.33344 165.28896 162.67776 166.07232\n",
            "  158.76096 163.98336 149.36064 161.11104 162.67776 181.4784  171.29472\n",
            "    0.        0.        0.        0.        0.        0.        0.     ]\n",
            " [  0.        0.        0.        0.        0.        0.        0.\n",
            "   90.34752 209.41824 144.9216  153.01632 158.23872 156.41088 157.45536\n",
            "  165.55008 156.93312 155.3664  162.41664 162.15552 171.0336  160.32768\n",
            "    0.        0.        0.        0.        0.        0.        0.     ]\n",
            " [  0.        0.        0.        0.        0.        0.        0.\n",
            "  112.02048 204.71808 133.1712  157.71648 154.32192 153.79968 165.02784\n",
            "  167.37792 152.23296 162.15552 159.02208 163.98336 157.45536 193.75104\n",
            "    0.        0.        0.        0.        0.        0.        0.     ]\n",
            " [  0.        0.        0.        0.        0.        0.        0.\n",
            "  142.83264 190.6176  132.64896 157.45536 156.14976 151.97184 158.76096\n",
            "  157.45536 162.15552 155.62752 162.41664 158.76096 155.62752 204.71808\n",
            "    3.65568   0.        0.        0.        0.        0.        0.     ]\n",
            " [  0.        0.        0.        0.        0.        0.        0.\n",
            "  138.13248 196.88448 137.088   172.86144 150.144   143.87712 169.98912\n",
            "  152.23296 167.90016 156.41088 170.51136 173.12256 141.52704 191.40096\n",
            "   23.76192   0.        0.        0.        0.        0.        0.     ]\n",
            " [  0.        0.        0.        0.        0.        0.        0.\n",
            "  143.09376 172.07808 140.48256 155.10528 163.2     151.18848 163.2\n",
            "  161.8944  162.41664 168.94464 156.93312 158.49984 149.09952 181.21728\n",
            "   53.26848   0.        0.        0.        0.        0.        0.     ]\n",
            " [  0.        0.        0.        0.        0.        0.        0.\n",
            "  161.63328 186.17856 140.48256 162.15552 163.46112 154.32192 147.01056\n",
            "  178.60608 158.23872 154.0608  155.10528 172.07808 141.0048  182.00064\n",
            "   71.02464   0.        0.        0.        0.        0.        0.     ]\n",
            " [  0.        0.        0.        0.        0.        0.        0.\n",
            "  167.63904 169.98912 152.23296 160.32768 161.63328 155.10528 151.71072\n",
            "  149.62176 162.67776 147.5328  144.66048 160.5888  144.66048 185.13408\n",
            "   71.808     0.        0.        0.        0.        0.        0.     ]\n",
            " [  0.        0.        0.        0.        0.        0.        0.\n",
            "  177.03936 170.25024 134.99904 154.84416 160.32768 159.80544 165.8112\n",
            "  161.8944  172.86144 162.67776 157.45536 172.07808 151.97184 166.07232\n",
            "   89.56416   0.        0.        0.        0.        0.        0.     ]\n",
            " [  0.        0.        0.        0.        0.        0.        2.08896\n",
            "  182.00064 148.05504 164.24448 169.98912 152.49408 160.5888  165.8112\n",
            "  163.98336 165.02784 158.23872 144.9216  163.46112 152.49408 173.12256\n",
            "  118.28736   0.        0.        0.        0.        0.        0.     ]\n",
            " [  0.        0.        0.        0.        0.        0.        9.1392\n",
            "  180.69504 160.84992 152.49408 151.71072 153.27744 155.88864 159.80544\n",
            "  160.06656 160.84992 141.0048  158.76096 162.41664 150.40512 179.12832\n",
            "  114.10944   0.        0.        0.        0.        0.        0.     ]\n",
            " [  0.        0.        0.        0.        0.        0.       36.5568\n",
            "  179.38944 150.92736 149.62176 175.47264 149.88288 155.88864 167.90016\n",
            "  179.65056 174.9504  148.57728 149.36064 155.10528 154.32192 163.98336\n",
            "  115.41504   0.        0.        0.        0.        0.        0.     ]\n",
            " [  0.        0.        0.        0.        0.        0.       61.62432\n",
            "  215.16288 171.81696 160.06656 204.71808 184.87296 197.66784 193.2288\n",
            "  169.46688 197.92896 180.43392 163.2     166.85568 166.85568 193.48992\n",
            "  141.0048    0.        0.        0.        0.        0.        0.     ]\n",
            " [  0.        0.        0.        0.        0.        0.       14.3616\n",
            "   87.73632   7.05024   0.        0.        6.78912   4.70016   0.\n",
            "    0.        0.        0.        0.        1.82784   1.04448  38.38464\n",
            "   51.96288   0.        0.        0.        0.        0.        0.     ]]\n"
          ]
        }
      ]
    },
    {
      "cell_type": "code",
      "source": [
        "# Original Image\n",
        "plt.imshow(test, interpolation='nearest')\n",
        "plt.show()"
      ],
      "metadata": {
        "id": "YmucUR2SSjvp",
        "outputId": "389bcd80-55a3-433c-af18-7f10967947bb",
        "colab": {
          "base_uri": "https://localhost:8080/",
          "height": 430
        }
      },
      "execution_count": 28,
      "outputs": [
        {
          "output_type": "display_data",
          "data": {
            "text/plain": [
              "<Figure size 640x480 with 1 Axes>"
            ],
            "image/png": "[encoded data removed]"
          },
          "metadata": {}
        }
      ]
    },
    {
      "cell_type": "code",
      "source": [
        "# Recovered Image\n",
        "plt.imshow(Decoded_Matrix, interpolation='nearest')\n",
        "plt.show()"
      ],
      "metadata": {
        "id": "QlPibPQnSjn6",
        "outputId": "14412ba8-8a85-4951-c54c-503d4bb1978d",
        "colab": {
          "base_uri": "https://localhost:8080/",
          "height": 430
        }
      },
      "execution_count": 29,
      "outputs": [
        {
          "output_type": "display_data",
          "data": {
            "text/plain": [
              "<Figure size 640x480 with 1 Axes>"
            ],
            "image/png": "[encoded data removed]"
          },
          "metadata": {}
        }
      ]
    },
    {
      "cell_type": "markdown",
      "source": [
        "2) Image_Test[1]"
      ],
      "metadata": {
        "id": "rmPn9C-nPmdJ"
      }
    },
    {
      "cell_type": "code",
      "source": [
        "# adding dummy pixels to make 32 X 32. Each row and columns 5 qubits.\n",
        "test = images_test[1]\n",
        "max = np.max(test)\n",
        "matrix = []\n",
        "for i in range(28):\n",
        "  row = []\n",
        "  for j in range(28):\n",
        "    row.append(test[i][j]/max)\n",
        "  row.append(0)\n",
        "  row.append(0)\n",
        "  row.append(0)\n",
        "  row.append(0)\n",
        "  matrix.append(row)\n",
        "\n",
        "matrix.append([0,0,0,0,0,0,0,0,0,0,0,0,0,0,0,0,0,0,0,0,0,0,0,0,0,0,0,0,0,0,0,0])\n",
        "matrix.append([0,0,0,0,0,0,0,0,0,0,0,0,0,0,0,0,0,0,0,0,0,0,0,0,0,0,0,0,0,0,0,0])\n",
        "matrix.append([0,0,0,0,0,0,0,0,0,0,0,0,0,0,0,0,0,0,0,0,0,0,0,0,0,0,0,0,0,0,0,0])\n",
        "matrix.append([0,0,0,0,0,0,0,0,0,0,0,0,0,0,0,0,0,0,0,0,0,0,0,0,0,0,0,0,0,0,0,0])\n",
        "\n",
        "print(matrix)"
      ],
      "metadata": {
        "id": "Z27LOvCePgt8",
        "outputId": "6ca5fdab-d34f-46d8-e15a-9b46f265329a",
        "colab": {
          "base_uri": "https://localhost:8080/"
        }
      },
      "execution_count": 30,
      "outputs": [
        {
          "output_type": "stream",
          "name": "stdout",
          "text": [
            "[[0.0, 0.0, 0.0, 0.0, 0.0, 0.0, 0.0, 0.0, 0.0, 0.0, 0.0, 0.0, 0.0, 0.0, 0.0, 0.0, 0.0, 0.0, 0.0, 0.0, 0.0, 0.0, 0.0, 0.0, 0.0, 0.0, 0.0, 0.0, 0, 0, 0, 0], [0.0, 0.0, 0.0, 0.0, 0.0, 0.0, 0.0, 0.0, 0.0, 0.0, 0.0, 0.0, 0.0, 0.0, 0.0, 0.0, 0.0, 0.0, 0.0, 0.0, 0.0, 0.0, 0.0, 0.0, 0.0, 0.0, 0.0, 0.0, 0, 0, 0, 0], [0.0, 0.0, 0.0, 0.0, 0.0, 0.0, 0.0, 0.0, 0.0, 0.0, 0.0, 0.0, 0.0, 0.0, 0.0, 0.0, 0.0, 0.0, 0.0, 0.0, 0.0, 0.0, 0.0, 0.0, 0.0, 0.0, 0.0, 0.0, 0, 0, 0, 0], [0.0, 0.0, 0.0, 0.0, 0.0, 0.0, 0.0, 0.0, 0.0, 0.0, 0.0, 0.0, 0.0, 0.0, 0.0, 0.0, 0.0, 0.0, 0.0, 0.0, 0.0, 0.0, 0.0, 0.0, 0.0, 0.0, 0.0, 0.0, 0, 0, 0, 0], [0.0, 0.0, 0.0, 0.0, 0.0, 0.0, 0.0, 0.0, 0.0, 0.0, 0.0, 0.0, 0.0, 0.0, 0.0, 0.0, 0.0, 0.0, 0.0, 0.0, 0.0, 0.0, 0.0, 0.0, 0.0, 0.0, 0.0, 0.0, 0, 0, 0, 0], [0.0, 0.0, 0.0, 0.0, 0.0, 0.0, 0.0, 0.0, 0.0, 0.0, 0.0, 0.0, 0.0, 0.0, 0.0, 0.0, 0.0, 0.0, 0.0, 0.0, 0.0, 0.0, 0.0, 0.0, 0.0, 0.0, 0.0, 0.0, 0, 0, 0, 0], [0.0, 0.0, 0.0, 0.0, 0.0, 0.0, 0.0, 0.0, 0.0, 0.0, 0.0, 0.0, 0.0, 0.0, 0.0, 0.0, 0.0, 0.0, 0.0, 0.0, 0.0, 0.0, 0.0, 0.0, 0.0, 0.0, 0.0, 0.0, 0, 0, 0, 0], [0.0, 0.0, 0.0, 0.0, 0.0, 0.0, 0.0, 0.0, 0.0, 0.0, 0.0, 0.0, 0.0, 0.0, 0.0, 0.0, 0.0, 0.0, 0.0, 0.0, 0.0, 0.0, 0.0, 0.0, 0.0, 0.0, 0.0, 0.0, 0, 0, 0, 0], [0.0, 0.0, 0.0, 0.0, 0.0, 0.0, 0.0, 0.0, 0.0, 0.0, 0.0, 0.0, 0.0, 0.0, 0.0, 0.0, 0.01568627450980392, 0.21176470588235294, 0.11764705882352941, 0.0784313725490196, 0.10588235294117647, 0.08235294117647059, 0.0, 0.0, 0.0, 0.0, 0.0, 0.0, 0, 0, 0, 0], [0.0, 0.0, 0.0, 0.0, 0.0, 0.0, 0.0, 0.0, 0.0, 0.0, 0.0, 0.00392156862745098, 0.00392156862745098, 0.00784313725490196, 0.03137254901960784, 0.0, 0.22745098039215686, 0.5254901960784314, 0.5411764705882353, 0.6705882352941176, 0.6784313725490196, 0.6588235294117647, 0.6352941176470588, 0.17254901960784313, 0.0, 0.2980392156862745, 0.2235294117647059, 0.0, 0, 0, 0, 0], [0.0, 0.0, 0.0, 0.0, 0.0, 0.0, 0.0, 0.0, 0.011764705882352941, 0.00784313725490196, 0.0, 0.0, 0.0, 0.0, 0.0, 0.0, 0.13333333333333333, 0.34509803921568627, 0.43529411764705883, 0.6470588235294118, 0.5372549019607843, 0.5254901960784314, 0.5725490196078431, 0.5882352941176471, 0.4823529411764706, 0.49411764705882355, 0.09803921568627451, 0.0, 0, 0, 0, 0], [0.0, 0.0, 0.0, 0.00392156862745098, 0.011764705882352941, 0.011764705882352941, 0.01568627450980392, 0.0, 0.0, 0.0, 0.0, 0.0, 0.00392156862745098, 0.0, 0.36470588235294116, 0.4627450980392157, 0.23137254901960785, 0.34509803921568627, 0.26666666666666666, 0.3215686274509804, 0.14901960784313725, 0.21568627450980393, 0.3411764705882353, 0.34901960784313724, 0.41568627450980394, 0.23921568627450981, 0.0, 0.0, 0, 0, 0, 0], [0.00392156862745098, 0.0, 0.0, 0.00392156862745098, 0.0, 0.0, 0.0, 0.0, 0.20784313725490197, 0.09411764705882353, 0.047058823529411764, 0.3568627450980392, 0.4666666666666667, 0.28627450980392155, 0.5254901960784314, 0.4980392156862745, 0.0, 0.08235294117647059, 0.5137254901960784, 0.7058823529411765, 0.3803921568627451, 0.6705882352941176, 0.3215686274509804, 0.09411764705882353, 0.011764705882352941, 0.043137254901960784, 0.0, 0.00392156862745098, 0, 0, 0, 0], [0.00392156862745098, 0.0, 0.011764705882352941, 0.0, 0.20392156862745098, 0.5764705882352941, 0.5294117647058824, 0.5294117647058824, 0.6980392156862745, 0.5215686274509804, 0.5058823529411764, 0.22745098039215686, 0.2901960784313726, 0.5137254901960784, 0.3607843137254902, 0.5137254901960784, 0.47058823529411764, 1.0, 0.7843137254901961, 0.7568627450980392, 0.5607843137254902, 0.6823529411764706, 0.33725490196078434, 0.3803921568627451, 0.011764705882352941, 0.16470588235294117, 0.0, 0.0, 0, 0, 0, 0], [0.0, 0.0, 0.0196078431372549, 0.0, 0.2549019607843137, 0.9098039215686274, 0.48627450980392156, 0.3568627450980392, 0.3764705882352941, 0.5215686274509804, 0.3254901960784314, 0.3215686274509804, 0.41568627450980394, 0.4588235294117647, 0.4666666666666667, 0.5294117647058824, 0.7176470588235294, 0.6941176470588235, 0.5098039215686274, 0.6705882352941176, 0.5686274509803921, 0.6549019607843137, 0.2901960784313726, 0.6901960784313725, 0.6078431372549019, 0.0, 0.00784313725490196, 0.0, 0, 0, 0, 0], [0.011764705882352941, 0.011764705882352941, 0.011764705882352941, 0.0, 0.0, 0.615686274509804, 0.24705882352941178, 0.5058823529411764, 0.5803921568627451, 0.3843137254901961, 0.6509803921568628, 0.4980392156862745, 0.611764705882353, 0.5372549019607843, 0.6039215686274509, 0.5568627450980392, 0.5294117647058824, 0.7254901960784313, 0.4588235294117647, 0.6078431372549019, 0.7176470588235294, 0.803921568627451, 0.00392156862745098, 0.08235294117647059, 0.23137254901960785, 0.0, 0.01568627450980392, 0.0, 0, 0, 0, 0], [0.0, 0.0, 0.0, 0.0392156862745098, 0.16862745098039217, 0.2980392156862745, 0.5725490196078431, 0.5490196078431373, 0.6823529411764706, 0.01568627450980392, 0.20784313725490197, 0.3215686274509804, 0.4, 0.5294117647058824, 0.6509803921568628, 0.4, 0.0, 0.792156862745098, 0.6941176470588235, 0.8392156862745098, 0.6784313725490196, 0.7294117647058823, 0.0, 0.0, 0.0, 0.0, 0.0, 0.0, 0, 0, 0, 0], [0.2823529411764706, 0.19215686274509805, 0.011764705882352941, 0.1803921568627451, 0.7725490196078432, 0.5490196078431373, 0.6078431372549019, 0.6078431372549019, 0.39215686274509803, 0.0, 0.0, 0.0, 0.396078431372549, 0.6, 0.7215686274509804, 0.5764705882352941, 0.0, 0.5254901960784314, 0.8235294117647058, 0.8431372549019608, 0.7568627450980392, 0.788235294117647, 0.16470588235294117, 0.00392156862745098, 0.011764705882352941, 0.0, 0.0, 0.0, 0, 0, 0, 0], [0.1803921568627451, 0.43529411764705883, 0.4666666666666667, 0.4588235294117647, 0.6235294117647059, 0.7058823529411765, 0.7725490196078432, 0.6549019607843137, 0.4470588235294118, 0.43137254901960786, 0.4588235294117647, 0.5372549019607843, 0.8274509803921568, 0.6352941176470588, 0.5764705882352941, 0.6431372549019608, 0.5686274509803921, 0.5568627450980392, 0.5490196078431373, 0.6392156862745098, 0.7294117647058823, 0.6784313725490196, 0.6901960784313725, 0.6980392156862745, 0.7411764705882353, 0.5764705882352941, 0.7490196078431373, 0.23137254901960785, 0, 0, 0, 0], [0.0, 0.0, 0.0196078431372549, 0.09019607843137255, 0.08627450980392157, 0.14901960784313725, 0.23137254901960785, 0.2784313725490196, 0.24705882352941178, 0.26666666666666666, 0.19607843137254902, 0.13725490196078433, 0.027450980392156862, 0.0, 0.0, 0.0, 0.0, 0.0, 0.0, 0.0196078431372549, 0.49411764705882355, 0.3803921568627451, 0.396078431372549, 0.43529411764705883, 0.4549019607843137, 0.43137254901960786, 0.33725490196078434, 0.043137254901960784, 0, 0, 0, 0], [0.0, 0.0, 0.0, 0.0, 0.0, 0.0, 0.0, 0.0, 0.0, 0.0, 0.0, 0.0, 0.0, 0.0, 0.0, 0.0, 0.0, 0.0, 0.0, 0.0, 0.0, 0.0, 0.0, 0.0, 0.0, 0.0, 0.0, 0.0, 0, 0, 0, 0], [0.0, 0.0, 0.0, 0.0, 0.0, 0.0, 0.0, 0.0, 0.0, 0.0, 0.0, 0.0, 0.0, 0.0, 0.0, 0.0, 0.0, 0.0, 0.0, 0.0, 0.0, 0.0, 0.0, 0.0, 0.0, 0.0, 0.0, 0.0, 0, 0, 0, 0], [0.0, 0.0, 0.0, 0.0, 0.0, 0.0, 0.0, 0.0, 0.0, 0.0, 0.0, 0.0, 0.0, 0.0, 0.0, 0.0, 0.0, 0.0, 0.0, 0.0, 0.0, 0.0, 0.0, 0.0, 0.0, 0.0, 0.0, 0.0, 0, 0, 0, 0], [0.0, 0.0, 0.0, 0.0, 0.0, 0.0, 0.0, 0.0, 0.0, 0.0, 0.0, 0.0, 0.0, 0.0, 0.0, 0.0, 0.0, 0.0, 0.0, 0.0, 0.0, 0.0, 0.0, 0.0, 0.0, 0.0, 0.0, 0.0, 0, 0, 0, 0], [0.0, 0.0, 0.0, 0.0, 0.0, 0.0, 0.0, 0.0, 0.0, 0.0, 0.0, 0.0, 0.0, 0.0, 0.0, 0.0, 0.0, 0.0, 0.0, 0.0, 0.0, 0.0, 0.0, 0.0, 0.0, 0.0, 0.0, 0.0, 0, 0, 0, 0], [0.0, 0.0, 0.0, 0.0, 0.0, 0.0, 0.0, 0.0, 0.0, 0.0, 0.0, 0.0, 0.0, 0.0, 0.0, 0.0, 0.0, 0.0, 0.0, 0.0, 0.0, 0.0, 0.0, 0.0, 0.0, 0.0, 0.0, 0.0, 0, 0, 0, 0], [0.0, 0.0, 0.0, 0.0, 0.0, 0.0, 0.0, 0.0, 0.0, 0.0, 0.0, 0.0, 0.0, 0.0, 0.0, 0.0, 0.0, 0.0, 0.0, 0.0, 0.0, 0.0, 0.0, 0.0, 0.0, 0.0, 0.0, 0.0, 0, 0, 0, 0], [0.0, 0.0, 0.0, 0.0, 0.0, 0.0, 0.0, 0.0, 0.0, 0.0, 0.0, 0.0, 0.0, 0.0, 0.0, 0.0, 0.0, 0.0, 0.0, 0.0, 0.0, 0.0, 0.0, 0.0, 0.0, 0.0, 0.0, 0.0, 0, 0, 0, 0], [0, 0, 0, 0, 0, 0, 0, 0, 0, 0, 0, 0, 0, 0, 0, 0, 0, 0, 0, 0, 0, 0, 0, 0, 0, 0, 0, 0, 0, 0, 0, 0], [0, 0, 0, 0, 0, 0, 0, 0, 0, 0, 0, 0, 0, 0, 0, 0, 0, 0, 0, 0, 0, 0, 0, 0, 0, 0, 0, 0, 0, 0, 0, 0], [0, 0, 0, 0, 0, 0, 0, 0, 0, 0, 0, 0, 0, 0, 0, 0, 0, 0, 0, 0, 0, 0, 0, 0, 0, 0, 0, 0, 0, 0, 0, 0], [0, 0, 0, 0, 0, 0, 0, 0, 0, 0, 0, 0, 0, 0, 0, 0, 0, 0, 0, 0, 0, 0, 0, 0, 0, 0, 0, 0, 0, 0, 0, 0]]\n"
          ]
        }
      ]
    },
    {
      "cell_type": "code",
      "source": [
        "# Circuit Setting\n",
        "Y_Qubits = QuantumRegister(5, 'y')\n",
        "X_Qubits = QuantumRegister(5, 'x')\n",
        "Probability_Qubit = QuantumRegister(1, 's')\n",
        "Classical_Register = ClassicalRegister(11, 'c')\n",
        "Eleven_Qubits_Encoding = QuantumCircuit(Y_Qubits, X_Qubits, Probability_Qubit, Classical_Register)\n",
        "\n",
        "s = Probability_Qubit\n",
        "y0, y1, y2, y3, y4 = Y_Qubits\n",
        "x0, x1, x2, x3, x4 = X_Qubits\n",
        "\n",
        "# Initial State\n",
        "Eleven_Qubits_Encoding.h(y0)\n",
        "Eleven_Qubits_Encoding.h(y1)\n",
        "Eleven_Qubits_Encoding.h(y2)\n",
        "Eleven_Qubits_Encoding.h(y3)\n",
        "Eleven_Qubits_Encoding.h(y4)\n",
        "Eleven_Qubits_Encoding.h(x0)\n",
        "Eleven_Qubits_Encoding.h(x1)\n",
        "Eleven_Qubits_Encoding.h(x2)\n",
        "Eleven_Qubits_Encoding.h(x3)\n",
        "Eleven_Qubits_Encoding.h(x4)\n",
        "\n",
        "def Binary(i):\n",
        "  num = []\n",
        "  num.append(i%2)\n",
        "  i = i//2\n",
        "  num.append(i%2)\n",
        "  i = i//2\n",
        "  num.append(i%2)\n",
        "  i = i//2\n",
        "  num.append(i%2)\n",
        "  i = i//2\n",
        "  num.append(i%2)\n",
        "\n",
        "  rot = []\n",
        "  for j in range(5):\n",
        "    rot.append(1-num[4-j])\n",
        "\n",
        "  return rot\n",
        "\n",
        "\n",
        "def Y_Not(lst):\n",
        "  if lst[0]:\n",
        "    Eleven_Qubits_Encoding.x(y0)\n",
        "  if lst[1]:\n",
        "    Eleven_Qubits_Encoding.x(y1)\n",
        "  if lst[2]:\n",
        "    Eleven_Qubits_Encoding.x(y2)\n",
        "  if lst[3]:\n",
        "    Eleven_Qubits_Encoding.x(y3)\n",
        "  if lst[4]:\n",
        "    Eleven_Qubits_Encoding.x(y4)\n",
        "\n",
        "\n",
        "def X_Not(lst):\n",
        "  if lst[0]:\n",
        "    Eleven_Qubits_Encoding.x(x0)\n",
        "  if lst[1]:\n",
        "    Eleven_Qubits_Encoding.x(x1)\n",
        "  if lst[2]:\n",
        "    Eleven_Qubits_Encoding.x(x2)\n",
        "  if lst[3]:\n",
        "    Eleven_Qubits_Encoding.x(x3)\n",
        "  if lst[4]:\n",
        "    Eleven_Qubits_Encoding.x(x4)\n",
        "\n",
        "\n",
        "# Probability Qubit Rotating\n",
        "for i in range(32):\n",
        "  print(i)\n",
        "  for j in range(32):\n",
        "    Rotate = QuantumCircuit(1)\n",
        "    Rotate.rx(2*np.arcsin(np.sqrt(matrix[i][j])), 0)\n",
        "    Ugate = Rotate.to_gate().control(10)\n",
        "\n",
        "    y_rot = Binary(i)\n",
        "    x_rot = Binary(j)\n",
        "\n",
        "    Y_Not(y_rot)\n",
        "    X_Not(x_rot)\n",
        "    Eleven_Qubits_Encoding.append(Ugate, [y0, y1, y2, y3, y4, x0, x1, x2, x3, x4, s])\n",
        "    Y_Not(y_rot)\n",
        "    X_Not(x_rot)\n",
        "\n",
        "\n",
        "Eleven_Qubits_Encoding.measure([0,1,2,3,4,5,6,7,8,9,10], [10,9,8,7,6,5,4,3,2,1,0])"
      ],
      "metadata": {
        "id": "mS7WlgD9S-w7",
        "outputId": "8c9eec36-5a99-4605-9447-5bc4383c4e39",
        "colab": {
          "base_uri": "https://localhost:8080/"
        }
      },
      "execution_count": 31,
      "outputs": [
        {
          "output_type": "stream",
          "name": "stdout",
          "text": [
            "0\n",
            "1\n",
            "2\n",
            "3\n",
            "4\n",
            "5\n",
            "6\n",
            "7\n",
            "8\n",
            "9\n",
            "10\n",
            "11\n",
            "12\n",
            "13\n",
            "14\n",
            "15\n",
            "16\n",
            "17\n",
            "18\n",
            "19\n",
            "20\n",
            "21\n",
            "22\n",
            "23\n",
            "24\n",
            "25\n",
            "26\n",
            "27\n",
            "28\n",
            "29\n",
            "30\n",
            "31\n"
          ]
        },
        {
          "output_type": "execute_result",
          "data": {
            "text/plain": [
              "<qiskit.circuit.instructionset.InstructionSet at 0x7bbace3bd6f0>"
            ]
          },
          "metadata": {},
          "execution_count": 31
        }
      ]
    },
    {
      "cell_type": "code",
      "source": [
        "job = sampler.run(Eleven_Qubits_Encoding, shots=1000000)\n",
        "result = job.result()\n",
        "cnts = dict(result.quasi_dists[0])\n",
        "\n",
        "# Store Decoded Matrix except for dummy entry\n",
        "Decoded_Matrix = np.zeros((28,28))\n",
        "Decoded_Vector = []\n",
        "for i in range(1024):\n",
        "  if cnts.get(2*i+1)==None:\n",
        "    Decoded_Vector.append(0)\n",
        "  else:\n",
        "    Decoded_Vector.append(1024*max*cnts.get(2*i+1))\n",
        "\n",
        "for i in range(32):\n",
        "  for j in range(32):\n",
        "    if j>27 or i>27:\n",
        "      pass\n",
        "    else:\n",
        "      Decoded_Matrix[i][j] = Decoded_Vector[i*32+j]\n",
        "\n",
        "print(Decoded_Matrix)"
      ],
      "metadata": {
        "id": "mQroSCPeS-nG",
        "outputId": "227a7d66-25d3-454b-b896-a1b0d8fc7615",
        "colab": {
          "base_uri": "https://localhost:8080/"
        }
      },
      "execution_count": 32,
      "outputs": [
        {
          "output_type": "stream",
          "name": "stdout",
          "text": [
            "[[  0.        0.        0.        0.        0.        0.        0.\n",
            "    0.        0.        0.        0.        0.        0.        0.\n",
            "    0.        0.        0.        0.        0.        0.        0.\n",
            "    0.        0.        0.        0.        0.        0.        0.     ]\n",
            " [  0.        0.        0.        0.        0.        0.        0.\n",
            "    0.        0.        0.        0.        0.        0.        0.\n",
            "    0.        0.        0.        0.        0.        0.        0.\n",
            "    0.        0.        0.        0.        0.        0.        0.     ]\n",
            " [  0.        0.        0.        0.        0.        0.        0.\n",
            "    0.        0.        0.        0.        0.        0.        0.\n",
            "    0.        0.        0.        0.        0.        0.        0.\n",
            "    0.        0.        0.        0.        0.        0.        0.     ]\n",
            " [  0.        0.        0.        0.        0.        0.        0.\n",
            "    0.        0.        0.        0.        0.        0.        0.\n",
            "    0.        0.        0.        0.        0.        0.        0.\n",
            "    0.        0.        0.        0.        0.        0.        0.     ]\n",
            " [  0.        0.        0.        0.        0.        0.        0.\n",
            "    0.        0.        0.        0.        0.        0.        0.\n",
            "    0.        0.        0.        0.        0.        0.        0.\n",
            "    0.        0.        0.        0.        0.        0.        0.     ]\n",
            " [  0.        0.        0.        0.        0.        0.        0.\n",
            "    0.        0.        0.        0.        0.        0.        0.\n",
            "    0.        0.        0.        0.        0.        0.        0.\n",
            "    0.        0.        0.        0.        0.        0.        0.     ]\n",
            " [  0.        0.        0.        0.        0.        0.        0.\n",
            "    0.        0.        0.        0.        0.        0.        0.\n",
            "    0.        0.        0.        0.        0.        0.        0.\n",
            "    0.        0.        0.        0.        0.        0.        0.     ]\n",
            " [  0.        0.        0.        0.        0.        0.        0.\n",
            "    0.        0.        0.        0.        0.        0.        0.\n",
            "    0.        0.        0.        0.        0.        0.        0.\n",
            "    0.        0.        0.        0.        0.        0.        0.     ]\n",
            " [  0.        0.        0.        0.        0.        0.        0.\n",
            "    0.        0.        0.        0.        0.        0.        0.\n",
            "    0.        0.        5.48352  60.84096  34.20672  19.32288  22.71744\n",
            "   20.10624   0.        0.        0.        0.        0.        0.     ]\n",
            " [  0.        0.        0.        0.        0.        0.        0.\n",
            "    0.        0.        0.        0.        0.78336   1.3056    2.08896\n",
            "    8.35584   0.       57.18528 129.51552 144.9216  179.38944 163.98336\n",
            "  159.02208 158.23872  48.82944   0.       79.11936  64.49664   0.     ]\n",
            " [  0.        0.        0.        0.        0.        0.        0.\n",
            "    0.        2.6112    1.56672   0.        0.        0.        0.\n",
            "    0.        0.       35.51232  84.08064 113.5872  157.71648 135.26016\n",
            "  137.61024 142.83264 140.74368 123.50976 126.6432   28.46208   0.     ]\n",
            " [  0.        0.        0.        1.04448   1.82784   2.08896   6.00576\n",
            "    0.        0.        0.        0.        0.        1.82784   0.\n",
            "   93.21984 117.504    64.75776  95.3088   63.19104  83.29728  36.5568\n",
            "   51.70176  99.74784  86.69184 111.75936  57.18528   0.        0.     ]\n",
            " [  0.        0.        0.        1.3056    0.        0.        0.\n",
            "    0.       53.00736  26.37312  14.10048  83.81952 122.20416  71.02464\n",
            "  131.8656  114.8928    0.       20.36736 111.75936 175.73376  92.6976\n",
            "  165.02784  76.50816  22.45632   2.35008   9.1392    0.        1.04448]\n",
            " [  0.52224   0.        4.17792   0.       52.48512 143.87712 137.61024\n",
            "  138.3936  171.55584 130.03776 126.6432   65.01888  65.80224 139.96032\n",
            "   90.0864  133.95456 124.29312 253.2864  188.78976 185.65632 149.88288\n",
            "  175.73376  79.38048 109.14816   2.6112   36.03456   0.        0.     ]\n",
            " [  0.        0.        6.00576   0.       63.19104 231.0912  119.59296\n",
            "   95.56992 100.00896 124.55424  79.90272  78.59712 107.32032 115.41504\n",
            "  123.50976 142.3104  189.05088 178.08384 128.73216 167.90016 154.84416\n",
            "  169.98912  76.50816 179.12832 163.46112   0.        3.13344   0.     ]\n",
            " [  3.13344   4.43904   3.13344   0.        0.      155.88864  62.40768\n",
            "  133.1712  151.18848 102.09792 165.02784 132.12672 157.9776  131.34336\n",
            "  150.92736 149.09952 132.12672 177.82272 123.50976 142.3104  188.26752\n",
            "  200.54016   1.3056   20.62848  61.62432   0.        2.35008   0.     ]\n",
            " [  0.        0.        0.       10.96704  43.86816  66.06336 150.144\n",
            "  126.38208 180.43392   4.70016  49.09056  80.16384 101.8368  146.74944\n",
            "  169.20576 102.35904   0.      203.6736  175.21152 216.99072 183.56736\n",
            "  190.35648   0.        0.        0.        0.        0.        0.     ]\n",
            " [ 71.02464  42.04032   2.87232  45.17376 205.24032 136.30464 157.9776\n",
            "  147.01056 104.70912   0.        0.        0.      108.62592 162.15552\n",
            "  188.78976 149.88288   0.      121.4208  216.99072 216.99072 201.0624\n",
            "  192.96768  48.3072    1.3056    4.17792   0.        0.        0.     ]\n",
            " [ 49.6128  116.1984  120.63744 116.72064 156.41088 171.55584 195.84\n",
            "  162.41664 109.40928 105.7536  114.8928  140.22144 210.2016  147.5328\n",
            "  140.48256 166.07232 134.73792 139.17696 142.3104  163.46112 184.35072\n",
            "  174.9504  175.47264 176.51712 184.87296 140.74368 194.79552  64.75776]\n",
            " [  0.        0.        4.43904  22.1952   21.93408  38.90688  54.57408\n",
            "   67.36896  59.27424  69.71904  50.39616  36.03456   6.26688   0.\n",
            "    0.        0.        0.        0.        0.        5.74464 130.03776\n",
            "   94.78656 103.66464 109.40928 122.98752 100.00896  92.6976   11.22816]\n",
            " [  0.        0.        0.        0.        0.        0.        0.\n",
            "    0.        0.        0.        0.        0.        0.        0.\n",
            "    0.        0.        0.        0.        0.        0.        0.\n",
            "    0.        0.        0.        0.        0.        0.        0.     ]\n",
            " [  0.        0.        0.        0.        0.        0.        0.\n",
            "    0.        0.        0.        0.        0.        0.        0.\n",
            "    0.        0.        0.        0.        0.        0.        0.\n",
            "    0.        0.        0.        0.        0.        0.        0.     ]\n",
            " [  0.        0.        0.        0.        0.        0.        0.\n",
            "    0.        0.        0.        0.        0.        0.        0.\n",
            "    0.        0.        0.        0.        0.        0.        0.\n",
            "    0.        0.        0.        0.        0.        0.        0.     ]\n",
            " [  0.        0.        0.        0.        0.        0.        0.\n",
            "    0.        0.        0.        0.        0.        0.        0.\n",
            "    0.        0.        0.        0.        0.        0.        0.\n",
            "    0.        0.        0.        0.        0.        0.        0.     ]\n",
            " [  0.        0.        0.        0.        0.        0.        0.\n",
            "    0.        0.        0.        0.        0.        0.        0.\n",
            "    0.        0.        0.        0.        0.        0.        0.\n",
            "    0.        0.        0.        0.        0.        0.        0.     ]\n",
            " [  0.        0.        0.        0.        0.        0.        0.\n",
            "    0.        0.        0.        0.        0.        0.        0.\n",
            "    0.        0.        0.        0.        0.        0.        0.\n",
            "    0.        0.        0.        0.        0.        0.        0.     ]\n",
            " [  0.        0.        0.        0.        0.        0.        0.\n",
            "    0.        0.        0.        0.        0.        0.        0.\n",
            "    0.        0.        0.        0.        0.        0.        0.\n",
            "    0.        0.        0.        0.        0.        0.        0.     ]\n",
            " [  0.        0.        0.        0.        0.        0.        0.\n",
            "    0.        0.        0.        0.        0.        0.        0.\n",
            "    0.        0.        0.        0.        0.        0.        0.\n",
            "    0.        0.        0.        0.        0.        0.        0.     ]]\n"
          ]
        }
      ]
    },
    {
      "cell_type": "code",
      "source": [
        "# Original Image\n",
        "plt.imshow(test, interpolation='nearest')\n",
        "plt.show()"
      ],
      "metadata": {
        "id": "UJLOyqfLS-YD",
        "outputId": "bc4cd979-d3e5-41e6-a1ed-91a461ee157b",
        "colab": {
          "base_uri": "https://localhost:8080/",
          "height": 430
        }
      },
      "execution_count": 33,
      "outputs": [
        {
          "output_type": "display_data",
          "data": {
            "text/plain": [
              "<Figure size 640x480 with 1 Axes>"
            ],
            "image/png": "[encoded data removed]"
          },
          "metadata": {}
        }
      ]
    },
    {
      "cell_type": "code",
      "source": [
        "# Recovered Image\n",
        "plt.imshow(Decoded_Matrix, interpolation='nearest')\n",
        "plt.show()"
      ],
      "metadata": {
        "id": "-vSe0-7mS9wM",
        "outputId": "f5a7126b-b251-4e8d-dda4-8ff51d23ad9f",
        "colab": {
          "base_uri": "https://localhost:8080/",
          "height": 430
        }
      },
      "execution_count": 34,
      "outputs": [
        {
          "output_type": "display_data",
          "data": {
            "text/plain": [
              "<Figure size 640x480 with 1 Axes>"
            ],
            "image/png": "[encoded data removed]"
          },
          "metadata": {}
        }
      ]
    },
    {
      "cell_type": "markdown",
      "source": [
        "3) Image_Test[2]"
      ],
      "metadata": {
        "id": "O8b9HU4vPoaF"
      }
    },
    {
      "cell_type": "code",
      "source": [
        "# adding dummy pixels to make 32 X 32. Each row and columns 5 qubits.\n",
        "test = images_test[2]\n",
        "max = np.max(test)\n",
        "matrix = []\n",
        "for i in range(28):\n",
        "  row = []\n",
        "  for j in range(28):\n",
        "    row.append(test[i][j]/max)\n",
        "  row.append(0)\n",
        "  row.append(0)\n",
        "  row.append(0)\n",
        "  row.append(0)\n",
        "  matrix.append(row)\n",
        "\n",
        "matrix.append([0,0,0,0,0,0,0,0,0,0,0,0,0,0,0,0,0,0,0,0,0,0,0,0,0,0,0,0,0,0,0,0])\n",
        "matrix.append([0,0,0,0,0,0,0,0,0,0,0,0,0,0,0,0,0,0,0,0,0,0,0,0,0,0,0,0,0,0,0,0])\n",
        "matrix.append([0,0,0,0,0,0,0,0,0,0,0,0,0,0,0,0,0,0,0,0,0,0,0,0,0,0,0,0,0,0,0,0])\n",
        "matrix.append([0,0,0,0,0,0,0,0,0,0,0,0,0,0,0,0,0,0,0,0,0,0,0,0,0,0,0,0,0,0,0,0])\n",
        "\n",
        "print(matrix)"
      ],
      "metadata": {
        "id": "I2Y_9__vPhDm",
        "outputId": "a81fb34a-bc7c-4ec1-cc2d-b9328c1fc705",
        "colab": {
          "base_uri": "https://localhost:8080/"
        }
      },
      "execution_count": 35,
      "outputs": [
        {
          "output_type": "stream",
          "name": "stdout",
          "text": [
            "[[0.0, 0.0, 0.0, 0.0, 0.0, 0.0, 0.0, 0.0, 0.1568627450980392, 0.36470588235294116, 0.23921568627450981, 0.07450980392156863, 0.050980392156862744, 0.0196078431372549, 0.047058823529411764, 0.09803921568627451, 0.23921568627450981, 0.6039215686274509, 0.47843137254901963, 0.20392156862745098, 0.00392156862745098, 0.0, 0.0, 0.0, 0.0, 0.0, 0.0, 0.0, 0, 0, 0, 0], [0.0, 0.0, 0.0, 0.0, 0.0, 0.03137254901960784, 0.3215686274509804, 0.47843137254901963, 0.5215686274509804, 0.5137254901960784, 0.5450980392156862, 0.5725490196078431, 0.5137254901960784, 0.5058823529411764, 0.5058823529411764, 0.5411764705882353, 0.6431372549019608, 0.6078431372549019, 0.44313725490196076, 0.5803921568627451, 0.6078431372549019, 0.42745098039215684, 0.08627450980392157, 0.0, 0.0, 0.0, 0.0, 0.0, 0, 0, 0, 0], [0.0, 0.0, 0.0, 0.0, 0.050980392156862744, 0.49411764705882355, 0.43137254901960786, 0.4117647058823529, 0.40784313725490196, 0.42745098039215684, 0.42745098039215684, 0.48627450980392156, 0.49411764705882355, 0.5725490196078431, 0.5333333333333333, 0.5686274509803921, 0.5843137254901961, 0.39215686274509803, 0.41568627450980394, 0.4, 0.4117647058823529, 0.4549019607843137, 0.5333333333333333, 0.06274509803921569, 0.0, 0.0, 0.0, 0.0, 0, 0, 0, 0], [0.0, 0.0, 0.0, 0.0, 0.41568627450980394, 0.4117647058823529, 0.38823529411764707, 0.4, 0.4117647058823529, 0.4117647058823529, 0.41568627450980394, 0.4196078431372549, 0.4392156862745098, 0.5019607843137255, 0.5019607843137255, 0.42745098039215684, 0.3607843137254902, 0.3843137254901961, 0.38823529411764707, 0.3843137254901961, 0.396078431372549, 0.3764705882352941, 0.38823529411764707, 0.41568627450980394, 0.0, 0.0, 0.0, 0.0, 0, 0, 0, 0], [0.0, 0.0, 0.0, 0.22745098039215686, 0.4, 0.40784313725490196, 0.3764705882352941, 0.38823529411764707, 0.38823529411764707, 0.4117647058823529, 0.3607843137254902, 0.3176470588235294, 0.30196078431372547, 0.3137254901960784, 0.3137254901960784, 0.3058823529411765, 0.3568627450980392, 0.3764705882352941, 0.4, 0.3607843137254902, 0.34509803921568627, 0.396078431372549, 0.3803921568627451, 0.4392156862745098, 0.09803921568627451, 0.0, 0.0, 0.0, 0, 0, 0, 0], [0.0, 0.0, 0.0, 0.12549019607843137, 0.47058823529411764, 0.396078431372549, 0.43137254901960786, 0.36470588235294116, 0.36470588235294116, 0.3254901960784314, 0.3686274509803922, 0.4823529411764706, 0.5058823529411764, 0.6078431372549019, 0.4823529411764706, 0.3137254901960784, 0.33725490196078434, 0.3137254901960784, 0.34509803921568627, 0.3607843137254902, 0.3176470588235294, 0.3568627450980392, 0.3843137254901961, 0.4, 0.3686274509803922, 0.0, 0.0, 0.0, 0, 0, 0, 0], [0.0, 0.0, 0.0, 0.0, 0.07450980392156863, 0.4588235294117647, 0.49411764705882355, 0.3607843137254902, 0.3058823529411765, 0.45098039215686275, 0.615686274509804, 0.7019607843137254, 0.5215686274509804, 0.5254901960784314, 0.3176470588235294, 0.5176470588235295, 0.8156862745098039, 0.3254901960784314, 0.3176470588235294, 0.3333333333333333, 0.3176470588235294, 0.3803921568627451, 0.4470588235294118, 0.42745098039215684, 0.0, 0.0, 0.0, 0.0, 0, 0, 0, 0], [0.0, 0.0, 0.0, 0.0, 0.0, 0.0, 0.5843137254901961, 0.4823529411764706, 0.2901960784313726, 0.6431372549019608, 0.5764705882352941, 0.3137254901960784, 0.23529411764705882, 0.4470588235294118, 0.4745098039215686, 0.2196078431372549, 0.5098039215686274, 0.6352941176470588, 0.3568627450980392, 0.29411764705882354, 0.32941176470588235, 0.5843137254901961, 0.38823529411764707, 0.0, 0.0, 0.0, 0.0, 0.0, 0, 0, 0, 0], [0.0, 0.0, 0.0, 0.0, 0.0, 0.0, 0.03529411764705882, 0.396078431372549, 0.5058823529411764, 0.6039215686274509, 0.20392156862745098, 0.2627450980392157, 0.32941176470588235, 0.30196078431372547, 0.9647058823529412, 0.34509803921568627, 0.16862745098039217, 0.5411764705882353, 0.4549019607843137, 0.28627450980392155, 0.36470588235294116, 0.25098039215686274, 0.0, 0.0, 0.0, 0.0, 0.0, 0.0, 0, 0, 0, 0], [0.0, 0.0, 0.0, 0.0, 0.0, 0.0, 0.0, 0.2235294117647059, 0.596078431372549, 0.4745098039215686, 0.48627450980392156, 0.36470588235294116, 0.2, 0.13725490196078433, 0.5843137254901961, 1.0, 0.23529411764705882, 0.40784313725490196, 0.6509803921568628, 0.30196078431372547, 0.28627450980392155, 0.0, 0.0, 0.0, 0.0, 0.0, 0.0, 0.0, 0, 0, 0, 0], [0.0, 0.0, 0.0, 0.0, 0.0, 0.0, 0.0, 0.2196078431372549, 0.5372549019607843, 0.2980392156862745, 0.5058823529411764, 0.803921568627451, 0.7372549019607844, 0.09803921568627451, 0.4235294117647059, 0.8352941176470589, 0.16470588235294117, 0.3333333333333333, 0.6705882352941176, 0.35294117647058826, 0.2901960784313726, 0.0, 0.0, 0.00392156862745098, 0.0, 0.0, 0.0, 0.0, 0, 0, 0, 0], [0.0, 0.0, 0.0, 0.0, 0.0, 0.00392156862745098, 0.0, 0.16862745098039217, 0.41568627450980394, 0.3254901960784314, 0.26666666666666666, 0.2, 0.6588235294117647, 0.7098039215686275, 0.8313725490196079, 0.7294117647058823, 0.1803921568627451, 0.3137254901960784, 0.18823529411764706, 0.34901960784313724, 0.27058823529411763, 0.0, 0.0, 0.00392156862745098, 0.0, 0.0, 0.0, 0.0, 0, 0, 0, 0], [0.0, 0.0, 0.0, 0.0, 0.0, 0.00392156862745098, 0.0, 0.12549019607843137, 0.4745098039215686, 0.3607843137254902, 0.3686274509803922, 0.33725490196078434, 0.09803921568627451, 0.6274509803921569, 0.9098039215686274, 0.18823529411764706, 0.26666666666666666, 0.33725490196078434, 0.2901960784313726, 0.3764705882352941, 0.26666666666666666, 0.0, 0.0, 0.0, 0.0, 0.0, 0.0, 0.0, 0, 0, 0, 0], [0.0, 0.0, 0.0, 0.0, 0.0, 0.00392156862745098, 0.0, 0.08627450980392157, 0.4549019607843137, 0.35294117647058826, 0.35294117647058826, 0.3686274509803922, 0.16470588235294117, 0.6980392156862745, 0.5411764705882353, 0.20784313725490197, 0.30196078431372547, 0.34509803921568627, 0.29411764705882354, 0.3607843137254902, 0.2627450980392157, 0.0, 0.0, 0.0, 0.0, 0.0, 0.0, 0.0, 0, 0, 0, 0], [0.0, 0.0, 0.0, 0.0, 0.0, 0.00392156862745098, 0.0, 0.054901960784313725, 0.4588235294117647, 0.34509803921568627, 0.34509803921568627, 0.35294117647058826, 0.20392156862745098, 0.8549019607843137, 0.3568627450980392, 0.26666666666666666, 0.33725490196078434, 0.3137254901960784, 0.29411764705882354, 0.3333333333333333, 0.26666666666666666, 0.0, 0.0, 0.0, 0.0, 0.0, 0.0, 0.0, 0, 0, 0, 0], [0.0, 0.0, 0.0, 0.0, 0.0, 0.00392156862745098, 0.0, 0.050980392156862744, 0.4588235294117647, 0.3254901960784314, 0.33725490196078434, 0.3764705882352941, 0.2235294117647059, 0.8235294117647058, 0.4, 0.25098039215686274, 0.3254901960784314, 0.33725490196078434, 0.3215686274509804, 0.3254901960784314, 0.28627450980392155, 0.0, 0.0, 0.0, 0.0, 0.0, 0.0, 0.0, 0, 0, 0, 0], [0.0, 0.0, 0.0, 0.0, 0.0, 0.0, 0.0, 0.06666666666666667, 0.45098039215686275, 0.3058823529411765, 0.32941176470588235, 0.32941176470588235, 0.22745098039215686, 0.45098039215686275, 0.5176470588235295, 0.2549019607843137, 0.28627450980392155, 0.23921568627450981, 0.3137254901960784, 0.3254901960784314, 0.2627450980392157, 0.0, 0.0, 0.0, 0.0, 0.0, 0.0, 0.0, 0, 0, 0, 0], [0.0, 0.0, 0.0, 0.0, 0.0, 0.0, 0.0, 0.06274509803921569, 0.49411764705882355, 0.47058823529411764, 0.5529411764705883, 0.6274509803921569, 0.611764705882353, 0.596078431372549, 0.611764705882353, 0.6470588235294118, 0.596078431372549, 0.6078431372549019, 0.2823529411764706, 0.32941176470588235, 0.26666666666666666, 0.0, 0.0, 0.0, 0.0, 0.0, 0.0, 0.0, 0, 0, 0, 0], [0.0, 0.0, 0.0, 0.0, 0.0, 0.0, 0.0, 0.07058823529411765, 0.4627450980392157, 0.49411764705882355, 0.5058823529411764, 0.5333333333333333, 0.4235294117647059, 0.4823529411764706, 0.5411764705882353, 0.4627450980392157, 0.5647058823529412, 0.6274509803921569, 0.27450980392156865, 0.3333333333333333, 0.27058823529411763, 0.0, 0.0, 0.0, 0.0, 0.0, 0.0, 0.0, 0, 0, 0, 0], [0.0, 0.0, 0.0, 0.0, 0.0, 0.0, 0.0, 0.07058823529411765, 0.4588235294117647, 0.2901960784313726, 0.2980392156862745, 0.30196078431372547, 0.3254901960784314, 0.2823529411764706, 0.27058823529411763, 0.3058823529411765, 0.25882352941176473, 0.3058823529411765, 0.33725490196078434, 0.34509803921568627, 0.27058823529411763, 0.0, 0.0, 0.0, 0.0, 0.0, 0.0, 0.0, 0, 0, 0, 0], [0.0, 0.0, 0.0, 0.0, 0.0, 0.00392156862745098, 0.0, 0.07450980392156863, 0.4745098039215686, 0.3568627450980392, 0.38823529411764707, 0.38823529411764707, 0.3803921568627451, 0.3607843137254902, 0.3568627450980392, 0.3568627450980392, 0.35294117647058826, 0.34509803921568627, 0.34509803921568627, 0.3215686274509804, 0.2823529411764706, 0.0, 0.0, 0.0, 0.0, 0.0, 0.0, 0.0, 0, 0, 0, 0], [0.0, 0.0, 0.0, 0.0, 0.0, 0.00392156862745098, 0.0, 0.07058823529411765, 0.4745098039215686, 0.35294117647058826, 0.3803921568627451, 0.3764705882352941, 0.3607843137254902, 0.34509803921568627, 0.32941176470588235, 0.35294117647058826, 0.3568627450980392, 0.35294117647058826, 0.35294117647058826, 0.35294117647058826, 0.28627450980392155, 0.0, 0.0, 0.0, 0.0, 0.0, 0.0, 0.0, 0, 0, 0, 0], [0.0, 0.0, 0.0, 0.0, 0.0, 0.00392156862745098, 0.0, 0.07058823529411765, 0.4745098039215686, 0.35294117647058826, 0.3803921568627451, 0.38823529411764707, 0.38823529411764707, 0.3607843137254902, 0.36470588235294116, 0.3843137254901961, 0.3568627450980392, 0.3803921568627451, 0.36470588235294116, 0.3568627450980392, 0.3215686274509804, 0.0, 0.0, 0.00392156862745098, 0.0, 0.0, 0.0, 0.0, 0, 0, 0, 0], [0.0, 0.0, 0.0, 0.0, 0.0, 0.0, 0.0, 0.06666666666666667, 0.49019607843137253, 0.3568627450980392, 0.3803921568627451, 0.4, 0.3843137254901961, 0.3568627450980392, 0.35294117647058826, 0.3764705882352941, 0.3568627450980392, 0.38823529411764707, 0.3686274509803922, 0.3254901960784314, 0.3568627450980392, 0.0, 0.0, 0.00392156862745098, 0.0, 0.0, 0.0, 0.0, 0, 0, 0, 0], [0.0, 0.0, 0.0, 0.0, 0.0, 0.0, 0.0, 0.06274509803921569, 0.49411764705882355, 0.36470588235294116, 0.38823529411764707, 0.41568627450980394, 0.3803921568627451, 0.36470588235294116, 0.3568627450980392, 0.3568627450980392, 0.3803921568627451, 0.39215686274509803, 0.39215686274509803, 0.36470588235294116, 0.4, 0.011764705882352941, 0.0, 0.00392156862745098, 0.0, 0.0, 0.0, 0.0, 0, 0, 0, 0], [0.0, 0.0, 0.0, 0.0, 0.0, 0.0, 0.0, 0.047058823529411764, 0.47843137254901963, 0.3843137254901961, 0.39215686274509803, 0.42745098039215684, 0.3843137254901961, 0.3568627450980392, 0.3764705882352941, 0.35294117647058826, 0.38823529411764707, 0.3843137254901961, 0.39215686274509803, 0.3607843137254902, 0.38823529411764707, 0.0196078431372549, 0.0, 0.00392156862745098, 0.0, 0.0, 0.0, 0.0, 0, 0, 0, 0], [0.0, 0.0, 0.0, 0.0, 0.0, 0.00392156862745098, 0.0, 0.054901960784313725, 0.5803921568627451, 0.41568627450980394, 0.47058823529411764, 0.49019607843137253, 0.4117647058823529, 0.38823529411764707, 0.4196078431372549, 0.396078431372549, 0.41568627450980394, 0.44313725490196076, 0.4588235294117647, 0.4392156862745098, 0.45098039215686275, 0.03529411764705882, 0.0, 0.00392156862745098, 0.0, 0.0, 0.0, 0.0, 0, 0, 0, 0], [0.0, 0.0, 0.0, 0.0, 0.0, 0.0, 0.0, 0.0, 0.23921568627450981, 0.2627450980392157, 0.29411764705882354, 0.35294117647058826, 0.34509803921568627, 0.33725490196078434, 0.3254901960784314, 0.3137254901960784, 0.3176470588235294, 0.2823529411764706, 0.2823529411764706, 0.2980392156862745, 0.1803921568627451, 0.0, 0.0, 0.0, 0.0, 0.0, 0.0, 0.0, 0, 0, 0, 0], [0, 0, 0, 0, 0, 0, 0, 0, 0, 0, 0, 0, 0, 0, 0, 0, 0, 0, 0, 0, 0, 0, 0, 0, 0, 0, 0, 0, 0, 0, 0, 0], [0, 0, 0, 0, 0, 0, 0, 0, 0, 0, 0, 0, 0, 0, 0, 0, 0, 0, 0, 0, 0, 0, 0, 0, 0, 0, 0, 0, 0, 0, 0, 0], [0, 0, 0, 0, 0, 0, 0, 0, 0, 0, 0, 0, 0, 0, 0, 0, 0, 0, 0, 0, 0, 0, 0, 0, 0, 0, 0, 0, 0, 0, 0, 0], [0, 0, 0, 0, 0, 0, 0, 0, 0, 0, 0, 0, 0, 0, 0, 0, 0, 0, 0, 0, 0, 0, 0, 0, 0, 0, 0, 0, 0, 0, 0, 0]]\n"
          ]
        }
      ]
    },
    {
      "cell_type": "code",
      "source": [
        "# Circuit Setting\n",
        "Y_Qubits = QuantumRegister(5, 'y')\n",
        "X_Qubits = QuantumRegister(5, 'x')\n",
        "Probability_Qubit = QuantumRegister(1, 's')\n",
        "Classical_Register = ClassicalRegister(11, 'c')\n",
        "Eleven_Qubits_Encoding = QuantumCircuit(Y_Qubits, X_Qubits, Probability_Qubit, Classical_Register)\n",
        "\n",
        "s = Probability_Qubit\n",
        "y0, y1, y2, y3, y4 = Y_Qubits\n",
        "x0, x1, x2, x3, x4 = X_Qubits\n",
        "\n",
        "# Initial State\n",
        "Eleven_Qubits_Encoding.h(y0)\n",
        "Eleven_Qubits_Encoding.h(y1)\n",
        "Eleven_Qubits_Encoding.h(y2)\n",
        "Eleven_Qubits_Encoding.h(y3)\n",
        "Eleven_Qubits_Encoding.h(y4)\n",
        "Eleven_Qubits_Encoding.h(x0)\n",
        "Eleven_Qubits_Encoding.h(x1)\n",
        "Eleven_Qubits_Encoding.h(x2)\n",
        "Eleven_Qubits_Encoding.h(x3)\n",
        "Eleven_Qubits_Encoding.h(x4)\n",
        "\n",
        "def Binary(i):\n",
        "  num = []\n",
        "  num.append(i%2)\n",
        "  i = i//2\n",
        "  num.append(i%2)\n",
        "  i = i//2\n",
        "  num.append(i%2)\n",
        "  i = i//2\n",
        "  num.append(i%2)\n",
        "  i = i//2\n",
        "  num.append(i%2)\n",
        "\n",
        "  rot = []\n",
        "  for j in range(5):\n",
        "    rot.append(1-num[4-j])\n",
        "\n",
        "  return rot\n",
        "\n",
        "\n",
        "def Y_Not(lst):\n",
        "  if lst[0]:\n",
        "    Eleven_Qubits_Encoding.x(y0)\n",
        "  if lst[1]:\n",
        "    Eleven_Qubits_Encoding.x(y1)\n",
        "  if lst[2]:\n",
        "    Eleven_Qubits_Encoding.x(y2)\n",
        "  if lst[3]:\n",
        "    Eleven_Qubits_Encoding.x(y3)\n",
        "  if lst[4]:\n",
        "    Eleven_Qubits_Encoding.x(y4)\n",
        "\n",
        "\n",
        "def X_Not(lst):\n",
        "  if lst[0]:\n",
        "    Eleven_Qubits_Encoding.x(x0)\n",
        "  if lst[1]:\n",
        "    Eleven_Qubits_Encoding.x(x1)\n",
        "  if lst[2]:\n",
        "    Eleven_Qubits_Encoding.x(x2)\n",
        "  if lst[3]:\n",
        "    Eleven_Qubits_Encoding.x(x3)\n",
        "  if lst[4]:\n",
        "    Eleven_Qubits_Encoding.x(x4)\n",
        "\n",
        "\n",
        "# Probability Qubit Rotating\n",
        "for i in range(32):\n",
        "  print(i)\n",
        "  for j in range(32):\n",
        "    Rotate = QuantumCircuit(1)\n",
        "    Rotate.rx(2*np.arcsin(np.sqrt(matrix[i][j])), 0)\n",
        "    Ugate = Rotate.to_gate().control(10)\n",
        "\n",
        "    y_rot = Binary(i)\n",
        "    x_rot = Binary(j)\n",
        "\n",
        "    Y_Not(y_rot)\n",
        "    X_Not(x_rot)\n",
        "    Eleven_Qubits_Encoding.append(Ugate, [y0, y1, y2, y3, y4, x0, x1, x2, x3, x4, s])\n",
        "    Y_Not(y_rot)\n",
        "    X_Not(x_rot)\n",
        "\n",
        "\n",
        "Eleven_Qubits_Encoding.measure([0,1,2,3,4,5,6,7,8,9,10], [10,9,8,7,6,5,4,3,2,1,0])"
      ],
      "metadata": {
        "id": "CFrRbaMjTAfF",
        "outputId": "adb4cdcc-14b8-4800-c044-17771ec156cb",
        "colab": {
          "base_uri": "https://localhost:8080/"
        }
      },
      "execution_count": 36,
      "outputs": [
        {
          "output_type": "stream",
          "name": "stdout",
          "text": [
            "0\n",
            "1\n",
            "2\n",
            "3\n",
            "4\n",
            "5\n",
            "6\n",
            "7\n",
            "8\n",
            "9\n",
            "10\n",
            "11\n",
            "12\n",
            "13\n",
            "14\n",
            "15\n",
            "16\n",
            "17\n",
            "18\n",
            "19\n",
            "20\n",
            "21\n",
            "22\n",
            "23\n",
            "24\n",
            "25\n",
            "26\n",
            "27\n",
            "28\n",
            "29\n",
            "30\n",
            "31\n"
          ]
        },
        {
          "output_type": "execute_result",
          "data": {
            "text/plain": [
              "<qiskit.circuit.instructionset.InstructionSet at 0x7bbac566a710>"
            ]
          },
          "metadata": {},
          "execution_count": 36
        }
      ]
    },
    {
      "cell_type": "code",
      "source": [
        "job = sampler.run(Eleven_Qubits_Encoding, shots=1000000)\n",
        "result = job.result()\n",
        "cnts = dict(result.quasi_dists[0])\n",
        "\n",
        "# Store Decoded Matrix except for dummy entry\n",
        "Decoded_Matrix = np.zeros((28,28))\n",
        "Decoded_Vector = []\n",
        "for i in range(1024):\n",
        "  if cnts.get(2*i+1)==None:\n",
        "    Decoded_Vector.append(0)\n",
        "  else:\n",
        "    Decoded_Vector.append(1024*max*cnts.get(2*i+1))\n",
        "\n",
        "for i in range(32):\n",
        "  for j in range(32):\n",
        "    if j>27 or i>27:\n",
        "      pass\n",
        "    else:\n",
        "      Decoded_Matrix[i][j] = Decoded_Vector[i*32+j]\n",
        "\n",
        "print(Decoded_Matrix)"
      ],
      "metadata": {
        "id": "pG-DEk9RTAbW",
        "outputId": "e26a7f27-30ac-4b60-c1de-23d15c0a9a61",
        "colab": {
          "base_uri": "https://localhost:8080/"
        }
      },
      "execution_count": 37,
      "outputs": [
        {
          "output_type": "stream",
          "name": "stdout",
          "text": [
            "[[  0.        0.        0.        0.        0.        0.        0.\n",
            "    0.       43.34592  95.04768  54.57408  18.01728  14.88384   5.74464\n",
            "   11.7504   25.58976  69.98016 157.19424 123.77088  52.48512   0.52224\n",
            "    0.        0.        0.        0.        0.        0.        0.     ]\n",
            " [  0.        0.        0.        0.        0.        9.1392   75.7248\n",
            "  118.8096  136.04352 135.26016 137.61024 147.01056 123.77088 130.29888\n",
            "  143.09376 136.30464 157.71648 163.2     114.37056 151.18848 156.14976\n",
            "  109.93152  23.5008    0.        0.        0.        0.        0.     ]\n",
            " [  0.        0.        0.        0.       14.62272 120.89856 108.3648\n",
            "  107.58144  97.39776 116.1984  115.15392 124.032   120.89856 159.2832\n",
            "  148.57728 148.57728 147.5328   95.04768 102.35904 106.53696 110.19264\n",
            "  117.504   130.29888  14.10048   0.        0.        0.        0.     ]\n",
            " [  0.        0.        0.        0.      109.6704  111.75936 102.09792\n",
            "   99.2256  109.6704  102.88128 119.33184 100.79232 123.24864 139.6992\n",
            "  135.26016 117.504    92.95872  97.65888  92.95872  98.18112 101.57568\n",
            "  100.5312  104.18688 109.93152   0.        0.        0.        0.     ]\n",
            " [  0.        0.        0.       53.00736 108.3648  102.35904  92.43648\n",
            "  104.70912 108.88704 107.58144  87.21408  80.16384  80.16384  90.60864\n",
            "   80.42496  82.2528   99.48672  99.2256  102.88128  91.91424  88.7808\n",
            "  112.80384 101.31456 101.57568  19.32288   0.        0.        0.     ]\n",
            " [  0.        0.        0.       30.81216 120.37632  98.70336 114.8928\n",
            "   93.74208  90.0864   82.77504  97.39776 123.77088 131.34336 145.70496\n",
            "  115.67616  80.16384  83.03616  85.64736  85.38624  94.0032   76.24704\n",
            "   93.21984 101.57568 100.79232  96.35328   0.        0.        0.     ]\n",
            " [  0.        0.        0.        0.       15.14496 114.8928  131.34336\n",
            "   93.74208  80.9472  119.85408 153.27744 174.9504  130.82112 145.96608\n",
            "   79.6416  138.91584 205.50144  85.12512  89.04192  92.43648  72.33024\n",
            "   95.83104 111.49824 108.88704   0.        0.        0.        0.     ]\n",
            " [  0.        0.        0.        0.        0.        0.      143.35488\n",
            "  110.45376  79.6416  168.94464 145.70496  81.20832  58.752   113.5872\n",
            "  118.54848  55.35744 141.52704 157.19424  93.48096  73.63584  84.34176\n",
            "  145.44384 101.05344   0.        0.        0.        0.        0.     ]\n",
            " [  0.        0.        0.        0.        0.        0.       10.70592\n",
            "  101.05344 134.21568 153.01632  48.82944  65.01888  82.51392  73.63584\n",
            "  246.7584   88.25856  42.82368 136.30464 124.55424  75.46368  90.86976\n",
            "   63.71328   0.        0.        0.        0.        0.        0.     ]\n",
            " [  0.        0.        0.        0.        0.        0.        0.\n",
            "   62.40768 158.23872 135.7824  126.12096  90.34752  53.5296   35.2512\n",
            "  159.80544 268.43136  60.0576  102.09792 174.68928  67.63008  75.46368\n",
            "    0.        0.        0.        0.        0.        0.        0.     ]\n",
            " [  0.        0.        0.        0.        0.        0.        0.\n",
            "   55.87968 150.40512  81.20832 127.68768 199.49568 180.95616  27.15648\n",
            "  100.5312  201.32352  40.73472  89.30304 165.28896  92.43648  80.42496\n",
            "    0.        0.        1.04448   0.        0.        0.        0.     ]\n",
            " [  0.        0.        0.        0.        0.        1.82784   0.\n",
            "   43.34592 109.14816  85.90848  73.63584  50.65728 164.5056  190.09536\n",
            "  221.69088 186.7008   40.21248  73.89696  53.79072  94.26432  66.84672\n",
            "    0.        0.        1.56672   0.        0.        0.        0.     ]\n",
            " [  0.        0.        0.        0.        0.        1.3056    0.\n",
            "   30.55104 119.85408  84.34176  87.4752   94.0032   22.97856 167.63904\n",
            "  231.87456  48.56832  76.50816  94.0032   72.85248  97.92     67.63008\n",
            "    0.        0.        0.        0.        0.        0.        0.     ]\n",
            " [  0.        0.        0.        0.        0.        1.3056    0.\n",
            "   24.02304 120.89856  84.34176  86.43072  97.39776  41.7792  177.30048\n",
            "  129.77664  55.35744  72.59136  89.30304  71.02464  97.65888  69.71904\n",
            "    0.        0.        0.        0.        0.        0.        0.     ]\n",
            " [  0.        0.        0.        0.        0.        1.04448   0.\n",
            "   16.18944 111.75936  93.74208  87.73632  85.90848  52.74624 220.6464\n",
            "   89.82528  76.24704  84.34176  82.51392  71.54688  90.0864   62.92992\n",
            "    0.        0.        0.        0.        0.        0.        0.     ]\n",
            " [  0.        0.        0.        0.        0.        1.3056    0.\n",
            "   12.53376 117.24288  88.7808   96.09216  98.44224  52.224   211.24608\n",
            "  100.79232  62.92992  83.5584   82.2528   83.5584   78.85824  77.55264\n",
            "    0.        0.        0.        0.        0.        0.        0.     ]\n",
            " [  0.        0.        0.        0.        0.        0.        0.\n",
            "   17.23392 110.71488  76.50816  85.90848  84.864    55.35744 112.54272\n",
            "  137.87136  57.96864  73.37472  54.57408  81.99168  84.08064  61.88544\n",
            "    0.        0.        0.        0.        0.        0.        0.     ]\n",
            " [  0.        0.        0.        0.        0.        0.        0.\n",
            "   15.6672  118.8096  124.81536 127.16544 158.76096 156.14976 147.27168\n",
            "  150.40512 171.0336  141.0048  147.01056  76.24704  84.864    69.1968\n",
            "    0.        0.        0.        0.        0.        0.        0.     ]\n",
            " [  0.        0.        0.        0.        0.        0.        0.\n",
            "   21.41184 126.90432 135.26016 130.03776 131.34336 108.10368 112.80384\n",
            "  137.61024 121.15968 135.7824  154.32192  75.20256  82.77504  74.68032\n",
            "    0.        0.        0.        0.        0.        0.        0.     ]\n",
            " [  0.        0.        0.        0.        0.        0.        0.\n",
            "   16.71168 115.93728  75.20256  73.1136   71.28576  80.16384  75.46368\n",
            "   66.5856   75.98592  66.5856   73.37472  89.04192  85.38624  79.11936\n",
            "    0.        0.        0.        0.        0.        0.        0.     ]\n",
            " [  0.        0.        0.        0.        0.        0.52224   0.\n",
            "   18.2784  113.84832  89.56416  96.6144   90.0864  104.18688  94.52544\n",
            "   99.48672  94.26432  90.34752  88.51968  88.7808   74.68032  72.85248\n",
            "    0.        0.        0.        0.        0.        0.        0.     ]\n",
            " [  0.        0.        0.        0.        0.        1.3056    0.\n",
            "   17.75616 128.47104  97.39776  91.13088  93.74208  97.39776  80.16384\n",
            "   85.12512  84.08064  93.48096  85.90848  81.99168  89.30304  69.98016\n",
            "    0.        0.        0.        0.        0.        0.        0.     ]\n",
            " [  0.        0.        0.        0.        0.        1.82784   0.\n",
            "   20.10624 115.41504  89.30304 103.1424  101.31456  96.87552  91.13088\n",
            "   86.95296  89.04192  91.91424 104.70912  95.56992  94.78656  83.29728\n",
            "    0.        0.        0.52224   0.        0.        0.        0.     ]\n",
            " [  0.        0.        0.        0.        0.        0.        0.\n",
            "   17.23392 120.37632  87.73632  95.56992  97.13664  99.2256   89.82528\n",
            "   88.25856  87.4752   86.69184  97.92    101.8368   85.12512  84.34176\n",
            "    0.        0.        1.04448   0.        0.        0.        0.     ]\n",
            " [  0.        0.        0.        0.        0.        0.        0.\n",
            "   18.53952 124.81536  90.34752  90.34752 104.448    94.52544  93.21984\n",
            "   95.3088   86.95296  95.83104 112.80384  95.56992  93.48096 101.05344\n",
            "    2.87232   0.        1.3056    0.        0.        0.        0.     ]\n",
            " [  0.        0.        0.        0.        0.        0.        0.\n",
            "   12.79488 124.29312  92.43648 104.97024 108.10368  99.48672  82.51392\n",
            "  101.31456  91.13088 103.40352  98.18112 101.8368   93.48096  99.2256\n",
            "    7.8336    0.        0.52224   0.        0.        0.        0.     ]\n",
            " [  0.        0.        0.        0.        0.        1.56672   0.\n",
            "   15.14496 143.616    92.43648 122.98752 122.98752  99.48672 101.8368\n",
            "  107.32032  95.3088  113.06496 117.76512 115.15392 120.63744 111.75936\n",
            "    9.92256   0.        0.78336   0.        0.        0.        0.     ]\n",
            " [  0.        0.        0.        0.        0.        0.        0.\n",
            "    0.       56.1408   67.10784  74.15808  87.21408  83.03616  73.89696\n",
            "   77.0304   79.11936  71.54688  78.85824  75.7248   75.98592  44.91264\n",
            "    0.        0.        0.        0.        0.        0.        0.     ]]\n"
          ]
        }
      ]
    },
    {
      "cell_type": "code",
      "source": [
        "# Original Image\n",
        "plt.imshow(test, interpolation='nearest')\n",
        "plt.show()"
      ],
      "metadata": {
        "id": "bx_R03s5TAXL",
        "outputId": "f63a4ee9-eb1f-4de7-deca-b075ce78f1ae",
        "colab": {
          "base_uri": "https://localhost:8080/",
          "height": 430
        }
      },
      "execution_count": 38,
      "outputs": [
        {
          "output_type": "display_data",
          "data": {
            "text/plain": [
              "<Figure size 640x480 with 1 Axes>"
            ],
            "image/png": "[encoded data removed]"
          },
          "metadata": {}
        }
      ]
    },
    {
      "cell_type": "code",
      "source": [
        "# Recovered Image\n",
        "plt.imshow(Decoded_Matrix, interpolation='nearest')\n",
        "plt.show()"
      ],
      "metadata": {
        "id": "lwXvXgxgTAR-",
        "outputId": "1e34a267-0c2b-44e4-84e4-4377c6919c4a",
        "colab": {
          "base_uri": "https://localhost:8080/",
          "height": 430
        }
      },
      "execution_count": 39,
      "outputs": [
        {
          "output_type": "display_data",
          "data": {
            "text/plain": [
              "<Figure size 640x480 with 1 Axes>"
            ],
            "image/png": "[encoded data removed]"
          },
          "metadata": {}
        }
      ]
    },
    {
      "cell_type": "markdown",
      "source": [
        "4) Image_Test[3]"
      ],
      "metadata": {
        "id": "fqXq7eMcPp2O"
      }
    },
    {
      "cell_type": "code",
      "source": [
        "# adding dummy pixels to make 32 X 32. Each row and columns 5 qubits.\n",
        "test = images_test[3]\n",
        "max = np.max(test)\n",
        "matrix = []\n",
        "for i in range(28):\n",
        "  row = []\n",
        "  for j in range(28):\n",
        "    row.append(test[i][j]/max)\n",
        "  row.append(0)\n",
        "  row.append(0)\n",
        "  row.append(0)\n",
        "  row.append(0)\n",
        "  matrix.append(row)\n",
        "\n",
        "matrix.append([0,0,0,0,0,0,0,0,0,0,0,0,0,0,0,0,0,0,0,0,0,0,0,0,0,0,0,0,0,0,0,0])\n",
        "matrix.append([0,0,0,0,0,0,0,0,0,0,0,0,0,0,0,0,0,0,0,0,0,0,0,0,0,0,0,0,0,0,0,0])\n",
        "matrix.append([0,0,0,0,0,0,0,0,0,0,0,0,0,0,0,0,0,0,0,0,0,0,0,0,0,0,0,0,0,0,0,0])\n",
        "matrix.append([0,0,0,0,0,0,0,0,0,0,0,0,0,0,0,0,0,0,0,0,0,0,0,0,0,0,0,0,0,0,0,0])\n",
        "\n",
        "print(matrix)"
      ],
      "metadata": {
        "id": "Ctei7_E6Pte8",
        "outputId": "15d25de8-01a9-4d94-eed7-9acfa460c393",
        "colab": {
          "base_uri": "https://localhost:8080/"
        }
      },
      "execution_count": 40,
      "outputs": [
        {
          "output_type": "stream",
          "name": "stdout",
          "text": [
            "[[0.0, 0.0, 0.0, 0.0, 0.0, 0.0, 0.0, 0.0, 0.0, 0.054901960784313725, 0.45098039215686275, 0.09803921568627451, 0.0, 0.0, 0.0, 0.0, 0.0, 0.21176470588235294, 0.4627450980392157, 0.0, 0.0, 0.0, 0.0, 0.0, 0.0, 0.0, 0.0, 0.0, 0, 0, 0, 0], [0.0, 0.0, 0.0, 0.0, 0.0, 0.0, 0.0, 0.10196078431372549, 0.6588235294117647, 0.49411764705882355, 0.5882352941176471, 0.7176470588235294, 0.5686274509803921, 0.5372549019607843, 0.5176470588235295, 0.5372549019607843, 0.6039215686274509, 0.7333333333333333, 0.5647058823529412, 0.5137254901960784, 0.6392156862745098, 0.0, 0.0, 0.0, 0.0, 0.0, 0.0, 0.0, 0, 0, 0, 0], [0.0, 0.0, 0.0, 0.0, 0.0, 0.0, 0.0, 0.0392156862745098, 0.5137254901960784, 0.4627450980392157, 0.4235294117647059, 0.5019607843137255, 0.6509803921568628, 0.7137254901960784, 0.7686274509803922, 0.7333333333333333, 0.611764705882353, 0.44313725490196076, 0.41568627450980394, 0.47843137254901963, 0.4588235294117647, 0.0, 0.0, 0.0, 0.0, 0.0, 0.0, 0.0, 0, 0, 0, 0], [0.0, 0.0, 0.0, 0.0, 0.0, 0.0, 0.0, 0.0, 0.5098039215686274, 0.4588235294117647, 0.44313725490196076, 0.4117647058823529, 0.3843137254901961, 0.4745098039215686, 0.4745098039215686, 0.38823529411764707, 0.3568627450980392, 0.4196078431372549, 0.43529411764705883, 0.49019607843137253, 0.3137254901960784, 0.0, 0.0, 0.0, 0.0, 0.0, 0.0, 0.0, 0, 0, 0, 0], [0.0, 0.0, 0.0, 0.0, 0.0, 0.0, 0.0, 0.0, 0.396078431372549, 0.4627450980392157, 0.42745098039215684, 0.4392156862745098, 0.45098039215686275, 0.43529411764705883, 0.42745098039215684, 0.4470588235294118, 0.4392156862745098, 0.44313725490196076, 0.4, 0.4627450980392157, 0.27058823529411763, 0.0, 0.0, 0.0, 0.0, 0.0, 0.0, 0.0, 0, 0, 0, 0], [0.0, 0.0, 0.0, 0.0, 0.0, 0.0, 0.0, 0.0, 0.38823529411764707, 0.47058823529411764, 0.4117647058823529, 0.43529411764705883, 0.43529411764705883, 0.43137254901960786, 0.43529411764705883, 0.4235294117647059, 0.4235294117647059, 0.43137254901960786, 0.39215686274509803, 0.45098039215686275, 0.40784313725490196, 0.0, 0.0, 0.0, 0.0, 0.0, 0.0, 0.0, 0, 0, 0, 0], [0.0, 0.0, 0.0, 0.0, 0.0, 0.0, 0.0, 0.0, 0.43529411764705883, 0.4588235294117647, 0.4196078431372549, 0.40784313725490196, 0.40784313725490196, 0.4117647058823529, 0.40784313725490196, 0.403921568627451, 0.4, 0.4117647058823529, 0.3803921568627451, 0.4549019607843137, 0.5294117647058824, 0.0, 0.0, 0.0, 0.0, 0.0, 0.0, 0.0, 0, 0, 0, 0], [0.0, 0.0, 0.0, 0.0, 0.0, 0.0, 0.0, 0.0, 0.5686274509803921, 0.4588235294117647, 0.4196078431372549, 0.4117647058823529, 0.40784313725490196, 0.40784313725490196, 0.403921568627451, 0.403921568627451, 0.403921568627451, 0.403921568627451, 0.36470588235294116, 0.44313725490196076, 0.47843137254901963, 0.0, 0.0, 0.0, 0.0, 0.0, 0.0, 0.0, 0, 0, 0, 0], [0.0, 0.0, 0.0, 0.0, 0.0, 0.0, 0.0, 0.0, 0.23921568627450981, 0.5058823529411764, 0.47058823529411764, 0.43529411764705883, 0.43137254901960786, 0.42745098039215684, 0.42745098039215684, 0.43137254901960786, 0.43529411764705883, 0.45098039215686275, 0.42745098039215684, 0.44313725490196076, 0.050980392156862744, 0.0, 0.0, 0.0, 0.0, 0.0, 0.0, 0.0, 0, 0, 0, 0], [0.0, 0.0, 0.0, 0.0, 0.0, 0.0, 0.0, 0.0, 0.17647058823529413, 0.5490196078431373, 0.4745098039215686, 0.4235294117647059, 0.43137254901960786, 0.42745098039215684, 0.43137254901960786, 0.42745098039215684, 0.4235294117647059, 0.4392156862745098, 0.44313725490196076, 0.5098039215686274, 0.07450980392156863, 0.0, 0.0, 0.0, 0.0, 0.0, 0.0, 0.0, 0, 0, 0, 0], [0.0, 0.0, 0.0, 0.0, 0.0, 0.0, 0.0, 0.0, 0.1607843137254902, 0.5607843137254902, 0.4627450980392157, 0.43529411764705883, 0.43137254901960786, 0.43529411764705883, 0.43529411764705883, 0.43529411764705883, 0.43137254901960786, 0.4117647058823529, 0.44313725490196076, 0.5098039215686274, 0.01568627450980392, 0.0, 0.0, 0.0, 0.0, 0.0, 0.0, 0.0, 0, 0, 0, 0], [0.0, 0.0, 0.0, 0.0, 0.0, 0.0, 0.0, 0.0, 0.09019607843137255, 0.5490196078431373, 0.4666666666666667, 0.44313725490196076, 0.4235294117647059, 0.4470588235294118, 0.4392156862745098, 0.43529411764705883, 0.43137254901960786, 0.42745098039215684, 0.4392156862745098, 0.5254901960784314, 0.0, 0.0, 0.0, 0.0, 0.0, 0.0, 0.0, 0.0, 0, 0, 0, 0], [0.0, 0.0, 0.0, 0.0, 0.0, 0.0, 0.0, 0.0, 0.050980392156862744, 0.5411764705882353, 0.4666666666666667, 0.45098039215686275, 0.43137254901960786, 0.44313725490196076, 0.44313725490196076, 0.44313725490196076, 0.4470588235294118, 0.4470588235294118, 0.43529411764705883, 0.4470588235294118, 0.023529411764705882, 0.0, 0.0, 0.0, 0.0, 0.0, 0.0, 0.0, 0, 0, 0, 0], [0.0, 0.0, 0.0, 0.0, 0.0, 0.0, 0.0, 0.0, 0.10980392156862745, 0.5411764705882353, 0.47058823529411764, 0.4470588235294118, 0.4392156862745098, 0.45098039215686275, 0.4470588235294118, 0.4470588235294118, 0.45098039215686275, 0.4392156862745098, 0.4392156862745098, 0.4588235294117647, 0.07058823529411765, 0.0, 0.0, 0.0, 0.0, 0.0, 0.0, 0.0, 0, 0, 0, 0], [0.0, 0.0, 0.0, 0.0, 0.0, 0.0, 0.0, 0.0, 0.2, 0.5450980392156862, 0.4745098039215686, 0.4392156862745098, 0.44313725490196076, 0.4588235294117647, 0.4470588235294118, 0.45098039215686275, 0.4549019607843137, 0.43529411764705883, 0.4470588235294118, 0.47058823529411764, 0.12941176470588237, 0.0, 0.0, 0.0, 0.0, 0.0, 0.0, 0.0, 0, 0, 0, 0], [0.0, 0.0, 0.0, 0.0, 0.0, 0.0, 0.0, 0.0, 0.3333333333333333, 0.5254901960784314, 0.47058823529411764, 0.45098039215686275, 0.44313725490196076, 0.4666666666666667, 0.4549019607843137, 0.4470588235294118, 0.4588235294117647, 0.4470588235294118, 0.4470588235294118, 0.47058823529411764, 0.20784313725490197, 0.0, 0.0, 0.0, 0.0, 0.0, 0.0, 0.0, 0, 0, 0, 0], [0.0, 0.0, 0.0, 0.0, 0.0, 0.0, 0.0, 0.0, 0.40784313725490196, 0.5098039215686274, 0.4745098039215686, 0.4588235294117647, 0.4549019607843137, 0.47058823529411764, 0.4588235294117647, 0.45098039215686275, 0.4588235294117647, 0.4588235294117647, 0.45098039215686275, 0.47058823529411764, 0.30980392156862746, 0.0, 0.0, 0.0, 0.0, 0.0, 0.0, 0.0, 0, 0, 0, 0], [0.0, 0.0, 0.0, 0.0, 0.0, 0.0, 0.0, 0.0, 0.38823529411764707, 0.5019607843137255, 0.47843137254901963, 0.4745098039215686, 0.4745098039215686, 0.4745098039215686, 0.4627450980392157, 0.47058823529411764, 0.4627450980392157, 0.4666666666666667, 0.4588235294117647, 0.47058823529411764, 0.3803921568627451, 0.0, 0.0, 0.0, 0.0, 0.0, 0.0, 0.0, 0, 0, 0, 0], [0.0, 0.0, 0.0, 0.0, 0.0, 0.0, 0.0, 0.0, 0.5058823529411764, 0.5019607843137255, 0.47843137254901963, 0.4823529411764706, 0.4823529411764706, 0.47843137254901963, 0.4627450980392157, 0.4745098039215686, 0.4666666666666667, 0.4745098039215686, 0.4666666666666667, 0.4627450980392157, 0.47843137254901963, 0.0, 0.0, 0.0, 0.0, 0.0, 0.0, 0.0, 0, 0, 0, 0], [0.0, 0.0, 0.0, 0.0, 0.0, 0.0, 0.0, 0.011764705882352941, 0.5529411764705883, 0.49019607843137253, 0.48627450980392156, 0.48627450980392156, 0.4823529411764706, 0.48627450980392156, 0.4666666666666667, 0.47058823529411764, 0.47058823529411764, 0.47843137254901963, 0.4745098039215686, 0.47058823529411764, 0.5215686274509804, 0.03529411764705882, 0.0, 0.0, 0.0, 0.0, 0.0, 0.0, 0, 0, 0, 0], [0.0, 0.0, 0.0, 0.0, 0.0, 0.0, 0.0, 0.09019607843137255, 0.5686274509803921, 0.4823529411764706, 0.49411764705882355, 0.48627450980392156, 0.48627450980392156, 0.48627450980392156, 0.4666666666666667, 0.4745098039215686, 0.47058823529411764, 0.47843137254901963, 0.47843137254901963, 0.4823529411764706, 0.5294117647058824, 0.15294117647058825, 0.0, 0.0, 0.0, 0.0, 0.0, 0.0, 0, 0, 0, 0], [0.0, 0.0, 0.0, 0.0, 0.0, 0.0, 0.0, 0.18823529411764706, 0.5764705882352941, 0.49411764705882355, 0.5058823529411764, 0.48627450980392156, 0.48627450980392156, 0.49019607843137253, 0.4745098039215686, 0.47843137254901963, 0.4745098039215686, 0.48627450980392156, 0.4823529411764706, 0.49411764705882355, 0.5333333333333333, 0.2235294117647059, 0.0, 0.0, 0.0, 0.0, 0.0, 0.0, 0, 0, 0, 0], [0.0, 0.0, 0.0, 0.0, 0.0, 0.0, 0.0, 0.2627450980392157, 0.5607843137254902, 0.49019607843137253, 0.5098039215686274, 0.49019607843137253, 0.4823529411764706, 0.4823529411764706, 0.4823529411764706, 0.47058823529411764, 0.4666666666666667, 0.49411764705882355, 0.4823529411764706, 0.4823529411764706, 0.5450980392156862, 0.2549019607843137, 0.0, 0.0, 0.0, 0.0, 0.0, 0.0, 0, 0, 0, 0], [0.0, 0.0, 0.0, 0.0, 0.0, 0.0, 0.0, 0.3176470588235294, 0.5647058823529412, 0.5058823529411764, 0.5254901960784314, 0.5098039215686274, 0.5098039215686274, 0.5058823529411764, 0.5058823529411764, 0.49019607843137253, 0.49019607843137253, 0.5176470588235295, 0.5058823529411764, 0.4823529411764706, 0.5647058823529412, 0.3058823529411765, 0.0, 0.0, 0.0, 0.0, 0.0, 0.0, 0, 0, 0, 0], [0.0, 0.0, 0.0, 0.0, 0.0, 0.0, 0.0, 0.2196078431372549, 0.5058823529411764, 0.4470588235294118, 0.4588235294117647, 0.4196078431372549, 0.40784313725490196, 0.403921568627451, 0.40784313725490196, 0.4, 0.4, 0.43529411764705883, 0.40784313725490196, 0.3843137254901961, 0.44313725490196076, 0.2980392156862745, 0.0, 0.0, 0.0, 0.0, 0.0, 0.0, 0, 0, 0, 0], [0.0, 0.0, 0.0, 0.0, 0.0, 0.0, 0.0, 0.34901960784313724, 0.6039215686274509, 0.5607843137254902, 0.611764705882353, 0.6039215686274509, 0.6313725490196078, 0.6666666666666666, 0.6745098039215687, 0.6392156862745098, 0.6274509803921569, 0.6627450980392157, 0.6352941176470588, 0.5843137254901961, 0.6627450980392157, 0.3764705882352941, 0.0, 0.0, 0.0, 0.0, 0.0, 0.0, 0, 0, 0, 0], [0.0, 0.0, 0.0, 0.0, 0.0, 0.0, 0.0, 0.8117647058823529, 0.8862745098039215, 0.7137254901960784, 0.7607843137254902, 0.7725490196078432, 0.792156862745098, 0.8627450980392157, 0.8431372549019608, 0.7450980392156863, 0.7607843137254902, 0.8274509803921568, 0.8392156862745098, 0.7647058823529411, 1.0, 0.6078431372549019, 0.0, 0.0, 0.0, 0.0, 0.0, 0.0, 0, 0, 0, 0], [0.0, 0.0, 0.0, 0.0, 0.0, 0.0, 0.0, 0.3254901960784314, 0.5333333333333333, 0.41568627450980394, 0.3137254901960784, 0.27058823529411763, 0.27058823529411763, 0.27450980392156865, 0.2235294117647059, 0.20784313725490197, 0.29411764705882354, 0.35294117647058826, 0.45098039215686275, 0.3215686274509804, 0.5490196078431373, 0.2235294117647059, 0.0, 0.0, 0.0, 0.0, 0.0, 0.0, 0, 0, 0, 0], [0, 0, 0, 0, 0, 0, 0, 0, 0, 0, 0, 0, 0, 0, 0, 0, 0, 0, 0, 0, 0, 0, 0, 0, 0, 0, 0, 0, 0, 0, 0, 0], [0, 0, 0, 0, 0, 0, 0, 0, 0, 0, 0, 0, 0, 0, 0, 0, 0, 0, 0, 0, 0, 0, 0, 0, 0, 0, 0, 0, 0, 0, 0, 0], [0, 0, 0, 0, 0, 0, 0, 0, 0, 0, 0, 0, 0, 0, 0, 0, 0, 0, 0, 0, 0, 0, 0, 0, 0, 0, 0, 0, 0, 0, 0, 0], [0, 0, 0, 0, 0, 0, 0, 0, 0, 0, 0, 0, 0, 0, 0, 0, 0, 0, 0, 0, 0, 0, 0, 0, 0, 0, 0, 0, 0, 0, 0, 0]]\n"
          ]
        }
      ]
    },
    {
      "cell_type": "code",
      "source": [
        "# Circuit Setting\n",
        "Y_Qubits = QuantumRegister(5, 'y')\n",
        "X_Qubits = QuantumRegister(5, 'x')\n",
        "Probability_Qubit = QuantumRegister(1, 's')\n",
        "Classical_Register = ClassicalRegister(11, 'c')\n",
        "Eleven_Qubits_Encoding = QuantumCircuit(Y_Qubits, X_Qubits, Probability_Qubit, Classical_Register)\n",
        "\n",
        "s = Probability_Qubit\n",
        "y0, y1, y2, y3, y4 = Y_Qubits\n",
        "x0, x1, x2, x3, x4 = X_Qubits\n",
        "\n",
        "# Initial State\n",
        "Eleven_Qubits_Encoding.h(y0)\n",
        "Eleven_Qubits_Encoding.h(y1)\n",
        "Eleven_Qubits_Encoding.h(y2)\n",
        "Eleven_Qubits_Encoding.h(y3)\n",
        "Eleven_Qubits_Encoding.h(y4)\n",
        "Eleven_Qubits_Encoding.h(x0)\n",
        "Eleven_Qubits_Encoding.h(x1)\n",
        "Eleven_Qubits_Encoding.h(x2)\n",
        "Eleven_Qubits_Encoding.h(x3)\n",
        "Eleven_Qubits_Encoding.h(x4)\n",
        "\n",
        "def Binary(i):\n",
        "  num = []\n",
        "  num.append(i%2)\n",
        "  i = i//2\n",
        "  num.append(i%2)\n",
        "  i = i//2\n",
        "  num.append(i%2)\n",
        "  i = i//2\n",
        "  num.append(i%2)\n",
        "  i = i//2\n",
        "  num.append(i%2)\n",
        "\n",
        "  rot = []\n",
        "  for j in range(5):\n",
        "    rot.append(1-num[4-j])\n",
        "\n",
        "  return rot\n",
        "\n",
        "\n",
        "def Y_Not(lst):\n",
        "  if lst[0]:\n",
        "    Eleven_Qubits_Encoding.x(y0)\n",
        "  if lst[1]:\n",
        "    Eleven_Qubits_Encoding.x(y1)\n",
        "  if lst[2]:\n",
        "    Eleven_Qubits_Encoding.x(y2)\n",
        "  if lst[3]:\n",
        "    Eleven_Qubits_Encoding.x(y3)\n",
        "  if lst[4]:\n",
        "    Eleven_Qubits_Encoding.x(y4)\n",
        "\n",
        "\n",
        "def X_Not(lst):\n",
        "  if lst[0]:\n",
        "    Eleven_Qubits_Encoding.x(x0)\n",
        "  if lst[1]:\n",
        "    Eleven_Qubits_Encoding.x(x1)\n",
        "  if lst[2]:\n",
        "    Eleven_Qubits_Encoding.x(x2)\n",
        "  if lst[3]:\n",
        "    Eleven_Qubits_Encoding.x(x3)\n",
        "  if lst[4]:\n",
        "    Eleven_Qubits_Encoding.x(x4)\n",
        "\n",
        "\n",
        "# Probability Qubit Rotating\n",
        "for i in range(32):\n",
        "  print(i)\n",
        "  for j in range(32):\n",
        "    Rotate = QuantumCircuit(1)\n",
        "    Rotate.rx(2*np.arcsin(np.sqrt(matrix[i][j])), 0)\n",
        "    Ugate = Rotate.to_gate().control(10)\n",
        "\n",
        "    y_rot = Binary(i)\n",
        "    x_rot = Binary(j)\n",
        "\n",
        "    Y_Not(y_rot)\n",
        "    X_Not(x_rot)\n",
        "    Eleven_Qubits_Encoding.append(Ugate, [y0, y1, y2, y3, y4, x0, x1, x2, x3, x4, s])\n",
        "    Y_Not(y_rot)\n",
        "    X_Not(x_rot)\n",
        "\n",
        "\n",
        "Eleven_Qubits_Encoding.measure([0,1,2,3,4,5,6,7,8,9,10], [10,9,8,7,6,5,4,3,2,1,0])"
      ],
      "metadata": {
        "id": "yBenHh6oTBVi",
        "outputId": "e3100df0-9c1b-46ee-e9a4-4f027ee30a55",
        "colab": {
          "base_uri": "https://localhost:8080/"
        }
      },
      "execution_count": 41,
      "outputs": [
        {
          "output_type": "stream",
          "name": "stdout",
          "text": [
            "0\n",
            "1\n",
            "2\n",
            "3\n",
            "4\n",
            "5\n",
            "6\n",
            "7\n",
            "8\n",
            "9\n",
            "10\n",
            "11\n",
            "12\n",
            "13\n",
            "14\n",
            "15\n",
            "16\n",
            "17\n",
            "18\n",
            "19\n",
            "20\n",
            "21\n",
            "22\n",
            "23\n",
            "24\n",
            "25\n",
            "26\n",
            "27\n",
            "28\n",
            "29\n",
            "30\n",
            "31\n"
          ]
        },
        {
          "output_type": "execute_result",
          "data": {
            "text/plain": [
              "<qiskit.circuit.instructionset.InstructionSet at 0x7bbabec94a30>"
            ]
          },
          "metadata": {},
          "execution_count": 41
        }
      ]
    },
    {
      "cell_type": "code",
      "source": [
        "job = sampler.run(Eleven_Qubits_Encoding, shots=1000000)\n",
        "result = job.result()\n",
        "cnts = dict(result.quasi_dists[0])\n",
        "\n",
        "# Store Decoded Matrix except for dummy entry\n",
        "Decoded_Matrix = np.zeros((28,28))\n",
        "Decoded_Vector = []\n",
        "for i in range(1024):\n",
        "  if cnts.get(2*i+1)==None:\n",
        "    Decoded_Vector.append(0)\n",
        "  else:\n",
        "    Decoded_Vector.append(1024*max*cnts.get(2*i+1))\n",
        "\n",
        "for i in range(32):\n",
        "  for j in range(32):\n",
        "    if j>27 or i>27:\n",
        "      pass\n",
        "    else:\n",
        "      Decoded_Matrix[i][j] = Decoded_Vector[i*32+j]\n",
        "\n",
        "print(Decoded_Matrix)"
      ],
      "metadata": {
        "id": "L54u_iUWTBRG",
        "outputId": "fedbabec-6860-4740-e6e0-2b55d9770a39",
        "colab": {
          "base_uri": "https://localhost:8080/"
        }
      },
      "execution_count": 42,
      "outputs": [
        {
          "output_type": "stream",
          "name": "stdout",
          "text": [
            "[[  0.        0.        0.        0.        0.        0.        0.\n",
            "    0.        0.       12.79488 117.24288  22.1952    0.        0.\n",
            "    0.        0.        0.       53.79072 124.55424   0.        0.\n",
            "    0.        0.        0.        0.        0.        0.        0.     ]\n",
            " [  0.        0.        0.        0.        0.        0.        0.\n",
            "   22.45632 160.06656 124.55424 150.40512 191.13984 144.13824 132.64896\n",
            "  136.04352 132.91008 159.02208 190.09536 143.09376 121.4208  163.98336\n",
            "    0.        0.        0.        0.        0.        0.        0.     ]\n",
            " [  0.        0.        0.        0.        0.        0.        0.\n",
            "    9.92256 123.77088 123.24864 109.6704  119.07072 157.71648 190.6176\n",
            "  193.2288  186.17856 156.93312 118.8096  115.93728 122.46528 111.23712\n",
            "    0.        0.        0.        0.        0.        0.        0.     ]\n",
            " [  0.        0.        0.        0.        0.        0.        0.\n",
            "    0.      125.07648 127.16544 112.80384 103.66464 100.5312  118.54848\n",
            "  124.032    95.83104  88.51968 101.31456 106.27584 120.37632  80.42496\n",
            "    0.        0.        0.        0.        0.        0.        0.     ]\n",
            " [  0.        0.        0.        0.        0.        0.        0.\n",
            "    0.      100.27008 122.46528 104.70912 110.976   118.54848 109.93152\n",
            "  104.70912 116.72064 114.37056 114.63168 101.05344 121.15968  61.10208\n",
            "    0.        0.        0.        0.        0.        0.        0.     ]\n",
            " [  0.        0.        0.        0.        0.        0.        0.\n",
            "    0.      102.09792 113.5872  102.09792 115.41504 104.97024 111.23712\n",
            "  109.93152  97.13664 115.93728 112.54272  94.52544 110.19264 101.57568\n",
            "    0.        0.        0.        0.        0.        0.        0.     ]\n",
            " [  0.        0.        0.        0.        0.        0.        0.\n",
            "    0.      116.45952 123.24864 109.14816 101.05344  98.96448 104.448\n",
            "  106.01472 104.448   105.7536  100.27008  96.87552 115.93728 125.85984\n",
            "    0.        0.        0.        0.        0.        0.        0.     ]\n",
            " [  0.        0.        0.        0.        0.        0.        0.\n",
            "    0.      145.96608 112.54272 114.37056 102.35904 106.27584 103.40352\n",
            "  102.09792 104.18688 104.448   101.31456  93.48096 107.0592  117.504\n",
            "    0.        0.        0.        0.        0.        0.        0.     ]\n",
            " [  0.        0.        0.        0.        0.        0.        0.\n",
            "    0.       61.3632  121.94304 110.45376 117.24288 107.58144 106.27584\n",
            "  110.71488 109.6704  105.49248 118.54848 106.79808 118.02624  13.83936\n",
            "    0.        0.        0.        0.        0.        0.        0.     ]\n",
            " [  0.        0.        0.        0.        0.        0.        0.\n",
            "    0.       51.17952 135.7824  120.63744 109.40928 105.49248 106.79808\n",
            "  116.45952 106.27584  94.52544 116.1984  107.0592  128.47104  18.53952\n",
            "    0.        0.        0.        0.        0.        0.        0.     ]\n",
            " [  0.        0.        0.        0.        0.        0.        0.\n",
            "    0.       38.64576 141.0048  122.98752 105.49248 103.92576 112.02048\n",
            "  112.2816  119.07072 116.98176  99.2256  116.1984  131.60448   4.43904\n",
            "    0.        0.        0.        0.        0.        0.        0.     ]\n",
            " [  0.        0.        0.        0.        0.        0.        0.\n",
            "    0.       17.23392 127.68768 121.4208  124.81536  98.70336 116.45952\n",
            "  109.93152 113.84832 101.57568 110.19264 119.33184 130.03776   0.\n",
            "    0.        0.        0.        0.        0.        0.        0.     ]\n",
            " [  0.        0.        0.        0.        0.        0.        0.\n",
            "    0.       12.27264 146.74944 122.7264  110.976   117.504   109.6704\n",
            "  117.504   109.6704  108.62592 112.2816  116.1984  115.67616   5.48352\n",
            "    0.        0.        0.        0.        0.        0.        0.     ]\n",
            " [  0.        0.        0.        0.        0.        0.        0.\n",
            "    0.       28.20096 139.17696 115.41504 111.23712 122.7264  109.40928\n",
            "  109.93152 124.29312 115.93728 108.10368 111.23712 116.45952  21.93408\n",
            "    0.        0.        0.        0.        0.        0.        0.     ]\n",
            " [  0.        0.        0.        0.        0.        0.        0.\n",
            "    0.       51.17952 133.1712  127.42656 106.27584 120.1152  121.15968\n",
            "  115.67616 118.28736 109.40928 108.10368 116.45952 117.76512  34.99008\n",
            "    0.        0.        0.        0.        0.        0.        0.     ]\n",
            " [  0.        0.        0.        0.        0.        0.        0.\n",
            "    0.       82.77504 138.65472 122.46528 123.50976 115.41504 122.20416\n",
            "  114.37056 117.24288 114.10944 118.54848 114.63168 126.12096  52.74624\n",
            "    0.        0.        0.        0.        0.        0.        0.     ]\n",
            " [  0.        0.        0.        0.        0.        0.        0.\n",
            "    0.      101.05344 137.088   125.3376  112.2816  118.54848 112.54272\n",
            "  115.93728 111.23712 119.07072 127.42656 121.94304 118.54848  77.81376\n",
            "    0.        0.        0.        0.        0.        0.        0.     ]\n",
            " [  0.        0.        0.        0.        0.        0.        0.\n",
            "    0.       90.86976 133.95456 136.30464 121.15968 118.28736 117.24288\n",
            "  117.24288 115.15392 113.06496 116.72064 120.1152  123.24864  91.65312\n",
            "    0.        0.        0.        0.        0.        0.        0.     ]\n",
            " [  0.        0.        0.        0.        0.        0.        0.\n",
            "    0.      124.55424 129.77664 114.10944 127.16544 117.24288 123.77088\n",
            "  112.02048 134.21568 111.75936 117.76512 115.67616 123.77088 121.94304\n",
            "    0.        0.        0.        0.        0.        0.        0.     ]\n",
            " [  0.        0.        0.        0.        0.        0.        0.\n",
            "    2.6112  139.96032 118.8096  122.98752 116.72064 116.72064 119.33184\n",
            "  131.60448 132.64896 116.98176 133.43232 125.85984 107.0592  130.03776\n",
            "   10.4448    0.        0.        0.        0.        0.        0.     ]\n",
            " [  0.        0.        0.        0.        0.        0.        0.\n",
            "   27.67872 146.74944 125.59872 131.08224 127.42656 114.8928  126.90432\n",
            "  118.28736 123.77088 113.32608 128.20992 125.59872 111.49824 135.26016\n",
            "   36.29568   0.        0.        0.        0.        0.        0.     ]\n",
            " [  0.        0.        0.        0.        0.        0.        0.\n",
            "   50.13504 128.73216 121.94304 124.29312 126.90432 124.032   122.7264\n",
            "  108.3648  134.21568 118.54848 123.77088 122.46528 128.99328 133.43232\n",
            "   53.00736   0.        0.        0.        0.        0.        0.     ]\n",
            " [  0.        0.        0.        0.        0.        0.        0.\n",
            "   58.22976 144.66048 119.85408 135.7824  121.4208  122.46528 128.73216\n",
            "  124.29312 126.90432 118.8096  134.73792 122.46528 128.47104 136.30464\n",
            "   63.9744    0.        0.        0.        0.        0.        0.     ]\n",
            " [  0.        0.        0.        0.        0.        0.        0.\n",
            "   78.85824 151.97184 130.56    143.616   139.96032 136.56576 125.59872\n",
            "  119.33184 128.47104 127.9488  127.9488  127.68768 121.94304 142.3104\n",
            "   74.68032   0.        0.        0.        0.        0.        0.     ]\n",
            " [  0.        0.        0.        0.        0.        0.        0.\n",
            "   50.9184  121.68192 128.20992 107.32032 104.448   103.66464 101.8368\n",
            "  108.3648   97.92    112.02048 108.10368 102.62016 102.88128 118.28736\n",
            "   81.73056   0.        0.        0.        0.        0.        0.     ]\n",
            " [  0.        0.        0.        0.        0.        0.        0.\n",
            "   80.16384 148.57728 140.22144 159.80544 159.02208 167.1168  178.60608\n",
            "  162.41664 165.28896 161.37216 155.62752 161.11104 144.39936 171.55584\n",
            "   94.52544   0.        0.        0.        0.        0.        0.     ]\n",
            " [  0.        0.        0.        0.        0.        0.        0.\n",
            "  203.15136 217.77408 174.68928 192.70656 206.02368 192.18432 218.81856\n",
            "  206.80704 196.36224 198.71232 229.26336 226.12992 204.45696 255.37536\n",
            "  157.9776    0.        0.        0.        0.        0.        0.     ]\n",
            " [  0.        0.        0.        0.        0.        0.        0.\n",
            "   89.30304 132.64896  98.44224  88.51968  73.1136   65.80224  81.99168\n",
            "   55.09632  53.79072  74.15808  92.95872 109.93152  90.0864  140.74368\n",
            "   57.96864   0.        0.        0.        0.        0.        0.     ]]\n"
          ]
        }
      ]
    },
    {
      "cell_type": "code",
      "source": [
        "# Original Image\n",
        "plt.imshow(test, interpolation='nearest')\n",
        "plt.show()"
      ],
      "metadata": {
        "id": "P8R5RWhmTBLl",
        "outputId": "4bfd1bfe-186a-4ef4-ac47-98facaad8740",
        "colab": {
          "base_uri": "https://localhost:8080/",
          "height": 430
        }
      },
      "execution_count": 43,
      "outputs": [
        {
          "output_type": "display_data",
          "data": {
            "text/plain": [
              "<Figure size 640x480 with 1 Axes>"
            ],
            "image/png": "[encoded data removed]"
          },
          "metadata": {}
        }
      ]
    },
    {
      "cell_type": "code",
      "source": [
        "# Recovered Image\n",
        "plt.imshow(Decoded_Matrix, interpolation='nearest')\n",
        "plt.show()"
      ],
      "metadata": {
        "id": "3F-hFx6dTBFM",
        "outputId": "4c771203-a929-4f9b-c0ea-8e73039f5042",
        "colab": {
          "base_uri": "https://localhost:8080/",
          "height": 430
        }
      },
      "execution_count": 44,
      "outputs": [
        {
          "output_type": "display_data",
          "data": {
            "text/plain": [
              "<Figure size 640x480 with 1 Axes>"
            ],
            "image/png": "[encoded data removed]"
          },
          "metadata": {}
        }
      ]
    },
    {
      "cell_type": "markdown",
      "source": [
        "5) Image_Test[4]"
      ],
      "metadata": {
        "id": "8BFeHfGKPrvG"
      }
    },
    {
      "cell_type": "code",
      "source": [
        "# adding dummy pixels to make 32 X 32. Each row and columns 5 qubits.\n",
        "test = images_test[4]\n",
        "max = np.max(test)\n",
        "matrix = []\n",
        "for i in range(28):\n",
        "  row = []\n",
        "  for j in range(28):\n",
        "    row.append(test[i][j]/max)\n",
        "  row.append(0)\n",
        "  row.append(0)\n",
        "  row.append(0)\n",
        "  row.append(0)\n",
        "  matrix.append(row)\n",
        "\n",
        "matrix.append([0,0,0,0,0,0,0,0,0,0,0,0,0,0,0,0,0,0,0,0,0,0,0,0,0,0,0,0,0,0,0,0])\n",
        "matrix.append([0,0,0,0,0,0,0,0,0,0,0,0,0,0,0,0,0,0,0,0,0,0,0,0,0,0,0,0,0,0,0,0])\n",
        "matrix.append([0,0,0,0,0,0,0,0,0,0,0,0,0,0,0,0,0,0,0,0,0,0,0,0,0,0,0,0,0,0,0,0])\n",
        "matrix.append([0,0,0,0,0,0,0,0,0,0,0,0,0,0,0,0,0,0,0,0,0,0,0,0,0,0,0,0,0,0,0,0])\n",
        "\n",
        "print(matrix)"
      ],
      "metadata": {
        "id": "1K-uMjk0PtIm",
        "outputId": "7ab20dfa-2fb7-476d-f02c-7a201a5c77c2",
        "colab": {
          "base_uri": "https://localhost:8080/"
        }
      },
      "execution_count": 45,
      "outputs": [
        {
          "output_type": "stream",
          "name": "stdout",
          "text": [
            "[[0.0, 0.0, 0.0, 0.0, 0.0, 0.0, 0.0, 0.0, 0.0, 0.043137254901960784, 0.6235294117647059, 0.5607843137254902, 0.2980392156862745, 0.23137254901960785, 0.1843137254901961, 0.21176470588235294, 0.5215686274509804, 0.5764705882352941, 0.1411764705882353, 0.0, 0.0, 0.0, 0.0, 0.00392156862745098, 0.0, 0.0, 0.0, 0.0, 0, 0, 0, 0], [0.0, 0.0, 0.0, 0.0, 0.0, 0.0, 0.19607843137254902, 0.5254901960784314, 0.8274509803921568, 0.7647058823529411, 0.8274509803921568, 0.8627450980392157, 0.9176470588235294, 0.9882352941176471, 0.9803921568627451, 0.9921568627450981, 0.9411764705882353, 0.8784313725490196, 0.9058823529411765, 0.7176470588235294, 0.5098039215686274, 0.3254901960784314, 0.0, 0.0, 0.0, 0.0, 0.0, 0.0, 0, 0, 0, 0], [0.0, 0.0, 0.0, 0.0, 0.0, 0.7764705882352941, 0.9176470588235294, 0.8470588235294118, 0.7137254901960784, 0.5764705882352941, 0.611764705882353, 0.7764705882352941, 0.6784313725490196, 0.7450980392156863, 0.803921568627451, 0.8313725490196079, 0.8549019607843137, 0.7568627450980392, 0.6, 0.39215686274509803, 0.7686274509803922, 0.6549019607843137, 0.7725490196078432, 0.08235294117647059, 0.0, 0.0, 0.0, 0.0, 0, 0, 0, 0], [0.0, 0.0, 0.0, 0.0, 0.7333333333333333, 0.788235294117647, 0.7764705882352941, 0.7215686274509804, 0.5725490196078431, 0.9333333333333333, 0.9254901960784314, 0.8392156862745098, 0.8666666666666667, 0.8666666666666667, 0.8274509803921568, 0.8274509803921568, 0.807843137254902, 0.8470588235294118, 0.8627450980392157, 0.8666666666666667, 0.9607843137254902, 0.7568627450980392, 0.7686274509803922, 0.8235294117647058, 0.0, 0.0, 0.0, 0.0, 0, 0, 0, 0], [0.0, 0.0, 0.0, 0.10980392156862745, 0.8549019607843137, 0.5607843137254902, 0.8235294117647058, 0.4627450980392157, 0.5882352941176471, 0.9215686274509803, 0.8392156862745098, 0.8313725490196079, 0.7568627450980392, 0.7725490196078432, 0.7725490196078432, 0.7843137254901961, 0.792156862745098, 0.8117647058823529, 0.796078431372549, 0.611764705882353, 0.592156862745098, 0.8509803921568627, 0.7803921568627451, 0.8117647058823529, 0.14901960784313725, 0.0, 0.0, 0.0, 0, 0, 0, 0], [0.0, 0.0, 0.0, 0.3137254901960784, 0.9019607843137255, 0.6196078431372549, 0.7254901960784313, 0.7372549019607844, 0.49411764705882355, 0.9254901960784314, 0.8470588235294118, 0.8627450980392157, 0.792156862745098, 0.6313725490196078, 0.7764705882352941, 0.792156862745098, 0.807843137254902, 0.8470588235294118, 0.8549019607843137, 0.8509803921568627, 0.3607843137254902, 0.6941176470588235, 0.8313725490196079, 0.7137254901960784, 0.23529411764705882, 0.0, 0.0, 0.0, 0, 0, 0, 0], [0.0, 0.0, 0.0, 0.2235294117647059, 0.788235294117647, 0.8313725490196079, 0.8784313725490196, 1.0, 0.41568627450980394, 0.8156862745098039, 0.8392156862745098, 0.8156862745098039, 0.8666666666666667, 0.8470588235294118, 0.5607843137254902, 0.7607843137254902, 0.9764705882352941, 0.807843137254902, 0.8745098039215686, 1.0, 0.6745098039215687, 0.6431372549019608, 0.8431372549019608, 0.8156862745098039, 0.796078431372549, 0.0, 0.0, 0.0, 0, 0, 0, 0], [0.0, 0.0, 0.0, 0.6039215686274509, 0.4980392156862745, 0.34509803921568627, 0.9019607843137255, 0.8666666666666667, 0.34509803921568627, 0.5176470588235295, 0.7843137254901961, 0.5450980392156862, 0.5176470588235295, 0.5725490196078431, 0.6392156862745098, 0.8392156862745098, 0.796078431372549, 0.19607843137254902, 0.6509803921568628, 0.9568627450980393, 0.5058823529411764, 0.611764705882353, 0.8901960784313725, 0.8352941176470589, 0.8392156862745098, 0.027450980392156862, 0.0, 0.0, 0, 0, 0, 0], [0.0, 0.0, 0.2196078431372549, 0.7333333333333333, 0.5843137254901961, 0.5019607843137255, 0.803921568627451, 0.615686274509804, 0.44313725490196076, 0.6666666666666666, 0.9921568627450981, 0.7294117647058823, 0.26666666666666666, 0.35294117647058826, 0.24313725490196078, 0.5490196078431373, 0.26666666666666666, 0.2549019607843137, 0.403921568627451, 0.21568627450980393, 0.39215686274509803, 0.8823529411764706, 0.8156862745098039, 0.7333333333333333, 0.7607843137254902, 0.07450980392156863, 0.0, 0.0, 0, 0, 0, 0], [0.0, 0.0, 0.26666666666666666, 0.7176470588235294, 0.788235294117647, 0.7411764705882353, 0.9450980392156862, 0.5450980392156862, 0.6862745098039216, 1.0, 0.7490196078431373, 0.5294117647058824, 0.5019607843137255, 0.9568627450980393, 0.6941176470588235, 0.32941176470588235, 0.615686274509804, 0.6431372549019608, 0.47843137254901963, 0.41568627450980394, 0.8313725490196079, 0.9411764705882353, 0.5215686274509804, 0.30980392156862746, 0.5725490196078431, 0.33725490196078434, 0.0, 0.0, 0, 0, 0, 0], [0.0, 0.0, 0.27058823529411763, 0.6901960784313725, 0.9098039215686274, 0.9294117647058824, 0.7803921568627451, 0.6862745098039216, 0.8117647058823529, 0.8117647058823529, 0.27058823529411763, 0.0, 0.7450980392156863, 0.8862745098039215, 0.8156862745098039, 0.8980392156862745, 0.7372549019607844, 0.49019607843137253, 0.7647058823529411, 0.8941176470588236, 0.5725490196078431, 0.6666666666666666, 0.6509803921568628, 0.5725490196078431, 0.36470588235294116, 0.047058823529411764, 0.0, 0.0, 0, 0, 0, 0], [0.0, 0.0, 0.0, 0.0, 0.26666666666666666, 0.6470588235294118, 0.14901960784313725, 0.7450980392156863, 0.8627450980392157, 0.6, 0.17254901960784313, 0.0, 0.2784313725490196, 0.8588235294117647, 0.7647058823529411, 0.8666666666666667, 0.5450980392156862, 0.35294117647058826, 0.9568627450980393, 0.8588235294117647, 0.24705882352941178, 0.0, 0.18823529411764706, 0.0, 0.0, 0.0, 0.0, 0.0, 0, 0, 0, 0], [0.0, 0.0, 0.0, 0.0, 0.0, 0.0, 0.0, 0.6392156862745098, 0.8470588235294118, 0.6431372549019608, 0.3254901960784314, 0.2235294117647059, 0.45098039215686275, 0.9215686274509803, 0.8156862745098039, 0.9725490196078431, 0.5568627450980392, 0.21176470588235294, 0.4627450980392157, 0.9372549019607843, 0.22745098039215686, 0.0, 0.0, 0.0, 0.00392156862745098, 0.00392156862745098, 0.0, 0.0, 0, 0, 0, 0], [0.0, 0.0, 0.0, 0.011764705882352941, 0.00784313725490196, 0.011764705882352941, 0.0, 0.5098039215686274, 0.7568627450980392, 0.5843137254901961, 0.6705882352941176, 0.6196078431372549, 0.8, 0.6862745098039216, 0.796078431372549, 0.7215686274509804, 0.5098039215686274, 0.3176470588235294, 0.6470588235294118, 0.8509803921568627, 0.050980392156862744, 0.0, 0.0196078431372549, 0.00392156862745098, 0.0, 0.0, 0.0, 0.0, 0, 0, 0, 0], [0.0, 0.0, 0.0, 0.0, 0.0, 0.00392156862745098, 0.0, 0.3176470588235294, 0.8235294117647058, 0.6588235294117647, 0.396078431372549, 0.6196078431372549, 0.7647058823529411, 0.6705882352941176, 0.6196078431372549, 0.30196078431372547, 0.3843137254901961, 0.6784313725490196, 0.7843137254901961, 0.9176470588235294, 0.00392156862745098, 0.0, 0.00392156862745098, 0.0, 0.0, 0.0, 0.0, 0.0, 0, 0, 0, 0], [0.0, 0.0, 0.0, 0.0, 0.00392156862745098, 0.00392156862745098, 0.0, 0.0784313725490196, 0.9411764705882353, 0.5725490196078431, 0.4392156862745098, 0.8901960784313725, 0.6588235294117647, 0.7176470588235294, 0.6274509803921569, 0.7725490196078432, 0.8, 0.5803921568627451, 0.6666666666666666, 0.8352941176470589, 0.0, 0.0, 0.011764705882352941, 0.0, 0.0, 0.0, 0.0, 0.0, 0, 0, 0, 0], [0.0, 0.0, 0.0, 0.0, 0.00392156862745098, 0.00784313725490196, 0.0, 0.0, 0.8901960784313725, 0.5882352941176471, 0.5803921568627451, 0.8470588235294118, 0.7529411764705882, 0.7686274509803922, 0.8666666666666667, 0.8745098039215686, 0.8901960784313725, 0.6941176470588235, 0.6980392156862745, 0.7529411764705882, 0.0, 0.0, 0.011764705882352941, 0.0, 0.00392156862745098, 0.0, 0.0, 0.0, 0, 0, 0, 0], [0.0, 0.0, 0.0, 0.0, 0.0, 0.011764705882352941, 0.0, 0.10980392156862745, 0.9372549019607843, 0.8117647058823529, 0.9058823529411765, 0.796078431372549, 0.8274509803921568, 0.8, 0.7843137254901961, 0.7176470588235294, 0.7333333333333333, 0.8196078431372549, 0.803921568627451, 0.803921568627451, 0.08627450980392157, 0.0, 0.0196078431372549, 0.0, 0.00392156862745098, 0.0, 0.0, 0.0, 0, 0, 0, 0], [0.0, 0.0, 0.0, 0.0, 0.0, 0.00784313725490196, 0.0, 0.20784313725490197, 0.7294117647058823, 0.803921568627451, 0.8470588235294118, 0.7647058823529411, 0.6901960784313725, 0.7725490196078432, 0.7137254901960784, 0.7490196078431373, 0.7450980392156863, 0.7843137254901961, 0.7137254901960784, 0.6, 0.2196078431372549, 0.0, 0.01568627450980392, 0.0, 0.0, 0.0, 0.0, 0.0, 0, 0, 0, 0], [0.0, 0.0, 0.0, 0.00392156862745098, 0.0, 0.011764705882352941, 0.0, 0.4823529411764706, 0.7686274509803922, 0.796078431372549, 0.8352941176470589, 0.8313725490196079, 0.7764705882352941, 0.6509803921568628, 0.8117647058823529, 0.788235294117647, 0.7686274509803922, 0.7803921568627451, 0.796078431372549, 0.7803921568627451, 0.3058823529411765, 0.0, 0.011764705882352941, 0.0, 0.00392156862745098, 0.0, 0.0, 0.0, 0, 0, 0, 0], [0.0, 0.0, 0.0, 0.00392156862745098, 0.0, 0.011764705882352941, 0.0, 0.7294117647058823, 0.6588235294117647, 0.6705882352941176, 0.9098039215686274, 0.8745098039215686, 0.8117647058823529, 0.6549019607843137, 0.596078431372549, 0.7411764705882353, 0.8470588235294118, 0.8705882352941177, 0.7764705882352941, 0.8666666666666667, 0.4549019607843137, 0.0, 0.011764705882352941, 0.0, 0.00392156862745098, 0.0, 0.0, 0.0, 0, 0, 0, 0], [0.0, 0.0, 0.0, 0.0, 0.0, 0.0, 0.0, 0.7843137254901961, 0.5294117647058824, 0.47058823529411764, 0.7254901960784313, 0.6392156862745098, 0.796078431372549, 0.8627450980392157, 0.5882352941176471, 0.8196078431372549, 0.9764705882352941, 0.45098039215686275, 0.8431372549019608, 0.7843137254901961, 0.30980392156862746, 0.0, 0.00392156862745098, 0.0, 0.00392156862745098, 0.0, 0.0, 0.0, 0, 0, 0, 0], [0.0, 0.0, 0.0, 0.0, 0.0, 0.0, 0.0, 0.49019607843137253, 0.4666666666666667, 0.396078431372549, 0.788235294117647, 0.6196078431372549, 0.3686274509803922, 0.4117647058823529, 0.5098039215686274, 0.8117647058823529, 0.5686274509803921, 0.14901960784313725, 0.4627450980392157, 0.4588235294117647, 0.32941176470588235, 0.0, 0.0, 0.00392156862745098, 0.0, 0.0, 0.0, 0.0, 0, 0, 0, 0], [0.0, 0.0, 0.00392156862745098, 0.00392156862745098, 0.00392156862745098, 0.0, 0.0, 0.5058823529411764, 0.5725490196078431, 0.7647058823529411, 0.9803921568627451, 0.8588235294117647, 0.37254901960784315, 0.47843137254901963, 0.2980392156862745, 0.4823529411764706, 0.34901960784313724, 0.48627450980392156, 0.4235294117647059, 0.32941176470588235, 0.592156862745098, 0.0, 0.0, 0.011764705882352941, 0.0, 0.0, 0.0, 0.0, 0, 0, 0, 0], [0.0, 0.0, 0.0, 0.0, 0.00392156862745098, 0.0, 0.0, 0.6705882352941176, 0.7764705882352941, 0.8627450980392157, 0.7529411764705882, 0.3568627450980392, 0.596078431372549, 0.9568627450980393, 0.7725490196078432, 0.4196078431372549, 0.6745098039215687, 0.6666666666666666, 0.592156862745098, 0.6431372549019608, 0.8509803921568627, 0.0, 0.0, 0.011764705882352941, 0.00784313725490196, 0.0, 0.0, 0.0, 0, 0, 0, 0], [0.0, 0.0, 0.0, 0.0, 0.00392156862745098, 0.0, 0.0, 0.6823529411764706, 0.792156862745098, 0.6509803921568628, 0.42745098039215684, 0.0, 0.6549019607843137, 0.807843137254902, 0.796078431372549, 0.8274509803921568, 0.6941176470588235, 0.40784313725490196, 0.803921568627451, 0.8, 0.6352941176470588, 0.0, 0.0, 0.00784313725490196, 0.0, 0.0, 0.0, 0.0, 0, 0, 0, 0], [0.0, 0.0, 0.0, 0.0, 0.00392156862745098, 0.0, 0.0, 0.7176470588235294, 0.8705882352941177, 0.7294117647058823, 0.3215686274509804, 0.23921568627450981, 0.43529411764705883, 0.8588235294117647, 0.8156862745098039, 0.8823529411764706, 0.6392156862745098, 0.403921568627451, 0.8588235294117647, 0.8313725490196079, 0.7490196078431373, 0.0, 0.0, 0.011764705882352941, 0.0, 0.0, 0.0, 0.0, 0, 0, 0, 0], [0.0, 0.0, 0.0, 0.0, 0.00392156862745098, 0.0, 0.0, 0.27058823529411763, 0.44313725490196076, 0.26666666666666666, 0.24313725490196078, 0.2196078431372549, 0.38823529411764707, 0.6901960784313725, 0.6235294117647059, 0.6470588235294118, 0.34509803921568627, 0.10588235294117647, 0.12941176470588237, 0.1843137254901961, 0.3333333333333333, 0.0, 0.0, 0.00392156862745098, 0.0, 0.0, 0.0, 0.0, 0, 0, 0, 0], [0, 0, 0, 0, 0, 0, 0, 0, 0, 0, 0, 0, 0, 0, 0, 0, 0, 0, 0, 0, 0, 0, 0, 0, 0, 0, 0, 0, 0, 0, 0, 0], [0, 0, 0, 0, 0, 0, 0, 0, 0, 0, 0, 0, 0, 0, 0, 0, 0, 0, 0, 0, 0, 0, 0, 0, 0, 0, 0, 0, 0, 0, 0, 0], [0, 0, 0, 0, 0, 0, 0, 0, 0, 0, 0, 0, 0, 0, 0, 0, 0, 0, 0, 0, 0, 0, 0, 0, 0, 0, 0, 0, 0, 0, 0, 0], [0, 0, 0, 0, 0, 0, 0, 0, 0, 0, 0, 0, 0, 0, 0, 0, 0, 0, 0, 0, 0, 0, 0, 0, 0, 0, 0, 0, 0, 0, 0, 0]]\n"
          ]
        }
      ]
    },
    {
      "cell_type": "code",
      "source": [
        "# Circuit Setting\n",
        "Y_Qubits = QuantumRegister(5, 'y')\n",
        "X_Qubits = QuantumRegister(5, 'x')\n",
        "Probability_Qubit = QuantumRegister(1, 's')\n",
        "Classical_Register = ClassicalRegister(11, 'c')\n",
        "Eleven_Qubits_Encoding = QuantumCircuit(Y_Qubits, X_Qubits, Probability_Qubit, Classical_Register)\n",
        "\n",
        "s = Probability_Qubit\n",
        "y0, y1, y2, y3, y4 = Y_Qubits\n",
        "x0, x1, x2, x3, x4 = X_Qubits\n",
        "\n",
        "# Initial State\n",
        "Eleven_Qubits_Encoding.h(y0)\n",
        "Eleven_Qubits_Encoding.h(y1)\n",
        "Eleven_Qubits_Encoding.h(y2)\n",
        "Eleven_Qubits_Encoding.h(y3)\n",
        "Eleven_Qubits_Encoding.h(y4)\n",
        "Eleven_Qubits_Encoding.h(x0)\n",
        "Eleven_Qubits_Encoding.h(x1)\n",
        "Eleven_Qubits_Encoding.h(x2)\n",
        "Eleven_Qubits_Encoding.h(x3)\n",
        "Eleven_Qubits_Encoding.h(x4)\n",
        "\n",
        "def Binary(i):\n",
        "  num = []\n",
        "  num.append(i%2)\n",
        "  i = i//2\n",
        "  num.append(i%2)\n",
        "  i = i//2\n",
        "  num.append(i%2)\n",
        "  i = i//2\n",
        "  num.append(i%2)\n",
        "  i = i//2\n",
        "  num.append(i%2)\n",
        "\n",
        "  rot = []\n",
        "  for j in range(5):\n",
        "    rot.append(1-num[4-j])\n",
        "\n",
        "  return rot\n",
        "\n",
        "\n",
        "def Y_Not(lst):\n",
        "  if lst[0]:\n",
        "    Eleven_Qubits_Encoding.x(y0)\n",
        "  if lst[1]:\n",
        "    Eleven_Qubits_Encoding.x(y1)\n",
        "  if lst[2]:\n",
        "    Eleven_Qubits_Encoding.x(y2)\n",
        "  if lst[3]:\n",
        "    Eleven_Qubits_Encoding.x(y3)\n",
        "  if lst[4]:\n",
        "    Eleven_Qubits_Encoding.x(y4)\n",
        "\n",
        "\n",
        "def X_Not(lst):\n",
        "  if lst[0]:\n",
        "    Eleven_Qubits_Encoding.x(x0)\n",
        "  if lst[1]:\n",
        "    Eleven_Qubits_Encoding.x(x1)\n",
        "  if lst[2]:\n",
        "    Eleven_Qubits_Encoding.x(x2)\n",
        "  if lst[3]:\n",
        "    Eleven_Qubits_Encoding.x(x3)\n",
        "  if lst[4]:\n",
        "    Eleven_Qubits_Encoding.x(x4)\n",
        "\n",
        "\n",
        "# Probability Qubit Rotating\n",
        "for i in range(32):\n",
        "  print(i)\n",
        "  for j in range(32):\n",
        "    Rotate = QuantumCircuit(1)\n",
        "    Rotate.rx(2*np.arcsin(np.sqrt(matrix[i][j])), 0)\n",
        "    Ugate = Rotate.to_gate().control(10)\n",
        "\n",
        "    y_rot = Binary(i)\n",
        "    x_rot = Binary(j)\n",
        "\n",
        "    Y_Not(y_rot)\n",
        "    X_Not(x_rot)\n",
        "    Eleven_Qubits_Encoding.append(Ugate, [y0, y1, y2, y3, y4, x0, x1, x2, x3, x4, s])\n",
        "    Y_Not(y_rot)\n",
        "    X_Not(x_rot)\n",
        "\n",
        "\n",
        "Eleven_Qubits_Encoding.measure([0,1,2,3,4,5,6,7,8,9,10], [10,9,8,7,6,5,4,3,2,1,0])"
      ],
      "metadata": {
        "id": "zdkmh6VhTCH7",
        "outputId": "324a38a2-757a-4956-b578-8cf3a11cbdcd",
        "colab": {
          "base_uri": "https://localhost:8080/"
        }
      },
      "execution_count": 46,
      "outputs": [
        {
          "output_type": "stream",
          "name": "stdout",
          "text": [
            "0\n",
            "1\n",
            "2\n",
            "3\n",
            "4\n",
            "5\n",
            "6\n",
            "7\n",
            "8\n",
            "9\n",
            "10\n",
            "11\n",
            "12\n",
            "13\n",
            "14\n",
            "15\n",
            "16\n",
            "17\n",
            "18\n",
            "19\n",
            "20\n",
            "21\n",
            "22\n",
            "23\n",
            "24\n",
            "25\n",
            "26\n",
            "27\n",
            "28\n",
            "29\n",
            "30\n",
            "31\n"
          ]
        },
        {
          "output_type": "execute_result",
          "data": {
            "text/plain": [
              "<qiskit.circuit.instructionset.InstructionSet at 0x7bbab84f24a0>"
            ]
          },
          "metadata": {},
          "execution_count": 46
        }
      ]
    },
    {
      "cell_type": "code",
      "source": [
        "job = sampler.run(Eleven_Qubits_Encoding, shots=1000000)\n",
        "result = job.result()\n",
        "cnts = dict(result.quasi_dists[0])\n",
        "\n",
        "# Store Decoded Matrix except for dummy entry\n",
        "Decoded_Matrix = np.zeros((28,28))\n",
        "Decoded_Vector = []\n",
        "for i in range(1024):\n",
        "  if cnts.get(2*i+1)==None:\n",
        "    Decoded_Vector.append(0)\n",
        "  else:\n",
        "    Decoded_Vector.append(1024*max*cnts.get(2*i+1))\n",
        "\n",
        "for i in range(32):\n",
        "  for j in range(32):\n",
        "    if j>27 or i>27:\n",
        "      pass\n",
        "    else:\n",
        "      Decoded_Matrix[i][j] = Decoded_Vector[i*32+j]\n",
        "\n",
        "print(Decoded_Matrix)"
      ],
      "metadata": {
        "id": "QNgP1Xm5TCDT",
        "outputId": "8ae2f882-c956-414d-8492-557c5eba1b89",
        "colab": {
          "base_uri": "https://localhost:8080/"
        }
      },
      "execution_count": 47,
      "outputs": [
        {
          "output_type": "stream",
          "name": "stdout",
          "text": [
            "[[0.0000000e+00 0.0000000e+00 0.0000000e+00 0.0000000e+00 0.0000000e+00\n",
            "  0.0000000e+00 0.0000000e+00 0.0000000e+00 0.0000000e+00 9.9225600e+00\n",
            "  1.6633344e+02 1.4257152e+02 7.2069120e+01 6.2668800e+01 5.1440640e+01\n",
            "  5.3529600e+01 1.3082112e+02 1.5066624e+02 3.1856640e+01 0.0000000e+00\n",
            "  0.0000000e+00 0.0000000e+00 0.0000000e+00 1.3056000e+00 0.0000000e+00\n",
            "  0.0000000e+00 0.0000000e+00 0.0000000e+00]\n",
            " [0.0000000e+00 0.0000000e+00 0.0000000e+00 0.0000000e+00 0.0000000e+00\n",
            "  0.0000000e+00 4.6740480e+01 1.2899328e+02 2.1620736e+02 1.9897344e+02\n",
            "  2.1542400e+02 2.1490176e+02 2.5798656e+02 2.5250304e+02 2.5746432e+02\n",
            "  2.4701952e+02 2.3579136e+02 2.2586880e+02 2.1777408e+02 1.8957312e+02\n",
            "  1.2350976e+02 8.3558400e+01 0.0000000e+00 0.0000000e+00 0.0000000e+00\n",
            "  0.0000000e+00 0.0000000e+00 0.0000000e+00]\n",
            " [0.0000000e+00 0.0000000e+00 0.0000000e+00 0.0000000e+00 0.0000000e+00\n",
            "  2.0445696e+02 2.3866368e+02 2.1333504e+02 1.7651712e+02 1.3526016e+02\n",
            "  1.6346112e+02 2.0654592e+02 1.8017280e+02 1.9322880e+02 2.1098496e+02\n",
            "  2.0941824e+02 2.1699072e+02 1.8226176e+02 1.5118848e+02 1.0157568e+02\n",
            "  1.9610112e+02 1.7207808e+02 1.9270656e+02 2.0889600e+01 0.0000000e+00\n",
            "  0.0000000e+00 0.0000000e+00 0.0000000e+00]\n",
            " [0.0000000e+00 0.0000000e+00 0.0000000e+00 0.0000000e+00 1.7730048e+02\n",
            "  2.0915712e+02 2.0054016e+02 1.8722304e+02 1.4361600e+02 2.3996928e+02\n",
            "  2.4127488e+02 2.1046272e+02 2.1986304e+02 2.1699072e+02 2.1202944e+02\n",
            "  2.2064640e+02 2.0654592e+02 2.1516288e+02 2.2508544e+02 2.3526912e+02\n",
            "  2.4571392e+02 1.9714560e+02 1.9636224e+02 2.0393472e+02 0.0000000e+00\n",
            "  0.0000000e+00 0.0000000e+00 0.0000000e+00]\n",
            " [0.0000000e+00 0.0000000e+00 0.0000000e+00 2.8723200e+01 2.2639104e+02\n",
            "  1.4466048e+02 2.0184576e+02 1.2350976e+02 1.5144960e+02 2.3056896e+02\n",
            "  1.9975680e+02 2.0262912e+02 1.8722304e+02 1.9270656e+02 1.9270656e+02\n",
            "  1.9427328e+02 2.0001792e+02 2.0811264e+02 1.8800640e+02 1.5562752e+02\n",
            "  1.4413824e+02 2.1594624e+02 1.9740672e+02 1.9766784e+02 4.0995840e+01\n",
            "  0.0000000e+00 0.0000000e+00 0.0000000e+00]\n",
            " [0.0000000e+00 0.0000000e+00 0.0000000e+00 6.7630080e+01 2.3631360e+02\n",
            "  1.6215552e+02 2.0262912e+02 1.8487296e+02 1.3160448e+02 2.3788032e+02\n",
            "  2.0994048e+02 2.1594624e+02 1.9819008e+02 1.6215552e+02 1.9192320e+02\n",
            "  2.0602368e+02 1.9897344e+02 2.1568512e+02 2.2586880e+02 2.0811264e+02\n",
            "  8.8519680e+01 1.7181696e+02 2.1960192e+02 1.8957312e+02 5.3268480e+01\n",
            "  0.0000000e+00 0.0000000e+00 0.0000000e+00]\n",
            " [0.0000000e+00 0.0000000e+00 0.0000000e+00 5.7968640e+01 2.0132352e+02\n",
            "  2.0341248e+02 2.2195200e+02 2.5563648e+02 1.0000896e+02 2.0080128e+02\n",
            "  2.1307392e+02 2.0576256e+02 2.1777408e+02 2.2900224e+02 1.2977664e+02\n",
            "  1.9192320e+02 2.4936960e+02 2.1620736e+02 2.1725184e+02 2.6738688e+02\n",
            "  1.7390592e+02 1.6998912e+02 2.0289024e+02 2.0915712e+02 2.0315136e+02\n",
            "  0.0000000e+00 0.0000000e+00 0.0000000e+00]\n",
            " [0.0000000e+00 0.0000000e+00 0.0000000e+00 1.5275520e+02 1.3447680e+02\n",
            "  8.8519680e+01 2.4179712e+02 2.0080128e+02 8.7736320e+01 1.3630464e+02\n",
            "  2.0576256e+02 1.4439936e+02 1.3552128e+02 1.4413824e+02 1.5876096e+02\n",
            "  2.1777408e+02 2.1516288e+02 4.6479360e+01 1.7181696e+02 2.4023040e+02\n",
            "  1.3003776e+02 1.5379968e+02 2.2900224e+02 2.2090752e+02 2.2795776e+02\n",
            "  8.6169600e+00 0.0000000e+00 0.0000000e+00]\n",
            " [0.0000000e+00 0.0000000e+00 5.7707520e+01 1.9113984e+02 1.4048256e+02\n",
            "  1.2664320e+02 1.9505664e+02 1.5144960e+02 1.1149824e+02 1.6868352e+02\n",
            "  2.5224192e+02 1.9610112e+02 6.9196800e+01 9.1653120e+01 5.9535360e+01\n",
            "  1.4779392e+02 6.7368960e+01 6.6846720e+01 9.8181120e+01 5.5357440e+01\n",
            "  1.0000896e+02 2.4049152e+02 2.0863488e+02 1.9166208e+02 1.9087872e+02\n",
            "  1.9845120e+01 0.0000000e+00 0.0000000e+00]\n",
            " [0.0000000e+00 0.0000000e+00 6.2146560e+01 1.7625600e+02 1.9688448e+02\n",
            "  1.9610112e+02 2.4519168e+02 1.4100480e+02 1.8304512e+02 2.5876992e+02\n",
            "  2.0262912e+02 1.3029888e+02 1.2794880e+02 2.3631360e+02 1.8643968e+02\n",
            "  8.1469440e+01 1.5171072e+02 1.7312256e+02 1.3029888e+02 1.1175936e+02\n",
            "  2.2586880e+02 2.3970816e+02 1.3003776e+02 8.0163840e+01 1.3996032e+02\n",
            "  8.7997440e+01 0.0000000e+00 0.0000000e+00]\n",
            " [0.0000000e+00 0.0000000e+00 6.8152320e+01 1.8826752e+02 2.2586880e+02\n",
            "  2.2900224e+02 2.1176832e+02 1.8382848e+02 2.0158464e+02 2.1229056e+02\n",
            "  6.9719040e+01 0.0000000e+00 1.8435072e+02 2.2038528e+02 2.1098496e+02\n",
            "  2.2978560e+02 1.8983424e+02 1.2820992e+02 2.0419584e+02 2.2404096e+02\n",
            "  1.4283264e+02 1.7077248e+02 1.6372224e+02 1.4022144e+02 1.0235904e+02\n",
            "  1.3839360e+01 0.0000000e+00 0.0000000e+00]\n",
            " [0.0000000e+00 0.0000000e+00 0.0000000e+00 0.0000000e+00 6.6846720e+01\n",
            "  1.5902208e+02 3.6817920e+01 1.8800640e+02 2.2169088e+02 1.5197184e+02\n",
            "  4.6479360e+01 0.0000000e+00 7.8074880e+01 2.2299648e+02 2.0732928e+02\n",
            "  2.2404096e+02 1.3865472e+02 9.3742080e+01 2.5433088e+02 2.2430208e+02\n",
            "  6.2407680e+01 0.0000000e+00 4.8307200e+01 0.0000000e+00 0.0000000e+00\n",
            "  0.0000000e+00 0.0000000e+00 0.0000000e+00]\n",
            " [0.0000000e+00 0.0000000e+00 0.0000000e+00 0.0000000e+00 0.0000000e+00\n",
            "  0.0000000e+00 0.0000000e+00 1.5484416e+02 2.2273536e+02 1.8095616e+02\n",
            "  8.4080640e+01 6.0318720e+01 1.1045376e+02 2.3814144e+02 2.0445696e+02\n",
            "  2.3918592e+02 1.3996032e+02 5.3007360e+01 1.2350976e+02 2.4545280e+02\n",
            "  5.8229760e+01 0.0000000e+00 0.0000000e+00 0.0000000e+00 2.6112000e-01\n",
            "  5.2224000e-01 0.0000000e+00 0.0000000e+00]\n",
            " [0.0000000e+00 0.0000000e+00 0.0000000e+00 1.8278400e+00 1.8278400e+00\n",
            "  4.1779200e+00 0.0000000e+00 1.2585984e+02 1.9009536e+02 1.4857728e+02\n",
            "  1.7938944e+02 1.4283264e+02 2.1150720e+02 1.6816128e+02 2.0393472e+02\n",
            "  1.9166208e+02 1.3369344e+02 7.5202560e+01 1.6293888e+02 2.1229056e+02\n",
            "  1.1228160e+01 0.0000000e+00 6.0057600e+00 1.0444800e+00 0.0000000e+00\n",
            "  0.0000000e+00 0.0000000e+00 0.0000000e+00]\n",
            " [0.0000000e+00 0.0000000e+00 0.0000000e+00 0.0000000e+00 0.0000000e+00\n",
            "  5.2224000e-01 0.0000000e+00 7.4941440e+01 2.1620736e+02 1.7181696e+02\n",
            "  1.0262016e+02 1.6084992e+02 1.8539520e+02 1.7181696e+02 1.5980544e+02\n",
            "  7.5202560e+01 1.0314240e+02 1.9322880e+02 1.9975680e+02 2.2612992e+02\n",
            "  1.3056000e+00 0.0000000e+00 7.8336000e-01 0.0000000e+00 0.0000000e+00\n",
            "  0.0000000e+00 0.0000000e+00 0.0000000e+00]\n",
            " [0.0000000e+00 0.0000000e+00 0.0000000e+00 0.0000000e+00 1.0444800e+00\n",
            "  1.0444800e+00 0.0000000e+00 2.1934080e+01 2.3996928e+02 1.3917696e+02\n",
            "  1.0862592e+02 2.0967936e+02 1.7547264e+02 1.8408960e+02 1.5301632e+02\n",
            "  1.8252288e+02 2.0184576e+02 1.4648832e+02 1.7547264e+02 2.1751296e+02\n",
            "  0.0000000e+00 0.0000000e+00 2.3500800e+00 0.0000000e+00 0.0000000e+00\n",
            "  0.0000000e+00 0.0000000e+00 0.0000000e+00]\n",
            " [0.0000000e+00 0.0000000e+00 0.0000000e+00 0.0000000e+00 2.6112000e-01\n",
            "  1.8278400e+00 0.0000000e+00 0.0000000e+00 2.3030784e+02 1.5118848e+02\n",
            "  1.5719424e+02 2.1098496e+02 1.9166208e+02 2.0967936e+02 2.2221312e+02\n",
            "  2.2848000e+02 2.2273536e+02 1.7312256e+02 1.8069504e+02 1.7730048e+02\n",
            "  0.0000000e+00 0.0000000e+00 1.8278400e+00 0.0000000e+00 1.3056000e+00\n",
            "  0.0000000e+00 0.0000000e+00 0.0000000e+00]\n",
            " [0.0000000e+00 0.0000000e+00 0.0000000e+00 0.0000000e+00 0.0000000e+00\n",
            "  2.8723200e+00 0.0000000e+00 2.9767680e+01 2.4205824e+02 2.0315136e+02\n",
            "  2.2508544e+02 2.0732928e+02 2.0602368e+02 1.9740672e+02 1.9140096e+02\n",
            "  1.8487296e+02 1.8852864e+02 2.0367360e+02 2.0706816e+02 2.0524032e+02\n",
            "  2.4806400e+01 0.0000000e+00 4.7001600e+00 0.0000000e+00 1.3056000e+00\n",
            "  0.0000000e+00 0.0000000e+00 0.0000000e+00]\n",
            " [0.0000000e+00 0.0000000e+00 0.0000000e+00 0.0000000e+00 0.0000000e+00\n",
            "  1.5667200e+00 0.0000000e+00 4.9873920e+01 1.8304512e+02 2.0628480e+02\n",
            "  2.3187456e+02 1.9871232e+02 1.6998912e+02 2.0706816e+02 1.7991168e+02\n",
            "  1.8487296e+02 1.8200064e+02 1.9348992e+02 1.8278400e+02 1.4596608e+02\n",
            "  5.0135040e+01 0.0000000e+00 3.1334400e+00 0.0000000e+00 0.0000000e+00\n",
            "  0.0000000e+00 0.0000000e+00 0.0000000e+00]\n",
            " [0.0000000e+00 0.0000000e+00 0.0000000e+00 7.8336000e-01 0.0000000e+00\n",
            "  4.4390400e+00 0.0000000e+00 1.3186560e+02 1.9949568e+02 2.0550144e+02\n",
            "  2.1333504e+02 2.1176832e+02 1.9061760e+02 1.7521152e+02 2.1307392e+02\n",
            "  1.9375104e+02 1.9244544e+02 1.9375104e+02 2.1751296e+02 2.0210688e+02\n",
            "  7.8597120e+01 0.0000000e+00 3.6556800e+00 0.0000000e+00 1.0444800e+00\n",
            "  0.0000000e+00 0.0000000e+00 0.0000000e+00]\n",
            " [0.0000000e+00 0.0000000e+00 0.0000000e+00 1.5667200e+00 0.0000000e+00\n",
            "  2.0889600e+00 0.0000000e+00 1.9270656e+02 1.7860608e+02 1.8043392e+02\n",
            "  2.3109120e+02 2.3474688e+02 2.1646848e+02 1.6998912e+02 1.4596608e+02\n",
            "  1.7703936e+02 2.2247424e+02 2.0106240e+02 1.9740672e+02 2.1202944e+02\n",
            "  1.1463168e+02 0.0000000e+00 3.3945600e+00 0.0000000e+00 1.0444800e+00\n",
            "  0.0000000e+00 0.0000000e+00 0.0000000e+00]\n",
            " [0.0000000e+00 0.0000000e+00 0.0000000e+00 0.0000000e+00 0.0000000e+00\n",
            "  0.0000000e+00 0.0000000e+00 1.8643968e+02 1.3264896e+02 1.1280384e+02\n",
            "  1.9401216e+02 1.6476672e+02 1.9140096e+02 2.3840256e+02 1.4413824e+02\n",
            "  2.1725184e+02 2.4963072e+02 1.0914816e+02 2.1333504e+02 2.0054016e+02\n",
            "  7.6769280e+01 0.0000000e+00 7.8336000e-01 0.0000000e+00 1.3056000e+00\n",
            "  0.0000000e+00 0.0000000e+00 0.0000000e+00]\n",
            " [0.0000000e+00 0.0000000e+00 0.0000000e+00 0.0000000e+00 0.0000000e+00\n",
            "  0.0000000e+00 0.0000000e+00 1.3264896e+02 1.1045376e+02 1.0575360e+02\n",
            "  2.0393472e+02 1.5719424e+02 9.2436480e+01 1.1645952e+02 1.3787136e+02\n",
            "  2.0967936e+02 1.3630464e+02 3.8645760e+01 1.1724288e+02 1.1907072e+02\n",
            "  7.9380480e+01 0.0000000e+00 0.0000000e+00 0.0000000e+00 0.0000000e+00\n",
            "  0.0000000e+00 0.0000000e+00 0.0000000e+00]\n",
            " [0.0000000e+00 0.0000000e+00 2.6112000e-01 7.8336000e-01 1.5667200e+00\n",
            "  0.0000000e+00 0.0000000e+00 1.2350976e+02 1.4831616e+02 1.8643968e+02\n",
            "  2.4701952e+02 2.2612992e+02 7.7813760e+01 1.1593728e+02 7.3113600e+01\n",
            "  1.2507648e+02 9.0347520e+01 1.2533760e+02 1.0105344e+02 8.0163840e+01\n",
            "  1.5118848e+02 0.0000000e+00 0.0000000e+00 2.0889600e+00 0.0000000e+00\n",
            "  0.0000000e+00 0.0000000e+00 0.0000000e+00]\n",
            " [0.0000000e+00 0.0000000e+00 0.0000000e+00 0.0000000e+00 1.0444800e+00\n",
            "  0.0000000e+00 0.0000000e+00 1.6763904e+02 1.9636224e+02 2.2508544e+02\n",
            "  1.9192320e+02 8.6952960e+01 1.4466048e+02 2.5171968e+02 1.9348992e+02\n",
            "  1.2220416e+02 1.8435072e+02 1.7233920e+02 1.5771648e+02 1.5745536e+02\n",
            "  2.1255168e+02 0.0000000e+00 0.0000000e+00 3.3945600e+00 2.8723200e+00\n",
            "  0.0000000e+00 0.0000000e+00 0.0000000e+00]\n",
            " [0.0000000e+00 0.0000000e+00 0.0000000e+00 0.0000000e+00 7.8336000e-01\n",
            "  0.0000000e+00 0.0000000e+00 1.8539520e+02 1.9113984e+02 1.5641088e+02\n",
            "  1.0549248e+02 0.0000000e+00 1.7495040e+02 2.1568512e+02 1.9113984e+02\n",
            "  2.1777408e+02 1.7625600e+02 1.0209792e+02 2.0497920e+02 2.0680704e+02\n",
            "  1.5066624e+02 0.0000000e+00 0.0000000e+00 2.6112000e+00 0.0000000e+00\n",
            "  0.0000000e+00 0.0000000e+00 0.0000000e+00]\n",
            " [0.0000000e+00 0.0000000e+00 0.0000000e+00 0.0000000e+00 1.0444800e+00\n",
            "  0.0000000e+00 0.0000000e+00 1.8539520e+02 2.1934080e+02 1.9401216e+02\n",
            "  8.1730560e+01 5.4051840e+01 1.1045376e+02 2.3814144e+02 2.1150720e+02\n",
            "  2.3083008e+02 1.6528896e+02 9.5047680e+01 2.2795776e+02 2.2064640e+02\n",
            "  1.8356736e+02 0.0000000e+00 0.0000000e+00 2.0889600e+00 0.0000000e+00\n",
            "  0.0000000e+00 0.0000000e+00 0.0000000e+00]\n",
            " [0.0000000e+00 0.0000000e+00 0.0000000e+00 0.0000000e+00 2.6112000e-01\n",
            "  0.0000000e+00 0.0000000e+00 7.5724800e+01 1.1071488e+02 6.3452160e+01\n",
            "  6.3974400e+01 5.7446400e+01 9.6875520e+01 1.6972800e+02 1.5353856e+02\n",
            "  1.6267776e+02 8.9303040e+01 2.6634240e+01 2.8462080e+01 4.8307200e+01\n",
            "  9.0086400e+01 0.0000000e+00 0.0000000e+00 2.0889600e+00 0.0000000e+00\n",
            "  0.0000000e+00 0.0000000e+00 0.0000000e+00]]\n"
          ]
        }
      ]
    },
    {
      "cell_type": "code",
      "source": [
        "# Original Image\n",
        "plt.imshow(test, interpolation='nearest')\n",
        "plt.show()"
      ],
      "metadata": {
        "id": "lSSI3CmoTB90",
        "outputId": "e803a9b3-f7a6-461d-9b7e-de6b326324e4",
        "colab": {
          "base_uri": "https://localhost:8080/",
          "height": 430
        }
      },
      "execution_count": 48,
      "outputs": [
        {
          "output_type": "display_data",
          "data": {
            "text/plain": [
              "<Figure size 640x480 with 1 Axes>"
            ],
            "image/png": "[encoded data removed]"
          },
          "metadata": {}
        }
      ]
    },
    {
      "cell_type": "code",
      "source": [
        "# Recovered Image\n",
        "plt.imshow(Decoded_Matrix, interpolation='nearest')\n",
        "plt.show()"
      ],
      "metadata": {
        "id": "vXg5UZHOTB3a",
        "outputId": "05564157-8ea1-4c5d-c3e0-05662dfc463f",
        "colab": {
          "base_uri": "https://localhost:8080/",
          "height": 430
        }
      },
      "execution_count": 49,
      "outputs": [
        {
          "output_type": "display_data",
          "data": {
            "text/plain": [
              "<Figure size 640x480 with 1 Axes>"
            ],
            "image/png": "[encoded data removed]"
          },
          "metadata": {}
        }
      ]
    },
    {
      "cell_type": "markdown",
      "source": [
        "#7. MNIST Image Classification"
      ],
      "metadata": {
        "id": "DthfaJYwUcat"
      }
    },
    {
      "cell_type": "markdown",
      "source": [
        "1) Training Set / Validation Set Seperation"
      ],
      "metadata": {
        "id": "4xxB_xKUajTs"
      }
    },
    {
      "cell_type": "code",
      "source": [
        "from qiskit_ibm_runtime import QiskitRuntimeService, Estimator\n",
        "\n",
        "Train_Image = images_test[0:80]\n",
        "Validate_Image = images_test[80:]\n",
        "Train_Label = labels_test[0:80]\n",
        "Validate_Label = labels_test[80:]"
      ],
      "metadata": {
        "id": "KrSAKD3pUe5P"
      },
      "execution_count": 50,
      "outputs": []
    },
    {
      "cell_type": "markdown",
      "source": [
        "2) Constructing Encoded Circuit List to decrease calculation"
      ],
      "metadata": {
        "id": "3BaDTfmi0BzU"
      }
    },
    {
      "cell_type": "code",
      "source": [
        "# test is numpy array\n",
        "def add_dummy(test):\n",
        "  # adding dummy pixels to make 32 X 32. Each row and columns 5 qubits.\n",
        "  max = np.max(test)\n",
        "  matrix = []\n",
        "  for i in range(28):\n",
        "    row = []\n",
        "    for j in range(28):\n",
        "      row.append(test[i][j]/max)\n",
        "    row.append(0)\n",
        "    row.append(0)\n",
        "    row.append(0)\n",
        "    row.append(0)\n",
        "    matrix.append(row)\n",
        "\n",
        "  matrix.append([0,0,0,0,0,0,0,0,0,0,0,0,0,0,0,0,0,0,0,0,0,0,0,0,0,0,0,0,0,0,0,0])\n",
        "  matrix.append([0,0,0,0,0,0,0,0,0,0,0,0,0,0,0,0,0,0,0,0,0,0,0,0,0,0,0,0,0,0,0,0])\n",
        "  matrix.append([0,0,0,0,0,0,0,0,0,0,0,0,0,0,0,0,0,0,0,0,0,0,0,0,0,0,0,0,0,0,0,0])\n",
        "  matrix.append([0,0,0,0,0,0,0,0,0,0,0,0,0,0,0,0,0,0,0,0,0,0,0,0,0,0,0,0,0,0,0,0])\n",
        "  return matrix"
      ],
      "metadata": {
        "id": "a9YdAzJEc8AQ"
      },
      "execution_count": 51,
      "outputs": []
    },
    {
      "cell_type": "code",
      "source": [
        "def Binary(i):\n",
        "  num = []\n",
        "  num.append(i%2)\n",
        "  i = i//2\n",
        "  num.append(i%2)\n",
        "  i = i//2\n",
        "  num.append(i%2)\n",
        "  i = i//2\n",
        "  num.append(i%2)\n",
        "  i = i//2\n",
        "  num.append(i%2)\n",
        "\n",
        "  rot = []\n",
        "  for j in range(5):\n",
        "    rot.append(1-num[4-j])\n",
        "\n",
        "  return rot"
      ],
      "metadata": {
        "id": "hPvfHdr8dncx"
      },
      "execution_count": 52,
      "outputs": []
    },
    {
      "cell_type": "code",
      "source": [
        "def controlled_ry(theta):\n",
        "  Rotate = QuantumCircuit(1)\n",
        "  Rotate.ry(theta, 0)\n",
        "  Ugate = Rotate.to_gate().control(1)\n",
        "  return Ugate"
      ],
      "metadata": {
        "id": "iB9vxihEhowf"
      },
      "execution_count": 53,
      "outputs": []
    },
    {
      "cell_type": "code",
      "source": [
        "def circuit_after_encoding(matrix):\n",
        "    # State Encoding\n",
        "\n",
        "  Y_Qubits = QuantumRegister(5, 'y')\n",
        "  X_Qubits = QuantumRegister(5, 'x')\n",
        "  Probability_Qubit = QuantumRegister(1, 's')\n",
        "  Eleven_Qubits_Encoding = QuantumCircuit(Y_Qubits, X_Qubits, Probability_Qubit)\n",
        "\n",
        "  s = Probability_Qubit\n",
        "  y0, y1, y2, y3, y4 = Y_Qubits\n",
        "  x0, x1, x2, x3, x4 = X_Qubits\n",
        "\n",
        "  # Initial State\n",
        "  Eleven_Qubits_Encoding.h(y0)\n",
        "  Eleven_Qubits_Encoding.h(y1)\n",
        "  Eleven_Qubits_Encoding.h(y2)\n",
        "  Eleven_Qubits_Encoding.h(y3)\n",
        "  Eleven_Qubits_Encoding.h(y4)\n",
        "  Eleven_Qubits_Encoding.h(x0)\n",
        "  Eleven_Qubits_Encoding.h(x1)\n",
        "  Eleven_Qubits_Encoding.h(x2)\n",
        "  Eleven_Qubits_Encoding.h(x3)\n",
        "  Eleven_Qubits_Encoding.h(x4)\n",
        "\n",
        "  # Probability Qubit Rotating\n",
        "  for i in range(32):\n",
        "    for j in range(32):\n",
        "      Rotate = QuantumCircuit(1)\n",
        "      Rotate.rx(2*np.arcsin(np.sqrt(matrix[i][j])), 0)\n",
        "      Ugate = Rotate.to_gate().control(10)\n",
        "\n",
        "      y_rot = Binary(i)\n",
        "      x_rot = Binary(j)\n",
        "\n",
        "      if y_rot[0]:\n",
        "        Eleven_Qubits_Encoding.x(y0)\n",
        "      if y_rot[1]:\n",
        "        Eleven_Qubits_Encoding.x(y1)\n",
        "      if y_rot[2]:\n",
        "        Eleven_Qubits_Encoding.x(y2)\n",
        "      if y_rot[3]:\n",
        "        Eleven_Qubits_Encoding.x(y3)\n",
        "      if y_rot[4]:\n",
        "        Eleven_Qubits_Encoding.x(y4)\n",
        "      if x_rot[0]:\n",
        "        Eleven_Qubits_Encoding.x(x0)\n",
        "      if x_rot[1]:\n",
        "        Eleven_Qubits_Encoding.x(x1)\n",
        "      if x_rot[2]:\n",
        "        Eleven_Qubits_Encoding.x(x2)\n",
        "      if x_rot[3]:\n",
        "        Eleven_Qubits_Encoding.x(x3)\n",
        "      if x_rot[4]:\n",
        "        Eleven_Qubits_Encoding.x(x4)\n",
        "      Eleven_Qubits_Encoding.append(Ugate, [y0, y1, y2, y3, y4, x0, x1, x2, x3, x4, s])\n",
        "      if y_rot[0]:\n",
        "        Eleven_Qubits_Encoding.x(y0)\n",
        "      if y_rot[1]:\n",
        "        Eleven_Qubits_Encoding.x(y1)\n",
        "      if y_rot[2]:\n",
        "        Eleven_Qubits_Encoding.x(y2)\n",
        "      if y_rot[3]:\n",
        "        Eleven_Qubits_Encoding.x(y3)\n",
        "      if y_rot[4]:\n",
        "        Eleven_Qubits_Encoding.x(y4)\n",
        "      if x_rot[0]:\n",
        "        Eleven_Qubits_Encoding.x(x0)\n",
        "      if x_rot[1]:\n",
        "        Eleven_Qubits_Encoding.x(x1)\n",
        "      if x_rot[2]:\n",
        "        Eleven_Qubits_Encoding.x(x2)\n",
        "      if x_rot[3]:\n",
        "        Eleven_Qubits_Encoding.x(x3)\n",
        "      if x_rot[4]:\n",
        "        Eleven_Qubits_Encoding.x(x4)\n",
        "\n",
        "  VGate = Eleven_Qubits_Encoding.to_gate()\n",
        "  return VGate"
      ],
      "metadata": {
        "id": "l3OwnUNN1mnV"
      },
      "execution_count": 54,
      "outputs": []
    },
    {
      "cell_type": "code",
      "source": [
        "Encoded_List = []\n",
        "for i in range(80):\n",
        "  Encoded_List.append(circuit_after_encoding(add_dummy(Train_Image[i])))"
      ],
      "metadata": {
        "id": "TXcD3blj2bgj"
      },
      "execution_count": 55,
      "outputs": []
    },
    {
      "cell_type": "code",
      "source": [
        "print(Encoded_List)"
      ],
      "metadata": {
        "id": "A3TXI6ft4BjK",
        "outputId": "bbb21b40-125d-4ef4-b357-1ecf35c895d9",
        "colab": {
          "base_uri": "https://localhost:8080/"
        }
      },
      "execution_count": 56,
      "outputs": [
        {
          "output_type": "stream",
          "name": "stdout",
          "text": [
            "[Instruction(name='circuit-216611', num_qubits=11, num_clbits=0, params=[]), Instruction(name='circuit-250462', num_qubits=11, num_clbits=0, params=[]), Instruction(name='circuit-283917', num_qubits=11, num_clbits=0, params=[]), Instruction(name='circuit-318044', num_qubits=11, num_clbits=0, params=[]), Instruction(name='circuit-351940', num_qubits=11, num_clbits=0, params=[]), Instruction(name='circuit-386235', num_qubits=11, num_clbits=0, params=[]), Instruction(name='circuit-419486', num_qubits=11, num_clbits=0, params=[]), Instruction(name='circuit-453589', num_qubits=11, num_clbits=0, params=[]), Instruction(name='circuit-487788', num_qubits=11, num_clbits=0, params=[]), Instruction(name='circuit-521861', num_qubits=11, num_clbits=0, params=[]), Instruction(name='circuit-556132', num_qubits=11, num_clbits=0, params=[]), Instruction(name='circuit-590193', num_qubits=11, num_clbits=0, params=[]), Instruction(name='circuit-623555', num_qubits=11, num_clbits=0, params=[]), Instruction(name='circuit-657238', num_qubits=11, num_clbits=0, params=[]), Instruction(name='circuit-690828', num_qubits=11, num_clbits=0, params=[]), Instruction(name='circuit-724913', num_qubits=11, num_clbits=0, params=[]), Instruction(name='circuit-759208', num_qubits=11, num_clbits=0, params=[]), Instruction(name='circuit-792489', num_qubits=11, num_clbits=0, params=[]), Instruction(name='circuit-825998', num_qubits=11, num_clbits=0, params=[]), Instruction(name='circuit-859822', num_qubits=11, num_clbits=0, params=[]), Instruction(name='circuit-893823', num_qubits=11, num_clbits=0, params=[]), Instruction(name='circuit-927194', num_qubits=11, num_clbits=0, params=[]), Instruction(name='circuit-961276', num_qubits=11, num_clbits=0, params=[]), Instruction(name='circuit-995472', num_qubits=11, num_clbits=0, params=[]), Instruction(name='circuit-1029587', num_qubits=11, num_clbits=0, params=[]), Instruction(name='circuit-1063933', num_qubits=11, num_clbits=0, params=[]), Instruction(name='circuit-1098021', num_qubits=11, num_clbits=0, params=[]), Instruction(name='circuit-1131455', num_qubits=11, num_clbits=0, params=[]), Instruction(name='circuit-1165507', num_qubits=11, num_clbits=0, params=[]), Instruction(name='circuit-1198647', num_qubits=11, num_clbits=0, params=[]), Instruction(name='circuit-1232648', num_qubits=11, num_clbits=0, params=[]), Instruction(name='circuit-1266115', num_qubits=11, num_clbits=0, params=[]), Instruction(name='circuit-1299834', num_qubits=11, num_clbits=0, params=[]), Instruction(name='circuit-1332992', num_qubits=11, num_clbits=0, params=[]), Instruction(name='circuit-1367068', num_qubits=11, num_clbits=0, params=[]), Instruction(name='circuit-1401351', num_qubits=11, num_clbits=0, params=[]), Instruction(name='circuit-1435556', num_qubits=11, num_clbits=0, params=[]), Instruction(name='circuit-1469740', num_qubits=11, num_clbits=0, params=[]), Instruction(name='circuit-1503216', num_qubits=11, num_clbits=0, params=[]), Instruction(name='circuit-1536827', num_qubits=11, num_clbits=0, params=[]), Instruction(name='circuit-1571101', num_qubits=11, num_clbits=0, params=[]), Instruction(name='circuit-1604997', num_qubits=11, num_clbits=0, params=[]), Instruction(name='circuit-1639025', num_qubits=11, num_clbits=0, params=[]), Instruction(name='circuit-1672495', num_qubits=11, num_clbits=0, params=[]), Instruction(name='circuit-1705743', num_qubits=11, num_clbits=0, params=[]), Instruction(name='circuit-1739747', num_qubits=11, num_clbits=0, params=[]), Instruction(name='circuit-1773811', num_qubits=11, num_clbits=0, params=[]), Instruction(name='circuit-1807893', num_qubits=11, num_clbits=0, params=[]), Instruction(name='circuit-1842179', num_qubits=11, num_clbits=0, params=[]), Instruction(name='circuit-1876378', num_qubits=11, num_clbits=0, params=[]), Instruction(name='circuit-1909650', num_qubits=11, num_clbits=0, params=[]), Instruction(name='circuit-1943843', num_qubits=11, num_clbits=0, params=[]), Instruction(name='circuit-1977475', num_qubits=11, num_clbits=0, params=[]), Instruction(name='circuit-2011905', num_qubits=11, num_clbits=0, params=[]), Instruction(name='circuit-2046032', num_qubits=11, num_clbits=0, params=[]), Instruction(name='circuit-2079850', num_qubits=11, num_clbits=0, params=[]), Instruction(name='circuit-2113665', num_qubits=11, num_clbits=0, params=[]), Instruction(name='circuit-2147903', num_qubits=11, num_clbits=0, params=[]), Instruction(name='circuit-2181178', num_qubits=11, num_clbits=0, params=[]), Instruction(name='circuit-2214564', num_qubits=11, num_clbits=0, params=[]), Instruction(name='circuit-2249150', num_qubits=11, num_clbits=0, params=[]), Instruction(name='circuit-2282944', num_qubits=11, num_clbits=0, params=[]), Instruction(name='circuit-2317221', num_qubits=11, num_clbits=0, params=[]), Instruction(name='circuit-2351000', num_qubits=11, num_clbits=0, params=[]), Instruction(name='circuit-2385112', num_qubits=11, num_clbits=0, params=[]), Instruction(name='circuit-2418315', num_qubits=11, num_clbits=0, params=[]), Instruction(name='circuit-2452019', num_qubits=11, num_clbits=0, params=[]), Instruction(name='circuit-2486206', num_qubits=11, num_clbits=0, params=[]), Instruction(name='circuit-2519964', num_qubits=11, num_clbits=0, params=[]), Instruction(name='circuit-2554157', num_qubits=11, num_clbits=0, params=[]), Instruction(name='circuit-2587642', num_qubits=11, num_clbits=0, params=[]), Instruction(name='circuit-2621019', num_qubits=11, num_clbits=0, params=[]), Instruction(name='circuit-2654435', num_qubits=11, num_clbits=0, params=[]), Instruction(name='circuit-2688739', num_qubits=11, num_clbits=0, params=[]), Instruction(name='circuit-2722512', num_qubits=11, num_clbits=0, params=[]), Instruction(name='circuit-2756015', num_qubits=11, num_clbits=0, params=[]), Instruction(name='circuit-2789677', num_qubits=11, num_clbits=0, params=[]), Instruction(name='circuit-2822928', num_qubits=11, num_clbits=0, params=[]), Instruction(name='circuit-2856806', num_qubits=11, num_clbits=0, params=[]), Instruction(name='circuit-2890951', num_qubits=11, num_clbits=0, params=[])]\n"
          ]
        }
      ]
    },
    {
      "cell_type": "markdown",
      "source": [
        "3) Constructing Parametrized Circuit"
      ],
      "metadata": {
        "id": "9vFPkExy4nEv"
      }
    },
    {
      "cell_type": "code",
      "source": [
        "# test is nested list\n",
        "# 'single' is # of 6 parameter on single qubit rotation\n",
        "# 'entangle' is # of 6 parameter on two qubit entanglement.\n",
        "def ansatz_for_each_image(num, single, entangle, single_s, entangle_s):\n",
        "\n",
        "\n",
        "  # State Encoding\n",
        "\n",
        "  Y_Qubits = QuantumRegister(5, 'y')\n",
        "  X_Qubits = QuantumRegister(5, 'x')\n",
        "  Probability_Qubit = QuantumRegister(1, 's')\n",
        "  Classical_Register = ClassicalRegister(1, 'c')\n",
        "  Eleven_Qubits_Encoding = QuantumCircuit(Y_Qubits, X_Qubits, Probability_Qubit, Classical_Register)\n",
        "\n",
        "  s = Probability_Qubit\n",
        "  y0, y1, y2, y3, y4 = Y_Qubits\n",
        "  x0, x1, x2, x3, x4 = X_Qubits\n",
        "\n",
        "  # Start from Encoded State\n",
        "  Eleven_Qubits_Encoding.append(Encoded_List[num], [y0, y1, y2, y3, y4, x0, x1, x2, x3, x4, s])\n",
        "\n",
        "  # Parametrized Quantum Circuit\n",
        "\n",
        "  # Universal Hadamard Gate\n",
        "  Eleven_Qubits_Encoding.h(y0)\n",
        "  Eleven_Qubits_Encoding.h(y1)\n",
        "  Eleven_Qubits_Encoding.h(y2)\n",
        "  Eleven_Qubits_Encoding.h(y3)\n",
        "  Eleven_Qubits_Encoding.h(y4)\n",
        "  Eleven_Qubits_Encoding.h(x0)\n",
        "  Eleven_Qubits_Encoding.h(x1)\n",
        "  Eleven_Qubits_Encoding.h(x2)\n",
        "  Eleven_Qubits_Encoding.h(x3)\n",
        "  Eleven_Qubits_Encoding.h(x4)\n",
        "\n",
        "  # Single Qubit Rotation & Two Qubits Entanglement Chain\n",
        "  Eleven_Qubits_Encoding.append(controlled_ry(entangle), [y0, y1])\n",
        "  Eleven_Qubits_Encoding.rx(single, y0)\n",
        "  Eleven_Qubits_Encoding.append(CXGate(), [y0, y1])\n",
        "\n",
        "  Eleven_Qubits_Encoding.append(controlled_ry(entangle), [y1, y2])\n",
        "  Eleven_Qubits_Encoding.rx(single, y1)\n",
        "  Eleven_Qubits_Encoding.append(CXGate(), [y1, y2])\n",
        "\n",
        "  Eleven_Qubits_Encoding.append(controlled_ry(entangle), [y2, y3])\n",
        "  Eleven_Qubits_Encoding.rx(single, y2)\n",
        "  Eleven_Qubits_Encoding.append(CXGate(), [y2, y3])\n",
        "\n",
        "  Eleven_Qubits_Encoding.append(controlled_ry(entangle), [y3, y4])\n",
        "  Eleven_Qubits_Encoding.rx(single, y3)\n",
        "  Eleven_Qubits_Encoding.append(CXGate(), [y3, y4])\n",
        "\n",
        "  Eleven_Qubits_Encoding.append(controlled_ry(entangle), [y4, s])\n",
        "  Eleven_Qubits_Encoding.rx(single, y4)\n",
        "  Eleven_Qubits_Encoding.append(CXGate(), [y4, s])\n",
        "\n",
        "  Eleven_Qubits_Encoding.append(controlled_ry(entangle_s), [s, y0])\n",
        "  Eleven_Qubits_Encoding.rx(single_s, s)\n",
        "  Eleven_Qubits_Encoding.append(CXGate(), [s, y0])\n",
        "\n",
        "  Eleven_Qubits_Encoding.append(controlled_ry(entangle), [x0, x1])\n",
        "  Eleven_Qubits_Encoding.rx(single, x0)\n",
        "  Eleven_Qubits_Encoding.append(CXGate(), [x0, x1])\n",
        "\n",
        "  Eleven_Qubits_Encoding.append(controlled_ry(entangle), [x1, x2])\n",
        "  Eleven_Qubits_Encoding.rx(single, x1)\n",
        "  Eleven_Qubits_Encoding.append(CXGate(), [x1, x2])\n",
        "\n",
        "  Eleven_Qubits_Encoding.append(controlled_ry(entangle), [x2, x3])\n",
        "  Eleven_Qubits_Encoding.rx(single, x2)\n",
        "  Eleven_Qubits_Encoding.append(CXGate(), [x2, x3])\n",
        "\n",
        "  Eleven_Qubits_Encoding.append(controlled_ry(entangle), [x3, x4])\n",
        "  Eleven_Qubits_Encoding.rx(single, x3)\n",
        "  Eleven_Qubits_Encoding.append(CXGate(), [x3, x4])\n",
        "\n",
        "  Eleven_Qubits_Encoding.append(controlled_ry(entangle), [x4, s])\n",
        "  Eleven_Qubits_Encoding.rx(single, x4)\n",
        "  Eleven_Qubits_Encoding.append(CXGate(), [x4, s])\n",
        "\n",
        "  Eleven_Qubits_Encoding.append(controlled_ry(entangle_s), [s, x0])\n",
        "  Eleven_Qubits_Encoding.rx(single_s, s)\n",
        "  Eleven_Qubits_Encoding.append(CXGate(), [s, x0])\n",
        "\n",
        "  Eleven_Qubits_Encoding.barrier()\n",
        "\n",
        "  # Universal Hadamard Gate\n",
        "  Eleven_Qubits_Encoding.h(y0)\n",
        "  Eleven_Qubits_Encoding.h(y1)\n",
        "  Eleven_Qubits_Encoding.h(y2)\n",
        "  Eleven_Qubits_Encoding.h(y3)\n",
        "  Eleven_Qubits_Encoding.h(y4)\n",
        "  Eleven_Qubits_Encoding.h(x0)\n",
        "  Eleven_Qubits_Encoding.h(x1)\n",
        "  Eleven_Qubits_Encoding.h(x2)\n",
        "  Eleven_Qubits_Encoding.h(x3)\n",
        "  Eleven_Qubits_Encoding.h(x4)\n",
        "\n",
        "  # Single Qubit Rotation & Two Qubits Entanglement Chain\n",
        "  Eleven_Qubits_Encoding.append(controlled_ry(entangle), [y0, y1])\n",
        "  Eleven_Qubits_Encoding.rx(single, y0)\n",
        "  Eleven_Qubits_Encoding.append(CXGate(), [y0, y1])\n",
        "\n",
        "  Eleven_Qubits_Encoding.append(controlled_ry(entangle), [y1, y2])\n",
        "  Eleven_Qubits_Encoding.rx(single, y1)\n",
        "  Eleven_Qubits_Encoding.append(CXGate(), [y1, y2])\n",
        "\n",
        "  Eleven_Qubits_Encoding.append(controlled_ry(entangle), [y2, y3])\n",
        "  Eleven_Qubits_Encoding.rx(single, y2)\n",
        "  Eleven_Qubits_Encoding.append(CXGate(), [y2, y3])\n",
        "\n",
        "  Eleven_Qubits_Encoding.append(controlled_ry(entangle), [y3, y4])\n",
        "  Eleven_Qubits_Encoding.rx(single, y3)\n",
        "  Eleven_Qubits_Encoding.append(CXGate(), [y3, y4])\n",
        "\n",
        "  Eleven_Qubits_Encoding.append(controlled_ry(entangle), [y4, s])\n",
        "  Eleven_Qubits_Encoding.rx(single, y4)\n",
        "  Eleven_Qubits_Encoding.append(CXGate(), [y4, s])\n",
        "\n",
        "  Eleven_Qubits_Encoding.append(controlled_ry(entangle), [x0, x1])\n",
        "  Eleven_Qubits_Encoding.rx(single, x0)\n",
        "  Eleven_Qubits_Encoding.append(CXGate(), [x0, x1])\n",
        "\n",
        "  Eleven_Qubits_Encoding.append(controlled_ry(entangle), [x1, x2])\n",
        "  Eleven_Qubits_Encoding.rx(single, x1)\n",
        "  Eleven_Qubits_Encoding.append(CXGate(), [x1, x2])\n",
        "\n",
        "  Eleven_Qubits_Encoding.append(controlled_ry(entangle), [x2, x3])\n",
        "  Eleven_Qubits_Encoding.rx(single, x2)\n",
        "  Eleven_Qubits_Encoding.append(CXGate(), [x2, x3])\n",
        "\n",
        "  Eleven_Qubits_Encoding.append(controlled_ry(entangle), [x3, x4])\n",
        "  Eleven_Qubits_Encoding.rx(single, x3)\n",
        "  Eleven_Qubits_Encoding.append(CXGate(), [x3, x4])\n",
        "\n",
        "  Eleven_Qubits_Encoding.append(controlled_ry(entangle), [x4, s])\n",
        "  Eleven_Qubits_Encoding.rx(single, x4)\n",
        "  Eleven_Qubits_Encoding.append(CXGate(), [x4, s])\n",
        "\n",
        "\n",
        "  # Measurement\n",
        "  Probability_List = []\n",
        "  Eleven_Qubits_Encoding.measure(10, 0)\n",
        "\n",
        "  # Probability of measuring 0, 1 on ith qubit\n",
        "  job = sampler.run(Eight_Qubits_Encoding, shots=100000)\n",
        "  result = job.result()\n",
        "\n",
        "  counts = dict(result.quasi_dists[0])\n",
        "  for i in range(2):\n",
        "    if counts.get(i) == None:\n",
        "      Probability_List.append(0)\n",
        "    else:\n",
        "      Probability_List.append(counts.get(i))\n",
        "\n",
        "  # Determinant\n",
        "  return (Probability_List[0] > Probability_List[1])\n"
      ],
      "metadata": {
        "id": "UHHv-9ZdUgFU"
      },
      "execution_count": 57,
      "outputs": []
    },
    {
      "cell_type": "markdown",
      "source": [
        "4) Cost Function : # of coincidence between label and\n",
        "\n",
        "probability differnece of 0 and 1 of 1 qubit"
      ],
      "metadata": {
        "id": "Ij5gtJBl0KL4"
      }
    },
    {
      "cell_type": "code",
      "source": [
        "def cost_function(Train_Image, Train_Label, single, entangle, single_s, entangle_s):\n",
        "  cnt = 0\n",
        "  for i in range(80):\n",
        "    if ansatz_for_each_image(i, single, entangle, single_s, entangle_s) == Train_Label[i]:\n",
        "      cnt = cnt + 1\n",
        "\n",
        "  return cnt"
      ],
      "metadata": {
        "id": "IFe94C6jUgAM"
      },
      "execution_count": 58,
      "outputs": []
    },
    {
      "cell_type": "code",
      "source": [
        "standard = cost_function(Train_Image, Train_Label, 0, 0, 0, 0)\n",
        "print(cost_function(Train_Image, Train_Label, 0, 0, 0, 0))"
      ],
      "metadata": {
        "id": "AJfCu31u8FKO",
        "outputId": "c5549332-9486-425f-9e84-85d088010aa8",
        "colab": {
          "base_uri": "https://localhost:8080/"
        }
      },
      "execution_count": 59,
      "outputs": [
        {
          "output_type": "stream",
          "name": "stdout",
          "text": [
            "42\n"
          ]
        }
      ]
    },
    {
      "cell_type": "markdown",
      "source": [
        "5) Training 1st Step : Investigating cost function of some parameters,\n",
        "\n",
        "investigation is not concentrated on some specified parameters,\n",
        "\n",
        "uniformly spreaded on bloch sphere."
      ],
      "metadata": {
        "id": "Ka72m-SI0yWC"
      }
    },
    {
      "cell_type": "code",
      "source": [
        "opt_single = 0\n",
        "opt_entangle = 0\n",
        "opt_single_s = 0\n",
        "opt_entangle_s = 0\n",
        "\n",
        "opt = standard\n",
        "\n",
        "for a in range(12):\n",
        "  for b in range(12):\n",
        "    for c in range(12):\n",
        "      for d in range(12):\n",
        "        single = np.pi*a/12\n",
        "        entangle = np.pi*b/12\n",
        "        single_s = np.pi*c/12\n",
        "        entangle_s = np.pi*d/12\n",
        "        new = cost_function(Train_Image, Train_Label, single, entangle, single_s, entangle_s)\n",
        "\n",
        "        if new > opt:\n",
        "          opt_single = single\n",
        "          opt_entangle = entangle\n",
        "          opt_single_s = single_s\n",
        "          opt_entangle_s = entangle_s\n",
        "          opt = new\n",
        "          print(single, entangle, single_s, entangle_s)\n",
        "          print(opt)\n",
        "          print()"
      ],
      "metadata": {
        "id": "QWDF12-0Ufgr",
        "outputId": "91864d87-48d0-481e-a872-a8f1c8e126e6",
        "colab": {
          "base_uri": "https://localhost:8080/",
          "height": 252
        }
      },
      "execution_count": 1,
      "outputs": [
        {
          "output_type": "error",
          "ename": "NameError",
          "evalue": "ignored",
          "traceback": [
            "\u001b[0;31m---------------------------------------------------------------------------\u001b[0m",
            "\u001b[0;31mNameError\u001b[0m                                 Traceback (most recent call last)",
            "\u001b[0;32m<ipython-input-1-3f3c842e121f>\u001b[0m in \u001b[0;36m<cell line: 6>\u001b[0;34m()\u001b[0m\n\u001b[1;32m      4\u001b[0m \u001b[0mopt_entangle_s\u001b[0m \u001b[0;34m=\u001b[0m \u001b[0;36m0\u001b[0m\u001b[0;34m\u001b[0m\u001b[0;34m\u001b[0m\u001b[0m\n\u001b[1;32m      5\u001b[0m \u001b[0;34m\u001b[0m\u001b[0m\n\u001b[0;32m----> 6\u001b[0;31m \u001b[0mopt\u001b[0m \u001b[0;34m=\u001b[0m \u001b[0mstandard\u001b[0m\u001b[0;34m\u001b[0m\u001b[0;34m\u001b[0m\u001b[0m\n\u001b[0m\u001b[1;32m      7\u001b[0m \u001b[0;34m\u001b[0m\u001b[0m\n\u001b[1;32m      8\u001b[0m \u001b[0;32mfor\u001b[0m \u001b[0ma\u001b[0m \u001b[0;32min\u001b[0m \u001b[0mrange\u001b[0m\u001b[0;34m(\u001b[0m\u001b[0;36m12\u001b[0m\u001b[0;34m)\u001b[0m\u001b[0;34m:\u001b[0m\u001b[0;34m\u001b[0m\u001b[0;34m\u001b[0m\u001b[0m\n",
            "\u001b[0;31mNameError\u001b[0m: name 'standard' is not defined"
          ]
        }
      ]
    },
    {
      "cell_type": "code",
      "source": [
        "print(opt_single, opt_entangle, opt_single_s, opt_entangle_s)\n",
        "print(opt)"
      ],
      "metadata": {
        "id": "PGN95aFOdG2G"
      },
      "execution_count": null,
      "outputs": []
    },
    {
      "cell_type": "markdown",
      "source": [
        "6) Training 2nd Step : Investigate Cost Function near optimized parameter point of 1st step."
      ],
      "metadata": {
        "id": "5e-CG9_49xww"
      }
    }
  ]
}