{
  "nbformat": 4,
  "nbformat_minor": 0,
  "metadata": {
    "colab": {
      "provenance": [],
      "machine_shape": "hm",
      "gpuType": "V100",
      "authorship_tag": "ABX9TyPh/qzbVB1g94HLf01+FTq3",
      "include_colab_link": true
    },
    "kernelspec": {
      "name": "python3",
      "display_name": "Python 3"
    },
    "language_info": {
      "name": "python"
    }
  },
  "cells": [
    {
      "cell_type": "markdown",
      "metadata": {
        "id": "view-in-github",
        "colab_type": "text"
      },
      "source": [
        "<a href=\"https://colab.research.google.com/github/BrainConnection/Quantum_Algorithm/blob/main/1.%20TFIM%20VQE.ipynb\" target=\"_parent\"><img src=\"https://colab.research.google.com/assets/colab-badge.svg\" alt=\"Open In Colab\"/></a>"
      ]
    },
    {
      "cell_type": "markdown",
      "source": [
        "# Environment Setting"
      ],
      "metadata": {
        "id": "nHZOKbnMg33g"
      }
    },
    {
      "cell_type": "code",
      "execution_count": 1,
      "metadata": {
        "colab": {
          "base_uri": "https://localhost:8080/"
        },
        "id": "09dlWASwmtoK",
        "outputId": "261570e4-82f7-4dbb-a408-3b11e266d583"
      },
      "outputs": [
        {
          "output_type": "stream",
          "name": "stdout",
          "text": [
            "Collecting qiskit\n",
            "  Downloading qiskit-1.0.2-cp38-abi3-manylinux_2_17_x86_64.manylinux2014_x86_64.whl (5.6 MB)\n",
            "\u001b[2K     \u001b[90m━━━━━━━━━━━━━━━━━━━━━━━━━━━━━━━━━━━━━━━━\u001b[0m \u001b[32m5.6/5.6 MB\u001b[0m \u001b[31m24.7 MB/s\u001b[0m eta \u001b[36m0:00:00\u001b[0m\n",
            "\u001b[?25hCollecting rustworkx>=0.14.0 (from qiskit)\n",
            "  Downloading rustworkx-0.14.1-cp310-cp310-manylinux_2_17_x86_64.manylinux2014_x86_64.whl (2.1 MB)\n",
            "\u001b[2K     \u001b[90m━━━━━━━━━━━━━━━━━━━━━━━━━━━━━━━━━━━━━━━━\u001b[0m \u001b[32m2.1/2.1 MB\u001b[0m \u001b[31m53.0 MB/s\u001b[0m eta \u001b[36m0:00:00\u001b[0m\n",
            "\u001b[?25hRequirement already satisfied: numpy<2,>=1.17 in /usr/local/lib/python3.10/dist-packages (from qiskit) (1.25.2)\n",
            "Requirement already satisfied: scipy>=1.5 in /usr/local/lib/python3.10/dist-packages (from qiskit) (1.11.4)\n",
            "Requirement already satisfied: sympy>=1.3 in /usr/local/lib/python3.10/dist-packages (from qiskit) (1.12)\n",
            "Collecting dill>=0.3 (from qiskit)\n",
            "  Downloading dill-0.3.8-py3-none-any.whl (116 kB)\n",
            "\u001b[2K     \u001b[90m━━━━━━━━━━━━━━━━━━━━━━━━━━━━━━━━━━━━━━━━\u001b[0m \u001b[32m116.3/116.3 kB\u001b[0m \u001b[31m14.4 MB/s\u001b[0m eta \u001b[36m0:00:00\u001b[0m\n",
            "\u001b[?25hRequirement already satisfied: python-dateutil>=2.8.0 in /usr/local/lib/python3.10/dist-packages (from qiskit) (2.8.2)\n",
            "Collecting stevedore>=3.0.0 (from qiskit)\n",
            "  Downloading stevedore-5.2.0-py3-none-any.whl (49 kB)\n",
            "\u001b[2K     \u001b[90m━━━━━━━━━━━━━━━━━━━━━━━━━━━━━━━━━━━━━━━━\u001b[0m \u001b[32m49.7/49.7 kB\u001b[0m \u001b[31m5.9 MB/s\u001b[0m eta \u001b[36m0:00:00\u001b[0m\n",
            "\u001b[?25hRequirement already satisfied: typing-extensions in /usr/local/lib/python3.10/dist-packages (from qiskit) (4.10.0)\n",
            "Collecting symengine>=0.11 (from qiskit)\n",
            "  Downloading symengine-0.11.0-cp310-cp310-manylinux_2_12_x86_64.manylinux2010_x86_64.whl (39.4 MB)\n",
            "\u001b[2K     \u001b[90m━━━━━━━━━━━━━━━━━━━━━━━━━━━━━━━━━━━━━━━━\u001b[0m \u001b[32m39.4/39.4 MB\u001b[0m \u001b[31m39.9 MB/s\u001b[0m eta \u001b[36m0:00:00\u001b[0m\n",
            "\u001b[?25hRequirement already satisfied: six>=1.5 in /usr/local/lib/python3.10/dist-packages (from python-dateutil>=2.8.0->qiskit) (1.16.0)\n",
            "Collecting pbr!=2.1.0,>=2.0.0 (from stevedore>=3.0.0->qiskit)\n",
            "  Downloading pbr-6.0.0-py2.py3-none-any.whl (107 kB)\n",
            "\u001b[2K     \u001b[90m━━━━━━━━━━━━━━━━━━━━━━━━━━━━━━━━━━━━━━━━\u001b[0m \u001b[32m107.5/107.5 kB\u001b[0m \u001b[31m13.1 MB/s\u001b[0m eta \u001b[36m0:00:00\u001b[0m\n",
            "\u001b[?25hRequirement already satisfied: mpmath>=0.19 in /usr/local/lib/python3.10/dist-packages (from sympy>=1.3->qiskit) (1.3.0)\n",
            "Installing collected packages: symengine, rustworkx, pbr, dill, stevedore, qiskit\n",
            "Successfully installed dill-0.3.8 pbr-6.0.0 qiskit-1.0.2 rustworkx-0.14.1 stevedore-5.2.0 symengine-0.11.0\n",
            "Collecting qiskit-ibm-runtime\n",
            "  Downloading qiskit_ibm_runtime-0.21.1-py3-none-any.whl (3.0 MB)\n",
            "\u001b[2K     \u001b[90m━━━━━━━━━━━━━━━━━━━━━━━━━━━━━━━━━━━━━━━━\u001b[0m \u001b[32m3.0/3.0 MB\u001b[0m \u001b[31m16.2 MB/s\u001b[0m eta \u001b[36m0:00:00\u001b[0m\n",
            "\u001b[?25hRequirement already satisfied: requests>=2.19 in /usr/local/lib/python3.10/dist-packages (from qiskit-ibm-runtime) (2.31.0)\n",
            "Collecting requests-ntlm>=1.1.0 (from qiskit-ibm-runtime)\n",
            "  Downloading requests_ntlm-1.2.0-py3-none-any.whl (6.0 kB)\n",
            "Requirement already satisfied: numpy>=1.13 in /usr/local/lib/python3.10/dist-packages (from qiskit-ibm-runtime) (1.25.2)\n",
            "Requirement already satisfied: urllib3>=1.21.1 in /usr/local/lib/python3.10/dist-packages (from qiskit-ibm-runtime) (2.0.7)\n",
            "Requirement already satisfied: python-dateutil>=2.8.0 in /usr/local/lib/python3.10/dist-packages (from qiskit-ibm-runtime) (2.8.2)\n",
            "Requirement already satisfied: websocket-client>=1.5.1 in /usr/local/lib/python3.10/dist-packages (from qiskit-ibm-runtime) (1.7.0)\n",
            "Collecting ibm-platform-services>=0.22.6 (from qiskit-ibm-runtime)\n",
            "  Downloading ibm-platform-services-0.52.0.tar.gz (316 kB)\n",
            "\u001b[2K     \u001b[90m━━━━━━━━━━━━━━━━━━━━━━━━━━━━━━━━━━━━━━━━\u001b[0m \u001b[32m316.3/316.3 kB\u001b[0m \u001b[31m21.1 MB/s\u001b[0m eta \u001b[36m0:00:00\u001b[0m\n",
            "\u001b[?25h  Installing build dependencies ... \u001b[?25l\u001b[?25hdone\n",
            "  Getting requirements to build wheel ... \u001b[?25l\u001b[?25hdone\n",
            "  Preparing metadata (pyproject.toml) ... \u001b[?25l\u001b[?25hdone\n",
            "Requirement already satisfied: pydantic in /usr/local/lib/python3.10/dist-packages (from qiskit-ibm-runtime) (2.6.3)\n",
            "Requirement already satisfied: qiskit>=1.0.0 in /usr/local/lib/python3.10/dist-packages (from qiskit-ibm-runtime) (1.0.2)\n",
            "Collecting ibm-cloud-sdk-core<4.0.0,>=3.19.2 (from ibm-platform-services>=0.22.6->qiskit-ibm-runtime)\n",
            "  Downloading ibm-cloud-sdk-core-3.19.2.tar.gz (61 kB)\n",
            "\u001b[2K     \u001b[90m━━━━━━━━━━━━━━━━━━━━━━━━━━━━━━━━━━━━━━━━\u001b[0m \u001b[32m62.0/62.0 kB\u001b[0m \u001b[31m7.1 MB/s\u001b[0m eta \u001b[36m0:00:00\u001b[0m\n",
            "\u001b[?25h  Installing build dependencies ... \u001b[?25l\u001b[?25hdone\n",
            "  Getting requirements to build wheel ... \u001b[?25l\u001b[?25hdone\n",
            "  Preparing metadata (pyproject.toml) ... \u001b[?25l\u001b[?25hdone\n",
            "Requirement already satisfied: six>=1.5 in /usr/local/lib/python3.10/dist-packages (from python-dateutil>=2.8.0->qiskit-ibm-runtime) (1.16.0)\n",
            "Requirement already satisfied: rustworkx>=0.14.0 in /usr/local/lib/python3.10/dist-packages (from qiskit>=1.0.0->qiskit-ibm-runtime) (0.14.1)\n",
            "Requirement already satisfied: scipy>=1.5 in /usr/local/lib/python3.10/dist-packages (from qiskit>=1.0.0->qiskit-ibm-runtime) (1.11.4)\n",
            "Requirement already satisfied: sympy>=1.3 in /usr/local/lib/python3.10/dist-packages (from qiskit>=1.0.0->qiskit-ibm-runtime) (1.12)\n",
            "Requirement already satisfied: dill>=0.3 in /usr/local/lib/python3.10/dist-packages (from qiskit>=1.0.0->qiskit-ibm-runtime) (0.3.8)\n",
            "Requirement already satisfied: stevedore>=3.0.0 in /usr/local/lib/python3.10/dist-packages (from qiskit>=1.0.0->qiskit-ibm-runtime) (5.2.0)\n",
            "Requirement already satisfied: typing-extensions in /usr/local/lib/python3.10/dist-packages (from qiskit>=1.0.0->qiskit-ibm-runtime) (4.10.0)\n",
            "Requirement already satisfied: symengine>=0.11 in /usr/local/lib/python3.10/dist-packages (from qiskit>=1.0.0->qiskit-ibm-runtime) (0.11.0)\n",
            "Requirement already satisfied: charset-normalizer<4,>=2 in /usr/local/lib/python3.10/dist-packages (from requests>=2.19->qiskit-ibm-runtime) (3.3.2)\n",
            "Requirement already satisfied: idna<4,>=2.5 in /usr/local/lib/python3.10/dist-packages (from requests>=2.19->qiskit-ibm-runtime) (3.6)\n",
            "Requirement already satisfied: certifi>=2017.4.17 in /usr/local/lib/python3.10/dist-packages (from requests>=2.19->qiskit-ibm-runtime) (2024.2.2)\n",
            "Requirement already satisfied: cryptography>=1.3 in /usr/local/lib/python3.10/dist-packages (from requests-ntlm>=1.1.0->qiskit-ibm-runtime) (42.0.5)\n",
            "Collecting pyspnego>=0.1.6 (from requests-ntlm>=1.1.0->qiskit-ibm-runtime)\n",
            "  Downloading pyspnego-0.10.2-py3-none-any.whl (129 kB)\n",
            "\u001b[2K     \u001b[90m━━━━━━━━━━━━━━━━━━━━━━━━━━━━━━━━━━━━━━━━\u001b[0m \u001b[32m129.9/129.9 kB\u001b[0m \u001b[31m14.9 MB/s\u001b[0m eta \u001b[36m0:00:00\u001b[0m\n",
            "\u001b[?25hRequirement already satisfied: annotated-types>=0.4.0 in /usr/local/lib/python3.10/dist-packages (from pydantic->qiskit-ibm-runtime) (0.6.0)\n",
            "Requirement already satisfied: pydantic-core==2.16.3 in /usr/local/lib/python3.10/dist-packages (from pydantic->qiskit-ibm-runtime) (2.16.3)\n",
            "Requirement already satisfied: cffi>=1.12 in /usr/local/lib/python3.10/dist-packages (from cryptography>=1.3->requests-ntlm>=1.1.0->qiskit-ibm-runtime) (1.16.0)\n",
            "Collecting urllib3>=1.21.1 (from qiskit-ibm-runtime)\n",
            "  Downloading urllib3-2.2.1-py3-none-any.whl (121 kB)\n",
            "\u001b[2K     \u001b[90m━━━━━━━━━━━━━━━━━━━━━━━━━━━━━━━━━━━━━━━━\u001b[0m \u001b[32m121.1/121.1 kB\u001b[0m \u001b[31m13.6 MB/s\u001b[0m eta \u001b[36m0:00:00\u001b[0m\n",
            "\u001b[?25hCollecting PyJWT<3.0.0,>=2.8.0 (from ibm-cloud-sdk-core<4.0.0,>=3.19.2->ibm-platform-services>=0.22.6->qiskit-ibm-runtime)\n",
            "  Downloading PyJWT-2.8.0-py3-none-any.whl (22 kB)\n",
            "Requirement already satisfied: pbr!=2.1.0,>=2.0.0 in /usr/local/lib/python3.10/dist-packages (from stevedore>=3.0.0->qiskit>=1.0.0->qiskit-ibm-runtime) (6.0.0)\n",
            "Requirement already satisfied: mpmath>=0.19 in /usr/local/lib/python3.10/dist-packages (from sympy>=1.3->qiskit>=1.0.0->qiskit-ibm-runtime) (1.3.0)\n",
            "Requirement already satisfied: pycparser in /usr/local/lib/python3.10/dist-packages (from cffi>=1.12->cryptography>=1.3->requests-ntlm>=1.1.0->qiskit-ibm-runtime) (2.21)\n",
            "Building wheels for collected packages: ibm-platform-services, ibm-cloud-sdk-core\n",
            "  Building wheel for ibm-platform-services (pyproject.toml) ... \u001b[?25l\u001b[?25hdone\n",
            "  Created wheel for ibm-platform-services: filename=ibm_platform_services-0.52.0-py3-none-any.whl size=331900 sha256=22642a993c3511fde8854b3016739edd9275cc4a2dc9c156c4cc016dbf03ba97\n",
            "  Stored in directory: /root/.cache/pip/wheels/9b/34/7b/f02968953b977f20d07a36eab5f7ea8c4d6590f5919940a9f8\n",
            "  Building wheel for ibm-cloud-sdk-core (pyproject.toml) ... \u001b[?25l\u001b[?25hdone\n",
            "  Created wheel for ibm-cloud-sdk-core: filename=ibm_cloud_sdk_core-3.19.2-py3-none-any.whl size=98827 sha256=15a05993e58a190469b835139e6adc1e3333b262184075f6ac69f0bff3800a23\n",
            "  Stored in directory: /root/.cache/pip/wheels/90/05/db/f544eb28b85089bf6cf29cb9e30f56b471bf59d56a46c92519\n",
            "Successfully built ibm-platform-services ibm-cloud-sdk-core\n",
            "Installing collected packages: urllib3, PyJWT, pyspnego, ibm-cloud-sdk-core, requests-ntlm, ibm-platform-services, qiskit-ibm-runtime\n",
            "  Attempting uninstall: urllib3\n",
            "    Found existing installation: urllib3 2.0.7\n",
            "    Uninstalling urllib3-2.0.7:\n",
            "      Successfully uninstalled urllib3-2.0.7\n",
            "  Attempting uninstall: PyJWT\n",
            "    Found existing installation: PyJWT 2.3.0\n",
            "    Uninstalling PyJWT-2.3.0:\n",
            "      Successfully uninstalled PyJWT-2.3.0\n",
            "Successfully installed PyJWT-2.8.0 ibm-cloud-sdk-core-3.19.2 ibm-platform-services-0.52.0 pyspnego-0.10.2 qiskit-ibm-runtime-0.21.1 requests-ntlm-1.2.0 urllib3-2.2.1\n",
            "Requirement already satisfied: qiskit[visualization] in /usr/local/lib/python3.10/dist-packages (1.0.2)\n",
            "Requirement already satisfied: rustworkx>=0.14.0 in /usr/local/lib/python3.10/dist-packages (from qiskit[visualization]) (0.14.1)\n",
            "Requirement already satisfied: numpy<2,>=1.17 in /usr/local/lib/python3.10/dist-packages (from qiskit[visualization]) (1.25.2)\n",
            "Requirement already satisfied: scipy>=1.5 in /usr/local/lib/python3.10/dist-packages (from qiskit[visualization]) (1.11.4)\n",
            "Requirement already satisfied: sympy>=1.3 in /usr/local/lib/python3.10/dist-packages (from qiskit[visualization]) (1.12)\n",
            "Requirement already satisfied: dill>=0.3 in /usr/local/lib/python3.10/dist-packages (from qiskit[visualization]) (0.3.8)\n",
            "Requirement already satisfied: python-dateutil>=2.8.0 in /usr/local/lib/python3.10/dist-packages (from qiskit[visualization]) (2.8.2)\n",
            "Requirement already satisfied: stevedore>=3.0.0 in /usr/local/lib/python3.10/dist-packages (from qiskit[visualization]) (5.2.0)\n",
            "Requirement already satisfied: typing-extensions in /usr/local/lib/python3.10/dist-packages (from qiskit[visualization]) (4.10.0)\n",
            "Requirement already satisfied: symengine>=0.11 in /usr/local/lib/python3.10/dist-packages (from qiskit[visualization]) (0.11.0)\n",
            "Requirement already satisfied: matplotlib>=3.3 in /usr/local/lib/python3.10/dist-packages (from qiskit[visualization]) (3.7.1)\n",
            "Requirement already satisfied: pydot in /usr/local/lib/python3.10/dist-packages (from qiskit[visualization]) (1.4.2)\n",
            "Requirement already satisfied: Pillow>=4.2.1 in /usr/local/lib/python3.10/dist-packages (from qiskit[visualization]) (9.4.0)\n",
            "Collecting pylatexenc>=1.4 (from qiskit[visualization])\n",
            "  Downloading pylatexenc-2.10.tar.gz (162 kB)\n",
            "\u001b[2K     \u001b[90m━━━━━━━━━━━━━━━━━━━━━━━━━━━━━━━━━━━━━━━━\u001b[0m \u001b[32m162.6/162.6 kB\u001b[0m \u001b[31m4.3 MB/s\u001b[0m eta \u001b[36m0:00:00\u001b[0m\n",
            "\u001b[?25h  Preparing metadata (setup.py) ... \u001b[?25l\u001b[?25hdone\n",
            "Requirement already satisfied: seaborn>=0.9.0 in /usr/local/lib/python3.10/dist-packages (from qiskit[visualization]) (0.13.1)\n",
            "Requirement already satisfied: contourpy>=1.0.1 in /usr/local/lib/python3.10/dist-packages (from matplotlib>=3.3->qiskit[visualization]) (1.2.0)\n",
            "Requirement already satisfied: cycler>=0.10 in /usr/local/lib/python3.10/dist-packages (from matplotlib>=3.3->qiskit[visualization]) (0.12.1)\n",
            "Requirement already satisfied: fonttools>=4.22.0 in /usr/local/lib/python3.10/dist-packages (from matplotlib>=3.3->qiskit[visualization]) (4.49.0)\n",
            "Requirement already satisfied: kiwisolver>=1.0.1 in /usr/local/lib/python3.10/dist-packages (from matplotlib>=3.3->qiskit[visualization]) (1.4.5)\n",
            "Requirement already satisfied: packaging>=20.0 in /usr/local/lib/python3.10/dist-packages (from matplotlib>=3.3->qiskit[visualization]) (23.2)\n",
            "Requirement already satisfied: pyparsing>=2.3.1 in /usr/local/lib/python3.10/dist-packages (from matplotlib>=3.3->qiskit[visualization]) (3.1.1)\n",
            "Requirement already satisfied: six>=1.5 in /usr/local/lib/python3.10/dist-packages (from python-dateutil>=2.8.0->qiskit[visualization]) (1.16.0)\n",
            "Requirement already satisfied: pandas>=1.2 in /usr/local/lib/python3.10/dist-packages (from seaborn>=0.9.0->qiskit[visualization]) (1.5.3)\n",
            "Requirement already satisfied: pbr!=2.1.0,>=2.0.0 in /usr/local/lib/python3.10/dist-packages (from stevedore>=3.0.0->qiskit[visualization]) (6.0.0)\n",
            "Requirement already satisfied: mpmath>=0.19 in /usr/local/lib/python3.10/dist-packages (from sympy>=1.3->qiskit[visualization]) (1.3.0)\n",
            "Requirement already satisfied: pytz>=2020.1 in /usr/local/lib/python3.10/dist-packages (from pandas>=1.2->seaborn>=0.9.0->qiskit[visualization]) (2023.4)\n",
            "Building wheels for collected packages: pylatexenc\n",
            "  Building wheel for pylatexenc (setup.py) ... \u001b[?25l\u001b[?25hdone\n",
            "  Created wheel for pylatexenc: filename=pylatexenc-2.10-py3-none-any.whl size=136816 sha256=79b56783d4e83ba120ba1b50a07c06e6d166bde7f2b2cc7856ad54427706de0f\n",
            "  Stored in directory: /root/.cache/pip/wheels/d3/31/8b/e09b0386afd80cfc556c00408c9aeea5c35c4d484a9c762fd5\n",
            "Successfully built pylatexenc\n",
            "Installing collected packages: pylatexenc\n",
            "Successfully installed pylatexenc-2.10\n",
            "Collecting qiskit-algorithms\n",
            "  Downloading qiskit_algorithms-0.3.0-py3-none-any.whl (308 kB)\n",
            "\u001b[2K     \u001b[90m━━━━━━━━━━━━━━━━━━━━━━━━━━━━━━━━━━━━━━━━\u001b[0m \u001b[32m308.6/308.6 kB\u001b[0m \u001b[31m5.9 MB/s\u001b[0m eta \u001b[36m0:00:00\u001b[0m\n",
            "\u001b[?25hRequirement already satisfied: qiskit>=0.44 in /usr/local/lib/python3.10/dist-packages (from qiskit-algorithms) (1.0.2)\n",
            "Requirement already satisfied: scipy>=1.4 in /usr/local/lib/python3.10/dist-packages (from qiskit-algorithms) (1.11.4)\n",
            "Requirement already satisfied: numpy>=1.17 in /usr/local/lib/python3.10/dist-packages (from qiskit-algorithms) (1.25.2)\n",
            "Requirement already satisfied: rustworkx>=0.14.0 in /usr/local/lib/python3.10/dist-packages (from qiskit>=0.44->qiskit-algorithms) (0.14.1)\n",
            "Requirement already satisfied: sympy>=1.3 in /usr/local/lib/python3.10/dist-packages (from qiskit>=0.44->qiskit-algorithms) (1.12)\n",
            "Requirement already satisfied: dill>=0.3 in /usr/local/lib/python3.10/dist-packages (from qiskit>=0.44->qiskit-algorithms) (0.3.8)\n",
            "Requirement already satisfied: python-dateutil>=2.8.0 in /usr/local/lib/python3.10/dist-packages (from qiskit>=0.44->qiskit-algorithms) (2.8.2)\n",
            "Requirement already satisfied: stevedore>=3.0.0 in /usr/local/lib/python3.10/dist-packages (from qiskit>=0.44->qiskit-algorithms) (5.2.0)\n",
            "Requirement already satisfied: typing-extensions in /usr/local/lib/python3.10/dist-packages (from qiskit>=0.44->qiskit-algorithms) (4.10.0)\n",
            "Requirement already satisfied: symengine>=0.11 in /usr/local/lib/python3.10/dist-packages (from qiskit>=0.44->qiskit-algorithms) (0.11.0)\n",
            "Requirement already satisfied: six>=1.5 in /usr/local/lib/python3.10/dist-packages (from python-dateutil>=2.8.0->qiskit>=0.44->qiskit-algorithms) (1.16.0)\n",
            "Requirement already satisfied: pbr!=2.1.0,>=2.0.0 in /usr/local/lib/python3.10/dist-packages (from stevedore>=3.0.0->qiskit>=0.44->qiskit-algorithms) (6.0.0)\n",
            "Requirement already satisfied: mpmath>=0.19 in /usr/local/lib/python3.10/dist-packages (from sympy>=1.3->qiskit>=0.44->qiskit-algorithms) (1.3.0)\n",
            "Installing collected packages: qiskit-algorithms\n",
            "Successfully installed qiskit-algorithms-0.3.0\n",
            "Collecting qiskit-aer\n",
            "  Downloading qiskit_aer-0.13.3-cp310-cp310-manylinux_2_17_x86_64.manylinux2014_x86_64.whl (12.3 MB)\n",
            "\u001b[2K     \u001b[90m━━━━━━━━━━━━━━━━━━━━━━━━━━━━━━━━━━━━━━━━\u001b[0m \u001b[32m12.3/12.3 MB\u001b[0m \u001b[31m47.3 MB/s\u001b[0m eta \u001b[36m0:00:00\u001b[0m\n",
            "\u001b[?25hRequirement already satisfied: qiskit>=0.45.0 in /usr/local/lib/python3.10/dist-packages (from qiskit-aer) (1.0.2)\n",
            "Requirement already satisfied: numpy>=1.16.3 in /usr/local/lib/python3.10/dist-packages (from qiskit-aer) (1.25.2)\n",
            "Requirement already satisfied: scipy>=1.0 in /usr/local/lib/python3.10/dist-packages (from qiskit-aer) (1.11.4)\n",
            "Requirement already satisfied: psutil>=5 in /usr/local/lib/python3.10/dist-packages (from qiskit-aer) (5.9.5)\n",
            "Requirement already satisfied: rustworkx>=0.14.0 in /usr/local/lib/python3.10/dist-packages (from qiskit>=0.45.0->qiskit-aer) (0.14.1)\n",
            "Requirement already satisfied: sympy>=1.3 in /usr/local/lib/python3.10/dist-packages (from qiskit>=0.45.0->qiskit-aer) (1.12)\n",
            "Requirement already satisfied: dill>=0.3 in /usr/local/lib/python3.10/dist-packages (from qiskit>=0.45.0->qiskit-aer) (0.3.8)\n",
            "Requirement already satisfied: python-dateutil>=2.8.0 in /usr/local/lib/python3.10/dist-packages (from qiskit>=0.45.0->qiskit-aer) (2.8.2)\n",
            "Requirement already satisfied: stevedore>=3.0.0 in /usr/local/lib/python3.10/dist-packages (from qiskit>=0.45.0->qiskit-aer) (5.2.0)\n",
            "Requirement already satisfied: typing-extensions in /usr/local/lib/python3.10/dist-packages (from qiskit>=0.45.0->qiskit-aer) (4.10.0)\n",
            "Requirement already satisfied: symengine>=0.11 in /usr/local/lib/python3.10/dist-packages (from qiskit>=0.45.0->qiskit-aer) (0.11.0)\n",
            "Requirement already satisfied: six>=1.5 in /usr/local/lib/python3.10/dist-packages (from python-dateutil>=2.8.0->qiskit>=0.45.0->qiskit-aer) (1.16.0)\n",
            "Requirement already satisfied: pbr!=2.1.0,>=2.0.0 in /usr/local/lib/python3.10/dist-packages (from stevedore>=3.0.0->qiskit>=0.45.0->qiskit-aer) (6.0.0)\n",
            "Requirement already satisfied: mpmath>=0.19 in /usr/local/lib/python3.10/dist-packages (from sympy>=1.3->qiskit>=0.45.0->qiskit-aer) (1.3.0)\n",
            "Installing collected packages: qiskit-aer\n",
            "Successfully installed qiskit-aer-0.13.3\n",
            "Requirement already satisfied: scipy in /usr/local/lib/python3.10/dist-packages (1.11.4)\n",
            "Requirement already satisfied: numpy<1.28.0,>=1.21.6 in /usr/local/lib/python3.10/dist-packages (from scipy) (1.25.2)\n",
            "Requirement already satisfied: matplotlib in /usr/local/lib/python3.10/dist-packages (3.7.1)\n",
            "Requirement already satisfied: contourpy>=1.0.1 in /usr/local/lib/python3.10/dist-packages (from matplotlib) (1.2.0)\n",
            "Requirement already satisfied: cycler>=0.10 in /usr/local/lib/python3.10/dist-packages (from matplotlib) (0.12.1)\n",
            "Requirement already satisfied: fonttools>=4.22.0 in /usr/local/lib/python3.10/dist-packages (from matplotlib) (4.49.0)\n",
            "Requirement already satisfied: kiwisolver>=1.0.1 in /usr/local/lib/python3.10/dist-packages (from matplotlib) (1.4.5)\n",
            "Requirement already satisfied: numpy>=1.20 in /usr/local/lib/python3.10/dist-packages (from matplotlib) (1.25.2)\n",
            "Requirement already satisfied: packaging>=20.0 in /usr/local/lib/python3.10/dist-packages (from matplotlib) (23.2)\n",
            "Requirement already satisfied: pillow>=6.2.0 in /usr/local/lib/python3.10/dist-packages (from matplotlib) (9.4.0)\n",
            "Requirement already satisfied: pyparsing>=2.3.1 in /usr/local/lib/python3.10/dist-packages (from matplotlib) (3.1.1)\n",
            "Requirement already satisfied: python-dateutil>=2.7 in /usr/local/lib/python3.10/dist-packages (from matplotlib) (2.8.2)\n",
            "Requirement already satisfied: six>=1.5 in /usr/local/lib/python3.10/dist-packages (from python-dateutil>=2.7->matplotlib) (1.16.0)\n"
          ]
        }
      ],
      "source": [
        "!pip install qiskit\n",
        "!pip install qiskit-ibm-runtime\n",
        "!pip install qiskit[visualization]\n",
        "!pip install qiskit-algorithms\n",
        "!pip install qiskit-aer\n",
        "\n",
        "!pip install scipy\n",
        "!pip install matplotlib"
      ]
    },
    {
      "cell_type": "code",
      "source": [
        "from qiskit_ibm_runtime import QiskitRuntimeService, Estimator, Options\n",
        "\n",
        "# Save an IBM Quantum account and set it as your default account.\n",
        "QiskitRuntimeService.save_account(channel=\"ibm_quantum\",\n",
        "                                  token=\"067e5c82606f0a1157dd554e2087d6b7a9b823dbaa4ad47b95c3337eab2e6cd9361719cc0470f4a98d1631b73b264a82577012a0b8ff32963d5964e6cc12c525\",\n",
        "                                  set_as_default=True,\n",
        "                                  overwrite=True)\n",
        "\n",
        "service = QiskitRuntimeService()\n",
        "backend = service.backend(\"ibmq_qasm_simulator\")"
      ],
      "metadata": {
        "id": "2WPbDpzlm75h"
      },
      "execution_count": 2,
      "outputs": []
    },
    {
      "cell_type": "markdown",
      "source": [
        "# Hamiltonian Diagonalization"
      ],
      "metadata": {
        "id": "KxlrsTqLfZMB"
      }
    },
    {
      "cell_type": "markdown",
      "source": [
        "$$ H = -(1-g) Σ Z_j Z_{j+1} -g Σ X_j  $$\n",
        "\n",
        "1D 5 Qubit System"
      ],
      "metadata": {
        "id": "ECHhrgxzxyoj"
      }
    },
    {
      "cell_type": "code",
      "source": [
        "from qiskit.quantum_info import SparsePauliOp\n",
        "import numpy as np\n",
        "import matplotlib.pyplot as plt"
      ],
      "metadata": {
        "id": "DtnIBeDK08QA"
      },
      "execution_count": null,
      "outputs": []
    },
    {
      "cell_type": "code",
      "source": [
        "def exact_eigen_energy_open(g):\n",
        "  interation = -(1-g)\n",
        "  bias = -g\n",
        "\n",
        "  coeff_list = [interation for _ in range(5)] + [bias for _ in range(5)]\n",
        "  operator_list = [\"ZZIII\", \"IZZII\", \"IIZZI\", \"IIIZZ\", \"ZIIIZ\", \"XIIII\", \"IXIII\", \"IIXII\", \"IIIXI\", \"IIIIX\"]\n",
        "  hamiltonian_list = []\n",
        "  for i in range(10):\n",
        "    hamiltonian_list.append((operator_list[i], coeff_list[i]))\n",
        "  hamiltonian = SparsePauliOp.from_list(hamiltonian_list)\n",
        "  hamiltonian_matrix = hamiltonian.to_matrix()\n",
        "\n",
        "  eigenvalue, eigenvector = np.linalg.eig(hamiltonian_matrix)\n",
        "\n",
        "  lowest_energy = np.min(eigenvalue)\n",
        "  return np.real(lowest_energy)"
      ],
      "metadata": {
        "id": "eenfvejGyy9S"
      },
      "execution_count": null,
      "outputs": []
    },
    {
      "cell_type": "code",
      "source": [
        "def exact_eigen_energy_closed(g):\n",
        "  interation = -(1-g)\n",
        "  bias = -g\n",
        "\n",
        "  coeff_list = [interation for _ in range(4)] + [bias for _ in range(5)]\n",
        "  operator_list = [\"ZZIII\", \"IZZII\", \"IIZZI\", \"IIIZZ\", \"XIIII\", \"IXIII\", \"IIXII\", \"IIIXI\", \"IIIIX\"]\n",
        "  hamiltonian_list = []\n",
        "  for i in range(9):\n",
        "    hamiltonian_list.append((operator_list[i], coeff_list[i]))\n",
        "  hamiltonian = SparsePauliOp.from_list(hamiltonian_list)\n",
        "  hamiltonian_matrix = hamiltonian.to_matrix()\n",
        "\n",
        "  eigenvalue, eigenvector = np.linalg.eig(hamiltonian_matrix)\n",
        "\n",
        "  lowest_energy = np.min(eigenvalue)\n",
        "  return np.real(lowest_energy)"
      ],
      "metadata": {
        "id": "ZeN7EPT50-h4"
      },
      "execution_count": null,
      "outputs": []
    },
    {
      "cell_type": "code",
      "source": [
        "g_list = np.array([0.0001*g for g in range(10001)])\n",
        "open_energy_list = np.array([exact_eigen_energy_open(0.0001*g) for g in range(10001)])\n",
        "closed_energy_list = np.array([exact_eigen_energy_closed(0.0001*g) for g in range(10001)])\n",
        "\n",
        "plt.figure()\n",
        "plt.plot(g_list, open_energy_list, label=\"Open\")\n",
        "plt.plot(g_list, closed_energy_list, label=\"Closed\")\n",
        "plt.xlabel(\"Bias coefficient g\")\n",
        "plt.ylabel(\"Lowest energy\")\n",
        "plt.legend()"
      ],
      "metadata": {
        "id": "90_uPgNZfbeT",
        "colab": {
          "base_uri": "https://localhost:8080/",
          "height": 467
        },
        "outputId": "48127783-a08c-4bd1-976c-e068614500fa"
      },
      "execution_count": null,
      "outputs": [
        {
          "output_type": "execute_result",
          "data": {
            "text/plain": [
              "<matplotlib.legend.Legend at 0x7cd644a78340>"
            ]
          },
          "metadata": {},
          "execution_count": 6
        },
        {
          "output_type": "display_data",
          "data": {
            "text/plain": [
              "<Figure size 640x480 with 1 Axes>"
            ],
            "image/png": "[encoded data removed]"
          },
          "metadata": {}
        }
      ]
    },
    {
      "cell_type": "code",
      "source": [
        "interation = 1\n",
        "bias = -1\n",
        "\n",
        "coeff_list = [interation for _ in range(5)] + [bias for _ in range(5)]\n",
        "operator_list = [\"ZZIII\", \"IZZII\", \"IIZZI\", \"IIIZZ\", \"ZIIIZ\", \"XIIII\", \"IXIII\", \"IIXII\", \"IIIXI\", \"IIIIX\"]\n",
        "hamiltonian_list = []\n",
        "for i in range(10):\n",
        "  hamiltonian_list.append((operator_list[i], coeff_list[i]))\n",
        "hamiltonian = SparsePauliOp.from_list(hamiltonian_list)\n",
        "hamiltonian_matrix = hamiltonian.to_matrix()\n",
        "\n",
        "eigenvalue, eigenvector = np.linalg.eig(hamiltonian_matrix)\n",
        "\n",
        "lowest_energy = np.min(eigenvalue)\n",
        "\n",
        "np.real(lowest_energy)"
      ],
      "metadata": {
        "colab": {
          "base_uri": "https://localhost:8080/"
        },
        "id": "DF1a7aGu4fUc",
        "outputId": "a15b9462-97fb-4fc5-9f5d-58c13ffb9f6c"
      },
      "execution_count": null,
      "outputs": [
        {
          "output_type": "execute_result",
          "data": {
            "text/plain": [
              "-6.155367074350501"
            ]
          },
          "metadata": {},
          "execution_count": 7
        }
      ]
    },
    {
      "cell_type": "markdown",
      "source": [
        "# VQE in Exact Simulator (Method 1)\n",
        "\n",
        "quantum_algorithms VQE object"
      ],
      "metadata": {
        "id": "VSK1jKSCkGd3"
      }
    },
    {
      "cell_type": "code",
      "source": [
        "from qiskit.circuit import QuantumCircuit, QuantumRegister, Parameter\n",
        "from qiskit.quantum_info import SparsePauliOp\n",
        "from qiskit.circuit import ParameterVector\n",
        "import numpy as np\n",
        "\n",
        "# Instantiate the system Hamiltonian\n",
        "interation = 1\n",
        "bias = -1\n",
        "\n",
        "coeff_list = [interation for _ in range(5)] + [bias for _ in range(5)]\n",
        "operator_list = [\"ZZIII\", \"IZZII\", \"IIZZI\", \"IIIZZ\", \"ZIIIZ\", \"XIIII\", \"IXIII\", \"IIXII\", \"IIIXI\", \"IIIIX\"]\n",
        "hamiltonian_list = []\n",
        "for i in range(10):\n",
        "    hamiltonian_list.append((operator_list[i], coeff_list[i]))\n",
        "hamiltonian = SparsePauliOp.from_list(hamiltonian_list)"
      ],
      "metadata": {
        "id": "wyE7E-3fkCwj"
      },
      "execution_count": null,
      "outputs": []
    },
    {
      "cell_type": "code",
      "source": [
        "ansatz = QuantumCircuit(5)\n",
        "params = ParameterVector(\"theta\", length=9)\n",
        "it = iter(params)\n",
        "ansatz.h(range(0,5))\n",
        "\n",
        "ansatz.barrier()\n",
        "\n",
        "ansatz.cx(0, 1)\n",
        "ansatz.cx(2, 3)\n",
        "ansatz.rz(next(it), 1)\n",
        "ansatz.rz(next(it), 3)\n",
        "ansatz.cx(0, 1)\n",
        "ansatz.cx(2, 3)\n",
        "ansatz.cx(1, 2)\n",
        "ansatz.cx(3, 4)\n",
        "ansatz.rz(next(it), 2)\n",
        "ansatz.rz(next(it), 4)\n",
        "ansatz.cx(1, 2)\n",
        "ansatz.cx(3, 4)\n",
        "\n",
        "ansatz.barrier()\n",
        "\n",
        "ansatz.rx(next(it), 0)\n",
        "ansatz.rx(next(it), 1)\n",
        "ansatz.rx(next(it), 2)\n",
        "ansatz.rx(next(it), 3)\n",
        "ansatz.rx(next(it), 4)\n",
        "\n",
        "ansatz.draw(\"mpl\")"
      ],
      "metadata": {
        "colab": {
          "base_uri": "https://localhost:8080/"
        },
        "id": "qt1iKeHukCts",
        "outputId": "dc5f5021-3bf5-49e4-b970-a184d0a808f3"
      },
      "execution_count": null,
      "outputs": [
        {
          "output_type": "execute_result",
          "data": {
            "text/plain": [
              "<Figure size 956.385x451.5 with 1 Axes>"
            ],
            "image/png": "[encoded data removed]"
          },
          "metadata": {},
          "execution_count": 9
        }
      ]
    },
    {
      "cell_type": "code",
      "source": [
        "from qiskit_algorithms.optimizers import CG\n",
        "from qiskit_algorithms import VQE, SamplingVQE\n",
        "from qiskit_algorithms.gradients import LinCombEstimatorGradient\n",
        "from qiskit.primitives import Estimator\n",
        "\n",
        "step_list = np.array([i for i in range(20)])\n",
        "vqe_list = []\n",
        "\n",
        "for max in range(20):\n",
        "\n",
        "  # Conjugate Gradient algorithm\n",
        "  optimizer = CG(maxiter=max)\n",
        "\n",
        "  # Gradient callable\n",
        "  estimator = Estimator()\n",
        "  grad = LinCombEstimatorGradient(estimator)  # optional estimator gradient\n",
        "  vqe = VQE(estimator=estimator, ansatz=ansatz, optimizer=optimizer, gradient=grad)\n",
        "\n",
        "  result = vqe.compute_minimum_eigenvalue(hamiltonian)\n",
        "  vqe_list.append(result.optimal_value)\n",
        "\n",
        "vqe_list = np.array(vqe_list)"
      ],
      "metadata": {
        "id": "_a6qMXM7kbuu"
      },
      "execution_count": null,
      "outputs": []
    },
    {
      "cell_type": "code",
      "source": [
        "import matplotlib.pyplot as plt\n",
        "\n",
        "fig, ax = plt.subplots()\n",
        "ax.plot(step_list, vqe_list)\n",
        "ax.set_xlabel(\"Iterations\")\n",
        "ax.set_ylabel(\"Cost\")\n",
        "plt.draw()"
      ],
      "metadata": {
        "colab": {
          "base_uri": "https://localhost:8080/"
        },
        "id": "6ftUh5K-l4xZ",
        "outputId": "77e07616-4430-4ac4-ecb6-80ce2a57ce63"
      },
      "execution_count": null,
      "outputs": [
        {
          "output_type": "display_data",
          "data": {
            "text/plain": [
              "<Figure size 640x480 with 1 Axes>"
            ],
            "image/png": "[encoded data removed]"
          },
          "metadata": {}
        }
      ]
    },
    {
      "cell_type": "markdown",
      "source": [
        "# VQE in Exact Simulator (Method 2)\n",
        "\n",
        "scipy minimize"
      ],
      "metadata": {
        "id": "-WrqU9C2g8fS"
      }
    },
    {
      "cell_type": "markdown",
      "source": [
        "## Function Definition"
      ],
      "metadata": {
        "id": "cmvKiG5U_VJH"
      }
    },
    {
      "cell_type": "code",
      "source": [
        "from qiskit.circuit import QuantumCircuit, QuantumRegister, Parameter\n",
        "from qiskit.quantum_info import SparsePauliOp\n",
        "from qiskit.circuit import ParameterVector\n",
        "from qiskit.primitives import Estimator\n",
        "\n",
        "import numpy as np\n",
        "from scipy.optimize import minimize"
      ],
      "metadata": {
        "id": "rEnUcxZ96kcK"
      },
      "execution_count": 128,
      "outputs": []
    },
    {
      "cell_type": "code",
      "source": [
        "# Instantiate the system Hamiltonian\n",
        "\n",
        "interation = 1\n",
        "bias = -1\n",
        "coeff_list = [interation for _ in range(5)] + [bias for _ in range(5)]\n",
        "operator_list = [\"ZZIII\", \"IZZII\", \"IIZZI\", \"IIIZZ\", \"ZIIIZ\", \"XIIII\", \"IXIII\", \"IIXII\", \"IIIXI\", \"IIIIX\"]\n",
        "hamiltonian_list = []\n",
        "for i in range(10):\n",
        "    hamiltonian_list.append((operator_list[i], coeff_list[i]))\n",
        "hamiltonian = SparsePauliOp.from_list(hamiltonian_list)\n",
        "\n",
        "\n",
        "# Estimator\n",
        "\n",
        "estimator = Estimator()"
      ],
      "metadata": {
        "id": "KoR-xtSmhIFG"
      },
      "execution_count": 129,
      "outputs": []
    },
    {
      "cell_type": "code",
      "source": [
        "# Ansatz\n",
        "\n",
        "ansatz = QuantumCircuit(5)\n",
        "params = ParameterVector(\"theta\", length=9)\n",
        "it = iter(params)\n",
        "ansatz.h(range(0,5))\n",
        "\n",
        "ansatz.barrier()\n",
        "\n",
        "ansatz.cx(0, 1)\n",
        "ansatz.cx(2, 3)\n",
        "ansatz.rz(next(it), 1)\n",
        "ansatz.rz(next(it), 3)\n",
        "ansatz.cx(0, 1)\n",
        "ansatz.cx(2, 3)\n",
        "ansatz.cx(1, 2)\n",
        "ansatz.cx(3, 4)\n",
        "ansatz.rz(next(it), 2)\n",
        "ansatz.rz(next(it), 4)\n",
        "ansatz.cx(1, 2)\n",
        "ansatz.cx(3, 4)\n",
        "\n",
        "ansatz.barrier()\n",
        "\n",
        "ansatz.rx(next(it), 0)\n",
        "ansatz.rx(next(it), 1)\n",
        "ansatz.rx(next(it), 2)\n",
        "ansatz.rx(next(it), 3)\n",
        "ansatz.rx(next(it), 4)\n",
        "\n",
        "ansatz.draw(\"mpl\")"
      ],
      "metadata": {
        "id": "kQizJBKXlHwO",
        "outputId": "9cf3e443-5332-4093-ed4c-9e04eb4c64cc",
        "colab": {
          "base_uri": "https://localhost:8080/",
          "height": 0
        }
      },
      "execution_count": 130,
      "outputs": [
        {
          "output_type": "execute_result",
          "data": {
            "text/plain": [
              "<Figure size 956.385x451.5 with 1 Axes>"
            ],
            "image/png": "[encoded data removed]"
          },
          "metadata": {},
          "execution_count": 130
        }
      ]
    },
    {
      "cell_type": "code",
      "source": [
        "def cost_func_vqe(params, ansatz, hamiltonian, estimator):\n",
        "    cost = estimator.run(ansatz, hamiltonian, parameter_values=params).result()\n",
        "    return cost.values[0]"
      ],
      "metadata": {
        "id": "gUgIPgDjp9Kj"
      },
      "execution_count": 131,
      "outputs": []
    },
    {
      "cell_type": "code",
      "source": [
        "def build_callback(ansatz, hamiltonian, estimator, callback_dict):\n",
        "  def callback(current_vector):\n",
        "    callback_dict[\"iters\"] += 1\n",
        "    callback_dict[\"prev_vector\"] = current_vector\n",
        "    current_cost = cost_func_vqe(current_vector, ansatz, hamiltonian, estimator)\n",
        "\n",
        "    callback_dict[\"cost_history\"].append(current_cost)\n",
        "\n",
        "    print(\n",
        "      \"Iters. done: {} [Current cost: {}]\".format(callback_dict[\"iters\"], current_cost),\n",
        "      end=\"\\r\",\n",
        "      flush=True,\n",
        "    )\n",
        "\n",
        "  return callback"
      ],
      "metadata": {
        "id": "OFgXN1F4x-yG"
      },
      "execution_count": 132,
      "outputs": []
    },
    {
      "cell_type": "markdown",
      "source": [
        "## Minimizing Method Trial\n",
        "\n",
        "COBYLA, SLSQP, BFGS"
      ],
      "metadata": {
        "id": "lFAqiQXZ_cOm"
      }
    },
    {
      "cell_type": "code",
      "source": [
        "callback_dict = {\n",
        "    \"prev_vector\": None,\n",
        "    \"iters\": 0,\n",
        "    \"cost_history\": [],\n",
        "}\n",
        "\n",
        "np.random.seed(1)\n",
        "x0 = 2 * np.pi * np.random.random(9)\n",
        "\n",
        "x0"
      ],
      "metadata": {
        "id": "fbtJseldyr3r",
        "colab": {
          "base_uri": "https://localhost:8080/"
        },
        "outputId": "3883fab2-acdc-4010-f5b5-c305858b3752"
      },
      "execution_count": 133,
      "outputs": [
        {
          "output_type": "execute_result",
          "data": {
            "text/plain": [
              "array([2.62022653e+00, 4.52593227e+00, 7.18638172e-04, 1.89961158e+00,\n",
              "       9.22094457e-01, 5.80180502e-01, 1.17030742e+00, 2.17122208e+00,\n",
              "       2.49296356e+00])"
            ]
          },
          "metadata": {},
          "execution_count": 133
        }
      ]
    },
    {
      "cell_type": "code",
      "source": [
        "callback = build_callback(ansatz, hamiltonian, estimator, callback_dict)\n",
        "res = minimize(\n",
        "  cost_func_vqe,\n",
        "  x0,\n",
        "  args=(ansatz, hamiltonian, estimator),\n",
        "  method=\"cobyla\",\n",
        "  callback=callback,\n",
        ")"
      ],
      "metadata": {
        "id": "eBHr-RDPytHr",
        "outputId": "cf87e556-34a8-479b-bd51-a950f2fd0f58",
        "colab": {
          "base_uri": "https://localhost:8080/"
        }
      },
      "execution_count": 134,
      "outputs": [
        {
          "output_type": "stream",
          "name": "stdout",
          "text": []
        }
      ]
    },
    {
      "cell_type": "code",
      "source": [
        "res"
      ],
      "metadata": {
        "id": "R97EUoPb1LTW",
        "colab": {
          "base_uri": "https://localhost:8080/"
        },
        "outputId": "aa6cf571-9c51-4c73-dcaa-c4455c277187"
      },
      "execution_count": 135,
      "outputs": [
        {
          "output_type": "execute_result",
          "data": {
            "text/plain": [
              " message: Maximum number of function evaluations has been exceeded.\n",
              " success: False\n",
              "  status: 2\n",
              "     fun: -5.868435164695018\n",
              "       x: [ 5.840e+00  6.670e+00  3.884e-01  4.419e-01 -9.753e-01\n",
              "            2.545e+00  2.181e+00  2.540e+00  2.171e+00]\n",
              "    nfev: 1000\n",
              "   maxcv: 0.0"
            ]
          },
          "metadata": {},
          "execution_count": 135
        }
      ]
    },
    {
      "cell_type": "code",
      "source": [
        "fig, ax = plt.subplots()\n",
        "ax.plot(range(callback_dict[\"iters\"]), callback_dict[\"cost_history\"])\n",
        "ax.set_xlabel(\"Iterations\")\n",
        "ax.set_ylabel(\"Cost\")\n",
        "plt.draw()"
      ],
      "metadata": {
        "id": "82bVxHG4ytC6",
        "colab": {
          "base_uri": "https://localhost:8080/",
          "height": 0
        },
        "outputId": "f526d5bb-d3c1-4190-fa2f-e443cbff710d"
      },
      "execution_count": 136,
      "outputs": [
        {
          "output_type": "display_data",
          "data": {
            "text/plain": [
              "<Figure size 640x480 with 1 Axes>"
            ],
            "image/png": "[encoded data removed]"
          },
          "metadata": {}
        }
      ]
    },
    {
      "cell_type": "code",
      "source": [
        "callback_dict = {\n",
        "    \"prev_vector\": None,\n",
        "    \"iters\": 0,\n",
        "    \"cost_history\": [],\n",
        "}\n",
        "\n",
        "np.random.seed(1)\n",
        "x0 = 2 * np.pi * np.random.random(9)\n",
        "\n",
        "x0"
      ],
      "metadata": {
        "id": "wGceDYYRViCC",
        "outputId": "f2ab1f0e-33dd-4e78-f952-3c388d5711ae",
        "colab": {
          "base_uri": "https://localhost:8080/"
        }
      },
      "execution_count": 137,
      "outputs": [
        {
          "output_type": "execute_result",
          "data": {
            "text/plain": [
              "array([2.62022653e+00, 4.52593227e+00, 7.18638172e-04, 1.89961158e+00,\n",
              "       9.22094457e-01, 5.80180502e-01, 1.17030742e+00, 2.17122208e+00,\n",
              "       2.49296356e+00])"
            ]
          },
          "metadata": {},
          "execution_count": 137
        }
      ]
    },
    {
      "cell_type": "code",
      "source": [
        "callback = build_callback(ansatz, hamiltonian, estimator, callback_dict)\n",
        "res = minimize(\n",
        "  cost_func_vqe,\n",
        "  x0,\n",
        "  args=(ansatz, hamiltonian, estimator),\n",
        "  method=\"SLSQP\",\n",
        "  callback=callback,\n",
        ")"
      ],
      "metadata": {
        "colab": {
          "base_uri": "https://localhost:8080/"
        },
        "id": "QrUvUrl5-x0W",
        "outputId": "6b2998d3-59f8-4385-aac1-7294f1d62fb5"
      },
      "execution_count": 138,
      "outputs": [
        {
          "output_type": "stream",
          "name": "stdout",
          "text": []
        }
      ]
    },
    {
      "cell_type": "code",
      "source": [
        "res"
      ],
      "metadata": {
        "colab": {
          "base_uri": "https://localhost:8080/"
        },
        "id": "nrAglRWo-xx1",
        "outputId": "00231953-f7c5-4718-b04a-09f68b0bb9d9"
      },
      "execution_count": 139,
      "outputs": [
        {
          "output_type": "execute_result",
          "data": {
            "text/plain": [
              " message: Optimization terminated successfully\n",
              " success: True\n",
              "  status: 0\n",
              "     fun: -5.897229043597868\n",
              "       x: [-4.799e-01  1.296e+01  3.976e-01 -6.763e+00  1.571e+00\n",
              "            4.611e-04 -1.571e+00  7.085e-04  1.570e+00]\n",
              "     nit: 26\n",
              "     jac: [-2.707e-04 -2.074e-04  1.443e-04 -7.766e-05  1.004e-04\n",
              "            1.033e-04  1.544e-05  1.583e-04  4.572e-05]\n",
              "    nfev: 262\n",
              "    njev: 26"
            ]
          },
          "metadata": {},
          "execution_count": 139
        }
      ]
    },
    {
      "cell_type": "code",
      "source": [
        "fig, ax = plt.subplots()\n",
        "ax.plot(range(callback_dict[\"iters\"]), callback_dict[\"cost_history\"])\n",
        "ax.set_xlabel(\"Iterations\")\n",
        "ax.set_ylabel(\"Cost\")\n",
        "plt.draw()"
      ],
      "metadata": {
        "colab": {
          "base_uri": "https://localhost:8080/",
          "height": 0
        },
        "id": "Lc35_4Ua-xvO",
        "outputId": "8f119ca8-dbcb-40ec-f429-7a02829ad704"
      },
      "execution_count": 140,
      "outputs": [
        {
          "output_type": "display_data",
          "data": {
            "text/plain": [
              "<Figure size 640x480 with 1 Axes>"
            ],
            "image/png": "[encoded data removed]"
          },
          "metadata": {}
        }
      ]
    },
    {
      "cell_type": "code",
      "source": [
        "callback_dict = {\n",
        "    \"prev_vector\": None,\n",
        "    \"iters\": 0,\n",
        "    \"cost_history\": [],\n",
        "}\n",
        "\n",
        "np.random.seed(1)\n",
        "x0 = 2 * np.pi * np.random.random(9)\n",
        "\n",
        "x0"
      ],
      "metadata": {
        "id": "jNjnRE8iVjAQ",
        "outputId": "a86789c7-3d7c-44e8-a2d7-fa52327d9309",
        "colab": {
          "base_uri": "https://localhost:8080/"
        }
      },
      "execution_count": 141,
      "outputs": [
        {
          "output_type": "execute_result",
          "data": {
            "text/plain": [
              "array([2.62022653e+00, 4.52593227e+00, 7.18638172e-04, 1.89961158e+00,\n",
              "       9.22094457e-01, 5.80180502e-01, 1.17030742e+00, 2.17122208e+00,\n",
              "       2.49296356e+00])"
            ]
          },
          "metadata": {},
          "execution_count": 141
        }
      ]
    },
    {
      "cell_type": "code",
      "source": [
        "callback = build_callback(ansatz, hamiltonian, estimator, callback_dict)\n",
        "res = minimize(\n",
        "  cost_func_vqe,\n",
        "  x0,\n",
        "  args=(ansatz, hamiltonian, estimator),\n",
        "  method=\"BFGS\",\n",
        "  callback=callback,\n",
        ")"
      ],
      "metadata": {
        "colab": {
          "base_uri": "https://localhost:8080/"
        },
        "id": "5Io-qjDm-xse",
        "outputId": "88a2a37c-2be3-48ce-989c-d8ab86131407"
      },
      "execution_count": 142,
      "outputs": [
        {
          "output_type": "stream",
          "name": "stdout",
          "text": []
        }
      ]
    },
    {
      "cell_type": "code",
      "source": [
        "res"
      ],
      "metadata": {
        "colab": {
          "base_uri": "https://localhost:8080/"
        },
        "id": "2qADZIJl-xpv",
        "outputId": "37ef9817-d797-4007-dfa6-afd072557823"
      },
      "execution_count": 143,
      "outputs": [
        {
          "output_type": "execute_result",
          "data": {
            "text/plain": [
              "  message: Optimization terminated successfully.\n",
              "  success: True\n",
              "   status: 0\n",
              "      fun: -5.8972291332323294\n",
              "        x: [ 4.797e-01 -3.975e-01  6.681e+00  5.803e+00 -4.712e+00\n",
              "             3.142e+00  1.571e+00 -1.679e-05  1.571e+00]\n",
              "      nit: 28\n",
              "      jac: [ 9.060e-06 -4.709e-06 -6.557e-06  4.172e-06  5.960e-07\n",
              "            -4.053e-06 -5.960e-06 -2.384e-06  2.146e-06]\n",
              " hess_inv: [[ 4.493e-01  2.554e-02 ...  4.716e-02 -1.554e-01]\n",
              "            [ 2.554e-02  4.621e-01 ... -7.226e-02  1.593e-01]\n",
              "            ...\n",
              "            [ 4.716e-02 -7.226e-02 ...  6.165e+00 -5.498e+00]\n",
              "            [-1.554e-01  1.593e-01 ... -5.498e+00  6.950e+00]]\n",
              "     nfev: 340\n",
              "     njev: 34"
            ]
          },
          "metadata": {},
          "execution_count": 143
        }
      ]
    },
    {
      "cell_type": "code",
      "source": [
        "fig, ax = plt.subplots()\n",
        "ax.plot(range(callback_dict[\"iters\"]), callback_dict[\"cost_history\"])\n",
        "ax.set_xlabel(\"Iterations\")\n",
        "ax.set_ylabel(\"Cost\")\n",
        "plt.draw()"
      ],
      "metadata": {
        "colab": {
          "base_uri": "https://localhost:8080/",
          "height": 0
        },
        "id": "ABWxbu4J-xm-",
        "outputId": "a33842f7-0b01-4ab1-f676-11b26688adf8"
      },
      "execution_count": 144,
      "outputs": [
        {
          "output_type": "display_data",
          "data": {
            "text/plain": [
              "<Figure size 640x480 with 1 Axes>"
            ],
            "image/png": "[encoded data removed]"
          },
          "metadata": {}
        }
      ]
    },
    {
      "cell_type": "markdown",
      "source": [
        "## Finding Seed of np.random.seed"
      ],
      "metadata": {
        "id": "8M8wfGCy_Pj5"
      }
    },
    {
      "cell_type": "code",
      "source": [
        "local_minimum_list = []\n",
        "seed_list = []\n",
        "k = 0\n",
        "\n",
        "while (len(seed_list)<120) :\n",
        "\n",
        "  callback_dict = {\n",
        "    \"prev_vector\": None,\n",
        "    \"iters\": 0,\n",
        "    \"cost_history\": [],\n",
        "  }\n",
        "\n",
        "  np.random.seed(k)\n",
        "  x0 = 2 * np.pi * np.random.random(9)\n",
        "\n",
        "  callback = build_callback(ansatz, hamiltonian, estimator, callback_dict)\n",
        "\n",
        "  options = dict()\n",
        "  options[\"maxiter\"] = 400\n",
        "  options[\"disp\"] = True\n",
        "\n",
        "  res = minimize(\n",
        "    cost_func_vqe,\n",
        "    x0,\n",
        "    args=(ansatz, hamiltonian, estimator),\n",
        "    method=\"cobyla\",\n",
        "    callback=callback,\n",
        "    options=options\n",
        "  )\n",
        "\n",
        "  local_minimum_dict = callback_dict[\"cost_history\"]\n",
        "  local_minimum_list.append(local_minimum_dict[-1])\n",
        "\n",
        "  if local_minimum_dict[-1] < -5 :\n",
        "    seed_list.append(k)\n",
        "\n",
        "  k = k + 1\n",
        "\n",
        "\n",
        "local_minimum_list = np.array(local_minimum_list)\n",
        "seed_list = np.array(seed_list)"
      ],
      "metadata": {
        "colab": {
          "base_uri": "https://localhost:8080/"
        },
        "id": "Omx12cth_XfI",
        "outputId": "494676c1-e5b0-4091-89b3-b1754af57f67"
      },
      "execution_count": 145,
      "outputs": [
        {
          "output_type": "stream",
          "name": "stdout",
          "text": []
        }
      ]
    },
    {
      "cell_type": "code",
      "source": [
        "local_minimum_list"
      ],
      "metadata": {
        "colab": {
          "base_uri": "https://localhost:8080/"
        },
        "id": "PPS53ID4A6Ln",
        "outputId": "f2f736ec-49d7-4e8a-a2e1-fd5aa246340b"
      },
      "execution_count": 146,
      "outputs": [
        {
          "output_type": "execute_result",
          "data": {
            "text/plain": [
              "array([-3.64352019, -5.82879886, -3.64352017, -3.64352019, -5.89666719,\n",
              "       -5.89460313, -5.87175791, -5.89714665, -5.8970116 , -3.64352019,\n",
              "       -5.82318112, -5.88723766, -5.86284708, -5.89633351, -5.89712631,\n",
              "       -5.89706667, -3.64352018, -5.89640049, -5.89686096, -5.84344741,\n",
              "       -5.8972277 , -5.89514208, -3.64352019, -5.89722481, -5.89281514,\n",
              "       -5.8954058 , -3.64352019, -5.89678753, -5.89722848, -5.8262015 ,\n",
              "       -5.89560605, -5.83363386, -3.64352019, -3.64352019, -5.87957003,\n",
              "       -3.64352018, -5.82674789, -5.89196626, -5.82341307, -5.8972198 ,\n",
              "       -5.82579769, -5.89274968, -5.89310789, -5.89679848, -5.89121954,\n",
              "       -5.89066143, -5.89556185, -5.82725177, -5.89500158, -5.88381387,\n",
              "       -3.64352019, -5.89722881, -5.86661138, -3.49034862, -3.32868587,\n",
              "       -5.8971298 , -5.8971071 , -3.27120546, -3.64348142, -5.89578444,\n",
              "       -3.64351987, -5.88977925, -3.64351   , -5.892863  , -3.48455584,\n",
              "       -5.89686359, -5.89722776, -5.89714245, -5.89702045, -3.61402306,\n",
              "       -5.89678098, -5.89358845, -3.64351989, -3.64352018, -5.82526123,\n",
              "       -5.88972204, -5.89599961, -5.89656225, -5.87342342, -3.64352019,\n",
              "       -3.64352019, -5.89717557, -3.64352019, -3.55573284, -3.6435202 ,\n",
              "       -3.61958473, -5.89514411, -5.83231881, -3.64352018, -3.64352019,\n",
              "       -5.89722489, -3.6435202 , -3.64352019, -5.89417956, -3.64352019,\n",
              "       -5.86099735, -5.89676988, -5.82299708, -3.64352018, -5.89690459,\n",
              "       -3.64352019, -5.89513546, -5.88945447, -5.89704946, -5.89076537,\n",
              "       -5.89278333, -5.89661946, -5.87236699, -5.88552359, -3.4930488 ,\n",
              "       -5.89711739, -5.84467668, -5.89351984, -5.89512836, -5.89677164,\n",
              "       -5.89232777, -5.88000114, -3.64352019, -5.83970428, -5.88410124,\n",
              "       -3.64352018, -5.86785946, -3.64352019, -3.54944443, -5.89471708,\n",
              "       -5.89717338, -5.85731406, -5.892418  , -5.88143104, -3.64352019,\n",
              "       -4.59815422, -5.89473968, -5.89702307, -5.85915542, -3.64352019,\n",
              "       -5.89705331, -5.89717653, -5.89196071, -5.89641764, -5.88954192,\n",
              "       -5.89643247, -5.87861908, -5.87298481, -3.64352018, -5.89114796,\n",
              "       -3.64352019, -3.61789239, -5.89216479, -5.89659767, -5.82367041,\n",
              "       -5.89719047, -5.87167894, -5.89713559, -3.64315994, -5.89381185,\n",
              "       -5.84994722, -3.64352018, -5.87792315, -3.6435189 , -3.64352018,\n",
              "       -3.64352017, -3.64352019, -5.85121646, -3.64352019, -3.4981586 ,\n",
              "       -5.89480458, -5.85899731, -3.64352019, -3.48750168, -5.8952731 ,\n",
              "       -3.64352019, -5.89601665, -5.88919461, -3.50622228, -5.89514313,\n",
              "       -3.64352019, -3.64352018, -5.89343759, -5.87243956])"
            ]
          },
          "metadata": {},
          "execution_count": 146
        }
      ]
    },
    {
      "cell_type": "code",
      "source": [
        "seed_list"
      ],
      "metadata": {
        "colab": {
          "base_uri": "https://localhost:8080/"
        },
        "id": "6FDN7Lu_A5zX",
        "outputId": "3eb95005-33d3-4d0d-8fed-1da53abc3389"
      },
      "execution_count": 147,
      "outputs": [
        {
          "output_type": "execute_result",
          "data": {
            "text/plain": [
              "array([  1,   4,   5,   6,   7,   8,  10,  11,  12,  13,  14,  15,  17,\n",
              "        18,  19,  20,  21,  23,  24,  25,  27,  28,  29,  30,  31,  34,\n",
              "        36,  37,  38,  39,  40,  41,  42,  43,  44,  45,  46,  47,  48,\n",
              "        49,  51,  52,  55,  56,  59,  61,  63,  65,  66,  67,  68,  70,\n",
              "        71,  74,  75,  76,  77,  78,  81,  86,  87,  90,  93,  95,  96,\n",
              "        97,  99, 101, 102, 103, 104, 105, 106, 107, 108, 110, 111, 112,\n",
              "       113, 114, 115, 116, 118, 119, 121, 124, 125, 126, 127, 128, 131,\n",
              "       132, 133, 135, 136, 137, 138, 139, 140, 141, 142, 144, 147, 148,\n",
              "       149, 150, 151, 152, 154, 155, 157, 162, 165, 166, 169, 171, 172,\n",
              "       174, 177, 178])"
            ]
          },
          "metadata": {},
          "execution_count": 147
        }
      ]
    },
    {
      "cell_type": "markdown",
      "source": [
        "# VQE in Noisy Simulator (Trial)\n",
        "\n",
        "scipy minimize method trial (\"cobyla\", \"bfsd\", \"slsqp\")"
      ],
      "metadata": {
        "id": "WfhzQg3PCqTU"
      }
    },
    {
      "cell_type": "markdown",
      "source": [
        "## Function Definition"
      ],
      "metadata": {
        "id": "VscAJ2CtCqTk"
      }
    },
    {
      "cell_type": "code",
      "source": [
        "from qiskit.circuit import QuantumCircuit, QuantumRegister, Parameter\n",
        "from qiskit.visualization import plot_histogram\n",
        "from qiskit.quantum_info import SparsePauliOp\n",
        "from qiskit.circuit import ParameterVector\n",
        "from qiskit_aer.primitives import Estimator\n",
        "\n",
        "import numpy as np\n",
        "from scipy.optimize import minimize\n",
        "import matplotlib.pyplot as plt\n",
        "\n",
        "# Import from Qiskit Aer noise module\n",
        "from qiskit_aer.noise import (\n",
        "    NoiseModel,\n",
        "    QuantumError,\n",
        "    ReadoutError,\n",
        "    depolarizing_error,\n",
        "    pauli_error,\n",
        "    thermal_relaxation_error,\n",
        ")"
      ],
      "metadata": {
        "id": "rDaiPP25CqTk"
      },
      "execution_count": 148,
      "outputs": []
    },
    {
      "cell_type": "code",
      "source": [
        "# Instantiate the system Hamiltonian\n",
        "\n",
        "interation = 1\n",
        "bias = -1\n",
        "coeff_list = [interation for _ in range(5)] + [bias for _ in range(5)]\n",
        "operator_list = [\"ZZIII\", \"IZZII\", \"IIZZI\", \"IIIZZ\", \"ZIIIZ\", \"XIIII\", \"IXIII\", \"IIXII\", \"IIIXI\", \"IIIIX\"]\n",
        "hamiltonian_list = []\n",
        "for i in range(10):\n",
        "    hamiltonian_list.append((operator_list[i], coeff_list[i]))\n",
        "hamiltonian = SparsePauliOp.from_list(hamiltonian_list)"
      ],
      "metadata": {
        "id": "I1WUYRxECqTl"
      },
      "execution_count": 149,
      "outputs": []
    },
    {
      "cell_type": "code",
      "source": [
        "# Ansatz\n",
        "\n",
        "ansatz = QuantumCircuit(5)\n",
        "params = ParameterVector(\"theta\", length=9)\n",
        "it = iter(params)\n",
        "ansatz.h(range(0,5))\n",
        "\n",
        "ansatz.barrier()\n",
        "\n",
        "ansatz.cx(0, 1)\n",
        "ansatz.cx(2, 3)\n",
        "ansatz.rz(next(it), 1)\n",
        "ansatz.rz(next(it), 3)\n",
        "ansatz.cx(0, 1)\n",
        "ansatz.cx(2, 3)\n",
        "ansatz.cx(1, 2)\n",
        "ansatz.cx(3, 4)\n",
        "ansatz.rz(next(it), 2)\n",
        "ansatz.rz(next(it), 4)\n",
        "ansatz.cx(1, 2)\n",
        "ansatz.cx(3, 4)\n",
        "\n",
        "ansatz.barrier()\n",
        "\n",
        "ansatz.rx(next(it), 0)\n",
        "ansatz.rx(next(it), 1)\n",
        "ansatz.rx(next(it), 2)\n",
        "ansatz.rx(next(it), 3)\n",
        "ansatz.rx(next(it), 4)\n",
        "\n",
        "ansatz.draw(\"mpl\")"
      ],
      "metadata": {
        "outputId": "eaedea4d-be33-430a-92fe-8f33ff6269b8",
        "colab": {
          "base_uri": "https://localhost:8080/",
          "height": 384
        },
        "id": "42jLcycaCqTl"
      },
      "execution_count": 150,
      "outputs": [
        {
          "output_type": "execute_result",
          "data": {
            "text/plain": [
              "<Figure size 956.385x451.5 with 1 Axes>"
            ],
            "image/png": "[encoded data removed]"
          },
          "metadata": {},
          "execution_count": 150
        }
      ]
    },
    {
      "cell_type": "code",
      "source": [
        "noise_model = NoiseModel()\n",
        "\n",
        "# Example error probabilities\n",
        "p_reset = 0.03\n",
        "p_meas = 0.1\n",
        "p_gate1 = 0.05\n",
        "cx_depolarizing_prob = 0.02\n",
        "\n",
        "\n",
        "# QuantumError objects\n",
        "error_reset = pauli_error([('X', p_reset), ('I', 1 - p_reset)])\n",
        "error_meas = pauli_error([('X',p_meas), ('I', 1 - p_meas)])\n",
        "error_gate1 = pauli_error([('X',p_gate1), ('I', 1 - p_gate1)])\n",
        "error_gate2 = error_gate1.tensor(error_gate1)\n",
        "\n",
        "noise_model.add_all_qubit_quantum_error(error_reset, \"reset\")\n",
        "noise_model.add_all_qubit_quantum_error(error_meas, \"measure\")\n",
        "noise_model.add_all_qubit_quantum_error(error_gate1, [\"u1\", \"u2\", \"u3\"])\n",
        "noise_model.add_all_qubit_quantum_error(error_gate2, [\"cx\"])\n",
        "noise_model.add_all_qubit_quantum_error(depolarizing_error(cx_depolarizing_prob, 2), [\"cx\"])\n",
        "\n",
        "\n",
        "estimator = Estimator(backend_options={\"noise_model\": noise_model}, skip_transpilation=True)\n",
        "\n",
        "print(noise_model)"
      ],
      "metadata": {
        "colab": {
          "base_uri": "https://localhost:8080/"
        },
        "id": "Yym2umjKneTs",
        "outputId": "f3eec7fb-169b-42ce-d1d6-1b43dd409f24"
      },
      "execution_count": 151,
      "outputs": [
        {
          "output_type": "stream",
          "name": "stderr",
          "text": [
            "WARNING:qiskit_aer.noise.noise_model:WARNING: all-qubit error already exists for instruction \"cx\", composing with additional error.\n"
          ]
        },
        {
          "output_type": "stream",
          "name": "stdout",
          "text": [
            "NoiseModel:\n",
            "  Basis gates: ['cx', 'id', 'rz', 'sx', 'u1', 'u2', 'u3']\n",
            "  Instructions with noise: ['u3', 'reset', 'cx', 'measure', 'u1', 'u2']\n",
            "  All-qubits errors: ['reset', 'measure', 'u1', 'u2', 'u3', 'cx']\n"
          ]
        }
      ]
    },
    {
      "cell_type": "code",
      "source": [
        "def cost_func_vqe(params, ansatz, hamiltonian, estimator):\n",
        "    cost = estimator.run(ansatz, hamiltonian, parameter_values=params).result()\n",
        "    return cost.values[0]"
      ],
      "metadata": {
        "id": "NcaL4PZ7CqTl"
      },
      "execution_count": 152,
      "outputs": []
    },
    {
      "cell_type": "code",
      "source": [
        "def build_callback(ansatz, hamiltonian, estimator, callback_dict):\n",
        "  def callback(current_vector):\n",
        "    callback_dict[\"iters\"] += 1\n",
        "    callback_dict[\"prev_vector\"] = current_vector\n",
        "    current_cost = cost_func_vqe(current_vector, ansatz, hamiltonian, estimator)\n",
        "\n",
        "    callback_dict[\"cost_history\"].append(current_cost)\n",
        "\n",
        "    print(\n",
        "      \"Iters. done: {} [Current cost: {}]\".format(callback_dict[\"iters\"], current_cost),\n",
        "      end=\"\\r\",\n",
        "      flush=True,\n",
        "    )\n",
        "\n",
        "  return callback"
      ],
      "metadata": {
        "id": "3067SIwuCqTm"
      },
      "execution_count": 153,
      "outputs": []
    },
    {
      "cell_type": "markdown",
      "source": [
        "## Minimizing Method Trial\n",
        "\n",
        "COBYLA, SLSQP, BFGS"
      ],
      "metadata": {
        "id": "TI3b6_gbCqTm"
      }
    },
    {
      "cell_type": "code",
      "source": [
        "callback_dict = {\n",
        "    \"prev_vector\": None,\n",
        "    \"iters\": 0,\n",
        "    \"cost_history\": [],\n",
        "}\n",
        "\n",
        "np.random.seed(5)\n",
        "x0 = 2 * np.pi * np.random.random(9)\n",
        "\n",
        "x0"
      ],
      "metadata": {
        "colab": {
          "base_uri": "https://localhost:8080/"
        },
        "outputId": "5ce5278e-d978-4e75-e26b-8d3d8f963362",
        "id": "QCNtUQ4rCqTm"
      },
      "execution_count": 154,
      "outputs": [
        {
          "output_type": "execute_result",
          "data": {
            "text/plain": [
              "array([1.39482423, 5.47097243, 1.29885476, 5.77180256, 3.06877801,\n",
              "       3.84370005, 4.81234099, 3.25731628, 1.86485255])"
            ]
          },
          "metadata": {},
          "execution_count": 154
        }
      ]
    },
    {
      "cell_type": "code",
      "source": [
        "callback = build_callback(ansatz, hamiltonian, estimator, callback_dict)\n",
        "res = minimize(\n",
        "  cost_func_vqe,\n",
        "  x0,\n",
        "  args=(ansatz, hamiltonian, estimator),\n",
        "  method=\"cobyla\",\n",
        "  callback=callback,\n",
        ")"
      ],
      "metadata": {
        "outputId": "7ff42909-a466-4b0d-866a-fd5db999c422",
        "colab": {
          "base_uri": "https://localhost:8080/"
        },
        "id": "GXLbveKeCqTm"
      },
      "execution_count": 155,
      "outputs": [
        {
          "output_type": "stream",
          "name": "stdout",
          "text": []
        }
      ]
    },
    {
      "cell_type": "code",
      "source": [
        "res"
      ],
      "metadata": {
        "colab": {
          "base_uri": "https://localhost:8080/"
        },
        "outputId": "642ec2ee-7e3a-409b-8d59-211cddf4800c",
        "id": "et-qu-ByCqTn"
      },
      "execution_count": 156,
      "outputs": [
        {
          "output_type": "execute_result",
          "data": {
            "text/plain": [
              " message: Optimization terminated successfully.\n",
              " success: True\n",
              "  status: 1\n",
              "     fun: -3.912109375\n",
              "       x: [-1.132e-01  6.323e+00  3.235e-01  6.450e+00  2.134e+00\n",
              "            5.390e+00  5.455e+00  3.155e+00  2.198e+00]\n",
              "    nfev: 95\n",
              "   maxcv: 0.0"
            ]
          },
          "metadata": {},
          "execution_count": 156
        }
      ]
    },
    {
      "cell_type": "code",
      "source": [
        "fig, ax = plt.subplots()\n",
        "ax.plot(range(callback_dict[\"iters\"]), callback_dict[\"cost_history\"])\n",
        "ax.set_xlabel(\"Iterations\")\n",
        "ax.set_ylabel(\"Cost\")\n",
        "plt.draw()"
      ],
      "metadata": {
        "colab": {
          "base_uri": "https://localhost:8080/",
          "height": 449
        },
        "outputId": "4636a5d0-5f38-43b5-83d2-284b7325ff1e",
        "id": "Et5hyxADCqTn"
      },
      "execution_count": 157,
      "outputs": [
        {
          "output_type": "display_data",
          "data": {
            "text/plain": [
              "<Figure size 640x480 with 1 Axes>"
            ],
            "image/png": "[encoded data removed]"
          },
          "metadata": {}
        }
      ]
    },
    {
      "cell_type": "code",
      "source": [
        "callback_dict = {\n",
        "    \"prev_vector\": None,\n",
        "    \"iters\": 0,\n",
        "    \"cost_history\": [],\n",
        "}\n",
        "\n",
        "np.random.seed(1)\n",
        "x0 = 2 * np.pi * np.random.random(9)\n",
        "\n",
        "x0"
      ],
      "metadata": {
        "outputId": "86daff95-ae31-48fa-d2eb-787fd22fb020",
        "colab": {
          "base_uri": "https://localhost:8080/"
        },
        "id": "u1cTZsT_CqTn"
      },
      "execution_count": 158,
      "outputs": [
        {
          "output_type": "execute_result",
          "data": {
            "text/plain": [
              "array([2.62022653e+00, 4.52593227e+00, 7.18638172e-04, 1.89961158e+00,\n",
              "       9.22094457e-01, 5.80180502e-01, 1.17030742e+00, 2.17122208e+00,\n",
              "       2.49296356e+00])"
            ]
          },
          "metadata": {},
          "execution_count": 158
        }
      ]
    },
    {
      "cell_type": "code",
      "source": [
        "callback = build_callback(ansatz, hamiltonian, estimator, callback_dict)\n",
        "res = minimize(\n",
        "  cost_func_vqe,\n",
        "  x0,\n",
        "  args=(ansatz, hamiltonian, estimator),\n",
        "  method=\"SLSQP\",\n",
        "  callback=callback,\n",
        ")"
      ],
      "metadata": {
        "colab": {
          "base_uri": "https://localhost:8080/"
        },
        "outputId": "fa7dd76a-86e1-4713-b046-c4c44e648537",
        "id": "_2znnR0aCqTo"
      },
      "execution_count": 159,
      "outputs": [
        {
          "output_type": "stream",
          "name": "stdout",
          "text": []
        }
      ]
    },
    {
      "cell_type": "code",
      "source": [
        "res"
      ],
      "metadata": {
        "colab": {
          "base_uri": "https://localhost:8080/"
        },
        "outputId": "65387ee1-1501-4237-b304-badb7da8664d",
        "id": "8pfFKqcuCqTo"
      },
      "execution_count": 160,
      "outputs": [
        {
          "output_type": "execute_result",
          "data": {
            "text/plain": [
              " message: Optimization terminated successfully\n",
              " success: True\n",
              "  status: 0\n",
              "     fun: 1.548828125\n",
              "       x: [ 7.186e+03 -4.392e+05 -5.508e+05  2.011e+05  8.076e+05\n",
              "           -1.159e+05 -6.759e+05 -2.503e+05 -5.767e+05]\n",
              "     nit: 44\n",
              "     jac: [-9.044e+06 -1.035e+07  7.471e+06 -1.311e+06 -1.298e+07\n",
              "           -4.981e+06 -3.146e+06 -1.101e+07 -1.507e+07]\n",
              "    nfev: 881\n",
              "    njev: 44"
            ]
          },
          "metadata": {},
          "execution_count": 160
        }
      ]
    },
    {
      "cell_type": "code",
      "source": [
        "fig, ax = plt.subplots()\n",
        "ax.plot(range(callback_dict[\"iters\"]), callback_dict[\"cost_history\"])\n",
        "ax.set_xlabel(\"Iterations\")\n",
        "ax.set_ylabel(\"Cost\")\n",
        "plt.draw()"
      ],
      "metadata": {
        "colab": {
          "base_uri": "https://localhost:8080/",
          "height": 449
        },
        "outputId": "5146cd5c-29b7-4f27-bca8-285cdea41e37",
        "id": "Jga1_SRvCqTo"
      },
      "execution_count": 161,
      "outputs": [
        {
          "output_type": "display_data",
          "data": {
            "text/plain": [
              "<Figure size 640x480 with 1 Axes>"
            ],
            "image/png": "[encoded data removed]"
          },
          "metadata": {}
        }
      ]
    },
    {
      "cell_type": "code",
      "source": [
        "callback_dict = {\n",
        "    \"prev_vector\": None,\n",
        "    \"iters\": 0,\n",
        "    \"cost_history\": [],\n",
        "}\n",
        "\n",
        "np.random.seed(1)\n",
        "x0 = 2 * np.pi * np.random.random(9)\n",
        "\n",
        "x0"
      ],
      "metadata": {
        "outputId": "defa1db7-b170-4a4e-f754-1472e36cc10c",
        "colab": {
          "base_uri": "https://localhost:8080/"
        },
        "id": "ulcDk_aTCqTo"
      },
      "execution_count": 162,
      "outputs": [
        {
          "output_type": "execute_result",
          "data": {
            "text/plain": [
              "array([2.62022653e+00, 4.52593227e+00, 7.18638172e-04, 1.89961158e+00,\n",
              "       9.22094457e-01, 5.80180502e-01, 1.17030742e+00, 2.17122208e+00,\n",
              "       2.49296356e+00])"
            ]
          },
          "metadata": {},
          "execution_count": 162
        }
      ]
    },
    {
      "cell_type": "code",
      "source": [
        "callback = build_callback(ansatz, hamiltonian, estimator, callback_dict)\n",
        "res = minimize(\n",
        "  cost_func_vqe,\n",
        "  x0,\n",
        "  args=(ansatz, hamiltonian, estimator),\n",
        "  method=\"BFGS\",\n",
        "  callback=callback,\n",
        ")"
      ],
      "metadata": {
        "colab": {
          "base_uri": "https://localhost:8080/"
        },
        "outputId": "3fb6b4a9-2cf3-4a5d-840f-2d96bcce55c4",
        "id": "RQAJILMKCqTp"
      },
      "execution_count": 163,
      "outputs": [
        {
          "output_type": "stream",
          "name": "stdout",
          "text": []
        }
      ]
    },
    {
      "cell_type": "code",
      "source": [
        "res"
      ],
      "metadata": {
        "colab": {
          "base_uri": "https://localhost:8080/"
        },
        "outputId": "c2b27a59-7029-4c0f-ff5b-31a8b86cb233",
        "id": "yQJvT2dwCqTp"
      },
      "execution_count": 164,
      "outputs": [
        {
          "output_type": "execute_result",
          "data": {
            "text/plain": [
              "  message: Desired error not necessarily achieved due to precision loss.\n",
              "  success: False\n",
              "   status: 2\n",
              "      fun: 1.7734375\n",
              "        x: [ 2.620e+00  4.526e+00  7.250e-04  1.900e+00  9.221e-01\n",
              "             5.802e-01  1.170e+00  2.171e+00  2.493e+00]\n",
              "      nit: 2\n",
              "      jac: [ 1.402e+07  7.602e+06  6.816e+06  7.471e+06  1.494e+07\n",
              "             3.015e+06  6.160e+06  6.947e+06  1.062e+07]\n",
              " hess_inv: [[ 1.500e+00 -4.689e-01 ...  9.510e-02  1.151e+00]\n",
              "            [-4.689e-01  7.573e-01 ... -3.190e-02 -1.712e-01]\n",
              "            ...\n",
              "            [ 9.510e-02 -3.190e-02 ...  8.968e-01  2.755e-02]\n",
              "            [ 1.151e+00 -1.712e-01 ...  2.755e-02  2.327e+00]]\n",
              "     nfev: 252\n",
              "     njev: 24"
            ]
          },
          "metadata": {},
          "execution_count": 164
        }
      ]
    },
    {
      "cell_type": "code",
      "source": [
        "fig, ax = plt.subplots()\n",
        "ax.plot(range(callback_dict[\"iters\"]), callback_dict[\"cost_history\"])\n",
        "ax.set_xlabel(\"Iterations\")\n",
        "ax.set_ylabel(\"Cost\")\n",
        "plt.draw()"
      ],
      "metadata": {
        "colab": {
          "base_uri": "https://localhost:8080/",
          "height": 449
        },
        "outputId": "546e4cf5-14fe-4fe5-a646-875f5db52761",
        "id": "8Oihe4XYCqTp"
      },
      "execution_count": 165,
      "outputs": [
        {
          "output_type": "display_data",
          "data": {
            "text/plain": [
              "<Figure size 640x480 with 1 Axes>"
            ],
            "image/png": "[encoded data removed]"
          },
          "metadata": {}
        }
      ]
    },
    {
      "cell_type": "code",
      "source": [
        "local_minimum_list = []\n",
        "\n",
        "for k in range(120):\n",
        "\n",
        "  callback_dict = {\n",
        "    \"prev_vector\": None,\n",
        "    \"iters\": 0,\n",
        "    \"cost_history\": [],\n",
        "  }\n",
        "\n",
        "  np.random.seed(seed_list[k])\n",
        "  x0 = 2 * np.pi * np.random.random(9)\n",
        "\n",
        "  callback = build_callback(ansatz, hamiltonian, estimator, callback_dict)\n",
        "\n",
        "  options = dict()\n",
        "  options[\"maxiter\"] = 400\n",
        "  options[\"disp\"] = True\n",
        "\n",
        "  res = minimize(\n",
        "    cost_func_vqe,\n",
        "    x0,\n",
        "    args=(ansatz, hamiltonian, estimator),\n",
        "    method=\"cobyla\",\n",
        "    callback=callback,\n",
        "    options=options\n",
        "  )\n",
        "\n",
        "  local_minimum_dict = callback_dict[\"cost_history\"]\n",
        "  local_minimum_list.append(local_minimum_dict[-1])\n",
        "\n",
        "\n",
        "local_minimum_list = np.array(local_minimum_list)"
      ],
      "metadata": {
        "colab": {
          "base_uri": "https://localhost:8080/"
        },
        "id": "W9YuV_1THenZ",
        "outputId": "ad68bcde-8c55-430a-9bc3-dbdf9e182b0a"
      },
      "execution_count": 166,
      "outputs": [
        {
          "output_type": "stream",
          "name": "stdout",
          "text": []
        }
      ]
    },
    {
      "cell_type": "code",
      "source": [
        "local_minimum_list"
      ],
      "metadata": {
        "colab": {
          "base_uri": "https://localhost:8080/"
        },
        "id": "Bt8sh-FEHo2v",
        "outputId": "4e0153ae-e92c-4a31-809b-77e060ae3f95"
      },
      "execution_count": 167,
      "outputs": [
        {
          "output_type": "execute_result",
          "data": {
            "text/plain": [
              "array([-4.01757812, -3.5546875 , -3.85351562, -3.70703125, -3.86523438,\n",
              "       -3.66601562, -3.83203125, -1.24609375, -3.87304688, -3.9375    ,\n",
              "       -3.828125  , -2.96484375, -1.38867188, -3.69335938, -3.53710938,\n",
              "       -3.58203125, -3.58984375, -3.61523438, -3.75976562, -3.81445312,\n",
              "       -3.66601562, -3.8203125 , -3.578125  , -1.6875    , -3.81640625,\n",
              "       -3.84765625, -3.7890625 , -1.59570312, -1.64648438, -3.82617188,\n",
              "       -3.67578125, -3.76953125, -0.78320312, -3.78515625, -3.84570312,\n",
              "       -4.0234375 , -1.62890625, -3.87304688, -3.56835938, -3.85546875,\n",
              "       -1.40820312, -3.89257812, -3.84375   , -1.484375  , -3.69726562,\n",
              "       -0.66210938, -1.43945312, -3.64648438, -1.20898438, -0.77734375,\n",
              "       -3.6875    , -3.84570312, -3.63671875, -3.8515625 , -3.71875   ,\n",
              "       -1.32226562, -3.67773438, -3.72460938, -3.69726562, -3.73242188,\n",
              "       -3.87109375, -3.765625  , -3.59375   , -3.50195312, -3.79296875,\n",
              "       -3.5625    , -1.98828125, -3.83789062, -3.31835938, -0.74414062,\n",
              "       -3.85546875, -3.48046875, -3.64648438, -1.66601562, -3.57617188,\n",
              "       -1.5546875 , -1.3515625 , -3.890625  , -3.72070312, -3.8046875 ,\n",
              "       -1.24609375, -3.77539062, -3.515625  , -3.91796875, -3.56835938,\n",
              "       -1.8828125 , -3.61328125, -3.84765625, -3.8515625 , -3.50390625,\n",
              "       -1.55664062, -1.9140625 , -3.6171875 , -3.76171875, -3.77734375,\n",
              "       -4.06445312, -3.96484375, -3.765625  , -3.7421875 , -1.66601562,\n",
              "       -1.41601562, -3.59960938, -3.86328125, -3.80859375, -3.74023438,\n",
              "       -3.70898438, -3.875     , -3.99804688, -1.375     , -3.79882812,\n",
              "       -3.5       , -3.66992188, -3.50390625, -3.44726562, -3.69726562,\n",
              "       -3.86914062, -3.71875   , -3.62890625, -0.8828125 , -3.56445312])"
            ]
          },
          "metadata": {},
          "execution_count": 167
        }
      ]
    },
    {
      "cell_type": "markdown",
      "source": [
        "# VQE in Noisy Simulator (Various types of error)\n",
        "\n",
        "scipy minimize method \"cobyla\""
      ],
      "metadata": {
        "id": "5H0hTHhSFjKV"
      }
    },
    {
      "cell_type": "markdown",
      "source": [
        "## Function Setting"
      ],
      "metadata": {
        "id": "LE_cJDJqLLeq"
      }
    },
    {
      "cell_type": "code",
      "source": [
        "from qiskit.circuit import QuantumCircuit, QuantumRegister, Parameter\n",
        "from qiskit.visualization import plot_histogram\n",
        "from qiskit.quantum_info import SparsePauliOp\n",
        "from qiskit.circuit import ParameterVector\n",
        "from qiskit_aer.primitives import Estimator\n",
        "\n",
        "import numpy as np\n",
        "from scipy.optimize import minimize\n",
        "import matplotlib.pyplot as plt\n",
        "\n",
        "# Import from Qiskit Aer noise module\n",
        "from qiskit_aer.noise import (\n",
        "    NoiseModel,\n",
        "    QuantumError,\n",
        "    ReadoutError,\n",
        "    depolarizing_error,\n",
        "    pauli_error,\n",
        "    thermal_relaxation_error,\n",
        ")"
      ],
      "metadata": {
        "id": "LkL3pqVyLPJE"
      },
      "execution_count": 3,
      "outputs": []
    },
    {
      "cell_type": "code",
      "source": [
        "# Instantiate the system Hamiltonian\n",
        "\n",
        "interation = 1\n",
        "bias = -1\n",
        "coeff_list = [interation for _ in range(5)] + [bias for _ in range(5)]\n",
        "operator_list = [\"ZZIII\", \"IZZII\", \"IIZZI\", \"IIIZZ\", \"ZIIIZ\", \"XIIII\", \"IXIII\", \"IIXII\", \"IIIXI\", \"IIIIX\"]\n",
        "hamiltonian_list = []\n",
        "for i in range(10):\n",
        "    hamiltonian_list.append((operator_list[i], coeff_list[i]))\n",
        "hamiltonian = SparsePauliOp.from_list(hamiltonian_list)"
      ],
      "metadata": {
        "id": "zK6fuZ3-LPGf"
      },
      "execution_count": 4,
      "outputs": []
    },
    {
      "cell_type": "code",
      "source": [
        "# Ansatz\n",
        "\n",
        "ansatz = QuantumCircuit(5)\n",
        "params = ParameterVector(\"theta\", length=9)\n",
        "it = iter(params)\n",
        "ansatz.h(range(0,5))\n",
        "\n",
        "ansatz.barrier()\n",
        "\n",
        "ansatz.cx(0, 1)\n",
        "ansatz.cx(2, 3)\n",
        "ansatz.rz(next(it), 1)\n",
        "ansatz.rz(next(it), 3)\n",
        "ansatz.cx(0, 1)\n",
        "ansatz.cx(2, 3)\n",
        "ansatz.cx(1, 2)\n",
        "ansatz.cx(3, 4)\n",
        "ansatz.rz(next(it), 2)\n",
        "ansatz.rz(next(it), 4)\n",
        "ansatz.cx(1, 2)\n",
        "ansatz.cx(3, 4)\n",
        "\n",
        "ansatz.barrier()\n",
        "\n",
        "ansatz.rx(next(it), 0)\n",
        "ansatz.rx(next(it), 1)\n",
        "ansatz.rx(next(it), 2)\n",
        "ansatz.rx(next(it), 3)\n",
        "ansatz.rx(next(it), 4)\n",
        "\n",
        "ansatz.draw(\"mpl\")"
      ],
      "metadata": {
        "colab": {
          "base_uri": "https://localhost:8080/",
          "height": 0
        },
        "id": "JtIzciKXLPDw",
        "outputId": "4e267ad8-9209-451f-d3d6-d3ca142a9fe1"
      },
      "execution_count": 5,
      "outputs": [
        {
          "output_type": "execute_result",
          "data": {
            "text/plain": [
              "<Figure size 956.385x451.5 with 1 Axes>"
            ],
            "image/png": "[encoded data removed]"
          },
          "metadata": {},
          "execution_count": 5
        }
      ]
    },
    {
      "cell_type": "code",
      "source": [
        "service = QiskitRuntimeService()\n",
        "backend = service.backend(\"ibmq_qasm_simulator\")"
      ],
      "metadata": {
        "id": "xOGdJ6UUL8K6"
      },
      "execution_count": 6,
      "outputs": []
    },
    {
      "cell_type": "code",
      "source": [
        "seed_list = [  1,   4,   5,   6,   7,   8,  10,  11,  12,  13,\n",
        "14,  15,  17,  18,  19,  20,  21,  23,  24,  25,\n",
        "27,  28,  29,  30,  31,  34,  36,  38,  39,  40,\n",
        "41,  42,  43,  45,  46,  47,  48,  49,  51,  52,\n",
        "55,  56,  59,  61,  63,  65,  67,  68,  70,  71,\n",
        "74,  75,  76,  77,  78,  81,  86,  87,  90,  93,\n",
        "95,  96,  97,  101, 102, 103, 104, 105, 106, 107,\n",
        "112, 113, 114, 116, 118, 121, 124, 126, 127, 128,\n",
        "132, 133, 135, 136, 137, 138, 139, 140, 141, 142,\n",
        "144, 147, 148, 149, 150, 151, 152, 154, 155, 162,\n",
        "165, 166, 169, 171, 172, 174, 178]"
      ],
      "metadata": {
        "id": "lAJbJEf9JvxJ"
      },
      "execution_count": 7,
      "outputs": []
    },
    {
      "cell_type": "markdown",
      "source": [
        "## Ideal Simulator"
      ],
      "metadata": {
        "id": "W-2AcOQYFjKh"
      }
    },
    {
      "cell_type": "code",
      "source": [
        "noise_model = NoiseModel()\n",
        "\n",
        "estimator = Estimator(backend_options={\"noise_model\": noise_model}, skip_transpilation=True)"
      ],
      "metadata": {
        "id": "EkBUkDurFjKi"
      },
      "execution_count": 8,
      "outputs": []
    },
    {
      "cell_type": "code",
      "source": [
        "def cost_func_vqe(params, ansatz, hamiltonian, estimator):\n",
        "    cost = estimator.run(ansatz, hamiltonian, parameter_values=params, shots=8192, seed=1).result()\n",
        "    return cost.values[0]\n",
        "\n",
        "\n",
        "def build_callback(ansatz, hamiltonian, estimator, callback_dict):\n",
        "  def callback(current_vector):\n",
        "    callback_dict[\"iters\"] += 1\n",
        "    callback_dict[\"prev_vector\"] = current_vector\n",
        "    current_cost = cost_func_vqe(current_vector, ansatz, hamiltonian, estimator)\n",
        "\n",
        "    callback_dict[\"cost_history\"].append(current_cost)\n",
        "\n",
        "    print(\n",
        "      \"Iters. done: {} [Current cost: {}]\".format(callback_dict[\"iters\"], current_cost),\n",
        "      end=\"\\r\",\n",
        "      flush=True,\n",
        "    )\n",
        "\n",
        "  return callback"
      ],
      "metadata": {
        "id": "AHwNwxiZFjKi"
      },
      "execution_count": 9,
      "outputs": []
    },
    {
      "cell_type": "code",
      "source": [
        "local_minimum_list = []\n",
        "\n",
        "for k in range(100):\n",
        "\n",
        "  callback_dict = {\n",
        "    \"prev_vector\": None,\n",
        "    \"iters\": 0,\n",
        "    \"cost_history\": [],\n",
        "  }\n",
        "\n",
        "  np.random.seed(seed_list[k])\n",
        "  x0 = 2 * np.pi * np.random.random(9)\n",
        "\n",
        "  callback = build_callback(ansatz, hamiltonian, estimator, callback_dict)\n",
        "\n",
        "  options = dict()\n",
        "  options[\"maxiter\"] = 400\n",
        "  options[\"disp\"] = True\n",
        "\n",
        "  res = minimize(\n",
        "    cost_func_vqe,\n",
        "    x0,\n",
        "    args=(ansatz, hamiltonian, estimator),\n",
        "    method=\"cobyla\",\n",
        "    callback=callback,\n",
        "    options=options\n",
        "  )\n",
        "\n",
        "  local_minimum_dict = callback_dict[\"cost_history\"]\n",
        "  local_minimum_list.append(local_minimum_dict[-1])\n",
        "\n",
        "\n",
        "local_minimum_list = np.array(local_minimum_list)"
      ],
      "metadata": {
        "colab": {
          "base_uri": "https://localhost:8080/"
        },
        "id": "3cFZogBMFjKi",
        "outputId": "eb760589-2c39-4482-eb8b-ac3e7a76cbc9"
      },
      "execution_count": 209,
      "outputs": [
        {
          "output_type": "stream",
          "name": "stdout",
          "text": []
        }
      ]
    },
    {
      "cell_type": "code",
      "source": [
        "mean_ideal = np.mean(local_minimum_list)\n",
        "var_ideal = np.var(local_minimum_list)\n",
        "max_ideal = np.max(local_minimum_list)\n",
        "min_ideal = np.min(local_minimum_list)\n",
        "\n",
        "print(\"mean : {0}\".format(mean_ideal))\n",
        "print(\"variance : {0}\".format(var_ideal))\n",
        "print(\"maximum : {0}\".format(max_ideal))\n",
        "print(\"minimum : {0}\".format(min_ideal))\n",
        "print()\n",
        "print(local_minimum_list)"
      ],
      "metadata": {
        "colab": {
          "base_uri": "https://localhost:8080/"
        },
        "id": "dDE6hhKQU1jg",
        "outputId": "c18877f4-d960-4ff3-bbbf-093507d82a20"
      },
      "execution_count": 210,
      "outputs": [
        {
          "output_type": "stream",
          "name": "stdout",
          "text": [
            "mean : -5.7891259765625\n",
            "variance : 0.00837318732738495\n",
            "maximum : -5.49365234375\n",
            "minimum : -5.92138671875\n",
            "\n",
            "[-5.86035156 -5.85449219 -5.69433594 -5.63183594 -5.91845703 -5.87158203\n",
            " -5.74755859 -5.72851562 -5.65869141 -5.77441406 -5.78808594 -5.91064453\n",
            " -5.8671875  -5.64355469 -5.50585938 -5.8984375  -5.74804688 -5.87939453\n",
            " -5.65136719 -5.76464844 -5.90820312 -5.92138672 -5.83984375 -5.69482422\n",
            " -5.63085938 -5.76757812 -5.62939453 -5.63671875 -5.85498047 -5.78955078\n",
            " -5.85107422 -5.83203125 -5.85351562 -5.49365234 -5.82470703 -5.85498047\n",
            " -5.69140625 -5.73339844 -5.82226562 -5.74316406 -5.75390625 -5.72851562\n",
            " -5.77929688 -5.71435547 -5.69726562 -5.81494141 -5.828125   -5.859375\n",
            " -5.90673828 -5.84277344 -5.75195312 -5.74609375 -5.73828125 -5.79248047\n",
            " -5.81054688 -5.90380859 -5.88964844 -5.75585938 -5.86816406 -5.62353516\n",
            " -5.88867188 -5.87353516 -5.8671875  -5.81347656 -5.81494141 -5.89941406\n",
            " -5.83251953 -5.64550781 -5.88134766 -5.79589844 -5.79052734 -5.85302734\n",
            " -5.89013672 -5.79833984 -5.91162109 -5.73535156 -5.82763672 -5.72802734\n",
            " -5.79443359 -5.83789062 -5.83056641 -5.76757812 -5.88525391 -5.85107422\n",
            " -5.75585938 -5.63378906 -5.81591797 -5.69189453 -5.8984375  -5.79394531\n",
            " -5.72265625 -5.86132812 -5.88916016 -5.78759766 -5.71630859 -5.72460938\n",
            " -5.91064453 -5.87402344 -5.78173828 -5.6640625 ]\n"
          ]
        }
      ]
    },
    {
      "cell_type": "code",
      "source": [
        "callback_dict = {\n",
        "    \"prev_vector\": None,\n",
        "    \"iters\": 0,\n",
        "    \"cost_history\": [],\n",
        "}\n",
        "\n",
        "np.random.seed(seed_list[21])\n",
        "x0 = 2 * np.pi * np.random.random(9)\n",
        "\n",
        "callback = build_callback(ansatz, hamiltonian, estimator, callback_dict)\n",
        "\n",
        "options = dict()\n",
        "options[\"maxiter\"] = 400\n",
        "options[\"disp\"] = True\n",
        "\n",
        "res = minimize(\n",
        "    cost_func_vqe,\n",
        "    x0,\n",
        "    args=(ansatz, hamiltonian, estimator),\n",
        "    method=\"cobyla\",\n",
        "    callback=callback,\n",
        "    options=options\n",
        ")"
      ],
      "metadata": {
        "id": "TbQeORpKbWd4",
        "outputId": "cca2937d-b513-406d-9848-da8046f922ce",
        "colab": {
          "base_uri": "https://localhost:8080/"
        }
      },
      "execution_count": 10,
      "outputs": [
        {
          "output_type": "stream",
          "name": "stdout",
          "text": []
        }
      ]
    },
    {
      "cell_type": "code",
      "source": [
        "res"
      ],
      "metadata": {
        "id": "sW60NVdVbWbe",
        "outputId": "c5b64efe-42c1-4db7-e4ad-3e695d6082ff",
        "colab": {
          "base_uri": "https://localhost:8080/"
        }
      },
      "execution_count": 11,
      "outputs": [
        {
          "output_type": "execute_result",
          "data": {
            "text/plain": [
              " message: Optimization terminated successfully.\n",
              " success: True\n",
              "  status: 1\n",
              "     fun: -5.92138671875\n",
              "       x: [ 5.777e+00  5.890e+00  5.159e-01  4.998e-01  4.868e+00\n",
              "            2.854e+00  1.875e+00  6.043e+00  4.940e+00]\n",
              "    nfev: 145\n",
              "   maxcv: 0.0"
            ]
          },
          "metadata": {},
          "execution_count": 11
        }
      ]
    },
    {
      "cell_type": "markdown",
      "source": [
        "## Reset Error"
      ],
      "metadata": {
        "id": "amGS4Z_NWnF8"
      }
    },
    {
      "cell_type": "code",
      "source": [
        "noise_model = NoiseModel()\n",
        "\n",
        "# Example error probabilities\n",
        "p_reset = 0.01\n",
        "\n",
        "# QuantumError objects\n",
        "noise_model.add_all_qubit_quantum_error(pauli_error([('X', p_reset), ('I', 1 - p_reset)]), \"reset\")\n",
        "\n",
        "\n",
        "estimator = Estimator(backend_options={\"noise_model\": noise_model}, skip_transpilation=True)"
      ],
      "metadata": {
        "id": "DJnNTinqWnGC"
      },
      "execution_count": 211,
      "outputs": []
    },
    {
      "cell_type": "code",
      "source": [
        "def cost_func_vqe(params, ansatz, hamiltonian, estimator):\n",
        "    cost = estimator.run(ansatz, hamiltonian, parameter_values=params, shots=8192, seed=1).result()\n",
        "    return cost.values[0]\n",
        "\n",
        "\n",
        "def build_callback(ansatz, hamiltonian, estimator, callback_dict):\n",
        "  def callback(current_vector):\n",
        "    callback_dict[\"iters\"] += 1\n",
        "    callback_dict[\"prev_vector\"] = current_vector\n",
        "    current_cost = cost_func_vqe(current_vector, ansatz, hamiltonian, estimator)\n",
        "\n",
        "    callback_dict[\"cost_history\"].append(current_cost)\n",
        "\n",
        "    print(\n",
        "      \"Iters. done: {} [Current cost: {}]\".format(callback_dict[\"iters\"], current_cost),\n",
        "      end=\"\\r\",\n",
        "      flush=True,\n",
        "    )\n",
        "\n",
        "  return callback"
      ],
      "metadata": {
        "id": "CeGHFTsPWnGC"
      },
      "execution_count": 212,
      "outputs": []
    },
    {
      "cell_type": "code",
      "source": [
        "local_minimum_list = []\n",
        "\n",
        "for k in range(100):\n",
        "\n",
        "  callback_dict = {\n",
        "    \"prev_vector\": None,\n",
        "    \"iters\": 0,\n",
        "    \"cost_history\": [],\n",
        "  }\n",
        "\n",
        "  np.random.seed(seed_list[k])\n",
        "  x0 = 2 * np.pi * np.random.random(9)\n",
        "\n",
        "  callback = build_callback(ansatz, hamiltonian, estimator, callback_dict)\n",
        "\n",
        "  options = dict()\n",
        "  options[\"maxiter\"] = 400\n",
        "  options[\"disp\"] = True\n",
        "\n",
        "  res = minimize(\n",
        "    cost_func_vqe,\n",
        "    x0,\n",
        "    args=(ansatz, hamiltonian, estimator),\n",
        "    method=\"cobyla\",\n",
        "    callback=callback,\n",
        "    options=options\n",
        "  )\n",
        "\n",
        "  local_minimum_dict = callback_dict[\"cost_history\"]\n",
        "  local_minimum_list.append(local_minimum_dict[-1])\n",
        "\n",
        "\n",
        "local_minimum_list = np.array(local_minimum_list)"
      ],
      "metadata": {
        "colab": {
          "base_uri": "https://localhost:8080/"
        },
        "outputId": "e95b873d-410f-46e9-bdce-b8ee71d60c02",
        "id": "UwspTQVLWnGD"
      },
      "execution_count": 213,
      "outputs": [
        {
          "output_type": "stream",
          "name": "stdout",
          "text": []
        }
      ]
    },
    {
      "cell_type": "code",
      "source": [
        "mean_rst = np.mean(local_minimum_list)\n",
        "var_rst = np.var(local_minimum_list)\n",
        "max_rst = np.max(local_minimum_list)\n",
        "min_rst = np.min(local_minimum_list)\n",
        "\n",
        "print(\"mean : {0}\".format(mean_rst))\n",
        "print(\"variance : {0}\".format(var_rst))\n",
        "print(\"maximum : {0}\".format(max_rst))\n",
        "print(\"minimum : {0}\".format(min_rst))\n",
        "print()\n",
        "print(local_minimum_list)"
      ],
      "metadata": {
        "colab": {
          "base_uri": "https://localhost:8080/"
        },
        "id": "-XlSF1a6WnGD",
        "outputId": "24b9f617-f7fb-4e09-85bb-5481e80e3364"
      },
      "execution_count": 214,
      "outputs": [
        {
          "output_type": "stream",
          "name": "stdout",
          "text": [
            "mean : -5.7891259765625\n",
            "variance : 0.00837318732738495\n",
            "maximum : -5.49365234375\n",
            "minimum : -5.92138671875\n",
            "\n",
            "[-5.86035156 -5.85449219 -5.69433594 -5.63183594 -5.91845703 -5.87158203\n",
            " -5.74755859 -5.72851562 -5.65869141 -5.77441406 -5.78808594 -5.91064453\n",
            " -5.8671875  -5.64355469 -5.50585938 -5.8984375  -5.74804688 -5.87939453\n",
            " -5.65136719 -5.76464844 -5.90820312 -5.92138672 -5.83984375 -5.69482422\n",
            " -5.63085938 -5.76757812 -5.62939453 -5.63671875 -5.85498047 -5.78955078\n",
            " -5.85107422 -5.83203125 -5.85351562 -5.49365234 -5.82470703 -5.85498047\n",
            " -5.69140625 -5.73339844 -5.82226562 -5.74316406 -5.75390625 -5.72851562\n",
            " -5.77929688 -5.71435547 -5.69726562 -5.81494141 -5.828125   -5.859375\n",
            " -5.90673828 -5.84277344 -5.75195312 -5.74609375 -5.73828125 -5.79248047\n",
            " -5.81054688 -5.90380859 -5.88964844 -5.75585938 -5.86816406 -5.62353516\n",
            " -5.88867188 -5.87353516 -5.8671875  -5.81347656 -5.81494141 -5.89941406\n",
            " -5.83251953 -5.64550781 -5.88134766 -5.79589844 -5.79052734 -5.85302734\n",
            " -5.89013672 -5.79833984 -5.91162109 -5.73535156 -5.82763672 -5.72802734\n",
            " -5.79443359 -5.83789062 -5.83056641 -5.76757812 -5.88525391 -5.85107422\n",
            " -5.75585938 -5.63378906 -5.81591797 -5.69189453 -5.8984375  -5.79394531\n",
            " -5.72265625 -5.86132812 -5.88916016 -5.78759766 -5.71630859 -5.72460938\n",
            " -5.91064453 -5.87402344 -5.78173828 -5.6640625 ]\n"
          ]
        }
      ]
    },
    {
      "cell_type": "markdown",
      "source": [
        "## Measurement Error"
      ],
      "metadata": {
        "id": "0TP9YNTvYxUG"
      }
    },
    {
      "cell_type": "code",
      "source": [
        "noise_model = NoiseModel()\n",
        "\n",
        "# Example error probabilities\n",
        "p_measure = 0.01\n",
        "\n",
        "# QuantumError objects\n",
        "noise_model.add_all_qubit_quantum_error(pauli_error([('X', p_measure), ('I', 1 - p_measure)]), \"measure\")\n",
        "\n",
        "\n",
        "estimator = Estimator(backend_options={\"noise_model\": noise_model}, skip_transpilation=True)"
      ],
      "metadata": {
        "id": "UPNYO1J1YxUR"
      },
      "execution_count": 215,
      "outputs": []
    },
    {
      "cell_type": "code",
      "source": [
        "def cost_func_vqe(params, ansatz, hamiltonian, estimator):\n",
        "    cost = estimator.run(ansatz, hamiltonian, parameter_values=params, shots=8192, seed=1).result()\n",
        "    return cost.values[0]\n",
        "\n",
        "\n",
        "def build_callback(ansatz, hamiltonian, estimator, callback_dict):\n",
        "  def callback(current_vector):\n",
        "    callback_dict[\"iters\"] += 1\n",
        "    callback_dict[\"prev_vector\"] = current_vector\n",
        "    current_cost = cost_func_vqe(current_vector, ansatz, hamiltonian, estimator)\n",
        "\n",
        "    callback_dict[\"cost_history\"].append(current_cost)\n",
        "\n",
        "    print(\n",
        "      \"Iters. done: {} [Current cost: {}]\".format(callback_dict[\"iters\"], current_cost),\n",
        "      end=\"\\r\",\n",
        "      flush=True,\n",
        "    )\n",
        "\n",
        "  return callback"
      ],
      "metadata": {
        "id": "LZcpFqL_YxUR"
      },
      "execution_count": 216,
      "outputs": []
    },
    {
      "cell_type": "code",
      "source": [
        "local_minimum_list = []\n",
        "\n",
        "for k in range(100):\n",
        "\n",
        "  callback_dict = {\n",
        "    \"prev_vector\": None,\n",
        "    \"iters\": 0,\n",
        "    \"cost_history\": [],\n",
        "  }\n",
        "\n",
        "  np.random.seed(seed_list[k])\n",
        "  x0 = 2 * np.pi * np.random.random(9)\n",
        "\n",
        "  callback = build_callback(ansatz, hamiltonian, estimator, callback_dict)\n",
        "\n",
        "  options = dict()\n",
        "  options[\"maxiter\"] = 400\n",
        "  options[\"disp\"] = True\n",
        "\n",
        "  res = minimize(\n",
        "    cost_func_vqe,\n",
        "    x0,\n",
        "    args=(ansatz, hamiltonian, estimator),\n",
        "    method=\"cobyla\",\n",
        "    callback=callback,\n",
        "    options=options\n",
        "  )\n",
        "\n",
        "  local_minimum_dict = callback_dict[\"cost_history\"]\n",
        "  local_minimum_list.append(local_minimum_dict[-1])\n",
        "\n",
        "\n",
        "local_minimum_list = np.array(local_minimum_list)"
      ],
      "metadata": {
        "colab": {
          "base_uri": "https://localhost:8080/"
        },
        "outputId": "5d6c7f00-c046-4d53-9ae2-e923cbf56cff",
        "id": "CEtAJZsnYxUR"
      },
      "execution_count": 217,
      "outputs": [
        {
          "output_type": "stream",
          "name": "stdout",
          "text": []
        }
      ]
    },
    {
      "cell_type": "code",
      "source": [
        "mean_measure = np.mean(local_minimum_list)\n",
        "var_measure = np.var(local_minimum_list)\n",
        "max_measure = np.max(local_minimum_list)\n",
        "min_measure = np.min(local_minimum_list)\n",
        "\n",
        "print(\"mean : {0}\".format(mean_measure))\n",
        "print(\"variance : {0}\".format(var_measure))\n",
        "print(\"maximum : {0}\".format(max_measure))\n",
        "print(\"minimum : {0}\".format(min_measure))\n",
        "print()\n",
        "print(local_minimum_list)"
      ],
      "metadata": {
        "colab": {
          "base_uri": "https://localhost:8080/"
        },
        "id": "cK_EdZ2tYxUR",
        "outputId": "3664b798-8619-4624-a8c7-9458e079a7d6"
      },
      "execution_count": 218,
      "outputs": [
        {
          "output_type": "stream",
          "name": "stdout",
          "text": [
            "mean : -5.62743408203125\n",
            "variance : 0.008366517370939254\n",
            "maximum : -5.357177734375\n",
            "minimum : -5.766357421875\n",
            "\n",
            "[-5.56274414 -5.61083984 -5.56225586 -5.51538086 -5.72875977 -5.73901367\n",
            " -5.56347656 -5.57861328 -5.57006836 -5.54882812 -5.62939453 -5.74267578\n",
            " -5.71337891 -5.56518555 -5.59130859 -5.75292969 -5.59399414 -5.66357422\n",
            " -5.61083984 -5.45996094 -5.68676758 -5.76635742 -5.62744141 -5.52612305\n",
            " -5.46557617 -5.69580078 -5.56298828 -5.52929688 -5.6706543  -5.41113281\n",
            " -5.71948242 -5.7097168  -5.75366211 -5.48730469 -5.70849609 -5.57299805\n",
            " -5.55078125 -5.6003418  -5.64013672 -5.53466797 -5.56518555 -5.76123047\n",
            " -5.59228516 -5.63208008 -5.60766602 -5.43652344 -5.6496582  -5.73901367\n",
            " -5.68115234 -5.66308594 -5.63647461 -5.63842773 -5.58325195 -5.49023438\n",
            " -5.59692383 -5.75927734 -5.67578125 -5.63427734 -5.72631836 -5.58764648\n",
            " -5.54516602 -5.72460938 -5.71655273 -5.64013672 -5.5559082  -5.765625\n",
            " -5.58325195 -5.51416016 -5.76318359 -5.52636719 -5.74291992 -5.58007812\n",
            " -5.7565918  -5.67211914 -5.68164062 -5.62524414 -5.72509766 -5.70703125\n",
            " -5.66625977 -5.57666016 -5.76123047 -5.61376953 -5.72509766 -5.63745117\n",
            " -5.62670898 -5.46484375 -5.69873047 -5.57495117 -5.69897461 -5.35717773\n",
            " -5.47167969 -5.74902344 -5.73510742 -5.6237793  -5.66674805 -5.64697266\n",
            " -5.64916992 -5.73193359 -5.54541016 -5.51660156]\n"
          ]
        }
      ]
    },
    {
      "cell_type": "markdown",
      "source": [
        "## Bit Flip"
      ],
      "metadata": {
        "id": "ZhldUP5CZRnN"
      }
    },
    {
      "cell_type": "code",
      "source": [
        "noise_model = NoiseModel()\n",
        "\n",
        "# Example error probabilities\n",
        "p_bit = 0.01\n",
        "\n",
        "bit1 = pauli_error([('X', p_bit), ('I', 1 - p_bit)])\n",
        "bit2 = bit1.tensor(bit1)\n",
        "\n",
        "# QuantumError objects\n",
        "noise_model.add_all_qubit_quantum_error(bit1, [\"u1\", \"u2\", \"u3\"])\n",
        "noise_model.add_all_qubit_quantum_error(bit2, [\"cx\"])\n",
        "\n",
        "\n",
        "estimator = Estimator(backend_options={\"noise_model\": noise_model}, skip_transpilation=True)"
      ],
      "metadata": {
        "id": "kkciiMUkZRnW"
      },
      "execution_count": 219,
      "outputs": []
    },
    {
      "cell_type": "code",
      "source": [
        "def cost_func_vqe(params, ansatz, hamiltonian, estimator):\n",
        "    cost = estimator.run(ansatz, hamiltonian, parameter_values=params, shots=8192, seed=1).result()\n",
        "    return cost.values[0]\n",
        "\n",
        "\n",
        "def build_callback(ansatz, hamiltonian, estimator, callback_dict):\n",
        "  def callback(current_vector):\n",
        "    callback_dict[\"iters\"] += 1\n",
        "    callback_dict[\"prev_vector\"] = current_vector\n",
        "    current_cost = cost_func_vqe(current_vector, ansatz, hamiltonian, estimator)\n",
        "\n",
        "    callback_dict[\"cost_history\"].append(current_cost)\n",
        "\n",
        "    print(\n",
        "      \"Iters. done: {} [Current cost: {}]\".format(callback_dict[\"iters\"], current_cost),\n",
        "      end=\"\\r\",\n",
        "      flush=True,\n",
        "    )\n",
        "\n",
        "  return callback"
      ],
      "metadata": {
        "id": "hQpnWA3TZRnW"
      },
      "execution_count": 220,
      "outputs": []
    },
    {
      "cell_type": "code",
      "source": [
        "local_minimum_list = []\n",
        "\n",
        "for k in range(100):\n",
        "\n",
        "  callback_dict = {\n",
        "    \"prev_vector\": None,\n",
        "    \"iters\": 0,\n",
        "    \"cost_history\": [],\n",
        "  }\n",
        "\n",
        "  np.random.seed(seed_list[k])\n",
        "  x0 = 2 * np.pi * np.random.random(9)\n",
        "\n",
        "  callback = build_callback(ansatz, hamiltonian, estimator, callback_dict)\n",
        "\n",
        "  options = dict()\n",
        "  options[\"maxiter\"] = 400\n",
        "  options[\"disp\"] = True\n",
        "\n",
        "  res = minimize(\n",
        "    cost_func_vqe,\n",
        "    x0,\n",
        "    args=(ansatz, hamiltonian, estimator),\n",
        "    method=\"cobyla\",\n",
        "    callback=callback,\n",
        "    options=options\n",
        "  )\n",
        "\n",
        "  local_minimum_dict = callback_dict[\"cost_history\"]\n",
        "  local_minimum_list.append(local_minimum_dict[-1])\n",
        "\n",
        "\n",
        "local_minimum_list = np.array(local_minimum_list)"
      ],
      "metadata": {
        "colab": {
          "base_uri": "https://localhost:8080/"
        },
        "outputId": "3f563d4d-51c8-45df-c729-f2811c60da9e",
        "id": "QwJ7_8InZRnW"
      },
      "execution_count": 221,
      "outputs": [
        {
          "output_type": "stream",
          "name": "stdout",
          "text": []
        }
      ]
    },
    {
      "cell_type": "code",
      "source": [
        "mean_bit = np.mean(local_minimum_list)\n",
        "var_bit = np.var(local_minimum_list)\n",
        "max_bit = np.max(local_minimum_list)\n",
        "min_bit = np.min(local_minimum_list)\n",
        "\n",
        "print(\"mean : {0}\".format(mean_bit))\n",
        "print(\"variance : {0}\".format(var_bit))\n",
        "print(\"maximum : {0}\".format(max_bit))\n",
        "print(\"minimum : {0}\".format(min_bit))\n",
        "print()\n",
        "print(local_minimum_list)"
      ],
      "metadata": {
        "colab": {
          "base_uri": "https://localhost:8080/"
        },
        "id": "zKWtMZuUZRnW",
        "outputId": "f99caf36-46c1-4c60-8ed3-f1e656574d8e"
      },
      "execution_count": 222,
      "outputs": [
        {
          "output_type": "stream",
          "name": "stdout",
          "text": [
            "mean : -5.6576416015625\n",
            "variance : 0.007378599047660828\n",
            "maximum : -5.3759765625\n",
            "minimum : -5.79052734375\n",
            "\n",
            "[-5.5078125  -5.59667969 -5.72119141 -5.74023438 -5.74853516 -5.78417969\n",
            " -5.57177734 -5.65527344 -5.52197266 -5.48388672 -5.60351562 -5.74072266\n",
            " -5.77587891 -5.56933594 -5.65917969 -5.77001953 -5.49169922 -5.69677734\n",
            " -5.63330078 -5.72363281 -5.5859375  -5.74560547 -5.69677734 -5.73925781\n",
            " -5.52246094 -5.72460938 -5.64355469 -5.68896484 -5.75390625 -5.68115234\n",
            " -5.73339844 -5.71679688 -5.73388672 -5.57861328 -5.70605469 -5.69140625\n",
            " -5.62792969 -5.77783203 -5.79052734 -5.62792969 -5.64697266 -5.56835938\n",
            " -5.61767578 -5.5703125  -5.58056641 -5.54785156 -5.55859375 -5.74707031\n",
            " -5.63183594 -5.75878906 -5.67871094 -5.67333984 -5.60449219 -5.50488281\n",
            " -5.69335938 -5.66845703 -5.55957031 -5.64599609 -5.76416016 -5.61572266\n",
            " -5.68115234 -5.73339844 -5.75927734 -5.70947266 -5.59277344 -5.63037109\n",
            " -5.69482422 -5.52636719 -5.63134766 -5.55322266 -5.65576172 -5.63916016\n",
            " -5.66748047 -5.62792969 -5.73095703 -5.60009766 -5.76318359 -5.60302734\n",
            " -5.70605469 -5.69238281 -5.77929688 -5.68994141 -5.72802734 -5.71777344\n",
            " -5.69140625 -5.5546875  -5.7265625  -5.62060547 -5.75927734 -5.65478516\n",
            " -5.68359375 -5.75585938 -5.78613281 -5.63867188 -5.70214844 -5.69335938\n",
            " -5.65576172 -5.43408203 -5.37597656 -5.51904297]\n"
          ]
        }
      ]
    },
    {
      "cell_type": "markdown",
      "source": [
        "## Phase Flip"
      ],
      "metadata": {
        "id": "0bQIczJLa5Ql"
      }
    },
    {
      "cell_type": "code",
      "source": [
        "noise_model = NoiseModel()\n",
        "\n",
        "# Example error probabilities\n",
        "p_phase = 0.01\n",
        "\n",
        "phase1 = pauli_error([('Z', p_phase), ('I', 1 - p_phase)])\n",
        "phase2 = bit1.tensor(bit1)\n",
        "\n",
        "# QuantumError objects\n",
        "noise_model.add_all_qubit_quantum_error(phase1, [\"u1\", \"u2\", \"u3\"])\n",
        "noise_model.add_all_qubit_quantum_error(phase2, [\"cx\"])\n",
        "\n",
        "\n",
        "estimator = Estimator(backend_options={\"noise_model\": noise_model}, skip_transpilation=True)"
      ],
      "metadata": {
        "id": "kUqTN912a5Qq"
      },
      "execution_count": 223,
      "outputs": []
    },
    {
      "cell_type": "code",
      "source": [
        "def cost_func_vqe(params, ansatz, hamiltonian, estimator):\n",
        "    cost = estimator.run(ansatz, hamiltonian, parameter_values=params, shots=8192, seed=1).result()\n",
        "    return cost.values[0]\n",
        "\n",
        "\n",
        "def build_callback(ansatz, hamiltonian, estimator, callback_dict):\n",
        "  def callback(current_vector):\n",
        "    callback_dict[\"iters\"] += 1\n",
        "    callback_dict[\"prev_vector\"] = current_vector\n",
        "    current_cost = cost_func_vqe(current_vector, ansatz, hamiltonian, estimator)\n",
        "\n",
        "    callback_dict[\"cost_history\"].append(current_cost)\n",
        "\n",
        "    print(\n",
        "      \"Iters. done: {} [Current cost: {}]\".format(callback_dict[\"iters\"], current_cost),\n",
        "      end=\"\\r\",\n",
        "      flush=True,\n",
        "    )\n",
        "\n",
        "  return callback"
      ],
      "metadata": {
        "id": "X1xvb3RLa5Qq"
      },
      "execution_count": 224,
      "outputs": []
    },
    {
      "cell_type": "code",
      "source": [
        "local_minimum_list = []\n",
        "\n",
        "for k in range(100):\n",
        "\n",
        "  callback_dict = {\n",
        "    \"prev_vector\": None,\n",
        "    \"iters\": 0,\n",
        "    \"cost_history\": [],\n",
        "  }\n",
        "\n",
        "  np.random.seed(seed_list[k])\n",
        "  x0 = 2 * np.pi * np.random.random(9)\n",
        "\n",
        "  callback = build_callback(ansatz, hamiltonian, estimator, callback_dict)\n",
        "\n",
        "  options = dict()\n",
        "  options[\"maxiter\"] = 400\n",
        "  options[\"disp\"] = True\n",
        "\n",
        "  res = minimize(\n",
        "    cost_func_vqe,\n",
        "    x0,\n",
        "    args=(ansatz, hamiltonian, estimator),\n",
        "    method=\"cobyla\",\n",
        "    callback=callback,\n",
        "    options=options\n",
        "  )\n",
        "\n",
        "  local_minimum_dict = callback_dict[\"cost_history\"]\n",
        "  local_minimum_list.append(local_minimum_dict[-1])\n",
        "\n",
        "\n",
        "local_minimum_list = np.array(local_minimum_list)"
      ],
      "metadata": {
        "colab": {
          "base_uri": "https://localhost:8080/"
        },
        "outputId": "200bbedc-1a35-4125-ff0c-80da031b257f",
        "id": "7-EhSUDFa5Qq"
      },
      "execution_count": 225,
      "outputs": [
        {
          "output_type": "stream",
          "name": "stdout",
          "text": []
        }
      ]
    },
    {
      "cell_type": "code",
      "source": [
        "mean_phase = np.mean(local_minimum_list)\n",
        "var_phase = np.var(local_minimum_list)\n",
        "max_phase = np.max(local_minimum_list)\n",
        "min_phase = np.min(local_minimum_list)\n",
        "\n",
        "print(\"mean : {0}\".format(mean_phase))\n",
        "print(\"variance : {0}\".format(var_phase))\n",
        "print(\"maximum : {0}\".format(max_phase))\n",
        "print(\"minimum : {0}\".format(min_phase))\n",
        "print()\n",
        "print(local_minimum_list)"
      ],
      "metadata": {
        "colab": {
          "base_uri": "https://localhost:8080/"
        },
        "id": "Myydq92za5Qq",
        "outputId": "71ea2159-b4f8-473c-8884-4f5620356b5f"
      },
      "execution_count": 226,
      "outputs": [
        {
          "output_type": "stream",
          "name": "stdout",
          "text": [
            "mean : -5.6576416015625\n",
            "variance : 0.007378599047660828\n",
            "maximum : -5.3759765625\n",
            "minimum : -5.79052734375\n",
            "\n",
            "[-5.5078125  -5.59667969 -5.72119141 -5.74023438 -5.74853516 -5.78417969\n",
            " -5.57177734 -5.65527344 -5.52197266 -5.48388672 -5.60351562 -5.74072266\n",
            " -5.77587891 -5.56933594 -5.65917969 -5.77001953 -5.49169922 -5.69677734\n",
            " -5.63330078 -5.72363281 -5.5859375  -5.74560547 -5.69677734 -5.73925781\n",
            " -5.52246094 -5.72460938 -5.64355469 -5.68896484 -5.75390625 -5.68115234\n",
            " -5.73339844 -5.71679688 -5.73388672 -5.57861328 -5.70605469 -5.69140625\n",
            " -5.62792969 -5.77783203 -5.79052734 -5.62792969 -5.64697266 -5.56835938\n",
            " -5.61767578 -5.5703125  -5.58056641 -5.54785156 -5.55859375 -5.74707031\n",
            " -5.63183594 -5.75878906 -5.67871094 -5.67333984 -5.60449219 -5.50488281\n",
            " -5.69335938 -5.66845703 -5.55957031 -5.64599609 -5.76416016 -5.61572266\n",
            " -5.68115234 -5.73339844 -5.75927734 -5.70947266 -5.59277344 -5.63037109\n",
            " -5.69482422 -5.52636719 -5.63134766 -5.55322266 -5.65576172 -5.63916016\n",
            " -5.66748047 -5.62792969 -5.73095703 -5.60009766 -5.76318359 -5.60302734\n",
            " -5.70605469 -5.69238281 -5.77929688 -5.68994141 -5.72802734 -5.71777344\n",
            " -5.69140625 -5.5546875  -5.7265625  -5.62060547 -5.75927734 -5.65478516\n",
            " -5.68359375 -5.75585938 -5.78613281 -5.63867188 -5.70214844 -5.69335938\n",
            " -5.65576172 -5.43408203 -5.37597656 -5.51904297]\n"
          ]
        }
      ]
    },
    {
      "cell_type": "markdown",
      "source": [
        "## Depolarization"
      ],
      "metadata": {
        "id": "g0QEks6TbdHL"
      }
    },
    {
      "cell_type": "code",
      "source": [
        "noise_model = NoiseModel()\n",
        "\n",
        "# Example error probabilities\n",
        "u_depolarizing_prob = 0.01\n",
        "cx_depolarizing_prob = 0.01\n",
        "\n",
        "# QuantumError objects\n",
        "noise_model.add_all_qubit_quantum_error(depolarizing_error(u_depolarizing_prob, 1), ['u1', 'u2', 'u3'])\n",
        "noise_model.add_all_qubit_quantum_error(depolarizing_error(cx_depolarizing_prob, 2), [\"cx\"])\n",
        "\n",
        "estimator = Estimator(backend_options={\"noise_model\": noise_model}, skip_transpilation=True)"
      ],
      "metadata": {
        "id": "hB-S8e00bdHU"
      },
      "execution_count": 227,
      "outputs": []
    },
    {
      "cell_type": "code",
      "source": [
        "def cost_func_vqe(params, ansatz, hamiltonian, estimator):\n",
        "    cost = estimator.run(ansatz, hamiltonian, parameter_values=params, shots=8192, seed=1).result()\n",
        "    return cost.values[0]\n",
        "\n",
        "\n",
        "def build_callback(ansatz, hamiltonian, estimator, callback_dict):\n",
        "  def callback(current_vector):\n",
        "    callback_dict[\"iters\"] += 1\n",
        "    callback_dict[\"prev_vector\"] = current_vector\n",
        "    current_cost = cost_func_vqe(current_vector, ansatz, hamiltonian, estimator)\n",
        "\n",
        "    callback_dict[\"cost_history\"].append(current_cost)\n",
        "\n",
        "    print(\n",
        "      \"Iters. done: {} [Current cost: {}]\".format(callback_dict[\"iters\"], current_cost),\n",
        "      end=\"\\r\",\n",
        "      flush=True,\n",
        "    )\n",
        "\n",
        "  return callback"
      ],
      "metadata": {
        "id": "BAGiKpysbdHU"
      },
      "execution_count": 228,
      "outputs": []
    },
    {
      "cell_type": "code",
      "source": [
        "local_minimum_list = []\n",
        "\n",
        "for k in range(100):\n",
        "\n",
        "  callback_dict = {\n",
        "    \"prev_vector\": None,\n",
        "    \"iters\": 0,\n",
        "    \"cost_history\": [],\n",
        "  }\n",
        "\n",
        "  np.random.seed(seed_list[k])\n",
        "  x0 = 2 * np.pi * np.random.random(9)\n",
        "\n",
        "  callback = build_callback(ansatz, hamiltonian, estimator, callback_dict)\n",
        "\n",
        "  options = dict()\n",
        "  options[\"maxiter\"] = 400\n",
        "  options[\"disp\"] = True\n",
        "\n",
        "  res = minimize(\n",
        "    cost_func_vqe,\n",
        "    x0,\n",
        "    args=(ansatz, hamiltonian, estimator),\n",
        "    method=\"cobyla\",\n",
        "    callback=callback,\n",
        "    options=options\n",
        "  )\n",
        "\n",
        "  local_minimum_dict = callback_dict[\"cost_history\"]\n",
        "  local_minimum_list.append(local_minimum_dict[-1])\n",
        "\n",
        "\n",
        "local_minimum_list = np.array(local_minimum_list)"
      ],
      "metadata": {
        "colab": {
          "base_uri": "https://localhost:8080/"
        },
        "outputId": "8a059afc-d4cd-4641-c135-f5b7076d7c9c",
        "id": "65j_k0CRbdHU"
      },
      "execution_count": 229,
      "outputs": [
        {
          "output_type": "stream",
          "name": "stdout",
          "text": []
        }
      ]
    },
    {
      "cell_type": "code",
      "source": [
        "mean_depo = np.mean(local_minimum_list)\n",
        "var_depo = np.var(local_minimum_list)\n",
        "max_depo = np.max(local_minimum_list)\n",
        "min_depo = np.min(local_minimum_list)\n",
        "\n",
        "print(\"mean : {0}\".format(mean_depo))\n",
        "print(\"variance : {0}\".format(var_depo))\n",
        "print(\"maximum : {0}\".format(max_depo))\n",
        "print(\"minimum : {0}\".format(min_depo))\n",
        "print()\n",
        "print(local_minimum_list)"
      ],
      "metadata": {
        "colab": {
          "base_uri": "https://localhost:8080/"
        },
        "id": "13d3OARFbdHU",
        "outputId": "44d549e2-6dcc-48be-b7f9-36f017566ed6"
      },
      "execution_count": 230,
      "outputs": [
        {
          "output_type": "stream",
          "name": "stdout",
          "text": [
            "mean : -5.57657470703125\n",
            "variance : 0.009523436278104782\n",
            "maximum : -5.28662109375\n",
            "minimum : -5.7333984375\n",
            "\n",
            "[-5.48999023 -5.56420898 -5.56274414 -5.63525391 -5.73339844 -5.70166016\n",
            " -5.48608398 -5.54174805 -5.62280273 -5.53515625 -5.51782227 -5.72387695\n",
            " -5.70361328 -5.49145508 -5.52392578 -5.70507812 -5.55224609 -5.67651367\n",
            " -5.48510742 -5.50195312 -5.70166016 -5.70141602 -5.5925293  -5.5246582\n",
            " -5.43139648 -5.66357422 -5.51416016 -5.51489258 -5.51391602 -5.36743164\n",
            " -5.65380859 -5.56616211 -5.69042969 -5.41235352 -5.6875     -5.65087891\n",
            " -5.68823242 -5.50683594 -5.67797852 -5.4296875  -5.51171875 -5.60839844\n",
            " -5.54101562 -5.52661133 -5.50708008 -5.52441406 -5.59863281 -5.69726562\n",
            " -5.44897461 -5.68969727 -5.58154297 -5.57055664 -5.58911133 -5.47460938\n",
            " -5.55078125 -5.72729492 -5.65429688 -5.55517578 -5.69091797 -5.42431641\n",
            " -5.57836914 -5.69042969 -5.43017578 -5.55712891 -5.61132812 -5.66577148\n",
            " -5.41455078 -5.63378906 -5.64672852 -5.35888672 -5.59033203 -5.61547852\n",
            " -5.65576172 -5.59204102 -5.28662109 -5.58740234 -5.70117188 -5.62866211\n",
            " -5.58520508 -5.56103516 -5.60522461 -5.59765625 -5.70678711 -5.61621094\n",
            " -5.6003418  -5.43774414 -5.65161133 -5.52783203 -5.61987305 -5.30517578\n",
            " -5.41894531 -5.68847656 -5.70703125 -5.5234375  -5.58886719 -5.5871582\n",
            " -5.52929688 -5.63134766 -5.63916016 -5.56787109]\n"
          ]
        }
      ]
    },
    {
      "cell_type": "markdown",
      "source": [
        "## Summation of all-type Error & Conclusion"
      ],
      "metadata": {
        "id": "J4KoB_K_cMxx"
      }
    },
    {
      "cell_type": "code",
      "source": [
        "noise_model = NoiseModel()\n",
        "\n",
        "# Example error probabilities\n",
        "p_reset = 0.01\n",
        "p_measure = 0.01\n",
        "p_bit = 0.01\n",
        "p_phase = 0.01\n",
        "u_depolarizing_prob = 0.01\n",
        "cx_depolarizing_prob = 0.01\n",
        "\n",
        "bit1 = pauli_error([('X', p_bit), ('I', 1 - p_bit)])\n",
        "bit2 = bit1.tensor(bit1)\n",
        "\n",
        "phase1 = pauli_error([('Z', p_phase), ('I', 1 - p_phase)])\n",
        "phase2 = bit1.tensor(bit1)\n",
        "\n",
        "# QuantumError objects\n",
        "noise_model.add_all_qubit_quantum_error(pauli_error([('X', p_reset), ('I', 1 - p_reset)]), \"reset\")\n",
        "\n",
        "noise_model.add_all_qubit_quantum_error(pauli_error([('X', p_measure), ('I', 1 - p_measure)]), \"measure\")\n",
        "\n",
        "noise_model.add_all_qubit_quantum_error(bit1, [\"u1\", \"u2\", \"u3\"])\n",
        "noise_model.add_all_qubit_quantum_error(bit2, [\"cx\"])\n",
        "\n",
        "noise_model.add_all_qubit_quantum_error(phase1, [\"u1\", \"u2\", \"u3\"])\n",
        "noise_model.add_all_qubit_quantum_error(phase2, [\"cx\"])\n",
        "\n",
        "noise_model.add_all_qubit_quantum_error(depolarizing_error(u_depolarizing_prob, 1), ['u1', 'u2', 'u3'])\n",
        "noise_model.add_all_qubit_quantum_error(depolarizing_error(cx_depolarizing_prob, 2), [\"cx\"])\n",
        "\n",
        "estimator = Estimator(backend_options={\"noise_model\": noise_model}, skip_transpilation=True)"
      ],
      "metadata": {
        "colab": {
          "base_uri": "https://localhost:8080/"
        },
        "id": "OH0-CwkScMxy",
        "outputId": "2f3179d3-c81b-46d6-cdd2-09755b00a51b"
      },
      "execution_count": 231,
      "outputs": [
        {
          "output_type": "stream",
          "name": "stderr",
          "text": [
            "WARNING:qiskit_aer.noise.noise_model:WARNING: all-qubit error already exists for instruction \"u1\", composing with additional error.\n",
            "WARNING:qiskit_aer.noise.noise_model:WARNING: all-qubit error already exists for instruction \"u2\", composing with additional error.\n",
            "WARNING:qiskit_aer.noise.noise_model:WARNING: all-qubit error already exists for instruction \"u3\", composing with additional error.\n",
            "WARNING:qiskit_aer.noise.noise_model:WARNING: all-qubit error already exists for instruction \"cx\", composing with additional error.\n",
            "WARNING:qiskit_aer.noise.noise_model:WARNING: all-qubit error already exists for instruction \"u1\", composing with additional error.\n",
            "WARNING:qiskit_aer.noise.noise_model:WARNING: all-qubit error already exists for instruction \"u2\", composing with additional error.\n",
            "WARNING:qiskit_aer.noise.noise_model:WARNING: all-qubit error already exists for instruction \"u3\", composing with additional error.\n",
            "WARNING:qiskit_aer.noise.noise_model:WARNING: all-qubit error already exists for instruction \"cx\", composing with additional error.\n"
          ]
        }
      ]
    },
    {
      "cell_type": "code",
      "source": [
        "def cost_func_vqe(params, ansatz, hamiltonian, estimator):\n",
        "    cost = estimator.run(ansatz, hamiltonian, parameter_values=params, shots=8192, seed=1).result()\n",
        "    return cost.values[0]\n",
        "\n",
        "\n",
        "def build_callback(ansatz, hamiltonian, estimator, callback_dict):\n",
        "  def callback(current_vector):\n",
        "    callback_dict[\"iters\"] += 1\n",
        "    callback_dict[\"prev_vector\"] = current_vector\n",
        "    current_cost = cost_func_vqe(current_vector, ansatz, hamiltonian, estimator)\n",
        "\n",
        "    callback_dict[\"cost_history\"].append(current_cost)\n",
        "\n",
        "    print(\n",
        "      \"Iters. done: {} [Current cost: {}]\".format(callback_dict[\"iters\"], current_cost),\n",
        "      end=\"\\r\",\n",
        "      flush=True,\n",
        "    )\n",
        "\n",
        "  return callback"
      ],
      "metadata": {
        "id": "AH0UeODycMxy"
      },
      "execution_count": 232,
      "outputs": []
    },
    {
      "cell_type": "code",
      "source": [
        "local_minimum_list = []\n",
        "\n",
        "for k in range(100):\n",
        "\n",
        "  callback_dict = {\n",
        "    \"prev_vector\": None,\n",
        "    \"iters\": 0,\n",
        "    \"cost_history\": [],\n",
        "  }\n",
        "\n",
        "  np.random.seed(seed_list[k])\n",
        "  x0 = 2 * np.pi * np.random.random(9)\n",
        "\n",
        "  callback = build_callback(ansatz, hamiltonian, estimator, callback_dict)\n",
        "\n",
        "  options = dict()\n",
        "  options[\"maxiter\"] = 400\n",
        "  options[\"disp\"] = True\n",
        "\n",
        "  res = minimize(\n",
        "    cost_func_vqe,\n",
        "    x0,\n",
        "    args=(ansatz, hamiltonian, estimator),\n",
        "    method=\"cobyla\",\n",
        "    callback=callback,\n",
        "    options=options\n",
        "  )\n",
        "\n",
        "  local_minimum_dict = callback_dict[\"cost_history\"]\n",
        "  local_minimum_list.append(local_minimum_dict[-1])\n",
        "\n",
        "\n",
        "local_minimum_list = np.array(local_minimum_list)"
      ],
      "metadata": {
        "colab": {
          "base_uri": "https://localhost:8080/"
        },
        "id": "LVrDLUPgcMxz",
        "outputId": "7392da64-7a40-4027-f85f-ca62e9fde0c7"
      },
      "execution_count": 233,
      "outputs": [
        {
          "output_type": "stream",
          "name": "stdout",
          "text": []
        }
      ]
    },
    {
      "cell_type": "code",
      "source": [
        "mean_all = np.mean(local_minimum_list)\n",
        "var_all = np.var(local_minimum_list)\n",
        "max_all = np.max(local_minimum_list)\n",
        "min_all = np.min(local_minimum_list)\n",
        "\n",
        "print(\"mean : {0}\".format(mean_all))\n",
        "print(\"variance : {0}\".format(var_all))\n",
        "print(\"maximum : {0}\".format(max_all))\n",
        "print(\"minimum : {0}\".format(min_all))\n",
        "print()\n",
        "print(local_minimum_list)"
      ],
      "metadata": {
        "colab": {
          "base_uri": "https://localhost:8080/"
        },
        "id": "x_HSovVpcMxz",
        "outputId": "9207f659-e200-46fe-c5a9-1571947b596b"
      },
      "execution_count": 234,
      "outputs": [
        {
          "output_type": "stream",
          "name": "stdout",
          "text": [
            "mean : -5.2622509765625\n",
            "variance : 0.003942047810554504\n",
            "maximum : -5.06591796875\n",
            "minimum : -5.366943359375\n",
            "\n",
            "[-5.22900391 -5.30175781 -5.31567383 -5.29711914 -5.30957031 -5.35253906\n",
            " -5.22875977 -5.29980469 -5.29516602 -5.25537109 -5.21459961 -5.3269043\n",
            " -5.2722168  -5.23193359 -5.12109375 -5.33227539 -5.17114258 -5.18237305\n",
            " -5.22363281 -5.18920898 -5.36694336 -5.32519531 -5.25610352 -5.30273438\n",
            " -5.12841797 -5.32861328 -5.2590332  -5.3581543  -5.33007812 -5.19677734\n",
            " -5.25634766 -5.28442383 -5.33520508 -5.26391602 -5.27978516 -5.3112793\n",
            " -5.30932617 -5.17626953 -5.13916016 -5.21606445 -5.06591797 -5.25708008\n",
            " -5.15039062 -5.33764648 -5.2253418  -5.22851562 -5.23901367 -5.33813477\n",
            " -5.29174805 -5.23754883 -5.26806641 -5.2487793  -5.32568359 -5.29174805\n",
            " -5.29077148 -5.30151367 -5.17919922 -5.30932617 -5.36352539 -5.31176758\n",
            " -5.20874023 -5.34228516 -5.34619141 -5.24926758 -5.2878418  -5.24389648\n",
            " -5.23657227 -5.20166016 -5.21801758 -5.28710938 -5.26782227 -5.1706543\n",
            " -5.28930664 -5.1484375  -5.30395508 -5.18286133 -5.35595703 -5.17089844\n",
            " -5.30249023 -5.26660156 -5.16235352 -5.29150391 -5.31103516 -5.23828125\n",
            " -5.31762695 -5.28051758 -5.30444336 -5.16015625 -5.19873047 -5.26586914\n",
            " -5.23876953 -5.35766602 -5.32739258 -5.25170898 -5.22680664 -5.24609375\n",
            " -5.24755859 -5.34472656 -5.24194336 -5.2956543 ]\n"
          ]
        }
      ]
    },
    {
      "cell_type": "code",
      "source": [
        "import matplotlib.pyplot as plt\n",
        "\n",
        "x = [\"Ideal\", \"Reset\", \"Measure\", \"Bit Flip\", \"Phase Flip\", \"Depolarize\", \"Sum\"]\n",
        "y = [mean_ideal, mean_rst, mean_measure, mean_bit, mean_phase, mean_depo, mean_all]\n",
        "yerr = [2*np.sqrt(var_ideal), 2*np.sqrt(var_rst), 2*np.sqrt(var_measure), 2*np.sqrt(var_bit), 2*np.sqrt(var_phase), 2*np.sqrt(var_depo), 2*np.sqrt(var_all)]\n",
        "\n",
        "plt.plot(x, y)\n",
        "plt.errorbar(x, y, yerr=yerr, fmt ='o')\n",
        "plt.xlabel('Error')\n",
        "plt.ylabel('Lowest Energy')\n",
        "plt.show()"
      ],
      "metadata": {
        "colab": {
          "base_uri": "https://localhost:8080/",
          "height": 449
        },
        "id": "WwrvF8cVd3n1",
        "outputId": "aa5c0894-0cf3-40f9-9a07-fbd74ab91a89"
      },
      "execution_count": 235,
      "outputs": [
        {
          "output_type": "display_data",
          "data": {
            "text/plain": [
              "<Figure size 640x480 with 1 Axes>"
            ],
            "image/png": "[encoded data removed]"
          },
          "metadata": {}
        }
      ]
    },
    {
      "cell_type": "code",
      "source": [
        "res"
      ],
      "metadata": {
        "colab": {
          "base_uri": "https://localhost:8080/"
        },
        "id": "QTZf01CA0mYU",
        "outputId": "ab11e360-4f79-4e35-8c2a-cf7f6d11ca7a"
      },
      "execution_count": 236,
      "outputs": [
        {
          "output_type": "execute_result",
          "data": {
            "text/plain": [
              " message: Optimization terminated successfully.\n",
              " success: True\n",
              "  status: 1\n",
              "     fun: -5.295654296875\n",
              "       x: [ 2.893e-01  5.937e+00  6.703e+00  6.614e+00  4.794e+00\n",
              "            5.724e+00  5.494e+00  2.175e+00  2.245e+00]\n",
              "    nfev: 138\n",
              "   maxcv: 0.0"
            ]
          },
          "metadata": {},
          "execution_count": 236
        }
      ]
    },
    {
      "cell_type": "markdown",
      "source": [
        "# VQE in IBM Hardware (Least Busy)\n",
        "\n",
        "use parameter optimized in Noiseless Simulator"
      ],
      "metadata": {
        "id": "XNbQIir0i6Mc"
      }
    },
    {
      "cell_type": "markdown",
      "source": [
        "## optimization_level = 3 resilence_level = 0"
      ],
      "metadata": {
        "id": "wNLFzG0I00OJ"
      }
    },
    {
      "cell_type": "code",
      "source": [
        "from qiskit.circuit import QuantumCircuit, QuantumRegister, Parameter\n",
        "from qiskit.quantum_info import SparsePauliOp\n",
        "from qiskit.circuit import ParameterVector\n",
        "\n",
        "from qiskit_ibm_runtime import QiskitRuntimeService, Estimator, Options\n",
        "from qiskit.transpiler.preset_passmanagers import generate_preset_pass_manager\n",
        "\n",
        "import numpy as np"
      ],
      "metadata": {
        "id": "VSbxuwSSi6Ml"
      },
      "execution_count": 12,
      "outputs": []
    },
    {
      "cell_type": "code",
      "source": [
        "# Instantiate the system Hamiltonian\n",
        "\n",
        "interation = 1\n",
        "bias = -1\n",
        "coeff_list = [interation for _ in range(5)] + [bias for _ in range(5)]\n",
        "operator_list = [\"ZZIII\", \"IZZII\", \"IIZZI\", \"IIIZZ\", \"ZIIIZ\", \"XIIII\", \"IXIII\", \"IIXII\", \"IIIXI\", \"IIIIX\"]\n",
        "hamiltonian_list = []\n",
        "for i in range(10):\n",
        "    hamiltonian_list.append((operator_list[i], coeff_list[i]))\n",
        "hamiltonian = SparsePauliOp.from_list(hamiltonian_list)"
      ],
      "metadata": {
        "id": "x6iWoO7ii6Ml"
      },
      "execution_count": 13,
      "outputs": []
    },
    {
      "cell_type": "code",
      "source": [
        "# Ansatz\n",
        "\n",
        "ansatz = QuantumCircuit(5)\n",
        "params = ParameterVector(\"theta\", length=9)\n",
        "it = iter(params)\n",
        "ansatz.h(range(0,5))\n",
        "\n",
        "ansatz.barrier()\n",
        "\n",
        "ansatz.cx(0, 1)\n",
        "ansatz.cx(2, 3)\n",
        "ansatz.rz(next(it), 1)\n",
        "ansatz.rz(next(it), 3)\n",
        "ansatz.cx(0, 1)\n",
        "ansatz.cx(2, 3)\n",
        "ansatz.cx(1, 2)\n",
        "ansatz.cx(3, 4)\n",
        "ansatz.rz(next(it), 2)\n",
        "ansatz.rz(next(it), 4)\n",
        "ansatz.cx(1, 2)\n",
        "ansatz.cx(3, 4)\n",
        "\n",
        "ansatz.barrier()\n",
        "\n",
        "ansatz.rx(next(it), 0)\n",
        "ansatz.rx(next(it), 1)\n",
        "ansatz.rx(next(it), 2)\n",
        "ansatz.rx(next(it), 3)\n",
        "ansatz.rx(next(it), 4)\n",
        "\n",
        "ansatz.draw(\"mpl\")"
      ],
      "metadata": {
        "colab": {
          "base_uri": "https://localhost:8080/",
          "height": 384
        },
        "outputId": "6e930e7f-1f8a-4dce-9591-f394a77d41e0",
        "id": "swE-gOWdi6Ml"
      },
      "execution_count": 14,
      "outputs": [
        {
          "output_type": "execute_result",
          "data": {
            "text/plain": [
              "<Figure size 956.385x451.5 with 1 Axes>"
            ],
            "image/png": "[encoded data removed]"
          },
          "metadata": {},
          "execution_count": 14
        }
      ]
    },
    {
      "cell_type": "code",
      "source": [
        "service = QiskitRuntimeService()\n",
        "\n",
        "backend = service.least_busy(simulator=False, operational=True)\n",
        "print(backend)"
      ],
      "metadata": {
        "colab": {
          "base_uri": "https://localhost:8080/"
        },
        "outputId": "f704d883-4a44-4040-84a1-77269fe31337",
        "id": "n0Fv5vS0i6Ml"
      },
      "execution_count": 15,
      "outputs": [
        {
          "output_type": "stream",
          "name": "stdout",
          "text": [
            "<IBMBackend('ibmq_mumbai')>\n"
          ]
        }
      ]
    },
    {
      "cell_type": "code",
      "source": [
        "pm = generate_preset_pass_manager(backend=backend, optimization_level=1)\n",
        "isa_circuit = pm.run(ansatz)\n",
        "isa_observable = hamiltonian.apply_layout(isa_circuit.layout)\n",
        "\n",
        "options = Options()\n",
        "options.optimization_level = 3\n",
        "options.resilience_level = 0\n",
        "\n",
        "estimator = Estimator(backend=backend, options=options)"
      ],
      "metadata": {
        "id": "nQ-aqP4fi6Mm"
      },
      "execution_count": 16,
      "outputs": []
    },
    {
      "cell_type": "code",
      "source": [
        "x0 = np.array([5.777e+00, 5.890e+00, 5.159e-01, 4.998e-01, 4.868e+00, 2.854e+00, 1.875e+00, 6.043e+00, 4.940e+00])\n",
        "cost = estimator.run(isa_circuit, isa_observable, parameter_values=x0).result()\n",
        "\n",
        "print(cost.values[0])"
      ],
      "metadata": {
        "colab": {
          "base_uri": "https://localhost:8080/"
        },
        "id": "4DPZzY_cJr51",
        "outputId": "9eb6fb53-08db-4b77-bb77-2963018cabcf"
      },
      "execution_count": 17,
      "outputs": [
        {
          "output_type": "stream",
          "name": "stdout",
          "text": [
            "-5.477\n"
          ]
        }
      ]
    },
    {
      "cell_type": "markdown",
      "source": [
        "## optimization_level = 3 resilence_level = 1"
      ],
      "metadata": {
        "id": "vFuJ0HkWKj6t"
      }
    },
    {
      "cell_type": "code",
      "source": [
        "from qiskit.circuit import QuantumCircuit, QuantumRegister, Parameter\n",
        "from qiskit.quantum_info import SparsePauliOp\n",
        "from qiskit.circuit import ParameterVector\n",
        "\n",
        "from qiskit_ibm_runtime import QiskitRuntimeService, Estimator, Options\n",
        "from qiskit.transpiler.preset_passmanagers import generate_preset_pass_manager\n",
        "\n",
        "import numpy as np"
      ],
      "metadata": {
        "id": "usg8PrtUKj66"
      },
      "execution_count": 18,
      "outputs": []
    },
    {
      "cell_type": "code",
      "source": [
        "# Instantiate the system Hamiltonian\n",
        "\n",
        "interation = 1\n",
        "bias = -1\n",
        "coeff_list = [interation for _ in range(5)] + [bias for _ in range(5)]\n",
        "operator_list = [\"ZZIII\", \"IZZII\", \"IIZZI\", \"IIIZZ\", \"ZIIIZ\", \"XIIII\", \"IXIII\", \"IIXII\", \"IIIXI\", \"IIIIX\"]\n",
        "hamiltonian_list = []\n",
        "for i in range(10):\n",
        "    hamiltonian_list.append((operator_list[i], coeff_list[i]))\n",
        "hamiltonian = SparsePauliOp.from_list(hamiltonian_list)"
      ],
      "metadata": {
        "id": "UOdYz-ynKj67"
      },
      "execution_count": 19,
      "outputs": []
    },
    {
      "cell_type": "code",
      "source": [
        "# Ansatz\n",
        "\n",
        "ansatz = QuantumCircuit(5)\n",
        "params = ParameterVector(\"theta\", length=9)\n",
        "it = iter(params)\n",
        "ansatz.h(range(0,5))\n",
        "\n",
        "ansatz.barrier()\n",
        "\n",
        "ansatz.cx(0, 1)\n",
        "ansatz.cx(2, 3)\n",
        "ansatz.rz(next(it), 1)\n",
        "ansatz.rz(next(it), 3)\n",
        "ansatz.cx(0, 1)\n",
        "ansatz.cx(2, 3)\n",
        "ansatz.cx(1, 2)\n",
        "ansatz.cx(3, 4)\n",
        "ansatz.rz(next(it), 2)\n",
        "ansatz.rz(next(it), 4)\n",
        "ansatz.cx(1, 2)\n",
        "ansatz.cx(3, 4)\n",
        "\n",
        "ansatz.barrier()\n",
        "\n",
        "ansatz.rx(next(it), 0)\n",
        "ansatz.rx(next(it), 1)\n",
        "ansatz.rx(next(it), 2)\n",
        "ansatz.rx(next(it), 3)\n",
        "ansatz.rx(next(it), 4)\n",
        "\n",
        "ansatz.draw(\"mpl\")"
      ],
      "metadata": {
        "colab": {
          "base_uri": "https://localhost:8080/",
          "height": 384
        },
        "outputId": "f6a76f7f-05a8-4315-b80d-59366606d8b5",
        "id": "FC1oJx6NKj67"
      },
      "execution_count": 20,
      "outputs": [
        {
          "output_type": "execute_result",
          "data": {
            "text/plain": [
              "<Figure size 956.385x451.5 with 1 Axes>"
            ],
            "image/png": "[encoded data removed]"
          },
          "metadata": {},
          "execution_count": 20
        }
      ]
    },
    {
      "cell_type": "code",
      "source": [
        "service = QiskitRuntimeService()\n",
        "\n",
        "backend = service.least_busy(simulator=False, operational=True)\n",
        "print(backend)"
      ],
      "metadata": {
        "colab": {
          "base_uri": "https://localhost:8080/"
        },
        "outputId": "972dfa0b-1192-4e93-836d-ca11346f0ffc",
        "id": "GDlwt1Z1Kj67"
      },
      "execution_count": 21,
      "outputs": [
        {
          "output_type": "stream",
          "name": "stdout",
          "text": [
            "<IBMBackend('ibmq_mumbai')>\n"
          ]
        }
      ]
    },
    {
      "cell_type": "code",
      "source": [
        "pm = generate_preset_pass_manager(backend=backend, optimization_level=1)\n",
        "isa_circuit = pm.run(ansatz)\n",
        "isa_observable = hamiltonian.apply_layout(isa_circuit.layout)\n",
        "\n",
        "options = Options()\n",
        "options.optimization_level = 3\n",
        "options.resilience_level = 1\n",
        "\n",
        "estimator = Estimator(backend=backend, options=options)"
      ],
      "metadata": {
        "id": "kjdw_Q9SKj67"
      },
      "execution_count": 22,
      "outputs": []
    },
    {
      "cell_type": "code",
      "source": [
        "x0 = np.array([5.777e+00, 5.890e+00, 5.159e-01, 4.998e-01, 4.868e+00, 2.854e+00, 1.875e+00, 6.043e+00, 4.940e+00])\n",
        "cost = estimator.run(isa_circuit, isa_observable, parameter_values=x0).result()\n",
        "\n",
        "print(cost.values[0])"
      ],
      "metadata": {
        "colab": {
          "base_uri": "https://localhost:8080/"
        },
        "id": "DPOrjgRuKj67",
        "outputId": "1180dc0c-3878-44c2-c3ae-63bc26f9a830"
      },
      "execution_count": 23,
      "outputs": [
        {
          "output_type": "stream",
          "name": "stderr",
          "text": [
            "ERROR:websocket:Handshake status 500 Internal Server Error -+-+- {'date': 'Fri, 08 Mar 2024 23:44:30 GMT', 'content-type': 'application/json; charset=utf-8', 'content-length': '188', 'connection': 'keep-alive', 'access-control-allow-credentials': 'true', 'access-control-allow-origin': '*', 'correlation-id': 'cnlq5l8174pv1li9rndg', 'cf-cache-status': 'DYNAMIC', 'server': 'cloudflare', 'cf-ray': '8616b0922cc266bc-AMS'} -+-+- b'{\"errors\":[{\"code\":\"internal_server_error\",\"message\":\"error authorizing user\",\"more_info\":\"https://cloud.ibm.com/apidocs/quantum-computing#error-handling\"}],\"trace\":\"cnlq5l8174pv1li9rndg\"}' - goodbye\n",
            "ERROR:websocket:Handshake status 500 Internal Server Error -+-+- {'date': 'Fri, 08 Mar 2024 23:45:10 GMT', 'content-type': 'application/json; charset=utf-8', 'content-length': '188', 'connection': 'keep-alive', 'access-control-allow-credentials': 'true', 'access-control-allow-origin': '*', 'correlation-id': 'cnlq5v8174pv1li9rni0', 'cf-cache-status': 'DYNAMIC', 'server': 'cloudflare', 'cf-ray': '8616b1920c6a0e35-AMS'} -+-+- b'{\"errors\":[{\"code\":\"internal_server_error\",\"message\":\"error authorizing user\",\"more_info\":\"https://cloud.ibm.com/apidocs/quantum-computing#error-handling\"}],\"trace\":\"cnlq5v8174pv1li9rni0\"}' - goodbye\n"
          ]
        },
        {
          "output_type": "stream",
          "name": "stdout",
          "text": [
            "-5.6198926955780895\n"
          ]
        }
      ]
    },
    {
      "cell_type": "markdown",
      "source": [
        "## optimization_level = 3 resilence_level = 2"
      ],
      "metadata": {
        "id": "cO1VXsIZKkWo"
      }
    },
    {
      "cell_type": "code",
      "source": [
        "from qiskit.circuit import QuantumCircuit, QuantumRegister, Parameter\n",
        "from qiskit.quantum_info import SparsePauliOp\n",
        "from qiskit.circuit import ParameterVector\n",
        "\n",
        "from qiskit_ibm_runtime import QiskitRuntimeService, Estimator, Options\n",
        "from qiskit.transpiler.preset_passmanagers import generate_preset_pass_manager\n",
        "\n",
        "import numpy as np"
      ],
      "metadata": {
        "id": "4XcuPnv4KkWp"
      },
      "execution_count": 24,
      "outputs": []
    },
    {
      "cell_type": "code",
      "source": [
        "# Instantiate the system Hamiltonian\n",
        "\n",
        "interation = 1\n",
        "bias = -1\n",
        "coeff_list = [interation for _ in range(5)] + [bias for _ in range(5)]\n",
        "operator_list = [\"ZZIII\", \"IZZII\", \"IIZZI\", \"IIIZZ\", \"ZIIIZ\", \"XIIII\", \"IXIII\", \"IIXII\", \"IIIXI\", \"IIIIX\"]\n",
        "hamiltonian_list = []\n",
        "for i in range(10):\n",
        "    hamiltonian_list.append((operator_list[i], coeff_list[i]))\n",
        "hamiltonian = SparsePauliOp.from_list(hamiltonian_list)"
      ],
      "metadata": {
        "id": "SOzfbuDjKkWp"
      },
      "execution_count": 25,
      "outputs": []
    },
    {
      "cell_type": "code",
      "source": [
        "# Ansatz\n",
        "\n",
        "ansatz = QuantumCircuit(5)\n",
        "params = ParameterVector(\"theta\", length=9)\n",
        "it = iter(params)\n",
        "ansatz.h(range(0,5))\n",
        "\n",
        "ansatz.barrier()\n",
        "\n",
        "ansatz.cx(0, 1)\n",
        "ansatz.cx(2, 3)\n",
        "ansatz.rz(next(it), 1)\n",
        "ansatz.rz(next(it), 3)\n",
        "ansatz.cx(0, 1)\n",
        "ansatz.cx(2, 3)\n",
        "ansatz.cx(1, 2)\n",
        "ansatz.cx(3, 4)\n",
        "ansatz.rz(next(it), 2)\n",
        "ansatz.rz(next(it), 4)\n",
        "ansatz.cx(1, 2)\n",
        "ansatz.cx(3, 4)\n",
        "\n",
        "ansatz.barrier()\n",
        "\n",
        "ansatz.rx(next(it), 0)\n",
        "ansatz.rx(next(it), 1)\n",
        "ansatz.rx(next(it), 2)\n",
        "ansatz.rx(next(it), 3)\n",
        "ansatz.rx(next(it), 4)\n",
        "\n",
        "ansatz.draw(\"mpl\")"
      ],
      "metadata": {
        "colab": {
          "base_uri": "https://localhost:8080/",
          "height": 384
        },
        "outputId": "d4cffc25-5a03-4b45-db8f-af880aff8269",
        "id": "eO_k_i88KkWp"
      },
      "execution_count": 26,
      "outputs": [
        {
          "output_type": "execute_result",
          "data": {
            "text/plain": [
              "<Figure size 956.385x451.5 with 1 Axes>"
            ],
            "image/png": "[encoded data removed]"
          },
          "metadata": {},
          "execution_count": 26
        }
      ]
    },
    {
      "cell_type": "code",
      "source": [
        "service = QiskitRuntimeService()\n",
        "\n",
        "backend = service.least_busy(simulator=False, operational=True)\n",
        "print(backend)"
      ],
      "metadata": {
        "colab": {
          "base_uri": "https://localhost:8080/"
        },
        "outputId": "3632ecd7-e8f1-4eaf-a1d3-1c8119707f3e",
        "id": "AiQPbPsDKkWq"
      },
      "execution_count": 27,
      "outputs": [
        {
          "output_type": "stream",
          "name": "stdout",
          "text": [
            "<IBMBackend('ibmq_mumbai')>\n"
          ]
        }
      ]
    },
    {
      "cell_type": "code",
      "source": [
        "pm = generate_preset_pass_manager(backend=backend, optimization_level=1)\n",
        "isa_circuit = pm.run(ansatz)\n",
        "isa_observable = hamiltonian.apply_layout(isa_circuit.layout)\n",
        "\n",
        "options = Options()\n",
        "options.optimization_level = 3\n",
        "options.resilience_level = 2\n",
        "\n",
        "estimator = Estimator(backend=backend, options=options)"
      ],
      "metadata": {
        "id": "iErkJy5uKkWq"
      },
      "execution_count": 28,
      "outputs": []
    },
    {
      "cell_type": "code",
      "source": [
        "x0 = np.array([5.777e+00, 5.890e+00, 5.159e-01, 4.998e-01, 4.868e+00, 2.854e+00, 1.875e+00, 6.043e+00, 4.940e+00])\n",
        "cost = estimator.run(isa_circuit, isa_observable, parameter_values=x0).result()\n",
        "\n",
        "print(cost.values[0])"
      ],
      "metadata": {
        "colab": {
          "base_uri": "https://localhost:8080/"
        },
        "id": "1j6GNuXIKkWq",
        "outputId": "8c4c6b55-439d-48ba-be7b-ffe5fd642533"
      },
      "execution_count": 29,
      "outputs": [
        {
          "output_type": "stream",
          "name": "stdout",
          "text": [
            "-5.684886920464783\n"
          ]
        }
      ]
    },
    {
      "cell_type": "markdown",
      "source": [
        "## optimization_level = 3 resilence_level = 3"
      ],
      "metadata": {
        "id": "2urPRs-kKkso"
      }
    },
    {
      "cell_type": "code",
      "source": [
        "from qiskit.circuit import QuantumCircuit, QuantumRegister, Parameter\n",
        "from qiskit.quantum_info import SparsePauliOp\n",
        "from qiskit.circuit import ParameterVector\n",
        "\n",
        "from qiskit_ibm_runtime import QiskitRuntimeService, Estimator, Options\n",
        "from qiskit.transpiler.preset_passmanagers import generate_preset_pass_manager\n",
        "\n",
        "import numpy as np"
      ],
      "metadata": {
        "id": "PxArK65DKksp"
      },
      "execution_count": 30,
      "outputs": []
    },
    {
      "cell_type": "code",
      "source": [
        "# Instantiate the system Hamiltonian\n",
        "\n",
        "interation = 1\n",
        "bias = -1\n",
        "coeff_list = [interation for _ in range(5)] + [bias for _ in range(5)]\n",
        "operator_list = [\"ZZIII\", \"IZZII\", \"IIZZI\", \"IIIZZ\", \"ZIIIZ\", \"XIIII\", \"IXIII\", \"IIXII\", \"IIIXI\", \"IIIIX\"]\n",
        "hamiltonian_list = []\n",
        "for i in range(10):\n",
        "    hamiltonian_list.append((operator_list[i], coeff_list[i]))\n",
        "hamiltonian = SparsePauliOp.from_list(hamiltonian_list)"
      ],
      "metadata": {
        "id": "rwgLp_ZdKksp"
      },
      "execution_count": 31,
      "outputs": []
    },
    {
      "cell_type": "code",
      "source": [
        "# Ansatz\n",
        "\n",
        "ansatz = QuantumCircuit(5)\n",
        "params = ParameterVector(\"theta\", length=9)\n",
        "it = iter(params)\n",
        "ansatz.h(range(0,5))\n",
        "\n",
        "ansatz.barrier()\n",
        "\n",
        "ansatz.cx(0, 1)\n",
        "ansatz.cx(2, 3)\n",
        "ansatz.rz(next(it), 1)\n",
        "ansatz.rz(next(it), 3)\n",
        "ansatz.cx(0, 1)\n",
        "ansatz.cx(2, 3)\n",
        "ansatz.cx(1, 2)\n",
        "ansatz.cx(3, 4)\n",
        "ansatz.rz(next(it), 2)\n",
        "ansatz.rz(next(it), 4)\n",
        "ansatz.cx(1, 2)\n",
        "ansatz.cx(3, 4)\n",
        "\n",
        "ansatz.barrier()\n",
        "\n",
        "ansatz.rx(next(it), 0)\n",
        "ansatz.rx(next(it), 1)\n",
        "ansatz.rx(next(it), 2)\n",
        "ansatz.rx(next(it), 3)\n",
        "ansatz.rx(next(it), 4)\n",
        "\n",
        "ansatz.draw(\"mpl\")"
      ],
      "metadata": {
        "colab": {
          "base_uri": "https://localhost:8080/",
          "height": 384
        },
        "outputId": "cdd2c183-b4d8-4e16-d483-a0c154f1c135",
        "id": "MP0Te1LIKksq"
      },
      "execution_count": 32,
      "outputs": [
        {
          "output_type": "execute_result",
          "data": {
            "text/plain": [
              "<Figure size 956.385x451.5 with 1 Axes>"
            ],
            "image/png": "[encoded data removed]"
          },
          "metadata": {},
          "execution_count": 32
        }
      ]
    },
    {
      "cell_type": "code",
      "source": [
        "service = QiskitRuntimeService()\n",
        "\n",
        "backend = service.least_busy(simulator=False, operational=True)\n",
        "print(backend)"
      ],
      "metadata": {
        "colab": {
          "base_uri": "https://localhost:8080/"
        },
        "outputId": "977c759c-74f8-48b5-a11c-2d1a344f5a69",
        "id": "d20dYVHoKksq"
      },
      "execution_count": 33,
      "outputs": [
        {
          "output_type": "stream",
          "name": "stdout",
          "text": [
            "<IBMBackend('ibmq_mumbai')>\n"
          ]
        }
      ]
    },
    {
      "cell_type": "code",
      "source": [
        "pm = generate_preset_pass_manager(backend=backend, optimization_level=1)\n",
        "isa_circuit = pm.run(ansatz)\n",
        "isa_observable = hamiltonian.apply_layout(isa_circuit.layout)\n",
        "\n",
        "options = Options()\n",
        "options.optimization_level = 3\n",
        "options.resilience_level = 3\n",
        "\n",
        "estimator = Estimator(backend=backend, options=options)"
      ],
      "metadata": {
        "id": "KHRsTkf8Kksq"
      },
      "execution_count": 34,
      "outputs": []
    },
    {
      "cell_type": "code",
      "source": [
        "x0 = np.array([5.777e+00, 5.890e+00, 5.159e-01, 4.998e-01, 4.868e+00, 2.854e+00, 1.875e+00, 6.043e+00, 4.940e+00])\n",
        "cost = estimator.run(isa_circuit, isa_observable, parameter_values=x0).result()\n",
        "\n",
        "print(cost.values[0])"
      ],
      "metadata": {
        "colab": {
          "base_uri": "https://localhost:8080/"
        },
        "id": "SsI4fDZVKksq",
        "outputId": "6742ea10-8687-4109-8f11-c9b17cbf7cb0"
      },
      "execution_count": 35,
      "outputs": [
        {
          "output_type": "stream",
          "name": "stdout",
          "text": [
            "-5.947573843787973\n"
          ]
        }
      ]
    },
    {
      "cell_type": "markdown",
      "source": [
        "# VQE in IBM Hardware (Least Busy)\n",
        "\n",
        "use parameter optimized in Noisy Simulator"
      ],
      "metadata": {
        "id": "GnIsJysAb_IK"
      }
    },
    {
      "cell_type": "markdown",
      "source": [
        "## optimization_level = 3 resilence_level = 0"
      ],
      "metadata": {
        "id": "wA9u2e6vb_IY"
      }
    },
    {
      "cell_type": "code",
      "source": [
        "from qiskit.circuit import QuantumCircuit, QuantumRegister, Parameter\n",
        "from qiskit.quantum_info import SparsePauliOp\n",
        "from qiskit.circuit import ParameterVector\n",
        "\n",
        "from qiskit_ibm_runtime import QiskitRuntimeService, Estimator, Options\n",
        "from qiskit.transpiler.preset_passmanagers import generate_preset_pass_manager\n",
        "\n",
        "import numpy as np"
      ],
      "metadata": {
        "id": "OW5Fau-nb_IY"
      },
      "execution_count": null,
      "outputs": []
    },
    {
      "cell_type": "code",
      "source": [
        "# Instantiate the system Hamiltonian\n",
        "\n",
        "interation = 1\n",
        "bias = -1\n",
        "coeff_list = [interation for _ in range(5)] + [bias for _ in range(5)]\n",
        "operator_list = [\"ZZIII\", \"IZZII\", \"IIZZI\", \"IIIZZ\", \"ZIIIZ\", \"XIIII\", \"IXIII\", \"IIXII\", \"IIIXI\", \"IIIIX\"]\n",
        "hamiltonian_list = []\n",
        "for i in range(10):\n",
        "    hamiltonian_list.append((operator_list[i], coeff_list[i]))\n",
        "hamiltonian = SparsePauliOp.from_list(hamiltonian_list)"
      ],
      "metadata": {
        "id": "kpJB6Iukb_IY"
      },
      "execution_count": null,
      "outputs": []
    },
    {
      "cell_type": "code",
      "source": [
        "# Ansatz\n",
        "\n",
        "ansatz = QuantumCircuit(5)\n",
        "params = ParameterVector(\"theta\", length=9)\n",
        "it = iter(params)\n",
        "ansatz.h(range(0,5))\n",
        "\n",
        "ansatz.barrier()\n",
        "\n",
        "ansatz.cx(0, 1)\n",
        "ansatz.cx(2, 3)\n",
        "ansatz.rz(next(it), 1)\n",
        "ansatz.rz(next(it), 3)\n",
        "ansatz.cx(0, 1)\n",
        "ansatz.cx(2, 3)\n",
        "ansatz.cx(1, 2)\n",
        "ansatz.cx(3, 4)\n",
        "ansatz.rz(next(it), 2)\n",
        "ansatz.rz(next(it), 4)\n",
        "ansatz.cx(1, 2)\n",
        "ansatz.cx(3, 4)\n",
        "\n",
        "ansatz.barrier()\n",
        "\n",
        "ansatz.rx(next(it), 0)\n",
        "ansatz.rx(next(it), 1)\n",
        "ansatz.rx(next(it), 2)\n",
        "ansatz.rx(next(it), 3)\n",
        "ansatz.rx(next(it), 4)\n",
        "\n",
        "ansatz.draw(\"mpl\")"
      ],
      "metadata": {
        "colab": {
          "base_uri": "https://localhost:8080/",
          "height": 384
        },
        "outputId": "0cdba9ce-f47d-42b9-b9cd-93ebb2042830",
        "id": "s6aQfiv8b_IZ"
      },
      "execution_count": null,
      "outputs": [
        {
          "output_type": "execute_result",
          "data": {
            "text/plain": [
              "<Figure size 956.385x451.5 with 1 Axes>"
            ],
            "image/png": "[encoded data removed]"
          },
          "metadata": {},
          "execution_count": 257
        }
      ]
    },
    {
      "cell_type": "code",
      "source": [
        "service = QiskitRuntimeService()\n",
        "\n",
        "backend = service.least_busy(simulator=False, operational=True)\n",
        "print(backend)"
      ],
      "metadata": {
        "colab": {
          "base_uri": "https://localhost:8080/"
        },
        "outputId": "2b40850c-ca9c-4ecb-b1d3-5803cde76de6",
        "id": "X5WwsvNnb_IZ"
      },
      "execution_count": null,
      "outputs": [
        {
          "output_type": "stream",
          "name": "stdout",
          "text": [
            "<IBMBackend('ibmq_mumbai')>\n"
          ]
        }
      ]
    },
    {
      "cell_type": "code",
      "source": [
        "pm = generate_preset_pass_manager(backend=backend, optimization_level=1)\n",
        "isa_circuit = pm.run(ansatz)\n",
        "isa_observable = hamiltonian.apply_layout(isa_circuit.layout)\n",
        "\n",
        "options = Options()\n",
        "options.optimization_level = 3\n",
        "options.resilience_level = 0\n",
        "\n",
        "estimator = Estimator(backend=backend, options=options)"
      ],
      "metadata": {
        "id": "ZEcFDl7ab_IZ"
      },
      "execution_count": null,
      "outputs": []
    },
    {
      "cell_type": "code",
      "source": [
        "x0 = np.array([2.893e-01, 5.937e+00, 6.703e+00, 6.614e+00, 4.794e+00, 5.724e+00, 5.494e+00, 2.175e+00, 2.245e+00])\n",
        "cost = estimator.run(isa_circuit, isa_observable, parameter_values=x0).result()\n",
        "\n",
        "print(cost.values[0])"
      ],
      "metadata": {
        "colab": {
          "base_uri": "https://localhost:8080/"
        },
        "outputId": "3bb6cee4-e3f6-40fc-ab6c-6f733f072611",
        "id": "N0wVMWJPb_IZ"
      },
      "execution_count": null,
      "outputs": [
        {
          "output_type": "stream",
          "name": "stdout",
          "text": [
            "-5.365499999999999\n"
          ]
        }
      ]
    },
    {
      "cell_type": "markdown",
      "source": [
        "## optimization_level = 3 resilence_level = 1"
      ],
      "metadata": {
        "id": "HRBXVkhKb_IZ"
      }
    },
    {
      "cell_type": "code",
      "source": [
        "from qiskit.circuit import QuantumCircuit, QuantumRegister, Parameter\n",
        "from qiskit.quantum_info import SparsePauliOp\n",
        "from qiskit.circuit import ParameterVector\n",
        "\n",
        "from qiskit_ibm_runtime import QiskitRuntimeService, Estimator, Options\n",
        "from qiskit.transpiler.preset_passmanagers import generate_preset_pass_manager\n",
        "\n",
        "import numpy as np"
      ],
      "metadata": {
        "id": "nQDvJDvIb_IZ"
      },
      "execution_count": null,
      "outputs": []
    },
    {
      "cell_type": "code",
      "source": [
        "# Instantiate the system Hamiltonian\n",
        "\n",
        "interation = 1\n",
        "bias = -1\n",
        "coeff_list = [interation for _ in range(5)] + [bias for _ in range(5)]\n",
        "operator_list = [\"ZZIII\", \"IZZII\", \"IIZZI\", \"IIIZZ\", \"ZIIIZ\", \"XIIII\", \"IXIII\", \"IIXII\", \"IIIXI\", \"IIIIX\"]\n",
        "hamiltonian_list = []\n",
        "for i in range(10):\n",
        "    hamiltonian_list.append((operator_list[i], coeff_list[i]))\n",
        "hamiltonian = SparsePauliOp.from_list(hamiltonian_list)"
      ],
      "metadata": {
        "id": "s_OXInVcb_Ia"
      },
      "execution_count": null,
      "outputs": []
    },
    {
      "cell_type": "code",
      "source": [
        "# Ansatz\n",
        "\n",
        "ansatz = QuantumCircuit(5)\n",
        "params = ParameterVector(\"theta\", length=9)\n",
        "it = iter(params)\n",
        "ansatz.h(range(0,5))\n",
        "\n",
        "ansatz.barrier()\n",
        "\n",
        "ansatz.cx(0, 1)\n",
        "ansatz.cx(2, 3)\n",
        "ansatz.rz(next(it), 1)\n",
        "ansatz.rz(next(it), 3)\n",
        "ansatz.cx(0, 1)\n",
        "ansatz.cx(2, 3)\n",
        "ansatz.cx(1, 2)\n",
        "ansatz.cx(3, 4)\n",
        "ansatz.rz(next(it), 2)\n",
        "ansatz.rz(next(it), 4)\n",
        "ansatz.cx(1, 2)\n",
        "ansatz.cx(3, 4)\n",
        "\n",
        "ansatz.barrier()\n",
        "\n",
        "ansatz.rx(next(it), 0)\n",
        "ansatz.rx(next(it), 1)\n",
        "ansatz.rx(next(it), 2)\n",
        "ansatz.rx(next(it), 3)\n",
        "ansatz.rx(next(it), 4)\n",
        "\n",
        "ansatz.draw(\"mpl\")"
      ],
      "metadata": {
        "colab": {
          "base_uri": "https://localhost:8080/",
          "height": 384
        },
        "outputId": "7e85710f-261a-4626-ef9c-5c2579afe612",
        "id": "dxzfeRxEb_Ia"
      },
      "execution_count": null,
      "outputs": [
        {
          "output_type": "execute_result",
          "data": {
            "text/plain": [
              "<Figure size 956.385x451.5 with 1 Axes>"
            ],
            "image/png": "[encoded data removed]"
          },
          "metadata": {},
          "execution_count": 263
        }
      ]
    },
    {
      "cell_type": "code",
      "source": [
        "service = QiskitRuntimeService()\n",
        "\n",
        "backend = service.least_busy(simulator=False, operational=True)\n",
        "print(backend)"
      ],
      "metadata": {
        "colab": {
          "base_uri": "https://localhost:8080/"
        },
        "outputId": "b7e8e10a-6847-49d2-d824-3f08971707ff",
        "id": "RhersMWcb_Ia"
      },
      "execution_count": null,
      "outputs": [
        {
          "output_type": "stream",
          "name": "stdout",
          "text": [
            "<IBMBackend('ibmq_mumbai')>\n"
          ]
        }
      ]
    },
    {
      "cell_type": "code",
      "source": [
        "pm = generate_preset_pass_manager(backend=backend, optimization_level=1)\n",
        "isa_circuit = pm.run(ansatz)\n",
        "isa_observable = hamiltonian.apply_layout(isa_circuit.layout)\n",
        "\n",
        "options = Options()\n",
        "options.optimization_level = 3\n",
        "options.resilience_level = 1\n",
        "\n",
        "estimator = Estimator(backend=backend, options=options)"
      ],
      "metadata": {
        "id": "2lxdBdUdb_Ia"
      },
      "execution_count": null,
      "outputs": []
    },
    {
      "cell_type": "code",
      "source": [
        "x0 = np.array([2.893e-01, 5.937e+00, 6.703e+00, 6.614e+00, 4.794e+00, 5.724e+00, 5.494e+00, 2.175e+00, 2.245e+00])\n",
        "cost = estimator.run(isa_circuit, isa_observable, parameter_values=x0).result()\n",
        "\n",
        "print(cost.values[0])"
      ],
      "metadata": {
        "colab": {
          "base_uri": "https://localhost:8080/"
        },
        "outputId": "f21b4aab-51f6-4337-9f06-0c51633644c9",
        "id": "trARLpz-b_Ia"
      },
      "execution_count": null,
      "outputs": [
        {
          "output_type": "stream",
          "name": "stdout",
          "text": [
            "-5.512612197010883\n"
          ]
        }
      ]
    },
    {
      "cell_type": "markdown",
      "source": [
        "## optimization_level = 3 resilence_level = 2"
      ],
      "metadata": {
        "id": "OOXIyD3gb_Ia"
      }
    },
    {
      "cell_type": "code",
      "source": [
        "from qiskit.circuit import QuantumCircuit, QuantumRegister, Parameter\n",
        "from qiskit.quantum_info import SparsePauliOp\n",
        "from qiskit.circuit import ParameterVector\n",
        "\n",
        "from qiskit_ibm_runtime import QiskitRuntimeService, Estimator, Options\n",
        "from qiskit.transpiler.preset_passmanagers import generate_preset_pass_manager\n",
        "\n",
        "import numpy as np"
      ],
      "metadata": {
        "id": "pn-KwTg9b_Ib"
      },
      "execution_count": null,
      "outputs": []
    },
    {
      "cell_type": "code",
      "source": [
        "# Instantiate the system Hamiltonian\n",
        "\n",
        "interation = 1\n",
        "bias = -1\n",
        "coeff_list = [interation for _ in range(5)] + [bias for _ in range(5)]\n",
        "operator_list = [\"ZZIII\", \"IZZII\", \"IIZZI\", \"IIIZZ\", \"ZIIIZ\", \"XIIII\", \"IXIII\", \"IIXII\", \"IIIXI\", \"IIIIX\"]\n",
        "hamiltonian_list = []\n",
        "for i in range(10):\n",
        "    hamiltonian_list.append((operator_list[i], coeff_list[i]))\n",
        "hamiltonian = SparsePauliOp.from_list(hamiltonian_list)"
      ],
      "metadata": {
        "id": "0KXadZA0b_Ib"
      },
      "execution_count": null,
      "outputs": []
    },
    {
      "cell_type": "code",
      "source": [
        "# Ansatz\n",
        "\n",
        "ansatz = QuantumCircuit(5)\n",
        "params = ParameterVector(\"theta\", length=9)\n",
        "it = iter(params)\n",
        "ansatz.h(range(0,5))\n",
        "\n",
        "ansatz.barrier()\n",
        "\n",
        "ansatz.cx(0, 1)\n",
        "ansatz.cx(2, 3)\n",
        "ansatz.rz(next(it), 1)\n",
        "ansatz.rz(next(it), 3)\n",
        "ansatz.cx(0, 1)\n",
        "ansatz.cx(2, 3)\n",
        "ansatz.cx(1, 2)\n",
        "ansatz.cx(3, 4)\n",
        "ansatz.rz(next(it), 2)\n",
        "ansatz.rz(next(it), 4)\n",
        "ansatz.cx(1, 2)\n",
        "ansatz.cx(3, 4)\n",
        "\n",
        "ansatz.barrier()\n",
        "\n",
        "ansatz.rx(next(it), 0)\n",
        "ansatz.rx(next(it), 1)\n",
        "ansatz.rx(next(it), 2)\n",
        "ansatz.rx(next(it), 3)\n",
        "ansatz.rx(next(it), 4)\n",
        "\n",
        "ansatz.draw(\"mpl\")"
      ],
      "metadata": {
        "colab": {
          "base_uri": "https://localhost:8080/",
          "height": 384
        },
        "outputId": "63b16245-246e-4bc5-88e8-b1163952c566",
        "id": "krjwHEhKb_Ib"
      },
      "execution_count": null,
      "outputs": [
        {
          "output_type": "execute_result",
          "data": {
            "text/plain": [
              "<Figure size 956.385x451.5 with 1 Axes>"
            ],
            "image/png": "[encoded data removed]"
          },
          "metadata": {},
          "execution_count": 269
        }
      ]
    },
    {
      "cell_type": "code",
      "source": [
        "service = QiskitRuntimeService()\n",
        "\n",
        "backend = service.least_busy(simulator=False, operational=True)\n",
        "print(backend)"
      ],
      "metadata": {
        "colab": {
          "base_uri": "https://localhost:8080/"
        },
        "outputId": "7162adfb-9d6b-4a96-c30d-2ed083543b8c",
        "id": "NkEwkRj8b_Ib"
      },
      "execution_count": null,
      "outputs": [
        {
          "output_type": "stream",
          "name": "stdout",
          "text": [
            "<IBMBackend('ibmq_mumbai')>\n"
          ]
        }
      ]
    },
    {
      "cell_type": "code",
      "source": [
        "pm = generate_preset_pass_manager(backend=backend, optimization_level=1)\n",
        "isa_circuit = pm.run(ansatz)\n",
        "isa_observable = hamiltonian.apply_layout(isa_circuit.layout)\n",
        "\n",
        "options = Options()\n",
        "options.optimization_level = 3\n",
        "options.resilience_level = 2\n",
        "\n",
        "estimator = Estimator(backend=backend, options=options)"
      ],
      "metadata": {
        "id": "nmYgQvM3b_Ic"
      },
      "execution_count": null,
      "outputs": []
    },
    {
      "cell_type": "code",
      "source": [
        "x0 = np.array([2.893e-01, 5.937e+00, 6.703e+00, 6.614e+00, 4.794e+00, 5.724e+00, 5.494e+00, 2.175e+00, 2.245e+00])\n",
        "cost = estimator.run(isa_circuit, isa_observable, parameter_values=x0).result()\n",
        "\n",
        "print(cost.values[0])"
      ],
      "metadata": {
        "colab": {
          "base_uri": "https://localhost:8080/"
        },
        "outputId": "4b21751f-9526-4606-875e-f9d7e284347b",
        "id": "L8OqwCGeb_Id"
      },
      "execution_count": null,
      "outputs": [
        {
          "output_type": "stream",
          "name": "stdout",
          "text": [
            "-5.448659018099893\n"
          ]
        }
      ]
    },
    {
      "cell_type": "markdown",
      "source": [
        "## optimization_level = 3 resilence_level = 3"
      ],
      "metadata": {
        "id": "1uPGf2hBb_Id"
      }
    },
    {
      "cell_type": "code",
      "source": [
        "from qiskit.circuit import QuantumCircuit, QuantumRegister, Parameter\n",
        "from qiskit.quantum_info import SparsePauliOp\n",
        "from qiskit.circuit import ParameterVector\n",
        "\n",
        "from qiskit_ibm_runtime import QiskitRuntimeService, Estimator, Options\n",
        "from qiskit.transpiler.preset_passmanagers import generate_preset_pass_manager\n",
        "\n",
        "import numpy as np"
      ],
      "metadata": {
        "id": "3RsPQmvqb_Id"
      },
      "execution_count": null,
      "outputs": []
    },
    {
      "cell_type": "code",
      "source": [
        "# Instantiate the system Hamiltonian\n",
        "\n",
        "interation = 1\n",
        "bias = -1\n",
        "coeff_list = [interation for _ in range(5)] + [bias for _ in range(5)]\n",
        "operator_list = [\"ZZIII\", \"IZZII\", \"IIZZI\", \"IIIZZ\", \"ZIIIZ\", \"XIIII\", \"IXIII\", \"IIXII\", \"IIIXI\", \"IIIIX\"]\n",
        "hamiltonian_list = []\n",
        "for i in range(10):\n",
        "    hamiltonian_list.append((operator_list[i], coeff_list[i]))\n",
        "hamiltonian = SparsePauliOp.from_list(hamiltonian_list)"
      ],
      "metadata": {
        "id": "MA5PHsmQb_Id"
      },
      "execution_count": null,
      "outputs": []
    },
    {
      "cell_type": "code",
      "source": [
        "# Ansatz\n",
        "\n",
        "ansatz = QuantumCircuit(5)\n",
        "params = ParameterVector(\"theta\", length=9)\n",
        "it = iter(params)\n",
        "ansatz.h(range(0,5))\n",
        "\n",
        "ansatz.barrier()\n",
        "\n",
        "ansatz.cx(0, 1)\n",
        "ansatz.cx(2, 3)\n",
        "ansatz.rz(next(it), 1)\n",
        "ansatz.rz(next(it), 3)\n",
        "ansatz.cx(0, 1)\n",
        "ansatz.cx(2, 3)\n",
        "ansatz.cx(1, 2)\n",
        "ansatz.cx(3, 4)\n",
        "ansatz.rz(next(it), 2)\n",
        "ansatz.rz(next(it), 4)\n",
        "ansatz.cx(1, 2)\n",
        "ansatz.cx(3, 4)\n",
        "\n",
        "ansatz.barrier()\n",
        "\n",
        "ansatz.rx(next(it), 0)\n",
        "ansatz.rx(next(it), 1)\n",
        "ansatz.rx(next(it), 2)\n",
        "ansatz.rx(next(it), 3)\n",
        "ansatz.rx(next(it), 4)\n",
        "\n",
        "ansatz.draw(\"mpl\")"
      ],
      "metadata": {
        "colab": {
          "base_uri": "https://localhost:8080/",
          "height": 384
        },
        "outputId": "36783b67-2f08-454f-b667-05da224029b1",
        "id": "2kNJlchLb_Id"
      },
      "execution_count": null,
      "outputs": [
        {
          "output_type": "execute_result",
          "data": {
            "text/plain": [
              "<Figure size 956.385x451.5 with 1 Axes>"
            ],
            "image/png": "[encoded data removed]"
          },
          "metadata": {},
          "execution_count": 275
        }
      ]
    },
    {
      "cell_type": "code",
      "source": [
        "service = QiskitRuntimeService()\n",
        "\n",
        "backend = service.least_busy(simulator=False, operational=True)\n",
        "print(backend)"
      ],
      "metadata": {
        "colab": {
          "base_uri": "https://localhost:8080/"
        },
        "outputId": "840dbc75-48c9-4f69-e89f-c78e2207bd7c",
        "id": "udutarvNb_Id"
      },
      "execution_count": null,
      "outputs": [
        {
          "output_type": "stream",
          "name": "stdout",
          "text": [
            "<IBMBackend('ibmq_mumbai')>\n"
          ]
        }
      ]
    },
    {
      "cell_type": "code",
      "source": [
        "pm = generate_preset_pass_manager(backend=backend, optimization_level=1)\n",
        "isa_circuit = pm.run(ansatz)\n",
        "isa_observable = hamiltonian.apply_layout(isa_circuit.layout)\n",
        "\n",
        "options = Options()\n",
        "options.optimization_level = 3\n",
        "options.resilience_level = 3\n",
        "\n",
        "estimator = Estimator(backend=backend, options=options)"
      ],
      "metadata": {
        "id": "7miskCh3b_Id"
      },
      "execution_count": null,
      "outputs": []
    },
    {
      "cell_type": "code",
      "source": [
        "x0 = np.array([2.893e-01, 5.937e+00, 6.703e+00, 6.614e+00, 4.794e+00, 5.724e+00, 5.494e+00, 2.175e+00, 2.245e+00])\n",
        "cost = estimator.run(isa_circuit, isa_observable, parameter_values=x0).result()\n",
        "\n",
        "print(cost.values[0])"
      ],
      "metadata": {
        "colab": {
          "base_uri": "https://localhost:8080/"
        },
        "outputId": "93779dba-c742-41ef-fc62-37c7aa044975",
        "id": "VvEhds6Nb_Id"
      },
      "execution_count": null,
      "outputs": [
        {
          "output_type": "stream",
          "name": "stdout",
          "text": [
            "-5.247553725012985\n"
          ]
        }
      ]
    }
  ]
}