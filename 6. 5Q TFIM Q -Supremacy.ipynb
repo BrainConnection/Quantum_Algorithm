{
  "nbformat": 4,
  "nbformat_minor": 0,
  "metadata": {
    "colab": {
      "provenance": [],
      "machine_shape": "hm",
      "gpuType": "V100",
      "authorship_tag": "ABX9TyOg8umOKqQ2Uaywysuw84Xq",
      "include_colab_link": true
    },
    "kernelspec": {
      "name": "python3",
      "display_name": "Python 3"
    },
    "language_info": {
      "name": "python"
    }
  },
  "cells": [
    {
      "cell_type": "markdown",
      "metadata": {
        "id": "view-in-github",
        "colab_type": "text"
      },
      "source": [
        "<a href=\"https://colab.research.google.com/github/BrainConnection/Quantum_Algorithm/blob/main/6.%205Q%20TFIM%20Q%20-Supremacy.ipynb\" target=\"_parent\"><img src=\"https://colab.research.google.com/assets/colab-badge.svg\" alt=\"Open In Colab\"/></a>"
      ]
    },
    {
      "cell_type": "markdown",
      "source": [
        "# Environment Setting"
      ],
      "metadata": {
        "id": "nHZOKbnMg33g"
      }
    },
    {
      "cell_type": "code",
      "execution_count": 7,
      "metadata": {
        "id": "09dlWASwmtoK",
        "outputId": "404b666c-16f0-4d03-ca3b-a2e0b3a2ba2e",
        "colab": {
          "base_uri": "https://localhost:8080/"
        }
      },
      "outputs": [
        {
          "output_type": "stream",
          "name": "stdout",
          "text": [
            "Requirement already satisfied: qiskit in /usr/local/lib/python3.10/dist-packages (1.0.2)\n",
            "Requirement already satisfied: rustworkx>=0.14.0 in /usr/local/lib/python3.10/dist-packages (from qiskit) (0.14.2)\n",
            "Requirement already satisfied: numpy<2,>=1.17 in /usr/local/lib/python3.10/dist-packages (from qiskit) (1.25.2)\n",
            "Requirement already satisfied: scipy>=1.5 in /usr/local/lib/python3.10/dist-packages (from qiskit) (1.11.4)\n",
            "Requirement already satisfied: sympy>=1.3 in /usr/local/lib/python3.10/dist-packages (from qiskit) (1.12)\n",
            "Requirement already satisfied: dill>=0.3 in /usr/local/lib/python3.10/dist-packages (from qiskit) (0.3.8)\n",
            "Requirement already satisfied: python-dateutil>=2.8.0 in /usr/local/lib/python3.10/dist-packages (from qiskit) (2.8.2)\n",
            "Requirement already satisfied: stevedore>=3.0.0 in /usr/local/lib/python3.10/dist-packages (from qiskit) (5.2.0)\n",
            "Requirement already satisfied: typing-extensions in /usr/local/lib/python3.10/dist-packages (from qiskit) (4.10.0)\n",
            "Requirement already satisfied: symengine>=0.11 in /usr/local/lib/python3.10/dist-packages (from qiskit) (0.11.0)\n",
            "Requirement already satisfied: six>=1.5 in /usr/local/lib/python3.10/dist-packages (from python-dateutil>=2.8.0->qiskit) (1.16.0)\n",
            "Requirement already satisfied: pbr!=2.1.0,>=2.0.0 in /usr/local/lib/python3.10/dist-packages (from stevedore>=3.0.0->qiskit) (6.0.0)\n",
            "Requirement already satisfied: mpmath>=0.19 in /usr/local/lib/python3.10/dist-packages (from sympy>=1.3->qiskit) (1.3.0)\n",
            "Requirement already satisfied: qiskit-ibm-runtime in /usr/local/lib/python3.10/dist-packages (0.21.2)\n",
            "Requirement already satisfied: requests>=2.19 in /usr/local/lib/python3.10/dist-packages (from qiskit-ibm-runtime) (2.31.0)\n",
            "Requirement already satisfied: requests-ntlm>=1.1.0 in /usr/local/lib/python3.10/dist-packages (from qiskit-ibm-runtime) (1.2.0)\n",
            "Requirement already satisfied: numpy>=1.13 in /usr/local/lib/python3.10/dist-packages (from qiskit-ibm-runtime) (1.25.2)\n",
            "Requirement already satisfied: urllib3>=1.21.1 in /usr/local/lib/python3.10/dist-packages (from qiskit-ibm-runtime) (2.2.1)\n",
            "Requirement already satisfied: python-dateutil>=2.8.0 in /usr/local/lib/python3.10/dist-packages (from qiskit-ibm-runtime) (2.8.2)\n",
            "Requirement already satisfied: websocket-client>=1.5.1 in /usr/local/lib/python3.10/dist-packages (from qiskit-ibm-runtime) (1.7.0)\n",
            "Requirement already satisfied: ibm-platform-services>=0.22.6 in /usr/local/lib/python3.10/dist-packages (from qiskit-ibm-runtime) (0.52.0)\n",
            "Requirement already satisfied: pydantic in /usr/local/lib/python3.10/dist-packages (from qiskit-ibm-runtime) (2.6.4)\n",
            "Requirement already satisfied: qiskit>=1.0.0 in /usr/local/lib/python3.10/dist-packages (from qiskit-ibm-runtime) (1.0.2)\n",
            "Requirement already satisfied: ibm-cloud-sdk-core<4.0.0,>=3.19.2 in /usr/local/lib/python3.10/dist-packages (from ibm-platform-services>=0.22.6->qiskit-ibm-runtime) (3.19.2)\n",
            "Requirement already satisfied: six>=1.5 in /usr/local/lib/python3.10/dist-packages (from python-dateutil>=2.8.0->qiskit-ibm-runtime) (1.16.0)\n",
            "Requirement already satisfied: rustworkx>=0.14.0 in /usr/local/lib/python3.10/dist-packages (from qiskit>=1.0.0->qiskit-ibm-runtime) (0.14.2)\n",
            "Requirement already satisfied: scipy>=1.5 in /usr/local/lib/python3.10/dist-packages (from qiskit>=1.0.0->qiskit-ibm-runtime) (1.11.4)\n",
            "Requirement already satisfied: sympy>=1.3 in /usr/local/lib/python3.10/dist-packages (from qiskit>=1.0.0->qiskit-ibm-runtime) (1.12)\n",
            "Requirement already satisfied: dill>=0.3 in /usr/local/lib/python3.10/dist-packages (from qiskit>=1.0.0->qiskit-ibm-runtime) (0.3.8)\n",
            "Requirement already satisfied: stevedore>=3.0.0 in /usr/local/lib/python3.10/dist-packages (from qiskit>=1.0.0->qiskit-ibm-runtime) (5.2.0)\n",
            "Requirement already satisfied: typing-extensions in /usr/local/lib/python3.10/dist-packages (from qiskit>=1.0.0->qiskit-ibm-runtime) (4.10.0)\n",
            "Requirement already satisfied: symengine>=0.11 in /usr/local/lib/python3.10/dist-packages (from qiskit>=1.0.0->qiskit-ibm-runtime) (0.11.0)\n",
            "Requirement already satisfied: charset-normalizer<4,>=2 in /usr/local/lib/python3.10/dist-packages (from requests>=2.19->qiskit-ibm-runtime) (3.3.2)\n",
            "Requirement already satisfied: idna<4,>=2.5 in /usr/local/lib/python3.10/dist-packages (from requests>=2.19->qiskit-ibm-runtime) (3.6)\n",
            "Requirement already satisfied: certifi>=2017.4.17 in /usr/local/lib/python3.10/dist-packages (from requests>=2.19->qiskit-ibm-runtime) (2024.2.2)\n",
            "Requirement already satisfied: cryptography>=1.3 in /usr/local/lib/python3.10/dist-packages (from requests-ntlm>=1.1.0->qiskit-ibm-runtime) (42.0.5)\n",
            "Requirement already satisfied: pyspnego>=0.1.6 in /usr/local/lib/python3.10/dist-packages (from requests-ntlm>=1.1.0->qiskit-ibm-runtime) (0.10.2)\n",
            "Requirement already satisfied: annotated-types>=0.4.0 in /usr/local/lib/python3.10/dist-packages (from pydantic->qiskit-ibm-runtime) (0.6.0)\n",
            "Requirement already satisfied: pydantic-core==2.16.3 in /usr/local/lib/python3.10/dist-packages (from pydantic->qiskit-ibm-runtime) (2.16.3)\n",
            "Requirement already satisfied: cffi>=1.12 in /usr/local/lib/python3.10/dist-packages (from cryptography>=1.3->requests-ntlm>=1.1.0->qiskit-ibm-runtime) (1.16.0)\n",
            "Requirement already satisfied: PyJWT<3.0.0,>=2.8.0 in /usr/local/lib/python3.10/dist-packages (from ibm-cloud-sdk-core<4.0.0,>=3.19.2->ibm-platform-services>=0.22.6->qiskit-ibm-runtime) (2.8.0)\n",
            "Requirement already satisfied: pbr!=2.1.0,>=2.0.0 in /usr/local/lib/python3.10/dist-packages (from stevedore>=3.0.0->qiskit>=1.0.0->qiskit-ibm-runtime) (6.0.0)\n",
            "Requirement already satisfied: mpmath>=0.19 in /usr/local/lib/python3.10/dist-packages (from sympy>=1.3->qiskit>=1.0.0->qiskit-ibm-runtime) (1.3.0)\n",
            "Requirement already satisfied: pycparser in /usr/local/lib/python3.10/dist-packages (from cffi>=1.12->cryptography>=1.3->requests-ntlm>=1.1.0->qiskit-ibm-runtime) (2.21)\n",
            "Requirement already satisfied: qiskit[visualization] in /usr/local/lib/python3.10/dist-packages (1.0.2)\n",
            "Requirement already satisfied: rustworkx>=0.14.0 in /usr/local/lib/python3.10/dist-packages (from qiskit[visualization]) (0.14.2)\n",
            "Requirement already satisfied: numpy<2,>=1.17 in /usr/local/lib/python3.10/dist-packages (from qiskit[visualization]) (1.25.2)\n",
            "Requirement already satisfied: scipy>=1.5 in /usr/local/lib/python3.10/dist-packages (from qiskit[visualization]) (1.11.4)\n",
            "Requirement already satisfied: sympy>=1.3 in /usr/local/lib/python3.10/dist-packages (from qiskit[visualization]) (1.12)\n",
            "Requirement already satisfied: dill>=0.3 in /usr/local/lib/python3.10/dist-packages (from qiskit[visualization]) (0.3.8)\n",
            "Requirement already satisfied: python-dateutil>=2.8.0 in /usr/local/lib/python3.10/dist-packages (from qiskit[visualization]) (2.8.2)\n",
            "Requirement already satisfied: stevedore>=3.0.0 in /usr/local/lib/python3.10/dist-packages (from qiskit[visualization]) (5.2.0)\n",
            "Requirement already satisfied: typing-extensions in /usr/local/lib/python3.10/dist-packages (from qiskit[visualization]) (4.10.0)\n",
            "Requirement already satisfied: symengine>=0.11 in /usr/local/lib/python3.10/dist-packages (from qiskit[visualization]) (0.11.0)\n",
            "Requirement already satisfied: matplotlib>=3.3 in /usr/local/lib/python3.10/dist-packages (from qiskit[visualization]) (3.7.1)\n",
            "Requirement already satisfied: pydot in /usr/local/lib/python3.10/dist-packages (from qiskit[visualization]) (1.4.2)\n",
            "Requirement already satisfied: Pillow>=4.2.1 in /usr/local/lib/python3.10/dist-packages (from qiskit[visualization]) (9.4.0)\n",
            "Requirement already satisfied: pylatexenc>=1.4 in /usr/local/lib/python3.10/dist-packages (from qiskit[visualization]) (2.10)\n",
            "Requirement already satisfied: seaborn>=0.9.0 in /usr/local/lib/python3.10/dist-packages (from qiskit[visualization]) (0.13.1)\n",
            "Requirement already satisfied: contourpy>=1.0.1 in /usr/local/lib/python3.10/dist-packages (from matplotlib>=3.3->qiskit[visualization]) (1.2.0)\n",
            "Requirement already satisfied: cycler>=0.10 in /usr/local/lib/python3.10/dist-packages (from matplotlib>=3.3->qiskit[visualization]) (0.12.1)\n",
            "Requirement already satisfied: fonttools>=4.22.0 in /usr/local/lib/python3.10/dist-packages (from matplotlib>=3.3->qiskit[visualization]) (4.49.0)\n",
            "Requirement already satisfied: kiwisolver>=1.0.1 in /usr/local/lib/python3.10/dist-packages (from matplotlib>=3.3->qiskit[visualization]) (1.4.5)\n",
            "Requirement already satisfied: packaging>=20.0 in /usr/local/lib/python3.10/dist-packages (from matplotlib>=3.3->qiskit[visualization]) (24.0)\n",
            "Requirement already satisfied: pyparsing>=2.3.1 in /usr/local/lib/python3.10/dist-packages (from matplotlib>=3.3->qiskit[visualization]) (3.1.2)\n",
            "Requirement already satisfied: six>=1.5 in /usr/local/lib/python3.10/dist-packages (from python-dateutil>=2.8.0->qiskit[visualization]) (1.16.0)\n",
            "Requirement already satisfied: pandas>=1.2 in /usr/local/lib/python3.10/dist-packages (from seaborn>=0.9.0->qiskit[visualization]) (1.5.3)\n",
            "Requirement already satisfied: pbr!=2.1.0,>=2.0.0 in /usr/local/lib/python3.10/dist-packages (from stevedore>=3.0.0->qiskit[visualization]) (6.0.0)\n",
            "Requirement already satisfied: mpmath>=0.19 in /usr/local/lib/python3.10/dist-packages (from sympy>=1.3->qiskit[visualization]) (1.3.0)\n",
            "Requirement already satisfied: pytz>=2020.1 in /usr/local/lib/python3.10/dist-packages (from pandas>=1.2->seaborn>=0.9.0->qiskit[visualization]) (2023.4)\n",
            "Requirement already satisfied: qiskit-algorithms in /usr/local/lib/python3.10/dist-packages (0.3.0)\n",
            "Requirement already satisfied: qiskit>=0.44 in /usr/local/lib/python3.10/dist-packages (from qiskit-algorithms) (1.0.2)\n",
            "Requirement already satisfied: scipy>=1.4 in /usr/local/lib/python3.10/dist-packages (from qiskit-algorithms) (1.11.4)\n",
            "Requirement already satisfied: numpy>=1.17 in /usr/local/lib/python3.10/dist-packages (from qiskit-algorithms) (1.25.2)\n",
            "Requirement already satisfied: rustworkx>=0.14.0 in /usr/local/lib/python3.10/dist-packages (from qiskit>=0.44->qiskit-algorithms) (0.14.2)\n",
            "Requirement already satisfied: sympy>=1.3 in /usr/local/lib/python3.10/dist-packages (from qiskit>=0.44->qiskit-algorithms) (1.12)\n",
            "Requirement already satisfied: dill>=0.3 in /usr/local/lib/python3.10/dist-packages (from qiskit>=0.44->qiskit-algorithms) (0.3.8)\n",
            "Requirement already satisfied: python-dateutil>=2.8.0 in /usr/local/lib/python3.10/dist-packages (from qiskit>=0.44->qiskit-algorithms) (2.8.2)\n",
            "Requirement already satisfied: stevedore>=3.0.0 in /usr/local/lib/python3.10/dist-packages (from qiskit>=0.44->qiskit-algorithms) (5.2.0)\n",
            "Requirement already satisfied: typing-extensions in /usr/local/lib/python3.10/dist-packages (from qiskit>=0.44->qiskit-algorithms) (4.10.0)\n",
            "Requirement already satisfied: symengine>=0.11 in /usr/local/lib/python3.10/dist-packages (from qiskit>=0.44->qiskit-algorithms) (0.11.0)\n",
            "Requirement already satisfied: six>=1.5 in /usr/local/lib/python3.10/dist-packages (from python-dateutil>=2.8.0->qiskit>=0.44->qiskit-algorithms) (1.16.0)\n",
            "Requirement already satisfied: pbr!=2.1.0,>=2.0.0 in /usr/local/lib/python3.10/dist-packages (from stevedore>=3.0.0->qiskit>=0.44->qiskit-algorithms) (6.0.0)\n",
            "Requirement already satisfied: mpmath>=0.19 in /usr/local/lib/python3.10/dist-packages (from sympy>=1.3->qiskit>=0.44->qiskit-algorithms) (1.3.0)\n",
            "Requirement already satisfied: qiskit-aer in /usr/local/lib/python3.10/dist-packages (0.13.3)\n",
            "Requirement already satisfied: qiskit>=0.45.0 in /usr/local/lib/python3.10/dist-packages (from qiskit-aer) (1.0.2)\n",
            "Requirement already satisfied: numpy>=1.16.3 in /usr/local/lib/python3.10/dist-packages (from qiskit-aer) (1.25.2)\n",
            "Requirement already satisfied: scipy>=1.0 in /usr/local/lib/python3.10/dist-packages (from qiskit-aer) (1.11.4)\n",
            "Requirement already satisfied: psutil>=5 in /usr/local/lib/python3.10/dist-packages (from qiskit-aer) (5.9.5)\n",
            "Requirement already satisfied: rustworkx>=0.14.0 in /usr/local/lib/python3.10/dist-packages (from qiskit>=0.45.0->qiskit-aer) (0.14.2)\n",
            "Requirement already satisfied: sympy>=1.3 in /usr/local/lib/python3.10/dist-packages (from qiskit>=0.45.0->qiskit-aer) (1.12)\n",
            "Requirement already satisfied: dill>=0.3 in /usr/local/lib/python3.10/dist-packages (from qiskit>=0.45.0->qiskit-aer) (0.3.8)\n",
            "Requirement already satisfied: python-dateutil>=2.8.0 in /usr/local/lib/python3.10/dist-packages (from qiskit>=0.45.0->qiskit-aer) (2.8.2)\n",
            "Requirement already satisfied: stevedore>=3.0.0 in /usr/local/lib/python3.10/dist-packages (from qiskit>=0.45.0->qiskit-aer) (5.2.0)\n",
            "Requirement already satisfied: typing-extensions in /usr/local/lib/python3.10/dist-packages (from qiskit>=0.45.0->qiskit-aer) (4.10.0)\n",
            "Requirement already satisfied: symengine>=0.11 in /usr/local/lib/python3.10/dist-packages (from qiskit>=0.45.0->qiskit-aer) (0.11.0)\n",
            "Requirement already satisfied: six>=1.5 in /usr/local/lib/python3.10/dist-packages (from python-dateutil>=2.8.0->qiskit>=0.45.0->qiskit-aer) (1.16.0)\n",
            "Requirement already satisfied: pbr!=2.1.0,>=2.0.0 in /usr/local/lib/python3.10/dist-packages (from stevedore>=3.0.0->qiskit>=0.45.0->qiskit-aer) (6.0.0)\n",
            "Requirement already satisfied: mpmath>=0.19 in /usr/local/lib/python3.10/dist-packages (from sympy>=1.3->qiskit>=0.45.0->qiskit-aer) (1.3.0)\n",
            "Requirement already satisfied: scipy in /usr/local/lib/python3.10/dist-packages (1.11.4)\n",
            "Requirement already satisfied: numpy<1.28.0,>=1.21.6 in /usr/local/lib/python3.10/dist-packages (from scipy) (1.25.2)\n",
            "Requirement already satisfied: matplotlib in /usr/local/lib/python3.10/dist-packages (3.7.1)\n",
            "Requirement already satisfied: contourpy>=1.0.1 in /usr/local/lib/python3.10/dist-packages (from matplotlib) (1.2.0)\n",
            "Requirement already satisfied: cycler>=0.10 in /usr/local/lib/python3.10/dist-packages (from matplotlib) (0.12.1)\n",
            "Requirement already satisfied: fonttools>=4.22.0 in /usr/local/lib/python3.10/dist-packages (from matplotlib) (4.49.0)\n",
            "Requirement already satisfied: kiwisolver>=1.0.1 in /usr/local/lib/python3.10/dist-packages (from matplotlib) (1.4.5)\n",
            "Requirement already satisfied: numpy>=1.20 in /usr/local/lib/python3.10/dist-packages (from matplotlib) (1.25.2)\n",
            "Requirement already satisfied: packaging>=20.0 in /usr/local/lib/python3.10/dist-packages (from matplotlib) (24.0)\n",
            "Requirement already satisfied: pillow>=6.2.0 in /usr/local/lib/python3.10/dist-packages (from matplotlib) (9.4.0)\n",
            "Requirement already satisfied: pyparsing>=2.3.1 in /usr/local/lib/python3.10/dist-packages (from matplotlib) (3.1.2)\n",
            "Requirement already satisfied: python-dateutil>=2.7 in /usr/local/lib/python3.10/dist-packages (from matplotlib) (2.8.2)\n",
            "Requirement already satisfied: six>=1.5 in /usr/local/lib/python3.10/dist-packages (from python-dateutil>=2.7->matplotlib) (1.16.0)\n"
          ]
        }
      ],
      "source": [
        "!pip install qiskit\n",
        "!pip install qiskit-ibm-runtime\n",
        "!pip install qiskit[visualization]\n",
        "!pip install qiskit-algorithms\n",
        "!pip install qiskit-aer\n",
        "\n",
        "!pip install scipy\n",
        "!pip install matplotlib"
      ]
    },
    {
      "cell_type": "code",
      "source": [
        "from functools import cache\n",
        "\n",
        "from qiskit_ibm_runtime import QiskitRuntimeService, Estimator, Options\n",
        "\n",
        "# Save an IBM Quantum account and set it as your default account.\n",
        "QiskitRuntimeService.save_account(channel=\"ibm_quantum\",\n",
        "                                  token=\"067e5c82606f0a1157dd554e2087d6b7a9b823dbaa4ad47b95c3337eab2e6cd9361719cc0470f4a98d1631b73b264a82577012a0b8ff32963d5964e6cc12c525\",\n",
        "                                  set_as_default=True,\n",
        "                                  overwrite=True)\n",
        "\n",
        "service = QiskitRuntimeService()\n",
        "backend = service.backend(\"ibmq_qasm_simulator\")"
      ],
      "metadata": {
        "id": "2WPbDpzlm75h"
      },
      "execution_count": 8,
      "outputs": []
    },
    {
      "cell_type": "code",
      "source": [
        "seed_list = [1,   4,   5,   6,   7,   8,  10,  11,  12,  13,\n",
        "14,  15,  17,  18,  19,  20,  21,  23,  24,  25,\n",
        "27,  28,  29,  30,  31,  34,  36,  38,  39,  40,\n",
        "41,  42,  43,  45,  46,  47,  48,  49,  51,  52,\n",
        "55,  59,  61,  63,  65,  66,  67,  68,  70,  71,\n",
        "74,  75,  76,  77,  78,  81,  86,  87,  90,  93,\n",
        "95,  96,  97,  101, 102, 103, 104, 105, 106, 107,\n",
        "112, 113, 114, 116, 118, 121, 124, 126, 127, 128,\n",
        "132, 133, 135, 136, 137, 138, 139, 140, 141, 142,\n",
        "144, 147, 148, 149, 150, 151, 152, 154, 155, 162,\n",
        "165, 166, 169, 171, 172, 174]"
      ],
      "metadata": {
        "id": "YTnEVVCpzBOx"
      },
      "execution_count": 9,
      "outputs": []
    },
    {
      "cell_type": "markdown",
      "source": [
        "# Hamiltonian Diagonalization"
      ],
      "metadata": {
        "id": "KxlrsTqLfZMB"
      }
    },
    {
      "cell_type": "markdown",
      "source": [
        "$$ H = Σ Z_j Z_{j+1} - Σ X_j  $$\n",
        "\n",
        "1D 5 Qubit System"
      ],
      "metadata": {
        "id": "ECHhrgxzxyoj"
      }
    },
    {
      "cell_type": "code",
      "source": [
        "from qiskit.quantum_info import SparsePauliOp\n",
        "import numpy as np\n",
        "import matplotlib.pyplot as plt"
      ],
      "metadata": {
        "id": "DtnIBeDK08QA"
      },
      "execution_count": 10,
      "outputs": []
    },
    {
      "cell_type": "code",
      "source": [
        "interation = 1\n",
        "bias = -1\n",
        "\n",
        "coeff_list = [interation for _ in range(5)] + [bias for _ in range(5)]\n",
        "operator_list = [\"ZZIII\", \"IZZII\", \"IIZZI\", \"IIIZZ\", \"ZIIIZ\", \"XIIII\", \"IXIII\", \"IIXII\", \"IIIXI\", \"IIIIX\"]\n",
        "hamiltonian_list = []\n",
        "for i in range(10):\n",
        "  hamiltonian_list.append((operator_list[i], coeff_list[i]))\n",
        "hamiltonian = SparsePauliOp.from_list(hamiltonian_list)\n",
        "hamiltonian_matrix = hamiltonian.to_matrix()\n",
        "\n",
        "eigenvalue, eigenvector = np.linalg.eig(hamiltonian_matrix)\n",
        "\n",
        "lowest_energy = np.min(eigenvalue)\n",
        "\n",
        "np.real(lowest_energy)"
      ],
      "metadata": {
        "id": "DF1a7aGu4fUc",
        "outputId": "795389c9-421f-4778-ab65-402239089de0",
        "colab": {
          "base_uri": "https://localhost:8080/"
        }
      },
      "execution_count": 11,
      "outputs": [
        {
          "output_type": "execute_result",
          "data": {
            "text/plain": [
              "-6.155367074350501"
            ]
          },
          "metadata": {},
          "execution_count": 11
        }
      ]
    },
    {
      "cell_type": "code",
      "source": [
        "interation = 1\n",
        "bias = -1\n",
        "\n",
        "coeff_list = [interation for _ in range(4)] + [bias for _ in range(5)]\n",
        "operator_list = [\"ZZIII\", \"IZZII\", \"IIZZI\", \"IIIZZ\", \"XIIII\", \"IXIII\", \"IIXII\", \"IIIXI\", \"IIIIX\"]\n",
        "hamiltonian_list = []\n",
        "for i in range(9):\n",
        "  hamiltonian_list.append((operator_list[i], coeff_list[i]))\n",
        "hamiltonian = SparsePauliOp.from_list(hamiltonian_list)\n",
        "hamiltonian_matrix = hamiltonian.to_matrix()\n",
        "\n",
        "eigenvalue, eigenvector = np.linalg.eig(hamiltonian_matrix)\n",
        "\n",
        "lowest_energy = np.min(eigenvalue)\n",
        "\n",
        "np.real(lowest_energy)"
      ],
      "metadata": {
        "id": "dIaFYN-X2TRM",
        "outputId": "06adaeff-0797-4fac-9514-41f5117a1f4f",
        "colab": {
          "base_uri": "https://localhost:8080/"
        }
      },
      "execution_count": 12,
      "outputs": [
        {
          "output_type": "execute_result",
          "data": {
            "text/plain": [
              "-6.026674183332294"
            ]
          },
          "metadata": {},
          "execution_count": 12
        }
      ]
    },
    {
      "cell_type": "markdown",
      "source": [
        "# NN in Noiseless Simulator\n",
        "\n",
        "\n",
        "1. Only Apply Hadamard Gate for (P)QC\n",
        "\n",
        "2. Measure each probability of bitstring and Connect Neural Net Layer, Optimize Parameters in Neural Net"
      ],
      "metadata": {
        "id": "mLJUU8acZw0s"
      }
    },
    {
      "cell_type": "markdown",
      "source": [
        "## Ansatz, Hamiltonian, Sampler & Estimator Setting"
      ],
      "metadata": {
        "id": "DkmGDqenZw02"
      }
    },
    {
      "cell_type": "code",
      "source": [
        "from qiskit.circuit import QuantumCircuit, QuantumRegister, ClassicalRegister, Parameter\n",
        "from qiskit.quantum_info import SparsePauliOp\n",
        "from qiskit.circuit import ParameterVector\n",
        "from qiskit.primitives import Estimator, Sampler\n",
        "\n",
        "import numpy as np\n",
        "from scipy.optimize import minimize"
      ],
      "metadata": {
        "id": "4LxEnwpMZw02"
      },
      "execution_count": 31,
      "outputs": []
    },
    {
      "cell_type": "code",
      "source": [
        "# Ansatz for VQNHE ZZ Measurement\n",
        "\n",
        "qbit = QuantumRegister(5)\n",
        "cbit = ClassicalRegister(5)\n",
        "\n",
        "ansatz_zz = QuantumCircuit(qbit, cbit)\n",
        "\n",
        "ansatz_zz.h(range(0,5))\n",
        "\n",
        "ansatz_zz.barrier()\n",
        "\n",
        "ansatz_zz.measure([0,1,2,3,4], [0,1,2,3,4])\n",
        "\n",
        "ansatz_zz.draw(\"mpl\")"
      ],
      "metadata": {
        "colab": {
          "base_uri": "https://localhost:8080/",
          "height": 0
        },
        "outputId": "b5fe221f-2a18-4c1b-b279-d36b9e023da7",
        "id": "5WG3aRkHZw02"
      },
      "execution_count": 32,
      "outputs": [
        {
          "output_type": "execute_result",
          "data": {
            "text/plain": [
              "<Figure size 723.984x535.111 with 1 Axes>"
            ],
            "image/png": "[encoded data removed]"
          },
          "metadata": {},
          "execution_count": 32
        }
      ]
    },
    {
      "cell_type": "code",
      "source": [
        "# Ansatz for VQNHE X0 Measurement\n",
        "\n",
        "qbit0 = QuantumRegister(5)\n",
        "cbit0 = ClassicalRegister(5)\n",
        "\n",
        "ansatz_x0 = QuantumCircuit(qbit0, cbit0)\n",
        "\n",
        "ansatz_x0.h(range(0,5))\n",
        "\n",
        "ansatz_x0.barrier()\n",
        "\n",
        "ansatz_x0.h(0)\n",
        "\n",
        "ansatz_x0.barrier()\n",
        "\n",
        "ansatz_x0.measure([0,1,2,3,4], [4,3,2,1,0])\n",
        "\n",
        "ansatz_x0.draw(\"mpl\")"
      ],
      "metadata": {
        "colab": {
          "base_uri": "https://localhost:8080/",
          "height": 0
        },
        "outputId": "19e22869-a635-4126-da12-b01c77ae7f70",
        "id": "bvU5Gzn5Zw03"
      },
      "execution_count": 33,
      "outputs": [
        {
          "output_type": "execute_result",
          "data": {
            "text/plain": [
              "<Figure size 891.005x535.111 with 1 Axes>"
            ],
            "image/png": "[encoded data removed]"
          },
          "metadata": {},
          "execution_count": 33
        }
      ]
    },
    {
      "cell_type": "code",
      "source": [
        "# Ansatz for VQNHE X1 Measurement\n",
        "\n",
        "qbit1 = QuantumRegister(5)\n",
        "cbit1 = ClassicalRegister(5)\n",
        "\n",
        "ansatz_x1 = QuantumCircuit(qbit1, cbit1)\n",
        "\n",
        "ansatz_x1.h(range(0,5))\n",
        "\n",
        "ansatz_x1.barrier()\n",
        "\n",
        "ansatz_x1.h(1)\n",
        "\n",
        "ansatz_x1.barrier()\n",
        "\n",
        "ansatz_x1.measure([0,1,2,3,4], [4,3,2,1,0])\n",
        "\n",
        "ansatz_x1.draw(\"mpl\")"
      ],
      "metadata": {
        "colab": {
          "base_uri": "https://localhost:8080/",
          "height": 0
        },
        "outputId": "37e611cb-bb75-4d8b-fe05-9768255bd266",
        "id": "--s8eNd2Zw04"
      },
      "execution_count": 34,
      "outputs": [
        {
          "output_type": "execute_result",
          "data": {
            "text/plain": [
              "<Figure size 891.207x535.111 with 1 Axes>"
            ],
            "image/png": "[encoded data removed]"
          },
          "metadata": {},
          "execution_count": 34
        }
      ]
    },
    {
      "cell_type": "code",
      "source": [
        "# Ansatz for VQNHE X2 Measurement\n",
        "\n",
        "qbit2 = QuantumRegister(5)\n",
        "cbit2 = ClassicalRegister(5)\n",
        "\n",
        "ansatz_x2 = QuantumCircuit(qbit2, cbit2)\n",
        "\n",
        "ansatz_x2.h(range(0,5))\n",
        "\n",
        "ansatz_x2.barrier()\n",
        "\n",
        "ansatz_x2.h(2)\n",
        "\n",
        "ansatz_x2.barrier()\n",
        "\n",
        "ansatz_x2.measure([0,1,2,3,4], [4,3,2,1,0])\n",
        "\n",
        "ansatz_x2.draw(\"mpl\")"
      ],
      "metadata": {
        "colab": {
          "base_uri": "https://localhost:8080/",
          "height": 0
        },
        "outputId": "c3478ef2-3297-4e76-da79-abdf308d5c16",
        "id": "N0EsAz2zZw04"
      },
      "execution_count": 35,
      "outputs": [
        {
          "output_type": "execute_result",
          "data": {
            "text/plain": [
              "<Figure size 909.033x535.111 with 1 Axes>"
            ],
            "image/png": "[encoded data removed]"
          },
          "metadata": {},
          "execution_count": 35
        }
      ]
    },
    {
      "cell_type": "code",
      "source": [
        "# Ansatz for VQNHE X3 Measurement\n",
        "\n",
        "qbit3 = QuantumRegister(5)\n",
        "cbit3 = ClassicalRegister(5)\n",
        "\n",
        "ansatz_x3 = QuantumCircuit(qbit3, cbit3)\n",
        "\n",
        "ansatz_x3.h(range(0,5))\n",
        "\n",
        "ansatz_x3.barrier()\n",
        "\n",
        "ansatz_x3.h(3)\n",
        "\n",
        "ansatz_x3.barrier()\n",
        "\n",
        "ansatz_x3.measure([0,1,2,3,4], [4,3,2,1,0])\n",
        "\n",
        "ansatz_x3.draw(\"mpl\")"
      ],
      "metadata": {
        "colab": {
          "base_uri": "https://localhost:8080/",
          "height": 0
        },
        "outputId": "ed814528-dfef-4740-c943-9f90a4db56f3",
        "id": "h5NtfPmtZw05"
      },
      "execution_count": 36,
      "outputs": [
        {
          "output_type": "execute_result",
          "data": {
            "text/plain": [
              "<Figure size 909.235x535.111 with 1 Axes>"
            ],
            "image/png": "[encoded data removed]"
          },
          "metadata": {},
          "execution_count": 36
        }
      ]
    },
    {
      "cell_type": "code",
      "source": [
        "# Ansatz for VQNHE X4 Measurement\n",
        "\n",
        "qbit4 = QuantumRegister(5)\n",
        "cbit4 = ClassicalRegister(5)\n",
        "\n",
        "ansatz_x4 = QuantumCircuit(qbit4, cbit4)\n",
        "\n",
        "ansatz_x4.h(range(0,5))\n",
        "\n",
        "ansatz_x4.barrier()\n",
        "\n",
        "ansatz_x4.h(4)\n",
        "\n",
        "ansatz_x4.barrier()\n",
        "\n",
        "ansatz_x4.measure([0,1,2,3,4], [4,3,2,1,0])\n",
        "\n",
        "ansatz_x4.draw(\"mpl\")"
      ],
      "metadata": {
        "colab": {
          "base_uri": "https://localhost:8080/",
          "height": 0
        },
        "outputId": "c1708a4a-dfec-4a47-99cf-066c352a78c7",
        "id": "1-umRRpnZw05"
      },
      "execution_count": 37,
      "outputs": [
        {
          "output_type": "execute_result",
          "data": {
            "text/plain": [
              "<Figure size 909.437x535.111 with 1 Axes>"
            ],
            "image/png": "[encoded data removed]"
          },
          "metadata": {},
          "execution_count": 37
        }
      ]
    },
    {
      "cell_type": "code",
      "source": [
        "# Estimator & Sampler\n",
        "\n",
        "estimator = Estimator()\n",
        "sampler = Sampler()"
      ],
      "metadata": {
        "id": "J8m5jZ0gZw05"
      },
      "execution_count": 38,
      "outputs": []
    },
    {
      "cell_type": "markdown",
      "source": [
        "## Cost Function for VQNHE"
      ],
      "metadata": {
        "id": "mKu_U1A7Zw05"
      }
    },
    {
      "cell_type": "code",
      "source": [
        "prob_string_zz = {0: 0.03125, 1: 0.03125, 2: 0.03125, 3: 0.03125, 4: 0.03125, 5: 0.03125, 6: 0.03125, 7: 0.03125, 8: 0.03125, 9: 0.03125, 10: 0.03125, 11: 0.03125, 12: 0.03125, 13: 0.03125, 14: 0.03125, 15: 0.03125, 16: 0.03125, 17: 0.03125, 18: 0.03125, 19: 0.03125, 20: 0.03125, 21: 0.03125, 22: 0.03125, 23: 0.03125, 24: 0.03125, 25: 0.03125, 26: 0.03125, 27: 0.03125, 28: 0.03125, 29: 0.03125, 30: 0.03125, 31: 0.03125}\n",
        "prob_string_x0 = {0: 0.0625, 1: 0.0625, 2: 0.0625, 3: 0.0625, 4: 0.0625, 5: 0.0625, 6: 0.0625, 7: 0.0625, 8: 0.0625, 9: 0.0625, 10: 0.0625, 11: 0.0625, 12: 0.0625, 13: 0.0625, 14: 0.0625, 15: 0.0625, 16: 0, 17: 0, 18: 0, 19: 0, 20: 0, 21: 0, 22: 0, 23: 0, 24: 0, 25: 0, 26: 0, 27: 0, 28: 0, 29: 0, 30: 0, 31: 0}\n",
        "prob_string_x1 = {0: 0.0625, 1: 0.0625, 2: 0.0625, 3: 0.0625, 4: 0.0625, 5: 0.0625, 6: 0.0625, 7: 0.0625, 16: 0.0625, 17: 0.0625, 18: 0.0625, 19: 0.0625, 20: 0.0625, 21: 0.0625, 22: 0.0625, 23: 0.0625, 8: 0, 9: 0, 10: 0, 11: 0, 12: 0, 13: 0, 14: 0, 15: 0, 24: 0, 25: 0, 26: 0, 27: 0, 28: 0, 29: 0, 30: 0, 31: 0}\n",
        "prob_string_x2 = {0: 0.0625, 1: 0.0625, 2: 0.0625, 3: 0.0625, 8: 0.0625, 9: 0.0625, 10: 0.0625, 11: 0.0625, 16: 0.0625, 17: 0.0625, 18: 0.0625, 19: 0.0625, 24: 0.0625, 25: 0.0625, 26: 0.0625, 27: 0.0625, 4: 0, 5: 0, 6: 0, 7: 0, 12: 0, 13: 0, 14: 0, 15: 0, 20: 0, 21: 0, 22: 0, 23: 0, 28: 0, 29: 0, 30: 0, 31: 0}\n",
        "prob_string_x3 = {0: 0.0625, 1: 0.0625, 4: 0.0625, 5: 0.0625, 8: 0.0625, 9: 0.0625, 12: 0.0625, 13: 0.0625, 16: 0.0625, 17: 0.0625, 20: 0.0625, 21: 0.0625, 24: 0.0625, 25: 0.0625, 28: 0.0625, 29: 0.0625, 2: 0, 3: 0, 6: 0, 7: 0, 10: 0, 11: 0, 14: 0, 15: 0, 18: 0, 19: 0, 22: 0, 23: 0, 26: 0, 27: 0, 30: 0, 31: 0}\n",
        "prob_string_x4 = {0: 0.0625, 2: 0.0625, 4: 0.0625, 6: 0.0625, 8: 0.0625, 10: 0.0625, 12: 0.0625, 14: 0.0625, 16: 0.0625, 18: 0.0625, 20: 0.0625, 22: 0.0625, 24: 0.0625, 26: 0.0625, 28: 0.0625, 30: 0.0625, 1: 0, 3: 0, 5: 0, 7: 0, 9: 0, 11: 0, 13: 0, 15: 0, 17: 0, 19: 0, 21: 0, 23: 0, 25: 0, 27: 0, 29: 0, 31: 0}"
      ],
      "metadata": {
        "id": "uxzkb7MA7AXh"
      },
      "execution_count": 39,
      "outputs": []
    },
    {
      "cell_type": "code",
      "source": [
        "# Activation Function for Neural Network\n",
        "\n",
        "def relu(x):\n",
        "  return np.maximum(0, x)\n",
        "\n",
        "\n",
        "def output_activate(c, x):\n",
        "  return np.exp(c*np.tanh(x))"
      ],
      "metadata": {
        "id": "yoN62-PhZw05"
      },
      "execution_count": 40,
      "outputs": []
    },
    {
      "cell_type": "code",
      "source": [
        "# Neural Network\n",
        "# Output : f(s)\n",
        "\n",
        "def neural_net(parameter, x):\n",
        "\n",
        "  W1 = parameter[0:25]\n",
        "  W2 = parameter[25:30]\n",
        "  c = parameter[30]\n",
        "\n",
        "  W1 = W1.reshape(5,5)\n",
        "  W2 = W2.reshape(1,5)\n",
        "\n",
        "  a1 = np.matmul(W1, x)\n",
        "  z1 = relu(a1)\n",
        "\n",
        "  a2 = np.matmul(W2, z1)\n",
        "  y = output_activate(c, a2)\n",
        "\n",
        "  return y[0]"
      ],
      "metadata": {
        "id": "hZr4kvqFZw05"
      },
      "execution_count": 41,
      "outputs": []
    },
    {
      "cell_type": "code",
      "source": [
        "# Convert Decimal Number to Binary Number\n",
        "\n",
        "def d2b(x):\n",
        "\n",
        "  binary = []\n",
        "\n",
        "  for _ in range(5):\n",
        "    binary.append(x % 2)\n",
        "    x = x // 2\n",
        "\n",
        "  binary.reverse()\n",
        "\n",
        "  return np.array(binary)"
      ],
      "metadata": {
        "id": "CL3_Za8iZw05"
      },
      "execution_count": 42,
      "outputs": []
    },
    {
      "cell_type": "code",
      "source": [
        "def Z0Z1(params_nn):\n",
        "  prob_string = prob_string_zz\n",
        "  nnval = np.array([(neural_net(params_nn, d2b(j)))**2 for j in range(32)])\n",
        "\n",
        "  expval = 0\n",
        "\n",
        "  for k in range(32):\n",
        "    if k // 8 == 0 or k // 8 == 3:\n",
        "      expval = expval + prob_string[k]*nnval[k]\n",
        "    if k // 8 == 1 or k // 8 == 2:\n",
        "      expval = expval - prob_string[k]*nnval[k]\n",
        "\n",
        "  return expval\n",
        "\n",
        "\n",
        "def Z1Z2(params_nn):\n",
        "  prob_string = prob_string_zz\n",
        "  nnval = np.array([(neural_net(params_nn, d2b(j)))**2 for j in range(32)])\n",
        "\n",
        "  expval = 0\n",
        "\n",
        "  for k in range(32):\n",
        "    if k // 4 == 0 or k // 4 == 3 or k // 4 == 4 or k // 4 == 7:\n",
        "      expval = expval + prob_string[k]*nnval[k]\n",
        "    if k // 4 == 1 or k // 4 == 2 or k // 4 == 5 or k // 4 == 6:\n",
        "      expval = expval - prob_string[k]*nnval[k]\n",
        "\n",
        "  return expval\n",
        "\n",
        "\n",
        "def Z2Z3(params_nn):\n",
        "  prob_string = prob_string_zz\n",
        "  nnval = np.array([(neural_net(params_nn, d2b(j)))**2 for j in range(32)])\n",
        "\n",
        "  expval = 0\n",
        "\n",
        "  for k in range(32):\n",
        "    if k % 8 == 0 or k % 8 == 1 or k % 8 == 6 or k % 8 == 7:\n",
        "      expval = expval + prob_string[k]*nnval[k]\n",
        "    if k % 8 == 2 or k % 8 == 3 or k % 8 == 4 or k % 8 == 5:\n",
        "      expval = expval - prob_string[k]*nnval[k]\n",
        "\n",
        "  return expval\n",
        "\n",
        "\n",
        "def Z3Z4(params_nn):\n",
        "  prob_string = prob_string_zz\n",
        "  nnval = np.array([(neural_net(params_nn, d2b(j)))**2 for j in range(32)])\n",
        "\n",
        "  expval = 0\n",
        "\n",
        "  for k in range(32):\n",
        "    if k % 4 == 0 or k % 4 == 3:\n",
        "      expval = expval + prob_string[k]*nnval[k]\n",
        "    else:\n",
        "      expval = expval - prob_string[k]*nnval[k]\n",
        "\n",
        "  return expval"
      ],
      "metadata": {
        "id": "v1Y2hUGAZw05"
      },
      "execution_count": 43,
      "outputs": []
    },
    {
      "cell_type": "code",
      "source": [
        "def X0(params_nn):\n",
        "  prob_string = prob_string_x0\n",
        "  nnval = np.array([neural_net(params_nn, d2b(j)) for j in range(32)])\n",
        "\n",
        "  expval = 0\n",
        "\n",
        "  for k in range(16):\n",
        "    delt = prob_string[k] - prob_string[k+16]\n",
        "    expval = expval + delt*nnval[k]*nnval[k+16]\n",
        "\n",
        "  return expval\n",
        "\n",
        "\n",
        "def X1(params_nn):\n",
        "  prob_string = prob_string_x1\n",
        "  nnval = np.array([neural_net(params_nn, d2b(j)) for j in range(32)])\n",
        "\n",
        "  expval = 0\n",
        "\n",
        "  for k in range(8):\n",
        "    delt = prob_string[k] - prob_string[k+8]\n",
        "    expval = expval + delt*nnval[k]*nnval[k+8]\n",
        "\n",
        "  for k in range(16,24,1):\n",
        "    delt = prob_string[k] - prob_string[k+8]\n",
        "    expval = expval + delt*nnval[k]*nnval[k+8]\n",
        "\n",
        "  return expval\n",
        "\n",
        "\n",
        "def X2(params_nn):\n",
        "  prob_string = prob_string_x2\n",
        "  nnval = np.array([neural_net(params_nn, d2b(j)) for j in range(32)])\n",
        "\n",
        "  expval = 0\n",
        "\n",
        "  for k in range(4):\n",
        "    delt = prob_string[k] - prob_string[k+4]\n",
        "    expval = expval + delt*nnval[k]*nnval[k+4]\n",
        "\n",
        "  for k in range(8,12,1):\n",
        "    delt = prob_string[k] - prob_string[k+4]\n",
        "    expval = expval + delt*nnval[k]*nnval[k+4]\n",
        "\n",
        "  for k in range(16,20,1):\n",
        "    delt = prob_string[k] - prob_string[k+4]\n",
        "    expval = expval + delt*nnval[k]*nnval[k+4]\n",
        "\n",
        "  for k in range(24,28,1):\n",
        "    delt = prob_string[k] - prob_string[k+4]\n",
        "    expval = expval + delt*nnval[k]*nnval[k+4]\n",
        "\n",
        "  return expval\n",
        "\n",
        "\n",
        "def X3(params_nn):\n",
        "  prob_string = prob_string_x3\n",
        "  nnval = np.array([neural_net(params_nn, d2b(j)) for j in range(32)])\n",
        "\n",
        "  expval = 0\n",
        "\n",
        "  for k in range(0,32,4):\n",
        "    expval = expval + (prob_string[k] - prob_string[k+2])*nnval[k]*nnval[k+2]\n",
        "    expval = expval + (prob_string[k+1] - prob_string[k+3])*nnval[k+1]*nnval[k+3]\n",
        "\n",
        "  return expval\n",
        "\n",
        "\n",
        "def X4(params_nn):\n",
        "  prob_string = prob_string_x4\n",
        "  nnval = np.array([neural_net(params_nn, d2b(j)) for j in range(32)])\n",
        "\n",
        "  expval = 0\n",
        "\n",
        "  for k in range(0,32,2):\n",
        "    expval = expval + (prob_string[k] - prob_string[k+1])*nnval[k]*nnval[k+1]\n",
        "\n",
        "  return expval"
      ],
      "metadata": {
        "id": "_vFNv5MkZw06"
      },
      "execution_count": 44,
      "outputs": []
    },
    {
      "cell_type": "code",
      "source": [
        "def norm(params_nn):\n",
        "  prob_string = prob_string_zz\n",
        "  nnval = np.array([(neural_net(params_nn, d2b(j)))**2 for j in range(32)])\n",
        "\n",
        "  expval = 0\n",
        "\n",
        "  for k in range(32):\n",
        "    expval = expval + prob_string[k]*nnval[k]\n",
        "\n",
        "  return expval"
      ],
      "metadata": {
        "id": "Us6wx7HUZw06"
      },
      "execution_count": 45,
      "outputs": []
    },
    {
      "cell_type": "code",
      "source": [
        "def cost_func_vqnhe(params_nn):\n",
        "  expval = 0\n",
        "  expval = expval + Z0Z1(params_nn)\n",
        "  expval = expval + Z1Z2(params_nn)\n",
        "  expval = expval + Z2Z3(params_nn)\n",
        "  expval = expval + Z3Z4(params_nn)\n",
        "\n",
        "  expval = expval - X0(params_nn)\n",
        "  expval = expval - X1(params_nn)\n",
        "  expval = expval - X2(params_nn)\n",
        "  expval = expval - X3(params_nn)\n",
        "  expval = expval - X4(params_nn)\n",
        "\n",
        "  expval = expval / norm(params_nn)\n",
        "\n",
        "  return expval"
      ],
      "metadata": {
        "id": "i2nIyLGoZw06"
      },
      "execution_count": 46,
      "outputs": []
    },
    {
      "cell_type": "code",
      "source": [
        "def build_callback_vqnhe(callback_dict):\n",
        "  def callback(current_vector):\n",
        "    callback_dict[\"iters\"] += 1\n",
        "    callback_dict[\"prev_vector\"] = current_vector\n",
        "    current_cost = cost_func_vqnhe(current_vector)\n",
        "\n",
        "    callback_dict[\"cost_history\"].append(current_cost)\n",
        "\n",
        "    print(\n",
        "      \"Iters. done: {} [Current cost: {}]\".format(callback_dict[\"iters\"], current_cost),\n",
        "      end=\"\\r\",\n",
        "      flush=True,\n",
        "    )\n",
        "\n",
        "  return callback"
      ],
      "metadata": {
        "id": "J1ZB2FHXZw06"
      },
      "execution_count": 47,
      "outputs": []
    },
    {
      "cell_type": "markdown",
      "source": [
        "## Repeat Optimizing Parameters in NN for 10 times\n",
        "\n",
        "np.random.seed(k)\n",
        "\n",
        "k 0~100"
      ],
      "metadata": {
        "id": "5zsQJXDUZw06"
      }
    },
    {
      "cell_type": "code",
      "source": [
        "local_minimum_list = []\n",
        "\n",
        "for k in range(100):\n",
        "\n",
        "  callback_dict = {\n",
        "    \"prev_vector\": None,\n",
        "    \"iters\": 0,\n",
        "    \"cost_history\": [],\n",
        "  }\n",
        "\n",
        "  np.random.seed(k)\n",
        "  x0 = 2 * np.random.random(31) - 1\n",
        "\n",
        "  callback = build_callback_vqnhe(callback_dict)\n",
        "\n",
        "  options = dict()\n",
        "  options[\"maxiter\"] = 1000\n",
        "  options[\"disp\"] = True\n",
        "\n",
        "  res = minimize(\n",
        "    cost_func_vqnhe,\n",
        "    x0,\n",
        "    args=(),\n",
        "    method=\"bfgs\",\n",
        "    callback=callback,\n",
        "    options=options\n",
        "  )\n",
        "\n",
        "  local_minimum_dict = callback_dict[\"cost_history\"]\n",
        "  local_minimum_list.append(local_minimum_dict[-1])\n",
        "\n",
        "\n",
        "local_minimum_list = np.array(local_minimum_list)"
      ],
      "metadata": {
        "id": "23YyInOlZw06",
        "outputId": "5919447d-079d-4e28-e0f6-efbabceb6c17",
        "colab": {
          "base_uri": "https://localhost:8080/",
          "height": 375
        }
      },
      "execution_count": 50,
      "outputs": [
        {
          "output_type": "stream",
          "name": "stdout",
          "text": []
        },
        {
          "output_type": "error",
          "ename": "KeyboardInterrupt",
          "evalue": "",
          "traceback": [
            "\u001b[0;31m---------------------------------------------------------------------------\u001b[0m",
            "\u001b[0;31mKeyboardInterrupt\u001b[0m                         Traceback (most recent call last)",
            "\u001b[0;32m<ipython-input-50-9c5e76827f0f>\u001b[0m in \u001b[0;36m<cell line: 3>\u001b[0;34m()\u001b[0m\n\u001b[1;32m     18\u001b[0m   \u001b[0moptions\u001b[0m\u001b[0;34m[\u001b[0m\u001b[0;34m\"disp\"\u001b[0m\u001b[0;34m]\u001b[0m \u001b[0;34m=\u001b[0m \u001b[0;32mTrue\u001b[0m\u001b[0;34m\u001b[0m\u001b[0;34m\u001b[0m\u001b[0m\n\u001b[1;32m     19\u001b[0m \u001b[0;34m\u001b[0m\u001b[0m\n\u001b[0;32m---> 20\u001b[0;31m   res = minimize(\n\u001b[0m\u001b[1;32m     21\u001b[0m     \u001b[0mcost_func_vqnhe\u001b[0m\u001b[0;34m,\u001b[0m\u001b[0;34m\u001b[0m\u001b[0;34m\u001b[0m\u001b[0m\n\u001b[1;32m     22\u001b[0m     \u001b[0mx0\u001b[0m\u001b[0;34m,\u001b[0m\u001b[0;34m\u001b[0m\u001b[0;34m\u001b[0m\u001b[0m\n",
            "\u001b[0;32m/usr/local/lib/python3.10/dist-packages/scipy/optimize/_minimize.py\u001b[0m in \u001b[0;36mminimize\u001b[0;34m(fun, x0, args, method, jac, hess, hessp, bounds, constraints, tol, callback, options)\u001b[0m\n\u001b[1;32m    703\u001b[0m         \u001b[0mres\u001b[0m \u001b[0;34m=\u001b[0m \u001b[0m_minimize_cg\u001b[0m\u001b[0;34m(\u001b[0m\u001b[0mfun\u001b[0m\u001b[0;34m,\u001b[0m \u001b[0mx0\u001b[0m\u001b[0;34m,\u001b[0m \u001b[0margs\u001b[0m\u001b[0;34m,\u001b[0m \u001b[0mjac\u001b[0m\u001b[0;34m,\u001b[0m \u001b[0mcallback\u001b[0m\u001b[0;34m,\u001b[0m \u001b[0;34m**\u001b[0m\u001b[0moptions\u001b[0m\u001b[0;34m)\u001b[0m\u001b[0;34m\u001b[0m\u001b[0;34m\u001b[0m\u001b[0m\n\u001b[1;32m    704\u001b[0m     \u001b[0;32melif\u001b[0m \u001b[0mmeth\u001b[0m \u001b[0;34m==\u001b[0m \u001b[0;34m'bfgs'\u001b[0m\u001b[0;34m:\u001b[0m\u001b[0;34m\u001b[0m\u001b[0;34m\u001b[0m\u001b[0m\n\u001b[0;32m--> 705\u001b[0;31m         \u001b[0mres\u001b[0m \u001b[0;34m=\u001b[0m \u001b[0m_minimize_bfgs\u001b[0m\u001b[0;34m(\u001b[0m\u001b[0mfun\u001b[0m\u001b[0;34m,\u001b[0m \u001b[0mx0\u001b[0m\u001b[0;34m,\u001b[0m \u001b[0margs\u001b[0m\u001b[0;34m,\u001b[0m \u001b[0mjac\u001b[0m\u001b[0;34m,\u001b[0m \u001b[0mcallback\u001b[0m\u001b[0;34m,\u001b[0m \u001b[0;34m**\u001b[0m\u001b[0moptions\u001b[0m\u001b[0;34m)\u001b[0m\u001b[0;34m\u001b[0m\u001b[0;34m\u001b[0m\u001b[0m\n\u001b[0m\u001b[1;32m    706\u001b[0m     \u001b[0;32melif\u001b[0m \u001b[0mmeth\u001b[0m \u001b[0;34m==\u001b[0m \u001b[0;34m'newton-cg'\u001b[0m\u001b[0;34m:\u001b[0m\u001b[0;34m\u001b[0m\u001b[0;34m\u001b[0m\u001b[0m\n\u001b[1;32m    707\u001b[0m         res = _minimize_newtoncg(fun, x0, args, jac, hess, hessp, callback,\n",
            "\u001b[0;32m/usr/local/lib/python3.10/dist-packages/scipy/optimize/_optimize.py\u001b[0m in \u001b[0;36m_minimize_bfgs\u001b[0;34m(fun, x0, args, jac, callback, gtol, norm, eps, maxiter, disp, return_all, finite_diff_rel_step, xrtol, **unknown_options)\u001b[0m\n\u001b[1;32m   1443\u001b[0m         \u001b[0;32mtry\u001b[0m\u001b[0;34m:\u001b[0m\u001b[0;34m\u001b[0m\u001b[0;34m\u001b[0m\u001b[0m\n\u001b[1;32m   1444\u001b[0m             \u001b[0malpha_k\u001b[0m\u001b[0;34m,\u001b[0m \u001b[0mfc\u001b[0m\u001b[0;34m,\u001b[0m \u001b[0mgc\u001b[0m\u001b[0;34m,\u001b[0m \u001b[0mold_fval\u001b[0m\u001b[0;34m,\u001b[0m \u001b[0mold_old_fval\u001b[0m\u001b[0;34m,\u001b[0m \u001b[0mgfkp1\u001b[0m \u001b[0;34m=\u001b[0m\u001b[0;31m \u001b[0m\u001b[0;31m\\\u001b[0m\u001b[0;34m\u001b[0m\u001b[0;34m\u001b[0m\u001b[0m\n\u001b[0;32m-> 1445\u001b[0;31m                      _line_search_wolfe12(f, myfprime, xk, pk, gfk,\n\u001b[0m\u001b[1;32m   1446\u001b[0m                                           old_fval, old_old_fval, amin=1e-100, amax=1e100)\n\u001b[1;32m   1447\u001b[0m         \u001b[0;32mexcept\u001b[0m \u001b[0m_LineSearchError\u001b[0m\u001b[0;34m:\u001b[0m\u001b[0;34m\u001b[0m\u001b[0;34m\u001b[0m\u001b[0m\n",
            "\u001b[0;32m/usr/local/lib/python3.10/dist-packages/scipy/optimize/_optimize.py\u001b[0m in \u001b[0;36m_line_search_wolfe12\u001b[0;34m(f, fprime, xk, pk, gfk, old_fval, old_old_fval, **kwargs)\u001b[0m\n\u001b[1;32m   1213\u001b[0m     \u001b[0mextra_condition\u001b[0m \u001b[0;34m=\u001b[0m \u001b[0mkwargs\u001b[0m\u001b[0;34m.\u001b[0m\u001b[0mpop\u001b[0m\u001b[0;34m(\u001b[0m\u001b[0;34m'extra_condition'\u001b[0m\u001b[0;34m,\u001b[0m \u001b[0;32mNone\u001b[0m\u001b[0;34m)\u001b[0m\u001b[0;34m\u001b[0m\u001b[0;34m\u001b[0m\u001b[0m\n\u001b[1;32m   1214\u001b[0m \u001b[0;34m\u001b[0m\u001b[0m\n\u001b[0;32m-> 1215\u001b[0;31m     ret = line_search_wolfe1(f, fprime, xk, pk, gfk,\n\u001b[0m\u001b[1;32m   1216\u001b[0m                              \u001b[0mold_fval\u001b[0m\u001b[0;34m,\u001b[0m \u001b[0mold_old_fval\u001b[0m\u001b[0;34m,\u001b[0m\u001b[0;34m\u001b[0m\u001b[0;34m\u001b[0m\u001b[0m\n\u001b[1;32m   1217\u001b[0m                              **kwargs)\n",
            "\u001b[0;32m/usr/local/lib/python3.10/dist-packages/scipy/optimize/_linesearch.py\u001b[0m in \u001b[0;36mline_search_wolfe1\u001b[0;34m(f, fprime, xk, pk, gfk, old_fval, old_old_fval, args, c1, c2, amax, amin, xtol)\u001b[0m\n\u001b[1;32m     82\u001b[0m     \u001b[0mderphi0\u001b[0m \u001b[0;34m=\u001b[0m \u001b[0mnp\u001b[0m\u001b[0;34m.\u001b[0m\u001b[0mdot\u001b[0m\u001b[0;34m(\u001b[0m\u001b[0mgfk\u001b[0m\u001b[0;34m,\u001b[0m \u001b[0mpk\u001b[0m\u001b[0;34m)\u001b[0m\u001b[0;34m\u001b[0m\u001b[0;34m\u001b[0m\u001b[0m\n\u001b[1;32m     83\u001b[0m \u001b[0;34m\u001b[0m\u001b[0m\n\u001b[0;32m---> 84\u001b[0;31m     stp, fval, old_fval = scalar_search_wolfe1(\n\u001b[0m\u001b[1;32m     85\u001b[0m             \u001b[0mphi\u001b[0m\u001b[0;34m,\u001b[0m \u001b[0mderphi\u001b[0m\u001b[0;34m,\u001b[0m \u001b[0mold_fval\u001b[0m\u001b[0;34m,\u001b[0m \u001b[0mold_old_fval\u001b[0m\u001b[0;34m,\u001b[0m \u001b[0mderphi0\u001b[0m\u001b[0;34m,\u001b[0m\u001b[0;34m\u001b[0m\u001b[0;34m\u001b[0m\u001b[0m\n\u001b[1;32m     86\u001b[0m             c1=c1, c2=c2, amax=amax, amin=amin, xtol=xtol)\n",
            "\u001b[0;32m/usr/local/lib/python3.10/dist-packages/scipy/optimize/_linesearch.py\u001b[0m in \u001b[0;36mscalar_search_wolfe1\u001b[0;34m(phi, derphi, phi0, old_phi0, derphi0, c1, c2, amax, amin, xtol)\u001b[0m\n\u001b[1;32m    159\u001b[0m             \u001b[0malpha1\u001b[0m \u001b[0;34m=\u001b[0m \u001b[0mstp\u001b[0m\u001b[0;34m\u001b[0m\u001b[0;34m\u001b[0m\u001b[0m\n\u001b[1;32m    160\u001b[0m             \u001b[0mphi1\u001b[0m \u001b[0;34m=\u001b[0m \u001b[0mphi\u001b[0m\u001b[0;34m(\u001b[0m\u001b[0mstp\u001b[0m\u001b[0;34m)\u001b[0m\u001b[0;34m\u001b[0m\u001b[0;34m\u001b[0m\u001b[0m\n\u001b[0;32m--> 161\u001b[0;31m             \u001b[0mderphi1\u001b[0m \u001b[0;34m=\u001b[0m \u001b[0mderphi\u001b[0m\u001b[0;34m(\u001b[0m\u001b[0mstp\u001b[0m\u001b[0;34m)\u001b[0m\u001b[0;34m\u001b[0m\u001b[0;34m\u001b[0m\u001b[0m\n\u001b[0m\u001b[1;32m    162\u001b[0m         \u001b[0;32melse\u001b[0m\u001b[0;34m:\u001b[0m\u001b[0;34m\u001b[0m\u001b[0;34m\u001b[0m\u001b[0m\n\u001b[1;32m    163\u001b[0m             \u001b[0;32mbreak\u001b[0m\u001b[0;34m\u001b[0m\u001b[0;34m\u001b[0m\u001b[0m\n",
            "\u001b[0;32m/usr/local/lib/python3.10/dist-packages/scipy/optimize/_linesearch.py\u001b[0m in \u001b[0;36mderphi\u001b[0;34m(s)\u001b[0m\n\u001b[1;32m     76\u001b[0m \u001b[0;34m\u001b[0m\u001b[0m\n\u001b[1;32m     77\u001b[0m     \u001b[0;32mdef\u001b[0m \u001b[0mderphi\u001b[0m\u001b[0;34m(\u001b[0m\u001b[0ms\u001b[0m\u001b[0;34m)\u001b[0m\u001b[0;34m:\u001b[0m\u001b[0;34m\u001b[0m\u001b[0;34m\u001b[0m\u001b[0m\n\u001b[0;32m---> 78\u001b[0;31m         \u001b[0mgval\u001b[0m\u001b[0;34m[\u001b[0m\u001b[0;36m0\u001b[0m\u001b[0;34m]\u001b[0m \u001b[0;34m=\u001b[0m \u001b[0mfprime\u001b[0m\u001b[0;34m(\u001b[0m\u001b[0mxk\u001b[0m \u001b[0;34m+\u001b[0m \u001b[0ms\u001b[0m\u001b[0;34m*\u001b[0m\u001b[0mpk\u001b[0m\u001b[0;34m,\u001b[0m \u001b[0;34m*\u001b[0m\u001b[0margs\u001b[0m\u001b[0;34m)\u001b[0m\u001b[0;34m\u001b[0m\u001b[0;34m\u001b[0m\u001b[0m\n\u001b[0m\u001b[1;32m     79\u001b[0m         \u001b[0mgc\u001b[0m\u001b[0;34m[\u001b[0m\u001b[0;36m0\u001b[0m\u001b[0;34m]\u001b[0m \u001b[0;34m+=\u001b[0m \u001b[0;36m1\u001b[0m\u001b[0;34m\u001b[0m\u001b[0;34m\u001b[0m\u001b[0m\n\u001b[1;32m     80\u001b[0m         \u001b[0;32mreturn\u001b[0m \u001b[0mnp\u001b[0m\u001b[0;34m.\u001b[0m\u001b[0mdot\u001b[0m\u001b[0;34m(\u001b[0m\u001b[0mgval\u001b[0m\u001b[0;34m[\u001b[0m\u001b[0;36m0\u001b[0m\u001b[0;34m]\u001b[0m\u001b[0;34m,\u001b[0m \u001b[0mpk\u001b[0m\u001b[0;34m)\u001b[0m\u001b[0;34m\u001b[0m\u001b[0;34m\u001b[0m\u001b[0m\n",
            "\u001b[0;32m/usr/local/lib/python3.10/dist-packages/scipy/optimize/_differentiable_functions.py\u001b[0m in \u001b[0;36mgrad\u001b[0;34m(self, x)\u001b[0m\n\u001b[1;32m    271\u001b[0m         \u001b[0;32mif\u001b[0m \u001b[0;32mnot\u001b[0m \u001b[0mnp\u001b[0m\u001b[0;34m.\u001b[0m\u001b[0marray_equal\u001b[0m\u001b[0;34m(\u001b[0m\u001b[0mx\u001b[0m\u001b[0;34m,\u001b[0m \u001b[0mself\u001b[0m\u001b[0;34m.\u001b[0m\u001b[0mx\u001b[0m\u001b[0;34m)\u001b[0m\u001b[0;34m:\u001b[0m\u001b[0;34m\u001b[0m\u001b[0;34m\u001b[0m\u001b[0m\n\u001b[1;32m    272\u001b[0m             \u001b[0mself\u001b[0m\u001b[0;34m.\u001b[0m\u001b[0m_update_x_impl\u001b[0m\u001b[0;34m(\u001b[0m\u001b[0mx\u001b[0m\u001b[0;34m)\u001b[0m\u001b[0;34m\u001b[0m\u001b[0;34m\u001b[0m\u001b[0m\n\u001b[0;32m--> 273\u001b[0;31m         \u001b[0mself\u001b[0m\u001b[0;34m.\u001b[0m\u001b[0m_update_grad\u001b[0m\u001b[0;34m(\u001b[0m\u001b[0;34m)\u001b[0m\u001b[0;34m\u001b[0m\u001b[0;34m\u001b[0m\u001b[0m\n\u001b[0m\u001b[1;32m    274\u001b[0m         \u001b[0;32mreturn\u001b[0m \u001b[0mself\u001b[0m\u001b[0;34m.\u001b[0m\u001b[0mg\u001b[0m\u001b[0;34m\u001b[0m\u001b[0;34m\u001b[0m\u001b[0m\n\u001b[1;32m    275\u001b[0m \u001b[0;34m\u001b[0m\u001b[0m\n",
            "\u001b[0;32m/usr/local/lib/python3.10/dist-packages/scipy/optimize/_differentiable_functions.py\u001b[0m in \u001b[0;36m_update_grad\u001b[0;34m(self)\u001b[0m\n\u001b[1;32m    254\u001b[0m     \u001b[0;32mdef\u001b[0m \u001b[0m_update_grad\u001b[0m\u001b[0;34m(\u001b[0m\u001b[0mself\u001b[0m\u001b[0;34m)\u001b[0m\u001b[0;34m:\u001b[0m\u001b[0;34m\u001b[0m\u001b[0;34m\u001b[0m\u001b[0m\n\u001b[1;32m    255\u001b[0m         \u001b[0;32mif\u001b[0m \u001b[0;32mnot\u001b[0m \u001b[0mself\u001b[0m\u001b[0;34m.\u001b[0m\u001b[0mg_updated\u001b[0m\u001b[0;34m:\u001b[0m\u001b[0;34m\u001b[0m\u001b[0;34m\u001b[0m\u001b[0m\n\u001b[0;32m--> 256\u001b[0;31m             \u001b[0mself\u001b[0m\u001b[0;34m.\u001b[0m\u001b[0m_update_grad_impl\u001b[0m\u001b[0;34m(\u001b[0m\u001b[0;34m)\u001b[0m\u001b[0;34m\u001b[0m\u001b[0;34m\u001b[0m\u001b[0m\n\u001b[0m\u001b[1;32m    257\u001b[0m             \u001b[0mself\u001b[0m\u001b[0;34m.\u001b[0m\u001b[0mg_updated\u001b[0m \u001b[0;34m=\u001b[0m \u001b[0;32mTrue\u001b[0m\u001b[0;34m\u001b[0m\u001b[0;34m\u001b[0m\u001b[0m\n\u001b[1;32m    258\u001b[0m \u001b[0;34m\u001b[0m\u001b[0m\n",
            "\u001b[0;32m/usr/local/lib/python3.10/dist-packages/scipy/optimize/_differentiable_functions.py\u001b[0m in \u001b[0;36mupdate_grad\u001b[0;34m()\u001b[0m\n\u001b[1;32m    171\u001b[0m                 \u001b[0mself\u001b[0m\u001b[0;34m.\u001b[0m\u001b[0m_update_fun\u001b[0m\u001b[0;34m(\u001b[0m\u001b[0;34m)\u001b[0m\u001b[0;34m\u001b[0m\u001b[0;34m\u001b[0m\u001b[0m\n\u001b[1;32m    172\u001b[0m                 \u001b[0mself\u001b[0m\u001b[0;34m.\u001b[0m\u001b[0mngev\u001b[0m \u001b[0;34m+=\u001b[0m \u001b[0;36m1\u001b[0m\u001b[0;34m\u001b[0m\u001b[0;34m\u001b[0m\u001b[0m\n\u001b[0;32m--> 173\u001b[0;31m                 self.g = approx_derivative(fun_wrapped, self.x, f0=self.f,\n\u001b[0m\u001b[1;32m    174\u001b[0m                                            **finite_diff_options)\n\u001b[1;32m    175\u001b[0m \u001b[0;34m\u001b[0m\u001b[0m\n",
            "\u001b[0;32m/usr/local/lib/python3.10/dist-packages/scipy/optimize/_numdiff.py\u001b[0m in \u001b[0;36mapprox_derivative\u001b[0;34m(fun, x0, method, rel_step, abs_step, f0, bounds, sparsity, as_linear_operator, args, kwargs)\u001b[0m\n\u001b[1;32m    503\u001b[0m \u001b[0;34m\u001b[0m\u001b[0m\n\u001b[1;32m    504\u001b[0m         \u001b[0;32mif\u001b[0m \u001b[0msparsity\u001b[0m \u001b[0;32mis\u001b[0m \u001b[0;32mNone\u001b[0m\u001b[0;34m:\u001b[0m\u001b[0;34m\u001b[0m\u001b[0;34m\u001b[0m\u001b[0m\n\u001b[0;32m--> 505\u001b[0;31m             return _dense_difference(fun_wrapped, x0, f0, h,\n\u001b[0m\u001b[1;32m    506\u001b[0m                                      use_one_sided, method)\n\u001b[1;32m    507\u001b[0m         \u001b[0;32melse\u001b[0m\u001b[0;34m:\u001b[0m\u001b[0;34m\u001b[0m\u001b[0;34m\u001b[0m\u001b[0m\n",
            "\u001b[0;32m/usr/local/lib/python3.10/dist-packages/scipy/optimize/_numdiff.py\u001b[0m in \u001b[0;36m_dense_difference\u001b[0;34m(fun, x0, f0, h, use_one_sided, method)\u001b[0m\n\u001b[1;32m    574\u001b[0m             \u001b[0mx\u001b[0m \u001b[0;34m=\u001b[0m \u001b[0mx0\u001b[0m \u001b[0;34m+\u001b[0m \u001b[0mh_vecs\u001b[0m\u001b[0;34m[\u001b[0m\u001b[0mi\u001b[0m\u001b[0;34m]\u001b[0m\u001b[0;34m\u001b[0m\u001b[0;34m\u001b[0m\u001b[0m\n\u001b[1;32m    575\u001b[0m             \u001b[0mdx\u001b[0m \u001b[0;34m=\u001b[0m \u001b[0mx\u001b[0m\u001b[0;34m[\u001b[0m\u001b[0mi\u001b[0m\u001b[0;34m]\u001b[0m \u001b[0;34m-\u001b[0m \u001b[0mx0\u001b[0m\u001b[0;34m[\u001b[0m\u001b[0mi\u001b[0m\u001b[0;34m]\u001b[0m  \u001b[0;31m# Recompute dx as exactly representable number.\u001b[0m\u001b[0;34m\u001b[0m\u001b[0;34m\u001b[0m\u001b[0m\n\u001b[0;32m--> 576\u001b[0;31m             \u001b[0mdf\u001b[0m \u001b[0;34m=\u001b[0m \u001b[0mfun\u001b[0m\u001b[0;34m(\u001b[0m\u001b[0mx\u001b[0m\u001b[0;34m)\u001b[0m \u001b[0;34m-\u001b[0m \u001b[0mf0\u001b[0m\u001b[0;34m\u001b[0m\u001b[0;34m\u001b[0m\u001b[0m\n\u001b[0m\u001b[1;32m    577\u001b[0m         \u001b[0;32melif\u001b[0m \u001b[0mmethod\u001b[0m \u001b[0;34m==\u001b[0m \u001b[0;34m'3-point'\u001b[0m \u001b[0;32mand\u001b[0m \u001b[0muse_one_sided\u001b[0m\u001b[0;34m[\u001b[0m\u001b[0mi\u001b[0m\u001b[0;34m]\u001b[0m\u001b[0;34m:\u001b[0m\u001b[0;34m\u001b[0m\u001b[0;34m\u001b[0m\u001b[0m\n\u001b[1;32m    578\u001b[0m             \u001b[0mx1\u001b[0m \u001b[0;34m=\u001b[0m \u001b[0mx0\u001b[0m \u001b[0;34m+\u001b[0m \u001b[0mh_vecs\u001b[0m\u001b[0;34m[\u001b[0m\u001b[0mi\u001b[0m\u001b[0;34m]\u001b[0m\u001b[0;34m\u001b[0m\u001b[0;34m\u001b[0m\u001b[0m\n",
            "\u001b[0;32m/usr/local/lib/python3.10/dist-packages/scipy/optimize/_numdiff.py\u001b[0m in \u001b[0;36mfun_wrapped\u001b[0;34m(x)\u001b[0m\n\u001b[1;32m    454\u001b[0m \u001b[0;34m\u001b[0m\u001b[0m\n\u001b[1;32m    455\u001b[0m     \u001b[0;32mdef\u001b[0m \u001b[0mfun_wrapped\u001b[0m\u001b[0;34m(\u001b[0m\u001b[0mx\u001b[0m\u001b[0;34m)\u001b[0m\u001b[0;34m:\u001b[0m\u001b[0;34m\u001b[0m\u001b[0;34m\u001b[0m\u001b[0m\n\u001b[0;32m--> 456\u001b[0;31m         \u001b[0mf\u001b[0m \u001b[0;34m=\u001b[0m \u001b[0mnp\u001b[0m\u001b[0;34m.\u001b[0m\u001b[0matleast_1d\u001b[0m\u001b[0;34m(\u001b[0m\u001b[0mfun\u001b[0m\u001b[0;34m(\u001b[0m\u001b[0mx\u001b[0m\u001b[0;34m,\u001b[0m \u001b[0;34m*\u001b[0m\u001b[0margs\u001b[0m\u001b[0;34m,\u001b[0m \u001b[0;34m**\u001b[0m\u001b[0mkwargs\u001b[0m\u001b[0;34m)\u001b[0m\u001b[0;34m)\u001b[0m\u001b[0;34m\u001b[0m\u001b[0;34m\u001b[0m\u001b[0m\n\u001b[0m\u001b[1;32m    457\u001b[0m         \u001b[0;32mif\u001b[0m \u001b[0mf\u001b[0m\u001b[0;34m.\u001b[0m\u001b[0mndim\u001b[0m \u001b[0;34m>\u001b[0m \u001b[0;36m1\u001b[0m\u001b[0;34m:\u001b[0m\u001b[0;34m\u001b[0m\u001b[0;34m\u001b[0m\u001b[0m\n\u001b[1;32m    458\u001b[0m             raise RuntimeError(\"`fun` return value has \"\n",
            "\u001b[0;32m/usr/local/lib/python3.10/dist-packages/scipy/optimize/_differentiable_functions.py\u001b[0m in \u001b[0;36mfun_wrapped\u001b[0;34m(x)\u001b[0m\n\u001b[1;32m    135\u001b[0m             \u001b[0;31m# Overwriting results in undefined behaviour because\u001b[0m\u001b[0;34m\u001b[0m\u001b[0;34m\u001b[0m\u001b[0m\n\u001b[1;32m    136\u001b[0m             \u001b[0;31m# fun(self.x) will change self.x, with the two no longer linked.\u001b[0m\u001b[0;34m\u001b[0m\u001b[0;34m\u001b[0m\u001b[0m\n\u001b[0;32m--> 137\u001b[0;31m             \u001b[0mfx\u001b[0m \u001b[0;34m=\u001b[0m \u001b[0mfun\u001b[0m\u001b[0;34m(\u001b[0m\u001b[0mnp\u001b[0m\u001b[0;34m.\u001b[0m\u001b[0mcopy\u001b[0m\u001b[0;34m(\u001b[0m\u001b[0mx\u001b[0m\u001b[0;34m)\u001b[0m\u001b[0;34m,\u001b[0m \u001b[0;34m*\u001b[0m\u001b[0margs\u001b[0m\u001b[0;34m)\u001b[0m\u001b[0;34m\u001b[0m\u001b[0;34m\u001b[0m\u001b[0m\n\u001b[0m\u001b[1;32m    138\u001b[0m             \u001b[0;31m# Make sure the function returns a true scalar\u001b[0m\u001b[0;34m\u001b[0m\u001b[0;34m\u001b[0m\u001b[0m\n\u001b[1;32m    139\u001b[0m             \u001b[0;32mif\u001b[0m \u001b[0;32mnot\u001b[0m \u001b[0mnp\u001b[0m\u001b[0;34m.\u001b[0m\u001b[0misscalar\u001b[0m\u001b[0;34m(\u001b[0m\u001b[0mfx\u001b[0m\u001b[0;34m)\u001b[0m\u001b[0;34m:\u001b[0m\u001b[0;34m\u001b[0m\u001b[0;34m\u001b[0m\u001b[0m\n",
            "\u001b[0;32m<ipython-input-46-c28a4bd82235>\u001b[0m in \u001b[0;36mcost_func_vqnhe\u001b[0;34m(params_nn)\u001b[0m\n\u001b[1;32m      8\u001b[0m   \u001b[0mexpval\u001b[0m \u001b[0;34m=\u001b[0m \u001b[0mexpval\u001b[0m \u001b[0;34m-\u001b[0m \u001b[0mX0\u001b[0m\u001b[0;34m(\u001b[0m\u001b[0mparams_nn\u001b[0m\u001b[0;34m)\u001b[0m\u001b[0;34m\u001b[0m\u001b[0;34m\u001b[0m\u001b[0m\n\u001b[1;32m      9\u001b[0m   \u001b[0mexpval\u001b[0m \u001b[0;34m=\u001b[0m \u001b[0mexpval\u001b[0m \u001b[0;34m-\u001b[0m \u001b[0mX1\u001b[0m\u001b[0;34m(\u001b[0m\u001b[0mparams_nn\u001b[0m\u001b[0;34m)\u001b[0m\u001b[0;34m\u001b[0m\u001b[0;34m\u001b[0m\u001b[0m\n\u001b[0;32m---> 10\u001b[0;31m   \u001b[0mexpval\u001b[0m \u001b[0;34m=\u001b[0m \u001b[0mexpval\u001b[0m \u001b[0;34m-\u001b[0m \u001b[0mX2\u001b[0m\u001b[0;34m(\u001b[0m\u001b[0mparams_nn\u001b[0m\u001b[0;34m)\u001b[0m\u001b[0;34m\u001b[0m\u001b[0;34m\u001b[0m\u001b[0m\n\u001b[0m\u001b[1;32m     11\u001b[0m   \u001b[0mexpval\u001b[0m \u001b[0;34m=\u001b[0m \u001b[0mexpval\u001b[0m \u001b[0;34m-\u001b[0m \u001b[0mX3\u001b[0m\u001b[0;34m(\u001b[0m\u001b[0mparams_nn\u001b[0m\u001b[0;34m)\u001b[0m\u001b[0;34m\u001b[0m\u001b[0;34m\u001b[0m\u001b[0m\n\u001b[1;32m     12\u001b[0m   \u001b[0mexpval\u001b[0m \u001b[0;34m=\u001b[0m \u001b[0mexpval\u001b[0m \u001b[0;34m-\u001b[0m \u001b[0mX4\u001b[0m\u001b[0;34m(\u001b[0m\u001b[0mparams_nn\u001b[0m\u001b[0;34m)\u001b[0m\u001b[0;34m\u001b[0m\u001b[0;34m\u001b[0m\u001b[0m\n",
            "\u001b[0;32m<ipython-input-44-8fb55eb5e617>\u001b[0m in \u001b[0;36mX2\u001b[0;34m(params_nn)\u001b[0m\n\u001b[1;32m     31\u001b[0m \u001b[0;32mdef\u001b[0m \u001b[0mX2\u001b[0m\u001b[0;34m(\u001b[0m\u001b[0mparams_nn\u001b[0m\u001b[0;34m)\u001b[0m\u001b[0;34m:\u001b[0m\u001b[0;34m\u001b[0m\u001b[0;34m\u001b[0m\u001b[0m\n\u001b[1;32m     32\u001b[0m   \u001b[0mprob_string\u001b[0m \u001b[0;34m=\u001b[0m \u001b[0mprob_string_x2\u001b[0m\u001b[0;34m\u001b[0m\u001b[0;34m\u001b[0m\u001b[0m\n\u001b[0;32m---> 33\u001b[0;31m   \u001b[0mnnval\u001b[0m \u001b[0;34m=\u001b[0m \u001b[0mnp\u001b[0m\u001b[0;34m.\u001b[0m\u001b[0marray\u001b[0m\u001b[0;34m(\u001b[0m\u001b[0;34m[\u001b[0m\u001b[0mneural_net\u001b[0m\u001b[0;34m(\u001b[0m\u001b[0mparams_nn\u001b[0m\u001b[0;34m,\u001b[0m \u001b[0md2b\u001b[0m\u001b[0;34m(\u001b[0m\u001b[0mj\u001b[0m\u001b[0;34m)\u001b[0m\u001b[0;34m)\u001b[0m \u001b[0;32mfor\u001b[0m \u001b[0mj\u001b[0m \u001b[0;32min\u001b[0m \u001b[0mrange\u001b[0m\u001b[0;34m(\u001b[0m\u001b[0;36m32\u001b[0m\u001b[0;34m)\u001b[0m\u001b[0;34m]\u001b[0m\u001b[0;34m)\u001b[0m\u001b[0;34m\u001b[0m\u001b[0;34m\u001b[0m\u001b[0m\n\u001b[0m\u001b[1;32m     34\u001b[0m \u001b[0;34m\u001b[0m\u001b[0m\n\u001b[1;32m     35\u001b[0m   \u001b[0mexpval\u001b[0m \u001b[0;34m=\u001b[0m \u001b[0;36m0\u001b[0m\u001b[0;34m\u001b[0m\u001b[0;34m\u001b[0m\u001b[0m\n",
            "\u001b[0;32m<ipython-input-44-8fb55eb5e617>\u001b[0m in \u001b[0;36m<listcomp>\u001b[0;34m(.0)\u001b[0m\n\u001b[1;32m     31\u001b[0m \u001b[0;32mdef\u001b[0m \u001b[0mX2\u001b[0m\u001b[0;34m(\u001b[0m\u001b[0mparams_nn\u001b[0m\u001b[0;34m)\u001b[0m\u001b[0;34m:\u001b[0m\u001b[0;34m\u001b[0m\u001b[0;34m\u001b[0m\u001b[0m\n\u001b[1;32m     32\u001b[0m   \u001b[0mprob_string\u001b[0m \u001b[0;34m=\u001b[0m \u001b[0mprob_string_x2\u001b[0m\u001b[0;34m\u001b[0m\u001b[0;34m\u001b[0m\u001b[0m\n\u001b[0;32m---> 33\u001b[0;31m   \u001b[0mnnval\u001b[0m \u001b[0;34m=\u001b[0m \u001b[0mnp\u001b[0m\u001b[0;34m.\u001b[0m\u001b[0marray\u001b[0m\u001b[0;34m(\u001b[0m\u001b[0;34m[\u001b[0m\u001b[0mneural_net\u001b[0m\u001b[0;34m(\u001b[0m\u001b[0mparams_nn\u001b[0m\u001b[0;34m,\u001b[0m \u001b[0md2b\u001b[0m\u001b[0;34m(\u001b[0m\u001b[0mj\u001b[0m\u001b[0;34m)\u001b[0m\u001b[0;34m)\u001b[0m \u001b[0;32mfor\u001b[0m \u001b[0mj\u001b[0m \u001b[0;32min\u001b[0m \u001b[0mrange\u001b[0m\u001b[0;34m(\u001b[0m\u001b[0;36m32\u001b[0m\u001b[0;34m)\u001b[0m\u001b[0;34m]\u001b[0m\u001b[0;34m)\u001b[0m\u001b[0;34m\u001b[0m\u001b[0;34m\u001b[0m\u001b[0m\n\u001b[0m\u001b[1;32m     34\u001b[0m \u001b[0;34m\u001b[0m\u001b[0m\n\u001b[1;32m     35\u001b[0m   \u001b[0mexpval\u001b[0m \u001b[0;34m=\u001b[0m \u001b[0;36m0\u001b[0m\u001b[0;34m\u001b[0m\u001b[0;34m\u001b[0m\u001b[0m\n",
            "\u001b[0;32m<ipython-input-41-a691943cc8e8>\u001b[0m in \u001b[0;36mneural_net\u001b[0;34m(parameter, x)\u001b[0m\n\u001b[1;32m     12\u001b[0m \u001b[0;34m\u001b[0m\u001b[0m\n\u001b[1;32m     13\u001b[0m   \u001b[0ma1\u001b[0m \u001b[0;34m=\u001b[0m \u001b[0mnp\u001b[0m\u001b[0;34m.\u001b[0m\u001b[0mmatmul\u001b[0m\u001b[0;34m(\u001b[0m\u001b[0mW1\u001b[0m\u001b[0;34m,\u001b[0m \u001b[0mx\u001b[0m\u001b[0;34m)\u001b[0m\u001b[0;34m\u001b[0m\u001b[0;34m\u001b[0m\u001b[0m\n\u001b[0;32m---> 14\u001b[0;31m   \u001b[0mz1\u001b[0m \u001b[0;34m=\u001b[0m \u001b[0mrelu\u001b[0m\u001b[0;34m(\u001b[0m\u001b[0ma1\u001b[0m\u001b[0;34m)\u001b[0m\u001b[0;34m\u001b[0m\u001b[0;34m\u001b[0m\u001b[0m\n\u001b[0m\u001b[1;32m     15\u001b[0m \u001b[0;34m\u001b[0m\u001b[0m\n\u001b[1;32m     16\u001b[0m   \u001b[0ma2\u001b[0m \u001b[0;34m=\u001b[0m \u001b[0mnp\u001b[0m\u001b[0;34m.\u001b[0m\u001b[0mmatmul\u001b[0m\u001b[0;34m(\u001b[0m\u001b[0mW2\u001b[0m\u001b[0;34m,\u001b[0m \u001b[0mz1\u001b[0m\u001b[0;34m)\u001b[0m\u001b[0;34m\u001b[0m\u001b[0;34m\u001b[0m\u001b[0m\n",
            "\u001b[0;32m<ipython-input-40-d0bc13d7fd5d>\u001b[0m in \u001b[0;36mrelu\u001b[0;34m(x)\u001b[0m\n\u001b[1;32m      2\u001b[0m \u001b[0;34m\u001b[0m\u001b[0m\n\u001b[1;32m      3\u001b[0m \u001b[0;32mdef\u001b[0m \u001b[0mrelu\u001b[0m\u001b[0;34m(\u001b[0m\u001b[0mx\u001b[0m\u001b[0;34m)\u001b[0m\u001b[0;34m:\u001b[0m\u001b[0;34m\u001b[0m\u001b[0;34m\u001b[0m\u001b[0m\n\u001b[0;32m----> 4\u001b[0;31m   \u001b[0;32mreturn\u001b[0m \u001b[0mnp\u001b[0m\u001b[0;34m.\u001b[0m\u001b[0mmaximum\u001b[0m\u001b[0;34m(\u001b[0m\u001b[0;36m0\u001b[0m\u001b[0;34m,\u001b[0m \u001b[0mx\u001b[0m\u001b[0;34m)\u001b[0m\u001b[0;34m\u001b[0m\u001b[0;34m\u001b[0m\u001b[0m\n\u001b[0m\u001b[1;32m      5\u001b[0m \u001b[0;34m\u001b[0m\u001b[0m\n\u001b[1;32m      6\u001b[0m \u001b[0;34m\u001b[0m\u001b[0m\n",
            "\u001b[0;31mKeyboardInterrupt\u001b[0m: "
          ]
        }
      ]
    },
    {
      "cell_type": "code",
      "source": [
        "local_minimum_list"
      ],
      "metadata": {
        "id": "mdBjCWNxRCN2",
        "outputId": "7e4a31ef-7c13-4500-cb58-bb7b402eb3b5",
        "colab": {
          "base_uri": "https://localhost:8080/"
        }
      },
      "execution_count": 49,
      "outputs": [
        {
          "data": {
            "text/plain": [
              "array([-5.97802591, -5.78144978, -5.8505741 , -5.84080221, -5.19748504,\n",
              "       -5.73886451, -5.99495258, -5.8863588 , -5.86427549, -5.16013895,\n",
              "       -5.99380177, -5.74680249, -5.80385412, -6.00038826, -6.00591735,\n",
              "       -5.73493997, -5.7827342 , -6.02653895, -5.85276993, -5.9774032 ,\n",
              "       -5.20975616, -5.17751259, -6.02487535, -6.02105618, -5.19712368,\n",
              "       -6.01979897, -5.17031746, -5.9601405 , -5.90842489, -6.01669785,\n",
              "       -5.97372664, -5.93392285, -5.98037873, -5.86764128, -6.00796554,\n",
              "       -5.80245108, -5.17357922, -5.88836647, -5.16718519, -5.93711901,\n",
              "       -5.16371544, -5.83729046, -5.80188904, -5.211359  , -5.92677942,\n",
              "       -5.68674655, -5.85532464, -6.01047893, -5.835678  , -5.23616432,\n",
              "       -5.83177456, -6.0078071 , -5.44581915, -5.87125222, -5.78568759,\n",
              "       -5.9634676 , -6.02529994, -6.00843464, -5.86348396, -5.76293413,\n",
              "               nan, -5.64340277, -5.19236962, -5.16014236, -5.34220287,\n",
              "       -5.90232791, -6.01580133,         nan, -5.21824437, -5.84566295,\n",
              "       -5.16014298, -6.01894626, -5.84915382, -5.94008676, -5.75932038,\n",
              "       -6.00832512, -5.56904892, -5.96679893, -5.25732524, -6.00275459,\n",
              "       -6.0105347 , -5.42535374, -5.21824442, -5.84661957, -5.93010351,\n",
              "       -6.01789059, -5.95899798, -5.2122514 , -5.87482157, -5.81037052,\n",
              "       -6.01314047, -5.86325   , -5.99770634, -6.02191443, -5.8748994 ,\n",
              "       -5.20510157, -5.20362183, -5.93024259, -5.19240891, -6.0222114 ])"
            ]
          },
          "execution_count": 49,
          "metadata": {},
          "output_type": "execute_result"
        }
      ]
    },
    {
      "cell_type": "markdown",
      "source": [
        "## Optimized Parameters"
      ],
      "metadata": {
        "id": "nTCYWSk4Zw07"
      }
    },
    {
      "cell_type": "code",
      "source": [
        "## NN optimized parameter\n",
        "\n",
        "op_param_nn = np.array([-6.39460622e-01, -9.61049517e-01, -3.44339135e-01, -1.82542009e-01,\n",
        "       -4.69011457e-01, -4.35652353e-01, -8.01625035e-02, -1.47581304e-01,\n",
        "        7.81651244e-01,  7.72153254e-01,  5.81877989e-01, -1.90542966e+00,\n",
        "        1.33083070e+00,  1.01419829e-01, -4.42492658e-01,  3.53054798e-01,\n",
        "       -9.59032774e-01, -7.66525462e-01, -5.01730326e-01, -6.84175387e-01,\n",
        "       -6.08245411e-02,  6.61688334e-01, -2.45080155e-02, -7.97063714e-01,\n",
        "       -9.22568555e-01, -8.32093713e-01, -4.15146201e-01,  3.09734372e-01,\n",
        "       -8.88652641e-01, -1.89271086e-01, -4.62710471e-01,  8.08237257e-01,\n",
        "        2.43848089e-01,  2.15808499e-01, -5.51193529e-01,  3.50405297e-01,\n",
        "        1.30095768e+00, -4.42047635e-01, -8.01557057e-01,  1.20224764e+00,\n",
        "       -8.72627138e-01, -2.70768714e-01, -8.59954395e-01, -3.61264586e-01,\n",
        "       -8.59234810e-01, -2.27578343e-01,  1.02157423e-01,  1.06782224e+00,\n",
        "        1.98235220e-01, -1.30121773e-02,  2.32036770e-01, -9.89904742e-02,\n",
        "       -1.07222359e+00, -1.13816697e-01,  4.85603794e-01, -8.01152920e-01,\n",
        "       -3.54510957e-01,  6.95447285e-01, -4.00095981e-01,  6.51060665e-01,\n",
        "        5.06932396e-01,  8.14243112e-01, -2.43924231e-01, -2.64644336e-01,\n",
        "        6.82391136e-01,  4.50670366e-01,  2.07058331e-01,  4.70551571e-01,\n",
        "        2.84429717e-01,  8.50043064e-01, -4.08719872e-01,  3.79627747e-01,\n",
        "        1.17438400e+00, -2.98493824e-01,  2.49188893e-02, -2.01159591e-01,\n",
        "       -3.39767422e-01, -8.39056242e-01, -9.61313275e-01,  1.84313790e-01,\n",
        "       -1.02182795e-01,  3.15277649e-01,  4.72268301e-01, -1.58147649e-01,\n",
        "       -3.01364430e-01, -6.23169550e-01,  6.23607573e-01,  6.29746369e-01,\n",
        "        4.68425975e-01,  7.50369650e-01,  3.76948665e-01, -1.42262230e-01,\n",
        "       -9.33810640e-01,  5.22035772e-01, -5.25264052e-01, -3.12419973e-01,\n",
        "       -1.85514432e-01,  2.87569898e-01,  3.17384703e-01,  5.33675795e-01,\n",
        "       -3.71368953e-01, -6.67174804e-01,  6.43120828e-01, -3.95005237e-01,\n",
        "       -2.01823318e-01, -8.11402264e-01, -6.67454914e-01, -6.68765489e-01,\n",
        "       -3.12573386e-01, -2.24313953e-02,  9.46259198e-01,  2.29892767e-01,\n",
        "       -2.34919179e-01,  2.96668668e-01,  1.76853571e-01,  6.78745531e-01,\n",
        "       -1.58728217e-01,  8.99571326e-01, -1.68992662e-01, -4.33820514e-01,\n",
        "       -2.48004619e-02,  8.04415649e-01,  4.61759254e-01, -1.88029557e-02,\n",
        "       -6.51833345e-02,  3.99367266e-01, -1.91288029e-03,  2.79604319e-01,\n",
        "        9.42350407e-01,  8.25206814e-01,  6.80561681e-01, -7.57983505e-01,\n",
        "        1.74827229e-01, -2.68910480e-01,  8.07125234e-01, -3.63347064e-01,\n",
        "        7.12696226e-01, -7.34541347e-01, -1.59218450e-01,  9.26895100e-01,\n",
        "        2.25693269e-01,  7.54843871e-01, -9.04674321e-02, -5.63339218e-01,\n",
        "        4.99968307e-01, -2.01485352e-01, -3.01245675e-01, -1.02177800e+00,\n",
        "       -7.10161076e-01,  1.15368001e+00,  8.28477955e-01,  7.64913532e-01,\n",
        "       -3.86225205e-01, -8.98823136e-01,  2.21119867e-01,  5.61932652e-01,\n",
        "        1.12502908e+00, -8.37215110e-01, -5.34234335e-01, -4.46185897e-03,\n",
        "       -8.09358583e-01,  6.89300901e-01,  6.59639436e-01, -5.13348447e-01,\n",
        "       -8.05151098e-01,  8.32565860e-01,  4.97918769e-01, -3.67135583e-01,\n",
        "       -4.34867195e-02,  8.13233408e-01, -2.76295109e-01, -8.57754078e-01,\n",
        "        3.89654263e-01, -3.74910481e-01,  3.73169480e-01,  7.88981723e-01,\n",
        "       -5.59442842e-01, -7.21675349e-01, -8.94096264e-01,  2.96717353e-01,\n",
        "       -8.38454487e-01,  9.16746888e-01,  4.13893745e-01,  8.11201028e-01,\n",
        "        6.01129875e-01, -6.12015630e-01, -6.68323692e-01,  9.20070380e-01,\n",
        "       -4.17924048e-01,  5.67029123e-01, -6.58419704e-01, -1.54022813e-01,\n",
        "        4.06887809e-01, -5.72715201e-01,  2.95387774e-01,  8.10098921e-01,\n",
        "       -3.99472142e-01, -6.67432947e-01, -9.44534678e-01, -3.34505803e-01,\n",
        "       -7.77983883e-01,  1.40930791e-01,  2.34294858e-01,  1.60503194e-01,\n",
        "        3.38701628e-01,  6.26870945e-02,  7.61063404e-01,  2.53270324e-01,\n",
        "        7.22785375e-01, -1.16460617e-01, -7.18748229e-01, -6.87994576e-01,\n",
        "        4.44425542e-01, -5.37891005e-01,  5.88378478e-01,  7.60107790e-01,\n",
        "        1.01549738e-01, -6.95007577e-01,  2.46993207e-01, -2.76430942e-01,\n",
        "        8.16895886e-01, -5.74588868e-01, -5.29349472e-01, -3.58613347e-02,\n",
        "       -1.73821440e-02, -6.24141837e-01, -2.67566824e-01,  3.22337858e-01,\n",
        "       -5.89599016e-02, -8.87241609e-01, -1.61901062e-01, -4.35465718e-01,\n",
        "       -3.76278731e-03, -9.89508899e-01, -5.26528384e-01,  1.02733642e+00,\n",
        "        7.97576230e-01,  9.89823606e-01,  5.17780207e-01,  4.37282833e-02,\n",
        "        8.75008369e-01, -7.10376976e-01, -4.63965755e-01,  2.56682606e-01,\n",
        "        1.21318412e-01, -4.64365974e-01, -2.76108570e-01, -5.29278450e-02,\n",
        "       -4.31956826e-01, -6.06307279e-01, -4.06286188e-01, -9.93935691e-02,\n",
        "        6.07676075e-01,  2.19619394e-01, -8.49006646e-01,  2.83814178e-02,\n",
        "       -3.17317005e-01,  5.11458011e-01, -2.68597594e-01, -9.61217668e-01,\n",
        "        1.06512624e+00, -2.44706184e-01, -3.25374619e-01, -6.27343350e-02,\n",
        "        7.53709319e-01, -3.58187704e-01, -2.61370472e-01, -2.84238557e-01,\n",
        "        9.28713874e-01, -8.08741993e-01,  2.07290741e+00])"
      ],
      "metadata": {
        "id": "H_iFTZ0LZw07"
      },
      "execution_count": null,
      "outputs": []
    },
    {
      "cell_type": "markdown",
      "source": [
        "## Plot Result of VQNHE in Noiseless Simulator"
      ],
      "metadata": {
        "id": "AyeOYiLLZw07"
      }
    },
    {
      "cell_type": "markdown",
      "source": [
        "Neural Net Lowest Energy Configurations for 10 times"
      ],
      "metadata": {
        "id": "U5ueJYrlTSfO"
      }
    },
    {
      "cell_type": "markdown",
      "source": [
        "[-6.02667418, -6.02667418, -6.02667418, -6.02667418, -6.02544544, -6.02667418, -6.02667418, -6.02667418, -6.02667418, -6.02667418]"
      ],
      "metadata": {
        "id": "FEyY4boBTSc3"
      }
    },
    {
      "cell_type": "markdown",
      "source": [
        "VQfixedNHE Lowest Energy Configuration"
      ],
      "metadata": {
        "id": "AA3Eh5i30T0h"
      }
    },
    {
      "cell_type": "markdown",
      "source": [
        "[-6.026673976585643]"
      ],
      "metadata": {
        "id": "HThkQ2es0Tx5"
      }
    },
    {
      "cell_type": "markdown",
      "source": [
        "VQNHE Lowest Energy Configuration for 100 times"
      ],
      "metadata": {
        "id": "QfAZmN85Zw08"
      }
    },
    {
      "cell_type": "markdown",
      "source": [
        "[-5.8392458 , -5.87546176, -5.83924655, -5.8402692 , -5.94158523, -5.8751673 , -5.94158524, -5.94158525, -5.94158523, -5.78074357, -5.94158524, -5.94158525, -5.94158524, -5.77757292, -5.94145631, -5.93439034, -5.91385498, -5.94158136, -5.94158525, -5.77810274, -5.780743, -5.941585, -5.941585, -5.941585, -5.941503, -5.94158525, -5.78074364, -5.87516718, -5.88974625, -5.94158525, -5.9415852 , -5.93299599, -5.94158524, -5.90888822, -5.9316028 , -5.94158525, -5.9380279 , -5.80099864, -5.7535819 , -5.77514423, -5.90469022, -5.94158524, -5.94158523, -5.94158525, -5.83924657, -5.94158524, -5.93917358, -5.94154199, -5.84026916, -5.77825212, -5.93705511, -5.78074338, -5.94156212, -5.94158525, -5.93272868, -5.94158525, -5.94158525, -5.86214847, -5.941585 , -5.77816882, -5.81901766, -5.94148885, -5.82826786, -5.83924583, -5.77273822, -5.94158524, -5.84258761, -5.94158525, -5.9415604 , -5.93799288, -5.9415426 , -5.94158525, -5.94158525, -5.94158525, -5.931018 , -5.94158525, -5.78074152, -5.78067298, -5.94148651, -5.94158508, -5.7362738 , -5.91543312, -5.9085967 , -5.94137327, -5.94158525, -5.94158525, -5.78046066, -5.77821064, -5.94158511, -5.93933252, -5.78074348, -5.94158525, -5.94158525, -5.94158523, -5.94158523, -5.94158525, -5.87817228, -5.94137875, -5.79777723, -5.94155634]"
      ],
      "metadata": {
        "id": "58RwvNjcZw08"
      }
    },
    {
      "cell_type": "markdown",
      "source": [
        "VQE Lowest Energy Configuration for 100 times"
      ],
      "metadata": {
        "id": "eCW0gFWUZw08"
      }
    },
    {
      "cell_type": "markdown",
      "source": [
        "[-5.82879886, -5.89649831, -5.89460313, -5.87216999, -5.89714665, -5.8970116,\n",
        "-5.82318112, -5.88723766, -5.87906279, -5.89633351, -5.89712631, -5.89706667, -5.89640049, -5.89686096, -5.84344741, -5.89722894, -5.89514208, -5.89722285, -5.89281514, -5.8954058 , -5.89660128, -5.89722463, -5.8262015 , -5.89560605, -5.83363386, -5.87957003, -5.82656423, -5.89196626, -5.82341307, -5.8972198 ,\n",
        "-5.82579769, -5.89274968, -5.89058962, -5.89571965, -5.89121954, -5.89066143, -5.89556185, -5.8294686 , -5.89500158, -5.88381387, -5.89720651, -5.86661138, -5.89703354, -5.8971071 , -5.89488588, -5.88977925, -5.89321505, -5.89655454, -5.89722776, -5.89703659, -5.8961525 , -5.89248345, -5.89678098, -5.89358845, -5.82619791, -5.88964449, -5.89599961, -5.89636862, -5.87624267, -5.89717557, -5.89514411, -5.83231881, -5.89722489, -5.89417956, -5.86522879, -5.89603463, -5.82299708, -5.89690459, -5.89513546, -5.88945447, -5.89701515, -5.89144585, -5.89279627, -5.89577581, -5.836521  , -5.88388422, -5.89711739, -5.84467668, -5.89351984, -5.89512836, -5.89677164, -5.87800257, -5.88000114, -5.83970428, -5.88410124, -5.86785946, -5.8962536 , -5.89717338, -5.84988649, -5.892418  , -5.88143104, -5.89473968, -5.89702307, -5.85915542, -5.89705331, -5.89717653, -5.89196071, -5.89641764, -5.88954192, -5.89643247]"
      ],
      "metadata": {
        "id": "hI7d0IrwZw09"
      }
    },
    {
      "cell_type": "code",
      "source": [
        "nn_minimum_list = np.array([-6.02667418, -6.02667418, -6.02667418, -6.02667418, -6.02544544, -6.02667418, -6.02667418, -6.02667418, -6.02667418, -6.02667418])"
      ],
      "metadata": {
        "id": "OcgR2m4ZTaI_"
      },
      "execution_count": null,
      "outputs": []
    },
    {
      "cell_type": "code",
      "source": [
        "vqfixednhe_minimum = np.array([-6.026673976585643])"
      ],
      "metadata": {
        "id": "FeYCakLK079q"
      },
      "execution_count": null,
      "outputs": []
    },
    {
      "cell_type": "code",
      "source": [
        "vqnhe_minimum_list = np.array([-5.8392458 , -5.87546176, -5.83924655, -5.8402692 , -5.94158523, -5.8751673 , -5.94158524, -5.94158525, -5.94158523, -5.78074357, -5.94158524, -5.94158525, -5.94158524, -5.77757292, -5.94145631, -5.93439034, -5.91385498, -5.94158136, -5.94158525, -5.77810274, -5.780743, -5.941585, -5.941585, -5.941585, -5.941503, -5.94158525, -5.78074364, -5.87516718, -5.88974625, -5.94158525, -5.9415852 , -5.93299599, -5.94158524, -5.90888822, -5.9316028 , -5.94158525, -5.9380279 , -5.80099864, -5.7535819 , -5.77514423, -5.90469022, -5.94158524, -5.94158523, -5.94158525, -5.83924657, -5.94158524, -5.93917358, -5.94154199, -5.84026916, -5.77825212, -5.93705511, -5.78074338, -5.94156212, -5.94158525, -5.93272868, -5.94158525, -5.94158525, -5.86214847, -5.941585 , -5.77816882, -5.81901766, -5.94148885, -5.82826786, -5.83924583, -5.77273822, -5.94158524, -5.84258761, -5.94158525, -5.9415604 , -5.93799288, -5.9415426 , -5.94158525, -5.94158525, -5.94158525, -5.931018 , -5.94158525, -5.78074152, -5.78067298, -5.94148651, -5.94158508, -5.7362738 , -5.91543312, -5.9085967 , -5.94137327, -5.94158525, -5.94158525, -5.78046066, -5.77821064, -5.94158511, -5.93933252, -5.78074348, -5.94158525, -5.94158525, -5.94158523, -5.94158523, -5.94158525, -5.87817228, -5.94137875, -5.79777723, -5.94155634])"
      ],
      "metadata": {
        "id": "3qf1qd8OZw09"
      },
      "execution_count": null,
      "outputs": []
    },
    {
      "cell_type": "code",
      "source": [
        "vqe_minimum_list = np.array([-5.606, -5.71875, -5.60175, -5.698, -5.78125, -5.767, -5.5845, -5.645, -5.69425, -5.51475, -5.56775, -5.75575, -5.769, -5.57125, -5.64275, -5.74275, -5.5175, -5.7255, -5.666, -5.73625, -5.723, -5.7545, -5.6705, -5.60075, -5.52975, -5.6935, -5.61425, -5.6985, -5.69325, -5.6845, -5.73225, -5.72175, -5.6815, -5.31325, -5.7015, -5.70625, -5.68925, -5.738, -5.71325, -5.672, -5.66375, -5.618, -5.6725, -5.6015, -5.615, -5.7535, -5.52925, -5.767, -5.736, -5.7325, -5.647, -5.6445, -5.72275, -5.55, -5.67225, -5.68075, -5.7195, -5.6425, -5.7215, -5.60475, -5.72025, -5.709, -5.58275, -5.7115, -5.7125, -5.6935, -5.6955, -5.53825, -5.53225, -5.52125, -5.64025, -5.644, -5.7355, -5.6575, -5.6785, -5.56625, -5.762, -5.6985, -5.697, -5.63975, -5.61525, -5.68075, -5.76425, -5.7605, -5.699, -5.57325, -5.707, -5.57125, -5.74275, -5.68675, -5.4285, -5.7675, -5.76325, -5.6595, -5.71025, -5.66375, -5.6435, -5.726, -5.67075, -5.62425])"
      ],
      "metadata": {
        "id": "SCVcePJ1Zw09"
      },
      "execution_count": null,
      "outputs": []
    },
    {
      "cell_type": "code",
      "source": [
        "print(vqfixednhe_minimum)"
      ],
      "metadata": {
        "id": "Ir0_hQpF08nT"
      },
      "execution_count": null,
      "outputs": []
    },
    {
      "cell_type": "code",
      "source": [
        "mean_nn = np.mean(nn_minimum_list)\n",
        "var_nn = np.var(nn_minimum_list)\n",
        "max_nn = np.max(nn_minimum_list)\n",
        "min_nn = np.min(nn_minimum_list)\n",
        "\n",
        "print(\"mean : {0}\".format(mean_nn))\n",
        "print(\"variance : {0}\".format(var_nn))\n",
        "print(\"maximum : {0}\".format(max_nn))\n",
        "print(\"minimum : {0}\".format(min_nn))\n",
        "print()\n",
        "print(nn_minimum_list)"
      ],
      "metadata": {
        "colab": {
          "base_uri": "https://localhost:8080/"
        },
        "id": "2iElLsYVTvR4",
        "outputId": "dd3a87be-ef3a-4e9b-b2f1-5430f06c359a"
      },
      "execution_count": null,
      "outputs": [
        {
          "output_type": "stream",
          "name": "stdout",
          "text": [
            "mean : -6.026551306\n",
            "variance : 1.3588217888384173e-07\n",
            "maximum : -6.02544544\n",
            "minimum : -6.02667418\n",
            "\n",
            "[-6.02667418 -6.02667418 -6.02667418 -6.02667418 -6.02544544 -6.02667418\n",
            " -6.02667418 -6.02667418 -6.02667418 -6.02667418]\n"
          ]
        }
      ]
    },
    {
      "cell_type": "code",
      "source": [
        "mean_vqnhe = np.mean(vqnhe_minimum_list)\n",
        "var_vqnhe = np.var(vqnhe_minimum_list)\n",
        "max_vqnhe = np.max(vqnhe_minimum_list)\n",
        "min_vqnhe = np.min(vqnhe_minimum_list)\n",
        "\n",
        "print(\"mean : {0}\".format(mean_vqnhe))\n",
        "print(\"variance : {0}\".format(var_vqnhe))\n",
        "print(\"maximum : {0}\".format(max_vqnhe))\n",
        "print(\"minimum : {0}\".format(min_vqnhe))\n",
        "print()\n",
        "print(vqnhe_minimum_list)"
      ],
      "metadata": {
        "colab": {
          "base_uri": "https://localhost:8080/"
        },
        "outputId": "4feabb49-ed65-4887-f34e-f136e9b6718c",
        "id": "Zfw5FSYXZw0-"
      },
      "execution_count": null,
      "outputs": [
        {
          "output_type": "stream",
          "name": "stdout",
          "text": [
            "mean : -6.026551306\n",
            "variance : 1.3588217888384173e-07\n",
            "maximum : -6.02544544\n",
            "minimum : -6.02667418\n",
            "\n",
            "[-6.02667418 -6.02667418 -6.02667418 -6.02667418 -6.02544544 -6.02667418\n",
            " -6.02667418 -6.02667418 -6.02667418 -6.02667418]\n"
          ]
        }
      ]
    },
    {
      "cell_type": "code",
      "source": [
        "mean_vqe = np.mean(vqe_minimum_list)\n",
        "var_vqe = np.var(vqe_minimum_list)\n",
        "max_vqe = np.max(vqe_minimum_list)\n",
        "min_vqe = np.min(vqe_minimum_list)\n",
        "\n",
        "print(\"mean : {0}\".format(mean_vqe))\n",
        "print(\"variance : {0}\".format(var_vqe))\n",
        "print(\"maximum : {0}\".format(max_vqe))\n",
        "print(\"minimum : {0}\".format(min_vqe))\n",
        "print()\n",
        "print(vqe_minimum_list)"
      ],
      "metadata": {
        "colab": {
          "base_uri": "https://localhost:8080/"
        },
        "outputId": "953bbbd8-0763-45ff-839e-185a8eccb0a5",
        "id": "mlbU2YheZw0-"
      },
      "execution_count": null,
      "outputs": [
        {
          "output_type": "stream",
          "name": "stdout",
          "text": [
            "mean : -5.8822224289000005\n",
            "variance : 0.0005472796114355233\n",
            "maximum : -5.82299708\n",
            "minimum : -5.89722894\n",
            "\n",
            "[-5.82879886 -5.89649831 -5.89460313 -5.87216999 -5.89714665 -5.8970116\n",
            " -5.82318112 -5.88723766 -5.87906279 -5.89633351 -5.89712631 -5.89706667\n",
            " -5.89640049 -5.89686096 -5.84344741 -5.89722894 -5.89514208 -5.89722285\n",
            " -5.89281514 -5.8954058  -5.89660128 -5.89722463 -5.8262015  -5.89560605\n",
            " -5.83363386 -5.87957003 -5.82656423 -5.89196626 -5.82341307 -5.8972198\n",
            " -5.82579769 -5.89274968 -5.89058962 -5.89571965 -5.89121954 -5.89066143\n",
            " -5.89556185 -5.8294686  -5.89500158 -5.88381387 -5.89720651 -5.86661138\n",
            " -5.89703354 -5.8971071  -5.89488588 -5.88977925 -5.89321505 -5.89655454\n",
            " -5.89722776 -5.89703659 -5.8961525  -5.89248345 -5.89678098 -5.89358845\n",
            " -5.82619791 -5.88964449 -5.89599961 -5.89636862 -5.87624267 -5.89717557\n",
            " -5.89514411 -5.83231881 -5.89722489 -5.89417956 -5.86522879 -5.89603463\n",
            " -5.82299708 -5.89690459 -5.89513546 -5.88945447 -5.89701515 -5.89144585\n",
            " -5.89279627 -5.89577581 -5.836521   -5.88388422 -5.89711739 -5.84467668\n",
            " -5.89351984 -5.89512836 -5.89677164 -5.87800257 -5.88000114 -5.83970428\n",
            " -5.88410124 -5.86785946 -5.8962536  -5.89717338 -5.84988649 -5.892418\n",
            " -5.88143104 -5.89473968 -5.89702307 -5.85915542 -5.89705331 -5.89717653\n",
            " -5.89196071 -5.89641764 -5.88954192 -5.89643247]\n"
          ]
        }
      ]
    },
    {
      "cell_type": "markdown",
      "source": [
        "# VQNHE in Noiseless Simulator\n",
        "\n",
        "1. Optimize Parameters in PQC\n",
        "\n",
        "2. Fix Parameters in PQC and Connect Neural Net Layer, Optimize Parameters in Neural Net"
      ],
      "metadata": {
        "id": "-WrqU9C2g8fS"
      }
    },
    {
      "cell_type": "markdown",
      "source": [
        "## Ansatz, Hamiltonian, Sampler & Estimator Setting"
      ],
      "metadata": {
        "id": "cmvKiG5U_VJH"
      }
    },
    {
      "cell_type": "code",
      "source": [
        "from qiskit.circuit import QuantumCircuit, QuantumRegister, ClassicalRegister, Parameter\n",
        "from qiskit.quantum_info import SparsePauliOp\n",
        "from qiskit.circuit import ParameterVector\n",
        "from qiskit.primitives import Estimator, Sampler\n",
        "\n",
        "import numpy as np\n",
        "from scipy.optimize import minimize"
      ],
      "metadata": {
        "id": "rEnUcxZ96kcK"
      },
      "execution_count": null,
      "outputs": []
    },
    {
      "cell_type": "code",
      "source": [
        "# Instantiate the system Hamiltonian\n",
        "interation = 1\n",
        "bias = -1\n",
        "\n",
        "coeff_list = [interation for _ in range(4)] + [bias for _ in range(5)]\n",
        "operator_list = [\"ZZIII\", \"IZZII\", \"IIZZI\", \"IIIZZ\", \"XIIII\", \"IXIII\", \"IIXII\", \"IIIXI\", \"IIIIX\"]\n",
        "hamiltonian_list = []\n",
        "for i in range(9):\n",
        "  hamiltonian_list.append((operator_list[i], coeff_list[i]))\n",
        "hamiltonian = SparsePauliOp.from_list(hamiltonian_list)"
      ],
      "metadata": {
        "id": "KoR-xtSmhIFG"
      },
      "execution_count": null,
      "outputs": []
    },
    {
      "cell_type": "code",
      "source": [
        "# Ansatz for VQE\n",
        "\n",
        "ansatz = QuantumCircuit(5)\n",
        "params = ParameterVector(\"theta\", length=9)\n",
        "it = iter(params)\n",
        "ansatz.h(range(0,5))\n",
        "\n",
        "ansatz.barrier()\n",
        "\n",
        "ansatz.cx(0, 1)\n",
        "ansatz.cx(2, 3)\n",
        "ansatz.rz(next(it), 1)\n",
        "ansatz.rz(next(it), 3)\n",
        "ansatz.cx(0, 1)\n",
        "ansatz.cx(2, 3)\n",
        "ansatz.cx(1, 2)\n",
        "ansatz.cx(3, 4)\n",
        "ansatz.rz(next(it), 2)\n",
        "ansatz.rz(next(it), 4)\n",
        "ansatz.cx(1, 2)\n",
        "ansatz.cx(3, 4)\n",
        "\n",
        "ansatz.barrier()\n",
        "\n",
        "ansatz.rx(next(it), 0)\n",
        "ansatz.rx(next(it), 1)\n",
        "ansatz.rx(next(it), 2)\n",
        "ansatz.rx(next(it), 3)\n",
        "ansatz.rx(next(it), 4)\n",
        "\n",
        "ansatz.draw(\"mpl\")"
      ],
      "metadata": {
        "id": "kQizJBKXlHwO"
      },
      "execution_count": null,
      "outputs": []
    },
    {
      "cell_type": "code",
      "source": [
        "# Ansatz for VQNHE ZZ Measurement\n",
        "\n",
        "qbit = QuantumRegister(5)\n",
        "cbit = ClassicalRegister(5)\n",
        "\n",
        "ansatz_zz = QuantumCircuit(qbit, cbit)\n",
        "\n",
        "params = ParameterVector(\"theta\", length=9)\n",
        "it = iter(params)\n",
        "\n",
        "ansatz_zz.h(range(0,5))\n",
        "\n",
        "ansatz_zz.barrier()\n",
        "\n",
        "ansatz_zz.cx(0, 1)\n",
        "ansatz_zz.cx(2, 3)\n",
        "ansatz_zz.rz(next(it), 1)\n",
        "ansatz_zz.rz(next(it), 3)\n",
        "ansatz_zz.cx(0, 1)\n",
        "ansatz_zz.cx(2, 3)\n",
        "ansatz_zz.cx(1, 2)\n",
        "ansatz_zz.cx(3, 4)\n",
        "ansatz_zz.rz(next(it), 2)\n",
        "ansatz_zz.rz(next(it), 4)\n",
        "ansatz_zz.cx(1, 2)\n",
        "ansatz_zz.cx(3, 4)\n",
        "\n",
        "ansatz_zz.barrier()\n",
        "\n",
        "ansatz_zz.rx(next(it), 0)\n",
        "ansatz_zz.rx(next(it), 1)\n",
        "ansatz_zz.rx(next(it), 2)\n",
        "ansatz_zz.rx(next(it), 3)\n",
        "ansatz_zz.rx(next(it), 4)\n",
        "\n",
        "ansatz_zz.barrier()\n",
        "\n",
        "ansatz_zz.measure([0,1,2,3,4], [0,1,2,3,4])\n",
        "\n",
        "ansatz_zz.draw(\"mpl\")"
      ],
      "metadata": {
        "id": "NImgYN9VoSW6"
      },
      "execution_count": null,
      "outputs": []
    },
    {
      "cell_type": "code",
      "source": [
        "# Ansatz for VQNHE X0 Measurement\n",
        "\n",
        "qbit0 = QuantumRegister(5)\n",
        "cbit0 = ClassicalRegister(5)\n",
        "\n",
        "ansatz_x0 = QuantumCircuit(qbit0, cbit0)\n",
        "\n",
        "params = ParameterVector(\"theta\", length=9)\n",
        "it = iter(params)\n",
        "\n",
        "ansatz_x0.h(range(0,5))\n",
        "\n",
        "ansatz_x0.barrier()\n",
        "\n",
        "ansatz_x0.cx(0, 1)\n",
        "ansatz_x0.cx(2, 3)\n",
        "ansatz_x0.rz(next(it), 1)\n",
        "ansatz_x0.rz(next(it), 3)\n",
        "ansatz_x0.cx(0, 1)\n",
        "ansatz_x0.cx(2, 3)\n",
        "ansatz_x0.cx(1, 2)\n",
        "ansatz_x0.cx(3, 4)\n",
        "ansatz_x0.rz(next(it), 2)\n",
        "ansatz_x0.rz(next(it), 4)\n",
        "ansatz_x0.cx(1, 2)\n",
        "ansatz_x0.cx(3, 4)\n",
        "\n",
        "ansatz_x0.barrier()\n",
        "\n",
        "ansatz_x0.rx(next(it), 0)\n",
        "ansatz_x0.rx(next(it), 1)\n",
        "ansatz_x0.rx(next(it), 2)\n",
        "ansatz_x0.rx(next(it), 3)\n",
        "ansatz_x0.rx(next(it), 4)\n",
        "\n",
        "ansatz_x0.barrier()\n",
        "\n",
        "ansatz_x0.h(0)\n",
        "\n",
        "ansatz_x0.barrier()\n",
        "\n",
        "ansatz_x0.measure([0,1,2,3,4], [4,3,2,1,0])\n",
        "\n",
        "ansatz_x0.draw(\"mpl\")"
      ],
      "metadata": {
        "id": "oimYp77jlxu7"
      },
      "execution_count": null,
      "outputs": []
    },
    {
      "cell_type": "code",
      "source": [
        "# Ansatz for VQNHE X1 Measurement\n",
        "\n",
        "qbit1 = QuantumRegister(5)\n",
        "cbit1 = ClassicalRegister(5)\n",
        "\n",
        "ansatz_x1 = QuantumCircuit(qbit1, cbit1)\n",
        "\n",
        "params = ParameterVector(\"theta\", length=9)\n",
        "it = iter(params)\n",
        "\n",
        "ansatz_x1.h(range(0,5))\n",
        "\n",
        "ansatz_x1.barrier()\n",
        "\n",
        "ansatz_x1.cx(0, 1)\n",
        "ansatz_x1.cx(2, 3)\n",
        "ansatz_x1.rz(next(it), 1)\n",
        "ansatz_x1.rz(next(it), 3)\n",
        "ansatz_x1.cx(0, 1)\n",
        "ansatz_x1.cx(2, 3)\n",
        "ansatz_x1.cx(1, 2)\n",
        "ansatz_x1.cx(3, 4)\n",
        "ansatz_x1.rz(next(it), 2)\n",
        "ansatz_x1.rz(next(it), 4)\n",
        "ansatz_x1.cx(1, 2)\n",
        "ansatz_x1.cx(3, 4)\n",
        "\n",
        "ansatz_x1.barrier()\n",
        "\n",
        "ansatz_x1.rx(next(it), 0)\n",
        "ansatz_x1.rx(next(it), 1)\n",
        "ansatz_x1.rx(next(it), 2)\n",
        "ansatz_x1.rx(next(it), 3)\n",
        "ansatz_x1.rx(next(it), 4)\n",
        "\n",
        "ansatz_x1.barrier()\n",
        "\n",
        "ansatz_x1.h(1)\n",
        "\n",
        "ansatz_x1.barrier()\n",
        "\n",
        "ansatz_x1.measure([0,1,2,3,4], [4,3,2,1,0])\n",
        "\n",
        "ansatz_x1.draw(\"mpl\")"
      ],
      "metadata": {
        "id": "7nJN5Vnei46C"
      },
      "execution_count": null,
      "outputs": []
    },
    {
      "cell_type": "code",
      "source": [
        "# Ansatz for VQNHE X2 Measurement\n",
        "\n",
        "qbit2 = QuantumRegister(5)\n",
        "cbit2 = ClassicalRegister(5)\n",
        "\n",
        "ansatz_x2 = QuantumCircuit(qbit2, cbit2)\n",
        "\n",
        "params = ParameterVector(\"theta\", length=9)\n",
        "it = iter(params)\n",
        "\n",
        "ansatz_x2.h(range(0,5))\n",
        "\n",
        "ansatz_x2.barrier()\n",
        "\n",
        "ansatz_x2.cx(0, 1)\n",
        "ansatz_x2.cx(2, 3)\n",
        "ansatz_x2.rz(next(it), 1)\n",
        "ansatz_x2.rz(next(it), 3)\n",
        "ansatz_x2.cx(0, 1)\n",
        "ansatz_x2.cx(2, 3)\n",
        "ansatz_x2.cx(1, 2)\n",
        "ansatz_x2.cx(3, 4)\n",
        "ansatz_x2.rz(next(it), 2)\n",
        "ansatz_x2.rz(next(it), 4)\n",
        "ansatz_x2.cx(1, 2)\n",
        "ansatz_x2.cx(3, 4)\n",
        "\n",
        "ansatz_x2.barrier()\n",
        "\n",
        "ansatz_x2.rx(next(it), 0)\n",
        "ansatz_x2.rx(next(it), 1)\n",
        "ansatz_x2.rx(next(it), 2)\n",
        "ansatz_x2.rx(next(it), 3)\n",
        "ansatz_x2.rx(next(it), 4)\n",
        "\n",
        "ansatz_x2.barrier()\n",
        "\n",
        "ansatz_x2.h(2)\n",
        "\n",
        "ansatz_x2.barrier()\n",
        "\n",
        "ansatz_x2.measure([0,1,2,3,4], [4,3,2,1,0])\n",
        "\n",
        "ansatz_x2.draw(\"mpl\")"
      ],
      "metadata": {
        "id": "2WovLTdvqIrt"
      },
      "execution_count": null,
      "outputs": []
    },
    {
      "cell_type": "code",
      "source": [
        "# Ansatz for VQNHE X3 Measurement\n",
        "\n",
        "qbit3 = QuantumRegister(5)\n",
        "cbit3 = ClassicalRegister(5)\n",
        "\n",
        "ansatz_x3 = QuantumCircuit(qbit3, cbit3)\n",
        "\n",
        "params = ParameterVector(\"theta\", length=9)\n",
        "it = iter(params)\n",
        "\n",
        "ansatz_x3.h(range(0,5))\n",
        "\n",
        "ansatz_x3.barrier()\n",
        "\n",
        "ansatz_x3.cx(0, 1)\n",
        "ansatz_x3.cx(2, 3)\n",
        "ansatz_x3.rz(next(it), 1)\n",
        "ansatz_x3.rz(next(it), 3)\n",
        "ansatz_x3.cx(0, 1)\n",
        "ansatz_x3.cx(2, 3)\n",
        "ansatz_x3.cx(1, 2)\n",
        "ansatz_x3.cx(3, 4)\n",
        "ansatz_x3.rz(next(it), 2)\n",
        "ansatz_x3.rz(next(it), 4)\n",
        "ansatz_x3.cx(1, 2)\n",
        "ansatz_x3.cx(3, 4)\n",
        "\n",
        "ansatz_x3.barrier()\n",
        "\n",
        "ansatz_x3.rx(next(it), 0)\n",
        "ansatz_x3.rx(next(it), 1)\n",
        "ansatz_x3.rx(next(it), 2)\n",
        "ansatz_x3.rx(next(it), 3)\n",
        "ansatz_x3.rx(next(it), 4)\n",
        "\n",
        "ansatz_x3.barrier()\n",
        "\n",
        "ansatz_x3.h(3)\n",
        "\n",
        "ansatz_x3.barrier()\n",
        "\n",
        "ansatz_x3.measure([0,1,2,3,4], [4,3,2,1,0])\n",
        "\n",
        "ansatz_x3.draw(\"mpl\")"
      ],
      "metadata": {
        "id": "wJTXprZFqIo3"
      },
      "execution_count": null,
      "outputs": []
    },
    {
      "cell_type": "code",
      "source": [
        "# Ansatz for VQNHE X4 Measurement\n",
        "\n",
        "qbit4 = QuantumRegister(5)\n",
        "cbit4 = ClassicalRegister(5)\n",
        "\n",
        "ansatz_x4 = QuantumCircuit(qbit4, cbit4)\n",
        "\n",
        "params = ParameterVector(\"theta\", length=9)\n",
        "it = iter(params)\n",
        "\n",
        "ansatz_x4.h(range(0,5))\n",
        "\n",
        "ansatz_x4.barrier()\n",
        "\n",
        "ansatz_x4.cx(0, 1)\n",
        "ansatz_x4.cx(2, 3)\n",
        "ansatz_x4.rz(next(it), 1)\n",
        "ansatz_x4.rz(next(it), 3)\n",
        "ansatz_x4.cx(0, 1)\n",
        "ansatz_x4.cx(2, 3)\n",
        "ansatz_x4.cx(1, 2)\n",
        "ansatz_x4.cx(3, 4)\n",
        "ansatz_x4.rz(next(it), 2)\n",
        "ansatz_x4.rz(next(it), 4)\n",
        "ansatz_x4.cx(1, 2)\n",
        "ansatz_x4.cx(3, 4)\n",
        "\n",
        "ansatz_x4.barrier()\n",
        "\n",
        "ansatz_x4.rx(next(it), 0)\n",
        "ansatz_x4.rx(next(it), 1)\n",
        "ansatz_x4.rx(next(it), 2)\n",
        "ansatz_x4.rx(next(it), 3)\n",
        "ansatz_x4.rx(next(it), 4)\n",
        "\n",
        "ansatz_x4.barrier()\n",
        "\n",
        "ansatz_x4.h(4)\n",
        "\n",
        "ansatz_x4.barrier()\n",
        "\n",
        "ansatz_x4.measure([0,1,2,3,4], [4,3,2,1,0])\n",
        "\n",
        "ansatz_x4.draw(\"mpl\")"
      ],
      "metadata": {
        "id": "1WBG2Q90qImO"
      },
      "execution_count": null,
      "outputs": []
    },
    {
      "cell_type": "code",
      "source": [
        "# Estimator & Sampler\n",
        "\n",
        "estimator = Estimator()\n",
        "sampler = Sampler()"
      ],
      "metadata": {
        "id": "NH5g9iJzEPAm"
      },
      "execution_count": null,
      "outputs": []
    },
    {
      "cell_type": "markdown",
      "source": [
        "## Cost Function for VQE"
      ],
      "metadata": {
        "id": "5tUwV6uiVRCe"
      }
    },
    {
      "cell_type": "code",
      "source": [
        "def cost_func_vqe(params, ansatz, hamiltonian, estimator):\n",
        "    cost = estimator.run(ansatz, hamiltonian, parameter_values=params).result()\n",
        "    return cost.values[0]"
      ],
      "metadata": {
        "id": "gUgIPgDjp9Kj"
      },
      "execution_count": null,
      "outputs": []
    },
    {
      "cell_type": "code",
      "source": [
        "def build_callback_vqe(ansatz, hamiltonian, estimator, callback_dict):\n",
        "  def callback(current_vector):\n",
        "    callback_dict_vqe[\"iters\"] += 1\n",
        "    callback_dict_vqe[\"prev_vector\"] = current_vector\n",
        "    current_cost_vqe = cost_func_vqe(current_vector, ansatz, hamiltonian, estimator)\n",
        "\n",
        "    callback_dict_vqe[\"cost_history\"].append(current_cost_vqe)\n",
        "\n",
        "    print(\n",
        "      \"Iters. done: {} [Current cost: {}]\".format(callback_dict_vqe[\"iters\"], current_cost_vqe),\n",
        "      end=\"\\r\",\n",
        "      flush=True,\n",
        "    )\n",
        "\n",
        "  return callback"
      ],
      "metadata": {
        "id": "OFgXN1F4x-yG"
      },
      "execution_count": null,
      "outputs": []
    },
    {
      "cell_type": "markdown",
      "source": [
        "## 1st Step : Optimizing Parameters in PQC"
      ],
      "metadata": {
        "id": "lFAqiQXZ_cOm"
      }
    },
    {
      "cell_type": "code",
      "source": [
        "callback_dict_vqe = {\n",
        "    \"prev_vector\": None,\n",
        "    \"iters\": 0,\n",
        "    \"cost_history\": [],\n",
        "}\n",
        "\n",
        "options = dict()\n",
        "options[\"maxiter\"] = 50000\n",
        "options[\"disp\"] = True\n",
        "\n",
        "np.random.seed(4)\n",
        "x0 = 2 * np.pi * np.random.random(9)\n",
        "\n",
        "x0"
      ],
      "metadata": {
        "id": "fbtJseldyr3r",
        "colab": {
          "base_uri": "https://localhost:8080/"
        },
        "outputId": "710df212-ecbd-490f-bd91-fc323bfb8a3c"
      },
      "execution_count": null,
      "outputs": [
        {
          "output_type": "execute_result",
          "data": {
            "text/plain": [
              "array([6.07602768, 3.43836163, 6.11155608, 4.49132135, 4.3839595 ,\n",
              "       1.35773034, 6.13411331, 0.03914585, 1.58953506])"
            ]
          },
          "metadata": {},
          "execution_count": 77
        }
      ]
    },
    {
      "cell_type": "code",
      "source": [
        "callback_vqe = build_callback_vqe(ansatz, hamiltonian, estimator, callback_dict_vqe)\n",
        "res = minimize(\n",
        "  cost_func_vqe,\n",
        "  x0,\n",
        "  args=(ansatz, hamiltonian, estimator),\n",
        "  method=\"bfgs\",\n",
        "  callback=callback_vqe,\n",
        "  options=options\n",
        ")"
      ],
      "metadata": {
        "id": "eBHr-RDPytHr",
        "outputId": "fe2b4315-a2c5-494a-9ff6-7ac8062bcf4f",
        "colab": {
          "base_uri": "https://localhost:8080/"
        }
      },
      "execution_count": null,
      "outputs": [
        {
          "output_type": "stream",
          "name": "stdout",
          "text": [
            "Optimization terminated successfully.\n",
            "         Current function value: -5.897229\n",
            "         Iterations: 45\n",
            "         Function evaluations: 570\n",
            "         Gradient evaluations: 57\n"
          ]
        }
      ]
    },
    {
      "cell_type": "code",
      "source": [
        "res"
      ],
      "metadata": {
        "id": "R97EUoPb1LTW",
        "colab": {
          "base_uri": "https://localhost:8080/"
        },
        "outputId": "fbf7b5cc-52bb-4027-c94b-792092e681b6"
      },
      "execution_count": null,
      "outputs": [
        {
          "output_type": "execute_result",
          "data": {
            "text/plain": [
              "  message: Optimization terminated successfully.\n",
              "  success: True\n",
              "   status: 0\n",
              "      fun: -5.897229133327293\n",
              "        x: [ 5.803e+00  5.886e+00  5.886e+00  5.803e+00  7.854e+00\n",
              "            -1.261e-06  7.854e+00  1.466e-06  1.571e+00]\n",
              "      nit: 45\n",
              "      jac: [-1.192e-07 -5.960e-07 -7.153e-07 -1.788e-07  1.192e-07\n",
              "            -8.345e-07 -7.749e-07  1.192e-07 -5.960e-08]\n",
              " hess_inv: [[ 4.821e-01 -8.480e-04 ...  2.708e-02 -3.657e-02]\n",
              "            [-8.480e-04  4.716e-01 ... -3.784e-02  6.984e-02]\n",
              "            ...\n",
              "            [ 2.708e-02 -3.784e-02 ...  6.264e+00 -5.876e+00]\n",
              "            [-3.657e-02  6.984e-02 ... -5.876e+00  7.924e+00]]\n",
              "     nfev: 570\n",
              "     njev: 57"
            ]
          },
          "metadata": {},
          "execution_count": 79
        }
      ]
    },
    {
      "cell_type": "code",
      "source": [
        "fig, ax = plt.subplots()\n",
        "ax.plot(range(callback_dict_vqe[\"iters\"]), callback_dict_vqe[\"cost_history\"])\n",
        "ax.set_xlabel(\"Iterations\")\n",
        "ax.set_ylabel(\"Cost\")\n",
        "plt.draw()"
      ],
      "metadata": {
        "id": "82bVxHG4ytC6",
        "colab": {
          "base_uri": "https://localhost:8080/"
        },
        "outputId": "d5d7752e-1a0b-46f5-f782-56fbad39c3ad"
      },
      "execution_count": null,
      "outputs": [
        {
          "output_type": "display_data",
          "data": {
            "text/plain": [
              "<Figure size 640x480 with 1 Axes>"
            ],
            "image/png": "[encoded data removed]"
          },
          "metadata": {}
        }
      ]
    },
    {
      "cell_type": "code",
      "source": [
        "params_pqc = res.x\n",
        "params_pqc"
      ],
      "metadata": {
        "colab": {
          "base_uri": "https://localhost:8080/"
        },
        "id": "CoPrfpv9tyO0",
        "outputId": "bcc12e04-6093-4175-bc26-d2c713dae1e7"
      },
      "execution_count": null,
      "outputs": [
        {
          "output_type": "execute_result",
          "data": {
            "text/plain": [
              "array([ 5.80344510e+00,  5.88570616e+00,  5.88570617e+00,  5.80344509e+00,\n",
              "        7.85398307e+00, -1.26102966e-06,  7.85398051e+00,  1.46596586e-06,\n",
              "        1.57079489e+00])"
            ]
          },
          "metadata": {},
          "execution_count": 81
        }
      ]
    },
    {
      "cell_type": "markdown",
      "source": [
        "## Cost Function for VQNHE"
      ],
      "metadata": {
        "id": "6X_g_YlLVXaj"
      }
    },
    {
      "cell_type": "code",
      "source": [
        "# Activation Function for Neural Network\n",
        "\n",
        "def relu(x):\n",
        "  return np.maximum(0, x)\n",
        "\n",
        "\n",
        "def output_activate(c, x):\n",
        "  return np.exp(c*np.tanh(x))"
      ],
      "metadata": {
        "id": "hsYHxkOJbouM"
      },
      "execution_count": null,
      "outputs": []
    },
    {
      "cell_type": "code",
      "source": [
        "# Neural Network\n",
        "# Output : f(s)\n",
        "\n",
        "def neural_net(parameter, x):\n",
        "\n",
        "  W1 = parameter[0:25]\n",
        "  W2 = parameter[25:30]\n",
        "  c = parameter[30]\n",
        "\n",
        "  W1 = W1.reshape(5,5)\n",
        "  W2 = W2.reshape(1,5)\n",
        "\n",
        "  a1 = np.matmul(W1, x)\n",
        "  z1 = relu(a1)\n",
        "\n",
        "  a2 = np.matmul(W2, z1)\n",
        "  y = output_activate(c, a3)\n",
        "\n",
        "  return y[0]"
      ],
      "metadata": {
        "id": "XQcLNk2nEPvI"
      },
      "execution_count": null,
      "outputs": []
    },
    {
      "cell_type": "code",
      "source": [
        "# Convert Decimal Number to Binary Number\n",
        "\n",
        "def d2b(x):\n",
        "\n",
        "  binary = []\n",
        "\n",
        "  for _ in range(5):\n",
        "    binary.append(x % 2)\n",
        "    x = x // 2\n",
        "\n",
        "  binary.reverse()\n",
        "\n",
        "  return np.array(binary)"
      ],
      "metadata": {
        "id": "7mMmUcdo1SC-"
      },
      "execution_count": null,
      "outputs": []
    },
    {
      "cell_type": "code",
      "source": [
        "def Z0Z1(params_nn, ansatz_zz, params_pqc, sampler):\n",
        "  job = sampler.run(ansatz_zz, params_pqc).result()\n",
        "  prob_string = job.quasi_dists[0]\n",
        "\n",
        "  nnval = np.array([(neural_net(params_nn, d2b(j)))**2 for j in range(32)])\n",
        "\n",
        "  expval = 0\n",
        "\n",
        "  for k in range(32):\n",
        "    if k // 8 == 0 or k // 8 == 3:\n",
        "      expval = expval + prob_string[k]*nnval[k]\n",
        "    if k // 8 == 1 or k // 8 == 2:\n",
        "      expval = expval - prob_string[k]*nnval[k]\n",
        "\n",
        "  return expval\n",
        "\n",
        "\n",
        "def Z1Z2(params_nn, ansatz_zz, params_pqc, sampler):\n",
        "  job = sampler.run(ansatz_zz, params_pqc).result()\n",
        "  prob_string = job.quasi_dists[0]\n",
        "\n",
        "  nnval = np.array([(neural_net(params_nn, d2b(j)))**2 for j in range(32)])\n",
        "\n",
        "  expval = 0\n",
        "\n",
        "  for k in range(32):\n",
        "    if k // 4 == 0 or k // 4 == 3 or k // 4 == 4 or k // 4 == 7:\n",
        "      expval = expval + prob_string[k]*nnval[k]\n",
        "    if k // 4 == 1 or k // 4 == 2 or k // 4 == 5 or k // 4 == 6:\n",
        "      expval = expval - prob_string[k]*nnval[k]\n",
        "\n",
        "  return expval\n",
        "\n",
        "\n",
        "def Z2Z3(params_nn, ansatz_zz, params_pqc, sampler):\n",
        "  job = sampler.run(ansatz_zz, params_pqc).result()\n",
        "  prob_string = job.quasi_dists[0]\n",
        "\n",
        "  nnval = np.array([(neural_net(params_nn, d2b(j)))**2 for j in range(32)])\n",
        "\n",
        "  expval = 0\n",
        "\n",
        "  for k in range(32):\n",
        "    if k % 8 == 0 or k % 8 == 1 or k % 8 == 6 or k % 8 == 7:\n",
        "      expval = expval + prob_string[k]*nnval[k]\n",
        "    if k % 8 == 2 or k % 8 == 3 or k % 8 == 4 or k % 8 == 5:\n",
        "      expval = expval - prob_string[k]*nnval[k]\n",
        "\n",
        "  return expval\n",
        "\n",
        "\n",
        "def Z3Z4(params_nn, ansatz_zz, params_pqc, sampler):\n",
        "  job = sampler.run(ansatz_zz, params_pqc).result()\n",
        "  prob_string = job.quasi_dists[0]\n",
        "\n",
        "  nnval = np.array([(neural_net(params_nn, d2b(j)))**2 for j in range(32)])\n",
        "\n",
        "  expval = 0\n",
        "\n",
        "  for k in range(32):\n",
        "    if k % 4 == 0 or k % 4 == 3:\n",
        "      expval = expval + prob_string[k]*nnval[k]\n",
        "    else:\n",
        "      expval = expval - prob_string[k]*nnval[k]\n",
        "\n",
        "  return expval"
      ],
      "metadata": {
        "id": "ZbKgjvfz7byT"
      },
      "execution_count": null,
      "outputs": []
    },
    {
      "cell_type": "code",
      "source": [
        "def X0(params_nn, ansatz_x0, params_pqc, sampler):\n",
        "  job = sampler.run(ansatz_x0, params_pqc).result()\n",
        "  prob_string = job.quasi_dists[0]\n",
        "\n",
        "  nnval = np.array([neural_net(params_nn, d2b(j)) for j in range(32)])\n",
        "\n",
        "  expval = 0\n",
        "\n",
        "  for k in range(16):\n",
        "    delt = prob_string[k] - prob_string[k+16]\n",
        "    expval = expval + delt*nnval[k]*nnval[k+16]\n",
        "\n",
        "  return expval\n",
        "\n",
        "\n",
        "def X1(params_nn, ansatz_x1, params_pqc, sampler):\n",
        "  job = sampler.run(ansatz_x1, params_pqc).result()\n",
        "  prob_string = job.quasi_dists[0]\n",
        "\n",
        "  nnval = np.array([neural_net(params_nn, d2b(j)) for j in range(32)])\n",
        "\n",
        "  expval = 0\n",
        "\n",
        "  for k in range(8):\n",
        "    delt = prob_string[k] - prob_string[k+8]\n",
        "    expval = expval + delt*nnval[k]*nnval[k+8]\n",
        "\n",
        "  for k in range(16,24,1):\n",
        "    delt = prob_string[k] - prob_string[k+8]\n",
        "    expval = expval + delt*nnval[k]*nnval[k+8]\n",
        "\n",
        "  return expval\n",
        "\n",
        "\n",
        "def X2(params_nn, ansatz_x2, params_pqc, sampler):\n",
        "  job = sampler.run(ansatz_x2, params_pqc).result()\n",
        "  prob_string = job.quasi_dists[0]\n",
        "\n",
        "  nnval = np.array([neural_net(params_nn, d2b(j)) for j in range(32)])\n",
        "\n",
        "  expval = 0\n",
        "\n",
        "  for k in range(4):\n",
        "    delt = prob_string[k] - prob_string[k+4]\n",
        "    expval = expval + delt*nnval[k]*nnval[k+4]\n",
        "\n",
        "  for k in range(8,12,1):\n",
        "    delt = prob_string[k] - prob_string[k+4]\n",
        "    expval = expval + delt*nnval[k]*nnval[k+4]\n",
        "\n",
        "  for k in range(16,20,1):\n",
        "    delt = prob_string[k] - prob_string[k+4]\n",
        "    expval = expval + delt*nnval[k]*nnval[k+4]\n",
        "\n",
        "  for k in range(24,28,1):\n",
        "    delt = prob_string[k] - prob_string[k+4]\n",
        "    expval = expval + delt*nnval[k]*nnval[k+4]\n",
        "\n",
        "  return expval\n",
        "\n",
        "\n",
        "def X3(params_nn, ansatz_x3, params_pqc, sampler):\n",
        "  job = sampler.run(ansatz_x3, params_pqc).result()\n",
        "  prob_string = job.quasi_dists[0]\n",
        "\n",
        "  nnval = np.array([neural_net(params_nn, d2b(j)) for j in range(32)])\n",
        "\n",
        "  expval = 0\n",
        "\n",
        "  for k in range(0,32,4):\n",
        "    expval = expval + (prob_string[k] - prob_string[k+2])*nnval[k]*nnval[k+2]\n",
        "    expval = expval + (prob_string[k+1] - prob_string[k+3])*nnval[k+1]*nnval[k+3]\n",
        "\n",
        "  return expval\n",
        "\n",
        "\n",
        "def X4(params_nn, ansatz_x4, params_pqc, sampler):\n",
        "  job = sampler.run(ansatz_x4, params_pqc).result()\n",
        "  prob_string = job.quasi_dists[0]\n",
        "\n",
        "  nnval = np.array([neural_net(params_nn, d2b(j)) for j in range(32)])\n",
        "\n",
        "  expval = 0\n",
        "\n",
        "  for k in range(0,32,2):\n",
        "    expval = expval + (prob_string[k] - prob_string[k+1])*nnval[k]*nnval[k+1]\n",
        "\n",
        "  return expval"
      ],
      "metadata": {
        "id": "AR5CuYc8FKvA"
      },
      "execution_count": null,
      "outputs": []
    },
    {
      "cell_type": "code",
      "source": [
        "def norm(params_nn, ansatz_zz, params_pqc, sampler):\n",
        "  job = sampler.run(ansatz_zz, params_pqc).result()\n",
        "  prob_string = job.quasi_dists[0]\n",
        "\n",
        "  nnval = np.array([(neural_net(params_nn, d2b(j)))**2 for j in range(32)])\n",
        "\n",
        "  expval = 0\n",
        "\n",
        "  for k in range(32):\n",
        "    expval = expval + prob_string[k]*nnval[k]\n",
        "\n",
        "  return expval"
      ],
      "metadata": {
        "id": "munWbMTwYX7w"
      },
      "execution_count": null,
      "outputs": []
    },
    {
      "cell_type": "code",
      "source": [
        "def cost_func_vqnhe(params_nn, params_pqc, ansatz_zz, ansatz_x0, ansatz_x1, ansatz_x2, ansatz_x3, ansatz_x4, sampler):\n",
        "  expval = 0\n",
        "  expval = expval + Z0Z1(params_nn, ansatz_zz, params_pqc, sampler)\n",
        "  expval = expval + Z1Z2(params_nn, ansatz_zz, params_pqc, sampler)\n",
        "  expval = expval + Z2Z3(params_nn, ansatz_zz, params_pqc, sampler)\n",
        "  expval = expval + Z3Z4(params_nn, ansatz_zz, params_pqc, sampler)\n",
        "\n",
        "  expval = expval - X0(params_nn, ansatz_x0, params_pqc, sampler)\n",
        "  expval = expval - X1(params_nn, ansatz_x1, params_pqc, sampler)\n",
        "  expval = expval - X2(params_nn, ansatz_x2, params_pqc, sampler)\n",
        "  expval = expval - X3(params_nn, ansatz_x3, params_pqc, sampler)\n",
        "  expval = expval - X4(params_nn, ansatz_x4, params_pqc, sampler)\n",
        "\n",
        "  expval = expval / norm(params_nn, ansatz_zz, params_pqc, sampler)\n",
        "\n",
        "  return expval"
      ],
      "metadata": {
        "id": "PMVV9En1uoJ7"
      },
      "execution_count": null,
      "outputs": []
    },
    {
      "cell_type": "code",
      "source": [
        "cost_func_vqnhe(np.zeros(shape=271), params_pqc, ansatz_zz, ansatz_x0, ansatz_x1, ansatz_x2, ansatz_x3, ansatz_x4, sampler)"
      ],
      "metadata": {
        "colab": {
          "base_uri": "https://localhost:8080/"
        },
        "id": "ofYVLhvd5EpE",
        "outputId": "2c7914f0-dacc-4e90-b2f6-7c5cf31dcbfe"
      },
      "execution_count": null,
      "outputs": [
        {
          "output_type": "execute_result",
          "data": {
            "text/plain": [
              "-5.897229133327298"
            ]
          },
          "metadata": {},
          "execution_count": 89
        }
      ]
    },
    {
      "cell_type": "code",
      "source": [
        "def build_callback_vqnhe(params_pqc, ansatz_zz, ansatz_x0, ansatz_x1, ansatz_x2, ansatz_x3, ansatz_x4, sampler, callback_dict):\n",
        "  def callback(current_vector):\n",
        "    callback_dict[\"iters\"] += 1\n",
        "    callback_dict[\"prev_vector\"] = current_vector\n",
        "    current_cost = cost_func_vqnhe(current_vector, params_pqc, ansatz_zz, ansatz_x0, ansatz_x1, ansatz_x2, ansatz_x3, ansatz_x4, sampler)\n",
        "\n",
        "    callback_dict[\"cost_history\"].append(current_cost)\n",
        "\n",
        "    print(\n",
        "      \"Iters. done: {} [Current cost: {}]\".format(callback_dict[\"iters\"], current_cost),\n",
        "      end=\"\\r\",\n",
        "      flush=True,\n",
        "    )\n",
        "\n",
        "  return callback"
      ],
      "metadata": {
        "id": "iRTp_NLkuoHb"
      },
      "execution_count": null,
      "outputs": []
    },
    {
      "cell_type": "markdown",
      "source": [
        "## Cost Function for VQNHE which suitable in calling probability a lot"
      ],
      "metadata": {
        "id": "DAVKjEVOOWi4"
      }
    },
    {
      "cell_type": "code",
      "source": [
        "@cache\n",
        "def pqc_params(x0,x1,x2,x3,x4,x5,x6,x7,x8):\n",
        "\n",
        "  def cost_func_vqe(params, ansatz, hamiltonian, estimator):\n",
        "    cost = estimator.run(ansatz, hamiltonian, parameter_values=params, shots=8000, seed=1).result()\n",
        "    return cost.values[0]\n",
        "\n",
        "\n",
        "  def build_callback_vqe(ansatz, hamiltonian, estimator, callback_dict):\n",
        "    def callback(current_vector):\n",
        "      callback_dict_vqe[\"iters\"] += 1\n",
        "      callback_dict_vqe[\"prev_vector\"] = current_vector\n",
        "      current_cost_vqe = cost_func_vqe(current_vector, ansatz, hamiltonian, estimator)\n",
        "\n",
        "      callback_dict_vqe[\"cost_history\"].append(current_cost_vqe)\n",
        "\n",
        "      print(\n",
        "        \"Iters. done: {} [Current cost: {}]\".format(callback_dict_vqe[\"iters\"], current_cost_vqe),\n",
        "        end=\"\\r\",\n",
        "        flush=True,\n",
        "      )\n",
        "\n",
        "    return callback\n",
        "\n",
        "\n",
        "  x_pqc_0 = np.array([x0,x1,x2,x3,x4,x5,x6,x7,x8])\n",
        "\n",
        "  callback_dict_vqe = {\n",
        "    \"prev_vector\": None,\n",
        "    \"iters\": 0,\n",
        "    \"cost_history\": [],\n",
        "  }\n",
        "\n",
        "  options = dict()\n",
        "  options[\"maxiter\"] = 50000\n",
        "  options[\"disp\"] = True\n",
        "\n",
        "  callback_vqe = build_callback_vqe(ansatz, hamiltonian, estimator, callback_dict_vqe)\n",
        "  res = minimize(\n",
        "    cost_func_vqe,\n",
        "    x_pqc_0,\n",
        "    args=(ansatz, hamiltonian, estimator),\n",
        "    method=\"cobyla\",\n",
        "    callback=callback_vqe,\n",
        "    options=options\n",
        "  )\n",
        "\n",
        "  params_pqc = res.x\n",
        "\n",
        "  return params_pqc"
      ],
      "metadata": {
        "id": "kfcXin76OWjD"
      },
      "execution_count": null,
      "outputs": []
    },
    {
      "cell_type": "code",
      "source": [
        "@cache\n",
        "def prob_string_zz(x0,x1,x2,x3,x4,x5,x6,x7,x8):\n",
        "  params_pqc = pqc_params(x0,x1,x2,x3,x4,x5,x6,x7,x8)\n",
        "  job = sampler.run(ansatz_zz, params_pqc, shots=8000, seed=1).result()\n",
        "  prob_string = job.quasi_dists[0]\n",
        "\n",
        "  for i in range(32):\n",
        "   if not (i in prob_string):  prob_string[i] = 0\n",
        "\n",
        "  return prob_string\n",
        "\n",
        "\n",
        "@cache\n",
        "def prob_string_x0(x0,x1,x2,x3,x4,x5,x6,x7,x8):\n",
        "  params_pqc = pqc_params(x0,x1,x2,x3,x4,x5,x6,x7,x8)\n",
        "  job = sampler.run(ansatz_x0, params_pqc, shots=8000, seed=1).result()\n",
        "  prob_string = job.quasi_dists[0]\n",
        "\n",
        "  for i in range(32):\n",
        "   if not (i in prob_string):  prob_string[i] = 0\n",
        "\n",
        "  return prob_string\n",
        "\n",
        "\n",
        "@cache\n",
        "def prob_string_x1(x0,x1,x2,x3,x4,x5,x6,x7,x8):\n",
        "  params_pqc = pqc_params(x0,x1,x2,x3,x4,x5,x6,x7,x8)\n",
        "  job = sampler.run(ansatz_x1, params_pqc, shots=8000, seed=1).result()\n",
        "  prob_string = job.quasi_dists[0]\n",
        "\n",
        "  for i in range(32):\n",
        "   if not (i in prob_string):  prob_string[i] = 0\n",
        "\n",
        "  return prob_string\n",
        "\n",
        "\n",
        "@cache\n",
        "def prob_string_x2(x0,x1,x2,x3,x4,x5,x6,x7,x8):\n",
        "  params_pqc = pqc_params(x0,x1,x2,x3,x4,x5,x6,x7,x8)\n",
        "  job = sampler.run(ansatz_x2, params_pqc, shots=8000, seed=1).result()\n",
        "  prob_string = job.quasi_dists[0]\n",
        "\n",
        "  for i in range(32):\n",
        "   if not (i in prob_string):  prob_string[i] = 0\n",
        "\n",
        "  return prob_string\n",
        "\n",
        "\n",
        "@cache\n",
        "def prob_string_x3(x0,x1,x2,x3,x4,x5,x6,x7,x8):\n",
        "  params_pqc = pqc_params(x0,x1,x2,x3,x4,x5,x6,x7,x8)\n",
        "  job = sampler.run(ansatz_x3, params_pqc, shots=8000, seed=1).result()\n",
        "  prob_string = job.quasi_dists[0]\n",
        "\n",
        "  for i in range(32):\n",
        "   if not (i in prob_string):  prob_string[i] = 0\n",
        "\n",
        "  return prob_string\n",
        "\n",
        "\n",
        "@cache\n",
        "def prob_string_x4(x0,x1,x2,x3,x4,x5,x6,x7,x8):\n",
        "  params_pqc = pqc_params(x0,x1,x2,x3,x4,x5,x6,x7,x8)\n",
        "  job = sampler.run(ansatz_x4, params_pqc, shots=8000, seed=1).result()\n",
        "  prob_string = job.quasi_dists[0]\n",
        "\n",
        "  for i in range(32):\n",
        "   if not (i in prob_string):  prob_string[i] = 0\n",
        "\n",
        "  return prob_string"
      ],
      "metadata": {
        "id": "NR7JZi0hOWjD"
      },
      "execution_count": null,
      "outputs": []
    },
    {
      "cell_type": "code",
      "source": [
        "def Z0Z1(params_nn, x_pqc_0):\n",
        "  prob_string = prob_string_zz(x_pqc_0[0],x_pqc_0[1],x_pqc_0[2],x_pqc_0[3],x_pqc_0[4],x_pqc_0[5],x_pqc_0[6],x_pqc_0[7],x_pqc_0[8])\n",
        "  nnval = np.array([(neural_net(params_nn, d2b(j)))**2 for j in range(32)])\n",
        "\n",
        "  expval = 0\n",
        "\n",
        "  for k in range(32):\n",
        "    if k // 8 == 0 or k // 8 == 3:\n",
        "      expval = expval + prob_string[k]*nnval[k]\n",
        "    if k // 8 == 1 or k // 8 == 2:\n",
        "      expval = expval - prob_string[k]*nnval[k]\n",
        "\n",
        "  return expval\n",
        "\n",
        "\n",
        "def Z1Z2(params_nn, x_pqc_0):\n",
        "  prob_string = prob_string_zz(x_pqc_0[0],x_pqc_0[1],x_pqc_0[2],x_pqc_0[3],x_pqc_0[4],x_pqc_0[5],x_pqc_0[6],x_pqc_0[7],x_pqc_0[8])\n",
        "  nnval = np.array([(neural_net(params_nn, d2b(j)))**2 for j in range(32)])\n",
        "\n",
        "  expval = 0\n",
        "\n",
        "  for k in range(32):\n",
        "    if k // 4 == 0 or k // 4 == 3 or k // 4 == 4 or k // 4 == 7:\n",
        "      expval = expval + prob_string[k]*nnval[k]\n",
        "    if k // 4 == 1 or k // 4 == 2 or k // 4 == 5 or k // 4 == 6:\n",
        "      expval = expval - prob_string[k]*nnval[k]\n",
        "\n",
        "  return expval\n",
        "\n",
        "\n",
        "def Z2Z3(params_nn, x_pqc_0):\n",
        "  prob_string = prob_string_zz(x_pqc_0[0],x_pqc_0[1],x_pqc_0[2],x_pqc_0[3],x_pqc_0[4],x_pqc_0[5],x_pqc_0[6],x_pqc_0[7],x_pqc_0[8])\n",
        "  nnval = np.array([(neural_net(params_nn, d2b(j)))**2 for j in range(32)])\n",
        "\n",
        "  expval = 0\n",
        "\n",
        "  for k in range(32):\n",
        "    if k % 8 == 0 or k % 8 == 1 or k % 8 == 6 or k % 8 == 7:\n",
        "      expval = expval + prob_string[k]*nnval[k]\n",
        "    if k % 8 == 2 or k % 8 == 3 or k % 8 == 4 or k % 8 == 5:\n",
        "      expval = expval - prob_string[k]*nnval[k]\n",
        "\n",
        "  return expval\n",
        "\n",
        "\n",
        "def Z3Z4(params_nn, x_pqc_0):\n",
        "  prob_string = prob_string_zz(x_pqc_0[0],x_pqc_0[1],x_pqc_0[2],x_pqc_0[3],x_pqc_0[4],x_pqc_0[5],x_pqc_0[6],x_pqc_0[7],x_pqc_0[8])\n",
        "  nnval = np.array([(neural_net(params_nn, d2b(j)))**2 for j in range(32)])\n",
        "\n",
        "  expval = 0\n",
        "\n",
        "  for k in range(32):\n",
        "    if k % 4 == 0 or k % 4 == 3:\n",
        "      expval = expval + prob_string[k]*nnval[k]\n",
        "    else:\n",
        "      expval = expval - prob_string[k]*nnval[k]\n",
        "\n",
        "  return expval"
      ],
      "metadata": {
        "id": "pDPL2j39OWjD"
      },
      "execution_count": null,
      "outputs": []
    },
    {
      "cell_type": "code",
      "source": [
        "def X0(params_nn, x_pqc_0):\n",
        "  prob_string = prob_string_x0(x_pqc_0[0],x_pqc_0[1],x_pqc_0[2],x_pqc_0[3],x_pqc_0[4],x_pqc_0[5],x_pqc_0[6],x_pqc_0[7],x_pqc_0[8])\n",
        "  nnval = np.array([neural_net(params_nn, d2b(j)) for j in range(32)])\n",
        "\n",
        "  expval = 0\n",
        "\n",
        "  for k in range(16):\n",
        "    delt = prob_string[k] - prob_string[k+16]\n",
        "    expval = expval + delt*nnval[k]*nnval[k+16]\n",
        "\n",
        "  return expval\n",
        "\n",
        "\n",
        "def X1(params_nn, x_pqc_0):\n",
        "  prob_string = prob_string_x1(x_pqc_0[0],x_pqc_0[1],x_pqc_0[2],x_pqc_0[3],x_pqc_0[4],x_pqc_0[5],x_pqc_0[6],x_pqc_0[7],x_pqc_0[8])\n",
        "  nnval = np.array([neural_net(params_nn, d2b(j)) for j in range(32)])\n",
        "\n",
        "  expval = 0\n",
        "\n",
        "  for k in range(8):\n",
        "    delt = prob_string[k] - prob_string[k+8]\n",
        "    expval = expval + delt*nnval[k]*nnval[k+8]\n",
        "\n",
        "  for k in range(16,24,1):\n",
        "    delt = prob_string[k] - prob_string[k+8]\n",
        "    expval = expval + delt*nnval[k]*nnval[k+8]\n",
        "\n",
        "  return expval\n",
        "\n",
        "\n",
        "def X2(params_nn, x_pqc_0):\n",
        "  prob_string = prob_string_x2(x_pqc_0[0],x_pqc_0[1],x_pqc_0[2],x_pqc_0[3],x_pqc_0[4],x_pqc_0[5],x_pqc_0[6],x_pqc_0[7],x_pqc_0[8])\n",
        "  nnval = np.array([neural_net(params_nn, d2b(j)) for j in range(32)])\n",
        "\n",
        "  expval = 0\n",
        "\n",
        "  for k in range(4):\n",
        "    delt = prob_string[k] - prob_string[k+4]\n",
        "    expval = expval + delt*nnval[k]*nnval[k+4]\n",
        "\n",
        "  for k in range(8,12,1):\n",
        "    delt = prob_string[k] - prob_string[k+4]\n",
        "    expval = expval + delt*nnval[k]*nnval[k+4]\n",
        "\n",
        "  for k in range(16,20,1):\n",
        "    delt = prob_string[k] - prob_string[k+4]\n",
        "    expval = expval + delt*nnval[k]*nnval[k+4]\n",
        "\n",
        "  for k in range(24,28,1):\n",
        "    delt = prob_string[k] - prob_string[k+4]\n",
        "    expval = expval + delt*nnval[k]*nnval[k+4]\n",
        "\n",
        "  return expval\n",
        "\n",
        "\n",
        "def X3(params_nn, x_pqc_0):\n",
        "  prob_string = prob_string_x3(x_pqc_0[0],x_pqc_0[1],x_pqc_0[2],x_pqc_0[3],x_pqc_0[4],x_pqc_0[5],x_pqc_0[6],x_pqc_0[7],x_pqc_0[8])\n",
        "  nnval = np.array([neural_net(params_nn, d2b(j)) for j in range(32)])\n",
        "\n",
        "  expval = 0\n",
        "\n",
        "  for k in range(0,32,4):\n",
        "    expval = expval + (prob_string[k] - prob_string[k+2])*nnval[k]*nnval[k+2]\n",
        "    expval = expval + (prob_string[k+1] - prob_string[k+3])*nnval[k+1]*nnval[k+3]\n",
        "\n",
        "  return expval\n",
        "\n",
        "\n",
        "def X4(params_nn, x_pqc_0):\n",
        "  prob_string = prob_string_x4(x_pqc_0[0],x_pqc_0[1],x_pqc_0[2],x_pqc_0[3],x_pqc_0[4],x_pqc_0[5],x_pqc_0[6],x_pqc_0[7],x_pqc_0[8])\n",
        "  nnval = np.array([neural_net(params_nn, d2b(j)) for j in range(32)])\n",
        "\n",
        "  expval = 0\n",
        "\n",
        "  for k in range(0,32,2):\n",
        "    expval = expval + (prob_string[k] - prob_string[k+1])*nnval[k]*nnval[k+1]\n",
        "\n",
        "  return expval"
      ],
      "metadata": {
        "id": "xuMhTzgDOWjD"
      },
      "execution_count": null,
      "outputs": []
    },
    {
      "cell_type": "code",
      "source": [
        "def norm(params_nn, x_pqc_0):\n",
        "  prob_string = prob_string_zz(x_pqc_0[0],x_pqc_0[1],x_pqc_0[2],x_pqc_0[3],x_pqc_0[4],x_pqc_0[5],x_pqc_0[6],x_pqc_0[7],x_pqc_0[8])\n",
        "  nnval = np.array([(neural_net(params_nn, d2b(j)))**2 for j in range(32)])\n",
        "\n",
        "  expval = 0\n",
        "\n",
        "  for k in range(32):\n",
        "    expval = expval + prob_string[k]*nnval[k]\n",
        "\n",
        "  return expval"
      ],
      "metadata": {
        "id": "mBWs8RUmOWjD"
      },
      "execution_count": null,
      "outputs": []
    },
    {
      "cell_type": "code",
      "source": [
        "def cost_func_vqnhe(params_nn, x_pqc_0):\n",
        "  expval = 0\n",
        "  expval = expval + Z0Z1(params_nn, x_pqc_0)\n",
        "  expval = expval + Z1Z2(params_nn, x_pqc_0)\n",
        "  expval = expval + Z2Z3(params_nn, x_pqc_0)\n",
        "  expval = expval + Z3Z4(params_nn, x_pqc_0)\n",
        "\n",
        "  expval = expval - X0(params_nn, x_pqc_0)\n",
        "  expval = expval - X1(params_nn, x_pqc_0)\n",
        "  expval = expval - X2(params_nn, x_pqc_0)\n",
        "  expval = expval - X3(params_nn, x_pqc_0)\n",
        "  expval = expval - X4(params_nn, x_pqc_0)\n",
        "\n",
        "  expval = expval / norm(params_nn, x_pqc_0)\n",
        "\n",
        "  return expval"
      ],
      "metadata": {
        "id": "omK7P142OWjD"
      },
      "execution_count": null,
      "outputs": []
    },
    {
      "cell_type": "code",
      "source": [
        "def build_callback_vqnhe(x_pqc_0, callback_dict):\n",
        "  def callback(current_vector):\n",
        "    callback_dict[\"iters\"] += 1\n",
        "    callback_dict[\"prev_vector\"] = current_vector\n",
        "    current_cost = cost_func_vqnhe(current_vector, x_pqc_0)\n",
        "\n",
        "    callback_dict[\"cost_history\"].append(current_cost)\n",
        "\n",
        "    print(\n",
        "      \"Iters. done: {} [Current cost: {}]\".format(callback_dict[\"iters\"], current_cost),\n",
        "      end=\"\\r\",\n",
        "      flush=True,\n",
        "    )\n",
        "\n",
        "  return callback"
      ],
      "metadata": {
        "id": "35UwAFozOWjD"
      },
      "execution_count": null,
      "outputs": []
    },
    {
      "cell_type": "markdown",
      "source": [
        "## 2nd Step : Opmitizing Parameters in NN"
      ],
      "metadata": {
        "id": "mIMIoweGuD3Y"
      }
    },
    {
      "cell_type": "code",
      "source": [
        "@cache\n",
        "def pqc_params(x0,x1,x2,x3,x4,x5,x6,x7,x8):\n",
        "\n",
        "  def cost_func_vqe(params, ansatz, hamiltonian, estimator):\n",
        "    cost = estimator.run(ansatz, hamiltonian, parameter_values=params).result()\n",
        "    return cost.values[0]\n",
        "\n",
        "\n",
        "  def build_callback_vqe(ansatz, hamiltonian, estimator, callback_dict):\n",
        "    def callback(current_vector):\n",
        "      callback_dict_vqe[\"iters\"] += 1\n",
        "      callback_dict_vqe[\"prev_vector\"] = current_vector\n",
        "      current_cost_vqe = cost_func_vqe(current_vector, ansatz, hamiltonian, estimator)\n",
        "\n",
        "      callback_dict_vqe[\"cost_history\"].append(current_cost_vqe)\n",
        "\n",
        "      print(\n",
        "        \"Iters. done: {} [Current cost: {}]\".format(callback_dict_vqe[\"iters\"], current_cost_vqe),\n",
        "        end=\"\\r\",\n",
        "        flush=True,\n",
        "      )\n",
        "\n",
        "    return callback\n",
        "\n",
        "\n",
        "  x_pqc_0 = np.array([x0,x1,x2,x3,x4,x5,x6,x7,x8])\n",
        "\n",
        "  callback_dict_vqe = {\n",
        "    \"prev_vector\": None,\n",
        "    \"iters\": 0,\n",
        "    \"cost_history\": [],\n",
        "  }\n",
        "\n",
        "  options = dict()\n",
        "  options[\"maxiter\"] = 50000\n",
        "  options[\"disp\"] = True\n",
        "\n",
        "  callback_vqe = build_callback_vqe(ansatz, hamiltonian, estimator, callback_dict_vqe)\n",
        "  res = minimize(\n",
        "    cost_func_vqe,\n",
        "    x_pqc_0,\n",
        "    args=(ansatz, hamiltonian, estimator),\n",
        "    method=\"cobyla\",\n",
        "    callback=callback_vqe,\n",
        "    options=options\n",
        "  )\n",
        "\n",
        "  params_pqc = res.x\n",
        "\n",
        "  return params_pqc"
      ],
      "metadata": {
        "id": "4YxZz9bz4KAe"
      },
      "execution_count": null,
      "outputs": []
    },
    {
      "cell_type": "code",
      "source": [
        "@cache\n",
        "def prob_string_zz(x0,x1,x2,x3,x4,x5,x6,x7,x8):\n",
        "  params_pqc = pqc_params(x0,x1,x2,x3,x4,x5,x6,x7,x8)\n",
        "  job = sampler.run(ansatz_zz, params_pqc, shots=8000, seed=1).result()\n",
        "  prob_string = job.quasi_dists[0]\n",
        "\n",
        "  for i in range(32):\n",
        "   if not (i in prob_string):  prob_string[i] = 0\n",
        "\n",
        "  return prob_string\n",
        "\n",
        "\n",
        "@cache\n",
        "def prob_string_x0(x0,x1,x2,x3,x4,x5,x6,x7,x8):\n",
        "  params_pqc = pqc_params(x0,x1,x2,x3,x4,x5,x6,x7,x8)\n",
        "  job = sampler.run(ansatz_x0, params_pqc, shots=8000, seed=1).result()\n",
        "  prob_string = job.quasi_dists[0]\n",
        "\n",
        "  for i in range(32):\n",
        "   if not (i in prob_string):  prob_string[i] = 0\n",
        "\n",
        "  return prob_string\n",
        "\n",
        "\n",
        "@cache\n",
        "def prob_string_x1(x0,x1,x2,x3,x4,x5,x6,x7,x8):\n",
        "  params_pqc = pqc_params(x0,x1,x2,x3,x4,x5,x6,x7,x8)\n",
        "  job = sampler.run(ansatz_x1, params_pqc, shots=8000, seed=1).result()\n",
        "  prob_string = job.quasi_dists[0]\n",
        "\n",
        "  for i in range(32):\n",
        "   if not (i in prob_string):  prob_string[i] = 0\n",
        "\n",
        "  return prob_string\n",
        "\n",
        "\n",
        "@cache\n",
        "def prob_string_x2(x0,x1,x2,x3,x4,x5,x6,x7,x8):\n",
        "  params_pqc = pqc_params(x0,x1,x2,x3,x4,x5,x6,x7,x8)\n",
        "  job = sampler.run(ansatz_x2, params_pqc, shots=8000, seed=1).result()\n",
        "  prob_string = job.quasi_dists[0]\n",
        "\n",
        "  for i in range(32):\n",
        "   if not (i in prob_string):  prob_string[i] = 0\n",
        "\n",
        "  return prob_string\n",
        "\n",
        "\n",
        "@cache\n",
        "def prob_string_x3(x0,x1,x2,x3,x4,x5,x6,x7,x8):\n",
        "  params_pqc = pqc_params(x0,x1,x2,x3,x4,x5,x6,x7,x8)\n",
        "  job = sampler.run(ansatz_x3, params_pqc, shots=8000, seed=1).result()\n",
        "  prob_string = job.quasi_dists[0]\n",
        "\n",
        "  for i in range(32):\n",
        "   if not (i in prob_string):  prob_string[i] = 0\n",
        "\n",
        "  return prob_string\n",
        "\n",
        "\n",
        "@cache\n",
        "def prob_string_x4(x0,x1,x2,x3,x4,x5,x6,x7,x8):\n",
        "  params_pqc = pqc_params(x0,x1,x2,x3,x4,x5,x6,x7,x8)\n",
        "  job = sampler.run(ansatz_x4, params_pqc, shots=8000, seed=1).result()\n",
        "  prob_string = job.quasi_dists[0]\n",
        "\n",
        "  for i in range(32):\n",
        "   if not (i in prob_string):  prob_string[i] = 0\n",
        "\n",
        "  return prob_string"
      ],
      "metadata": {
        "id": "socIYmK_7mzo"
      },
      "execution_count": null,
      "outputs": []
    },
    {
      "cell_type": "code",
      "source": [
        "def Z0Z1(params_nn, x_pqc_0):\n",
        "  prob_string = prob_string_zz(x_pqc_0[0],x_pqc_0[1],x_pqc_0[2],x_pqc_0[3],x_pqc_0[4],x_pqc_0[5],x_pqc_0[6],x_pqc_0[7],x_pqc_0[8])\n",
        "  nnval = np.array([(neural_net(params_nn, d2b(j)))**2 for j in range(32)])\n",
        "\n",
        "  expval = 0\n",
        "\n",
        "  for k in range(32):\n",
        "    if k // 8 == 0 or k // 8 == 3:\n",
        "      expval = expval + prob_string[k]*nnval[k]\n",
        "    if k // 8 == 1 or k // 8 == 2:\n",
        "      expval = expval - prob_string[k]*nnval[k]\n",
        "\n",
        "  return expval\n",
        "\n",
        "\n",
        "def Z1Z2(params_nn, x_pqc_0):\n",
        "  prob_string = prob_string_zz(x_pqc_0[0],x_pqc_0[1],x_pqc_0[2],x_pqc_0[3],x_pqc_0[4],x_pqc_0[5],x_pqc_0[6],x_pqc_0[7],x_pqc_0[8])\n",
        "  nnval = np.array([(neural_net(params_nn, d2b(j)))**2 for j in range(32)])\n",
        "\n",
        "  expval = 0\n",
        "\n",
        "  for k in range(32):\n",
        "    if k // 4 == 0 or k // 4 == 3 or k // 4 == 4 or k // 4 == 7:\n",
        "      expval = expval + prob_string[k]*nnval[k]\n",
        "    if k // 4 == 1 or k // 4 == 2 or k // 4 == 5 or k // 4 == 6:\n",
        "      expval = expval - prob_string[k]*nnval[k]\n",
        "\n",
        "  return expval\n",
        "\n",
        "\n",
        "def Z2Z3(params_nn, x_pqc_0):\n",
        "  prob_string = prob_string_zz(x_pqc_0[0],x_pqc_0[1],x_pqc_0[2],x_pqc_0[3],x_pqc_0[4],x_pqc_0[5],x_pqc_0[6],x_pqc_0[7],x_pqc_0[8])\n",
        "  nnval = np.array([(neural_net(params_nn, d2b(j)))**2 for j in range(32)])\n",
        "\n",
        "  expval = 0\n",
        "\n",
        "  for k in range(32):\n",
        "    if k % 8 == 0 or k % 8 == 1 or k % 8 == 6 or k % 8 == 7:\n",
        "      expval = expval + prob_string[k]*nnval[k]\n",
        "    if k % 8 == 2 or k % 8 == 3 or k % 8 == 4 or k % 8 == 5:\n",
        "      expval = expval - prob_string[k]*nnval[k]\n",
        "\n",
        "  return expval\n",
        "\n",
        "\n",
        "def Z3Z4(params_nn, x_pqc_0):\n",
        "  prob_string = prob_string_zz(x_pqc_0[0],x_pqc_0[1],x_pqc_0[2],x_pqc_0[3],x_pqc_0[4],x_pqc_0[5],x_pqc_0[6],x_pqc_0[7],x_pqc_0[8])\n",
        "  nnval = np.array([(neural_net(params_nn, d2b(j)))**2 for j in range(32)])\n",
        "\n",
        "  expval = 0\n",
        "\n",
        "  for k in range(32):\n",
        "    if k % 4 == 0 or k % 4 == 3:\n",
        "      expval = expval + prob_string[k]*nnval[k]\n",
        "    else:\n",
        "      expval = expval - prob_string[k]*nnval[k]\n",
        "\n",
        "  return expval"
      ],
      "metadata": {
        "id": "yTIYFnSY9f7F"
      },
      "execution_count": null,
      "outputs": []
    },
    {
      "cell_type": "code",
      "source": [
        "def X0(params_nn, x_pqc_0):\n",
        "  prob_string = prob_string_x0(x_pqc_0[0],x_pqc_0[1],x_pqc_0[2],x_pqc_0[3],x_pqc_0[4],x_pqc_0[5],x_pqc_0[6],x_pqc_0[7],x_pqc_0[8])\n",
        "  nnval = np.array([neural_net(params_nn, d2b(j)) for j in range(32)])\n",
        "\n",
        "  expval = 0\n",
        "\n",
        "  for k in range(16):\n",
        "    delt = prob_string[k] - prob_string[k+16]\n",
        "    expval = expval + delt*nnval[k]*nnval[k+16]\n",
        "\n",
        "  return expval\n",
        "\n",
        "\n",
        "def X1(params_nn, x_pqc_0):\n",
        "  prob_string = prob_string_x1(x_pqc_0[0],x_pqc_0[1],x_pqc_0[2],x_pqc_0[3],x_pqc_0[4],x_pqc_0[5],x_pqc_0[6],x_pqc_0[7],x_pqc_0[8])\n",
        "  nnval = np.array([neural_net(params_nn, d2b(j)) for j in range(32)])\n",
        "\n",
        "  expval = 0\n",
        "\n",
        "  for k in range(8):\n",
        "    delt = prob_string[k] - prob_string[k+8]\n",
        "    expval = expval + delt*nnval[k]*nnval[k+8]\n",
        "\n",
        "  for k in range(16,24,1):\n",
        "    delt = prob_string[k] - prob_string[k+8]\n",
        "    expval = expval + delt*nnval[k]*nnval[k+8]\n",
        "\n",
        "  return expval\n",
        "\n",
        "\n",
        "def X2(params_nn, x_pqc_0):\n",
        "  prob_string = prob_string_x2(x_pqc_0[0],x_pqc_0[1],x_pqc_0[2],x_pqc_0[3],x_pqc_0[4],x_pqc_0[5],x_pqc_0[6],x_pqc_0[7],x_pqc_0[8])\n",
        "  nnval = np.array([neural_net(params_nn, d2b(j)) for j in range(32)])\n",
        "\n",
        "  expval = 0\n",
        "\n",
        "  for k in range(4):\n",
        "    delt = prob_string[k] - prob_string[k+4]\n",
        "    expval = expval + delt*nnval[k]*nnval[k+4]\n",
        "\n",
        "  for k in range(8,12,1):\n",
        "    delt = prob_string[k] - prob_string[k+4]\n",
        "    expval = expval + delt*nnval[k]*nnval[k+4]\n",
        "\n",
        "  for k in range(16,20,1):\n",
        "    delt = prob_string[k] - prob_string[k+4]\n",
        "    expval = expval + delt*nnval[k]*nnval[k+4]\n",
        "\n",
        "  for k in range(24,28,1):\n",
        "    delt = prob_string[k] - prob_string[k+4]\n",
        "    expval = expval + delt*nnval[k]*nnval[k+4]\n",
        "\n",
        "  return expval\n",
        "\n",
        "\n",
        "def X3(params_nn, x_pqc_0):\n",
        "  prob_string = prob_string_x3(x_pqc_0[0],x_pqc_0[1],x_pqc_0[2],x_pqc_0[3],x_pqc_0[4],x_pqc_0[5],x_pqc_0[6],x_pqc_0[7],x_pqc_0[8])\n",
        "  nnval = np.array([neural_net(params_nn, d2b(j)) for j in range(32)])\n",
        "\n",
        "  expval = 0\n",
        "\n",
        "  for k in range(0,32,4):\n",
        "    expval = expval + (prob_string[k] - prob_string[k+2])*nnval[k]*nnval[k+2]\n",
        "    expval = expval + (prob_string[k+1] - prob_string[k+3])*nnval[k+1]*nnval[k+3]\n",
        "\n",
        "  return expval\n",
        "\n",
        "\n",
        "def X4(params_nn, x_pqc_0):\n",
        "  prob_string = prob_string_x4(x_pqc_0[0],x_pqc_0[1],x_pqc_0[2],x_pqc_0[3],x_pqc_0[4],x_pqc_0[5],x_pqc_0[6],x_pqc_0[7],x_pqc_0[8])\n",
        "  nnval = np.array([neural_net(params_nn, d2b(j)) for j in range(32)])\n",
        "\n",
        "  expval = 0\n",
        "\n",
        "  for k in range(0,32,2):\n",
        "    expval = expval + (prob_string[k] - prob_string[k+1])*nnval[k]*nnval[k+1]\n",
        "\n",
        "  return expval"
      ],
      "metadata": {
        "id": "g6FcgkL0-BR0"
      },
      "execution_count": null,
      "outputs": []
    },
    {
      "cell_type": "code",
      "source": [
        "def norm(params_nn, x_pqc_0):\n",
        "  prob_string = prob_string_zz(x_pqc_0[0],x_pqc_0[1],x_pqc_0[2],x_pqc_0[3],x_pqc_0[4],x_pqc_0[5],x_pqc_0[6],x_pqc_0[7],x_pqc_0[8])\n",
        "  nnval = np.array([(neural_net(params_nn, d2b(j)))**2 for j in range(32)])\n",
        "\n",
        "  expval = 0\n",
        "\n",
        "  for k in range(32):\n",
        "    expval = expval + prob_string[k]*nnval[k]\n",
        "\n",
        "  return expval"
      ],
      "metadata": {
        "id": "bWsYmjDD-muL"
      },
      "execution_count": null,
      "outputs": []
    },
    {
      "cell_type": "code",
      "source": [
        "def cost_func_vqnhe(params_nn, x_pqc_0):\n",
        "  expval = 0\n",
        "  expval = expval + Z0Z1(params_nn, x_pqc_0)\n",
        "  expval = expval + Z1Z2(params_nn, x_pqc_0)\n",
        "  expval = expval + Z2Z3(params_nn, x_pqc_0)\n",
        "  expval = expval + Z3Z4(params_nn, x_pqc_0)\n",
        "\n",
        "  expval = expval - X0(params_nn, x_pqc_0)\n",
        "  expval = expval - X1(params_nn, x_pqc_0)\n",
        "  expval = expval - X2(params_nn, x_pqc_0)\n",
        "  expval = expval - X3(params_nn, x_pqc_0)\n",
        "  expval = expval - X4(params_nn, x_pqc_0)\n",
        "\n",
        "  expval = expval / norm(params_nn, x_pqc_0)\n",
        "\n",
        "  return expval"
      ],
      "metadata": {
        "id": "oMvfsT9c_Jfc"
      },
      "execution_count": null,
      "outputs": []
    },
    {
      "cell_type": "code",
      "source": [
        "def build_callback_vqnhe(x_pqc_0, callback_dict):\n",
        "  def callback(current_vector):\n",
        "    callback_dict[\"iters\"] += 1\n",
        "    callback_dict[\"prev_vector\"] = current_vector\n",
        "    current_cost = cost_func_vqnhe(current_vector, x_pqc_0)\n",
        "\n",
        "    callback_dict[\"cost_history\"].append(current_cost)\n",
        "\n",
        "    print(\n",
        "      \"Iters. done: {} [Current cost: {}]\".format(callback_dict[\"iters\"], current_cost),\n",
        "      end=\"\\r\",\n",
        "      flush=True,\n",
        "    )\n",
        "\n",
        "  return callback"
      ],
      "metadata": {
        "id": "koQUnbxz_feD"
      },
      "execution_count": null,
      "outputs": []
    },
    {
      "cell_type": "markdown",
      "source": [
        "## Repeat Optimizing Parameters in NN for 100 times\n",
        "\n",
        "np.random.seed(k)\n",
        "\n",
        "k 0~100"
      ],
      "metadata": {
        "id": "XrVLMgk0igqj"
      }
    },
    {
      "cell_type": "code",
      "source": [
        "local_minimum_list = []\n",
        "\n",
        "for k in range(100):\n",
        "\n",
        "  callback_dict = {\n",
        "    \"prev_vector\": None,\n",
        "    \"iters\": 0,\n",
        "    \"cost_history\": [],\n",
        "  }\n",
        "\n",
        "  np.random.seed(seed_list[k])\n",
        "  x_pqc_0 = 2*np.pi*np.random.random(9)\n",
        "\n",
        "  np.random.seed(k)\n",
        "  x0 = 2 * np.random.random(271) - 1\n",
        "\n",
        "  callback = build_callback_vqnhe(x_pqc_0, callback_dict)\n",
        "\n",
        "  options = dict()\n",
        "  options[\"maxiter\"] = 250\n",
        "  options[\"disp\"] = True\n",
        "\n",
        "  res = minimize(\n",
        "    cost_func_vqnhe,\n",
        "    x0,\n",
        "    args=(x_pqc_0),\n",
        "    method=\"bfgs\",\n",
        "    callback=callback,\n",
        "    options=options\n",
        "  )\n",
        "\n",
        "  local_minimum_dict = callback_dict[\"cost_history\"]\n",
        "  local_minimum_list.append(local_minimum_dict[-1])\n",
        "\n",
        "\n",
        "local_minimum_list = np.array(local_minimum_list)"
      ],
      "metadata": {
        "id": "uaq9Otlz7VO8",
        "colab": {
          "base_uri": "https://localhost:8080/"
        },
        "outputId": "ea120561-1658-4b30-c15b-d1bfb55141f9"
      },
      "execution_count": null,
      "outputs": [
        {
          "output_type": "stream",
          "name": "stdout",
          "text": [
            "Optimization terminated successfully.\n",
            "         Current function value: -6.026674\n",
            "         Iterations: 162\n",
            "         Function evaluations: 47872\n",
            "         Gradient evaluations: 176\n",
            "Optimization terminated successfully.\n",
            "         Current function value: -6.026674\n",
            "         Iterations: 117\n",
            "         Function evaluations: 34816\n",
            "         Gradient evaluations: 128\n"
          ]
        }
      ]
    },
    {
      "cell_type": "code",
      "source": [
        "local_minimum_list"
      ],
      "metadata": {
        "id": "fwluVQ5G8J79"
      },
      "execution_count": null,
      "outputs": []
    },
    {
      "cell_type": "markdown",
      "source": [
        "## Optimized Parameters"
      ],
      "metadata": {
        "id": "5NDSU3gpvITv"
      }
    },
    {
      "cell_type": "code",
      "source": [
        "# PQC optimized parameter\n",
        "\n",
        "op_param_pqc = np.array([ 5.80341424e+00,  5.88567382e+00,  6.68073582e+00,  5.80344341e+00,\n",
        "        4.71452869e+00,  3.13939431e+00,  7.85619779e+00, -2.12129562e-03,\n",
        "        1.57296580e+00])"
      ],
      "metadata": {
        "id": "loi1voyf5n4k"
      },
      "execution_count": null,
      "outputs": []
    },
    {
      "cell_type": "code",
      "source": [
        "## NN optimized parameter\n",
        "\n",
        "op_param_nn = np.array([-9.50863418e-01,  7.79899725e-02,  7.02867952e-01, -3.80272172e-01,\n",
        "        5.11024646e-01,  6.96638808e-01,  4.51210989e-02,  8.12588463e-01,\n",
        "        1.13930864e+00, -6.13227232e-01, -1.08269609e+00, -1.78306348e-02,\n",
        "       -6.93574331e-01,  9.19452683e-01, -4.99815510e-02,  2.87460393e-01,\n",
        "       -1.06066202e-01,  4.63964331e-01,  1.24180842e+00, -1.51679910e-01,\n",
        "       -6.65075105e-01, -2.58720554e-01,  1.69291662e-01, -2.53742942e-01,\n",
        "        8.40616898e-01,  5.09111139e-01, -9.78605967e-01, -5.77680911e-01,\n",
        "       -1.34731565e-01, -3.67089431e-01, -6.12570856e-02, -1.13443771e+00,\n",
        "        7.39235205e-01, -9.51609223e-01,  1.17646017e+00, -4.18339877e-01,\n",
        "       -5.27549064e-01, -6.30168944e-01, -7.25566274e-01, -3.38109749e-02,\n",
        "        3.83165832e-01,  3.98686355e-01, -3.30950011e-01,  6.22848238e-01,\n",
        "        8.72745546e-01,  4.95830155e-02, -1.03719679e+00, -2.81955843e-02,\n",
        "        6.84570089e-01, -3.15427858e-02,  4.22869802e-01,  4.24296044e-01,\n",
        "       -6.79560186e-01, -9.66055715e-01,  7.13048994e-01,  9.89449508e-02,\n",
        "       -8.48276992e-01,  7.68851429e-02, -4.65130766e-01,  9.50302066e-01,\n",
        "       -4.47868079e-01,  3.09240643e-01, -5.54879154e-01, -7.48112364e-01,\n",
        "       -2.00352151e-01,  8.48279217e-01,  8.95436722e-01, -7.54519892e-01,\n",
        "       -5.28986325e-01, -7.82572163e-01,  8.58328349e-01, -1.54703335e-05,\n",
        "        7.92772622e-01, -7.22647903e-01,  5.98417470e-01,  2.30410600e-01,\n",
        "       -4.19852716e-01, -6.15438268e-01, -5.35937102e-01,  5.63728140e-01,\n",
        "        1.06910000e+00,  4.32223252e-01,  4.36750285e-01, -2.42659053e-01,\n",
        "        5.54929234e-01, -1.83404471e-01, -9.29453198e-01,  4.54104639e-01,\n",
        "        6.69319928e-01,  7.78969603e-01,  5.59939300e-01, -4.05705118e-01,\n",
        "        8.77711063e-01,  5.32954478e-01,  5.95477008e-01,  7.17154062e-02,\n",
        "        5.10122896e-01,  5.06823222e-01,  7.03178023e-01, -9.27906999e-01,\n",
        "        1.40394127e-01,  1.22723350e-01, -7.45160943e-01,  3.69852345e-01,\n",
        "        3.42172871e-01, -9.84678454e-01,  5.94127254e-01,  3.20386844e-01,\n",
        "        5.41645420e-02,  8.70211943e-01, -6.71195082e-01, -5.53326239e-01,\n",
        "        1.18936744e-01,  5.63323810e-01, -6.24957849e-01, -7.63576021e-01,\n",
        "        4.24761949e-01,  6.15626056e-01, -3.15753556e-01,  5.75881527e-01,\n",
        "       -6.46726698e-01, -1.28564748e-01, -9.21912507e-03,  3.65905484e-01,\n",
        "       -2.70241943e-01, -5.52058061e-02, -6.82171976e-01,  5.32724649e-01,\n",
        "        3.26820886e-01, -7.77046509e-01,  4.57963278e-03, -3.10402002e-01,\n",
        "       -9.11419249e-01,  9.16800222e-01,  6.47144634e-01, -5.59157923e-01,\n",
        "        3.11623118e-01,  6.13013573e-01,  2.19743975e-01, -6.05045376e-01,\n",
        "       -2.06098130e-01, -5.13317082e-01,  4.63090393e-01, -1.06187329e-01,\n",
        "       -6.84688459e-01,  2.01475494e-01, -7.13724709e-01, -8.13111021e-01,\n",
        "       -6.91510955e-02, -9.30067977e-01, -3.69628866e-01, -1.10039241e+00,\n",
        "        9.28783570e-01, -2.30521165e-01, -1.80420289e-01,  5.50513159e-01,\n",
        "       -3.28701044e-01,  2.35453330e-01, -2.76823929e-01,  7.45054543e-01,\n",
        "       -5.99916833e-01, -3.54484601e-02, -1.07605307e+00, -8.01590937e-01,\n",
        "        7.69790432e-01,  1.50487494e-01,  7.66773370e-01, -8.93707926e-01,\n",
        "        6.03694482e-01,  1.17136151e+00,  4.53894181e-01, -5.16147254e-01,\n",
        "        7.72323326e-03,  1.73774884e-02, -4.30934568e-01, -4.73110300e-01,\n",
        "        5.24816130e-01,  4.05911801e-01,  9.94246862e-01,  4.62809998e-01,\n",
        "        5.70880906e-01,  1.83439597e-01,  2.00148591e-01,  4.32406676e-02,\n",
        "        5.90182635e-01, -3.01872334e-01,  1.06178150e-01,  4.62526499e-01,\n",
        "        9.19707933e-01, -8.81140568e-01, -2.27855922e-01, -4.16126646e-02,\n",
        "        7.41585509e-01, -1.05824121e-01,  4.40811415e-01,  4.67507991e-01,\n",
        "       -6.21755122e-01, -6.43873622e-01, -8.85404313e-01, -2.31809982e-01,\n",
        "        3.76419272e-01,  1.17980125e+00, -6.46096339e-01,  4.26504446e-01,\n",
        "       -5.15365965e-01, -3.98079399e-01, -8.22055965e-01,  5.48256798e-01,\n",
        "       -1.00153407e+00,  2.33361567e-01, -3.36232546e-01, -3.50264939e-01,\n",
        "        5.18297906e-01, -4.23255748e-01, -2.91565344e-01, -7.31561755e-01,\n",
        "        7.82543157e-01,  7.01572051e-01, -7.75347400e-01, -6.52571893e-01,\n",
        "        8.93928642e-01,  4.20246597e-01, -9.31170403e-01,  9.32940405e-01,\n",
        "        3.98392056e-01, -5.31733748e-01,  6.22166404e-01,  3.35952671e-01,\n",
        "        4.16558759e-01,  1.64916037e-01,  3.98307508e-01,  6.11039296e-01,\n",
        "       -5.81646127e-01, -2.26213849e-01, -3.00975001e-01, -4.29164182e-02,\n",
        "       -7.88401196e-01,  3.01166637e-01, -3.61816186e-02,  4.54298386e-02,\n",
        "       -6.94878357e-01,  4.92329270e-01,  3.20231571e-01,  9.06044122e-01,\n",
        "       -1.15154467e-01,  2.27320222e-01,  5.68498326e-02, -5.91776573e-01,\n",
        "        3.11942934e-02, -1.05724555e-01, -6.64980827e-02, -4.88243939e-01,\n",
        "       -8.43452938e-01, -9.96272558e-01,  8.06327092e-01, -1.29704783e-02,\n",
        "        8.26845917e-01, -6.94828230e-01,  9.32283300e-01,  4.63014694e-01,\n",
        "       -8.88308636e-02, -5.83843452e-01, -5.90892523e-01,  2.15623443e-01,\n",
        "       -8.72070354e-01, -4.51780543e-01,  5.66587858e-02, -4.15828103e-01,\n",
        "        5.92836732e-01,  5.77877275e-01,  5.07768655e-01])"
      ],
      "metadata": {
        "id": "5cbRv0Oq5n19"
      },
      "execution_count": null,
      "outputs": []
    },
    {
      "cell_type": "markdown",
      "source": [
        "## Plot Result of VQNHE in Noiseless Simulator"
      ],
      "metadata": {
        "id": "Qdpy0AKdvXZg"
      }
    },
    {
      "cell_type": "markdown",
      "source": [
        "VQNHE Lowest Energy Configuration for 100 times"
      ],
      "metadata": {
        "id": "Jr4COCowxVsF"
      }
    },
    {
      "cell_type": "markdown",
      "source": [
        "[-6.02667373, -6.02667373, -6.02667368, -6.02667354, -5.8987224 , -5.97700928, -5.96536259, -6.02667368, -6.02667371, -5.94009695, -6.02667371, -6.02628084, -6.02667371, -5.89945393, -6.02667371, -5.95833590, -6.02667352, -6.02667373, -6.02667368, -5.9294343, -5.94016942, -6.0266737 , -6.02667358, -6.02667369, -5.97782861, -6.0266737 , -6.02667319, -5.97782869, -5.97782861, -5.97782857, -6.02667363, -6.02667367, -5.94801533, -5.97500441, -6.02667365, -6.02667369, -6.02659477, -6.01371031, -5.97701072, -5.89828085, -5.94063178, -5.94017144, -6.0266737 , -5.96536198, -6.02667369, -6.02642066, -6.02262504, -5.98140869, -6.02609303, -6.02667364, -5.947205, -6.022831, -6.026674, -6.026101, -5.969770, -6.025860, -6.02667367, -6.02113763, -6.0266737 , -6.0266737, -6.02667366, -6.02667368, -5.97976822, -5.89828149, -6.02158803, -6.02667372, -6.02034773, -6.02288384, -6.02152311, -6.02667373, -5.98259114, -6.02667355, -6.02667366, -6.02627895, -6.0262785, -5.94066224, -5.98265633, -6.02511394, -6.0266737 , -5.97075392, -5.91197141, -5.94014176, -5.96949375, -6.02667369, -6.02628083, -6.02628084, -5.93776153, -5.94066823,-5.9406369 , -6.02245133, -6.02667364, -6.02667368, -6.02667371, -6.02585885, -6.02667363, 6.02667372, -5.96536257, -5.93741276, -6.02667351, -6.02667368]"
      ],
      "metadata": {
        "id": "OKi27Fq-glrL"
      }
    },
    {
      "cell_type": "markdown",
      "source": [
        "VQE Lowest Energy Configuration for 100 times"
      ],
      "metadata": {
        "id": "QRNQJrDgxSE9"
      }
    },
    {
      "cell_type": "markdown",
      "source": [
        "[-5.82879886, -5.89649831, -5.89460313, -5.87216999, -5.89714665, -5.8970116,\n",
        "-5.82318112, -5.88723766, -5.87906279, -5.89633351, -5.89712631, -5.89706667, -5.89640049, -5.89686096, -5.84344741, -5.89722894, -5.89514208, -5.89722285, -5.89281514, -5.8954058 , -5.89660128, -5.89722463, -5.8262015 , -5.89560605, -5.83363386, -5.87957003, -5.82656423, -5.89196626, -5.82341307, -5.8972198 ,\n",
        "-5.82579769, -5.89274968, -5.89058962, -5.89571965, -5.89121954, -5.89066143, -5.89556185, -5.8294686 , -5.89500158, -5.88381387, -5.89720651, -5.86661138, -5.89703354, -5.8971071 , -5.89488588, -5.88977925, -5.89321505, -5.89655454, -5.89722776, -5.89703659, -5.8961525 , -5.89248345, -5.89678098, -5.89358845, -5.82619791, -5.88964449, -5.89599961, -5.89636862, -5.87624267, -5.89717557, -5.89514411, -5.83231881, -5.89722489, -5.89417956, -5.86522879, -5.89603463, -5.82299708, -5.89690459, -5.89513546, -5.88945447, -5.89701515, -5.89144585, -5.89279627, -5.89577581, -5.836521  , -5.88388422, -5.89711739, -5.84467668, -5.89351984, -5.89512836, -5.89677164, -5.87800257, -5.88000114, -5.83970428, -5.88410124, -5.86785946, -5.8962536 , -5.89717338, -5.84988649, -5.892418  , -5.88143104, -5.89473968, -5.89702307, -5.85915542, -5.89705331, -5.89717653, -5.89196071, -5.89641764, -5.88954192, -5.89643247]"
      ],
      "metadata": {
        "id": "pkS1JRCMxdXl"
      }
    },
    {
      "cell_type": "code",
      "source": [
        "vqnhe_minimum_list = np.array([-6.02667373, -6.02667373, -6.02667368, -6.02667354, -5.8987224 , -5.97700928,\n",
        "                                -5.96536259, -6.02667368, -6.02667371, -5.94009695, -6.02667371, -6.02628084,\n",
        "                                -6.02667371, -5.89945393, -6.02667371, -5.95833590, -6.02667352, -6.02667373,\n",
        "                                -6.02667368, -5.9294343, -5.94016942, -6.0266737 , -6.02667358, -6.02667369,\n",
        "                                -5.97782861, -6.0266737 , -6.02667319, -5.97782869, -5.97782861, -5.97782857,\n",
        "                                -6.02667363, -6.02667367, -5.94801533, -5.97500441, -6.02667365, -6.02667369,\n",
        "                                -6.02659477, -6.01371031, -5.97701072, -5.89828085, -5.94063178, -5.94017144,\n",
        "                                -6.0266737 , -5.96536198, -6.02667369, -6.02642066, -6.02262504, -5.98140869,\n",
        "                                -6.02609303, -6.02667364, -5.947205, -6.022831, -6.026674, -6.026101,\n",
        "                                -5.969770, -6.025860, -6.02667367, -6.02113763, -6.0266737 , -6.0266737,\n",
        "                                -6.02667366, -6.02667368, -5.97976822, -5.89828149, -6.02158803, -6.02667372,\n",
        "                                -6.02034773, -6.02288384, -6.02152311, -6.02667373, -5.98259114, -6.02667355,\n",
        "                                -6.02667366, -6.02627895, -6.0262785, -5.94066224, -5.98265633, -6.02511394,\n",
        "                                -6.0266737 , -5.97075392, -5.91197141, -5.94014176, -5.96949375, -6.02667369,\n",
        "                                -6.02628083, -6.02628084, -5.93776153, -5.94066823,-5.9406369 , -6.02245133,\n",
        "                                -6.02667364, -6.02667368, -6.02667371, -6.02585885, -6.02667363, -6.02667372,\n",
        "                                -5.96536257, -5.93741276, -6.02667351, -6.02667368])"
      ],
      "metadata": {
        "id": "ezIivfJD0yjR"
      },
      "execution_count": null,
      "outputs": []
    },
    {
      "cell_type": "code",
      "source": [
        "vqe_minimum_list = np.array([-5.82879886, -5.89649831, -5.89460313, -5.87216999, -5.89714665, -5.8970116,\n",
        "-5.82318112, -5.88723766, -5.87906279, -5.89633351, -5.89712631, -5.89706667,\n",
        "-5.89640049, -5.89686096, -5.84344741, -5.89722894, -5.89514208, -5.89722285,\n",
        "-5.89281514, -5.8954058 , -5.89660128, -5.89722463, -5.8262015 , -5.89560605,\n",
        "-5.83363386, -5.87957003, -5.82656423, -5.89196626, -5.82341307, -5.8972198 ,\n",
        "-5.82579769, -5.89274968, -5.89058962, -5.89571965, -5.89121954, -5.89066143,\n",
        "-5.89556185, -5.8294686 , -5.89500158, -5.88381387, -5.89720651, -5.86661138,\n",
        "-5.89703354, -5.8971071 , -5.89488588, -5.88977925, -5.89321505, -5.89655454,\n",
        "-5.89722776, -5.89703659, -5.8961525 , -5.89248345, -5.89678098, -5.89358845,\n",
        "-5.82619791, -5.88964449, -5.89599961, -5.89636862, -5.87624267, -5.89717557,\n",
        "-5.89514411, -5.83231881, -5.89722489, -5.89417956, -5.86522879, -5.89603463,\n",
        "-5.82299708, -5.89690459, -5.89513546, -5.88945447, -5.89701515, -5.89144585,\n",
        "-5.89279627, -5.89577581, -5.836521  , -5.88388422, -5.89711739, -5.84467668,\n",
        "-5.89351984, -5.89512836, -5.89677164, -5.87800257, -5.88000114, -5.83970428,\n",
        "-5.88410124, -5.86785946, -5.8962536 , -5.89717338, -5.84988649, -5.892418  ,\n",
        "-5.88143104, -5.89473968, -5.89702307, -5.85915542, -5.89705331, -5.89717653,\n",
        "-5.89196071, -5.89641764, -5.88954192, -5.89643247])"
      ],
      "metadata": {
        "id": "5fOVDrzXyi6l"
      },
      "execution_count": null,
      "outputs": []
    },
    {
      "cell_type": "code",
      "source": [
        "mean_vqnhe = np.mean(vqnhe_minimum_list)\n",
        "var_vqnhe = np.var(vqnhe_minimum_list)\n",
        "max_vqnhe = np.max(vqnhe_minimum_list)\n",
        "min_vqnhe = np.min(vqnhe_minimum_list)\n",
        "\n",
        "print(\"mean : {0}\".format(mean_vqnhe))\n",
        "print(\"variance : {0}\".format(var_vqnhe))\n",
        "print(\"maximum : {0}\".format(max_vqnhe))\n",
        "print(\"minimum : {0}\".format(min_vqnhe))\n",
        "print()\n",
        "print(vqnhe_minimum_list)"
      ],
      "metadata": {
        "colab": {
          "base_uri": "https://localhost:8080/"
        },
        "id": "d28YQEYS1CYi",
        "outputId": "c6084cfb-3e63-4efc-90af-c53211eadc10"
      },
      "execution_count": null,
      "outputs": [
        {
          "output_type": "stream",
          "name": "stdout",
          "text": [
            "mean : -5.999104296200001\n",
            "variance : 0.0015127281232598648\n",
            "maximum : -5.89828085\n",
            "minimum : -6.026674\n",
            "\n",
            "[-6.02667373 -6.02667373 -6.02667368 -6.02667354 -5.8987224  -5.97700928\n",
            " -5.96536259 -6.02667368 -6.02667371 -5.94009695 -6.02667371 -6.02628084\n",
            " -6.02667371 -5.89945393 -6.02667371 -5.9583359  -6.02667352 -6.02667373\n",
            " -6.02667368 -5.9294343  -5.94016942 -6.0266737  -6.02667358 -6.02667369\n",
            " -5.97782861 -6.0266737  -6.02667319 -5.97782869 -5.97782861 -5.97782857\n",
            " -6.02667363 -6.02667367 -5.94801533 -5.97500441 -6.02667365 -6.02667369\n",
            " -6.02659477 -6.01371031 -5.97701072 -5.89828085 -5.94063178 -5.94017144\n",
            " -6.0266737  -5.96536198 -6.02667369 -6.02642066 -6.02262504 -5.98140869\n",
            " -6.02609303 -6.02667364 -5.947205   -6.022831   -6.026674   -6.026101\n",
            " -5.96977    -6.02586    -6.02667367 -6.02113763 -6.0266737  -6.0266737\n",
            " -6.02667366 -6.02667368 -5.97976822 -5.89828149 -6.02158803 -6.02667372\n",
            " -6.02034773 -6.02288384 -6.02152311 -6.02667373 -5.98259114 -6.02667355\n",
            " -6.02667366 -6.02627895 -6.0262785  -5.94066224 -5.98265633 -6.02511394\n",
            " -6.0266737  -5.97075392 -5.91197141 -5.94014176 -5.96949375 -6.02667369\n",
            " -6.02628083 -6.02628084 -5.93776153 -5.94066823 -5.9406369  -6.02245133\n",
            " -6.02667364 -6.02667368 -6.02667371 -6.02585885 -6.02667363 -6.02667372\n",
            " -5.96536257 -5.93741276 -6.02667351 -6.02667368]\n"
          ]
        }
      ]
    },
    {
      "cell_type": "code",
      "source": [
        "mean_vqe = np.mean(vqe_minimum_list)\n",
        "var_vqe = np.var(vqe_minimum_list)\n",
        "max_vqe = np.max(vqe_minimum_list)\n",
        "min_vqe = np.min(vqe_minimum_list)\n",
        "\n",
        "print(\"mean : {0}\".format(mean_vqe))\n",
        "print(\"variance : {0}\".format(var_vqe))\n",
        "print(\"maximum : {0}\".format(max_vqe))\n",
        "print(\"minimum : {0}\".format(min_vqe))\n",
        "print()\n",
        "print(vqe_minimum_list)"
      ],
      "metadata": {
        "colab": {
          "base_uri": "https://localhost:8080/"
        },
        "id": "RiM2aVcyv8TG",
        "outputId": "f6232bd0-5fe4-46fa-de1f-170ec43e3cca"
      },
      "execution_count": null,
      "outputs": [
        {
          "output_type": "stream",
          "name": "stdout",
          "text": [
            "mean : -5.8822224289000005\n",
            "variance : 0.0005472796114355233\n",
            "maximum : -5.82299708\n",
            "minimum : -5.89722894\n",
            "\n",
            "[-5.82879886 -5.89649831 -5.89460313 -5.87216999 -5.89714665 -5.8970116\n",
            " -5.82318112 -5.88723766 -5.87906279 -5.89633351 -5.89712631 -5.89706667\n",
            " -5.89640049 -5.89686096 -5.84344741 -5.89722894 -5.89514208 -5.89722285\n",
            " -5.89281514 -5.8954058  -5.89660128 -5.89722463 -5.8262015  -5.89560605\n",
            " -5.83363386 -5.87957003 -5.82656423 -5.89196626 -5.82341307 -5.8972198\n",
            " -5.82579769 -5.89274968 -5.89058962 -5.89571965 -5.89121954 -5.89066143\n",
            " -5.89556185 -5.8294686  -5.89500158 -5.88381387 -5.89720651 -5.86661138\n",
            " -5.89703354 -5.8971071  -5.89488588 -5.88977925 -5.89321505 -5.89655454\n",
            " -5.89722776 -5.89703659 -5.8961525  -5.89248345 -5.89678098 -5.89358845\n",
            " -5.82619791 -5.88964449 -5.89599961 -5.89636862 -5.87624267 -5.89717557\n",
            " -5.89514411 -5.83231881 -5.89722489 -5.89417956 -5.86522879 -5.89603463\n",
            " -5.82299708 -5.89690459 -5.89513546 -5.88945447 -5.89701515 -5.89144585\n",
            " -5.89279627 -5.89577581 -5.836521   -5.88388422 -5.89711739 -5.84467668\n",
            " -5.89351984 -5.89512836 -5.89677164 -5.87800257 -5.88000114 -5.83970428\n",
            " -5.88410124 -5.86785946 -5.8962536  -5.89717338 -5.84988649 -5.892418\n",
            " -5.88143104 -5.89473968 -5.89702307 -5.85915542 -5.89705331 -5.89717653\n",
            " -5.89196071 -5.89641764 -5.88954192 -5.89643247]\n"
          ]
        }
      ]
    },
    {
      "cell_type": "markdown",
      "source": [
        "# VQE, VQNHE Data & Figure"
      ],
      "metadata": {
        "id": "rtrj74lvyiy1"
      }
    },
    {
      "cell_type": "code",
      "source": [
        "import numpy as np\n",
        "\n",
        "vqe_noiseless = np.array([-5.82879886, -5.89649831, -5.89460313, -5.87216999, -5.89714665, -5.8970116, -5.82318112, -5.88723766, -5.87906279, -5.89633351, -5.89712631, -5.89706667, -5.89640049, -5.89686096, -5.84344741, -5.89722894, -5.89514208, -5.89722285, -5.89281514, -5.8954058 , -5.89660128, -5.89722463, -5.8262015 , -5.89560605, -5.83363386, -5.87957003, -5.82656423, -5.89196626, -5.82341307, -5.8972198 , -5.82579769, -5.89274968, -5.89058962, -5.89571965, -5.89121954, -5.89066143, -5.89556185, -5.8294686 , -5.89500158, -5.88381387, -5.89720651, -5.86661138, -5.89703354, -5.8971071 , -5.89488588, -5.88977925, -5.89321505, -5.89655454, -5.89722776, -5.89703659, -5.8961525 , -5.89248345, -5.89678098, -5.89358845, -5.82619791, -5.88964449, -5.89599961, -5.89636862, -5.87624267, -5.89717557, -5.89514411, -5.83231881, -5.89722489, -5.89417956, -5.86522879, -5.89603463, -5.82299708, -5.89690459, -5.89513546, -5.88945447, -5.89701515, -5.89144585, -5.89279627, -5.89577581, -5.836521 , -5.88388422, -5.89711739, -5.84467668, -5.89351984, -5.89512836, -5.89677164, -5.87800257, -5.88000114, -5.83970428, -5.88410124, -5.86785946, -5.8962536 , -5.89717338, -5.84988649, -5.892418 , -5.88143104, -5.89473968, -5.89702307, -5.85915542, -5.89705331, -5.89717653, -5.89196071, -5.89641764, -5.88954192, -5.89643247])\n",
        "\n",
        "vqe_bitflip_1 = np.array([-5.606, -5.71875, -5.60175, -5.698, -5.78125, -5.767, -5.5845, -5.645, -5.69425, -5.51475, -5.56775, -5.75575, -5.769, -5.57125, -5.64275, -5.74275, -5.5175, -5.7255, -5.666, -5.73625, -5.723, -5.7545, -5.6705, -5.60075, -5.52975, -5.6935, -5.61425, -5.6985, -5.69325, -5.6845, -5.73225, -5.72175, -5.6815, -5.31325, -5.7015, -5.70625, -5.68925, -5.738, -5.71325, -5.672, -5.66375, -5.618, -5.6725, -5.6015, -5.615, -5.7535, -5.52925, -5.767, -5.736, -5.7325, -5.647, -5.6445, -5.72275, -5.55, -5.67225, -5.68075, -5.7195, -5.6425, -5.7215, -5.60475, -5.72025, -5.709, -5.58275, -5.7115, -5.7125, -5.6935, -5.6955, -5.53825, -5.53225, -5.52125, -5.64025, -5.644, -5.7355, -5.6575, -5.6785, -5.56625, -5.762, -5.6985, -5.697, -5.63975, -5.61525, -5.68075, -5.76425, -5.7605, -5.699, -5.57325, -5.707, -5.57125, -5.74275, -5.68675, -5.4285, -5.7675, -5.76325, -5.6595, -5.71025, -5.66375, -5.6435, -5.726, -5.67075, -5.62425])\n",
        "\n",
        "vqe_depolarization_1 = np.array([-5.464, -5.5505, -5.50125, -5.64825, -5.70225, -5.70025, -5.43825, -5.57275, -5.4745, -5.6055, -5.66075, -5.692, -5.68175, -5.47775, -5.317, -5.67375, -5.529, -5.657, -5.55025, -5.46625, -5.69025, -5.67975, -5.631, -5.4515, -5.412, -5.6265, -5.53575, -5.43025, -5.5855, -5.4955, -5.6855, -5.6505, -5.672, -5.35175, -5.65225, -5.65475, -5.4135, -5.56525, -5.438, -5.6115, -5.5225, -5.52325, -5.55525, -5.501, -5.3635, -5.70075, -5.649, -5.7025, -5.4855, -5.625, -5.6135, -5.633, -5.43725, -5.46675, -5.6255, -5.704, -5.432, -5.55775, -5.686, -5.511, -5.4655, -5.68625, -5.5895, -5.5275, -5.5875, -5.432, -5.30525, -5.475, -5.6845, -5.6685, -5.56775, -5.686, -5.502, -5.615, -5.6445, -5.5425, -5.67275, -5.57275, -5.614, -5.57625, -5.68275, -5.572, -5.68975, -5.66025, -5.5175, -5.597, -5.653, -5.49375, -5.71, -5.3725, -5.61425, -5.67175, -5.671, -5.55375, -5.63675, -5.5605, -5.66775, -5.65575, -5.62475, -5.5515 ])\n",
        "\n",
        "vqe_cusco_0 = np.array([-5.06079102, -5.26391602, -5.17651367, -5.2253418 , -5.31274414, -5.31054688, -5.2878418 , -5.27050781, -5.28540039, -5.29614258])\n",
        "\n",
        "vqe_cusco_1 = np.array([-5.72749676, -5.72937777, -5.73962453, -5.7612482 , -5.68476149, -5.6843978 , -5.64541463, -5.76621523, -5.71810848, -5.76632458])\n",
        "\n",
        "vqe_cusco_2 = np.array([-5.69306641, -5.74666425, -5.69708356, -5.7189238 , -5.70712288, -5.67600891, -5.72470249, -5.74243537, -5.69886404, -5.62487282])\n",
        "\n",
        "vqe_cusco_3 = np.array([-6.22839352, -4.62640797, -6.19686491, -5.54156607, -5.65017652, -5.74497337, -6.03524048, -5.48405816, -5.61264108, -6.14861837])\n",
        "\n",
        "\n",
        "print(\"vqe_noiseless\")\n",
        "print(\"mean : {0}\".format(np.mean(vqe_noiseless)))\n",
        "print(\"stdev : {0}\".format(np.sqrt(np.var(vqe_noiseless))))\n",
        "print(\"maximum : {0}\".format(np.max(vqe_noiseless)))\n",
        "print(\"minimum : {0}\".format(np.min(vqe_noiseless)))\n",
        "print()\n",
        "print()\n",
        "\n",
        "\n",
        "print(\"vqe_bitflip_1\")\n",
        "print(\"mean : {0}\".format(np.mean(vqe_bitflip_1)))\n",
        "print(\"stdev : {0}\".format(np.sqrt(np.var(vqe_bitflip_1))))\n",
        "print(\"maximum : {0}\".format(np.max(vqe_bitflip_1)))\n",
        "print(\"minimum : {0}\".format(np.min(vqe_bitflip_1)))\n",
        "print()\n",
        "print()\n",
        "\n",
        "\n",
        "print(\"vqe_depolarization_1\")\n",
        "print(\"mean : {0}\".format(np.mean(vqe_depolarization_1)))\n",
        "print(\"stdev : {0}\".format(np.sqrt(np.var(vqe_depolarization_1))))\n",
        "print(\"maximum : {0}\".format(np.max(vqe_depolarization_1)))\n",
        "print(\"minimum : {0}\".format(np.min(vqe_depolarization_1)))\n",
        "print()\n",
        "print()\n",
        "\n",
        "\n",
        "print(\"vqe_cusco_0\")\n",
        "print(\"mean : {0}\".format(np.mean(vqe_cusco_0)))\n",
        "print(\"stdev : {0}\".format(np.sqrt(np.var(vqe_cusco_0))))\n",
        "print(\"maximum : {0}\".format(np.max(vqe_cusco_0)))\n",
        "print(\"minimum : {0}\".format(np.min(vqe_cusco_0)))\n",
        "print()\n",
        "print()\n",
        "\n",
        "\n",
        "print(\"vqe_cusco_1\")\n",
        "print(\"mean : {0}\".format(np.mean(vqe_cusco_1)))\n",
        "print(\"stdev : {0}\".format(np.sqrt(np.var(vqe_cusco_1))))\n",
        "print(\"maximum : {0}\".format(np.max(vqe_cusco_1)))\n",
        "print(\"minimum : {0}\".format(np.min(vqe_cusco_1)))\n",
        "print()\n",
        "print()\n",
        "\n",
        "\n",
        "print(\"vqe_cusco_2\")\n",
        "print(\"mean : {0}\".format(np.mean(vqe_cusco_2)))\n",
        "print(\"stdev : {0}\".format(np.sqrt(np.var(vqe_cusco_2))))\n",
        "print(\"maximum : {0}\".format(np.max(vqe_cusco_2)))\n",
        "print(\"minimum : {0}\".format(np.min(vqe_cusco_2)))\n",
        "print()\n",
        "print()\n",
        "\n",
        "\n",
        "print(\"vqe_cusco_3\")\n",
        "print(\"mean : {0}\".format(np.mean(vqe_cusco_3)))\n",
        "print(\"stdev : {0}\".format(np.sqrt(np.var(vqe_cusco_3))))\n",
        "print(\"maximum : {0}\".format(np.max(vqe_cusco_3)))\n",
        "print(\"minimum : {0}\".format(np.min(vqe_cusco_3)))\n",
        "print()\n",
        "print()"
      ],
      "metadata": {
        "id": "W-Esh1K0yhwp",
        "outputId": "fa466cf6-3de3-4ca0-bd58-2ee64509c9b9",
        "colab": {
          "base_uri": "https://localhost:8080/"
        }
      },
      "execution_count": null,
      "outputs": [
        {
          "output_type": "stream",
          "name": "stdout",
          "text": [
            "vqe_noiseless\n",
            "mean : -5.8822224289000005\n",
            "stdev : 0.023394008024182674\n",
            "maximum : -5.82299708\n",
            "minimum : -5.89722894\n",
            "\n",
            "\n",
            "vqe_bitflip_1\n",
            "mean : -5.665257499999999\n",
            "stdev : 0.07990144284523278\n",
            "maximum : -5.31325\n",
            "minimum : -5.78125\n",
            "\n",
            "\n",
            "vqe_depolarization_1\n",
            "mean : -5.5746225\n",
            "stdev : 0.09975300430939411\n",
            "maximum : -5.30525\n",
            "minimum : -5.71\n",
            "\n",
            "\n",
            "vqe_cusco_0\n",
            "mean : -5.2489746109999995\n",
            "stdev : 0.07404667190690961\n",
            "maximum : -5.06079102\n",
            "minimum : -5.31274414\n",
            "\n",
            "\n",
            "vqe_cusco_1\n",
            "mean : -5.722296947\n",
            "stdev : 0.038125528455826035\n",
            "maximum : -5.64541463\n",
            "minimum : -5.76632458\n",
            "\n",
            "\n",
            "vqe_cusco_2\n",
            "mean : -5.702974453000001\n",
            "stdev : 0.0334461269186218\n",
            "maximum : -5.62487282\n",
            "minimum : -5.74666425\n",
            "\n",
            "\n",
            "vqe_cusco_3\n",
            "mean : -5.726894045\n",
            "stdev : 0.45485764530500655\n",
            "maximum : -4.62640797\n",
            "minimum : -6.22839352\n",
            "\n",
            "\n"
          ]
        }
      ]
    },
    {
      "cell_type": "code",
      "source": [
        "import numpy as np\n",
        "\n",
        "vqnhe_noiseless = np.array([-6.02667373, -6.02667373, -6.02667368, -6.02667354, -5.8987224, -5.97700928, -5.96536259, -6.02667368, -6.02667371, -5.94009695, -6.02667371, -6.02628084, -6.02667371, -5.89945393, -6.02667371, -5.95833590, -6.02667352, -6.02667373, -6.02667368, -5.9294343, -5.94016942, -6.0266737 , -6.02667358, -6.02667369, -5.97782861, -6.0266737 , -6.02667319, -5.97782869, -5.97782861, -5.97782857, -6.02667363, -6.02667367, -5.94801533, -5.97500441, -6.02667365, -6.02667369, -6.02659477, -6.01371031, -5.97701072, -5.89828085, -5.94063178, -5.94017144, -6.0266737, -5.96536198, -6.02667369, -6.02642066, -6.02262504, -5.98140869, -6.02609303, -6.02667364, -5.947205, -6.022831, -6.026674, -6.026101, -5.969770, -6.025860, -6.02667367, -6.02113763, -6.0266737 , -6.0266737, -6.02667366, -6.02667368, -5.97976822, -5.89828149, -6.02158803, -6.02667372, -6.02034773, -6.02288384, -6.02152311, -6.02667373, -5.98259114, -6.02667355, -6.02667366, -6.02627895, -6.0262785, -5.94066224, -5.98265633, -6.02511394, -6.0266737 , -5.97075392, -5.91197141, -5.94014176, -5.96949375, -6.02667369, -6.02628083, -6.02628084, -5.93776153, -5.94066823, -5.9406369, -6.02245133, -6.02667364, -6.02667368, -6.02667371, -6.02585885, -6.02667363, -6.02667372, -5.96536257, -5.93741276, -6.02667351, -6.02667368])\n",
        "\n",
        "vqnhe_bitflip_1 = np.array([-5.8392458 , -5.87546176, -5.83924655, -5.8402692 , -5.94158523, -5.8751673 , -5.94158524, -5.94158525, -5.94158523, -5.78074357, -5.94158524, -5.94158525, -5.94158524, -5.77757292, -5.94145631, -5.93439034, -5.91385498, -5.94158136, -5.94158525, -5.77810274, -5.780743, -5.941585, -5.941585, -5.941585, -5.941503, -5.94158525, -5.78074364, -5.87516718, -5.88974625, -5.94158525, -5.9415852 , -5.93299599, -5.94158524, -5.90888822, -5.9316028 , -5.94158525, -5.9380279 , -5.80099864, -5.7535819 , -5.77514423, -5.90469022, -5.94158524, -5.94158523, -5.94158525, -5.83924657, -5.94158524, -5.93917358, -5.94154199, -5.84026916, -5.77825212, -5.93705511, -5.78074338, -5.94156212, -5.94158525, -5.93272868, -5.94158525, -5.94158525, -5.86214847, -5.941585 , -5.77816882, -5.81901766, -5.94148885, -5.82826786, -5.83924583, -5.77273822, -5.94158524, -5.84258761, -5.94158525, -5.9415604 , -5.93799288, -5.9415426 , -5.94158525, -5.94158525, -5.94158525, -5.931018 , -5.94158525, -5.78074152, -5.78067298, -5.94148651, -5.94158508, -5.7362738 , -5.91543312, -5.9085967 , -5.94137327, -5.94158525, -5.94158525, -5.78046066, -5.77821064, -5.94158511, -5.93933252, -5.78074348, -5.94158525, -5.94158525, -5.94158523, -5.94158523, -5.94158525, -5.87817228, -5.94137875, -5.79777723, -5.94155634])\n",
        "\n",
        "vqnhe_depolarization_1 = np.array([-5.9053623802295565, -5.905284848147373, -5.905211478978276, -5.895858287602114, -5.9053670725564595, -5.8043448004934834, -5.804216265436067, -5.9053671677560144, -5.752514185468417, -5.897287131337429, -5.90536716339884, -5.905367166698549, -5.905367169860917, -5.905366212511115, -5.904065368082751, -5.903511757937208, -5.902001867053614, -5.90536713629146, -5.905367170062944, -5.696496721765803, -5.752514690831475, -5.897556454107229, -5.905367157774968, -5.905367169035556, -5.835788569713097, -5.905367168407769, -5.892477704240274, -5.905366768357541, -5.713177433384576, -5.855618175239319, -5.905367132178551, -5.902231709331003, -5.897446083779941, -5.752514879860089, -5.89728312783902, -5.905367170026302, -5.751604752708811, -5.866904315858801, -5.897398650176224, -5.905367160053486, -5.905367141533028, -5.905367136958099, -5.897443379760443, -5.718947929766712, -5.801289565304456, -5.905359403128855, -5.896698642251029, -5.905367030164439, -5.905278886377779, -5.6827271876812695, -5.734734249353867, -5.9053623802295565, -5.905284848147373, -5.905211478978276, -5.895858287602114, -5.9053670725564595, -5.8043448004934834, -5.804216265436067, -5.9053671677560144, -5.752514185468417, -5.897287131337429, -5.90536716339884, -5.905367166698549, -5.905367169860917, -5.905366212511115, -5.904065368082751, -5.903511757937208, -5.902001867053614, -5.90536713629146, -5.905367170062944, -5.696496721765803, -5.752514690831475, -5.897556454107229, -5.905367157774968, -5.905367169035556, -5.835788569713097, -5.905367168407769, -5.892477704240274, -5.905366768357541, -5.713177433384576, -5.855618175239319, -5.905367132178551, -5.902231709331003, -5.897446083779941, -5.752514879860089, -5.89728312783902, -5.905367170026302, -5.751604752708811, -5.866904315858801, -5.897398650176224, -5.905367160053486, -5.905367141533028, -5.905367136958099, -5.897285675121541, -5.90528534171424, -5.89742821, -5.80434494, -5.70794607, -5.72243123, -5.90536717])\n",
        "\n",
        "vqnhe_cusco_0 = np.array([-5.77848119, -5.77848119, -5.71289339, -5.77848119, -5.77848119, -5.77848119, -5.77848119, -5.77848119, -5.77848119, -5.77848119])\n",
        "\n",
        "vqnhe_cusco_1 = np.array([-6.20387731, -6.19907682, -6.20387731, -6.19474288, -5.90438281, -5.90005932, -6.20387731, -6.20387731, -6.20387731, -5.75011618])\n",
        "\n",
        "\n",
        "print(\"vqnhe_noiseless\")\n",
        "print(\"mean : {0}\".format(np.mean(vqnhe_noiseless)))\n",
        "print(\"stdev : {0}\".format(np.sqrt(np.var(vqnhe_noiseless))))\n",
        "print(\"maximum : {0}\".format(np.max(vqnhe_noiseless)))\n",
        "print(\"minimum : {0}\".format(np.min(vqnhe_noiseless)))\n",
        "print()\n",
        "print()\n",
        "\n",
        "\n",
        "print(\"vqnhe_bitflip_1\")\n",
        "print(\"mean : {0}\".format(np.mean(vqnhe_bitflip_1)))\n",
        "print(\"stdev : {0}\".format(np.sqrt(np.var(vqnhe_bitflip_1))))\n",
        "print(\"maximum : {0}\".format(np.max(vqnhe_bitflip_1)))\n",
        "print(\"minimum : {0}\".format(np.min(vqnhe_bitflip_1)))\n",
        "print()\n",
        "print()\n",
        "\n",
        "\n",
        "print(\"vqnhe_depolarization_1\")\n",
        "print(\"mean : {0}\".format(np.mean(vqnhe_depolarization_1)))\n",
        "print(\"stdev : {0}\".format(np.sqrt(np.var(vqnhe_depolarization_1))))\n",
        "print(\"maximum : {0}\".format(np.max(vqnhe_depolarization_1)))\n",
        "print(\"minimum : {0}\".format(np.min(vqnhe_depolarization_1)))\n",
        "print()\n",
        "print()\n",
        "\n",
        "\n",
        "print(\"vqnhe_cusco_0\")\n",
        "print(\"mean : {0}\".format(np.mean(vqnhe_cusco_0)))\n",
        "print(\"stdev : {0}\".format(np.sqrt(np.var(vqnhe_cusco_0))))\n",
        "print(\"maximum : {0}\".format(np.max(vqnhe_cusco_0)))\n",
        "print(\"minimum : {0}\".format(np.min(vqnhe_cusco_0)))\n",
        "print()\n",
        "print()\n",
        "\n",
        "\n",
        "print(\"vqnhe_cusco_1\")\n",
        "print(\"mean : {0}\".format(np.mean(vqnhe_cusco_1)))\n",
        "print(\"stdev : {0}\".format(np.sqrt(np.var(vqnhe_cusco_1))))\n",
        "print(\"maximum : {0}\".format(np.max(vqnhe_cusco_1)))\n",
        "print(\"minimum : {0}\".format(np.min(vqnhe_cusco_1)))\n",
        "print()\n",
        "print()"
      ],
      "metadata": {
        "id": "2HRKupH-_Uu0",
        "outputId": "5ed32885-0d1d-408c-fb57-b450aaaecfa4",
        "colab": {
          "base_uri": "https://localhost:8080/"
        }
      },
      "execution_count": null,
      "outputs": [
        {
          "output_type": "stream",
          "name": "stdout",
          "text": [
            "vqnhe_noiseless\n",
            "mean : -5.999104296200001\n",
            "stdev : 0.038893805718389976\n",
            "maximum : -5.89828085\n",
            "minimum : -6.026674\n",
            "\n",
            "\n",
            "vqnhe_bitflip_1\n",
            "mean : -5.8948130873\n",
            "stdev : 0.06541499579938087\n",
            "maximum : -5.7362738\n",
            "minimum : -5.94158525\n",
            "\n",
            "\n",
            "vqnhe_depolarization_1\n",
            "mean : -5.864477587167517\n",
            "stdev : 0.06695136090668222\n",
            "maximum : -5.6827271876812695\n",
            "minimum : -5.905367170062944\n",
            "\n",
            "\n",
            "vqnhe_cusco_0\n",
            "mean : -5.77192241\n",
            "stdev : 0.01967634000000009\n",
            "maximum : -5.71289339\n",
            "minimum : -5.77848119\n",
            "\n",
            "\n",
            "vqnhe_cusco_1\n",
            "mean : -6.096776456000001\n",
            "stdev : 0.16531849349577882\n",
            "maximum : -5.75011618\n",
            "minimum : -6.20387731\n",
            "\n",
            "\n"
          ]
        }
      ]
    },
    {
      "cell_type": "code",
      "source": [
        "import matplotlib.pyplot as plt\n",
        "import numpy as np\n",
        "\n",
        "# Sample data to mimic the plot\n",
        "# Assuming there are two energy levels for each of the three categories\n",
        "categories = ['Noiseless simulator', 'Noisy simulator (bit flip channel, p=0.01)', 'Noisy simulator (depolarization channel, p=0.01)',\n",
        "              'IBM CUSCO (resilience_level=0)', 'IBM CUSCO (resilience_level=1)']\n",
        "methods = ['VQNHE', 'VQE']\n",
        "energies = {\n",
        "    'Noiseless simulator':                                {'VQNHE': (np.mean(vqnhe_noiseless), np.sqrt(np.var(vqnhe_noiseless))),'VQE': (np.mean(vqe_noiseless), np.sqrt(np.var(vqe_noiseless)))},\n",
        "    'Noisy simulator (bit flip channel, p=0.01)':         {'VQNHE': (np.mean(vqnhe_bitflip_1), np.sqrt(np.var(vqnhe_bitflip_1))), 'VQE': (np.mean(vqe_bitflip_1), np.sqrt(np.var(vqe_bitflip_1)))},\n",
        "    'Noisy simulator (depolarization channel, p=0.01)':   {'VQNHE': (np.mean(vqnhe_depolarization_1), np.sqrt(np.var(vqnhe_depolarization_1))), 'VQE': (np.mean(vqe_depolarization_1), np.sqrt(np.var(vqe_depolarization_1)))},\n",
        "    'IBM CUSCO (resilience_level=0)':                     {'VQNHE': (np.mean(vqnhe_cusco_0), np.sqrt(np.var(vqnhe_cusco_0))), 'VQE': (np.mean(vqe_cusco_0), np.sqrt(np.var(vqe_cusco_0)))},\n",
        "    'IBM CUSCO (resilience_level=1)':                     {'VQNHE': (np.mean(vqnhe_cusco_1), np.sqrt(np.var(vqnhe_cusco_1))), 'VQE': (np.mean(vqe_cusco_1), np.sqrt(np.var(vqe_cusco_1)))},\n",
        "}\n",
        "\n",
        "# Create figure and axes\n",
        "fig, ax = plt.subplots(figsize=(10, 5))\n",
        "\n",
        "# Plotting the data\n",
        "for i, category in enumerate(categories):\n",
        "    for j, method in enumerate(methods):\n",
        "        mean, error = energies[category][method]\n",
        "        marker = 'o' if method == 'VQE' else '^'\n",
        "        color = 'red' if method == 'VQE' else 'blue'\n",
        "        ax.errorbar(mean, i, xerr=error, fmt=marker, color=color, label=method if i == 0 else \"\")\n",
        "\n",
        "# Customizing the plot\n",
        "ax.set_yticks(range(len(categories)))\n",
        "ax.set_yticklabels(categories)\n",
        "ax.invert_yaxis()  # Invert y-axis to match the uploaded image\n",
        "ax.set_xlabel('E')\n",
        "ax.xaxis.grid(True)  # Add a grid on x-axis\n",
        "ax.set_xlim(-6.30, -5.10)  # Set the limit for x-axis to match the uploaded image\n",
        "\n",
        "# Add legend\n",
        "handles, labels = ax.get_legend_handles_labels()\n",
        "by_label = dict(zip(labels, handles))\n",
        "ax.legend(by_label.values(), by_label.keys())\n",
        "\n",
        "plt.tight_layout()\n",
        "plt.show()"
      ],
      "metadata": {
        "id": "Qj2bXGcv-_9m",
        "outputId": "6246ccf3-1a4e-4dc5-877b-577da5cf05de",
        "colab": {
          "base_uri": "https://localhost:8080/",
          "height": 507
        }
      },
      "execution_count": null,
      "outputs": [
        {
          "output_type": "display_data",
          "data": {
            "text/plain": [
              "<Figure size 1000x500 with 1 Axes>"
            ],
            "image/png": "[encoded data removed]"
          },
          "metadata": {}
        }
      ]
    },
    {
      "cell_type": "code",
      "source": [
        "import matplotlib.pyplot as plt\n",
        "import numpy as np\n",
        "\n",
        "# Sample data to mimic the plot\n",
        "# Assuming there are two energy levels for each of the three categories\n",
        "categories = ['IBM CUSCO (resilience_level=0)', 'IBM CUSCO (resilience_level=1)', 'IBM CUSCO (resilience_level=2)', 'IBM CUSCO (resilience_level=3)']\n",
        "methods = ['VQNHE', 'VQE']\n",
        "energies = {\n",
        "    'IBM CUSCO (resilience_level=0)': {'VQNHE': (np.mean(vqnhe_cusco_0), np.sqrt(np.var(vqnhe_cusco_0))), 'VQE': (np.mean(vqe_cusco_0), np.sqrt(np.var(vqe_cusco_0)))},\n",
        "    'IBM CUSCO (resilience_level=1)': {'VQNHE': (0, 0), 'VQE': (np.mean(vqe_cusco_1), np.sqrt(np.var(vqe_cusco_1)))},\n",
        "    'IBM CUSCO (resilience_level=2)': {'VQNHE': (0, 0), 'VQE': (np.mean(vqe_cusco_2), np.sqrt(np.var(vqe_cusco_2)))},\n",
        "    'IBM CUSCO (resilience_level=3)': {'VQNHE': (0, 0), 'VQE': (np.mean(vqe_cusco_3), np.sqrt(np.var(vqe_cusco_3)))},\n",
        "}\n",
        "\n",
        "# Create figure and axes\n",
        "fig, ax = plt.subplots(figsize=(10, 5))\n",
        "\n",
        "# Plotting the data\n",
        "for i, category in enumerate(categories):\n",
        "    for j, method in enumerate(methods):\n",
        "        mean, error = energies[category][method]\n",
        "        marker = 'o' if method == 'VQE' else '^'\n",
        "        color = 'red' if method == 'VQE' else 'blue'\n",
        "        ax.errorbar(mean, i, xerr=error, fmt=marker, color=color, label=method if i == 0 else \"\")\n",
        "\n",
        "# Customizing the plot\n",
        "ax.set_yticks(range(len(categories)))\n",
        "ax.set_yticklabels(categories)\n",
        "ax.invert_yaxis()  # Invert y-axis to match the uploaded image\n",
        "ax.set_xlabel('E')\n",
        "ax.xaxis.grid(True)  # Add a grid on x-axis\n",
        "ax.set_xlim(-6.30, -5.10)  # Set the limit for x-axis to match the uploaded image\n",
        "\n",
        "# Add legend\n",
        "handles, labels = ax.get_legend_handles_labels()\n",
        "by_label = dict(zip(labels, handles))\n",
        "ax.legend(by_label.values(), by_label.keys())\n",
        "\n",
        "plt.tight_layout()\n",
        "plt.show()"
      ],
      "metadata": {
        "id": "b0sIG17byU0I",
        "outputId": "4b5f61dc-8a2a-4804-8e10-4ef8585654a7",
        "colab": {
          "base_uri": "https://localhost:8080/",
          "height": 507
        }
      },
      "execution_count": null,
      "outputs": [
        {
          "output_type": "display_data",
          "data": {
            "text/plain": [
              "<Figure size 1000x500 with 1 Axes>"
            ],
            "image/png": "[encoded data removed]"
          },
          "metadata": {}
        }
      ]
    }
  ]
}