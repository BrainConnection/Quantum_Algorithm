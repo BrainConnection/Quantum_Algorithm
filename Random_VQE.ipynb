{
  "cells": [
    {
      "cell_type": "markdown",
      "metadata": {
        "id": "view-in-github",
        "colab_type": "text"
      },
      "source": [
        "<a href=\"https://colab.research.google.com/github/BrainConnection/Quantum_Algorithm/blob/main/Random_VQE.ipynb\" target=\"_parent\"><img src=\"https://colab.research.google.com/assets/colab-badge.svg\" alt=\"Open In Colab\"/></a>"
      ]
    },
    {
      "cell_type": "markdown",
      "source": [
        "# Environment Setting"
      ],
      "metadata": {
        "id": "f7b2rrgnZcB9"
      }
    },
    {
      "cell_type": "code",
      "source": [
        "!pip install qiskit\n",
        "!pip install qiskit-ibm-runtime\n",
        "!pip install numpy\n",
        "!pip install matplotlib\n",
        "!pip install pylatexenc\n",
        "!pip install qiskit-aer"
      ],
      "metadata": {
        "colab": {
          "base_uri": "https://localhost:8080/"
        },
        "id": "LuMQNqHfMb8M",
        "outputId": "d6643ba6-d6c4-4bde-d6a3-addb1897134c"
      },
      "execution_count": 60,
      "outputs": [
        {
          "output_type": "stream",
          "name": "stdout",
          "text": [
            "Requirement already satisfied: qiskit in /usr/local/lib/python3.10/dist-packages (1.1.1)\n",
            "Requirement already satisfied: rustworkx>=0.14.0 in /usr/local/lib/python3.10/dist-packages (from qiskit) (0.14.2)\n",
            "Requirement already satisfied: numpy<3,>=1.17 in /usr/local/lib/python3.10/dist-packages (from qiskit) (1.25.2)\n",
            "Requirement already satisfied: scipy>=1.5 in /usr/local/lib/python3.10/dist-packages (from qiskit) (1.11.4)\n",
            "Requirement already satisfied: sympy>=1.3 in /usr/local/lib/python3.10/dist-packages (from qiskit) (1.12.1)\n",
            "Requirement already satisfied: dill>=0.3 in /usr/local/lib/python3.10/dist-packages (from qiskit) (0.3.8)\n",
            "Requirement already satisfied: python-dateutil>=2.8.0 in /usr/local/lib/python3.10/dist-packages (from qiskit) (2.8.2)\n",
            "Requirement already satisfied: stevedore>=3.0.0 in /usr/local/lib/python3.10/dist-packages (from qiskit) (5.2.0)\n",
            "Requirement already satisfied: typing-extensions in /usr/local/lib/python3.10/dist-packages (from qiskit) (4.12.2)\n",
            "Requirement already satisfied: symengine>=0.11 in /usr/local/lib/python3.10/dist-packages (from qiskit) (0.11.0)\n",
            "Requirement already satisfied: six>=1.5 in /usr/local/lib/python3.10/dist-packages (from python-dateutil>=2.8.0->qiskit) (1.16.0)\n",
            "Requirement already satisfied: pbr!=2.1.0,>=2.0.0 in /usr/local/lib/python3.10/dist-packages (from stevedore>=3.0.0->qiskit) (6.0.0)\n",
            "Requirement already satisfied: mpmath<1.4.0,>=1.1.0 in /usr/local/lib/python3.10/dist-packages (from sympy>=1.3->qiskit) (1.3.0)\n",
            "Requirement already satisfied: qiskit-ibm-runtime in /usr/local/lib/python3.10/dist-packages (0.24.1)\n",
            "Requirement already satisfied: requests>=2.19 in /usr/local/lib/python3.10/dist-packages (from qiskit-ibm-runtime) (2.31.0)\n",
            "Requirement already satisfied: requests-ntlm>=1.1.0 in /usr/local/lib/python3.10/dist-packages (from qiskit-ibm-runtime) (1.3.0)\n",
            "Requirement already satisfied: numpy>=1.13 in /usr/local/lib/python3.10/dist-packages (from qiskit-ibm-runtime) (1.25.2)\n",
            "Requirement already satisfied: urllib3>=1.21.1 in /usr/local/lib/python3.10/dist-packages (from qiskit-ibm-runtime) (2.2.2)\n",
            "Requirement already satisfied: python-dateutil>=2.8.0 in /usr/local/lib/python3.10/dist-packages (from qiskit-ibm-runtime) (2.8.2)\n",
            "Requirement already satisfied: websocket-client>=1.5.1 in /usr/local/lib/python3.10/dist-packages (from qiskit-ibm-runtime) (1.8.0)\n",
            "Requirement already satisfied: ibm-platform-services>=0.22.6 in /usr/local/lib/python3.10/dist-packages (from qiskit-ibm-runtime) (0.54.0)\n",
            "Requirement already satisfied: pydantic in /usr/local/lib/python3.10/dist-packages (from qiskit-ibm-runtime) (2.7.4)\n",
            "Requirement already satisfied: qiskit>=1.1.0 in /usr/local/lib/python3.10/dist-packages (from qiskit-ibm-runtime) (1.1.1)\n",
            "Requirement already satisfied: ibm-cloud-sdk-core<4.0.0,>=3.19.2 in /usr/local/lib/python3.10/dist-packages (from ibm-platform-services>=0.22.6->qiskit-ibm-runtime) (3.20.1)\n",
            "Requirement already satisfied: six>=1.5 in /usr/local/lib/python3.10/dist-packages (from python-dateutil>=2.8.0->qiskit-ibm-runtime) (1.16.0)\n",
            "Requirement already satisfied: rustworkx>=0.14.0 in /usr/local/lib/python3.10/dist-packages (from qiskit>=1.1.0->qiskit-ibm-runtime) (0.14.2)\n",
            "Requirement already satisfied: scipy>=1.5 in /usr/local/lib/python3.10/dist-packages (from qiskit>=1.1.0->qiskit-ibm-runtime) (1.11.4)\n",
            "Requirement already satisfied: sympy>=1.3 in /usr/local/lib/python3.10/dist-packages (from qiskit>=1.1.0->qiskit-ibm-runtime) (1.12.1)\n",
            "Requirement already satisfied: dill>=0.3 in /usr/local/lib/python3.10/dist-packages (from qiskit>=1.1.0->qiskit-ibm-runtime) (0.3.8)\n",
            "Requirement already satisfied: stevedore>=3.0.0 in /usr/local/lib/python3.10/dist-packages (from qiskit>=1.1.0->qiskit-ibm-runtime) (5.2.0)\n",
            "Requirement already satisfied: typing-extensions in /usr/local/lib/python3.10/dist-packages (from qiskit>=1.1.0->qiskit-ibm-runtime) (4.12.2)\n",
            "Requirement already satisfied: symengine>=0.11 in /usr/local/lib/python3.10/dist-packages (from qiskit>=1.1.0->qiskit-ibm-runtime) (0.11.0)\n",
            "Requirement already satisfied: charset-normalizer<4,>=2 in /usr/local/lib/python3.10/dist-packages (from requests>=2.19->qiskit-ibm-runtime) (3.3.2)\n",
            "Requirement already satisfied: idna<4,>=2.5 in /usr/local/lib/python3.10/dist-packages (from requests>=2.19->qiskit-ibm-runtime) (3.7)\n",
            "Requirement already satisfied: certifi>=2017.4.17 in /usr/local/lib/python3.10/dist-packages (from requests>=2.19->qiskit-ibm-runtime) (2024.6.2)\n",
            "Requirement already satisfied: cryptography>=1.3 in /usr/local/lib/python3.10/dist-packages (from requests-ntlm>=1.1.0->qiskit-ibm-runtime) (42.0.8)\n",
            "Requirement already satisfied: pyspnego>=0.4.0 in /usr/local/lib/python3.10/dist-packages (from requests-ntlm>=1.1.0->qiskit-ibm-runtime) (0.11.0)\n",
            "Requirement already satisfied: annotated-types>=0.4.0 in /usr/local/lib/python3.10/dist-packages (from pydantic->qiskit-ibm-runtime) (0.7.0)\n",
            "Requirement already satisfied: pydantic-core==2.18.4 in /usr/local/lib/python3.10/dist-packages (from pydantic->qiskit-ibm-runtime) (2.18.4)\n",
            "Requirement already satisfied: cffi>=1.12 in /usr/local/lib/python3.10/dist-packages (from cryptography>=1.3->requests-ntlm>=1.1.0->qiskit-ibm-runtime) (1.16.0)\n",
            "Requirement already satisfied: PyJWT<3.0.0,>=2.8.0 in /usr/local/lib/python3.10/dist-packages (from ibm-cloud-sdk-core<4.0.0,>=3.19.2->ibm-platform-services>=0.22.6->qiskit-ibm-runtime) (2.8.0)\n",
            "Requirement already satisfied: pbr!=2.1.0,>=2.0.0 in /usr/local/lib/python3.10/dist-packages (from stevedore>=3.0.0->qiskit>=1.1.0->qiskit-ibm-runtime) (6.0.0)\n",
            "Requirement already satisfied: mpmath<1.4.0,>=1.1.0 in /usr/local/lib/python3.10/dist-packages (from sympy>=1.3->qiskit>=1.1.0->qiskit-ibm-runtime) (1.3.0)\n",
            "Requirement already satisfied: pycparser in /usr/local/lib/python3.10/dist-packages (from cffi>=1.12->cryptography>=1.3->requests-ntlm>=1.1.0->qiskit-ibm-runtime) (2.22)\n",
            "Requirement already satisfied: numpy in /usr/local/lib/python3.10/dist-packages (1.25.2)\n",
            "Requirement already satisfied: matplotlib in /usr/local/lib/python3.10/dist-packages (3.7.1)\n",
            "Requirement already satisfied: contourpy>=1.0.1 in /usr/local/lib/python3.10/dist-packages (from matplotlib) (1.2.1)\n",
            "Requirement already satisfied: cycler>=0.10 in /usr/local/lib/python3.10/dist-packages (from matplotlib) (0.12.1)\n",
            "Requirement already satisfied: fonttools>=4.22.0 in /usr/local/lib/python3.10/dist-packages (from matplotlib) (4.53.0)\n",
            "Requirement already satisfied: kiwisolver>=1.0.1 in /usr/local/lib/python3.10/dist-packages (from matplotlib) (1.4.5)\n",
            "Requirement already satisfied: numpy>=1.20 in /usr/local/lib/python3.10/dist-packages (from matplotlib) (1.25.2)\n",
            "Requirement already satisfied: packaging>=20.0 in /usr/local/lib/python3.10/dist-packages (from matplotlib) (24.1)\n",
            "Requirement already satisfied: pillow>=6.2.0 in /usr/local/lib/python3.10/dist-packages (from matplotlib) (9.4.0)\n",
            "Requirement already satisfied: pyparsing>=2.3.1 in /usr/local/lib/python3.10/dist-packages (from matplotlib) (3.1.2)\n",
            "Requirement already satisfied: python-dateutil>=2.7 in /usr/local/lib/python3.10/dist-packages (from matplotlib) (2.8.2)\n",
            "Requirement already satisfied: six>=1.5 in /usr/local/lib/python3.10/dist-packages (from python-dateutil>=2.7->matplotlib) (1.16.0)\n",
            "Requirement already satisfied: pylatexenc in /usr/local/lib/python3.10/dist-packages (2.10)\n",
            "Requirement already satisfied: qiskit-aer in /usr/local/lib/python3.10/dist-packages (0.14.2)\n",
            "Requirement already satisfied: qiskit>=0.45.2 in /usr/local/lib/python3.10/dist-packages (from qiskit-aer) (1.1.1)\n",
            "Requirement already satisfied: numpy>=1.16.3 in /usr/local/lib/python3.10/dist-packages (from qiskit-aer) (1.25.2)\n",
            "Requirement already satisfied: scipy>=1.0 in /usr/local/lib/python3.10/dist-packages (from qiskit-aer) (1.11.4)\n",
            "Requirement already satisfied: psutil>=5 in /usr/local/lib/python3.10/dist-packages (from qiskit-aer) (5.9.5)\n",
            "Requirement already satisfied: rustworkx>=0.14.0 in /usr/local/lib/python3.10/dist-packages (from qiskit>=0.45.2->qiskit-aer) (0.14.2)\n",
            "Requirement already satisfied: sympy>=1.3 in /usr/local/lib/python3.10/dist-packages (from qiskit>=0.45.2->qiskit-aer) (1.12.1)\n",
            "Requirement already satisfied: dill>=0.3 in /usr/local/lib/python3.10/dist-packages (from qiskit>=0.45.2->qiskit-aer) (0.3.8)\n",
            "Requirement already satisfied: python-dateutil>=2.8.0 in /usr/local/lib/python3.10/dist-packages (from qiskit>=0.45.2->qiskit-aer) (2.8.2)\n",
            "Requirement already satisfied: stevedore>=3.0.0 in /usr/local/lib/python3.10/dist-packages (from qiskit>=0.45.2->qiskit-aer) (5.2.0)\n",
            "Requirement already satisfied: typing-extensions in /usr/local/lib/python3.10/dist-packages (from qiskit>=0.45.2->qiskit-aer) (4.12.2)\n",
            "Requirement already satisfied: symengine>=0.11 in /usr/local/lib/python3.10/dist-packages (from qiskit>=0.45.2->qiskit-aer) (0.11.0)\n",
            "Requirement already satisfied: six>=1.5 in /usr/local/lib/python3.10/dist-packages (from python-dateutil>=2.8.0->qiskit>=0.45.2->qiskit-aer) (1.16.0)\n",
            "Requirement already satisfied: pbr!=2.1.0,>=2.0.0 in /usr/local/lib/python3.10/dist-packages (from stevedore>=3.0.0->qiskit>=0.45.2->qiskit-aer) (6.0.0)\n",
            "Requirement already satisfied: mpmath<1.4.0,>=1.1.0 in /usr/local/lib/python3.10/dist-packages (from sympy>=1.3->qiskit>=0.45.2->qiskit-aer) (1.3.0)\n"
          ]
        }
      ]
    },
    {
      "cell_type": "code",
      "source": [
        "service = QiskitRuntimeService(\n",
        "    channel='ibm_quantum',\n",
        "    instance='ibm-q-skku/hackathon-2024/hackathon',\n",
        "    token='24ce54238a7bb29fe5e3eb450acefed2444169ce5e525f08f9515676b1cf257ea65b85895d4157a30359eb3d9a4aab9873008d7edf6ff177ed29015e625e4ad6'\n",
        ")"
      ],
      "metadata": {
        "id": "SEpGeVe0ZhSk"
      },
      "execution_count": 61,
      "outputs": []
    },
    {
      "cell_type": "code",
      "source": [
        "backend = AerSimulator()\n",
        "print(backend)"
      ],
      "metadata": {
        "id": "TDhB11T0ZhPD",
        "outputId": "da6e2e13-e414-4461-9bdf-4542896ee5fb",
        "colab": {
          "base_uri": "https://localhost:8080/"
        }
      },
      "execution_count": 62,
      "outputs": [
        {
          "output_type": "stream",
          "name": "stdout",
          "text": [
            "AerSimulator('aer_simulator')\n"
          ]
        }
      ]
    },
    {
      "cell_type": "code",
      "source": [
        "interation = 1\n",
        "bias = -1\n",
        "\n",
        "coeff_list = [interation for _ in range(4)] + [bias for _ in range(5)]\n",
        "operator_list = [\"ZZIII\", \"IZZII\", \"IIZZI\", \"IIIZZ\", \"XIIII\", \"IXIII\", \"IIXII\", \"IIIXI\", \"IIIIX\"]\n",
        "hamiltonian_list = []\n",
        "for i in range(9):\n",
        "  hamiltonian_list.append((operator_list[i], coeff_list[i]))\n",
        "hamiltonian = SparsePauliOp.from_list(hamiltonian_list)\n",
        "hamiltonian_matrix = hamiltonian.to_matrix()\n",
        "\n",
        "eigenvalue, eigenvector = np.linalg.eig(hamiltonian_matrix)\n",
        "\n",
        "lowest_energy = np.min(eigenvalue)\n",
        "\n",
        "np.real(lowest_energy)"
      ],
      "metadata": {
        "id": "Ycl-rX8WZhMq",
        "outputId": "f3f00146-c60f-4979-a438-7bf274db4521",
        "colab": {
          "base_uri": "https://localhost:8080/"
        }
      },
      "execution_count": 63,
      "outputs": [
        {
          "output_type": "execute_result",
          "data": {
            "text/plain": [
              "-6.026674183332294"
            ]
          },
          "metadata": {},
          "execution_count": 63
        }
      ]
    },
    {
      "cell_type": "code",
      "source": [
        "num_qubits = 5"
      ],
      "metadata": {
        "id": "xxDC4rdXZuxO"
      },
      "execution_count": 64,
      "outputs": []
    },
    {
      "cell_type": "markdown",
      "source": [
        "# 2. Classical Shadow (Randomized Unitary Gates)"
      ],
      "metadata": {
        "id": "TRyMvgrCMRRt"
      }
    },
    {
      "cell_type": "code",
      "execution_count": 100,
      "metadata": {
        "id": "zrjcGH6OMPh3"
      },
      "outputs": [],
      "source": [
        "import qiskit\n",
        "import qiskit_ibm_runtime\n",
        "import numpy as np\n",
        "import matplotlib.pyplot as plt\n",
        "\n",
        "from qiskit import QuantumCircuit\n",
        "from qiskit.quantum_info import SparsePauliOp\n",
        "from qiskit.transpiler.preset_passmanagers import generate_preset_pass_manager\n",
        "from qiskit_ibm_runtime import QiskitRuntimeService\n",
        "from qiskit_ibm_runtime import EstimatorV2 as Estimator, Batch\n",
        "\n",
        "from qiskit_aer import AerSimulator\n",
        "from qiskit.circuit import ParameterVector"
      ]
    },
    {
      "cell_type": "code",
      "source": [
        "# Instantiate the system Hamiltonian\n",
        "interation = 1\n",
        "bias = -1\n",
        "\n",
        "coeff_list = [interation for _ in range(4)] + [bias for _ in range(5)]\n",
        "operator_list = [\"ZZIII\", \"IZZII\", \"IIZZI\", \"IIIZZ\", \"XIIII\", \"IXIII\", \"IIXII\", \"IIIXI\", \"IIIIX\"]\n",
        "hamiltonian_list = []\n",
        "for i in range(9):\n",
        "  hamiltonian_list.append((operator_list[i], coeff_list[i]))\n",
        "hamiltonian = SparsePauliOp.from_list(hamiltonian_list)"
      ],
      "metadata": {
        "id": "vXdAh_JdYc3k"
      },
      "execution_count": 101,
      "outputs": []
    },
    {
      "cell_type": "code",
      "source": [
        "# Ansatz for VQE\n",
        "\n",
        "def circuit_base(params, num_qubits):\n",
        "\n",
        "  ansatz = QuantumCircuit(num_qubits)\n",
        "  #params = ParameterVector(\"theta\", length=9)\n",
        "  it = iter(params)\n",
        "  ansatz.h(range(0,5))\n",
        "\n",
        "  ansatz.barrier()\n",
        "\n",
        "  ansatz.cx(0, 1)\n",
        "  ansatz.cx(2, 3)\n",
        "  ansatz.rz(next(it), 1)\n",
        "  ansatz.rz(next(it), 3)\n",
        "  ansatz.cx(0, 1)\n",
        "  ansatz.cx(2, 3)\n",
        "  ansatz.cx(1, 2)\n",
        "  ansatz.cx(3, 4)\n",
        "  ansatz.rz(next(it), 2)\n",
        "  ansatz.rz(next(it), 4)\n",
        "  ansatz.cx(1, 2)\n",
        "  ansatz.cx(3, 4)\n",
        "\n",
        "  ansatz.barrier()\n",
        "\n",
        "  ansatz.rx(next(it), 0)\n",
        "  ansatz.rx(next(it), 1)\n",
        "  ansatz.rx(next(it), 2)\n",
        "  ansatz.rx(next(it), 3)\n",
        "  ansatz.rx(next(it), 4)\n",
        "\n",
        "  return ansatz"
      ],
      "metadata": {
        "id": "M9NyDvRXY6Is"
      },
      "execution_count": 102,
      "outputs": []
    },
    {
      "cell_type": "code",
      "source": [
        "params = [5.803e+00,  5.886e+00,  5.886e+00,  5.803e+00,  7.854e+00,\n",
        "             1.823e-07,  7.854e+00,  1.749e-06,  1.571e+00]\n",
        "qc = circuit_base(params, num_qubits)\n",
        "\n",
        "%matplotlib inline\n",
        "\n",
        "qc.draw(\"mpl\")"
      ],
      "metadata": {
        "id": "_JMnP64-Y6G0",
        "outputId": "ee63b611-2d3c-459e-cd33-482fa8aedb9a",
        "colab": {
          "base_uri": "https://localhost:8080/",
          "height": 384
        }
      },
      "execution_count": 112,
      "outputs": [
        {
          "output_type": "execute_result",
          "data": {
            "text/plain": [
              "<Figure size 1040x451.5 with 1 Axes>"
            ],
            "image/png": "[encoded data removed]"
          },
          "metadata": {},
          "execution_count": 112
        }
      ]
    },
    {
      "cell_type": "code",
      "execution_count": 104,
      "metadata": {
        "id": "WdvvONrYMPh6"
      },
      "outputs": [],
      "source": [
        "def generate_pauli_string(location, pauli, num_qubits):\n",
        "    string = [\"I\"] * num_qubits\n",
        "    for i, loc in enumerate(location):\n",
        "        string[num_qubits-loc-1] = pauli[i]\n",
        "\n",
        "    result = ''.join(char for char in string)\n",
        "\n",
        "    return result"
      ]
    },
    {
      "cell_type": "code",
      "execution_count": 109,
      "metadata": {
        "id": "ZQzmstKrMPh6"
      },
      "outputs": [],
      "source": [
        "def calculate_classical_shadow(circuit, shadow_size, backend):\n",
        "    num_qubits = circuit.num_qubits\n",
        "\n",
        "    unitary_ensemble = [\"X\", \"Y\", \"Z\"]\n",
        "\n",
        "    unitary_ids = np.random.randint(0, 3, size=(shadow_size, num_qubits))\n",
        "    outcomes = np.zeros((shadow_size, num_qubits))\n",
        "\n",
        "    pm = generate_preset_pass_manager(backend = backend, optimization_level=1)\n",
        "    isa_circuit = pm.run(circuit)\n",
        "\n",
        "    circuits = [isa_circuit] * shadow_size\n",
        "\n",
        "    obs_list = []\n",
        "\n",
        "    for ns in range(shadow_size):\n",
        "        obs = SparsePauliOp(generate_pauli_string(range(num_qubits),[unitary_ensemble[int(unitary_ids[ns, i])] for i in range(num_qubits)],num_qubits)).apply_layout(isa_circuit.layout)\n",
        "        obs_list.append(obs)\n",
        "\n",
        "\n",
        "    max_circuits = 1000\n",
        "    all_partitioned_circuits = []\n",
        "    all_partitioned_obs = []\n",
        "    for i in range(0, len(circuits), max_circuits):\n",
        "        all_partitioned_circuits.append(circuits[i : i + max_circuits])\n",
        "        all_partitioned_obs.append(obs_list[i:i+max_circuits])\n",
        "\n",
        "    jobs = []\n",
        "\n",
        "\n",
        "    with Batch(backend=backend) as batch:\n",
        "        estimator = Estimator(batch)\n",
        "        for job_idx, (partitioned_circuits, partitioned_obs) in enumerate(zip(all_partitioned_circuits, all_partitioned_obs)):\n",
        "            print(\"Job Running\"+ \" \" + str(job_idx))\n",
        "            pub = [(circuit, obs) for circuit, obs in zip(partitioned_circuits, partitioned_obs)]\n",
        "            job = estimator.run(pub)\n",
        "            result = job.result()\n",
        "            print(\"Job Run\" + \" \" + str(job_idx) )\n",
        "            for idx, pub_result in enumerate(result):\n",
        "                exp_val = pub_result.data.evs\n",
        "                outcomes[job_idx*max_circuits + idx :] = exp_val\n",
        "            jobs.append(job)\n",
        "            job.status()\n",
        "\n",
        "\n",
        "    return (outcomes, unitary_ids)"
      ]
    },
    {
      "cell_type": "code",
      "execution_count": 106,
      "metadata": {
        "id": "uO-LfeQmMPh7",
        "outputId": "3f5340a2-a811-4a25-ed7f-19923512b7eb",
        "colab": {
          "base_uri": "https://localhost:8080/"
        }
      },
      "outputs": [
        {
          "output_type": "stream",
          "name": "stdout",
          "text": [
            "[SparsePauliOp(['IIIZZ'],\n",
            "              coeffs=[1.+0.j]), SparsePauliOp(['IIZZI'],\n",
            "              coeffs=[1.+0.j]), SparsePauliOp(['IZZII'],\n",
            "              coeffs=[1.+0.j]), SparsePauliOp(['ZZIII'],\n",
            "              coeffs=[1.+0.j]), SparsePauliOp(['IIIIX'],\n",
            "              coeffs=[1.+0.j]), SparsePauliOp(['IIIXI'],\n",
            "              coeffs=[1.+0.j]), SparsePauliOp(['IIXII'],\n",
            "              coeffs=[1.+0.j]), SparsePauliOp(['IXIII'],\n",
            "              coeffs=[1.+0.j]), SparsePauliOp(['XIIII'],\n",
            "              coeffs=[1.+0.j])]\n"
          ]
        }
      ],
      "source": [
        "list_of_observables = [SparsePauliOp(generate_pauli_string([i,i+1],[\"Z\",\"Z\"], num_qubits)) for i in range(num_qubits - 1)] + [SparsePauliOp(generate_pauli_string([i],[\"X\"], num_qubits)) for i in range(num_qubits)]\n",
        "print(list_of_observables)"
      ]
    },
    {
      "cell_type": "code",
      "execution_count": 113,
      "metadata": {
        "id": "UJ6QyF8dMPh7"
      },
      "outputs": [],
      "source": [
        "def estimate_shadow_observable(shadow, observable, k=10):\n",
        "    \"\"\"\n",
        "    Adapted from https://github.com/momohuang/predicting-quantum-properties\n",
        "    Calculate the estimator E[O] = median(Tr{rho_{(k)} O}) where rho_(k)) is set of k\n",
        "    snapshots in the shadow. Use median of means to ameliorate the effects of outliers.\n",
        "\n",
        "    Args:\n",
        "        shadow (tuple): A shadow tuple obtained from `calculate_classical_shadow`.\n",
        "        observable (qml.Observable): Single PennyLane observable consisting of single Pauli\n",
        "            operators e.g. qml.PauliX(0) @ qml.PauliY(1).\n",
        "        k (int): number of splits in the median of means estimator.\n",
        "\n",
        "    Returns:\n",
        "        Scalar corresponding to the estimate of the observable.\n",
        "    \"\"\"\n",
        "    shadow_size, num_qubits = shadow[0].shape\n",
        "\n",
        "\n",
        "\n",
        "    def find_not_I(observable):\n",
        "        not_I = []\n",
        "        string = observable.to_list(array=True)[0][0]\n",
        "        for i, c in enumerate(string):\n",
        "            if c != \"I\":\n",
        "                not_I.append((num_qubits-i-1,c))\n",
        "        return not_I\n",
        "\n",
        "\n",
        "\n",
        "    map_name_to_int = {\"X\": 0, \"Y\": 1, \"Z\": 2}\n",
        "    target_obs, target_locs = np.array([map_name_to_int[tuple[1]] for tuple in find_not_I(observable=observable)]), np.array([tuple[0] for tuple in find_not_I(observable=observable)])\n",
        "\n",
        "\n",
        "\n",
        "    # classical values\n",
        "    b_lists, obs_lists = shadow\n",
        "    means = []\n",
        "\n",
        "    # loop over the splits of the shadow:\n",
        "    for i in range(0, shadow_size, shadow_size // k):\n",
        "\n",
        "        # assign the splits temporarily\n",
        "        b_lists_k, obs_lists_k = (\n",
        "            b_lists[i : i + shadow_size // k],\n",
        "            obs_lists[i : i + shadow_size // k],\n",
        "        )\n",
        "\n",
        "        # find the exact matches for the observable of interest at the specified locations\n",
        "        indices = np.all(obs_lists_k[:, target_locs] == target_obs, axis=1)\n",
        "\n",
        "        # catch the edge case where there is no match in the chunk\n",
        "        if sum(indices) > 0:\n",
        "            # take the product and sum\n",
        "            product = np.prod(b_lists_k[indices][:, target_locs], axis=1)\n",
        "            means.append(np.sum(product) / sum(indices))\n",
        "        else:\n",
        "            means.append(0)\n",
        "\n",
        "    return np.median(means)"
      ]
    },
    {
      "cell_type": "code",
      "execution_count": null,
      "metadata": {
        "colab": {
          "base_uri": "https://localhost:8080/"
        },
        "id": "AwXrbpgYMPh7",
        "outputId": "26ee098d-1268-4851-ae98-47829fa374ab"
      },
      "outputs": [
        {
          "output_type": "stream",
          "name": "stdout",
          "text": [
            "Job Running 0\n",
            "Job Run 0\n",
            "Job Running 0\n",
            "Job Run 0\n",
            "Job Running 1\n",
            "Job Run 1\n",
            "Job Running 0\n",
            "Job Run 0\n",
            "Job Running 1\n",
            "Job Run 1\n",
            "Job Running 2\n",
            "Job Run 2\n",
            "Job Running 0\n",
            "Job Run 0\n",
            "Job Running 1\n",
            "Job Run 1\n",
            "Job Running 2\n",
            "Job Run 2\n",
            "Job Running 3\n",
            "Job Run 3\n",
            "Job Running 0\n",
            "Job Run 0\n",
            "Job Running 1\n",
            "Job Run 1\n",
            "Job Running 2\n",
            "Job Run 2\n",
            "Job Running 3\n"
          ]
        }
      ],
      "source": [
        "# make a array with exponential values\n",
        "shadow_sizes = [1000, 2000, 3000, 4000, 5000]\n",
        "estimates = []\n",
        "\n",
        "#params = ParameterVector(\"theta\", length=9)\n",
        "circuit = circuit_base(params, num_qubits=num_qubits)\n",
        "\n",
        "for shadow_size in shadow_sizes:\n",
        "    shadow = calculate_classical_shadow(circuit, int(shadow_size), backend)\n",
        "    # shadow = calculate_classical_shadow(circuit, int(shadow_size), backend)\n",
        "    estimates.append([estimate_shadow_observable(shadow, o) for o in list_of_observables])"
      ]
    },
    {
      "cell_type": "code",
      "source": [
        "estimates"
      ],
      "metadata": {
        "id": "v6Xz3WK-Vu7S"
      },
      "execution_count": null,
      "outputs": []
    }
  ],
  "metadata": {
    "kernelspec": {
      "display_name": "Python 3",
      "language": "python",
      "name": "python3"
    },
    "language_info": {
      "codemirror_mode": {
        "name": "ipython",
        "version": 3
      },
      "file_extension": ".py",
      "mimetype": "text/x-python",
      "name": "python",
      "nbconvert_exporter": "python",
      "pygments_lexer": "ipython3",
      "version": "3.10.11"
    },
    "colab": {
      "provenance": [],
      "include_colab_link": true
    }
  },
  "nbformat": 4,
  "nbformat_minor": 0
}