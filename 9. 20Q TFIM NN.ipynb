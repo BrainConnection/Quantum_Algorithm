{
  "nbformat": 4,
  "nbformat_minor": 0,
  "metadata": {
    "colab": {
      "provenance": [],
      "machine_shape": "hm",
      "gpuType": "V100",
      "authorship_tag": "ABX9TyOcoc1BNfL3S0iLlMyxNWnF",
      "include_colab_link": true
    },
    "kernelspec": {
      "name": "python3",
      "display_name": "Python 3"
    },
    "language_info": {
      "name": "python"
    }
  },
  "cells": [
    {
      "cell_type": "markdown",
      "metadata": {
        "id": "view-in-github",
        "colab_type": "text"
      },
      "source": [
        "<a href=\"https://colab.research.google.com/github/BrainConnection/Quantum_Algorithm/blob/main/9.%2020Q%20TFIM%20NN.ipynb\" target=\"_parent\"><img src=\"https://colab.research.google.com/assets/colab-badge.svg\" alt=\"Open In Colab\"/></a>"
      ]
    },
    {
      "cell_type": "markdown",
      "source": [
        "# Environment Setting"
      ],
      "metadata": {
        "id": "nHZOKbnMg33g"
      }
    },
    {
      "cell_type": "code",
      "execution_count": 1,
      "metadata": {
        "colab": {
          "base_uri": "https://localhost:8080/"
        },
        "id": "09dlWASwmtoK",
        "outputId": "95da07f2-65bd-4bc7-b2b7-61f8af783d30"
      },
      "outputs": [
        {
          "output_type": "stream",
          "name": "stdout",
          "text": [
            "Collecting qiskit\n",
            "  Downloading qiskit-1.0.2-cp38-abi3-manylinux_2_17_x86_64.manylinux2014_x86_64.whl (5.6 MB)\n",
            "\u001b[2K     \u001b[90m━━━━━━━━━━━━━━━━━━━━━━━━━━━━━━━━━━━━━━━━\u001b[0m \u001b[32m5.6/5.6 MB\u001b[0m \u001b[31m39.2 MB/s\u001b[0m eta \u001b[36m0:00:00\u001b[0m\n",
            "\u001b[?25hCollecting rustworkx>=0.14.0 (from qiskit)\n",
            "  Downloading rustworkx-0.14.2-cp310-cp310-manylinux_2_17_x86_64.manylinux2014_x86_64.whl (2.1 MB)\n",
            "\u001b[2K     \u001b[90m━━━━━━━━━━━━━━━━━━━━━━━━━━━━━━━━━━━━━━━━\u001b[0m \u001b[32m2.1/2.1 MB\u001b[0m \u001b[31m64.6 MB/s\u001b[0m eta \u001b[36m0:00:00\u001b[0m\n",
            "\u001b[?25hRequirement already satisfied: numpy<2,>=1.17 in /usr/local/lib/python3.10/dist-packages (from qiskit) (1.25.2)\n",
            "Requirement already satisfied: scipy>=1.5 in /usr/local/lib/python3.10/dist-packages (from qiskit) (1.11.4)\n",
            "Requirement already satisfied: sympy>=1.3 in /usr/local/lib/python3.10/dist-packages (from qiskit) (1.12)\n",
            "Collecting dill>=0.3 (from qiskit)\n",
            "  Downloading dill-0.3.8-py3-none-any.whl (116 kB)\n",
            "\u001b[2K     \u001b[90m━━━━━━━━━━━━━━━━━━━━━━━━━━━━━━━━━━━━━━━━\u001b[0m \u001b[32m116.3/116.3 kB\u001b[0m \u001b[31m12.1 MB/s\u001b[0m eta \u001b[36m0:00:00\u001b[0m\n",
            "\u001b[?25hRequirement already satisfied: python-dateutil>=2.8.0 in /usr/local/lib/python3.10/dist-packages (from qiskit) (2.8.2)\n",
            "Collecting stevedore>=3.0.0 (from qiskit)\n",
            "  Downloading stevedore-5.2.0-py3-none-any.whl (49 kB)\n",
            "\u001b[2K     \u001b[90m━━━━━━━━━━━━━━━━━━━━━━━━━━━━━━━━━━━━━━━━\u001b[0m \u001b[32m49.7/49.7 kB\u001b[0m \u001b[31m4.5 MB/s\u001b[0m eta \u001b[36m0:00:00\u001b[0m\n",
            "\u001b[?25hRequirement already satisfied: typing-extensions in /usr/local/lib/python3.10/dist-packages (from qiskit) (4.10.0)\n",
            "Collecting symengine>=0.11 (from qiskit)\n",
            "  Downloading symengine-0.11.0-cp310-cp310-manylinux_2_12_x86_64.manylinux2010_x86_64.whl (39.4 MB)\n",
            "\u001b[2K     \u001b[90m━━━━━━━━━━━━━━━━━━━━━━━━━━━━━━━━━━━━━━━━\u001b[0m \u001b[32m39.4/39.4 MB\u001b[0m \u001b[31m37.1 MB/s\u001b[0m eta \u001b[36m0:00:00\u001b[0m\n",
            "\u001b[?25hRequirement already satisfied: six>=1.5 in /usr/local/lib/python3.10/dist-packages (from python-dateutil>=2.8.0->qiskit) (1.16.0)\n",
            "Collecting pbr!=2.1.0,>=2.0.0 (from stevedore>=3.0.0->qiskit)\n",
            "  Downloading pbr-6.0.0-py2.py3-none-any.whl (107 kB)\n",
            "\u001b[2K     \u001b[90m━━━━━━━━━━━━━━━━━━━━━━━━━━━━━━━━━━━━━━━━\u001b[0m \u001b[32m107.5/107.5 kB\u001b[0m \u001b[31m9.2 MB/s\u001b[0m eta \u001b[36m0:00:00\u001b[0m\n",
            "\u001b[?25hRequirement already satisfied: mpmath>=0.19 in /usr/local/lib/python3.10/dist-packages (from sympy>=1.3->qiskit) (1.3.0)\n",
            "Installing collected packages: symengine, rustworkx, pbr, dill, stevedore, qiskit\n",
            "Successfully installed dill-0.3.8 pbr-6.0.0 qiskit-1.0.2 rustworkx-0.14.2 stevedore-5.2.0 symengine-0.11.0\n",
            "Collecting qiskit-ibm-runtime\n",
            "  Downloading qiskit_ibm_runtime-0.21.2-py3-none-any.whl (3.0 MB)\n",
            "\u001b[2K     \u001b[90m━━━━━━━━━━━━━━━━━━━━━━━━━━━━━━━━━━━━━━━━\u001b[0m \u001b[32m3.0/3.0 MB\u001b[0m \u001b[31m26.0 MB/s\u001b[0m eta \u001b[36m0:00:00\u001b[0m\n",
            "\u001b[?25hRequirement already satisfied: requests>=2.19 in /usr/local/lib/python3.10/dist-packages (from qiskit-ibm-runtime) (2.31.0)\n",
            "Collecting requests-ntlm>=1.1.0 (from qiskit-ibm-runtime)\n",
            "  Downloading requests_ntlm-1.2.0-py3-none-any.whl (6.0 kB)\n",
            "Requirement already satisfied: numpy>=1.13 in /usr/local/lib/python3.10/dist-packages (from qiskit-ibm-runtime) (1.25.2)\n",
            "Requirement already satisfied: urllib3>=1.21.1 in /usr/local/lib/python3.10/dist-packages (from qiskit-ibm-runtime) (2.0.7)\n",
            "Requirement already satisfied: python-dateutil>=2.8.0 in /usr/local/lib/python3.10/dist-packages (from qiskit-ibm-runtime) (2.8.2)\n",
            "Requirement already satisfied: websocket-client>=1.5.1 in /usr/local/lib/python3.10/dist-packages (from qiskit-ibm-runtime) (1.7.0)\n",
            "Collecting ibm-platform-services>=0.22.6 (from qiskit-ibm-runtime)\n",
            "  Downloading ibm-platform-services-0.52.0.tar.gz (316 kB)\n",
            "\u001b[2K     \u001b[90m━━━━━━━━━━━━━━━━━━━━━━━━━━━━━━━━━━━━━━━━\u001b[0m \u001b[32m316.3/316.3 kB\u001b[0m \u001b[31m24.7 MB/s\u001b[0m eta \u001b[36m0:00:00\u001b[0m\n",
            "\u001b[?25h  Installing build dependencies ... \u001b[?25l\u001b[?25hdone\n",
            "  Getting requirements to build wheel ... \u001b[?25l\u001b[?25hdone\n",
            "  Preparing metadata (pyproject.toml) ... \u001b[?25l\u001b[?25hdone\n",
            "Requirement already satisfied: pydantic in /usr/local/lib/python3.10/dist-packages (from qiskit-ibm-runtime) (2.6.4)\n",
            "Requirement already satisfied: qiskit>=1.0.0 in /usr/local/lib/python3.10/dist-packages (from qiskit-ibm-runtime) (1.0.2)\n",
            "Collecting ibm-cloud-sdk-core<4.0.0,>=3.19.2 (from ibm-platform-services>=0.22.6->qiskit-ibm-runtime)\n",
            "  Downloading ibm-cloud-sdk-core-3.19.2.tar.gz (61 kB)\n",
            "\u001b[2K     \u001b[90m━━━━━━━━━━━━━━━━━━━━━━━━━━━━━━━━━━━━━━━━\u001b[0m \u001b[32m62.0/62.0 kB\u001b[0m \u001b[31m7.3 MB/s\u001b[0m eta \u001b[36m0:00:00\u001b[0m\n",
            "\u001b[?25h  Installing build dependencies ... \u001b[?25l\u001b[?25hdone\n",
            "  Getting requirements to build wheel ... \u001b[?25l\u001b[?25hdone\n",
            "  Preparing metadata (pyproject.toml) ... \u001b[?25l\u001b[?25hdone\n",
            "Requirement already satisfied: six>=1.5 in /usr/local/lib/python3.10/dist-packages (from python-dateutil>=2.8.0->qiskit-ibm-runtime) (1.16.0)\n",
            "Requirement already satisfied: rustworkx>=0.14.0 in /usr/local/lib/python3.10/dist-packages (from qiskit>=1.0.0->qiskit-ibm-runtime) (0.14.2)\n",
            "Requirement already satisfied: scipy>=1.5 in /usr/local/lib/python3.10/dist-packages (from qiskit>=1.0.0->qiskit-ibm-runtime) (1.11.4)\n",
            "Requirement already satisfied: sympy>=1.3 in /usr/local/lib/python3.10/dist-packages (from qiskit>=1.0.0->qiskit-ibm-runtime) (1.12)\n",
            "Requirement already satisfied: dill>=0.3 in /usr/local/lib/python3.10/dist-packages (from qiskit>=1.0.0->qiskit-ibm-runtime) (0.3.8)\n",
            "Requirement already satisfied: stevedore>=3.0.0 in /usr/local/lib/python3.10/dist-packages (from qiskit>=1.0.0->qiskit-ibm-runtime) (5.2.0)\n",
            "Requirement already satisfied: typing-extensions in /usr/local/lib/python3.10/dist-packages (from qiskit>=1.0.0->qiskit-ibm-runtime) (4.10.0)\n",
            "Requirement already satisfied: symengine>=0.11 in /usr/local/lib/python3.10/dist-packages (from qiskit>=1.0.0->qiskit-ibm-runtime) (0.11.0)\n",
            "Requirement already satisfied: charset-normalizer<4,>=2 in /usr/local/lib/python3.10/dist-packages (from requests>=2.19->qiskit-ibm-runtime) (3.3.2)\n",
            "Requirement already satisfied: idna<4,>=2.5 in /usr/local/lib/python3.10/dist-packages (from requests>=2.19->qiskit-ibm-runtime) (3.6)\n",
            "Requirement already satisfied: certifi>=2017.4.17 in /usr/local/lib/python3.10/dist-packages (from requests>=2.19->qiskit-ibm-runtime) (2024.2.2)\n",
            "Requirement already satisfied: cryptography>=1.3 in /usr/local/lib/python3.10/dist-packages (from requests-ntlm>=1.1.0->qiskit-ibm-runtime) (42.0.5)\n",
            "Collecting pyspnego>=0.1.6 (from requests-ntlm>=1.1.0->qiskit-ibm-runtime)\n",
            "  Downloading pyspnego-0.10.2-py3-none-any.whl (129 kB)\n",
            "\u001b[2K     \u001b[90m━━━━━━━━━━━━━━━━━━━━━━━━━━━━━━━━━━━━━━━━\u001b[0m \u001b[32m129.9/129.9 kB\u001b[0m \u001b[31m15.6 MB/s\u001b[0m eta \u001b[36m0:00:00\u001b[0m\n",
            "\u001b[?25hRequirement already satisfied: annotated-types>=0.4.0 in /usr/local/lib/python3.10/dist-packages (from pydantic->qiskit-ibm-runtime) (0.6.0)\n",
            "Requirement already satisfied: pydantic-core==2.16.3 in /usr/local/lib/python3.10/dist-packages (from pydantic->qiskit-ibm-runtime) (2.16.3)\n",
            "Requirement already satisfied: cffi>=1.12 in /usr/local/lib/python3.10/dist-packages (from cryptography>=1.3->requests-ntlm>=1.1.0->qiskit-ibm-runtime) (1.16.0)\n",
            "Collecting urllib3>=1.21.1 (from qiskit-ibm-runtime)\n",
            "  Downloading urllib3-2.2.1-py3-none-any.whl (121 kB)\n",
            "\u001b[2K     \u001b[90m━━━━━━━━━━━━━━━━━━━━━━━━━━━━━━━━━━━━━━━━\u001b[0m \u001b[32m121.1/121.1 kB\u001b[0m \u001b[31m13.1 MB/s\u001b[0m eta \u001b[36m0:00:00\u001b[0m\n",
            "\u001b[?25hCollecting PyJWT<3.0.0,>=2.8.0 (from ibm-cloud-sdk-core<4.0.0,>=3.19.2->ibm-platform-services>=0.22.6->qiskit-ibm-runtime)\n",
            "  Downloading PyJWT-2.8.0-py3-none-any.whl (22 kB)\n",
            "Requirement already satisfied: pbr!=2.1.0,>=2.0.0 in /usr/local/lib/python3.10/dist-packages (from stevedore>=3.0.0->qiskit>=1.0.0->qiskit-ibm-runtime) (6.0.0)\n",
            "Requirement already satisfied: mpmath>=0.19 in /usr/local/lib/python3.10/dist-packages (from sympy>=1.3->qiskit>=1.0.0->qiskit-ibm-runtime) (1.3.0)\n",
            "Requirement already satisfied: pycparser in /usr/local/lib/python3.10/dist-packages (from cffi>=1.12->cryptography>=1.3->requests-ntlm>=1.1.0->qiskit-ibm-runtime) (2.21)\n",
            "Building wheels for collected packages: ibm-platform-services, ibm-cloud-sdk-core\n",
            "  Building wheel for ibm-platform-services (pyproject.toml) ... \u001b[?25l\u001b[?25hdone\n",
            "  Created wheel for ibm-platform-services: filename=ibm_platform_services-0.52.0-py3-none-any.whl size=331902 sha256=109a62494f42a87ac2ea76abd9cbe0b289e8cd7088bb497fee46b85180471ea5\n",
            "  Stored in directory: /root/.cache/pip/wheels/9b/34/7b/f02968953b977f20d07a36eab5f7ea8c4d6590f5919940a9f8\n",
            "  Building wheel for ibm-cloud-sdk-core (pyproject.toml) ... \u001b[?25l\u001b[?25hdone\n",
            "  Created wheel for ibm-cloud-sdk-core: filename=ibm_cloud_sdk_core-3.19.2-py3-none-any.whl size=98827 sha256=20429c3984b65abd35bab5765f0d786d96b758cccc19f5e9c1452c6cc4371e51\n",
            "  Stored in directory: /root/.cache/pip/wheels/90/05/db/f544eb28b85089bf6cf29cb9e30f56b471bf59d56a46c92519\n",
            "Successfully built ibm-platform-services ibm-cloud-sdk-core\n",
            "Installing collected packages: urllib3, PyJWT, pyspnego, ibm-cloud-sdk-core, requests-ntlm, ibm-platform-services, qiskit-ibm-runtime\n",
            "  Attempting uninstall: urllib3\n",
            "    Found existing installation: urllib3 2.0.7\n",
            "    Uninstalling urllib3-2.0.7:\n",
            "      Successfully uninstalled urllib3-2.0.7\n",
            "  Attempting uninstall: PyJWT\n",
            "    Found existing installation: PyJWT 2.3.0\n",
            "    Uninstalling PyJWT-2.3.0:\n",
            "      Successfully uninstalled PyJWT-2.3.0\n",
            "Successfully installed PyJWT-2.8.0 ibm-cloud-sdk-core-3.19.2 ibm-platform-services-0.52.0 pyspnego-0.10.2 qiskit-ibm-runtime-0.21.2 requests-ntlm-1.2.0 urllib3-2.2.1\n",
            "Requirement already satisfied: qiskit[visualization] in /usr/local/lib/python3.10/dist-packages (1.0.2)\n",
            "Requirement already satisfied: rustworkx>=0.14.0 in /usr/local/lib/python3.10/dist-packages (from qiskit[visualization]) (0.14.2)\n",
            "Requirement already satisfied: numpy<2,>=1.17 in /usr/local/lib/python3.10/dist-packages (from qiskit[visualization]) (1.25.2)\n",
            "Requirement already satisfied: scipy>=1.5 in /usr/local/lib/python3.10/dist-packages (from qiskit[visualization]) (1.11.4)\n",
            "Requirement already satisfied: sympy>=1.3 in /usr/local/lib/python3.10/dist-packages (from qiskit[visualization]) (1.12)\n",
            "Requirement already satisfied: dill>=0.3 in /usr/local/lib/python3.10/dist-packages (from qiskit[visualization]) (0.3.8)\n",
            "Requirement already satisfied: python-dateutil>=2.8.0 in /usr/local/lib/python3.10/dist-packages (from qiskit[visualization]) (2.8.2)\n",
            "Requirement already satisfied: stevedore>=3.0.0 in /usr/local/lib/python3.10/dist-packages (from qiskit[visualization]) (5.2.0)\n",
            "Requirement already satisfied: typing-extensions in /usr/local/lib/python3.10/dist-packages (from qiskit[visualization]) (4.10.0)\n",
            "Requirement already satisfied: symengine>=0.11 in /usr/local/lib/python3.10/dist-packages (from qiskit[visualization]) (0.11.0)\n",
            "Requirement already satisfied: matplotlib>=3.3 in /usr/local/lib/python3.10/dist-packages (from qiskit[visualization]) (3.7.1)\n",
            "Requirement already satisfied: pydot in /usr/local/lib/python3.10/dist-packages (from qiskit[visualization]) (1.4.2)\n",
            "Requirement already satisfied: Pillow>=4.2.1 in /usr/local/lib/python3.10/dist-packages (from qiskit[visualization]) (9.4.0)\n",
            "Collecting pylatexenc>=1.4 (from qiskit[visualization])\n",
            "  Downloading pylatexenc-2.10.tar.gz (162 kB)\n",
            "\u001b[2K     \u001b[90m━━━━━━━━━━━━━━━━━━━━━━━━━━━━━━━━━━━━━━━━\u001b[0m \u001b[32m162.6/162.6 kB\u001b[0m \u001b[31m3.6 MB/s\u001b[0m eta \u001b[36m0:00:00\u001b[0m\n",
            "\u001b[?25h  Preparing metadata (setup.py) ... \u001b[?25l\u001b[?25hdone\n",
            "Requirement already satisfied: seaborn>=0.9.0 in /usr/local/lib/python3.10/dist-packages (from qiskit[visualization]) (0.13.1)\n",
            "Requirement already satisfied: contourpy>=1.0.1 in /usr/local/lib/python3.10/dist-packages (from matplotlib>=3.3->qiskit[visualization]) (1.2.0)\n",
            "Requirement already satisfied: cycler>=0.10 in /usr/local/lib/python3.10/dist-packages (from matplotlib>=3.3->qiskit[visualization]) (0.12.1)\n",
            "Requirement already satisfied: fonttools>=4.22.0 in /usr/local/lib/python3.10/dist-packages (from matplotlib>=3.3->qiskit[visualization]) (4.49.0)\n",
            "Requirement already satisfied: kiwisolver>=1.0.1 in /usr/local/lib/python3.10/dist-packages (from matplotlib>=3.3->qiskit[visualization]) (1.4.5)\n",
            "Requirement already satisfied: packaging>=20.0 in /usr/local/lib/python3.10/dist-packages (from matplotlib>=3.3->qiskit[visualization]) (24.0)\n",
            "Requirement already satisfied: pyparsing>=2.3.1 in /usr/local/lib/python3.10/dist-packages (from matplotlib>=3.3->qiskit[visualization]) (3.1.2)\n",
            "Requirement already satisfied: six>=1.5 in /usr/local/lib/python3.10/dist-packages (from python-dateutil>=2.8.0->qiskit[visualization]) (1.16.0)\n",
            "Requirement already satisfied: pandas>=1.2 in /usr/local/lib/python3.10/dist-packages (from seaborn>=0.9.0->qiskit[visualization]) (1.5.3)\n",
            "Requirement already satisfied: pbr!=2.1.0,>=2.0.0 in /usr/local/lib/python3.10/dist-packages (from stevedore>=3.0.0->qiskit[visualization]) (6.0.0)\n",
            "Requirement already satisfied: mpmath>=0.19 in /usr/local/lib/python3.10/dist-packages (from sympy>=1.3->qiskit[visualization]) (1.3.0)\n",
            "Requirement already satisfied: pytz>=2020.1 in /usr/local/lib/python3.10/dist-packages (from pandas>=1.2->seaborn>=0.9.0->qiskit[visualization]) (2023.4)\n",
            "Building wheels for collected packages: pylatexenc\n",
            "  Building wheel for pylatexenc (setup.py) ... \u001b[?25l\u001b[?25hdone\n",
            "  Created wheel for pylatexenc: filename=pylatexenc-2.10-py3-none-any.whl size=136816 sha256=6649e40d650b245bcebe25165d4b4bf6fd137a2796b752084d4281c46ba25d20\n",
            "  Stored in directory: /root/.cache/pip/wheels/d3/31/8b/e09b0386afd80cfc556c00408c9aeea5c35c4d484a9c762fd5\n",
            "Successfully built pylatexenc\n",
            "Installing collected packages: pylatexenc\n",
            "Successfully installed pylatexenc-2.10\n",
            "Collecting qiskit-algorithms\n",
            "  Downloading qiskit_algorithms-0.3.0-py3-none-any.whl (308 kB)\n",
            "\u001b[2K     \u001b[90m━━━━━━━━━━━━━━━━━━━━━━━━━━━━━━━━━━━━━━━━\u001b[0m \u001b[32m308.6/308.6 kB\u001b[0m \u001b[31m3.8 MB/s\u001b[0m eta \u001b[36m0:00:00\u001b[0m\n",
            "\u001b[?25hRequirement already satisfied: qiskit>=0.44 in /usr/local/lib/python3.10/dist-packages (from qiskit-algorithms) (1.0.2)\n",
            "Requirement already satisfied: scipy>=1.4 in /usr/local/lib/python3.10/dist-packages (from qiskit-algorithms) (1.11.4)\n",
            "Requirement already satisfied: numpy>=1.17 in /usr/local/lib/python3.10/dist-packages (from qiskit-algorithms) (1.25.2)\n",
            "Requirement already satisfied: rustworkx>=0.14.0 in /usr/local/lib/python3.10/dist-packages (from qiskit>=0.44->qiskit-algorithms) (0.14.2)\n",
            "Requirement already satisfied: sympy>=1.3 in /usr/local/lib/python3.10/dist-packages (from qiskit>=0.44->qiskit-algorithms) (1.12)\n",
            "Requirement already satisfied: dill>=0.3 in /usr/local/lib/python3.10/dist-packages (from qiskit>=0.44->qiskit-algorithms) (0.3.8)\n",
            "Requirement already satisfied: python-dateutil>=2.8.0 in /usr/local/lib/python3.10/dist-packages (from qiskit>=0.44->qiskit-algorithms) (2.8.2)\n",
            "Requirement already satisfied: stevedore>=3.0.0 in /usr/local/lib/python3.10/dist-packages (from qiskit>=0.44->qiskit-algorithms) (5.2.0)\n",
            "Requirement already satisfied: typing-extensions in /usr/local/lib/python3.10/dist-packages (from qiskit>=0.44->qiskit-algorithms) (4.10.0)\n",
            "Requirement already satisfied: symengine>=0.11 in /usr/local/lib/python3.10/dist-packages (from qiskit>=0.44->qiskit-algorithms) (0.11.0)\n",
            "Requirement already satisfied: six>=1.5 in /usr/local/lib/python3.10/dist-packages (from python-dateutil>=2.8.0->qiskit>=0.44->qiskit-algorithms) (1.16.0)\n",
            "Requirement already satisfied: pbr!=2.1.0,>=2.0.0 in /usr/local/lib/python3.10/dist-packages (from stevedore>=3.0.0->qiskit>=0.44->qiskit-algorithms) (6.0.0)\n",
            "Requirement already satisfied: mpmath>=0.19 in /usr/local/lib/python3.10/dist-packages (from sympy>=1.3->qiskit>=0.44->qiskit-algorithms) (1.3.0)\n",
            "Installing collected packages: qiskit-algorithms\n",
            "Successfully installed qiskit-algorithms-0.3.0\n",
            "Collecting qiskit-aer\n",
            "  Downloading qiskit_aer-0.13.3-cp310-cp310-manylinux_2_17_x86_64.manylinux2014_x86_64.whl (12.3 MB)\n",
            "\u001b[2K     \u001b[90m━━━━━━━━━━━━━━━━━━━━━━━━━━━━━━━━━━━━━━━━\u001b[0m \u001b[32m12.3/12.3 MB\u001b[0m \u001b[31m25.9 MB/s\u001b[0m eta \u001b[36m0:00:00\u001b[0m\n",
            "\u001b[?25hRequirement already satisfied: qiskit>=0.45.0 in /usr/local/lib/python3.10/dist-packages (from qiskit-aer) (1.0.2)\n",
            "Requirement already satisfied: numpy>=1.16.3 in /usr/local/lib/python3.10/dist-packages (from qiskit-aer) (1.25.2)\n",
            "Requirement already satisfied: scipy>=1.0 in /usr/local/lib/python3.10/dist-packages (from qiskit-aer) (1.11.4)\n",
            "Requirement already satisfied: psutil>=5 in /usr/local/lib/python3.10/dist-packages (from qiskit-aer) (5.9.5)\n",
            "Requirement already satisfied: rustworkx>=0.14.0 in /usr/local/lib/python3.10/dist-packages (from qiskit>=0.45.0->qiskit-aer) (0.14.2)\n",
            "Requirement already satisfied: sympy>=1.3 in /usr/local/lib/python3.10/dist-packages (from qiskit>=0.45.0->qiskit-aer) (1.12)\n",
            "Requirement already satisfied: dill>=0.3 in /usr/local/lib/python3.10/dist-packages (from qiskit>=0.45.0->qiskit-aer) (0.3.8)\n",
            "Requirement already satisfied: python-dateutil>=2.8.0 in /usr/local/lib/python3.10/dist-packages (from qiskit>=0.45.0->qiskit-aer) (2.8.2)\n",
            "Requirement already satisfied: stevedore>=3.0.0 in /usr/local/lib/python3.10/dist-packages (from qiskit>=0.45.0->qiskit-aer) (5.2.0)\n",
            "Requirement already satisfied: typing-extensions in /usr/local/lib/python3.10/dist-packages (from qiskit>=0.45.0->qiskit-aer) (4.10.0)\n",
            "Requirement already satisfied: symengine>=0.11 in /usr/local/lib/python3.10/dist-packages (from qiskit>=0.45.0->qiskit-aer) (0.11.0)\n",
            "Requirement already satisfied: six>=1.5 in /usr/local/lib/python3.10/dist-packages (from python-dateutil>=2.8.0->qiskit>=0.45.0->qiskit-aer) (1.16.0)\n",
            "Requirement already satisfied: pbr!=2.1.0,>=2.0.0 in /usr/local/lib/python3.10/dist-packages (from stevedore>=3.0.0->qiskit>=0.45.0->qiskit-aer) (6.0.0)\n",
            "Requirement already satisfied: mpmath>=0.19 in /usr/local/lib/python3.10/dist-packages (from sympy>=1.3->qiskit>=0.45.0->qiskit-aer) (1.3.0)\n",
            "Installing collected packages: qiskit-aer\n",
            "Successfully installed qiskit-aer-0.13.3\n",
            "Requirement already satisfied: scipy in /usr/local/lib/python3.10/dist-packages (1.11.4)\n",
            "Requirement already satisfied: numpy<1.28.0,>=1.21.6 in /usr/local/lib/python3.10/dist-packages (from scipy) (1.25.2)\n",
            "Requirement already satisfied: matplotlib in /usr/local/lib/python3.10/dist-packages (3.7.1)\n",
            "Requirement already satisfied: contourpy>=1.0.1 in /usr/local/lib/python3.10/dist-packages (from matplotlib) (1.2.0)\n",
            "Requirement already satisfied: cycler>=0.10 in /usr/local/lib/python3.10/dist-packages (from matplotlib) (0.12.1)\n",
            "Requirement already satisfied: fonttools>=4.22.0 in /usr/local/lib/python3.10/dist-packages (from matplotlib) (4.49.0)\n",
            "Requirement already satisfied: kiwisolver>=1.0.1 in /usr/local/lib/python3.10/dist-packages (from matplotlib) (1.4.5)\n",
            "Requirement already satisfied: numpy>=1.20 in /usr/local/lib/python3.10/dist-packages (from matplotlib) (1.25.2)\n",
            "Requirement already satisfied: packaging>=20.0 in /usr/local/lib/python3.10/dist-packages (from matplotlib) (24.0)\n",
            "Requirement already satisfied: pillow>=6.2.0 in /usr/local/lib/python3.10/dist-packages (from matplotlib) (9.4.0)\n",
            "Requirement already satisfied: pyparsing>=2.3.1 in /usr/local/lib/python3.10/dist-packages (from matplotlib) (3.1.2)\n",
            "Requirement already satisfied: python-dateutil>=2.7 in /usr/local/lib/python3.10/dist-packages (from matplotlib) (2.8.2)\n",
            "Requirement already satisfied: six>=1.5 in /usr/local/lib/python3.10/dist-packages (from python-dateutil>=2.7->matplotlib) (1.16.0)\n"
          ]
        }
      ],
      "source": [
        "!pip install qiskit\n",
        "!pip install qiskit-ibm-runtime\n",
        "!pip install qiskit[visualization]\n",
        "!pip install qiskit-algorithms\n",
        "!pip install qiskit-aer\n",
        "\n",
        "!pip install scipy\n",
        "!pip install matplotlib"
      ]
    },
    {
      "cell_type": "code",
      "source": [
        "from qiskit_ibm_runtime import QiskitRuntimeService, Estimator, Options\n",
        "from functools import cache\n",
        "# Save an IBM Quantum account and set it as your default account.\n",
        "QiskitRuntimeService.save_account(channel=\"ibm_quantum\",\n",
        "                                  token=\"067e5c82606f0a1157dd554e2087d6b7a9b823dbaa4ad47b95c3337eab2e6cd9361719cc0470f4a98d1631b73b264a82577012a0b8ff32963d5964e6cc12c525\",\n",
        "                                  set_as_default=True,\n",
        "                                  overwrite=True)\n",
        "\n",
        "service = QiskitRuntimeService()\n",
        "backend = service.backend(\"ibmq_qasm_simulator\")"
      ],
      "metadata": {
        "id": "2WPbDpzlm75h"
      },
      "execution_count": 2,
      "outputs": []
    },
    {
      "cell_type": "markdown",
      "source": [
        "# Hamiltonian Diagonalization"
      ],
      "metadata": {
        "id": "KxlrsTqLfZMB"
      }
    },
    {
      "cell_type": "markdown",
      "source": [
        "$$ H =  Σ Z_j Z_{j+1} - Σ X_j  $$\n",
        "\n",
        "1D 5 Qubit System"
      ],
      "metadata": {
        "id": "ECHhrgxzxyoj"
      }
    },
    {
      "cell_type": "code",
      "source": [
        "from qiskit.quantum_info import SparsePauliOp\n",
        "import numpy as np\n",
        "import matplotlib.pyplot as plt"
      ],
      "metadata": {
        "id": "DtnIBeDK08QA"
      },
      "execution_count": null,
      "outputs": []
    },
    {
      "cell_type": "code",
      "source": [
        "interation = 1\n",
        "bias = -1\n",
        "\n",
        "coeff_list = [interation for _ in range(19)] + [bias for _ in range(20)]\n",
        "operator_list = [\"ZZIIIIIIIIIIIIIIIIII\", \"IZZIIIIIIIIIIIIIIIII\", \"IIZZIIIIIIIIIIIIIIII\", \"IIIZZIIIIIIIIIIIIIII\", \"IIIIZZIIIIIIIIIIIIII\",\n",
        "                 \"IIIIIZZIIIIIIIIIIIII\", \"IIIIIIZZIIIIIIIIIIII\", \"IIIIIIIZZIIIIIIIIIII\", \"IIIIIIIIZZIIIIIIIIII\", \"IIIIIIIIIZZIIIIIIIII\",\n",
        "                 \"IIIIIIIIIIZZIIIIIIII\", \"IIIIIIIIIIIZZIIIIIII\", \"IIIIIIIIIIIIZZIIIIII\", \"IIIIIIIIIIIIIZZIIIII\", \"IIIIIIIIIIIIIIZZIIII\",\n",
        "                 \"IIIIIIIIIIIIIIIZZIII\", \"IIIIIIIIIIIIIIIIZZII\", \"IIIIIIIIIIIIIIIIIZZI\", \"IIIIIIIIIIIIIIIIIIZZ\",\n",
        "                 \"XIIIIIIIIIIIIIIIIIII\", \"IXIIIIIIIIIIIIIIIIII\", \"IIXIIIIIIIIIIIIIIIII\", \"IIIXIIIIIIIIIIIIIIII\", \"IIIIXIIIIIIIIIIIIIII\",\n",
        "                 \"IIIIIXIIIIIIIIIIIIII\", \"IIIIIIXIIIIIIIIIIIII\", \"IIIIIIIXIIIIIIIIIIII\", \"IIIIIIIIXIIIIIIIIIII\", \"IIIIIIIIIXIIIIIIIIII\",\n",
        "                 \"IIIIIIIIIIXIIIIIIIII\", \"IIIIIIIIIIIXIIIIIIII\", \"IIIIIIIIIIIIXIIIIIII\", \"IIIIIIIIIIIIIXIIIIII\", \"IIIIIIIIIIIIIIXIIIII\",\n",
        "                 \"IIIIIIIIIIIIIIIXIIII\", \"IIIIIIIIIIIIIIIIXIII\", \"IIIIIIIIIIIIIIIIIXII\", \"IIIIIIIIIIIIIIIIIIXI\", \"IIIIIIIIIIIIIIIIIIIX\",]\n",
        "hamiltonian_list = []\n",
        "for i in range(39):\n",
        "  hamiltonian_list.append((operator_list[i], coeff_list[i]))\n",
        "hamiltonian = SparsePauliOp.from_list(hamiltonian_list)\n",
        "hamiltonian_matrix = hamiltonian.to_matrix()\n",
        "\n",
        "eigenvalue, eigenvector = np.linalg.eig(hamiltonian_matrix)\n",
        "\n",
        "lowest_energy = np.min(eigenvalue)\n",
        "\n",
        "np.real(lowest_energy)"
      ],
      "metadata": {
        "id": "ibnWJRIIS7w8"
      },
      "execution_count": null,
      "outputs": []
    },
    {
      "cell_type": "markdown",
      "source": [
        "# NN (hidden layer depth=1)\n",
        "\n",
        "scipy minimize"
      ],
      "metadata": {
        "id": "-WrqU9C2g8fS"
      }
    },
    {
      "cell_type": "markdown",
      "source": [
        "## Ansatz"
      ],
      "metadata": {
        "id": "cmvKiG5U_VJH"
      }
    },
    {
      "cell_type": "code",
      "source": [
        "from qiskit.circuit import QuantumCircuit, QuantumRegister, ClassicalRegister, Parameter\n",
        "from qiskit.quantum_info import SparsePauliOp\n",
        "from qiskit.circuit import ParameterVector\n",
        "from qiskit.primitives import Estimator, Sampler\n",
        "\n",
        "import numpy as np\n",
        "from scipy.optimize import minimize"
      ],
      "metadata": {
        "id": "rEnUcxZ96kcK"
      },
      "execution_count": 32,
      "outputs": []
    },
    {
      "cell_type": "code",
      "source": [
        "interation = 1\n",
        "bias = -1\n",
        "\n",
        "coeff_list = [interation for _ in range(19)] + [bias for _ in range(20)]\n",
        "operator_list = [\"ZZIIIIIIIIIIIIIIIIII\", \"IZZIIIIIIIIIIIIIIIII\", \"IIZZIIIIIIIIIIIIIIII\", \"IIIZZIIIIIIIIIIIIIII\", \"IIIIZZIIIIIIIIIIIIII\",\n",
        "                 \"IIIIIZZIIIIIIIIIIIII\", \"IIIIIIZZIIIIIIIIIIII\", \"IIIIIIIZZIIIIIIIIIII\", \"IIIIIIIIZZIIIIIIIIII\", \"IIIIIIIIIZZIIIIIIIII\",\n",
        "                 \"IIIIIIIIIIZZIIIIIIII\", \"IIIIIIIIIIIZZIIIIIII\", \"IIIIIIIIIIIIZZIIIIII\", \"IIIIIIIIIIIIIZZIIIII\", \"IIIIIIIIIIIIIIZZIIII\",\n",
        "                 \"IIIIIIIIIIIIIIIZZIII\", \"IIIIIIIIIIIIIIIIZZII\", \"IIIIIIIIIIIIIIIIIZZI\", \"IIIIIIIIIIIIIIIIIIZZ\",\n",
        "                 \"XIIIIIIIIIIIIIIIIIII\", \"IXIIIIIIIIIIIIIIIIII\", \"IIXIIIIIIIIIIIIIIIII\", \"IIIXIIIIIIIIIIIIIIII\", \"IIIIXIIIIIIIIIIIIIII\",\n",
        "                 \"IIIIIXIIIIIIIIIIIIII\", \"IIIIIIXIIIIIIIIIIIII\", \"IIIIIIIXIIIIIIIIIIII\", \"IIIIIIIIXIIIIIIIIIII\", \"IIIIIIIIIXIIIIIIIIII\",\n",
        "                 \"IIIIIIIIIIXIIIIIIIII\", \"IIIIIIIIIIIXIIIIIIII\", \"IIIIIIIIIIIIXIIIIIII\", \"IIIIIIIIIIIIIXIIIIII\", \"IIIIIIIIIIIIIIXIIIII\",\n",
        "                 \"IIIIIIIIIIIIIIIXIIII\", \"IIIIIIIIIIIIIIIIXIII\", \"IIIIIIIIIIIIIIIIIXII\", \"IIIIIIIIIIIIIIIIIIXI\", \"IIIIIIIIIIIIIIIIIIIX\",]\n",
        "hamiltonian_list = []\n",
        "for i in range(39):\n",
        "  hamiltonian_list.append((operator_list[i], coeff_list[i]))\n",
        "hamiltonian = SparsePauliOp.from_list(hamiltonian_list)"
      ],
      "metadata": {
        "id": "7ezdxuKWps3V"
      },
      "execution_count": 33,
      "outputs": []
    },
    {
      "cell_type": "code",
      "source": [
        "ansatz_zz_set = []\n",
        "ansatz_x_set = []"
      ],
      "metadata": {
        "id": "jVmqyYfpWNRu"
      },
      "execution_count": 34,
      "outputs": []
    },
    {
      "cell_type": "code",
      "source": [
        "def right_shifter(seq, num):\n",
        "  return seq[20-num:20]+seq[0:20-num]"
      ],
      "metadata": {
        "id": "aKHnb8L5WVUG"
      },
      "execution_count": 35,
      "outputs": []
    },
    {
      "cell_type": "code",
      "source": [
        "def left_shifter(seq, num):\n",
        "  new_seq = []\n",
        "  for i in range(num):\n",
        "    new_seq.append(seq[20-num+i])\n",
        "  for i in range(20-num):\n",
        "    new_seq.append(seq[i])\n",
        "  new_seq = np.array(new_seq)\n",
        "\n",
        "  return new_seq"
      ],
      "metadata": {
        "id": "1y_5TFXOcC0N"
      },
      "execution_count": 36,
      "outputs": []
    },
    {
      "cell_type": "code",
      "source": [
        "# ZZ measurement\n",
        "seq_q = [0,1,2,3,4,5,6,7,8,9,10,11,12,13,14,15,16,17,18,19]\n",
        "seq_c = [19,18,17,16,15,14,13,12,11,10,9,8,7,6,5,4,3,2,1,0]\n",
        "\n",
        "for i in range(19):\n",
        "\n",
        "  qbit = QuantumRegister(20)\n",
        "  cbit = ClassicalRegister(20)\n",
        "  ansatz = QuantumCircuit(qbit, cbit)\n",
        "\n",
        "  ansatz.h(range(0,20))\n",
        "\n",
        "  ansatz.measure(seq_q,right_shifter(seq_c, i))\n",
        "\n",
        "  ansatz_zz_set.append(ansatz)"
      ],
      "metadata": {
        "id": "yaVMbEJqUUJk"
      },
      "execution_count": 37,
      "outputs": []
    },
    {
      "cell_type": "code",
      "source": [
        "# X measurement\n",
        "seq_q = [0,1,2,3,4,5,6,7,8,9,10,11,12,13,14,15,16,17,18,19]\n",
        "seq_c = [19,18,17,16,15,14,13,12,11,10,9,8,7,6,5,4,3,2,1,0]\n",
        "\n",
        "for i in range(20):\n",
        "\n",
        "  qbit = QuantumRegister(20)\n",
        "  cbit = ClassicalRegister(20)\n",
        "  ansatz = QuantumCircuit(qbit, cbit)\n",
        "\n",
        "  ansatz.h(range(0,20))\n",
        "  ansatz.h(i)\n",
        "\n",
        "  ansatz.barrier()\n",
        "  ansatz.measure(seq_q,right_shifter(seq_c, i))\n",
        "\n",
        "  ansatz_x_set.append(ansatz)"
      ],
      "metadata": {
        "id": "sK_dThc9R7G0"
      },
      "execution_count": 38,
      "outputs": []
    },
    {
      "cell_type": "code",
      "source": [
        "# Estimator & Sampler\n",
        "\n",
        "estimator = Estimator()\n",
        "sampler = Sampler()"
      ],
      "metadata": {
        "id": "28sPwp06fWTY"
      },
      "execution_count": 39,
      "outputs": []
    },
    {
      "cell_type": "markdown",
      "source": [
        "## VQNHE Function"
      ],
      "metadata": {
        "id": "gUcslBJvfnES"
      }
    },
    {
      "cell_type": "code",
      "source": [
        "# Activation Function for Neural Network\n",
        "\n",
        "def relu(x):\n",
        "  return np.maximum(0, x)\n",
        "\n",
        "\n",
        "def output_activate(c, x):\n",
        "  return np.exp(c*np.tanh(x))"
      ],
      "metadata": {
        "id": "S74MX6lCepWz"
      },
      "execution_count": 51,
      "outputs": []
    },
    {
      "cell_type": "code",
      "source": [
        "# Neural Network\n",
        "# Output : f(s)\n",
        "\n",
        "def neural_net(parameter, x):\n",
        "\n",
        "  W1 = parameter[0:400]\n",
        "  W2 = parameter[400:420]\n",
        "  c = parameter[420]\n",
        "\n",
        "  W1 = W1.reshape(20,20)\n",
        "  W2 = W2.reshape(1,20)\n",
        "\n",
        "  a1 = np.matmul(W1, x)\n",
        "  z1 = relu(a1)\n",
        "\n",
        "  a2 = np.matmul(W2, z1)\n",
        "  y = output_activate(c, a2)\n",
        "\n",
        "  return y[0]"
      ],
      "metadata": {
        "id": "nZmyWBXHepMg"
      },
      "execution_count": 52,
      "outputs": []
    },
    {
      "cell_type": "code",
      "source": [
        "# Convert Decimal Number to Binary Number\n",
        "\n",
        "def d2b(x):\n",
        "\n",
        "  binary = []\n",
        "\n",
        "  for _ in range(20):\n",
        "    binary.append(x % 2)\n",
        "    x = x // 2\n",
        "\n",
        "  binary.reverse()\n",
        "\n",
        "  return np.array(binary)"
      ],
      "metadata": {
        "id": "-CKREdUbepI3"
      },
      "execution_count": 53,
      "outputs": []
    },
    {
      "cell_type": "code",
      "source": [
        "@cache\n",
        "def prob_zz_str(num):\n",
        "  job = sampler.run(ansatz_zz_set[num]).result()\n",
        "  prob_string = job.quasi_dists[0]\n",
        "\n",
        "  for i in range(2**20):\n",
        "   if not (i in prob_string):  prob_string[i] = 0\n",
        "\n",
        "  return prob_string\n",
        "\n",
        "@cache\n",
        "def prob_x_str(num):\n",
        "  job = sampler.run(ansatz_x_set[num]).result()\n",
        "  prob_string = job.quasi_dists[0]\n",
        "\n",
        "  for i in range(2**20):\n",
        "   if not (i in prob_string):  prob_string[i] = 0\n",
        "\n",
        "  return prob_string"
      ],
      "metadata": {
        "id": "3Cff7o8Je8QS"
      },
      "execution_count": 54,
      "outputs": []
    },
    {
      "cell_type": "code",
      "source": [
        "def ZZ_vqnhe(params_nn, num):\n",
        "  prob_string = prob_zz_str(num)\n",
        "  nnval = np.array([(neural_net(params_nn, left_shifter(d2b(j),num)))**2 for j in range(2**20)])\n",
        "\n",
        "  expval = 0\n",
        "\n",
        "  for k in range(2**20):\n",
        "    if k // 2**18 == 0 or k // 2**18 == 3:\n",
        "      expval = expval + prob_string[k]*nnval[k]\n",
        "    else:\n",
        "      expval = expval - prob_string[k]*nnval[k]\n",
        "\n",
        "  return expval"
      ],
      "metadata": {
        "id": "_rBBWOGgTPa3"
      },
      "execution_count": 55,
      "outputs": []
    },
    {
      "cell_type": "code",
      "source": [
        "def X_vqnhe(params_nn, num):\n",
        "  prob_string = prob_x_str(num)\n",
        "  nnval = np.array([neural_net(params_nn, left_shifter(d2b(j),num)) for j in range(2**20)])\n",
        "\n",
        "  expval = 0\n",
        "\n",
        "  for k in range(2**19):\n",
        "    delt = prob_string[k] - prob_string[k+2**19]\n",
        "    expval = expval + delt*nnval[k]*nnval[k+2**19]\n",
        "\n",
        "  return expval"
      ],
      "metadata": {
        "id": "tu7sGpe6cY4j"
      },
      "execution_count": 56,
      "outputs": []
    },
    {
      "cell_type": "code",
      "source": [
        "def norm_vqnhe(params_nn):\n",
        "  prob_string = prob_zz_str(0)\n",
        "  nnval = np.array([(neural_net(params_nn, left_shifter(d2b(j),0)))**2 for j in range(2**20)])\n",
        "\n",
        "  expval = 0\n",
        "\n",
        "  for k in range(2**20):\n",
        "    expval = expval + prob_string[k]*nnval[k]\n",
        "\n",
        "  return expval"
      ],
      "metadata": {
        "id": "nR1Nmd3LdLNx"
      },
      "execution_count": 57,
      "outputs": []
    },
    {
      "cell_type": "code",
      "source": [
        "def cost_func_vqnhe(params_nn):\n",
        "  expval = 0\n",
        "\n",
        "  for i in range(19):\n",
        "    expval = expval + ZZ_vqnhe(params_nn, i)\n",
        "\n",
        "  for i in range(20):\n",
        "    expval = expval - X_vqnhe(params_nn, i)\n",
        "\n",
        "\n",
        "  expval = expval / norm_vqnhe(params_nn)\n",
        "\n",
        "  return expval"
      ],
      "metadata": {
        "id": "cMF_KxKLdx4f"
      },
      "execution_count": 58,
      "outputs": []
    },
    {
      "cell_type": "code",
      "source": [
        "def build_callback_vqnhe(callback_dict):\n",
        "  def callback(current_vector):\n",
        "    callback_dict[\"iters\"] += 1\n",
        "    callback_dict[\"prev_vector\"] = current_vector\n",
        "    current_cost_vqnhe = cost_func_vqnhe(current_vector)\n",
        "\n",
        "    callback_dict[\"cost_history\"].append(current_cost_vqnhe)\n",
        "\n",
        "    print(current_cost_vqnhe)\n",
        "\n",
        "  return callback"
      ],
      "metadata": {
        "id": "TUNPOBB2L5hj"
      },
      "execution_count": 59,
      "outputs": []
    },
    {
      "cell_type": "markdown",
      "source": [
        "## 2nd Step : VQNHE"
      ],
      "metadata": {
        "id": "8M8wfGCy_Pj5"
      }
    },
    {
      "cell_type": "code",
      "source": [
        "local_minimum_list = []\n",
        "\n",
        "for k in range(50):\n",
        "\n",
        "  callback_dict = {\n",
        "    \"prev_vector\": None,\n",
        "    \"iters\": 0,\n",
        "    \"cost_history\": [],\n",
        "  }\n",
        "\n",
        "  np.random.seed(k)\n",
        "  x0 = 2 * np.pi * np.random.random(421)\n",
        "\n",
        "  callback = build_callback_vqnhe(callback_dict)\n",
        "\n",
        "  options = dict()\n",
        "  options[\"maxiter\"] = 400\n",
        "  options[\"disp\"] = True\n",
        "\n",
        "  res = minimize(\n",
        "    cost_func_vqnhe,\n",
        "    x0,\n",
        "    args=(),\n",
        "    method=\"bfgs\",\n",
        "    callback=callback,\n",
        "    options=options\n",
        "  )\n",
        "\n",
        "  local_minimum_dict = callback_dict[\"cost_history\"]\n",
        "  local_minimum_list.append(local_minimum_dict[-1])\n",
        "\n",
        "  print(res.x)\n",
        "  print()\n",
        "  print()\n",
        "  print()"
      ],
      "metadata": {
        "id": "Omx12cth_XfI"
      },
      "execution_count": null,
      "outputs": []
    },
    {
      "cell_type": "code",
      "source": [
        "local_minimum_list"
      ],
      "metadata": {
        "id": "gBt1L-uLHsiE"
      },
      "execution_count": null,
      "outputs": []
    },
    {
      "cell_type": "code",
      "source": [
        "np.min(local_minimum_list)"
      ],
      "metadata": {
        "id": "LpPrip4cpDDe"
      },
      "execution_count": null,
      "outputs": []
    },
    {
      "cell_type": "markdown",
      "source": [
        "# VQE (depth=2) in Noiseless Simulator\n",
        "\n",
        "scipy minimize"
      ],
      "metadata": {
        "id": "OzBZQyEvOaD3"
      }
    },
    {
      "cell_type": "markdown",
      "source": [
        "## Ansatz"
      ],
      "metadata": {
        "id": "38OLD571OaD-"
      }
    },
    {
      "cell_type": "code",
      "source": [
        "from qiskit.circuit import QuantumCircuit, QuantumRegister, ClassicalRegister, Parameter\n",
        "from qiskit.quantum_info import SparsePauliOp\n",
        "from qiskit.circuit import ParameterVector\n",
        "from qiskit.primitives import Estimator, Sampler\n",
        "\n",
        "import numpy as np\n",
        "from scipy.optimize import minimize"
      ],
      "metadata": {
        "id": "A8oHy809OaD-"
      },
      "execution_count": null,
      "outputs": []
    },
    {
      "cell_type": "code",
      "source": [
        "interation = 1\n",
        "bias = -1\n",
        "\n",
        "coeff_list = [interation for _ in range(19)] + [bias for _ in range(20)]\n",
        "operator_list = [\"ZZIIIIIIIIIIIIIIIIII\", \"IZZIIIIIIIIIIIIIIIII\", \"IIZZIIIIIIIIIIIIIIII\", \"IIIZZIIIIIIIIIIIIIII\", \"IIIIZZIIIIIIIIIIIIII\",\n",
        "                 \"IIIIIZZIIIIIIIIIIIII\", \"IIIIIIZZIIIIIIIIIIII\", \"IIIIIIIZZIIIIIIIIIII\", \"IIIIIIIIZZIIIIIIIIII\", \"IIIIIIIIIZZIIIIIIIII\",\n",
        "                 \"IIIIIIIIIIZZIIIIIIII\", \"IIIIIIIIIIIZZIIIIIII\", \"IIIIIIIIIIIIZZIIIIII\", \"IIIIIIIIIIIIIZZIIIII\", \"IIIIIIIIIIIIIIZZIIII\",\n",
        "                 \"IIIIIIIIIIIIIIIZZIII\", \"IIIIIIIIIIIIIIIIZZII\", \"IIIIIIIIIIIIIIIIIZZI\", \"IIIIIIIIIIIIIIIIIIZZ\",\n",
        "                 \"XIIIIIIIIIIIIIIIIIII\", \"IXIIIIIIIIIIIIIIIIII\", \"IIXIIIIIIIIIIIIIIIII\", \"IIIXIIIIIIIIIIIIIIII\", \"IIIIXIIIIIIIIIIIIIII\",\n",
        "                 \"IIIIIXIIIIIIIIIIIIII\", \"IIIIIIXIIIIIIIIIIIII\", \"IIIIIIIXIIIIIIIIIIII\", \"IIIIIIIIXIIIIIIIIIII\", \"IIIIIIIIIXIIIIIIIIII\",\n",
        "                 \"IIIIIIIIIIXIIIIIIIII\", \"IIIIIIIIIIIXIIIIIIII\", \"IIIIIIIIIIIIXIIIIIII\", \"IIIIIIIIIIIIIXIIIIII\", \"IIIIIIIIIIIIIIXIIIII\",\n",
        "                 \"IIIIIIIIIIIIIIIXIIII\", \"IIIIIIIIIIIIIIIIXIII\", \"IIIIIIIIIIIIIIIIIXII\", \"IIIIIIIIIIIIIIIIIIXI\", \"IIIIIIIIIIIIIIIIIIIX\",]\n",
        "hamiltonian_list = []\n",
        "for i in range(39):\n",
        "  hamiltonian_list.append((operator_list[i], coeff_list[i]))\n",
        "hamiltonian = SparsePauliOp.from_list(hamiltonian_list)"
      ],
      "metadata": {
        "id": "OhXwKvMXOaD-"
      },
      "execution_count": null,
      "outputs": []
    },
    {
      "cell_type": "code",
      "source": [
        "ansatz_zz_set = []\n",
        "ansatz_x_set = []"
      ],
      "metadata": {
        "id": "qiJ3NWY1OaD-"
      },
      "execution_count": null,
      "outputs": []
    },
    {
      "cell_type": "code",
      "source": [
        "def right_shifter(seq, num):\n",
        "  return seq[20-num:20]+seq[0:20-num]"
      ],
      "metadata": {
        "id": "BjxGhQTXOaD_"
      },
      "execution_count": null,
      "outputs": []
    },
    {
      "cell_type": "code",
      "source": [
        "def left_shifter(seq, num):\n",
        "  new_seq = []\n",
        "  for i in range(num):\n",
        "    new_seq.append(seq[20-num+i])\n",
        "  for i in range(20-num):\n",
        "    new_seq.append(seq[i])\n",
        "  new_seq = np.array(new_seq)\n",
        "\n",
        "  return new_seq"
      ],
      "metadata": {
        "id": "NEf_Fkn1OaD_"
      },
      "execution_count": null,
      "outputs": []
    },
    {
      "cell_type": "code",
      "source": [
        "# ZZ measurement\n",
        "seq_q = [0,1,2,3,4,5,6,7,8,9,10,11,12,13,14,15,16,17,18,19]\n",
        "seq_c = [19,18,17,16,15,14,13,12,11,10,9,8,7,6,5,4,3,2,1,0]\n",
        "\n",
        "for i in range(19):\n",
        "\n",
        "  qbit = QuantumRegister(20)\n",
        "  cbit = ClassicalRegister(20)\n",
        "  ansatz = QuantumCircuit(qbit, cbit)\n",
        "\n",
        "  params = ParameterVector(\"theta\", length=78)\n",
        "  it = iter(params)\n",
        "\n",
        "  ansatz.h(range(0,20))\n",
        "\n",
        "  ansatz.barrier()\n",
        "\n",
        "  for i in range(0,20,2):\n",
        "    ansatz.cx(i,i+1)\n",
        "  for i in range(0,20,2):\n",
        "    ansatz.rz(next(it), i+1)\n",
        "  for i in range(0,20,2):\n",
        "    ansatz.cx(i,i+1)\n",
        "\n",
        "  for i in range(1,19,2):\n",
        "    ansatz.cx(i,i+1)\n",
        "  for i in range(1,19,2):\n",
        "    ansatz.rz(next(it), i+1)\n",
        "  for i in range(1,19,2):\n",
        "    ansatz.cx(i,i+1)\n",
        "\n",
        "  ansatz.barrier()\n",
        "\n",
        "  for i in range(20):\n",
        "    ansatz.rx(next(it), i)\n",
        "\n",
        "\n",
        "  ansatz.barrier()\n",
        "\n",
        "  for i in range(0,20,2):\n",
        "    ansatz.cx(i,i+1)\n",
        "  for i in range(0,20,2):\n",
        "    ansatz.rz(next(it), i+1)\n",
        "  for i in range(0,20,2):\n",
        "    ansatz.cx(i,i+1)\n",
        "\n",
        "  for i in range(1,19,2):\n",
        "    ansatz.cx(i,i+1)\n",
        "  for i in range(1,19,2):\n",
        "    ansatz.rz(next(it), i+1)\n",
        "  for i in range(1,19,2):\n",
        "    ansatz.cx(i,i+1)\n",
        "\n",
        "  ansatz.barrier()\n",
        "\n",
        "  for i in range(20):\n",
        "    ansatz.rx(next(it), i)\n",
        "\n",
        "  ansatz.measure(seq_q,right_shifter(seq_c, i))\n",
        "\n",
        "  ansatz_zz_set.append(ansatz)"
      ],
      "metadata": {
        "id": "Xzr-45hxOaD_"
      },
      "execution_count": null,
      "outputs": []
    },
    {
      "cell_type": "code",
      "source": [
        "# X measurement\n",
        "seq_q = [0,1,2,3,4,5,6,7,8,9,10,11,12,13,14,15,16,17,18,19]\n",
        "seq_c = [19,18,17,16,15,14,13,12,11,10,9,8,7,6,5,4,3,2,1,0]\n",
        "\n",
        "for i in range(20):\n",
        "  ansatz_prime = ansatz\n",
        "  ansatz_prime.h(i)\n",
        "  ansatz_prime.measure(seq_q,right_shifter(seq_c, i))\n",
        "\n",
        "  ansatz_x_set.append(ansatz_prime)"
      ],
      "metadata": {
        "id": "zTSkYGBbOaD_"
      },
      "execution_count": null,
      "outputs": []
    },
    {
      "cell_type": "code",
      "source": [
        "# Ansatz\n",
        "\n",
        "ansatz = QuantumCircuit(20)\n",
        "\n",
        "params = ParameterVector(\"theta\", length=78)\n",
        "it = iter(params)\n",
        "ansatz.h(range(0,20))\n",
        "\n",
        "ansatz.barrier()\n",
        "\n",
        "for i in range(0,20,2):\n",
        "  ansatz.cx(i,i+1)\n",
        "for i in range(0,20,2):\n",
        "  ansatz.rz(next(it), i+1)\n",
        "for i in range(0,20,2):\n",
        "  ansatz.cx(i,i+1)\n",
        "\n",
        "for i in range(1,19,2):\n",
        "  ansatz.cx(i,i+1)\n",
        "for i in range(1,19,2):\n",
        "  ansatz.rz(next(it), i+1)\n",
        "for i in range(1,19,2):\n",
        "  ansatz.cx(i,i+1)\n",
        "\n",
        "ansatz.barrier()\n",
        "\n",
        "for i in range(20):\n",
        "  ansatz.rx(next(it), i)\n",
        "\n",
        "\n",
        "ansatz.barrier()\n",
        "\n",
        "for i in range(0,20,2):\n",
        "  ansatz.cx(i,i+1)\n",
        "for i in range(0,20,2):\n",
        "  ansatz.rz(next(it), i+1)\n",
        "for i in range(0,20,2):\n",
        "  ansatz.cx(i,i+1)\n",
        "\n",
        "for i in range(1,19,2):\n",
        "  ansatz.cx(i,i+1)\n",
        "for i in range(1,19,2):\n",
        "  ansatz.rz(next(it), i+1)\n",
        "for i in range(1,19,2):\n",
        "  ansatz.cx(i,i+1)\n",
        "\n",
        "ansatz.barrier()\n",
        "\n",
        "for i in range(20):\n",
        "  ansatz.rx(next(it), i)\n",
        "\n",
        "ansatz.draw(\"mpl\")"
      ],
      "metadata": {
        "outputId": "dfde932a-4f89-48bf-e10c-b14c362c6381",
        "colab": {
          "base_uri": "https://localhost:8080/",
          "height": 1000
        },
        "id": "wiGsRD47OaD_"
      },
      "execution_count": null,
      "outputs": [
        {
          "output_type": "execute_result",
          "data": {
            "text/plain": [
              "<Figure size 1727.12x1705.67 with 1 Axes>"
            ],
            "image/png": "[encoded data removed]"
          },
          "metadata": {},
          "execution_count": 13
        }
      ]
    },
    {
      "cell_type": "code",
      "source": [
        "# Estimator & Sampler\n",
        "\n",
        "estimator = Estimator()\n",
        "sampler = Sampler()"
      ],
      "metadata": {
        "id": "3IL_aEp3OaD_"
      },
      "execution_count": null,
      "outputs": []
    },
    {
      "cell_type": "markdown",
      "source": [
        "## VQE Function"
      ],
      "metadata": {
        "id": "9bS-6Vi-OaD_"
      }
    },
    {
      "cell_type": "code",
      "source": [
        "def cost_func_vqe(params_pqc):\n",
        "    cost = estimator.run(ansatz, hamiltonian, parameter_values=params_pqc).result()\n",
        "    return cost.values[0]"
      ],
      "metadata": {
        "id": "m_vspAwkOaD_"
      },
      "execution_count": null,
      "outputs": []
    },
    {
      "cell_type": "code",
      "source": [
        "def build_callback_vqe(callback_dict):\n",
        "  def callback(current_vector):\n",
        "    callback_dict[\"iters\"] += 1\n",
        "    callback_dict[\"prev_vector\"] = current_vector\n",
        "    current_cost_vqe = cost_func_vqe(current_vector)\n",
        "\n",
        "    callback_dict[\"cost_history\"].append(current_cost_vqe)\n",
        "\n",
        "    print(current_cost_vqe)\n",
        "\n",
        "  return callback"
      ],
      "metadata": {
        "id": "zXc7PPNhOaD_"
      },
      "execution_count": null,
      "outputs": []
    },
    {
      "cell_type": "markdown",
      "source": [
        "## 1st Step : VQE"
      ],
      "metadata": {
        "id": "hWlPOJHYOaD_"
      }
    },
    {
      "cell_type": "code",
      "source": [
        "local_minimum_list = []\n",
        "\n",
        "for k in range(20):\n",
        "\n",
        "  callback_dict = {\n",
        "    \"prev_vector\": None,\n",
        "    \"iters\": 0,\n",
        "    \"cost_history\": [],\n",
        "  }\n",
        "\n",
        "  np.random.seed(k)\n",
        "  x0 = 2 * np.pi * np.random.random(78)\n",
        "\n",
        "  callback = build_callback_vqe(callback_dict)\n",
        "\n",
        "  options = dict()\n",
        "  options[\"maxiter\"] = 400\n",
        "  options[\"disp\"] = True\n",
        "\n",
        "  res = minimize(\n",
        "    cost_func_vqe,\n",
        "    x0,\n",
        "    args=(),\n",
        "    method=\"bfgs\",\n",
        "    callback=callback,\n",
        "    options=options\n",
        "  )\n",
        "\n",
        "  local_minimum_dict = callback_dict[\"cost_history\"]\n",
        "  local_minimum_list.append(local_minimum_dict[-1])\n",
        "\n",
        "  print(res.x)\n",
        "  print()\n",
        "  print()\n",
        "  print()"
      ],
      "metadata": {
        "outputId": "0b21ab11-97dc-4328-d990-33f28c885657",
        "colab": {
          "base_uri": "https://localhost:8080/",
          "height": 1000
        },
        "id": "x2Xq_staOaD_"
      },
      "execution_count": null,
      "outputs": [
        {
          "output_type": "stream",
          "name": "stdout",
          "text": [
            "-7.520705323850237\n",
            "-11.53493418660927\n",
            "-15.92693751140486\n",
            "-16.26055606889794\n",
            "-16.8901045017294\n",
            "-17.951111887905498\n",
            "-18.858145091727792\n",
            "-18.982969862101886\n",
            "-19.113855978893195\n",
            "-19.180114899819607\n",
            "-19.21446028010052\n",
            "-19.230509479778053\n",
            "-19.234727404623865\n",
            "-19.2368209034219\n",
            "-19.23770093414145\n",
            "-19.238399689178117\n",
            "-19.238830388495053\n",
            "-19.2392292760753\n",
            "-19.2397407835938\n",
            "-19.240340723073405\n",
            "-19.240757486749835\n",
            "-19.24097739725853\n",
            "-19.241060581137965\n",
            "-19.24111975904884\n",
            "-19.24119987524806\n",
            "-19.24126626199791\n",
            "-19.24130988775322\n",
            "-19.24136017581126\n",
            "-19.241435270982784\n",
            "-19.241551202741853\n",
            "-19.241711883905506\n",
            "-19.241865123153474\n",
            "-19.242030764910734\n",
            "-19.242169040599727\n",
            "-19.242231447566358\n",
            "-19.24225731823796\n",
            "-19.242276843892576\n"
          ]
        },
        {
          "output_type": "error",
          "ename": "KeyboardInterrupt",
          "evalue": "",
          "traceback": [
            "\u001b[0;31m---------------------------------------------------------------------------\u001b[0m",
            "\u001b[0;31mKeyboardInterrupt\u001b[0m                         Traceback (most recent call last)",
            "\u001b[0;32m<ipython-input-74-527be9b85fc4>\u001b[0m in \u001b[0;36m<cell line: 3>\u001b[0;34m()\u001b[0m\n\u001b[1;32m     18\u001b[0m   \u001b[0moptions\u001b[0m\u001b[0;34m[\u001b[0m\u001b[0;34m\"disp\"\u001b[0m\u001b[0;34m]\u001b[0m \u001b[0;34m=\u001b[0m \u001b[0;32mTrue\u001b[0m\u001b[0;34m\u001b[0m\u001b[0;34m\u001b[0m\u001b[0m\n\u001b[1;32m     19\u001b[0m \u001b[0;34m\u001b[0m\u001b[0m\n\u001b[0;32m---> 20\u001b[0;31m   res = minimize(\n\u001b[0m\u001b[1;32m     21\u001b[0m     \u001b[0mcost_func_vqe\u001b[0m\u001b[0;34m,\u001b[0m\u001b[0;34m\u001b[0m\u001b[0;34m\u001b[0m\u001b[0m\n\u001b[1;32m     22\u001b[0m     \u001b[0mx0\u001b[0m\u001b[0;34m,\u001b[0m\u001b[0;34m\u001b[0m\u001b[0;34m\u001b[0m\u001b[0m\n",
            "\u001b[0;32m/usr/local/lib/python3.10/dist-packages/scipy/optimize/_minimize.py\u001b[0m in \u001b[0;36mminimize\u001b[0;34m(fun, x0, args, method, jac, hess, hessp, bounds, constraints, tol, callback, options)\u001b[0m\n\u001b[1;32m    703\u001b[0m         \u001b[0mres\u001b[0m \u001b[0;34m=\u001b[0m \u001b[0m_minimize_cg\u001b[0m\u001b[0;34m(\u001b[0m\u001b[0mfun\u001b[0m\u001b[0;34m,\u001b[0m \u001b[0mx0\u001b[0m\u001b[0;34m,\u001b[0m \u001b[0margs\u001b[0m\u001b[0;34m,\u001b[0m \u001b[0mjac\u001b[0m\u001b[0;34m,\u001b[0m \u001b[0mcallback\u001b[0m\u001b[0;34m,\u001b[0m \u001b[0;34m**\u001b[0m\u001b[0moptions\u001b[0m\u001b[0;34m)\u001b[0m\u001b[0;34m\u001b[0m\u001b[0;34m\u001b[0m\u001b[0m\n\u001b[1;32m    704\u001b[0m     \u001b[0;32melif\u001b[0m \u001b[0mmeth\u001b[0m \u001b[0;34m==\u001b[0m \u001b[0;34m'bfgs'\u001b[0m\u001b[0;34m:\u001b[0m\u001b[0;34m\u001b[0m\u001b[0;34m\u001b[0m\u001b[0m\n\u001b[0;32m--> 705\u001b[0;31m         \u001b[0mres\u001b[0m \u001b[0;34m=\u001b[0m \u001b[0m_minimize_bfgs\u001b[0m\u001b[0;34m(\u001b[0m\u001b[0mfun\u001b[0m\u001b[0;34m,\u001b[0m \u001b[0mx0\u001b[0m\u001b[0;34m,\u001b[0m \u001b[0margs\u001b[0m\u001b[0;34m,\u001b[0m \u001b[0mjac\u001b[0m\u001b[0;34m,\u001b[0m \u001b[0mcallback\u001b[0m\u001b[0;34m,\u001b[0m \u001b[0;34m**\u001b[0m\u001b[0moptions\u001b[0m\u001b[0;34m)\u001b[0m\u001b[0;34m\u001b[0m\u001b[0;34m\u001b[0m\u001b[0m\n\u001b[0m\u001b[1;32m    706\u001b[0m     \u001b[0;32melif\u001b[0m \u001b[0mmeth\u001b[0m \u001b[0;34m==\u001b[0m \u001b[0;34m'newton-cg'\u001b[0m\u001b[0;34m:\u001b[0m\u001b[0;34m\u001b[0m\u001b[0;34m\u001b[0m\u001b[0m\n\u001b[1;32m    707\u001b[0m         res = _minimize_newtoncg(fun, x0, args, jac, hess, hessp, callback,\n",
            "\u001b[0;32m/usr/local/lib/python3.10/dist-packages/scipy/optimize/_optimize.py\u001b[0m in \u001b[0;36m_minimize_bfgs\u001b[0;34m(fun, x0, args, jac, callback, gtol, norm, eps, maxiter, disp, return_all, finite_diff_rel_step, xrtol, **unknown_options)\u001b[0m\n\u001b[1;32m   1443\u001b[0m         \u001b[0;32mtry\u001b[0m\u001b[0;34m:\u001b[0m\u001b[0;34m\u001b[0m\u001b[0;34m\u001b[0m\u001b[0m\n\u001b[1;32m   1444\u001b[0m             \u001b[0malpha_k\u001b[0m\u001b[0;34m,\u001b[0m \u001b[0mfc\u001b[0m\u001b[0;34m,\u001b[0m \u001b[0mgc\u001b[0m\u001b[0;34m,\u001b[0m \u001b[0mold_fval\u001b[0m\u001b[0;34m,\u001b[0m \u001b[0mold_old_fval\u001b[0m\u001b[0;34m,\u001b[0m \u001b[0mgfkp1\u001b[0m \u001b[0;34m=\u001b[0m\u001b[0;31m \u001b[0m\u001b[0;31m\\\u001b[0m\u001b[0;34m\u001b[0m\u001b[0;34m\u001b[0m\u001b[0m\n\u001b[0;32m-> 1445\u001b[0;31m                      _line_search_wolfe12(f, myfprime, xk, pk, gfk,\n\u001b[0m\u001b[1;32m   1446\u001b[0m                                           old_fval, old_old_fval, amin=1e-100, amax=1e100)\n\u001b[1;32m   1447\u001b[0m         \u001b[0;32mexcept\u001b[0m \u001b[0m_LineSearchError\u001b[0m\u001b[0;34m:\u001b[0m\u001b[0;34m\u001b[0m\u001b[0;34m\u001b[0m\u001b[0m\n",
            "\u001b[0;32m/usr/local/lib/python3.10/dist-packages/scipy/optimize/_optimize.py\u001b[0m in \u001b[0;36m_line_search_wolfe12\u001b[0;34m(f, fprime, xk, pk, gfk, old_fval, old_old_fval, **kwargs)\u001b[0m\n\u001b[1;32m   1213\u001b[0m     \u001b[0mextra_condition\u001b[0m \u001b[0;34m=\u001b[0m \u001b[0mkwargs\u001b[0m\u001b[0;34m.\u001b[0m\u001b[0mpop\u001b[0m\u001b[0;34m(\u001b[0m\u001b[0;34m'extra_condition'\u001b[0m\u001b[0;34m,\u001b[0m \u001b[0;32mNone\u001b[0m\u001b[0;34m)\u001b[0m\u001b[0;34m\u001b[0m\u001b[0;34m\u001b[0m\u001b[0m\n\u001b[1;32m   1214\u001b[0m \u001b[0;34m\u001b[0m\u001b[0m\n\u001b[0;32m-> 1215\u001b[0;31m     ret = line_search_wolfe1(f, fprime, xk, pk, gfk,\n\u001b[0m\u001b[1;32m   1216\u001b[0m                              \u001b[0mold_fval\u001b[0m\u001b[0;34m,\u001b[0m \u001b[0mold_old_fval\u001b[0m\u001b[0;34m,\u001b[0m\u001b[0;34m\u001b[0m\u001b[0;34m\u001b[0m\u001b[0m\n\u001b[1;32m   1217\u001b[0m                              **kwargs)\n",
            "\u001b[0;32m/usr/local/lib/python3.10/dist-packages/scipy/optimize/_linesearch.py\u001b[0m in \u001b[0;36mline_search_wolfe1\u001b[0;34m(f, fprime, xk, pk, gfk, old_fval, old_old_fval, args, c1, c2, amax, amin, xtol)\u001b[0m\n\u001b[1;32m     82\u001b[0m     \u001b[0mderphi0\u001b[0m \u001b[0;34m=\u001b[0m \u001b[0mnp\u001b[0m\u001b[0;34m.\u001b[0m\u001b[0mdot\u001b[0m\u001b[0;34m(\u001b[0m\u001b[0mgfk\u001b[0m\u001b[0;34m,\u001b[0m \u001b[0mpk\u001b[0m\u001b[0;34m)\u001b[0m\u001b[0;34m\u001b[0m\u001b[0;34m\u001b[0m\u001b[0m\n\u001b[1;32m     83\u001b[0m \u001b[0;34m\u001b[0m\u001b[0m\n\u001b[0;32m---> 84\u001b[0;31m     stp, fval, old_fval = scalar_search_wolfe1(\n\u001b[0m\u001b[1;32m     85\u001b[0m             \u001b[0mphi\u001b[0m\u001b[0;34m,\u001b[0m \u001b[0mderphi\u001b[0m\u001b[0;34m,\u001b[0m \u001b[0mold_fval\u001b[0m\u001b[0;34m,\u001b[0m \u001b[0mold_old_fval\u001b[0m\u001b[0;34m,\u001b[0m \u001b[0mderphi0\u001b[0m\u001b[0;34m,\u001b[0m\u001b[0;34m\u001b[0m\u001b[0;34m\u001b[0m\u001b[0m\n\u001b[1;32m     86\u001b[0m             c1=c1, c2=c2, amax=amax, amin=amin, xtol=xtol)\n",
            "\u001b[0;32m/usr/local/lib/python3.10/dist-packages/scipy/optimize/_linesearch.py\u001b[0m in \u001b[0;36mscalar_search_wolfe1\u001b[0;34m(phi, derphi, phi0, old_phi0, derphi0, c1, c2, amax, amin, xtol)\u001b[0m\n\u001b[1;32m    159\u001b[0m             \u001b[0malpha1\u001b[0m \u001b[0;34m=\u001b[0m \u001b[0mstp\u001b[0m\u001b[0;34m\u001b[0m\u001b[0;34m\u001b[0m\u001b[0m\n\u001b[1;32m    160\u001b[0m             \u001b[0mphi1\u001b[0m \u001b[0;34m=\u001b[0m \u001b[0mphi\u001b[0m\u001b[0;34m(\u001b[0m\u001b[0mstp\u001b[0m\u001b[0;34m)\u001b[0m\u001b[0;34m\u001b[0m\u001b[0;34m\u001b[0m\u001b[0m\n\u001b[0;32m--> 161\u001b[0;31m             \u001b[0mderphi1\u001b[0m \u001b[0;34m=\u001b[0m \u001b[0mderphi\u001b[0m\u001b[0;34m(\u001b[0m\u001b[0mstp\u001b[0m\u001b[0;34m)\u001b[0m\u001b[0;34m\u001b[0m\u001b[0;34m\u001b[0m\u001b[0m\n\u001b[0m\u001b[1;32m    162\u001b[0m         \u001b[0;32melse\u001b[0m\u001b[0;34m:\u001b[0m\u001b[0;34m\u001b[0m\u001b[0;34m\u001b[0m\u001b[0m\n\u001b[1;32m    163\u001b[0m             \u001b[0;32mbreak\u001b[0m\u001b[0;34m\u001b[0m\u001b[0;34m\u001b[0m\u001b[0m\n",
            "\u001b[0;32m/usr/local/lib/python3.10/dist-packages/scipy/optimize/_linesearch.py\u001b[0m in \u001b[0;36mderphi\u001b[0;34m(s)\u001b[0m\n\u001b[1;32m     76\u001b[0m \u001b[0;34m\u001b[0m\u001b[0m\n\u001b[1;32m     77\u001b[0m     \u001b[0;32mdef\u001b[0m \u001b[0mderphi\u001b[0m\u001b[0;34m(\u001b[0m\u001b[0ms\u001b[0m\u001b[0;34m)\u001b[0m\u001b[0;34m:\u001b[0m\u001b[0;34m\u001b[0m\u001b[0;34m\u001b[0m\u001b[0m\n\u001b[0;32m---> 78\u001b[0;31m         \u001b[0mgval\u001b[0m\u001b[0;34m[\u001b[0m\u001b[0;36m0\u001b[0m\u001b[0;34m]\u001b[0m \u001b[0;34m=\u001b[0m \u001b[0mfprime\u001b[0m\u001b[0;34m(\u001b[0m\u001b[0mxk\u001b[0m \u001b[0;34m+\u001b[0m \u001b[0ms\u001b[0m\u001b[0;34m*\u001b[0m\u001b[0mpk\u001b[0m\u001b[0;34m,\u001b[0m \u001b[0;34m*\u001b[0m\u001b[0margs\u001b[0m\u001b[0;34m)\u001b[0m\u001b[0;34m\u001b[0m\u001b[0;34m\u001b[0m\u001b[0m\n\u001b[0m\u001b[1;32m     79\u001b[0m         \u001b[0mgc\u001b[0m\u001b[0;34m[\u001b[0m\u001b[0;36m0\u001b[0m\u001b[0;34m]\u001b[0m \u001b[0;34m+=\u001b[0m \u001b[0;36m1\u001b[0m\u001b[0;34m\u001b[0m\u001b[0;34m\u001b[0m\u001b[0m\n\u001b[1;32m     80\u001b[0m         \u001b[0;32mreturn\u001b[0m \u001b[0mnp\u001b[0m\u001b[0;34m.\u001b[0m\u001b[0mdot\u001b[0m\u001b[0;34m(\u001b[0m\u001b[0mgval\u001b[0m\u001b[0;34m[\u001b[0m\u001b[0;36m0\u001b[0m\u001b[0;34m]\u001b[0m\u001b[0;34m,\u001b[0m \u001b[0mpk\u001b[0m\u001b[0;34m)\u001b[0m\u001b[0;34m\u001b[0m\u001b[0;34m\u001b[0m\u001b[0m\n",
            "\u001b[0;32m/usr/local/lib/python3.10/dist-packages/scipy/optimize/_differentiable_functions.py\u001b[0m in \u001b[0;36mgrad\u001b[0;34m(self, x)\u001b[0m\n\u001b[1;32m    271\u001b[0m         \u001b[0;32mif\u001b[0m \u001b[0;32mnot\u001b[0m \u001b[0mnp\u001b[0m\u001b[0;34m.\u001b[0m\u001b[0marray_equal\u001b[0m\u001b[0;34m(\u001b[0m\u001b[0mx\u001b[0m\u001b[0;34m,\u001b[0m \u001b[0mself\u001b[0m\u001b[0;34m.\u001b[0m\u001b[0mx\u001b[0m\u001b[0;34m)\u001b[0m\u001b[0;34m:\u001b[0m\u001b[0;34m\u001b[0m\u001b[0;34m\u001b[0m\u001b[0m\n\u001b[1;32m    272\u001b[0m             \u001b[0mself\u001b[0m\u001b[0;34m.\u001b[0m\u001b[0m_update_x_impl\u001b[0m\u001b[0;34m(\u001b[0m\u001b[0mx\u001b[0m\u001b[0;34m)\u001b[0m\u001b[0;34m\u001b[0m\u001b[0;34m\u001b[0m\u001b[0m\n\u001b[0;32m--> 273\u001b[0;31m         \u001b[0mself\u001b[0m\u001b[0;34m.\u001b[0m\u001b[0m_update_grad\u001b[0m\u001b[0;34m(\u001b[0m\u001b[0;34m)\u001b[0m\u001b[0;34m\u001b[0m\u001b[0;34m\u001b[0m\u001b[0m\n\u001b[0m\u001b[1;32m    274\u001b[0m         \u001b[0;32mreturn\u001b[0m \u001b[0mself\u001b[0m\u001b[0;34m.\u001b[0m\u001b[0mg\u001b[0m\u001b[0;34m\u001b[0m\u001b[0;34m\u001b[0m\u001b[0m\n\u001b[1;32m    275\u001b[0m \u001b[0;34m\u001b[0m\u001b[0m\n",
            "\u001b[0;32m/usr/local/lib/python3.10/dist-packages/scipy/optimize/_differentiable_functions.py\u001b[0m in \u001b[0;36m_update_grad\u001b[0;34m(self)\u001b[0m\n\u001b[1;32m    254\u001b[0m     \u001b[0;32mdef\u001b[0m \u001b[0m_update_grad\u001b[0m\u001b[0;34m(\u001b[0m\u001b[0mself\u001b[0m\u001b[0;34m)\u001b[0m\u001b[0;34m:\u001b[0m\u001b[0;34m\u001b[0m\u001b[0;34m\u001b[0m\u001b[0m\n\u001b[1;32m    255\u001b[0m         \u001b[0;32mif\u001b[0m \u001b[0;32mnot\u001b[0m \u001b[0mself\u001b[0m\u001b[0;34m.\u001b[0m\u001b[0mg_updated\u001b[0m\u001b[0;34m:\u001b[0m\u001b[0;34m\u001b[0m\u001b[0;34m\u001b[0m\u001b[0m\n\u001b[0;32m--> 256\u001b[0;31m             \u001b[0mself\u001b[0m\u001b[0;34m.\u001b[0m\u001b[0m_update_grad_impl\u001b[0m\u001b[0;34m(\u001b[0m\u001b[0;34m)\u001b[0m\u001b[0;34m\u001b[0m\u001b[0;34m\u001b[0m\u001b[0m\n\u001b[0m\u001b[1;32m    257\u001b[0m             \u001b[0mself\u001b[0m\u001b[0;34m.\u001b[0m\u001b[0mg_updated\u001b[0m \u001b[0;34m=\u001b[0m \u001b[0;32mTrue\u001b[0m\u001b[0;34m\u001b[0m\u001b[0;34m\u001b[0m\u001b[0m\n\u001b[1;32m    258\u001b[0m \u001b[0;34m\u001b[0m\u001b[0m\n",
            "\u001b[0;32m/usr/local/lib/python3.10/dist-packages/scipy/optimize/_differentiable_functions.py\u001b[0m in \u001b[0;36mupdate_grad\u001b[0;34m()\u001b[0m\n\u001b[1;32m    171\u001b[0m                 \u001b[0mself\u001b[0m\u001b[0;34m.\u001b[0m\u001b[0m_update_fun\u001b[0m\u001b[0;34m(\u001b[0m\u001b[0;34m)\u001b[0m\u001b[0;34m\u001b[0m\u001b[0;34m\u001b[0m\u001b[0m\n\u001b[1;32m    172\u001b[0m                 \u001b[0mself\u001b[0m\u001b[0;34m.\u001b[0m\u001b[0mngev\u001b[0m \u001b[0;34m+=\u001b[0m \u001b[0;36m1\u001b[0m\u001b[0;34m\u001b[0m\u001b[0;34m\u001b[0m\u001b[0m\n\u001b[0;32m--> 173\u001b[0;31m                 self.g = approx_derivative(fun_wrapped, self.x, f0=self.f,\n\u001b[0m\u001b[1;32m    174\u001b[0m                                            **finite_diff_options)\n\u001b[1;32m    175\u001b[0m \u001b[0;34m\u001b[0m\u001b[0m\n",
            "\u001b[0;32m/usr/local/lib/python3.10/dist-packages/scipy/optimize/_numdiff.py\u001b[0m in \u001b[0;36mapprox_derivative\u001b[0;34m(fun, x0, method, rel_step, abs_step, f0, bounds, sparsity, as_linear_operator, args, kwargs)\u001b[0m\n\u001b[1;32m    503\u001b[0m \u001b[0;34m\u001b[0m\u001b[0m\n\u001b[1;32m    504\u001b[0m         \u001b[0;32mif\u001b[0m \u001b[0msparsity\u001b[0m \u001b[0;32mis\u001b[0m \u001b[0;32mNone\u001b[0m\u001b[0;34m:\u001b[0m\u001b[0;34m\u001b[0m\u001b[0;34m\u001b[0m\u001b[0m\n\u001b[0;32m--> 505\u001b[0;31m             return _dense_difference(fun_wrapped, x0, f0, h,\n\u001b[0m\u001b[1;32m    506\u001b[0m                                      use_one_sided, method)\n\u001b[1;32m    507\u001b[0m         \u001b[0;32melse\u001b[0m\u001b[0;34m:\u001b[0m\u001b[0;34m\u001b[0m\u001b[0;34m\u001b[0m\u001b[0m\n",
            "\u001b[0;32m/usr/local/lib/python3.10/dist-packages/scipy/optimize/_numdiff.py\u001b[0m in \u001b[0;36m_dense_difference\u001b[0;34m(fun, x0, f0, h, use_one_sided, method)\u001b[0m\n\u001b[1;32m    574\u001b[0m             \u001b[0mx\u001b[0m \u001b[0;34m=\u001b[0m \u001b[0mx0\u001b[0m \u001b[0;34m+\u001b[0m \u001b[0mh_vecs\u001b[0m\u001b[0;34m[\u001b[0m\u001b[0mi\u001b[0m\u001b[0;34m]\u001b[0m\u001b[0;34m\u001b[0m\u001b[0;34m\u001b[0m\u001b[0m\n\u001b[1;32m    575\u001b[0m             \u001b[0mdx\u001b[0m \u001b[0;34m=\u001b[0m \u001b[0mx\u001b[0m\u001b[0;34m[\u001b[0m\u001b[0mi\u001b[0m\u001b[0;34m]\u001b[0m \u001b[0;34m-\u001b[0m \u001b[0mx0\u001b[0m\u001b[0;34m[\u001b[0m\u001b[0mi\u001b[0m\u001b[0;34m]\u001b[0m  \u001b[0;31m# Recompute dx as exactly representable number.\u001b[0m\u001b[0;34m\u001b[0m\u001b[0;34m\u001b[0m\u001b[0m\n\u001b[0;32m--> 576\u001b[0;31m             \u001b[0mdf\u001b[0m \u001b[0;34m=\u001b[0m \u001b[0mfun\u001b[0m\u001b[0;34m(\u001b[0m\u001b[0mx\u001b[0m\u001b[0;34m)\u001b[0m \u001b[0;34m-\u001b[0m \u001b[0mf0\u001b[0m\u001b[0;34m\u001b[0m\u001b[0;34m\u001b[0m\u001b[0m\n\u001b[0m\u001b[1;32m    577\u001b[0m         \u001b[0;32melif\u001b[0m \u001b[0mmethod\u001b[0m \u001b[0;34m==\u001b[0m \u001b[0;34m'3-point'\u001b[0m \u001b[0;32mand\u001b[0m \u001b[0muse_one_sided\u001b[0m\u001b[0;34m[\u001b[0m\u001b[0mi\u001b[0m\u001b[0;34m]\u001b[0m\u001b[0;34m:\u001b[0m\u001b[0;34m\u001b[0m\u001b[0;34m\u001b[0m\u001b[0m\n\u001b[1;32m    578\u001b[0m             \u001b[0mx1\u001b[0m \u001b[0;34m=\u001b[0m \u001b[0mx0\u001b[0m \u001b[0;34m+\u001b[0m \u001b[0mh_vecs\u001b[0m\u001b[0;34m[\u001b[0m\u001b[0mi\u001b[0m\u001b[0;34m]\u001b[0m\u001b[0;34m\u001b[0m\u001b[0;34m\u001b[0m\u001b[0m\n",
            "\u001b[0;32m/usr/local/lib/python3.10/dist-packages/scipy/optimize/_numdiff.py\u001b[0m in \u001b[0;36mfun_wrapped\u001b[0;34m(x)\u001b[0m\n\u001b[1;32m    454\u001b[0m \u001b[0;34m\u001b[0m\u001b[0m\n\u001b[1;32m    455\u001b[0m     \u001b[0;32mdef\u001b[0m \u001b[0mfun_wrapped\u001b[0m\u001b[0;34m(\u001b[0m\u001b[0mx\u001b[0m\u001b[0;34m)\u001b[0m\u001b[0;34m:\u001b[0m\u001b[0;34m\u001b[0m\u001b[0;34m\u001b[0m\u001b[0m\n\u001b[0;32m--> 456\u001b[0;31m         \u001b[0mf\u001b[0m \u001b[0;34m=\u001b[0m \u001b[0mnp\u001b[0m\u001b[0;34m.\u001b[0m\u001b[0matleast_1d\u001b[0m\u001b[0;34m(\u001b[0m\u001b[0mfun\u001b[0m\u001b[0;34m(\u001b[0m\u001b[0mx\u001b[0m\u001b[0;34m,\u001b[0m \u001b[0;34m*\u001b[0m\u001b[0margs\u001b[0m\u001b[0;34m,\u001b[0m \u001b[0;34m**\u001b[0m\u001b[0mkwargs\u001b[0m\u001b[0;34m)\u001b[0m\u001b[0;34m)\u001b[0m\u001b[0;34m\u001b[0m\u001b[0;34m\u001b[0m\u001b[0m\n\u001b[0m\u001b[1;32m    457\u001b[0m         \u001b[0;32mif\u001b[0m \u001b[0mf\u001b[0m\u001b[0;34m.\u001b[0m\u001b[0mndim\u001b[0m \u001b[0;34m>\u001b[0m \u001b[0;36m1\u001b[0m\u001b[0;34m:\u001b[0m\u001b[0;34m\u001b[0m\u001b[0;34m\u001b[0m\u001b[0m\n\u001b[1;32m    458\u001b[0m             raise RuntimeError(\"`fun` return value has \"\n",
            "\u001b[0;32m/usr/local/lib/python3.10/dist-packages/scipy/optimize/_differentiable_functions.py\u001b[0m in \u001b[0;36mfun_wrapped\u001b[0;34m(x)\u001b[0m\n\u001b[1;32m    135\u001b[0m             \u001b[0;31m# Overwriting results in undefined behaviour because\u001b[0m\u001b[0;34m\u001b[0m\u001b[0;34m\u001b[0m\u001b[0m\n\u001b[1;32m    136\u001b[0m             \u001b[0;31m# fun(self.x) will change self.x, with the two no longer linked.\u001b[0m\u001b[0;34m\u001b[0m\u001b[0;34m\u001b[0m\u001b[0m\n\u001b[0;32m--> 137\u001b[0;31m             \u001b[0mfx\u001b[0m \u001b[0;34m=\u001b[0m \u001b[0mfun\u001b[0m\u001b[0;34m(\u001b[0m\u001b[0mnp\u001b[0m\u001b[0;34m.\u001b[0m\u001b[0mcopy\u001b[0m\u001b[0;34m(\u001b[0m\u001b[0mx\u001b[0m\u001b[0;34m)\u001b[0m\u001b[0;34m,\u001b[0m \u001b[0;34m*\u001b[0m\u001b[0margs\u001b[0m\u001b[0;34m)\u001b[0m\u001b[0;34m\u001b[0m\u001b[0;34m\u001b[0m\u001b[0m\n\u001b[0m\u001b[1;32m    138\u001b[0m             \u001b[0;31m# Make sure the function returns a true scalar\u001b[0m\u001b[0;34m\u001b[0m\u001b[0;34m\u001b[0m\u001b[0m\n\u001b[1;32m    139\u001b[0m             \u001b[0;32mif\u001b[0m \u001b[0;32mnot\u001b[0m \u001b[0mnp\u001b[0m\u001b[0;34m.\u001b[0m\u001b[0misscalar\u001b[0m\u001b[0;34m(\u001b[0m\u001b[0mfx\u001b[0m\u001b[0;34m)\u001b[0m\u001b[0;34m:\u001b[0m\u001b[0;34m\u001b[0m\u001b[0;34m\u001b[0m\u001b[0m\n",
            "\u001b[0;32m<ipython-input-72-e0bd65fce662>\u001b[0m in \u001b[0;36mcost_func_vqe\u001b[0;34m(params_pqc)\u001b[0m\n\u001b[1;32m      1\u001b[0m \u001b[0;32mdef\u001b[0m \u001b[0mcost_func_vqe\u001b[0m\u001b[0;34m(\u001b[0m\u001b[0mparams_pqc\u001b[0m\u001b[0;34m)\u001b[0m\u001b[0;34m:\u001b[0m\u001b[0;34m\u001b[0m\u001b[0;34m\u001b[0m\u001b[0m\n\u001b[0;32m----> 2\u001b[0;31m     \u001b[0mcost\u001b[0m \u001b[0;34m=\u001b[0m \u001b[0mestimator\u001b[0m\u001b[0;34m.\u001b[0m\u001b[0mrun\u001b[0m\u001b[0;34m(\u001b[0m\u001b[0mansatz\u001b[0m\u001b[0;34m,\u001b[0m \u001b[0mhamiltonian\u001b[0m\u001b[0;34m,\u001b[0m \u001b[0mparameter_values\u001b[0m\u001b[0;34m=\u001b[0m\u001b[0mparams_pqc\u001b[0m\u001b[0;34m)\u001b[0m\u001b[0;34m.\u001b[0m\u001b[0mresult\u001b[0m\u001b[0;34m(\u001b[0m\u001b[0;34m)\u001b[0m\u001b[0;34m\u001b[0m\u001b[0;34m\u001b[0m\u001b[0m\n\u001b[0m\u001b[1;32m      3\u001b[0m     \u001b[0;32mreturn\u001b[0m \u001b[0mcost\u001b[0m\u001b[0;34m.\u001b[0m\u001b[0mvalues\u001b[0m\u001b[0;34m[\u001b[0m\u001b[0;36m0\u001b[0m\u001b[0;34m]\u001b[0m\u001b[0;34m\u001b[0m\u001b[0;34m\u001b[0m\u001b[0m\n",
            "\u001b[0;32m/usr/local/lib/python3.10/dist-packages/qiskit/primitives/primitive_job.py\u001b[0m in \u001b[0;36mresult\u001b[0;34m(self)\u001b[0m\n\u001b[1;32m     49\u001b[0m     \u001b[0;32mdef\u001b[0m \u001b[0mresult\u001b[0m\u001b[0;34m(\u001b[0m\u001b[0mself\u001b[0m\u001b[0;34m)\u001b[0m \u001b[0;34m->\u001b[0m \u001b[0mResultT\u001b[0m\u001b[0;34m:\u001b[0m\u001b[0;34m\u001b[0m\u001b[0;34m\u001b[0m\u001b[0m\n\u001b[1;32m     50\u001b[0m         \u001b[0mself\u001b[0m\u001b[0;34m.\u001b[0m\u001b[0m_check_submitted\u001b[0m\u001b[0;34m(\u001b[0m\u001b[0;34m)\u001b[0m\u001b[0;34m\u001b[0m\u001b[0;34m\u001b[0m\u001b[0m\n\u001b[0;32m---> 51\u001b[0;31m         \u001b[0;32mreturn\u001b[0m \u001b[0mself\u001b[0m\u001b[0;34m.\u001b[0m\u001b[0m_future\u001b[0m\u001b[0;34m.\u001b[0m\u001b[0mresult\u001b[0m\u001b[0;34m(\u001b[0m\u001b[0;34m)\u001b[0m\u001b[0;34m\u001b[0m\u001b[0;34m\u001b[0m\u001b[0m\n\u001b[0m\u001b[1;32m     52\u001b[0m \u001b[0;34m\u001b[0m\u001b[0m\n\u001b[1;32m     53\u001b[0m     \u001b[0;32mdef\u001b[0m \u001b[0mstatus\u001b[0m\u001b[0;34m(\u001b[0m\u001b[0mself\u001b[0m\u001b[0;34m)\u001b[0m \u001b[0;34m->\u001b[0m \u001b[0mJobStatus\u001b[0m\u001b[0;34m:\u001b[0m\u001b[0;34m\u001b[0m\u001b[0;34m\u001b[0m\u001b[0m\n",
            "\u001b[0;32m/usr/lib/python3.10/concurrent/futures/_base.py\u001b[0m in \u001b[0;36mresult\u001b[0;34m(self, timeout)\u001b[0m\n\u001b[1;32m    451\u001b[0m                     \u001b[0;32mreturn\u001b[0m \u001b[0mself\u001b[0m\u001b[0;34m.\u001b[0m\u001b[0m__get_result\u001b[0m\u001b[0;34m(\u001b[0m\u001b[0;34m)\u001b[0m\u001b[0;34m\u001b[0m\u001b[0;34m\u001b[0m\u001b[0m\n\u001b[1;32m    452\u001b[0m \u001b[0;34m\u001b[0m\u001b[0m\n\u001b[0;32m--> 453\u001b[0;31m                 \u001b[0mself\u001b[0m\u001b[0;34m.\u001b[0m\u001b[0m_condition\u001b[0m\u001b[0;34m.\u001b[0m\u001b[0mwait\u001b[0m\u001b[0;34m(\u001b[0m\u001b[0mtimeout\u001b[0m\u001b[0;34m)\u001b[0m\u001b[0;34m\u001b[0m\u001b[0;34m\u001b[0m\u001b[0m\n\u001b[0m\u001b[1;32m    454\u001b[0m \u001b[0;34m\u001b[0m\u001b[0m\n\u001b[1;32m    455\u001b[0m                 \u001b[0;32mif\u001b[0m \u001b[0mself\u001b[0m\u001b[0;34m.\u001b[0m\u001b[0m_state\u001b[0m \u001b[0;32min\u001b[0m \u001b[0;34m[\u001b[0m\u001b[0mCANCELLED\u001b[0m\u001b[0;34m,\u001b[0m \u001b[0mCANCELLED_AND_NOTIFIED\u001b[0m\u001b[0;34m]\u001b[0m\u001b[0;34m:\u001b[0m\u001b[0;34m\u001b[0m\u001b[0;34m\u001b[0m\u001b[0m\n",
            "\u001b[0;32m/usr/lib/python3.10/threading.py\u001b[0m in \u001b[0;36mwait\u001b[0;34m(self, timeout)\u001b[0m\n\u001b[1;32m    318\u001b[0m         \u001b[0;32mtry\u001b[0m\u001b[0;34m:\u001b[0m    \u001b[0;31m# restore state no matter what (e.g., KeyboardInterrupt)\u001b[0m\u001b[0;34m\u001b[0m\u001b[0;34m\u001b[0m\u001b[0m\n\u001b[1;32m    319\u001b[0m             \u001b[0;32mif\u001b[0m \u001b[0mtimeout\u001b[0m \u001b[0;32mis\u001b[0m \u001b[0;32mNone\u001b[0m\u001b[0;34m:\u001b[0m\u001b[0;34m\u001b[0m\u001b[0;34m\u001b[0m\u001b[0m\n\u001b[0;32m--> 320\u001b[0;31m                 \u001b[0mwaiter\u001b[0m\u001b[0;34m.\u001b[0m\u001b[0macquire\u001b[0m\u001b[0;34m(\u001b[0m\u001b[0;34m)\u001b[0m\u001b[0;34m\u001b[0m\u001b[0;34m\u001b[0m\u001b[0m\n\u001b[0m\u001b[1;32m    321\u001b[0m                 \u001b[0mgotit\u001b[0m \u001b[0;34m=\u001b[0m \u001b[0;32mTrue\u001b[0m\u001b[0;34m\u001b[0m\u001b[0;34m\u001b[0m\u001b[0m\n\u001b[1;32m    322\u001b[0m             \u001b[0;32melse\u001b[0m\u001b[0;34m:\u001b[0m\u001b[0;34m\u001b[0m\u001b[0;34m\u001b[0m\u001b[0m\n",
            "\u001b[0;31mKeyboardInterrupt\u001b[0m: "
          ]
        }
      ]
    },
    {
      "cell_type": "code",
      "source": [
        "local_minimum_list"
      ],
      "metadata": {
        "id": "utLQmnmdOaEA"
      },
      "execution_count": null,
      "outputs": []
    },
    {
      "cell_type": "markdown",
      "source": [
        "## VQNHE Function"
      ],
      "metadata": {
        "id": "wFgGIvffOaEA"
      }
    },
    {
      "cell_type": "code",
      "source": [
        "# Activation Function for Neural Network\n",
        "\n",
        "def relu(x):\n",
        "  return np.maximum(0, x)\n",
        "\n",
        "\n",
        "def output_activate(c, x):\n",
        "  return np.exp(c*np.tanh(x))"
      ],
      "metadata": {
        "id": "CPPOzmUiOaEA"
      },
      "execution_count": null,
      "outputs": []
    },
    {
      "cell_type": "code",
      "source": [
        "# Neural Network\n",
        "# Output : f(s)\n",
        "\n",
        "def neural_net(parameter, x):\n",
        "\n",
        "  W1 = parameter[0:400]\n",
        "  W2 = parameter[400:420]\n",
        "  c = parameter[420]\n",
        "\n",
        "  W1 = W1.reshape(20,20)\n",
        "  W3 = W3.reshape(1,20)\n",
        "\n",
        "  a1 = np.matmul(W1, x)\n",
        "  z1 = relu(a1)\n",
        "\n",
        "  a2 = np.matmul(W2, z1)\n",
        "  y = output_activate(c, a2)\n",
        "\n",
        "  return y[0]"
      ],
      "metadata": {
        "id": "RFOsOxfnOaEA"
      },
      "execution_count": null,
      "outputs": []
    },
    {
      "cell_type": "code",
      "source": [
        "# Convert Decimal Number to Binary Number\n",
        "\n",
        "def d2b(x):\n",
        "\n",
        "  binary = []\n",
        "\n",
        "  for _ in range(20):\n",
        "    binary.append(x % 2)\n",
        "    x = x // 2\n",
        "\n",
        "  binary.reverse()\n",
        "\n",
        "  return np.array(binary)"
      ],
      "metadata": {
        "id": "5KOfeMwsOaEA"
      },
      "execution_count": null,
      "outputs": []
    },
    {
      "cell_type": "code",
      "source": [
        "@cache\n",
        "def prob_zz_str(params_pqc, num):\n",
        "  job = sampler.run(ansatz_zz_set[num], params_pqc).result()\n",
        "  prob_string = job.quasi_dists[0]\n",
        "\n",
        "  for i in range(2**20):\n",
        "   if not (i in prob_string):  prob_string[i] = 0\n",
        "\n",
        "  return prob_string\n",
        "\n",
        "@cache\n",
        "def prob_x_str(params_pqc, num):\n",
        "  job = sampler.run(ansatz_x_set[num], params_pqc).result()\n",
        "  prob_string = job.quasi_dists[0]\n",
        "\n",
        "  for i in range(2**20):\n",
        "   if not (i in prob_string):  prob_string[i] = 0\n",
        "\n",
        "  return prob_string"
      ],
      "metadata": {
        "id": "GhjCDXheOaEA"
      },
      "execution_count": null,
      "outputs": []
    },
    {
      "cell_type": "code",
      "source": [
        "def ZZ_vqnhe(params_nn, params_pqc, num):\n",
        "  prob_string = prob_zz_str(params_pqc, num)\n",
        "  nnval = np.array([(neural_net(params_nn, left_shifter(d2b(j),num)))**2 for j in range(2**20)])\n",
        "\n",
        "  expval = 0\n",
        "\n",
        "  for k in range(2**20):\n",
        "    if k // 2**18 == 0 or k // 2**18 == 3:\n",
        "      expval = expval + prob_string[k]*nnval[k]\n",
        "    else:\n",
        "      expval = expval - prob_string[k]*nnval[k]\n",
        "\n",
        "  return expval"
      ],
      "metadata": {
        "id": "1oHO89SkOaEA"
      },
      "execution_count": null,
      "outputs": []
    },
    {
      "cell_type": "code",
      "source": [
        "def X_vqnhe(params_nn, params_pqc, num):\n",
        "  prob_string = prob_x_str(params_pqc, num)\n",
        "  nnval = np.array([neural_net(params_nn, left_shifter(d2b(j),num)) for j in range(2**20)])\n",
        "\n",
        "  expval = 0\n",
        "\n",
        "  for k in range(2**19):\n",
        "    delt = prob_string[k] - prob_string[k+2**19]\n",
        "    expval = expval + delt*nnval[k]*nnval[k+2**19]\n",
        "\n",
        "  return expval"
      ],
      "metadata": {
        "id": "c-8IiDb0OaEA"
      },
      "execution_count": null,
      "outputs": []
    },
    {
      "cell_type": "code",
      "source": [
        "def norm_vqnhe(params_nn, params_pqc):\n",
        "  prob_string = prob_zz_str(params_pqc, 0)\n",
        "  nnval = np.array([(neural_net(params_nn, left_shifter(d2b(j),0)))**2 for j in range(2**20)])\n",
        "\n",
        "  expval = 0\n",
        "\n",
        "  for k in range(2**20):\n",
        "    expval = expval + prob_string[k]*nnval[k]\n",
        "\n",
        "  return expval"
      ],
      "metadata": {
        "id": "uT8OjC4wOaEA"
      },
      "execution_count": null,
      "outputs": []
    },
    {
      "cell_type": "code",
      "source": [
        "def cost_func_vqnhe(params_nn, params_pqc):\n",
        "  expval = 0\n",
        "\n",
        "  for i in range(19):\n",
        "    expval = expval + ZZ_vqnhe(params_nn, params_pqc, i)\n",
        "\n",
        "  for i in range(20):\n",
        "    expval = expval - X_vqnhe(params_nn, params_pqc, i)\n",
        "\n",
        "\n",
        "  expval = expval / norm_vqnhe(params_nn, params_pqc)\n",
        "\n",
        "  return expval"
      ],
      "metadata": {
        "id": "6bkVwKCUOaEA"
      },
      "execution_count": null,
      "outputs": []
    },
    {
      "cell_type": "code",
      "source": [
        "def build_callback_vqnhe(callback_dict, params_pqc):\n",
        "  def callback(current_vector):\n",
        "    callback_dict[\"iters\"] += 1\n",
        "    callback_dict[\"prev_vector\"] = current_vector\n",
        "    current_cost_vqnhe = cost_func_vqnhe(current_vector, params_pqc)\n",
        "\n",
        "    callback_dict[\"cost_history\"].append(current_cost_vqnhe)\n",
        "\n",
        "    print(current_cost_vqnhe)\n",
        "\n",
        "  return callback"
      ],
      "metadata": {
        "id": "-E0-bFTxOaEB"
      },
      "execution_count": null,
      "outputs": []
    },
    {
      "cell_type": "markdown",
      "source": [
        "## 2nd Step : VQNHE"
      ],
      "metadata": {
        "id": "tXmgvnDpOaEB"
      }
    },
    {
      "cell_type": "code",
      "source": [
        "local_minimum_list = []\n",
        "\n",
        "for k in range(50):\n",
        "\n",
        "  callback_dict = {\n",
        "    \"prev_vector\": None,\n",
        "    \"iters\": 0,\n",
        "    \"cost_history\": [],\n",
        "  }\n",
        "\n",
        "  #params_pqc = ????\n",
        "\n",
        "  np.random.seed(k)\n",
        "  x0 = 2 * np.pi * np.random.random(23)\n",
        "\n",
        "  callback = build_callback_vqnhe(callback_dict, params_pqc)\n",
        "\n",
        "  options = dict()\n",
        "  options[\"maxiter\"] = 400\n",
        "  options[\"disp\"] = True\n",
        "\n",
        "  res = minimize(\n",
        "    cost_func_vqe,\n",
        "    x0,\n",
        "    args=(params_pqc),\n",
        "    method=\"bfgs\",\n",
        "    callback=callback,\n",
        "    options=options\n",
        "  )\n",
        "\n",
        "  local_minimum_dict = callback_dict[\"cost_history\"]\n",
        "  local_minimum_list.append(local_minimum_dict[-1])"
      ],
      "metadata": {
        "colab": {
          "base_uri": "https://localhost:8080/"
        },
        "outputId": "3146b9e4-3847-4370-e53f-13f298fa47a1",
        "id": "fBUYkHSmOaEB"
      },
      "execution_count": null,
      "outputs": [
        {
          "output_type": "stream",
          "name": "stdout",
          "text": [
            "Optimization terminated successfully.\n",
            "         Current function value: -9.760508\n",
            "         Iterations: 28\n",
            "         Function evaluations: 720\n",
            "         Gradient evaluations: 30\n",
            "Optimization terminated successfully.\n",
            "         Current function value: -9.685603\n",
            "         Iterations: 27\n",
            "         Function evaluations: 672\n",
            "         Gradient evaluations: 28\n",
            "Optimization terminated successfully.\n",
            "         Current function value: -12.014575\n",
            "         Iterations: 37\n",
            "         Function evaluations: 984\n",
            "         Gradient evaluations: 41\n",
            "Optimization terminated successfully.\n",
            "         Current function value: -14.321977\n",
            "         Iterations: 47\n",
            "         Function evaluations: 1272\n",
            "         Gradient evaluations: 53\n",
            "Optimization terminated successfully.\n",
            "         Current function value: -11.942713\n",
            "         Iterations: 38\n",
            "         Function evaluations: 960\n",
            "         Gradient evaluations: 40\n",
            "Optimization terminated successfully.\n",
            "         Current function value: -11.942713\n",
            "         Iterations: 42\n",
            "         Function evaluations: 1080\n",
            "         Gradient evaluations: 45\n",
            "Optimization terminated successfully.\n",
            "         Current function value: -12.120761\n",
            "         Iterations: 55\n",
            "         Function evaluations: 1464\n",
            "         Gradient evaluations: 61\n",
            "Optimization terminated successfully.\n",
            "         Current function value: -12.012013\n",
            "         Iterations: 59\n",
            "         Function evaluations: 1608\n",
            "         Gradient evaluations: 67\n",
            "Optimization terminated successfully.\n",
            "         Current function value: -12.014575\n",
            "         Iterations: 31\n",
            "         Function evaluations: 792\n",
            "         Gradient evaluations: 33\n",
            "Optimization terminated successfully.\n",
            "         Current function value: -12.014217\n",
            "         Iterations: 45\n",
            "         Function evaluations: 1128\n",
            "         Gradient evaluations: 47\n",
            "Optimization terminated successfully.\n",
            "         Current function value: -14.321977\n",
            "         Iterations: 45\n",
            "         Function evaluations: 1200\n",
            "         Gradient evaluations: 50\n",
            "Optimization terminated successfully.\n",
            "         Current function value: -9.685603\n",
            "         Iterations: 26\n",
            "         Function evaluations: 648\n",
            "         Gradient evaluations: 27\n",
            "Optimization terminated successfully.\n",
            "         Current function value: -14.321977\n",
            "         Iterations: 44\n",
            "         Function evaluations: 1128\n",
            "         Gradient evaluations: 47\n",
            "Optimization terminated successfully.\n",
            "         Current function value: -12.014217\n",
            "         Iterations: 47\n",
            "         Function evaluations: 1416\n",
            "         Gradient evaluations: 59\n",
            "Optimization terminated successfully.\n",
            "         Current function value: -11.954984\n",
            "         Iterations: 35\n",
            "         Function evaluations: 888\n",
            "         Gradient evaluations: 37\n",
            "Optimization terminated successfully.\n",
            "         Current function value: -14.321977\n",
            "         Iterations: 39\n",
            "         Function evaluations: 1008\n",
            "         Gradient evaluations: 42\n",
            "Optimization terminated successfully.\n",
            "         Current function value: -9.760508\n",
            "         Iterations: 41\n",
            "         Function evaluations: 1248\n",
            "         Gradient evaluations: 52\n",
            "Optimization terminated successfully.\n",
            "         Current function value: -12.014217\n",
            "         Iterations: 37\n",
            "         Function evaluations: 936\n",
            "         Gradient evaluations: 39\n",
            "Optimization terminated successfully.\n",
            "         Current function value: -11.954984\n",
            "         Iterations: 39\n",
            "         Function evaluations: 960\n",
            "         Gradient evaluations: 40\n",
            "Optimization terminated successfully.\n",
            "         Current function value: -9.937741\n",
            "         Iterations: 29\n",
            "         Function evaluations: 744\n",
            "         Gradient evaluations: 31\n",
            "Optimization terminated successfully.\n",
            "         Current function value: -12.112351\n",
            "         Iterations: 35\n",
            "         Function evaluations: 912\n",
            "         Gradient evaluations: 38\n",
            "Optimization terminated successfully.\n",
            "         Current function value: -12.014217\n",
            "         Iterations: 33\n",
            "         Function evaluations: 816\n",
            "         Gradient evaluations: 34\n",
            "Optimization terminated successfully.\n",
            "         Current function value: -12.112351\n",
            "         Iterations: 29\n",
            "         Function evaluations: 768\n",
            "         Gradient evaluations: 32\n",
            "Optimization terminated successfully.\n",
            "         Current function value: -11.840375\n",
            "         Iterations: 57\n",
            "         Function evaluations: 1464\n",
            "         Gradient evaluations: 61\n",
            "Optimization terminated successfully.\n",
            "         Current function value: -12.014217\n",
            "         Iterations: 31\n",
            "         Function evaluations: 768\n",
            "         Gradient evaluations: 32\n",
            "Optimization terminated successfully.\n",
            "         Current function value: -11.978671\n",
            "         Iterations: 48\n",
            "         Function evaluations: 1224\n",
            "         Gradient evaluations: 51\n",
            "Optimization terminated successfully.\n",
            "         Current function value: -12.012013\n",
            "         Iterations: 40\n",
            "         Function evaluations: 1008\n",
            "         Gradient evaluations: 42\n",
            "Optimization terminated successfully.\n",
            "         Current function value: -14.321977\n",
            "         Iterations: 43\n",
            "         Function evaluations: 1128\n",
            "         Gradient evaluations: 47\n",
            "Optimization terminated successfully.\n",
            "         Current function value: -11.735813\n",
            "         Iterations: 60\n",
            "         Function evaluations: 1536\n",
            "         Gradient evaluations: 64\n",
            "Optimization terminated successfully.\n",
            "         Current function value: -12.112351\n",
            "         Iterations: 31\n",
            "         Function evaluations: 792\n",
            "         Gradient evaluations: 33\n",
            "Optimization terminated successfully.\n",
            "         Current function value: -11.837680\n",
            "         Iterations: 39\n",
            "         Function evaluations: 1008\n",
            "         Gradient evaluations: 42\n",
            "Optimization terminated successfully.\n",
            "         Current function value: -14.321977\n",
            "         Iterations: 42\n",
            "         Function evaluations: 1080\n",
            "         Gradient evaluations: 45\n",
            "Optimization terminated successfully.\n",
            "         Current function value: -11.841740\n",
            "         Iterations: 39\n",
            "         Function evaluations: 984\n",
            "         Gradient evaluations: 41\n",
            "Optimization terminated successfully.\n",
            "         Current function value: -12.012013\n",
            "         Iterations: 45\n",
            "         Function evaluations: 1128\n",
            "         Gradient evaluations: 47\n",
            "Optimization terminated successfully.\n",
            "         Current function value: -9.492751\n",
            "         Iterations: 28\n",
            "         Function evaluations: 696\n",
            "         Gradient evaluations: 29\n",
            "Optimization terminated successfully.\n",
            "         Current function value: -12.012013\n",
            "         Iterations: 42\n",
            "         Function evaluations: 1056\n",
            "         Gradient evaluations: 44\n",
            "Optimization terminated successfully.\n",
            "         Current function value: -14.321977\n",
            "         Iterations: 46\n",
            "         Function evaluations: 1248\n",
            "         Gradient evaluations: 52\n",
            "Optimization terminated successfully.\n",
            "         Current function value: -11.841740\n",
            "         Iterations: 42\n",
            "         Function evaluations: 1056\n",
            "         Gradient evaluations: 44\n",
            "Optimization terminated successfully.\n",
            "         Current function value: -12.112351\n",
            "         Iterations: 32\n",
            "         Function evaluations: 840\n",
            "         Gradient evaluations: 35\n",
            "Optimization terminated successfully.\n",
            "         Current function value: -9.760508\n",
            "         Iterations: 40\n",
            "         Function evaluations: 1200\n",
            "         Gradient evaluations: 50\n",
            "Optimization terminated successfully.\n",
            "         Current function value: -11.840375\n",
            "         Iterations: 58\n",
            "         Function evaluations: 1464\n",
            "         Gradient evaluations: 61\n",
            "Optimization terminated successfully.\n",
            "         Current function value: -12.112351\n",
            "         Iterations: 47\n",
            "         Function evaluations: 1344\n",
            "         Gradient evaluations: 56\n",
            "Optimization terminated successfully.\n",
            "         Current function value: -12.012013\n",
            "         Iterations: 50\n",
            "         Function evaluations: 1368\n",
            "         Gradient evaluations: 57\n",
            "Optimization terminated successfully.\n",
            "         Current function value: -9.937741\n",
            "         Iterations: 26\n",
            "         Function evaluations: 672\n",
            "         Gradient evaluations: 28\n",
            "Optimization terminated successfully.\n",
            "         Current function value: -12.120761\n",
            "         Iterations: 41\n",
            "         Function evaluations: 1080\n",
            "         Gradient evaluations: 45\n",
            "Optimization terminated successfully.\n",
            "         Current function value: -9.937741\n",
            "         Iterations: 26\n",
            "         Function evaluations: 696\n",
            "         Gradient evaluations: 29\n",
            "Optimization terminated successfully.\n",
            "         Current function value: -9.626449\n",
            "         Iterations: 30\n",
            "         Function evaluations: 768\n",
            "         Gradient evaluations: 32\n",
            "Optimization terminated successfully.\n",
            "         Current function value: -11.840375\n",
            "         Iterations: 44\n",
            "         Function evaluations: 1080\n",
            "         Gradient evaluations: 45\n",
            "Optimization terminated successfully.\n",
            "         Current function value: -11.837680\n",
            "         Iterations: 38\n",
            "         Function evaluations: 960\n",
            "         Gradient evaluations: 40\n",
            "Optimization terminated successfully.\n",
            "         Current function value: -9.538536\n",
            "         Iterations: 51\n",
            "         Function evaluations: 1368\n",
            "         Gradient evaluations: 57\n",
            "Optimization terminated successfully.\n",
            "         Current function value: -9.760508\n",
            "         Iterations: 31\n",
            "         Function evaluations: 816\n",
            "         Gradient evaluations: 34\n",
            "Optimization terminated successfully.\n",
            "         Current function value: -11.840375\n",
            "         Iterations: 39\n",
            "         Function evaluations: 960\n",
            "         Gradient evaluations: 40\n",
            "Optimization terminated successfully.\n",
            "         Current function value: -12.112351\n",
            "         Iterations: 42\n",
            "         Function evaluations: 1152\n",
            "         Gradient evaluations: 48\n",
            "Optimization terminated successfully.\n",
            "         Current function value: -11.978671\n",
            "         Iterations: 47\n",
            "         Function evaluations: 1296\n",
            "         Gradient evaluations: 54\n",
            "Optimization terminated successfully.\n",
            "         Current function value: -12.012013\n",
            "         Iterations: 42\n",
            "         Function evaluations: 1032\n",
            "         Gradient evaluations: 43\n",
            "Optimization terminated successfully.\n",
            "         Current function value: -14.321977\n",
            "         Iterations: 38\n",
            "         Function evaluations: 960\n",
            "         Gradient evaluations: 40\n",
            "Optimization terminated successfully.\n",
            "         Current function value: -9.626449\n",
            "         Iterations: 33\n",
            "         Function evaluations: 840\n",
            "         Gradient evaluations: 35\n",
            "Optimization terminated successfully.\n",
            "         Current function value: -11.841740\n",
            "         Iterations: 47\n",
            "         Function evaluations: 1176\n",
            "         Gradient evaluations: 49\n",
            "Optimization terminated successfully.\n",
            "         Current function value: -12.012013\n",
            "         Iterations: 40\n",
            "         Function evaluations: 1008\n",
            "         Gradient evaluations: 42\n",
            "Optimization terminated successfully.\n",
            "         Current function value: -11.954984\n",
            "         Iterations: 47\n",
            "         Function evaluations: 1272\n",
            "         Gradient evaluations: 53\n",
            "Optimization terminated successfully.\n",
            "         Current function value: -9.700158\n",
            "         Iterations: 39\n",
            "         Function evaluations: 1032\n",
            "         Gradient evaluations: 43\n",
            "Optimization terminated successfully.\n",
            "         Current function value: -14.321977\n",
            "         Iterations: 48\n",
            "         Function evaluations: 1320\n",
            "         Gradient evaluations: 55\n",
            "Optimization terminated successfully.\n",
            "         Current function value: -12.120761\n",
            "         Iterations: 47\n",
            "         Function evaluations: 1464\n",
            "         Gradient evaluations: 61\n",
            "Optimization terminated successfully.\n",
            "         Current function value: -11.978671\n",
            "         Iterations: 50\n",
            "         Function evaluations: 1248\n",
            "         Gradient evaluations: 52\n",
            "Optimization terminated successfully.\n",
            "         Current function value: -12.120761\n",
            "         Iterations: 26\n",
            "         Function evaluations: 648\n",
            "         Gradient evaluations: 27\n",
            "Optimization terminated successfully.\n",
            "         Current function value: -12.014575\n",
            "         Iterations: 43\n",
            "         Function evaluations: 1104\n",
            "         Gradient evaluations: 46\n",
            "Optimization terminated successfully.\n",
            "         Current function value: -11.869270\n",
            "         Iterations: 42\n",
            "         Function evaluations: 1032\n",
            "         Gradient evaluations: 43\n",
            "Optimization terminated successfully.\n",
            "         Current function value: -14.321977\n",
            "         Iterations: 47\n",
            "         Function evaluations: 1152\n",
            "         Gradient evaluations: 48\n",
            "Optimization terminated successfully.\n",
            "         Current function value: -11.938302\n",
            "         Iterations: 38\n",
            "         Function evaluations: 960\n",
            "         Gradient evaluations: 40\n",
            "Optimization terminated successfully.\n",
            "         Current function value: -12.012013\n",
            "         Iterations: 34\n",
            "         Function evaluations: 912\n",
            "         Gradient evaluations: 38\n",
            "Optimization terminated successfully.\n",
            "         Current function value: -12.012013\n",
            "         Iterations: 36\n",
            "         Function evaluations: 888\n",
            "         Gradient evaluations: 37\n",
            "Optimization terminated successfully.\n",
            "         Current function value: -14.321977\n",
            "         Iterations: 39\n",
            "         Function evaluations: 984\n",
            "         Gradient evaluations: 41\n",
            "Optimization terminated successfully.\n",
            "         Current function value: -12.120761\n",
            "         Iterations: 48\n",
            "         Function evaluations: 1248\n",
            "         Gradient evaluations: 52\n",
            "Optimization terminated successfully.\n",
            "         Current function value: -12.120761\n",
            "         Iterations: 45\n",
            "         Function evaluations: 1176\n",
            "         Gradient evaluations: 49\n",
            "Optimization terminated successfully.\n",
            "         Current function value: -11.938302\n",
            "         Iterations: 40\n",
            "         Function evaluations: 1032\n",
            "         Gradient evaluations: 43\n",
            "Optimization terminated successfully.\n",
            "         Current function value: -14.321977\n",
            "         Iterations: 51\n",
            "         Function evaluations: 1296\n",
            "         Gradient evaluations: 54\n",
            "Optimization terminated successfully.\n",
            "         Current function value: -14.321977\n",
            "         Iterations: 36\n",
            "         Function evaluations: 888\n",
            "         Gradient evaluations: 37\n",
            "Optimization terminated successfully.\n",
            "         Current function value: -11.978671\n",
            "         Iterations: 42\n",
            "         Function evaluations: 1056\n",
            "         Gradient evaluations: 44\n",
            "Optimization terminated successfully.\n",
            "         Current function value: -12.014217\n",
            "         Iterations: 51\n",
            "         Function evaluations: 1248\n",
            "         Gradient evaluations: 52\n",
            "Optimization terminated successfully.\n",
            "         Current function value: -12.112351\n",
            "         Iterations: 39\n",
            "         Function evaluations: 984\n",
            "         Gradient evaluations: 41\n",
            "Optimization terminated successfully.\n",
            "         Current function value: -12.012013\n",
            "         Iterations: 34\n",
            "         Function evaluations: 888\n",
            "         Gradient evaluations: 37\n",
            "Optimization terminated successfully.\n",
            "         Current function value: -12.112351\n",
            "         Iterations: 45\n",
            "         Function evaluations: 1272\n",
            "         Gradient evaluations: 53\n",
            "Optimization terminated successfully.\n",
            "         Current function value: -12.012013\n",
            "         Iterations: 50\n",
            "         Function evaluations: 1344\n",
            "         Gradient evaluations: 56\n",
            "Optimization terminated successfully.\n",
            "         Current function value: -12.120761\n",
            "         Iterations: 32\n",
            "         Function evaluations: 792\n",
            "         Gradient evaluations: 33\n",
            "Optimization terminated successfully.\n",
            "         Current function value: -12.012013\n",
            "         Iterations: 51\n",
            "         Function evaluations: 1344\n",
            "         Gradient evaluations: 56\n",
            "Optimization terminated successfully.\n",
            "         Current function value: -12.012013\n",
            "         Iterations: 44\n",
            "         Function evaluations: 1128\n",
            "         Gradient evaluations: 47\n",
            "Optimization terminated successfully.\n",
            "         Current function value: -12.120761\n",
            "         Iterations: 48\n",
            "         Function evaluations: 1392\n",
            "         Gradient evaluations: 58\n",
            "Optimization terminated successfully.\n",
            "         Current function value: -11.954984\n",
            "         Iterations: 45\n",
            "         Function evaluations: 1128\n",
            "         Gradient evaluations: 47\n",
            "Optimization terminated successfully.\n",
            "         Current function value: -12.014217\n",
            "         Iterations: 37\n",
            "         Function evaluations: 936\n",
            "         Gradient evaluations: 39\n",
            "Optimization terminated successfully.\n",
            "         Current function value: -9.700158\n",
            "         Iterations: 30\n",
            "         Function evaluations: 768\n",
            "         Gradient evaluations: 32\n",
            "Optimization terminated successfully.\n",
            "         Current function value: -11.954984\n",
            "         Iterations: 50\n",
            "         Function evaluations: 1464\n",
            "         Gradient evaluations: 61\n",
            "Optimization terminated successfully.\n",
            "         Current function value: -12.014217\n",
            "         Iterations: 37\n",
            "         Function evaluations: 984\n",
            "         Gradient evaluations: 41\n",
            "Optimization terminated successfully.\n",
            "         Current function value: -12.014575\n",
            "         Iterations: 31\n",
            "         Function evaluations: 840\n",
            "         Gradient evaluations: 35\n",
            "Optimization terminated successfully.\n",
            "         Current function value: -11.978671\n",
            "         Iterations: 44\n",
            "         Function evaluations: 1152\n",
            "         Gradient evaluations: 48\n",
            "Optimization terminated successfully.\n",
            "         Current function value: -9.760508\n",
            "         Iterations: 27\n",
            "         Function evaluations: 672\n",
            "         Gradient evaluations: 28\n",
            "Optimization terminated successfully.\n",
            "         Current function value: -12.112351\n",
            "         Iterations: 34\n",
            "         Function evaluations: 888\n",
            "         Gradient evaluations: 37\n",
            "Optimization terminated successfully.\n",
            "         Current function value: -12.012013\n",
            "         Iterations: 36\n",
            "         Function evaluations: 936\n",
            "         Gradient evaluations: 39\n",
            "Optimization terminated successfully.\n",
            "         Current function value: -12.014575\n",
            "         Iterations: 44\n",
            "         Function evaluations: 1104\n",
            "         Gradient evaluations: 46\n",
            "Optimization terminated successfully.\n",
            "         Current function value: -12.120761\n",
            "         Iterations: 43\n",
            "         Function evaluations: 1224\n",
            "         Gradient evaluations: 51\n",
            "Optimization terminated successfully.\n",
            "         Current function value: -14.321977\n",
            "         Iterations: 46\n",
            "         Function evaluations: 1152\n",
            "         Gradient evaluations: 48\n"
          ]
        }
      ]
    },
    {
      "cell_type": "code",
      "source": [
        "local_minimum_list"
      ],
      "metadata": {
        "id": "LIkdce4nOaEB"
      },
      "execution_count": null,
      "outputs": []
    },
    {
      "cell_type": "code",
      "source": [
        "np.min(local_minimum_list)"
      ],
      "metadata": {
        "id": "SWisxyGvOaEB"
      },
      "execution_count": null,
      "outputs": []
    }
  ]
}