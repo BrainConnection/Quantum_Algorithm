{
  "nbformat": 4,
  "nbformat_minor": 0,
  "metadata": {
    "colab": {
      "provenance": [],
      "machine_shape": "hm",
      "gpuType": "V100",
      "authorship_tag": "ABX9TyPYVQJib5M1AOGWKF98Drfn",
      "include_colab_link": true
    },
    "kernelspec": {
      "name": "python3",
      "display_name": "Python 3"
    },
    "language_info": {
      "name": "python"
    }
  },
  "cells": [
    {
      "cell_type": "markdown",
      "metadata": {
        "id": "view-in-github",
        "colab_type": "text"
      },
      "source": [
        "<a href=\"https://colab.research.google.com/github/BrainConnection/Quantum_Algorithm/blob/main/2.%20TFIM%20VQNHE.ipynb\" target=\"_parent\"><img src=\"https://colab.research.google.com/assets/colab-badge.svg\" alt=\"Open In Colab\"/></a>"
      ]
    },
    {
      "cell_type": "markdown",
      "source": [
        "# Environment Setting"
      ],
      "metadata": {
        "id": "nHZOKbnMg33g"
      }
    },
    {
      "cell_type": "code",
      "execution_count": 1,
      "metadata": {
        "colab": {
          "base_uri": "https://localhost:8080/"
        },
        "id": "09dlWASwmtoK",
        "outputId": "a8a1e982-c81a-4440-a38c-2d0ed8336777"
      },
      "outputs": [
        {
          "output_type": "stream",
          "name": "stdout",
          "text": [
            "Collecting qiskit\n",
            "  Downloading qiskit-1.0.2-cp38-abi3-manylinux_2_17_x86_64.manylinux2014_x86_64.whl (5.6 MB)\n",
            "\u001b[2K     \u001b[90m━━━━━━━━━━━━━━━━━━━━━━━━━━━━━━━━━━━━━━━━\u001b[0m \u001b[32m5.6/5.6 MB\u001b[0m \u001b[31m24.1 MB/s\u001b[0m eta \u001b[36m0:00:00\u001b[0m\n",
            "\u001b[?25hCollecting rustworkx>=0.14.0 (from qiskit)\n",
            "  Downloading rustworkx-0.14.2-cp310-cp310-manylinux_2_17_x86_64.manylinux2014_x86_64.whl (2.1 MB)\n",
            "\u001b[2K     \u001b[90m━━━━━━━━━━━━━━━━━━━━━━━━━━━━━━━━━━━━━━━━\u001b[0m \u001b[32m2.1/2.1 MB\u001b[0m \u001b[31m54.1 MB/s\u001b[0m eta \u001b[36m0:00:00\u001b[0m\n",
            "\u001b[?25hRequirement already satisfied: numpy<2,>=1.17 in /usr/local/lib/python3.10/dist-packages (from qiskit) (1.25.2)\n",
            "Requirement already satisfied: scipy>=1.5 in /usr/local/lib/python3.10/dist-packages (from qiskit) (1.11.4)\n",
            "Requirement already satisfied: sympy>=1.3 in /usr/local/lib/python3.10/dist-packages (from qiskit) (1.12)\n",
            "Collecting dill>=0.3 (from qiskit)\n",
            "  Downloading dill-0.3.8-py3-none-any.whl (116 kB)\n",
            "\u001b[2K     \u001b[90m━━━━━━━━━━━━━━━━━━━━━━━━━━━━━━━━━━━━━━━━\u001b[0m \u001b[32m116.3/116.3 kB\u001b[0m \u001b[31m15.2 MB/s\u001b[0m eta \u001b[36m0:00:00\u001b[0m\n",
            "\u001b[?25hRequirement already satisfied: python-dateutil>=2.8.0 in /usr/local/lib/python3.10/dist-packages (from qiskit) (2.8.2)\n",
            "Collecting stevedore>=3.0.0 (from qiskit)\n",
            "  Downloading stevedore-5.2.0-py3-none-any.whl (49 kB)\n",
            "\u001b[2K     \u001b[90m━━━━━━━━━━━━━━━━━━━━━━━━━━━━━━━━━━━━━━━━\u001b[0m \u001b[32m49.7/49.7 kB\u001b[0m \u001b[31m6.1 MB/s\u001b[0m eta \u001b[36m0:00:00\u001b[0m\n",
            "\u001b[?25hRequirement already satisfied: typing-extensions in /usr/local/lib/python3.10/dist-packages (from qiskit) (4.10.0)\n",
            "Collecting symengine>=0.11 (from qiskit)\n",
            "  Downloading symengine-0.11.0-cp310-cp310-manylinux_2_12_x86_64.manylinux2010_x86_64.whl (39.4 MB)\n",
            "\u001b[2K     \u001b[90m━━━━━━━━━━━━━━━━━━━━━━━━━━━━━━━━━━━━━━━━\u001b[0m \u001b[32m39.4/39.4 MB\u001b[0m \u001b[31m41.0 MB/s\u001b[0m eta \u001b[36m0:00:00\u001b[0m\n",
            "\u001b[?25hRequirement already satisfied: six>=1.5 in /usr/local/lib/python3.10/dist-packages (from python-dateutil>=2.8.0->qiskit) (1.16.0)\n",
            "Collecting pbr!=2.1.0,>=2.0.0 (from stevedore>=3.0.0->qiskit)\n",
            "  Downloading pbr-6.0.0-py2.py3-none-any.whl (107 kB)\n",
            "\u001b[2K     \u001b[90m━━━━━━━━━━━━━━━━━━━━━━━━━━━━━━━━━━━━━━━━\u001b[0m \u001b[32m107.5/107.5 kB\u001b[0m \u001b[31m14.9 MB/s\u001b[0m eta \u001b[36m0:00:00\u001b[0m\n",
            "\u001b[?25hRequirement already satisfied: mpmath>=0.19 in /usr/local/lib/python3.10/dist-packages (from sympy>=1.3->qiskit) (1.3.0)\n",
            "Installing collected packages: symengine, rustworkx, pbr, dill, stevedore, qiskit\n",
            "Successfully installed dill-0.3.8 pbr-6.0.0 qiskit-1.0.2 rustworkx-0.14.2 stevedore-5.2.0 symengine-0.11.0\n",
            "Collecting qiskit-ibm-runtime\n",
            "  Downloading qiskit_ibm_runtime-0.21.1-py3-none-any.whl (3.0 MB)\n",
            "\u001b[2K     \u001b[90m━━━━━━━━━━━━━━━━━━━━━━━━━━━━━━━━━━━━━━━━\u001b[0m \u001b[32m3.0/3.0 MB\u001b[0m \u001b[31m11.6 MB/s\u001b[0m eta \u001b[36m0:00:00\u001b[0m\n",
            "\u001b[?25hRequirement already satisfied: requests>=2.19 in /usr/local/lib/python3.10/dist-packages (from qiskit-ibm-runtime) (2.31.0)\n",
            "Collecting requests-ntlm>=1.1.0 (from qiskit-ibm-runtime)\n",
            "  Downloading requests_ntlm-1.2.0-py3-none-any.whl (6.0 kB)\n",
            "Requirement already satisfied: numpy>=1.13 in /usr/local/lib/python3.10/dist-packages (from qiskit-ibm-runtime) (1.25.2)\n",
            "Requirement already satisfied: urllib3>=1.21.1 in /usr/local/lib/python3.10/dist-packages (from qiskit-ibm-runtime) (2.0.7)\n",
            "Requirement already satisfied: python-dateutil>=2.8.0 in /usr/local/lib/python3.10/dist-packages (from qiskit-ibm-runtime) (2.8.2)\n",
            "Requirement already satisfied: websocket-client>=1.5.1 in /usr/local/lib/python3.10/dist-packages (from qiskit-ibm-runtime) (1.7.0)\n",
            "Collecting ibm-platform-services>=0.22.6 (from qiskit-ibm-runtime)\n",
            "  Downloading ibm-platform-services-0.52.0.tar.gz (316 kB)\n",
            "\u001b[2K     \u001b[90m━━━━━━━━━━━━━━━━━━━━━━━━━━━━━━━━━━━━━━━━\u001b[0m \u001b[32m316.3/316.3 kB\u001b[0m \u001b[31m31.2 MB/s\u001b[0m eta \u001b[36m0:00:00\u001b[0m\n",
            "\u001b[?25h  Installing build dependencies ... \u001b[?25l\u001b[?25hdone\n",
            "  Getting requirements to build wheel ... \u001b[?25l\u001b[?25hdone\n",
            "  Preparing metadata (pyproject.toml) ... \u001b[?25l\u001b[?25hdone\n",
            "Requirement already satisfied: pydantic in /usr/local/lib/python3.10/dist-packages (from qiskit-ibm-runtime) (2.6.3)\n",
            "Requirement already satisfied: qiskit>=1.0.0 in /usr/local/lib/python3.10/dist-packages (from qiskit-ibm-runtime) (1.0.2)\n",
            "Collecting ibm-cloud-sdk-core<4.0.0,>=3.19.2 (from ibm-platform-services>=0.22.6->qiskit-ibm-runtime)\n",
            "  Downloading ibm-cloud-sdk-core-3.19.2.tar.gz (61 kB)\n",
            "\u001b[2K     \u001b[90m━━━━━━━━━━━━━━━━━━━━━━━━━━━━━━━━━━━━━━━━\u001b[0m \u001b[32m62.0/62.0 kB\u001b[0m \u001b[31m7.2 MB/s\u001b[0m eta \u001b[36m0:00:00\u001b[0m\n",
            "\u001b[?25h  Installing build dependencies ... \u001b[?25l\u001b[?25hdone\n",
            "  Getting requirements to build wheel ... \u001b[?25l\u001b[?25hdone\n",
            "  Preparing metadata (pyproject.toml) ... \u001b[?25l\u001b[?25hdone\n",
            "Requirement already satisfied: six>=1.5 in /usr/local/lib/python3.10/dist-packages (from python-dateutil>=2.8.0->qiskit-ibm-runtime) (1.16.0)\n",
            "Requirement already satisfied: rustworkx>=0.14.0 in /usr/local/lib/python3.10/dist-packages (from qiskit>=1.0.0->qiskit-ibm-runtime) (0.14.2)\n",
            "Requirement already satisfied: scipy>=1.5 in /usr/local/lib/python3.10/dist-packages (from qiskit>=1.0.0->qiskit-ibm-runtime) (1.11.4)\n",
            "Requirement already satisfied: sympy>=1.3 in /usr/local/lib/python3.10/dist-packages (from qiskit>=1.0.0->qiskit-ibm-runtime) (1.12)\n",
            "Requirement already satisfied: dill>=0.3 in /usr/local/lib/python3.10/dist-packages (from qiskit>=1.0.0->qiskit-ibm-runtime) (0.3.8)\n",
            "Requirement already satisfied: stevedore>=3.0.0 in /usr/local/lib/python3.10/dist-packages (from qiskit>=1.0.0->qiskit-ibm-runtime) (5.2.0)\n",
            "Requirement already satisfied: typing-extensions in /usr/local/lib/python3.10/dist-packages (from qiskit>=1.0.0->qiskit-ibm-runtime) (4.10.0)\n",
            "Requirement already satisfied: symengine>=0.11 in /usr/local/lib/python3.10/dist-packages (from qiskit>=1.0.0->qiskit-ibm-runtime) (0.11.0)\n",
            "Requirement already satisfied: charset-normalizer<4,>=2 in /usr/local/lib/python3.10/dist-packages (from requests>=2.19->qiskit-ibm-runtime) (3.3.2)\n",
            "Requirement already satisfied: idna<4,>=2.5 in /usr/local/lib/python3.10/dist-packages (from requests>=2.19->qiskit-ibm-runtime) (3.6)\n",
            "Requirement already satisfied: certifi>=2017.4.17 in /usr/local/lib/python3.10/dist-packages (from requests>=2.19->qiskit-ibm-runtime) (2024.2.2)\n",
            "Requirement already satisfied: cryptography>=1.3 in /usr/local/lib/python3.10/dist-packages (from requests-ntlm>=1.1.0->qiskit-ibm-runtime) (42.0.5)\n",
            "Collecting pyspnego>=0.1.6 (from requests-ntlm>=1.1.0->qiskit-ibm-runtime)\n",
            "  Downloading pyspnego-0.10.2-py3-none-any.whl (129 kB)\n",
            "\u001b[2K     \u001b[90m━━━━━━━━━━━━━━━━━━━━━━━━━━━━━━━━━━━━━━━━\u001b[0m \u001b[32m129.9/129.9 kB\u001b[0m \u001b[31m13.5 MB/s\u001b[0m eta \u001b[36m0:00:00\u001b[0m\n",
            "\u001b[?25hRequirement already satisfied: annotated-types>=0.4.0 in /usr/local/lib/python3.10/dist-packages (from pydantic->qiskit-ibm-runtime) (0.6.0)\n",
            "Requirement already satisfied: pydantic-core==2.16.3 in /usr/local/lib/python3.10/dist-packages (from pydantic->qiskit-ibm-runtime) (2.16.3)\n",
            "Requirement already satisfied: cffi>=1.12 in /usr/local/lib/python3.10/dist-packages (from cryptography>=1.3->requests-ntlm>=1.1.0->qiskit-ibm-runtime) (1.16.0)\n",
            "Collecting urllib3>=1.21.1 (from qiskit-ibm-runtime)\n",
            "  Downloading urllib3-2.2.1-py3-none-any.whl (121 kB)\n",
            "\u001b[2K     \u001b[90m━━━━━━━━━━━━━━━━━━━━━━━━━━━━━━━━━━━━━━━━\u001b[0m \u001b[32m121.1/121.1 kB\u001b[0m \u001b[31m15.3 MB/s\u001b[0m eta \u001b[36m0:00:00\u001b[0m\n",
            "\u001b[?25hCollecting PyJWT<3.0.0,>=2.8.0 (from ibm-cloud-sdk-core<4.0.0,>=3.19.2->ibm-platform-services>=0.22.6->qiskit-ibm-runtime)\n",
            "  Downloading PyJWT-2.8.0-py3-none-any.whl (22 kB)\n",
            "Requirement already satisfied: pbr!=2.1.0,>=2.0.0 in /usr/local/lib/python3.10/dist-packages (from stevedore>=3.0.0->qiskit>=1.0.0->qiskit-ibm-runtime) (6.0.0)\n",
            "Requirement already satisfied: mpmath>=0.19 in /usr/local/lib/python3.10/dist-packages (from sympy>=1.3->qiskit>=1.0.0->qiskit-ibm-runtime) (1.3.0)\n",
            "Requirement already satisfied: pycparser in /usr/local/lib/python3.10/dist-packages (from cffi>=1.12->cryptography>=1.3->requests-ntlm>=1.1.0->qiskit-ibm-runtime) (2.21)\n",
            "Building wheels for collected packages: ibm-platform-services, ibm-cloud-sdk-core\n",
            "  Building wheel for ibm-platform-services (pyproject.toml) ... \u001b[?25l\u001b[?25hdone\n",
            "  Created wheel for ibm-platform-services: filename=ibm_platform_services-0.52.0-py3-none-any.whl size=331902 sha256=f0ecb813fbd3f5d8ecc2f2aff8ca8508583713f71e34c066f16d9c7ff6d267bd\n",
            "  Stored in directory: /root/.cache/pip/wheels/9b/34/7b/f02968953b977f20d07a36eab5f7ea8c4d6590f5919940a9f8\n",
            "  Building wheel for ibm-cloud-sdk-core (pyproject.toml) ... \u001b[?25l\u001b[?25hdone\n",
            "  Created wheel for ibm-cloud-sdk-core: filename=ibm_cloud_sdk_core-3.19.2-py3-none-any.whl size=98827 sha256=998bd41493721bd83455d369b0f1e89bac76f65bb7e09c3df03d5e68f1425a19\n",
            "  Stored in directory: /root/.cache/pip/wheels/90/05/db/f544eb28b85089bf6cf29cb9e30f56b471bf59d56a46c92519\n",
            "Successfully built ibm-platform-services ibm-cloud-sdk-core\n",
            "Installing collected packages: urllib3, PyJWT, pyspnego, ibm-cloud-sdk-core, requests-ntlm, ibm-platform-services, qiskit-ibm-runtime\n",
            "  Attempting uninstall: urllib3\n",
            "    Found existing installation: urllib3 2.0.7\n",
            "    Uninstalling urllib3-2.0.7:\n",
            "      Successfully uninstalled urllib3-2.0.7\n",
            "  Attempting uninstall: PyJWT\n",
            "    Found existing installation: PyJWT 2.3.0\n",
            "    Uninstalling PyJWT-2.3.0:\n",
            "      Successfully uninstalled PyJWT-2.3.0\n",
            "Successfully installed PyJWT-2.8.0 ibm-cloud-sdk-core-3.19.2 ibm-platform-services-0.52.0 pyspnego-0.10.2 qiskit-ibm-runtime-0.21.1 requests-ntlm-1.2.0 urllib3-2.2.1\n",
            "Requirement already satisfied: qiskit[visualization] in /usr/local/lib/python3.10/dist-packages (1.0.2)\n",
            "Requirement already satisfied: rustworkx>=0.14.0 in /usr/local/lib/python3.10/dist-packages (from qiskit[visualization]) (0.14.2)\n",
            "Requirement already satisfied: numpy<2,>=1.17 in /usr/local/lib/python3.10/dist-packages (from qiskit[visualization]) (1.25.2)\n",
            "Requirement already satisfied: scipy>=1.5 in /usr/local/lib/python3.10/dist-packages (from qiskit[visualization]) (1.11.4)\n",
            "Requirement already satisfied: sympy>=1.3 in /usr/local/lib/python3.10/dist-packages (from qiskit[visualization]) (1.12)\n",
            "Requirement already satisfied: dill>=0.3 in /usr/local/lib/python3.10/dist-packages (from qiskit[visualization]) (0.3.8)\n",
            "Requirement already satisfied: python-dateutil>=2.8.0 in /usr/local/lib/python3.10/dist-packages (from qiskit[visualization]) (2.8.2)\n",
            "Requirement already satisfied: stevedore>=3.0.0 in /usr/local/lib/python3.10/dist-packages (from qiskit[visualization]) (5.2.0)\n",
            "Requirement already satisfied: typing-extensions in /usr/local/lib/python3.10/dist-packages (from qiskit[visualization]) (4.10.0)\n",
            "Requirement already satisfied: symengine>=0.11 in /usr/local/lib/python3.10/dist-packages (from qiskit[visualization]) (0.11.0)\n",
            "Requirement already satisfied: matplotlib>=3.3 in /usr/local/lib/python3.10/dist-packages (from qiskit[visualization]) (3.7.1)\n",
            "Requirement already satisfied: pydot in /usr/local/lib/python3.10/dist-packages (from qiskit[visualization]) (1.4.2)\n",
            "Requirement already satisfied: Pillow>=4.2.1 in /usr/local/lib/python3.10/dist-packages (from qiskit[visualization]) (9.4.0)\n",
            "Collecting pylatexenc>=1.4 (from qiskit[visualization])\n",
            "  Downloading pylatexenc-2.10.tar.gz (162 kB)\n",
            "\u001b[2K     \u001b[90m━━━━━━━━━━━━━━━━━━━━━━━━━━━━━━━━━━━━━━━━\u001b[0m \u001b[32m162.6/162.6 kB\u001b[0m \u001b[31m4.8 MB/s\u001b[0m eta \u001b[36m0:00:00\u001b[0m\n",
            "\u001b[?25h  Preparing metadata (setup.py) ... \u001b[?25l\u001b[?25hdone\n",
            "Requirement already satisfied: seaborn>=0.9.0 in /usr/local/lib/python3.10/dist-packages (from qiskit[visualization]) (0.13.1)\n",
            "Requirement already satisfied: contourpy>=1.0.1 in /usr/local/lib/python3.10/dist-packages (from matplotlib>=3.3->qiskit[visualization]) (1.2.0)\n",
            "Requirement already satisfied: cycler>=0.10 in /usr/local/lib/python3.10/dist-packages (from matplotlib>=3.3->qiskit[visualization]) (0.12.1)\n",
            "Requirement already satisfied: fonttools>=4.22.0 in /usr/local/lib/python3.10/dist-packages (from matplotlib>=3.3->qiskit[visualization]) (4.49.0)\n",
            "Requirement already satisfied: kiwisolver>=1.0.1 in /usr/local/lib/python3.10/dist-packages (from matplotlib>=3.3->qiskit[visualization]) (1.4.5)\n",
            "Requirement already satisfied: packaging>=20.0 in /usr/local/lib/python3.10/dist-packages (from matplotlib>=3.3->qiskit[visualization]) (23.2)\n",
            "Requirement already satisfied: pyparsing>=2.3.1 in /usr/local/lib/python3.10/dist-packages (from matplotlib>=3.3->qiskit[visualization]) (3.1.2)\n",
            "Requirement already satisfied: six>=1.5 in /usr/local/lib/python3.10/dist-packages (from python-dateutil>=2.8.0->qiskit[visualization]) (1.16.0)\n",
            "Requirement already satisfied: pandas>=1.2 in /usr/local/lib/python3.10/dist-packages (from seaborn>=0.9.0->qiskit[visualization]) (1.5.3)\n",
            "Requirement already satisfied: pbr!=2.1.0,>=2.0.0 in /usr/local/lib/python3.10/dist-packages (from stevedore>=3.0.0->qiskit[visualization]) (6.0.0)\n",
            "Requirement already satisfied: mpmath>=0.19 in /usr/local/lib/python3.10/dist-packages (from sympy>=1.3->qiskit[visualization]) (1.3.0)\n",
            "Requirement already satisfied: pytz>=2020.1 in /usr/local/lib/python3.10/dist-packages (from pandas>=1.2->seaborn>=0.9.0->qiskit[visualization]) (2023.4)\n",
            "Building wheels for collected packages: pylatexenc\n",
            "  Building wheel for pylatexenc (setup.py) ... \u001b[?25l\u001b[?25hdone\n",
            "  Created wheel for pylatexenc: filename=pylatexenc-2.10-py3-none-any.whl size=136816 sha256=528945b36e78c209be4e132fc9932113abab4359fe2b4f1585ee764d5899a7d0\n",
            "  Stored in directory: /root/.cache/pip/wheels/d3/31/8b/e09b0386afd80cfc556c00408c9aeea5c35c4d484a9c762fd5\n",
            "Successfully built pylatexenc\n",
            "Installing collected packages: pylatexenc\n",
            "Successfully installed pylatexenc-2.10\n",
            "Collecting qiskit-algorithms\n",
            "  Downloading qiskit_algorithms-0.3.0-py3-none-any.whl (308 kB)\n",
            "\u001b[2K     \u001b[90m━━━━━━━━━━━━━━━━━━━━━━━━━━━━━━━━━━━━━━━━\u001b[0m \u001b[32m308.6/308.6 kB\u001b[0m \u001b[31m8.4 MB/s\u001b[0m eta \u001b[36m0:00:00\u001b[0m\n",
            "\u001b[?25hRequirement already satisfied: qiskit>=0.44 in /usr/local/lib/python3.10/dist-packages (from qiskit-algorithms) (1.0.2)\n",
            "Requirement already satisfied: scipy>=1.4 in /usr/local/lib/python3.10/dist-packages (from qiskit-algorithms) (1.11.4)\n",
            "Requirement already satisfied: numpy>=1.17 in /usr/local/lib/python3.10/dist-packages (from qiskit-algorithms) (1.25.2)\n",
            "Requirement already satisfied: rustworkx>=0.14.0 in /usr/local/lib/python3.10/dist-packages (from qiskit>=0.44->qiskit-algorithms) (0.14.2)\n",
            "Requirement already satisfied: sympy>=1.3 in /usr/local/lib/python3.10/dist-packages (from qiskit>=0.44->qiskit-algorithms) (1.12)\n",
            "Requirement already satisfied: dill>=0.3 in /usr/local/lib/python3.10/dist-packages (from qiskit>=0.44->qiskit-algorithms) (0.3.8)\n",
            "Requirement already satisfied: python-dateutil>=2.8.0 in /usr/local/lib/python3.10/dist-packages (from qiskit>=0.44->qiskit-algorithms) (2.8.2)\n",
            "Requirement already satisfied: stevedore>=3.0.0 in /usr/local/lib/python3.10/dist-packages (from qiskit>=0.44->qiskit-algorithms) (5.2.0)\n",
            "Requirement already satisfied: typing-extensions in /usr/local/lib/python3.10/dist-packages (from qiskit>=0.44->qiskit-algorithms) (4.10.0)\n",
            "Requirement already satisfied: symengine>=0.11 in /usr/local/lib/python3.10/dist-packages (from qiskit>=0.44->qiskit-algorithms) (0.11.0)\n",
            "Requirement already satisfied: six>=1.5 in /usr/local/lib/python3.10/dist-packages (from python-dateutil>=2.8.0->qiskit>=0.44->qiskit-algorithms) (1.16.0)\n",
            "Requirement already satisfied: pbr!=2.1.0,>=2.0.0 in /usr/local/lib/python3.10/dist-packages (from stevedore>=3.0.0->qiskit>=0.44->qiskit-algorithms) (6.0.0)\n",
            "Requirement already satisfied: mpmath>=0.19 in /usr/local/lib/python3.10/dist-packages (from sympy>=1.3->qiskit>=0.44->qiskit-algorithms) (1.3.0)\n",
            "Installing collected packages: qiskit-algorithms\n",
            "Successfully installed qiskit-algorithms-0.3.0\n",
            "Collecting qiskit-aer\n",
            "  Downloading qiskit_aer-0.13.3-cp310-cp310-manylinux_2_17_x86_64.manylinux2014_x86_64.whl (12.3 MB)\n",
            "\u001b[2K     \u001b[90m━━━━━━━━━━━━━━━━━━━━━━━━━━━━━━━━━━━━━━━━\u001b[0m \u001b[32m12.3/12.3 MB\u001b[0m \u001b[31m49.1 MB/s\u001b[0m eta \u001b[36m0:00:00\u001b[0m\n",
            "\u001b[?25hRequirement already satisfied: qiskit>=0.45.0 in /usr/local/lib/python3.10/dist-packages (from qiskit-aer) (1.0.2)\n",
            "Requirement already satisfied: numpy>=1.16.3 in /usr/local/lib/python3.10/dist-packages (from qiskit-aer) (1.25.2)\n",
            "Requirement already satisfied: scipy>=1.0 in /usr/local/lib/python3.10/dist-packages (from qiskit-aer) (1.11.4)\n",
            "Requirement already satisfied: psutil>=5 in /usr/local/lib/python3.10/dist-packages (from qiskit-aer) (5.9.5)\n",
            "Requirement already satisfied: rustworkx>=0.14.0 in /usr/local/lib/python3.10/dist-packages (from qiskit>=0.45.0->qiskit-aer) (0.14.2)\n",
            "Requirement already satisfied: sympy>=1.3 in /usr/local/lib/python3.10/dist-packages (from qiskit>=0.45.0->qiskit-aer) (1.12)\n",
            "Requirement already satisfied: dill>=0.3 in /usr/local/lib/python3.10/dist-packages (from qiskit>=0.45.0->qiskit-aer) (0.3.8)\n",
            "Requirement already satisfied: python-dateutil>=2.8.0 in /usr/local/lib/python3.10/dist-packages (from qiskit>=0.45.0->qiskit-aer) (2.8.2)\n",
            "Requirement already satisfied: stevedore>=3.0.0 in /usr/local/lib/python3.10/dist-packages (from qiskit>=0.45.0->qiskit-aer) (5.2.0)\n",
            "Requirement already satisfied: typing-extensions in /usr/local/lib/python3.10/dist-packages (from qiskit>=0.45.0->qiskit-aer) (4.10.0)\n",
            "Requirement already satisfied: symengine>=0.11 in /usr/local/lib/python3.10/dist-packages (from qiskit>=0.45.0->qiskit-aer) (0.11.0)\n",
            "Requirement already satisfied: six>=1.5 in /usr/local/lib/python3.10/dist-packages (from python-dateutil>=2.8.0->qiskit>=0.45.0->qiskit-aer) (1.16.0)\n",
            "Requirement already satisfied: pbr!=2.1.0,>=2.0.0 in /usr/local/lib/python3.10/dist-packages (from stevedore>=3.0.0->qiskit>=0.45.0->qiskit-aer) (6.0.0)\n",
            "Requirement already satisfied: mpmath>=0.19 in /usr/local/lib/python3.10/dist-packages (from sympy>=1.3->qiskit>=0.45.0->qiskit-aer) (1.3.0)\n",
            "Installing collected packages: qiskit-aer\n",
            "Successfully installed qiskit-aer-0.13.3\n",
            "Requirement already satisfied: scipy in /usr/local/lib/python3.10/dist-packages (1.11.4)\n",
            "Requirement already satisfied: numpy<1.28.0,>=1.21.6 in /usr/local/lib/python3.10/dist-packages (from scipy) (1.25.2)\n",
            "Requirement already satisfied: matplotlib in /usr/local/lib/python3.10/dist-packages (3.7.1)\n",
            "Requirement already satisfied: contourpy>=1.0.1 in /usr/local/lib/python3.10/dist-packages (from matplotlib) (1.2.0)\n",
            "Requirement already satisfied: cycler>=0.10 in /usr/local/lib/python3.10/dist-packages (from matplotlib) (0.12.1)\n",
            "Requirement already satisfied: fonttools>=4.22.0 in /usr/local/lib/python3.10/dist-packages (from matplotlib) (4.49.0)\n",
            "Requirement already satisfied: kiwisolver>=1.0.1 in /usr/local/lib/python3.10/dist-packages (from matplotlib) (1.4.5)\n",
            "Requirement already satisfied: numpy>=1.20 in /usr/local/lib/python3.10/dist-packages (from matplotlib) (1.25.2)\n",
            "Requirement already satisfied: packaging>=20.0 in /usr/local/lib/python3.10/dist-packages (from matplotlib) (23.2)\n",
            "Requirement already satisfied: pillow>=6.2.0 in /usr/local/lib/python3.10/dist-packages (from matplotlib) (9.4.0)\n",
            "Requirement already satisfied: pyparsing>=2.3.1 in /usr/local/lib/python3.10/dist-packages (from matplotlib) (3.1.2)\n",
            "Requirement already satisfied: python-dateutil>=2.7 in /usr/local/lib/python3.10/dist-packages (from matplotlib) (2.8.2)\n",
            "Requirement already satisfied: six>=1.5 in /usr/local/lib/python3.10/dist-packages (from python-dateutil>=2.7->matplotlib) (1.16.0)\n"
          ]
        }
      ],
      "source": [
        "!pip install qiskit\n",
        "!pip install qiskit-ibm-runtime\n",
        "!pip install qiskit[visualization]\n",
        "!pip install qiskit-algorithms\n",
        "!pip install qiskit-aer\n",
        "\n",
        "!pip install scipy\n",
        "!pip install matplotlib"
      ]
    },
    {
      "cell_type": "code",
      "source": [
        "from qiskit_ibm_runtime import QiskitRuntimeService, Estimator, Options\n",
        "\n",
        "# Save an IBM Quantum account and set it as your default account.\n",
        "QiskitRuntimeService.save_account(channel=\"ibm_quantum\",\n",
        "                                  token=\"067e5c82606f0a1157dd554e2087d6b7a9b823dbaa4ad47b95c3337eab2e6cd9361719cc0470f4a98d1631b73b264a82577012a0b8ff32963d5964e6cc12c525\",\n",
        "                                  set_as_default=True,\n",
        "                                  overwrite=True)\n",
        "\n",
        "service = QiskitRuntimeService()\n",
        "backend = service.backend(\"ibmq_qasm_simulator\")"
      ],
      "metadata": {
        "id": "2WPbDpzlm75h"
      },
      "execution_count": 2,
      "outputs": []
    },
    {
      "cell_type": "markdown",
      "source": [
        "# Hamiltonian Diagonalization"
      ],
      "metadata": {
        "id": "KxlrsTqLfZMB"
      }
    },
    {
      "cell_type": "markdown",
      "source": [
        "$$ H = Σ Z_j Z_{j+1} - Σ X_j  $$\n",
        "\n",
        "1D 5 Qubit System"
      ],
      "metadata": {
        "id": "ECHhrgxzxyoj"
      }
    },
    {
      "cell_type": "code",
      "source": [
        "from qiskit.quantum_info import SparsePauliOp\n",
        "import numpy as np\n",
        "import matplotlib.pyplot as plt"
      ],
      "metadata": {
        "id": "DtnIBeDK08QA"
      },
      "execution_count": 3,
      "outputs": []
    },
    {
      "cell_type": "code",
      "source": [
        "interation = 1\n",
        "bias = -1\n",
        "\n",
        "coeff_list = [interation for _ in range(5)] + [bias for _ in range(5)]\n",
        "operator_list = [\"ZZIII\", \"IZZII\", \"IIZZI\", \"IIIZZ\", \"ZIIIZ\", \"XIIII\", \"IXIII\", \"IIXII\", \"IIIXI\", \"IIIIX\"]\n",
        "hamiltonian_list = []\n",
        "for i in range(10):\n",
        "  hamiltonian_list.append((operator_list[i], coeff_list[i]))\n",
        "hamiltonian = SparsePauliOp.from_list(hamiltonian_list)\n",
        "hamiltonian_matrix = hamiltonian.to_matrix()\n",
        "\n",
        "eigenvalue, eigenvector = np.linalg.eig(hamiltonian_matrix)\n",
        "\n",
        "lowest_energy = np.min(eigenvalue)\n",
        "\n",
        "np.real(lowest_energy)"
      ],
      "metadata": {
        "colab": {
          "base_uri": "https://localhost:8080/"
        },
        "id": "DF1a7aGu4fUc",
        "outputId": "07552b73-e01c-49eb-8576-6c66dcf218d9"
      },
      "execution_count": 4,
      "outputs": [
        {
          "output_type": "execute_result",
          "data": {
            "text/plain": [
              "-6.155367074350501"
            ]
          },
          "metadata": {},
          "execution_count": 4
        }
      ]
    },
    {
      "cell_type": "code",
      "source": [
        "interation = 1\n",
        "bias = -1\n",
        "\n",
        "coeff_list = [interation for _ in range(4)] + [bias for _ in range(5)]\n",
        "operator_list = [\"ZZIII\", \"IZZII\", \"IIZZI\", \"IIIZZ\", \"XIIII\", \"IXIII\", \"IIXII\", \"IIIXI\", \"IIIIX\"]\n",
        "hamiltonian_list = []\n",
        "for i in range(9):\n",
        "  hamiltonian_list.append((operator_list[i], coeff_list[i]))\n",
        "hamiltonian = SparsePauliOp.from_list(hamiltonian_list)\n",
        "hamiltonian_matrix = hamiltonian.to_matrix()\n",
        "\n",
        "eigenvalue, eigenvector = np.linalg.eig(hamiltonian_matrix)\n",
        "\n",
        "lowest_energy = np.min(eigenvalue)\n",
        "\n",
        "np.real(lowest_energy)"
      ],
      "metadata": {
        "colab": {
          "base_uri": "https://localhost:8080/"
        },
        "id": "dIaFYN-X2TRM",
        "outputId": "1462a099-8eaa-428d-9fca-b8fe9430a75a"
      },
      "execution_count": 5,
      "outputs": [
        {
          "output_type": "execute_result",
          "data": {
            "text/plain": [
              "-6.026674183332294"
            ]
          },
          "metadata": {},
          "execution_count": 5
        }
      ]
    },
    {
      "cell_type": "markdown",
      "source": [
        "# VQE in Noiseless Simulator (Method 1)\n",
        "\n",
        "1. Optimize Parameters in PQC\n",
        "\n",
        "2. Fix Parameters in PQC and Connect Neural Net Layer, Optimize Parameters in Neural Net"
      ],
      "metadata": {
        "id": "-WrqU9C2g8fS"
      }
    },
    {
      "cell_type": "markdown",
      "source": [
        "## Ansatz, Hamiltonian, Sampler & Estimator Setting"
      ],
      "metadata": {
        "id": "cmvKiG5U_VJH"
      }
    },
    {
      "cell_type": "code",
      "source": [
        "from qiskit.circuit import QuantumCircuit, QuantumRegister, ClassicalRegister, Parameter\n",
        "from qiskit.quantum_info import SparsePauliOp\n",
        "from qiskit.circuit import ParameterVector\n",
        "from qiskit.primitives import Estimator, Sampler\n",
        "\n",
        "import numpy as np\n",
        "from scipy.optimize import minimize"
      ],
      "metadata": {
        "id": "rEnUcxZ96kcK"
      },
      "execution_count": 6,
      "outputs": []
    },
    {
      "cell_type": "code",
      "source": [
        "# Instantiate the system Hamiltonian\n",
        "interation = 1\n",
        "bias = -1\n",
        "\n",
        "coeff_list = [interation for _ in range(4)] + [bias for _ in range(5)]\n",
        "operator_list = [\"ZZIII\", \"IZZII\", \"IIZZI\", \"IIIZZ\", \"XIIII\", \"IXIII\", \"IIXII\", \"IIIXI\", \"IIIIX\"]\n",
        "hamiltonian_list = []\n",
        "for i in range(9):\n",
        "  hamiltonian_list.append((operator_list[i], coeff_list[i]))\n",
        "hamiltonian = SparsePauliOp.from_list(hamiltonian_list)"
      ],
      "metadata": {
        "id": "KoR-xtSmhIFG"
      },
      "execution_count": 7,
      "outputs": []
    },
    {
      "cell_type": "code",
      "source": [
        "# Ansatz for VQE\n",
        "\n",
        "ansatz = QuantumCircuit(5)\n",
        "params = ParameterVector(\"theta\", length=9)\n",
        "it = iter(params)\n",
        "ansatz.h(range(0,5))\n",
        "\n",
        "ansatz.barrier()\n",
        "\n",
        "ansatz.cx(0, 1)\n",
        "ansatz.cx(2, 3)\n",
        "ansatz.rz(next(it), 1)\n",
        "ansatz.rz(next(it), 3)\n",
        "ansatz.cx(0, 1)\n",
        "ansatz.cx(2, 3)\n",
        "ansatz.cx(1, 2)\n",
        "ansatz.cx(3, 4)\n",
        "ansatz.rz(next(it), 2)\n",
        "ansatz.rz(next(it), 4)\n",
        "ansatz.cx(1, 2)\n",
        "ansatz.cx(3, 4)\n",
        "\n",
        "ansatz.barrier()\n",
        "\n",
        "ansatz.rx(next(it), 0)\n",
        "ansatz.rx(next(it), 1)\n",
        "ansatz.rx(next(it), 2)\n",
        "ansatz.rx(next(it), 3)\n",
        "ansatz.rx(next(it), 4)\n",
        "\n",
        "ansatz.draw(\"mpl\")"
      ],
      "metadata": {
        "id": "kQizJBKXlHwO",
        "outputId": "5855efed-aafe-43fc-f2d8-467fab839ff7",
        "colab": {
          "base_uri": "https://localhost:8080/",
          "height": 0
        }
      },
      "execution_count": 8,
      "outputs": [
        {
          "output_type": "execute_result",
          "data": {
            "text/plain": [
              "<Figure size 956.385x451.5 with 1 Axes>"
            ],
            "image/png": "[encoded data removed]"
          },
          "metadata": {},
          "execution_count": 8
        }
      ]
    },
    {
      "cell_type": "code",
      "source": [
        "# Ansatz for VQNHE ZZ Measurement\n",
        "\n",
        "qbit = QuantumRegister(5)\n",
        "cbit = ClassicalRegister(5)\n",
        "\n",
        "ansatz_zz = QuantumCircuit(qbit, cbit)\n",
        "\n",
        "params = ParameterVector(\"theta\", length=9)\n",
        "it = iter(params)\n",
        "\n",
        "ansatz_zz.h(range(0,5))\n",
        "\n",
        "ansatz_zz.barrier()\n",
        "\n",
        "ansatz_zz.cx(0, 1)\n",
        "ansatz_zz.cx(2, 3)\n",
        "ansatz_zz.rz(next(it), 1)\n",
        "ansatz_zz.rz(next(it), 3)\n",
        "ansatz_zz.cx(0, 1)\n",
        "ansatz_zz.cx(2, 3)\n",
        "ansatz_zz.cx(1, 2)\n",
        "ansatz_zz.cx(3, 4)\n",
        "ansatz_zz.rz(next(it), 2)\n",
        "ansatz_zz.rz(next(it), 4)\n",
        "ansatz_zz.cx(1, 2)\n",
        "ansatz_zz.cx(3, 4)\n",
        "\n",
        "ansatz_zz.barrier()\n",
        "\n",
        "ansatz_zz.rx(next(it), 0)\n",
        "ansatz_zz.rx(next(it), 1)\n",
        "ansatz_zz.rx(next(it), 2)\n",
        "ansatz_zz.rx(next(it), 3)\n",
        "ansatz_zz.rx(next(it), 4)\n",
        "\n",
        "ansatz_zz.barrier()\n",
        "\n",
        "ansatz_zz.measure([0,1,2,3,4], [0,1,2,3,4])\n",
        "\n",
        "ansatz_zz.draw(\"mpl\")"
      ],
      "metadata": {
        "colab": {
          "base_uri": "https://localhost:8080/",
          "height": 0
        },
        "id": "NImgYN9VoSW6",
        "outputId": "789de4b7-20d7-43c8-b3c0-caf90aaa3fe5"
      },
      "execution_count": 9,
      "outputs": [
        {
          "output_type": "execute_result",
          "data": {
            "text/plain": [
              "<Figure size 1476.28x535.111 with 1 Axes>"
            ],
            "image/png": "[encoded data removed]"
          },
          "metadata": {},
          "execution_count": 9
        }
      ]
    },
    {
      "cell_type": "code",
      "source": [
        "# Ansatz for VQNHE X0 Measurement\n",
        "\n",
        "qbit0 = QuantumRegister(5)\n",
        "cbit0 = ClassicalRegister(5)\n",
        "\n",
        "ansatz_x0 = QuantumCircuit(qbit0, cbit0)\n",
        "\n",
        "params = ParameterVector(\"theta\", length=9)\n",
        "it = iter(params)\n",
        "\n",
        "ansatz_x0.h(range(0,5))\n",
        "\n",
        "ansatz_x0.barrier()\n",
        "\n",
        "ansatz_x0.cx(0, 1)\n",
        "ansatz_x0.cx(2, 3)\n",
        "ansatz_x0.rz(next(it), 1)\n",
        "ansatz_x0.rz(next(it), 3)\n",
        "ansatz_x0.cx(0, 1)\n",
        "ansatz_x0.cx(2, 3)\n",
        "ansatz_x0.cx(1, 2)\n",
        "ansatz_x0.cx(3, 4)\n",
        "ansatz_x0.rz(next(it), 2)\n",
        "ansatz_x0.rz(next(it), 4)\n",
        "ansatz_x0.cx(1, 2)\n",
        "ansatz_x0.cx(3, 4)\n",
        "\n",
        "ansatz_x0.barrier()\n",
        "\n",
        "ansatz_x0.rx(next(it), 0)\n",
        "ansatz_x0.rx(next(it), 1)\n",
        "ansatz_x0.rx(next(it), 2)\n",
        "ansatz_x0.rx(next(it), 3)\n",
        "ansatz_x0.rx(next(it), 4)\n",
        "\n",
        "ansatz_x0.barrier()\n",
        "\n",
        "ansatz_x0.h(0)\n",
        "\n",
        "ansatz_x0.barrier()\n",
        "\n",
        "ansatz_x0.measure([0,1,2,3,4], [4,3,2,1,0])\n",
        "\n",
        "ansatz_x0.draw(\"mpl\")"
      ],
      "metadata": {
        "colab": {
          "base_uri": "https://localhost:8080/",
          "height": 0
        },
        "id": "oimYp77jlxu7",
        "outputId": "2e532f44-3864-443a-ddb5-dfad3f9ff8b9"
      },
      "execution_count": 10,
      "outputs": [
        {
          "output_type": "execute_result",
          "data": {
            "text/plain": [
              "<Figure size 1643.71x535.111 with 1 Axes>"
            ],
            "image/png": "[encoded data removed]"
          },
          "metadata": {},
          "execution_count": 10
        }
      ]
    },
    {
      "cell_type": "code",
      "source": [
        "# Ansatz for VQNHE X1 Measurement\n",
        "\n",
        "qbit1 = QuantumRegister(5)\n",
        "cbit1 = ClassicalRegister(5)\n",
        "\n",
        "ansatz_x1 = QuantumCircuit(qbit1, cbit1)\n",
        "\n",
        "params = ParameterVector(\"theta\", length=9)\n",
        "it = iter(params)\n",
        "\n",
        "ansatz_x1.h(range(0,5))\n",
        "\n",
        "ansatz_x1.barrier()\n",
        "\n",
        "ansatz_x1.cx(0, 1)\n",
        "ansatz_x1.cx(2, 3)\n",
        "ansatz_x1.rz(next(it), 1)\n",
        "ansatz_x1.rz(next(it), 3)\n",
        "ansatz_x1.cx(0, 1)\n",
        "ansatz_x1.cx(2, 3)\n",
        "ansatz_x1.cx(1, 2)\n",
        "ansatz_x1.cx(3, 4)\n",
        "ansatz_x1.rz(next(it), 2)\n",
        "ansatz_x1.rz(next(it), 4)\n",
        "ansatz_x1.cx(1, 2)\n",
        "ansatz_x1.cx(3, 4)\n",
        "\n",
        "ansatz_x1.barrier()\n",
        "\n",
        "ansatz_x1.rx(next(it), 0)\n",
        "ansatz_x1.rx(next(it), 1)\n",
        "ansatz_x1.rx(next(it), 2)\n",
        "ansatz_x1.rx(next(it), 3)\n",
        "ansatz_x1.rx(next(it), 4)\n",
        "\n",
        "ansatz_x1.barrier()\n",
        "\n",
        "ansatz_x1.h(1)\n",
        "\n",
        "ansatz_x1.barrier()\n",
        "\n",
        "ansatz_x1.measure([0,1,2,3,4], [4,3,2,1,0])\n",
        "\n",
        "ansatz_x1.draw(\"mpl\")"
      ],
      "metadata": {
        "colab": {
          "base_uri": "https://localhost:8080/",
          "height": 0
        },
        "id": "7nJN5Vnei46C",
        "outputId": "e1783dea-d9b2-4a02-a7cc-c39ea1617af5"
      },
      "execution_count": 11,
      "outputs": [
        {
          "output_type": "execute_result",
          "data": {
            "text/plain": [
              "<Figure size 1643.71x535.111 with 1 Axes>"
            ],
            "image/png": "[encoded data removed]"
          },
          "metadata": {},
          "execution_count": 11
        }
      ]
    },
    {
      "cell_type": "code",
      "source": [
        "# Ansatz for VQNHE X2 Measurement\n",
        "\n",
        "qbit2 = QuantumRegister(5)\n",
        "cbit2 = ClassicalRegister(5)\n",
        "\n",
        "ansatz_x2 = QuantumCircuit(qbit2, cbit2)\n",
        "\n",
        "params = ParameterVector(\"theta\", length=9)\n",
        "it = iter(params)\n",
        "\n",
        "ansatz_x2.h(range(0,5))\n",
        "\n",
        "ansatz_x2.barrier()\n",
        "\n",
        "ansatz_x2.cx(0, 1)\n",
        "ansatz_x2.cx(2, 3)\n",
        "ansatz_x2.rz(next(it), 1)\n",
        "ansatz_x2.rz(next(it), 3)\n",
        "ansatz_x2.cx(0, 1)\n",
        "ansatz_x2.cx(2, 3)\n",
        "ansatz_x2.cx(1, 2)\n",
        "ansatz_x2.cx(3, 4)\n",
        "ansatz_x2.rz(next(it), 2)\n",
        "ansatz_x2.rz(next(it), 4)\n",
        "ansatz_x2.cx(1, 2)\n",
        "ansatz_x2.cx(3, 4)\n",
        "\n",
        "ansatz_x2.barrier()\n",
        "\n",
        "ansatz_x2.rx(next(it), 0)\n",
        "ansatz_x2.rx(next(it), 1)\n",
        "ansatz_x2.rx(next(it), 2)\n",
        "ansatz_x2.rx(next(it), 3)\n",
        "ansatz_x2.rx(next(it), 4)\n",
        "\n",
        "ansatz_x2.barrier()\n",
        "\n",
        "ansatz_x2.h(2)\n",
        "\n",
        "ansatz_x2.barrier()\n",
        "\n",
        "ansatz_x2.measure([0,1,2,3,4], [4,3,2,1,0])\n",
        "\n",
        "ansatz_x2.draw(\"mpl\")"
      ],
      "metadata": {
        "colab": {
          "base_uri": "https://localhost:8080/",
          "height": 0
        },
        "id": "2WovLTdvqIrt",
        "outputId": "26e08316-0e98-4c1b-a42c-f7abe00087de"
      },
      "execution_count": 12,
      "outputs": [
        {
          "output_type": "execute_result",
          "data": {
            "text/plain": [
              "<Figure size 1643.71x535.111 with 1 Axes>"
            ],
            "image/png": "[encoded data removed]"
          },
          "metadata": {},
          "execution_count": 12
        }
      ]
    },
    {
      "cell_type": "code",
      "source": [
        "# Ansatz for VQNHE X3 Measurement\n",
        "\n",
        "qbit3 = QuantumRegister(5)\n",
        "cbit3 = ClassicalRegister(5)\n",
        "\n",
        "ansatz_x3 = QuantumCircuit(qbit3, cbit3)\n",
        "\n",
        "params = ParameterVector(\"theta\", length=9)\n",
        "it = iter(params)\n",
        "\n",
        "ansatz_x3.h(range(0,5))\n",
        "\n",
        "ansatz_x3.barrier()\n",
        "\n",
        "ansatz_x3.cx(0, 1)\n",
        "ansatz_x3.cx(2, 3)\n",
        "ansatz_x3.rz(next(it), 1)\n",
        "ansatz_x3.rz(next(it), 3)\n",
        "ansatz_x3.cx(0, 1)\n",
        "ansatz_x3.cx(2, 3)\n",
        "ansatz_x3.cx(1, 2)\n",
        "ansatz_x3.cx(3, 4)\n",
        "ansatz_x3.rz(next(it), 2)\n",
        "ansatz_x3.rz(next(it), 4)\n",
        "ansatz_x3.cx(1, 2)\n",
        "ansatz_x3.cx(3, 4)\n",
        "\n",
        "ansatz_x3.barrier()\n",
        "\n",
        "ansatz_x3.rx(next(it), 0)\n",
        "ansatz_x3.rx(next(it), 1)\n",
        "ansatz_x3.rx(next(it), 2)\n",
        "ansatz_x3.rx(next(it), 3)\n",
        "ansatz_x3.rx(next(it), 4)\n",
        "\n",
        "ansatz_x3.barrier()\n",
        "\n",
        "ansatz_x3.h(3)\n",
        "\n",
        "ansatz_x3.barrier()\n",
        "\n",
        "ansatz_x3.measure([0,1,2,3,4], [4,3,2,1,0])\n",
        "\n",
        "ansatz_x3.draw(\"mpl\")"
      ],
      "metadata": {
        "colab": {
          "base_uri": "https://localhost:8080/",
          "height": 0
        },
        "id": "wJTXprZFqIo3",
        "outputId": "808d558e-00f7-4512-efbf-ed3b8727ea45"
      },
      "execution_count": 13,
      "outputs": [
        {
          "output_type": "execute_result",
          "data": {
            "text/plain": [
              "<Figure size 1643.71x535.111 with 1 Axes>"
            ],
            "image/png": "[encoded data removed]"
          },
          "metadata": {},
          "execution_count": 13
        }
      ]
    },
    {
      "cell_type": "code",
      "source": [
        "# Ansatz for VQNHE X4 Measurement\n",
        "\n",
        "qbit4 = QuantumRegister(5)\n",
        "cbit4 = ClassicalRegister(5)\n",
        "\n",
        "ansatz_x4 = QuantumCircuit(qbit4, cbit4)\n",
        "\n",
        "params = ParameterVector(\"theta\", length=9)\n",
        "it = iter(params)\n",
        "\n",
        "ansatz_x4.h(range(0,5))\n",
        "\n",
        "ansatz_x4.barrier()\n",
        "\n",
        "ansatz_x4.cx(0, 1)\n",
        "ansatz_x4.cx(2, 3)\n",
        "ansatz_x4.rz(next(it), 1)\n",
        "ansatz_x4.rz(next(it), 3)\n",
        "ansatz_x4.cx(0, 1)\n",
        "ansatz_x4.cx(2, 3)\n",
        "ansatz_x4.cx(1, 2)\n",
        "ansatz_x4.cx(3, 4)\n",
        "ansatz_x4.rz(next(it), 2)\n",
        "ansatz_x4.rz(next(it), 4)\n",
        "ansatz_x4.cx(1, 2)\n",
        "ansatz_x4.cx(3, 4)\n",
        "\n",
        "ansatz_x4.barrier()\n",
        "\n",
        "ansatz_x4.rx(next(it), 0)\n",
        "ansatz_x4.rx(next(it), 1)\n",
        "ansatz_x4.rx(next(it), 2)\n",
        "ansatz_x4.rx(next(it), 3)\n",
        "ansatz_x4.rx(next(it), 4)\n",
        "\n",
        "ansatz_x4.barrier()\n",
        "\n",
        "ansatz_x4.h(4)\n",
        "\n",
        "ansatz_x4.barrier()\n",
        "\n",
        "ansatz_x4.measure([0,1,2,3,4], [4,3,2,1,0])\n",
        "\n",
        "ansatz_x4.draw(\"mpl\")"
      ],
      "metadata": {
        "colab": {
          "base_uri": "https://localhost:8080/",
          "height": 0
        },
        "id": "1WBG2Q90qImO",
        "outputId": "695539fd-9b92-4be0-eeee-c73ae87cb0cb"
      },
      "execution_count": 14,
      "outputs": [
        {
          "output_type": "execute_result",
          "data": {
            "text/plain": [
              "<Figure size 1643.5x535.111 with 1 Axes>"
            ],
            "image/png": "[encoded data removed]"
          },
          "metadata": {},
          "execution_count": 14
        }
      ]
    },
    {
      "cell_type": "code",
      "source": [
        "# Estimator & Sampler\n",
        "\n",
        "estimator = Estimator()\n",
        "sampler = Sampler()"
      ],
      "metadata": {
        "id": "NH5g9iJzEPAm"
      },
      "execution_count": 15,
      "outputs": []
    },
    {
      "cell_type": "markdown",
      "source": [
        "## Cost Function for VQE"
      ],
      "metadata": {
        "id": "5tUwV6uiVRCe"
      }
    },
    {
      "cell_type": "code",
      "source": [
        "def cost_func_vqe(params, ansatz, hamiltonian, estimator):\n",
        "    cost = estimator.run(ansatz, hamiltonian, parameter_values=params).result()\n",
        "    return cost.values[0]"
      ],
      "metadata": {
        "id": "gUgIPgDjp9Kj"
      },
      "execution_count": 16,
      "outputs": []
    },
    {
      "cell_type": "code",
      "source": [
        "def build_callback_vqe(ansatz, hamiltonian, estimator, callback_dict):\n",
        "  def callback(current_vector):\n",
        "    callback_dict_vqe[\"iters\"] += 1\n",
        "    callback_dict_vqe[\"prev_vector\"] = current_vector\n",
        "    current_cost_vqe = cost_func_vqe(current_vector, ansatz, hamiltonian, estimator)\n",
        "\n",
        "    callback_dict_vqe[\"cost_history\"].append(current_cost_vqe)\n",
        "\n",
        "    print(\n",
        "      \"Iters. done: {} [Current cost: {}]\".format(callback_dict_vqe[\"iters\"], current_cost_vqe),\n",
        "      end=\"\\r\",\n",
        "      flush=True,\n",
        "    )\n",
        "\n",
        "  return callback"
      ],
      "metadata": {
        "id": "OFgXN1F4x-yG"
      },
      "execution_count": 17,
      "outputs": []
    },
    {
      "cell_type": "markdown",
      "source": [
        "## 1st Step : Optimizing Parameters in PQC"
      ],
      "metadata": {
        "id": "lFAqiQXZ_cOm"
      }
    },
    {
      "cell_type": "code",
      "source": [
        "callback_dict_vqe = {\n",
        "    \"prev_vector\": None,\n",
        "    \"iters\": 0,\n",
        "    \"cost_history\": [],\n",
        "}\n",
        "\n",
        "options = dict()\n",
        "options[\"maxiter\"] = 50000\n",
        "options[\"disp\"] = True\n",
        "\n",
        "np.random.seed(4)\n",
        "x0 = 2 * np.pi * np.random.random(9)\n",
        "\n",
        "x0"
      ],
      "metadata": {
        "id": "fbtJseldyr3r",
        "colab": {
          "base_uri": "https://localhost:8080/"
        },
        "outputId": "b913214e-bd0f-4ffb-e7d3-4bb55ca6b33c"
      },
      "execution_count": 18,
      "outputs": [
        {
          "output_type": "execute_result",
          "data": {
            "text/plain": [
              "array([6.07602768, 3.43836163, 6.11155608, 4.49132135, 4.3839595 ,\n",
              "       1.35773034, 6.13411331, 0.03914585, 1.58953506])"
            ]
          },
          "metadata": {},
          "execution_count": 18
        }
      ]
    },
    {
      "cell_type": "code",
      "source": [
        "callback_vqe = build_callback_vqe(ansatz, hamiltonian, estimator, callback_dict_vqe)\n",
        "res = minimize(\n",
        "  cost_func_vqe,\n",
        "  x0,\n",
        "  args=(ansatz, hamiltonian, estimator),\n",
        "  method=\"cobyla\",\n",
        "  callback=callback_vqe,\n",
        "  options=options\n",
        ")"
      ],
      "metadata": {
        "id": "eBHr-RDPytHr",
        "outputId": "d2aaf6b3-15be-4b3a-a18f-6ea51cc39f11",
        "colab": {
          "base_uri": "https://localhost:8080/"
        }
      },
      "execution_count": 19,
      "outputs": [
        {
          "output_type": "stream",
          "name": "stdout",
          "text": []
        }
      ]
    },
    {
      "cell_type": "code",
      "source": [
        "res"
      ],
      "metadata": {
        "id": "R97EUoPb1LTW",
        "colab": {
          "base_uri": "https://localhost:8080/"
        },
        "outputId": "9d0ef99e-6c80-4599-aa5c-567d15fb2d93"
      },
      "execution_count": 20,
      "outputs": [
        {
          "output_type": "execute_result",
          "data": {
            "text/plain": [
              " message: Optimization terminated successfully.\n",
              " success: True\n",
              "  status: 1\n",
              "     fun: -5.897228656689823\n",
              "       x: [ 5.803e+00  5.886e+00  6.681e+00  5.803e+00  4.715e+00\n",
              "            3.139e+00  7.856e+00 -2.121e-03  1.573e+00]\n",
              "    nfev: 1201\n",
              "   maxcv: 0.0"
            ]
          },
          "metadata": {},
          "execution_count": 20
        }
      ]
    },
    {
      "cell_type": "code",
      "source": [
        "fig, ax = plt.subplots()\n",
        "ax.plot(range(callback_dict_vqe[\"iters\"]), callback_dict_vqe[\"cost_history\"])\n",
        "ax.set_xlabel(\"Iterations\")\n",
        "ax.set_ylabel(\"Cost\")\n",
        "plt.draw()"
      ],
      "metadata": {
        "id": "82bVxHG4ytC6",
        "colab": {
          "base_uri": "https://localhost:8080/",
          "height": 0
        },
        "outputId": "d9db7aa1-d9ee-4f4f-9d1d-2fdb73591e80"
      },
      "execution_count": 21,
      "outputs": [
        {
          "output_type": "display_data",
          "data": {
            "text/plain": [
              "<Figure size 640x480 with 1 Axes>"
            ],
            "image/png": "[encoded data removed]"
          },
          "metadata": {}
        }
      ]
    },
    {
      "cell_type": "code",
      "source": [
        "params_pqc = res.x\n",
        "params_pqc"
      ],
      "metadata": {
        "colab": {
          "base_uri": "https://localhost:8080/"
        },
        "id": "CoPrfpv9tyO0",
        "outputId": "ff16bba0-d45b-44c4-eecc-3232f07b9440"
      },
      "execution_count": 22,
      "outputs": [
        {
          "output_type": "execute_result",
          "data": {
            "text/plain": [
              "array([ 5.80341424e+00,  5.88567382e+00,  6.68073582e+00,  5.80344341e+00,\n",
              "        4.71452869e+00,  3.13939431e+00,  7.85619779e+00, -2.12129562e-03,\n",
              "        1.57296580e+00])"
            ]
          },
          "metadata": {},
          "execution_count": 22
        }
      ]
    },
    {
      "cell_type": "markdown",
      "source": [
        "## Cost Function for VQNHE"
      ],
      "metadata": {
        "id": "6X_g_YlLVXaj"
      }
    },
    {
      "cell_type": "code",
      "source": [
        "# Activation Function for Neural Network\n",
        "\n",
        "def relu(x):\n",
        "  return np.maximum(0, x)\n",
        "\n",
        "\n",
        "def output_activate(c, x):\n",
        "  return np.exp(c*np.tanh(x))"
      ],
      "metadata": {
        "id": "hsYHxkOJbouM"
      },
      "execution_count": 23,
      "outputs": []
    },
    {
      "cell_type": "code",
      "source": [
        "# Neural Network\n",
        "# Output : f(s)\n",
        "\n",
        "def neural_net(parameter, x):\n",
        "\n",
        "  W1 = parameter[0:50]\n",
        "  W2 = parameter[50:250]\n",
        "  W3 = parameter[250:270]\n",
        "  c = parameter[270]\n",
        "\n",
        "  W1 = W1.reshape(10,5)\n",
        "  W2 = W2.reshape(20,10)\n",
        "  W3 = W3.reshape(1,20)\n",
        "\n",
        "  a1 = np.matmul(W1, x)\n",
        "  z1 = relu(a1)\n",
        "\n",
        "  a2 = np.matmul(W2, z1)\n",
        "  z2 = relu(a2)\n",
        "\n",
        "  a3 = np.matmul(W3, z2)\n",
        "  y = output_activate(c, a3)\n",
        "\n",
        "  return y[0]"
      ],
      "metadata": {
        "id": "XQcLNk2nEPvI"
      },
      "execution_count": 24,
      "outputs": []
    },
    {
      "cell_type": "code",
      "source": [
        "# Convert Decimal Number to Binary Number\n",
        "\n",
        "def d2b(x):\n",
        "\n",
        "  binary = []\n",
        "\n",
        "  for _ in range(5):\n",
        "    binary.append(x % 2)\n",
        "    x = x // 2\n",
        "\n",
        "  binary.reverse()\n",
        "\n",
        "  return np.array(binary)"
      ],
      "metadata": {
        "id": "7mMmUcdo1SC-"
      },
      "execution_count": 25,
      "outputs": []
    },
    {
      "cell_type": "code",
      "source": [
        "def Z0Z1(params_nn, ansatz_zz, params_pqc, sampler):\n",
        "  job = sampler.run(ansatz_zz, params_pqc).result()\n",
        "  prob_string = job.quasi_dists[0]\n",
        "\n",
        "  nnval = np.array([(neural_net(params_nn, d2b(j)))**2 for j in range(32)])\n",
        "\n",
        "  expval = 0\n",
        "\n",
        "  for k in range(32):\n",
        "    if k // 8 == 0 or k // 8 == 3:\n",
        "      expval = expval + prob_string[k]*nnval[k]\n",
        "    if k // 8 == 1 or k // 8 == 2:\n",
        "      expval = expval - prob_string[k]*nnval[k]\n",
        "\n",
        "  return expval\n",
        "\n",
        "\n",
        "def Z1Z2(params_nn, ansatz_zz, params_pqc, sampler):\n",
        "  job = sampler.run(ansatz_zz, params_pqc).result()\n",
        "  prob_string = job.quasi_dists[0]\n",
        "\n",
        "  nnval = np.array([(neural_net(params_nn, d2b(j)))**2 for j in range(32)])\n",
        "\n",
        "  expval = 0\n",
        "\n",
        "  for k in range(32):\n",
        "    if k // 4 == 0 or k // 4 == 3 or k // 4 == 4 or k // 4 == 7:\n",
        "      expval = expval + prob_string[k]*nnval[k]\n",
        "    if k // 4 == 1 or k // 4 == 2 or k // 4 == 5 or k // 4 == 6:\n",
        "      expval = expval - prob_string[k]*nnval[k]\n",
        "\n",
        "  return expval\n",
        "\n",
        "\n",
        "def Z2Z3(params_nn, ansatz_zz, params_pqc, sampler):\n",
        "  job = sampler.run(ansatz_zz, params_pqc).result()\n",
        "  prob_string = job.quasi_dists[0]\n",
        "\n",
        "  nnval = np.array([(neural_net(params_nn, d2b(j)))**2 for j in range(32)])\n",
        "\n",
        "  expval = 0\n",
        "\n",
        "  for k in range(32):\n",
        "    if k % 8 == 0 or k % 8 == 1 or k % 8 == 6 or k % 8 == 7:\n",
        "      expval = expval + prob_string[k]*nnval[k]\n",
        "    if k % 8 == 2 or k % 8 == 3 or k % 8 == 4 or k % 8 == 5:\n",
        "      expval = expval - prob_string[k]*nnval[k]\n",
        "\n",
        "  return expval\n",
        "\n",
        "\n",
        "def Z3Z4(params_nn, ansatz_zz, params_pqc, sampler):\n",
        "  job = sampler.run(ansatz_zz, params_pqc).result()\n",
        "  prob_string = job.quasi_dists[0]\n",
        "\n",
        "  nnval = np.array([(neural_net(params_nn, d2b(j)))**2 for j in range(32)])\n",
        "\n",
        "  expval = 0\n",
        "\n",
        "  for k in range(32):\n",
        "    if k % 4 == 0 or k % 4 == 3:\n",
        "      expval = expval + prob_string[k]*nnval[k]\n",
        "    else:\n",
        "      expval = expval - prob_string[k]*nnval[k]\n",
        "\n",
        "  return expval"
      ],
      "metadata": {
        "id": "ZbKgjvfz7byT"
      },
      "execution_count": 26,
      "outputs": []
    },
    {
      "cell_type": "code",
      "source": [
        "def X0(params_nn, ansatz_x0, params_pqc, sampler):\n",
        "  job = sampler.run(ansatz_x0, params_pqc).result()\n",
        "  prob_string = job.quasi_dists[0]\n",
        "\n",
        "  nnval = np.array([neural_net(params_nn, d2b(j)) for j in range(32)])\n",
        "\n",
        "  expval = 0\n",
        "\n",
        "  for k in range(16):\n",
        "    delt = prob_string[k] - prob_string[k+16]\n",
        "    expval = expval + delt*nnval[k]*nnval[k+16]\n",
        "\n",
        "  return expval\n",
        "\n",
        "\n",
        "def X1(params_nn, ansatz_x1, params_pqc, sampler):\n",
        "  job = sampler.run(ansatz_x1, params_pqc).result()\n",
        "  prob_string = job.quasi_dists[0]\n",
        "\n",
        "  nnval = np.array([neural_net(params_nn, d2b(j)) for j in range(32)])\n",
        "\n",
        "  expval = 0\n",
        "\n",
        "  for k in range(8):\n",
        "    delt = prob_string[k] - prob_string[k+8]\n",
        "    expval = expval + delt*nnval[k]*nnval[k+8]\n",
        "\n",
        "  for k in range(16,24,1):\n",
        "    delt = prob_string[k] - prob_string[k+8]\n",
        "    expval = expval + delt*nnval[k]*nnval[k+8]\n",
        "\n",
        "  return expval\n",
        "\n",
        "\n",
        "def X2(params_nn, ansatz_x2, params_pqc, sampler):\n",
        "  job = sampler.run(ansatz_x2, params_pqc).result()\n",
        "  prob_string = job.quasi_dists[0]\n",
        "\n",
        "  nnval = np.array([neural_net(params_nn, d2b(j)) for j in range(32)])\n",
        "\n",
        "  expval = 0\n",
        "\n",
        "  for k in range(4):\n",
        "    delt = prob_string[k] - prob_string[k+4]\n",
        "    expval = expval + delt*nnval[k]*nnval[k+4]\n",
        "\n",
        "  for k in range(8,12,1):\n",
        "    delt = prob_string[k] - prob_string[k+4]\n",
        "    expval = expval + delt*nnval[k]*nnval[k+4]\n",
        "\n",
        "  for k in range(16,20,1):\n",
        "    delt = prob_string[k] - prob_string[k+4]\n",
        "    expval = expval + delt*nnval[k]*nnval[k+4]\n",
        "\n",
        "  for k in range(24,28,1):\n",
        "    delt = prob_string[k] - prob_string[k+4]\n",
        "    expval = expval + delt*nnval[k]*nnval[k+4]\n",
        "\n",
        "  return expval\n",
        "\n",
        "\n",
        "def X3(params_nn, ansatz_x3, params_pqc, sampler):\n",
        "  job = sampler.run(ansatz_x3, params_pqc).result()\n",
        "  prob_string = job.quasi_dists[0]\n",
        "\n",
        "  nnval = np.array([neural_net(params_nn, d2b(j)) for j in range(32)])\n",
        "\n",
        "  expval = 0\n",
        "\n",
        "  for k in range(0,32,4):\n",
        "    expval = expval + (prob_string[k] - prob_string[k+2])*nnval[k]*nnval[k+2]\n",
        "    expval = expval + (prob_string[k+1] - prob_string[k+3])*nnval[k+1]*nnval[k+3]\n",
        "\n",
        "  return expval\n",
        "\n",
        "\n",
        "def X4(params_nn, ansatz_x4, params_pqc, sampler):\n",
        "  job = sampler.run(ansatz_x4, params_pqc).result()\n",
        "  prob_string = job.quasi_dists[0]\n",
        "\n",
        "  nnval = np.array([neural_net(params_nn, d2b(j)) for j in range(32)])\n",
        "\n",
        "  expval = 0\n",
        "\n",
        "  for k in range(0,32,2):\n",
        "    expval = expval + (prob_string[k] - prob_string[k+1])*nnval[k]*nnval[k+1]\n",
        "\n",
        "  return expval"
      ],
      "metadata": {
        "id": "AR5CuYc8FKvA"
      },
      "execution_count": 27,
      "outputs": []
    },
    {
      "cell_type": "code",
      "source": [
        "def norm(params_nn, ansatz_zz, params_pqc, sampler):\n",
        "  job = sampler.run(ansatz_zz, params_pqc).result()\n",
        "  prob_string = job.quasi_dists[0]\n",
        "\n",
        "  nnval = np.array([(neural_net(params_nn, d2b(j)))**2 for j in range(32)])\n",
        "\n",
        "  expval = 0\n",
        "\n",
        "  for k in range(32):\n",
        "    expval = expval + prob_string[k]*nnval[k]\n",
        "\n",
        "  return expval"
      ],
      "metadata": {
        "id": "munWbMTwYX7w"
      },
      "execution_count": 28,
      "outputs": []
    },
    {
      "cell_type": "code",
      "source": [
        "operator_list = [\"ZZIII\", \"IZZII\", \"IIZZI\", \"IIIZZ\", \"XIIII\", \"IXIII\", \"IIXII\", \"IIIXI\", \"IIIIX\"]\n",
        "\n",
        "\n",
        "hamiltonian_list = []\n",
        "hamiltonian_list.append((operator_list[0], 1))\n",
        "hamiltonian = SparsePauliOp.from_list(hamiltonian_list)\n",
        "\n",
        "cost = estimator.run(ansatz, hamiltonian, parameter_values=params_pqc).result()\n",
        "print(cost.values[0])\n",
        "print(Z0Z1(np.zeros(shape=271), ansatz_zz, params_pqc, sampler))\n",
        "print()\n",
        "\n",
        "\n",
        "hamiltonian_list = []\n",
        "hamiltonian_list.append((operator_list[1], 1))\n",
        "hamiltonian = SparsePauliOp.from_list(hamiltonian_list)\n",
        "\n",
        "cost = estimator.run(ansatz, hamiltonian, parameter_values=params_pqc).result()\n",
        "print(cost.values[0])\n",
        "print(Z1Z2(np.zeros(shape=271), ansatz_zz, params_pqc, sampler))\n",
        "print()\n",
        "\n",
        "\n",
        "hamiltonian_list = []\n",
        "hamiltonian_list.append((operator_list[2], 1))\n",
        "hamiltonian = SparsePauliOp.from_list(hamiltonian_list)\n",
        "\n",
        "cost = estimator.run(ansatz, hamiltonian, parameter_values=params_pqc).result()\n",
        "print(cost.values[0])\n",
        "print(Z2Z3(np.zeros(shape=271), ansatz_zz, params_pqc, sampler))\n",
        "print()\n",
        "\n",
        "\n",
        "hamiltonian_list = []\n",
        "hamiltonian_list.append((operator_list[3], 1))\n",
        "hamiltonian = SparsePauliOp.from_list(hamiltonian_list)\n",
        "\n",
        "cost = estimator.run(ansatz, hamiltonian, parameter_values=params_pqc).result()\n",
        "print(cost.values[0])\n",
        "print(Z3Z4(np.zeros(shape=271), ansatz_zz, params_pqc, sampler))\n",
        "print()\n",
        "\n",
        "\n",
        "hamiltonian_list = []\n",
        "hamiltonian_list.append((operator_list[4], 1))\n",
        "hamiltonian = SparsePauliOp.from_list(hamiltonian_list)\n",
        "\n",
        "cost = estimator.run(ansatz, hamiltonian, parameter_values=params_pqc).result()\n",
        "print(cost.values[0])\n",
        "print(X0(np.zeros(shape=271), ansatz_x0, params_pqc, sampler))\n",
        "print()\n",
        "\n",
        "\n",
        "hamiltonian_list = []\n",
        "hamiltonian_list.append((operator_list[5], 1))\n",
        "hamiltonian = SparsePauliOp.from_list(hamiltonian_list)\n",
        "\n",
        "cost = estimator.run(ansatz, hamiltonian, parameter_values=params_pqc).result()\n",
        "print(cost.values[0])\n",
        "print(X1(np.zeros(shape=271), ansatz_x1, params_pqc, sampler))\n",
        "print()\n",
        "\n",
        "\n",
        "hamiltonian_list = []\n",
        "hamiltonian_list.append((operator_list[6], 1))\n",
        "hamiltonian = SparsePauliOp.from_list(hamiltonian_list)\n",
        "\n",
        "cost = estimator.run(ansatz, hamiltonian, parameter_values=params_pqc).result()\n",
        "print(cost.values[0])\n",
        "print(X2(np.zeros(shape=271), ansatz_x2, params_pqc, sampler))\n",
        "print()\n",
        "\n",
        "\n",
        "hamiltonian_list = []\n",
        "hamiltonian_list.append((operator_list[7], 1))\n",
        "hamiltonian = SparsePauliOp.from_list(hamiltonian_list)\n",
        "\n",
        "cost = estimator.run(ansatz, hamiltonian, parameter_values=params_pqc).result()\n",
        "print(cost.values[0])\n",
        "print(X3(np.zeros(shape=271), ansatz_x3, params_pqc, sampler))\n",
        "print()\n",
        "\n",
        "\n",
        "hamiltonian_list = []\n",
        "hamiltonian_list.append((operator_list[8], 1))\n",
        "hamiltonian = SparsePauliOp.from_list(hamiltonian_list)\n",
        "\n",
        "cost = estimator.run(ansatz, hamiltonian, parameter_values=params_pqc).result()\n",
        "print(cost.values[0])\n",
        "print(X4(np.zeros(shape=271), ansatz_x4, params_pqc, sampler))\n",
        "print()\n",
        "\n",
        "\n",
        "print(norm(np.zeros(shape=271), ansatz_zz, params_pqc, sampler))"
      ],
      "metadata": {
        "colab": {
          "base_uri": "https://localhost:8080/"
        },
        "id": "yfOlwGerFB4Y",
        "outputId": "ed8d0653-9d7e-43ee-cbf9-7e87ec3a7bd9"
      },
      "execution_count": 29,
      "outputs": [
        {
          "output_type": "stream",
          "name": "stdout",
          "text": [
            "-0.4615500556110594\n",
            "-0.4615500556110591\n",
            "\n",
            "-0.35693392996289514\n",
            "-0.35693392996289475\n",
            "\n",
            "-0.3569729559738085\n",
            "-0.3569729559738085\n",
            "\n",
            "-0.46157593544378395\n",
            "-0.4615759354437836\n",
            "\n",
            "0.8871140810437128\n",
            "0.8871006136702693\n",
            "\n",
            "0.8179433255454017\n",
            "0.8179175050879036\n",
            "\n",
            "0.8501202543509881\n",
            "0.8501202543509878\n",
            "\n",
            "0.8179175050879038\n",
            "0.8179433255454015\n",
            "\n",
            "0.8871006136702693\n",
            "0.8871140810437126\n",
            "\n",
            "0.9999999999999996\n"
          ]
        }
      ]
    },
    {
      "cell_type": "code",
      "source": [
        "def cost_func_vqnhe(params_nn, params_pqc, ansatz_zz, ansatz_x0, ansatz_x1, ansatz_x2, ansatz_x3, ansatz_x4, sampler):\n",
        "  expval = 0\n",
        "  expval = expval + Z0Z1(params_nn, ansatz_zz, params_pqc, sampler)\n",
        "  expval = expval + Z1Z2(params_nn, ansatz_zz, params_pqc, sampler)\n",
        "  expval = expval + Z2Z3(params_nn, ansatz_zz, params_pqc, sampler)\n",
        "  expval = expval + Z3Z4(params_nn, ansatz_zz, params_pqc, sampler)\n",
        "\n",
        "  expval = expval - X0(params_nn, ansatz_x0, params_pqc, sampler)\n",
        "  expval = expval - X1(params_nn, ansatz_x1, params_pqc, sampler)\n",
        "  expval = expval - X2(params_nn, ansatz_x2, params_pqc, sampler)\n",
        "  expval = expval - X3(params_nn, ansatz_x3, params_pqc, sampler)\n",
        "  expval = expval - X4(params_nn, ansatz_x4, params_pqc, sampler)\n",
        "\n",
        "  expval = expval / norm(params_nn, ansatz_zz, params_pqc, sampler)\n",
        "\n",
        "  return expval"
      ],
      "metadata": {
        "id": "PMVV9En1uoJ7"
      },
      "execution_count": 30,
      "outputs": []
    },
    {
      "cell_type": "code",
      "source": [
        "cost_func_vqnhe(np.zeros(shape=271), params_pqc, ansatz_zz, ansatz_x0, ansatz_x1, ansatz_x2, ansatz_x3, ansatz_x4, sampler)"
      ],
      "metadata": {
        "colab": {
          "base_uri": "https://localhost:8080/"
        },
        "id": "ofYVLhvd5EpE",
        "outputId": "7864c72e-e8ce-466e-b40e-3459b59e437a"
      },
      "execution_count": 31,
      "outputs": [
        {
          "output_type": "execute_result",
          "data": {
            "text/plain": [
              "-5.8972286566898235"
            ]
          },
          "metadata": {},
          "execution_count": 31
        }
      ]
    },
    {
      "cell_type": "code",
      "source": [
        "def build_callback_vqnhe(params_pqc, ansatz_zz, ansatz_x0, ansatz_x1, ansatz_x2, ansatz_x3, ansatz_x4, sampler, callback_dict):\n",
        "  def callback(current_vector):\n",
        "    callback_dict[\"iters\"] += 1\n",
        "    callback_dict[\"prev_vector\"] = current_vector\n",
        "    current_cost = cost_func_vqnhe(current_vector, params_pqc, ansatz_zz, ansatz_x0, ansatz_x1, ansatz_x2, ansatz_x3, ansatz_x4, sampler)\n",
        "\n",
        "    callback_dict[\"cost_history\"].append(current_cost)\n",
        "\n",
        "    print(\n",
        "      \"Iters. done: {} [Current cost: {}]\".format(callback_dict[\"iters\"], current_cost),\n",
        "      end=\"\\r\",\n",
        "      flush=True,\n",
        "    )\n",
        "\n",
        "  return callback"
      ],
      "metadata": {
        "id": "iRTp_NLkuoHb"
      },
      "execution_count": 32,
      "outputs": []
    },
    {
      "cell_type": "markdown",
      "source": [
        "## 2nd Step : Opmitizing Parameters in NN"
      ],
      "metadata": {
        "id": "mIMIoweGuD3Y"
      }
    },
    {
      "cell_type": "code",
      "source": [
        "callback_dict_vqnhe = {\n",
        "    \"prev_vector\": None,\n",
        "    \"iters\": 0,\n",
        "    \"cost_history\": [],\n",
        "}\n",
        "\n",
        "options = dict()\n",
        "options[\"maxiter\"] = 50000\n",
        "options[\"disp\"] = True\n",
        "\n",
        "x0 = np.zeros(shape=271)"
      ],
      "metadata": {
        "id": "SWamY3N4uVhq"
      },
      "execution_count": 33,
      "outputs": []
    },
    {
      "cell_type": "code",
      "source": [
        "callback_vqnhe = build_callback_vqnhe(params_pqc, ansatz_zz, ansatz_x0, ansatz_x1, ansatz_x2, ansatz_x3, ansatz_x4, sampler, callback_dict_vqnhe)\n",
        "res = minimize(\n",
        "  cost_func_vqnhe,\n",
        "  x0,\n",
        "  args=(params_pqc, ansatz_zz, ansatz_x0, ansatz_x1, ansatz_x2, ansatz_x3, ansatz_x4, sampler),\n",
        "  method=\"bfgs\",\n",
        "  callback=callback_vqnhe,\n",
        "  options=options\n",
        ")"
      ],
      "metadata": {
        "colab": {
          "base_uri": "https://localhost:8080/"
        },
        "id": "hXsZ4r1duVej",
        "outputId": "15ee764d-4631-48d4-b2f3-6bfe3182daf6"
      },
      "execution_count": 34,
      "outputs": [
        {
          "output_type": "stream",
          "name": "stdout",
          "text": [
            "Optimization terminated successfully.\n",
            "         Current function value: -5.897229\n",
            "         Iterations: 0\n",
            "         Function evaluations: 272\n",
            "         Gradient evaluations: 1\n"
          ]
        }
      ]
    },
    {
      "cell_type": "code",
      "source": [
        "res"
      ],
      "metadata": {
        "colab": {
          "base_uri": "https://localhost:8080/"
        },
        "id": "AupxTOR9aG_j",
        "outputId": "27519372-774f-4c32-97bb-1383d398a3e4"
      },
      "execution_count": 35,
      "outputs": [
        {
          "output_type": "execute_result",
          "data": {
            "text/plain": [
              "  message: Optimization terminated successfully.\n",
              "  success: True\n",
              "   status: 0\n",
              "      fun: -5.8972286566898235\n",
              "        x: [ 0.000e+00  0.000e+00 ...  0.000e+00  0.000e+00]\n",
              "      nit: 0\n",
              "      jac: [ 0.000e+00  0.000e+00 ...  0.000e+00  0.000e+00]\n",
              " hess_inv: [[1 0 ... 0 0]\n",
              "            [0 1 ... 0 0]\n",
              "            ...\n",
              "            [0 0 ... 1 0]\n",
              "            [0 0 ... 0 1]]\n",
              "     nfev: 272\n",
              "     njev: 1"
            ]
          },
          "metadata": {},
          "execution_count": 35
        }
      ]
    },
    {
      "cell_type": "markdown",
      "source": [
        "## Repeat Optimizing Parameters in NN for 100 times\n",
        "\n",
        "np.random.seed(k)\n",
        "\n",
        "k 0~100"
      ],
      "metadata": {
        "id": "XrVLMgk0igqj"
      }
    },
    {
      "cell_type": "code",
      "source": [
        "local_minimum_list = []\n",
        "\n",
        "for k in range(10):\n",
        "\n",
        "  callback_dict = {\n",
        "    \"prev_vector\": None,\n",
        "    \"iters\": 0,\n",
        "    \"cost_history\": [],\n",
        "  }\n",
        "\n",
        "  np.random.seed(k)\n",
        "  x0 = 2 * np.random.random(271) - 1\n",
        "\n",
        "  callback = build_callback_vqnhe(params_pqc, ansatz_zz, ansatz_x0, ansatz_x1, ansatz_x2, ansatz_x3, ansatz_x4, sampler, callback_dict)\n",
        "\n",
        "  options = dict()\n",
        "  options[\"maxiter\"] = 50000\n",
        "  options[\"disp\"] = True\n",
        "\n",
        "  res = minimize(\n",
        "    cost_func_vqnhe,\n",
        "    x0,\n",
        "    args=(params_pqc, ansatz_zz, ansatz_x0, ansatz_x1, ansatz_x2, ansatz_x3, ansatz_x4, sampler),\n",
        "    method=\"bfgs\",\n",
        "    callback=callback,\n",
        "    options=options\n",
        "  )\n",
        "\n",
        "  local_minimum_dict = callback_dict[\"cost_history\"]\n",
        "  local_minimum_list.append(local_minimum_dict[-1])\n",
        "\n",
        "\n",
        "local_minimum_list = np.array(local_minimum_list)"
      ],
      "metadata": {
        "id": "uaq9Otlz7VO8"
      },
      "execution_count": null,
      "outputs": []
    },
    {
      "cell_type": "code",
      "source": [
        "local_minimum_list"
      ],
      "metadata": {
        "id": "fwluVQ5G8J79"
      },
      "execution_count": null,
      "outputs": []
    },
    {
      "cell_type": "markdown",
      "source": [
        "Optimization terminated successfully.\n",
        "         Current function value: -6.026674\n",
        "         Iterations: 144\n",
        "         Function evaluations: 41344\n",
        "         Gradient evaluations: 152\n",
        "\n",
        "Optimization terminated successfully.\n",
        "         Current function value: -6.026674\n",
        "         Iterations: 117\n",
        "         Function evaluations: 34816\n",
        "         Gradient evaluations: 128\n",
        "\n",
        "Optimization terminated successfully.\n",
        "         Current function value: -6.026674\n",
        "         Iterations: 213\n",
        "         Function evaluations: 63376\n",
        "         Gradient evaluations: 233\n",
        "\n",
        "Optimization terminated successfully.\n",
        "         Current function value: -6.026674\n",
        "         Iterations: 220\n",
        "         Function evaluations: 63104\n",
        "         Gradient evaluations: 232\n",
        "\n",
        "/usr/local/lib/python3.10/dist-packages/scipy/optimize/_minimize.py:705: OptimizeWarning: Desired error not necessarily achieved due to precision loss.\n",
        "  res = _minimize_bfgs(fun, x0, args, jac, callback, **options)\n",
        "         Current function value: -5.898722\n",
        "         Iterations: 33\n",
        "         Function evaluations: 26661\n",
        "         Gradient evaluations: 98\n",
        "\n",
        "Optimization terminated successfully.\n",
        "         Current function value: -5.977009\n",
        "         Iterations: 185\n",
        "         Function evaluations: 63920\n",
        "         Gradient evaluations: 235\n",
        "\n",
        "Optimization terminated successfully.\n",
        "         Current function value: -5.965363\n",
        "         Iterations: 92\n",
        "         Function evaluations: 28832\n",
        "         Gradient evaluations: 106\n",
        "\n",
        "Optimization terminated successfully.\n",
        "         Current function value: -6.026674\n",
        "         Iterations: 174\n",
        "         Function evaluations: 49504\n",
        "         Gradient evaluations: 182\n",
        "\n",
        "Optimization terminated successfully.\n",
        "         Current function value: -6.026674\n",
        "         Iterations: 118\n",
        "         Function evaluations: 34272\n",
        "         Gradient evaluations: 126\n",
        "         \n",
        "Optimization terminated successfully.\n",
        "         Current function value: -5.940097\n",
        "         Iterations: 98\n",
        "         Function evaluations: 35632\n",
        "         Gradient evaluations: 131"
      ],
      "metadata": {
        "id": "ZaHLu6o8gl1b"
      }
    },
    {
      "cell_type": "markdown",
      "source": [
        "Optimization terminated successfully.\n",
        "         Current function value: -6.026674\n",
        "         Iterations: 119\n",
        "         Function evaluations: 33184\n",
        "         Gradient evaluations: 122\n",
        "\n",
        "Optimization terminated successfully.\n",
        "         Current function value: -6.026281\n",
        "         Iterations: 102\n",
        "         Function evaluations: 30192\n",
        "         Gradient evaluations: 111\n",
        "\n",
        "Optimization terminated successfully.\n",
        "         Current function value: -6.026674\n",
        "         Iterations: 165\n",
        "         Function evaluations: 48688\n",
        "         Gradient evaluations: 179\n",
        "\n",
        "Optimization terminated successfully.\n",
        "         Current function value: -5.899454\n",
        "         Iterations: 37\n",
        "         Function evaluations: 11968\n",
        "         Gradient evaluations: 44\n",
        "\n",
        "Optimization terminated successfully.\n",
        "         Current function value: -6.026674\n",
        "         Iterations: 153\n",
        "         Function evaluations: 42432\n",
        "         Gradient evaluations: 156\n",
        "\n",
        "Optimization terminated successfully.\n",
        "         Current function value: -5.958336\n",
        "         Iterations: 91\n",
        "         Function evaluations: 30464\n",
        "         Gradient evaluations: 112\n",
        "\n",
        "Optimization terminated successfully.\n",
        "         Current function value: -6.026674\n",
        "         Iterations: 220\n",
        "         Function evaluations: 63104\n",
        "         Gradient evaluations: 232\n",
        "\n",
        "Optimization terminated successfully.\n",
        "         Current function value: -6.026674\n",
        "         Iterations: 118\n",
        "         Function evaluations: 33184\n",
        "         Gradient evaluations: 122\n",
        "\n",
        "Optimization terminated successfully.\n",
        "         Current function value: -6.026674\n",
        "         Iterations: 200\n",
        "         Function evaluations: 56848\n",
        "         Gradient evaluations: 209\n",
        "         \n",
        "Optimization terminated successfully.\n",
        "         Current function value: -5.929434\n",
        "         Iterations: 157\n",
        "         Function evaluations: 57120\n",
        "         Gradient evaluations: 210"
      ],
      "metadata": {
        "id": "ELjkN3T1g3yV"
      }
    },
    {
      "cell_type": "markdown",
      "source": [
        "Optimization terminated successfully.0169418840425]\n",
        "         Current function value: -5.940169\n",
        "         Iterations: 112\n",
        "         Function evaluations: 38352\n",
        "         Gradient evaluations: 141\n",
        "\n",
        "Optimization terminated successfully.6673701443493]]\n",
        "         Current function value: -6.026674\n",
        "         Iterations: 111\n",
        "         Function evaluations: 34000\n",
        "         Gradient evaluations: 125\n",
        "\n",
        "Optimization terminated successfully.6673582796766]]\n",
        "         Current function value: -6.026674\n",
        "         Iterations: 459\n",
        "         Function evaluations: 148240\n",
        "         Gradient evaluations: 545\n",
        "\n",
        "Optimization terminated successfully.67369413807]]]\n",
        "         Current function value: -6.026674\n",
        "         Iterations: 75\n",
        "         Function evaluations: 21488\n",
        "         Gradient evaluations: 79\n",
        "\n",
        "Optimization terminated successfully.7828609496201]]\n",
        "         Current function value: -5.977829\n",
        "         Iterations: 196\n",
        "         Function evaluations: 64464\n",
        "         Gradient evaluations: 237\n",
        "\n",
        "Optimization terminated successfully.67369819518]]]\n",
        "         Current function value: -6.026674\n",
        "         Iterations: 85\n",
        "         Function evaluations: 23936\n",
        "         Gradient evaluations: 88\n",
        "\n",
        "Optimization terminated successfully.667318776438]]]\n",
        "         Current function value: -6.026673\n",
        "         Iterations: 350\n",
        "         Function evaluations: 107984\n",
        "         Gradient evaluations: 397\n",
        "\n",
        "Optimization terminated successfully.7828692490947]]\n",
        "         Current function value: -5.977829\n",
        "         Iterations: 213\n",
        "         Function evaluations: 75344\n",
        "         Gradient evaluations: 277\n",
        "\n",
        "Optimization terminated successfully.7828613934318]]\n",
        "         Current function value: -5.977829\n",
        "         Iterations: 222\n",
        "         Function evaluations: 100912\n",
        "         Gradient evaluations: 371\n",
        "         \n",
        "Optimization terminated successfully.7828571561312]]\n",
        "         Current function value: -5.977829\n",
        "         Iterations: 132\n",
        "         Function evaluations: 44880\n",
        "         Gradient evaluations: 165"
      ],
      "metadata": {
        "id": "UvV-ekmSg4hu"
      }
    },
    {
      "cell_type": "markdown",
      "source": [
        "Optimization terminated successfully.6673633815062]]\n",
        "         Current function value: -6.026674\n",
        "         Iterations: 178\n",
        "         Function evaluations: 49232\n",
        "         Gradient evaluations: 181\n",
        "\n",
        "Optimization terminated successfully.6673670145258]]\n",
        "         Current function value: -6.026674\n",
        "         Iterations: 264\n",
        "         Function evaluations: 76160\n",
        "         Gradient evaluations: 280\n",
        "\n",
        "Optimization terminated successfully.8015326969511]]\n",
        "         Current function value: -5.948015\n",
        "         Iterations: 207\n",
        "         Function evaluations: 73712\n",
        "         Gradient evaluations: 271\n",
        "\n",
        "Optimization terminated successfully.5004408309889]]\n",
        "         Current function value: -5.975004\n",
        "         Iterations: 201\n",
        "         Function evaluations: 79152\n",
        "         Gradient evaluations: 291\n",
        "\n",
        "Optimization terminated successfully.6673654124873]]\n",
        "         Current function value: -6.026674\n",
        "         Iterations: 206\n",
        "         Function evaluations: 60384\n",
        "         Gradient evaluations: 222\n",
        "\n",
        "Optimization terminated successfully.667369234805]]]\n",
        "         Current function value: -6.026674\n",
        "         Iterations: 118\n",
        "         Function evaluations: 35088\n",
        "         Gradient evaluations: 129\n",
        "\n",
        "Optimization terminated successfully.659476816102]]]\n",
        "         Current function value: -6.026595\n",
        "         Iterations: 374\n",
        "         Function evaluations: 122944\n",
        "         Gradient evaluations: 452\n",
        "\n",
        "Optimization terminated successfully.3710307133231]]\n",
        "         Current function value: -6.013710\n",
        "         Iterations: 339\n",
        "         Function evaluations: 109888\n",
        "         Gradient evaluations: 404\n",
        "\n",
        "Optimization terminated successfully.7010721486589]]\n",
        "         Current function value: -5.977011\n",
        "         Iterations: 220\n",
        "         Function evaluations: 98192\n",
        "         Gradient evaluations: 361\n",
        "         \n",
        "Optimization terminated successfully.280846668522]\n",
        "         Current function value: -5.898281\n",
        "         Iterations: 23\n",
        "         Function evaluations: 7344\n",
        "         Gradient evaluations: 27"
      ],
      "metadata": {
        "id": "IOnC2Z9Dg5Yl"
      }
    },
    {
      "cell_type": "markdown",
      "source": [
        "Optimization terminated successfully.0631784881954]]\n",
        "         Current function value: -5.940632\n",
        "         Iterations: 182\n",
        "         Function evaluations: 61744\n",
        "         Gradient evaluations: 227\n",
        "\n",
        "Optimization terminated successfully.171444263098]]\n",
        "         Current function value: -5.940171\n",
        "         Iterations: 98\n",
        "         Function evaluations: 30192\n",
        "         Gradient evaluations: 111\n",
        "\n",
        "Optimization terminated successfully.6673700778077]]\n",
        "         Current function value: -6.026674\n",
        "         Iterations: 133\n",
        "         Function evaluations: 38080\n",
        "         Gradient evaluations: 140\n",
        "\n",
        "Optimization terminated successfully.5361977184389]]\n",
        "         Current function value: -5.965362\n",
        "         Iterations: 157\n",
        "         Function evaluations: 64736\n",
        "         Gradient evaluations: 238\n",
        "\n",
        "Optimization terminated successfully.6673688345573]]\n",
        "         Current function value: -6.026674\n",
        "         Iterations: 114\n",
        "         Function evaluations: 32640\n",
        "         Gradient evaluations: 120\n",
        "\n",
        "Optimization terminated successfully.6420659234846]]\n",
        "         Current function value: -6.026421\n",
        "         Iterations: 262\n",
        "         Function evaluations: 77792\n",
        "         Gradient evaluations: 286\n",
        "\n",
        "Optimization terminated successfully.2625038055839]]\n",
        "         Current function value: -6.022625\n",
        "         Iterations: 124\n",
        "         Function evaluations: 38624\n",
        "         Gradient evaluations: 142\n",
        "\n",
        "Optimization terminated successfully.1408686659276]]\n",
        "         Current function value: -5.981409\n",
        "         Iterations: 218\n",
        "         Function evaluations: 70176\n",
        "         Gradient evaluations: 258\n",
        "\n",
        "Optimization terminated successfully.609303288329]]]\n",
        "         Current function value: -6.026093\n",
        "         Iterations: 312\n",
        "         Function evaluations: 110160\n",
        "         Gradient evaluations: 405\n",
        "         \n",
        "Optimization terminated successfully.667364347909]]]\n",
        "         Current function value: -6.026674\n",
        "         Iterations: 422\n",
        "         Function evaluations: 148240\n",
        "         Gradient evaluations: 545"
      ],
      "metadata": {
        "id": "cjdEwx83g6Fa"
      }
    },
    {
      "cell_type": "markdown",
      "source": [
        "Optimization terminated successfully.7205229375136]\n",
        "         Current function value: -5.947205\n",
        "         Iterations: 133\n",
        "         Function evaluations: 48688\n",
        "         Gradient evaluations: 179\n",
        "\n",
        "Optimization terminated successfully.830881022398]]\n",
        "         Current function value: -6.022831\n",
        "         Iterations: 96\n",
        "         Function evaluations: 27744\n",
        "         Gradient evaluations: 102\n",
        "\n",
        "Optimization terminated successfully.6673537800682]]\n",
        "         Current function value: -6.026674\n",
        "         Iterations: 133\n",
        "         Function evaluations: 38080\n",
        "         Gradient evaluations: 140\n",
        "\n",
        "Optimization terminated successfully.6101349989538]]\n",
        "         Current function value: -6.026101\n",
        "         Iterations: 319\n",
        "         Function evaluations: 119952\n",
        "         Gradient evaluations: 441\n",
        "\n",
        "Optimization terminated successfully.9769716861192]]\n",
        "         Current function value: -5.969770\n",
        "         Iterations: 149\n",
        "         Function evaluations: 55488\n",
        "         Gradient evaluations: 204\n",
        "\n",
        "C:\\Users\\yestt\\anaconda3\\Lib\\site-packages\\scipy\\optimize\\_minimize.py:705: OptimizeWarning: Desired error not necessarily achieved due to precision loss.\n",
        "  res = _minimize_bfgs(fun, x0, args, jac, callback, **options)\n",
        "         Current function value: -6.025860\n",
        "         Iterations: 285\n",
        "         Function evaluations: 107996\n",
        "         Gradient evaluations: 397\n",
        "\n",
        "Optimization terminated successfully.6673672592478]]\n",
        "         Current function value: -6.026674\n",
        "         Iterations: 121\n",
        "         Function evaluations: 34816\n",
        "         Gradient evaluations: 128\n",
        "\n",
        "Optimization terminated successfully.1137633481252]]\n",
        "         Current function value: -6.021138\n",
        "         Iterations: 487\n",
        "         Function evaluations: 198560\n",
        "         Gradient evaluations: 730\n",
        "\n",
        "Optimization terminated successfully.6673700030088]]\n",
        "         Current function value: -6.026674\n",
        "         Iterations: 103\n",
        "         Function evaluations: 29920\n",
        "         Gradient evaluations: 110\n",
        "         \n",
        "Optimization terminated successfully.66737022177255]\n",
        "         Current function value: -6.026674\n",
        "         Iterations: 108\n",
        "         Function evaluations: 31280\n",
        "         Gradient evaluations: 115"
      ],
      "metadata": {
        "id": "13jKQACUg7Kr"
      }
    },
    {
      "cell_type": "markdown",
      "source": [
        "Optimization terminated successfully.\n",
        "         Current function value: -6.026674\n",
        "         Iterations: 283\n",
        "         Function evaluations: 84864\n",
        "         Gradient evaluations: 312\n",
        "\n",
        "Optimization terminated successfully.\n",
        "         Current function value: -6.026674\n",
        "         Iterations: 404\n",
        "         Function evaluations: 132464\n",
        "         Gradient evaluations: 487\n",
        "\n",
        "/usr/local/lib/python3.10/dist-packages/scipy/optimize/_minimize.py:705: OptimizeWarning: Desired error not necessarily achieved due to precision loss.\n",
        "  res = _minimize_bfgs(fun, x0, args, jac, callback, **options)\n",
        "         Current function value: -5.979768\n",
        "         Iterations: 182\n",
        "         Function evaluations: 74262\n",
        "         Gradient evaluations: 273\n",
        "\n",
        "Optimization terminated successfully.\n",
        "         Current function value: -5.898281\n",
        "         Iterations: 20\n",
        "         Function evaluations: 6256\n",
        "         Gradient evaluations: 23\n",
        "\n",
        "/usr/local/lib/python3.10/dist-packages/scipy/optimize/_minimize.py:705: OptimizeWarning: Desired error not necessarily achieved due to precision loss.\n",
        "  res = _minimize_bfgs(fun, x0, args, jac, callback, **options)\n",
        "         Current function value: -6.021588\n",
        "         Iterations: 264\n",
        "         Function evaluations: 104723\n",
        "         Gradient evaluations: 385\n",
        "         \n",
        "Optimization terminated successfully.\n",
        "         Current function value: -6.026674\n",
        "         Iterations: 110\n",
        "         Function evaluations: 30736\n",
        "         Gradient evaluations: 113\n",
        "\n",
        "/usr/local/lib/python3.10/dist-packages/scipy/optimize/_minimize.py:705: OptimizeWarning: Desired error not necessarily achieved due to precision loss.\n",
        "  res = _minimize_bfgs(fun, x0, args, jac, callback, **options)\n",
        "         Current function value: -6.020348\n",
        "         Iterations: 140\n",
        "         Function evaluations: 74264\n",
        "         Gradient evaluations: 273\n",
        "\n",
        "Optimization terminated successfully.\n",
        "         Current function value: -6.022884\n",
        "         Iterations: 99\n",
        "         Function evaluations: 29920\n",
        "         Gradient evaluations: 110\n",
        "\n",
        "Optimization terminated successfully.\n",
        "         Current function value: -6.021523\n",
        "         Iterations: 267\n",
        "         Function evaluations: 87312\n",
        "         Gradient evaluations: 321\n",
        "         \n",
        "Optimization terminated successfully.\n",
        "         Current function value: -6.026674\n",
        "         Iterations: 224\n",
        "         Function evaluations: 64464\n",
        "         Gradient evaluations: 237"
      ],
      "metadata": {
        "id": "eTdTcybJg73e"
      }
    },
    {
      "cell_type": "markdown",
      "source": [
        "Optimization terminated successfully.2591142031565]]\n",
        "         Current function value: -5.982591\n",
        "         Iterations: 299\n",
        "         Function evaluations: 100368\n",
        "         Gradient evaluations: 369\n",
        "\n",
        "Optimization terminated successfully.6673548359186]]\n",
        "         Current function value: -6.026674\n",
        "         Iterations: 150\n",
        "         Function evaluations: 42976\n",
        "         Gradient evaluations: 158\n",
        "\n",
        "Optimization terminated successfully.66736598910455]\n",
        "         Current function value: -6.026674\n",
        "         Iterations: 121\n",
        "         Function evaluations: 34272\n",
        "         Gradient evaluations: 126\n",
        "\n",
        "Optimization terminated successfully.6278950610303]]\n",
        "         Current function value: -6.026279\n",
        "         Iterations: 249\n",
        "         Function evaluations: 80240\n",
        "         Gradient evaluations: 295\n",
        "\n",
        "Optimization terminated successfully.6278504971956]]\n",
        "         Current function value: -6.026279\n",
        "         Iterations: 210\n",
        "         Function evaluations: 60928\n",
        "         Gradient evaluations: 224\n",
        "\n",
        "Optimization terminated successfully.0662235079614]]\n",
        "         Current function value: -5.940662\n",
        "         Iterations: 155\n",
        "         Function evaluations: 51408\n",
        "         Gradient evaluations: 189\n",
        "\n",
        "Optimization terminated successfully.2656329519843]]\n",
        "         Current function value: -5.982656\n",
        "         Iterations: 405\n",
        "         Function evaluations: 149056\n",
        "         Gradient evaluations: 548\n",
        "\n",
        "Optimization terminated successfully.5113938461575]]\n",
        "         Current function value: -6.025114\n",
        "         Iterations: 144\n",
        "         Function evaluations: 42976\n",
        "         Gradient evaluations: 158\n",
        "\n",
        "Optimization terminated successfully.667370172979]]]\n",
        "         Current function value: -6.026674\n",
        "         Iterations: 229\n",
        "         Function evaluations: 66912\n",
        "         Gradient evaluations: 246\n",
        "         \n",
        "Optimization terminated successfully.07539232477345]\n",
        "         Current function value: -5.970754\n",
        "         Iterations: 149\n",
        "         Function evaluations: 54672\n",
        "         Gradient evaluations: 201"
      ],
      "metadata": {
        "id": "R_Fom_5tg83R"
      }
    },
    {
      "cell_type": "markdown",
      "source": [
        "/usr/local/lib/python3.10/dist-packages/scipy/optimize/_minimize.py:705: OptimizeWarning: Desired error not necessarily achieved due to precision loss.\n",
        "  res = _minimize_bfgs(fun, x0, args, jac, callback, **options)\n",
        "         Current function value: -5.911971\n",
        "         Iterations: 22\n",
        "         Function evaluations: 35916\n",
        "         Gradient evaluations: 132\n",
        "\n",
        "Optimization terminated successfully.\n",
        "         Current function value: -5.940142\n",
        "         Iterations: 99\n",
        "         Function evaluations: 34272\n",
        "         Gradient evaluations: 126\n",
        "\n",
        "/usr/local/lib/python3.10/dist-packages/scipy/optimize/_minimize.py:705: OptimizeWarning: Desired error not necessarily achieved due to precision loss.\n",
        "  res = _minimize_bfgs(fun, x0, args, jac, callback, **options)\n",
        "         Current function value: -5.969494\n",
        "         Iterations: 211\n",
        "         Function evaluations: 105816\n",
        "         Gradient evaluations: 389\n",
        "\n",
        "Optimization terminated successfully.\n",
        "         Current function value: -6.026674\n",
        "         Iterations: 115\n",
        "         Function evaluations: 32912\n",
        "         Gradient evaluations: 121\n",
        "\n",
        "Optimization terminated successfully.\n",
        "         Current function value: -6.026281\n",
        "         Iterations: 158\n",
        "         Function evaluations: 46240\n",
        "         Gradient evaluations: 170\n",
        "\n",
        "Optimization terminated successfully.\n",
        "         Current function value: -6.026281\n",
        "         Iterations: 77\n",
        "         Function evaluations: 22576\n",
        "         Gradient evaluations: 83\n",
        "\n",
        "Optimization terminated successfully.\n",
        "         Current function value: -5.937762\n",
        "         Iterations: 35\n",
        "         Function evaluations: 11424\n",
        "         Gradient evaluations: 42\n",
        "         \n",
        "Optimization terminated successfully.\n",
        "         Current function value: -5.940668\n",
        "         Iterations: 159\n",
        "         Function evaluations: 67728\n",
        "         Gradient evaluations: 249\n",
        "\n",
        "Optimization terminated successfully.0636895977432]]\n",
        "         Current function value: -5.940637\n",
        "         Iterations: 191\n",
        "         Function evaluations: 66912\n",
        "         Gradient evaluations: 246\n",
        "\n",
        "Optimization terminated successfully.45133327242]]]\n",
        "         Current function value: -6.022451\n",
        "         Iterations: 95\n",
        "         Function evaluations: 27472\n",
        "         Gradient evaluations: 101"
      ],
      "metadata": {
        "id": "nSXa3-_ig9nd"
      }
    },
    {
      "cell_type": "markdown",
      "source": [
        "Optimization terminated successfully.\n",
        "         Current function value: -6.026674\n",
        "         Iterations: 200\n",
        "         Function evaluations: 56032\n",
        "         Gradient evaluations: 206\n",
        "Optimization terminated successfully.\n",
        "         Current function value: -6.026674\n",
        "         Iterations: 106\n",
        "         Function evaluations: 30192\n",
        "         Gradient evaluations: 111\n",
        "Optimization terminated successfully.\n",
        "         Current function value: -6.026674\n",
        "         Iterations: 129\n",
        "         Function evaluations: 37536\n",
        "         Gradient evaluations: 138\n",
        "Optimization terminated successfully.\n",
        "         Current function value: -6.025859\n",
        "         Iterations: 223\n",
        "         Function evaluations: 67456\n",
        "         Gradient evaluations: 248\n",
        "Optimization terminated successfully.\n",
        "         Current function value: -6.026674\n",
        "         Iterations: 161\n",
        "         Function evaluations: 46240\n",
        "         Gradient evaluations: 170\n",
        "Optimization terminated successfully.\n",
        "         Current function value: -6.026674\n",
        "         Iterations: 134\n",
        "         Function evaluations: 39440\n",
        "         Gradient evaluations: 145\n",
        "Optimization terminated successfully.\n",
        "         Current function value: -5.965363\n",
        "         Iterations: 58\n",
        "         Function evaluations: 17680\n",
        "         Gradient evaluations: 65\n",
        "Optimization terminated successfully.\n",
        "         Current function value: -5.937413\n",
        "         Iterations: 101\n",
        "         Function evaluations: 32368\n",
        "         Gradient evaluations: 119\n",
        "Optimization terminated successfully.\n",
        "         Current function value: -6.026674\n",
        "         Iterations: 379\n",
        "         Function evaluations: 115600\n",
        "         Gradient evaluations: 425\n",
        "Optimization terminated successfully.\n",
        "         Current function value: -6.026674\n",
        "         Iterations: 213\n",
        "         Function evaluations: 62016\n",
        "         Gradient evaluations: 228"
      ],
      "metadata": {
        "id": "CV2kbq86g-Mv"
      }
    },
    {
      "cell_type": "markdown",
      "source": [
        "[-6.02667373, -6.02667373, -6.02667368, -6.02667354, -5.8987224 , -5.97700928, -5.96536259, -6.02667368, -6.02667371, -5.94009695]"
      ],
      "metadata": {
        "id": "OKi27Fq-glrL"
      }
    },
    {
      "cell_type": "markdown",
      "source": [
        "[-6.02667371, -6.02628084, -6.02667371, -5.89945393, -6.02667371, -5.95833590, -6.02667352, -6.02667373, -6.02667368, -5.9294343]"
      ],
      "metadata": {
        "id": "4gecC_qmg3tV"
      }
    },
    {
      "cell_type": "markdown",
      "source": [
        "[-5.94016942, -6.0266737 , -6.02667358, -6.02667369, -5.97782861, -6.0266737 , -6.02667319, -5.97782869, -5.97782861, -5.97782857]"
      ],
      "metadata": {
        "id": "QK1jZg7Sg4Mi"
      }
    },
    {
      "cell_type": "markdown",
      "source": [
        "[-6.02667363, -6.02667367, -5.94801533, -5.97500441, -6.02667365, -6.02667369, -6.02659477, -6.01371031, -5.97701072, -5.89828085]"
      ],
      "metadata": {
        "id": "tzKukizdg5FF"
      }
    },
    {
      "cell_type": "markdown",
      "source": [
        "[-5.94063178, -5.94017144, -6.0266737 , -5.96536198, -6.02667369, -6.02642066, -6.02262504, -5.98140869, -6.02609303, -6.02667364]"
      ],
      "metadata": {
        "id": "DEGD27BGg6bO"
      }
    },
    {
      "cell_type": "markdown",
      "source": [
        "[-5.947205, -6.022831, -6.026674, -6.026101, -5.969770, -6.025860, -6.02667367, -6.02113763, -6.0266737 , -6.0266737]"
      ],
      "metadata": {
        "id": "nRrBDvyTg6-u"
      }
    },
    {
      "cell_type": "markdown",
      "source": [
        "[-6.02667366, -6.02667368, -5.97976822, -5.89828149, -6.02158803, -6.02667372, -6.02034773, -6.02288384, -6.02152311, -6.02667373]"
      ],
      "metadata": {
        "id": "lo0ir-0lg7o2"
      }
    },
    {
      "cell_type": "markdown",
      "source": [
        "[-5.98259114, -6.02667355, -6.02667366, -6.02627895, -6.0262785, -5.94066224, -5.98265633, -6.02511394, -6.0266737 , -5.97075392]"
      ],
      "metadata": {
        "id": "2LTBLHzeg8rW"
      }
    },
    {
      "cell_type": "markdown",
      "source": [
        "[-5.91197141, -5.94014176, -5.96949375, -6.02667369, -6.02628083, -6.02628084, -5.93776153, -5.94066823,-5.9406369 , -6.02245133]"
      ],
      "metadata": {
        "id": "NlCj1XJHg9ZX"
      }
    },
    {
      "cell_type": "markdown",
      "source": [
        "[-6.02667364, -6.02667368, -6.02667371, -6.02585885, -6.02667363, 6.02667372, -5.96536257, -5.93741276, -6.02667351, -6.02667368]"
      ],
      "metadata": {
        "id": "EYLrhizJg985"
      }
    },
    {
      "cell_type": "code",
      "source": [
        "local_minimum_list = []\n",
        "\n",
        "for k in range(10,20,1):\n",
        "\n",
        "  callback_dict = {\n",
        "    \"prev_vector\": None,\n",
        "    \"iters\": 0,\n",
        "    \"cost_history\": [],\n",
        "  }\n",
        "\n",
        "  np.random.seed(k)\n",
        "  x0 = 2 * np.random.random(271) - 1\n",
        "\n",
        "  callback = build_callback_vqnhe(params_pqc, ansatz_zz, ansatz_x0, ansatz_x1, ansatz_x2, ansatz_x3, ansatz_x4, sampler, callback_dict)\n",
        "\n",
        "  options = dict()\n",
        "  options[\"maxiter\"] = 50000\n",
        "  options[\"disp\"] = True\n",
        "\n",
        "  res = minimize(\n",
        "    cost_func_vqnhe,\n",
        "    x0,\n",
        "    args=(params_pqc, ansatz_zz, ansatz_x0, ansatz_x1, ansatz_x2, ansatz_x3, ansatz_x4, sampler),\n",
        "    method=\"bfgs\",\n",
        "    callback=callback,\n",
        "    options=options\n",
        "  )\n",
        "\n",
        "  local_minimum_dict = callback_dict[\"cost_history\"]\n",
        "  local_minimum_list.append(local_minimum_dict[-1])\n",
        "\n",
        "\n",
        "local_minimum_list = np.array(local_minimum_list)"
      ],
      "metadata": {
        "id": "3WBU-0VTgwMB"
      },
      "execution_count": null,
      "outputs": []
    },
    {
      "cell_type": "code",
      "source": [
        "local_minimum_list"
      ],
      "metadata": {
        "id": "E69sfC7XgxtX"
      },
      "execution_count": null,
      "outputs": []
    },
    {
      "cell_type": "code",
      "source": [
        "local_minimum_list = []\n",
        "\n",
        "for k in range(20,30,1):\n",
        "\n",
        "  callback_dict = {\n",
        "    \"prev_vector\": None,\n",
        "    \"iters\": 0,\n",
        "    \"cost_history\": [],\n",
        "  }\n",
        "\n",
        "  np.random.seed(k)\n",
        "  x0 = 2 * np.random.random(271) - 1\n",
        "\n",
        "  callback = build_callback_vqnhe(params_pqc, ansatz_zz, ansatz_x0, ansatz_x1, ansatz_x2, ansatz_x3, ansatz_x4, sampler, callback_dict)\n",
        "\n",
        "  options = dict()\n",
        "  options[\"maxiter\"] = 50000\n",
        "  options[\"disp\"] = True\n",
        "\n",
        "  res = minimize(\n",
        "    cost_func_vqnhe,\n",
        "    x0,\n",
        "    args=(params_pqc, ansatz_zz, ansatz_x0, ansatz_x1, ansatz_x2, ansatz_x3, ansatz_x4, sampler),\n",
        "    method=\"bfgs\",\n",
        "    callback=callback,\n",
        "    options=options\n",
        "  )\n",
        "\n",
        "  local_minimum_dict = callback_dict[\"cost_history\"]\n",
        "  local_minimum_list.append(local_minimum_dict[-1])\n",
        "\n",
        "\n",
        "local_minimum_list = np.array(local_minimum_list)"
      ],
      "metadata": {
        "id": "I40KB0WCgxlk"
      },
      "execution_count": null,
      "outputs": []
    },
    {
      "cell_type": "code",
      "source": [
        "local_minimum_list"
      ],
      "metadata": {
        "id": "OVEtutm0gxdp"
      },
      "execution_count": null,
      "outputs": []
    },
    {
      "cell_type": "code",
      "source": [
        "local_minimum_list = []\n",
        "\n",
        "for k in range(30,40,1):\n",
        "\n",
        "  callback_dict = {\n",
        "    \"prev_vector\": None,\n",
        "    \"iters\": 0,\n",
        "    \"cost_history\": [],\n",
        "  }\n",
        "\n",
        "  np.random.seed(k)\n",
        "  x0 = 2 * np.random.random(271) - 1\n",
        "\n",
        "  callback = build_callback_vqnhe(params_pqc, ansatz_zz, ansatz_x0, ansatz_x1, ansatz_x2, ansatz_x3, ansatz_x4, sampler, callback_dict)\n",
        "\n",
        "  options = dict()\n",
        "  options[\"maxiter\"] = 50000\n",
        "  options[\"disp\"] = True\n",
        "\n",
        "  res = minimize(\n",
        "    cost_func_vqnhe,\n",
        "    x0,\n",
        "    args=(params_pqc, ansatz_zz, ansatz_x0, ansatz_x1, ansatz_x2, ansatz_x3, ansatz_x4, sampler),\n",
        "    method=\"bfgs\",\n",
        "    callback=callback,\n",
        "    options=options\n",
        "  )\n",
        "\n",
        "  local_minimum_dict = callback_dict[\"cost_history\"]\n",
        "  local_minimum_list.append(local_minimum_dict[-1])\n",
        "\n",
        "\n",
        "local_minimum_list = np.array(local_minimum_list)"
      ],
      "metadata": {
        "id": "Lbj4P-drgxXI"
      },
      "execution_count": null,
      "outputs": []
    },
    {
      "cell_type": "code",
      "source": [
        "local_minimum_list"
      ],
      "metadata": {
        "id": "YC14lpvjgxBX"
      },
      "execution_count": null,
      "outputs": []
    },
    {
      "cell_type": "code",
      "source": [
        "local_minimum_list = []\n",
        "\n",
        "for k in range(40,50,1):\n",
        "\n",
        "  callback_dict = {\n",
        "    \"prev_vector\": None,\n",
        "    \"iters\": 0,\n",
        "    \"cost_history\": [],\n",
        "  }\n",
        "\n",
        "  np.random.seed(k)\n",
        "  x0 = 2 * np.random.random(271) - 1\n",
        "\n",
        "  callback = build_callback_vqnhe(params_pqc, ansatz_zz, ansatz_x0, ansatz_x1, ansatz_x2, ansatz_x3, ansatz_x4, sampler, callback_dict)\n",
        "\n",
        "  options = dict()\n",
        "  options[\"maxiter\"] = 50000\n",
        "  options[\"disp\"] = True\n",
        "\n",
        "  res = minimize(\n",
        "    cost_func_vqnhe,\n",
        "    x0,\n",
        "    args=(params_pqc, ansatz_zz, ansatz_x0, ansatz_x1, ansatz_x2, ansatz_x3, ansatz_x4, sampler),\n",
        "    method=\"bfgs\",\n",
        "    callback=callback,\n",
        "    options=options\n",
        "  )\n",
        "\n",
        "  local_minimum_dict = callback_dict[\"cost_history\"]\n",
        "  local_minimum_list.append(local_minimum_dict[-1])\n",
        "\n",
        "\n",
        "local_minimum_list = np.array(local_minimum_list)"
      ],
      "metadata": {
        "id": "3rX0I7VvgwyY"
      },
      "execution_count": null,
      "outputs": []
    },
    {
      "cell_type": "code",
      "source": [
        "local_minimum_list"
      ],
      "metadata": {
        "id": "jbNAct78gwoR"
      },
      "execution_count": null,
      "outputs": []
    },
    {
      "cell_type": "code",
      "source": [
        "local_minimum_list = []\n",
        "\n",
        "for k in range(50,60,1):\n",
        "\n",
        "  callback_dict = {\n",
        "    \"prev_vector\": None,\n",
        "    \"iters\": 0,\n",
        "    \"cost_history\": [],\n",
        "  }\n",
        "\n",
        "  np.random.seed(k)\n",
        "  x0 = 2 * np.random.random(271) - 1\n",
        "\n",
        "  callback = build_callback_vqnhe(params_pqc, ansatz_zz, ansatz_x0, ansatz_x1, ansatz_x2, ansatz_x3, ansatz_x4, sampler, callback_dict)\n",
        "\n",
        "  options = dict()\n",
        "  options[\"maxiter\"] = 50000\n",
        "  options[\"disp\"] = True\n",
        "\n",
        "  res = minimize(\n",
        "    cost_func_vqnhe,\n",
        "    x0,\n",
        "    args=(params_pqc, ansatz_zz, ansatz_x0, ansatz_x1, ansatz_x2, ansatz_x3, ansatz_x4, sampler),\n",
        "    method=\"bfgs\",\n",
        "    callback=callback,\n",
        "    options=options\n",
        "  )\n",
        "\n",
        "  local_minimum_dict = callback_dict[\"cost_history\"]\n",
        "  local_minimum_list.append(local_minimum_dict[-1])\n",
        "\n",
        "\n",
        "local_minimum_list = np.array(local_minimum_list)"
      ],
      "metadata": {
        "id": "PzhH_KkZg3C7"
      },
      "execution_count": null,
      "outputs": []
    },
    {
      "cell_type": "code",
      "source": [
        "local_minimum_list"
      ],
      "metadata": {
        "id": "T8ctihtQg2-A"
      },
      "execution_count": null,
      "outputs": []
    },
    {
      "cell_type": "code",
      "source": [
        "local_minimum_list = []\n",
        "\n",
        "for k in range(60,70,1):\n",
        "\n",
        "  callback_dict = {\n",
        "    \"prev_vector\": None,\n",
        "    \"iters\": 0,\n",
        "    \"cost_history\": [],\n",
        "  }\n",
        "\n",
        "  np.random.seed(k)\n",
        "  x0 = 2 * np.random.random(271) - 1\n",
        "\n",
        "  callback = build_callback_vqnhe(params_pqc, ansatz_zz, ansatz_x0, ansatz_x1, ansatz_x2, ansatz_x3, ansatz_x4, sampler, callback_dict)\n",
        "\n",
        "  options = dict()\n",
        "  options[\"maxiter\"] = 50000\n",
        "  options[\"disp\"] = True\n",
        "\n",
        "  res = minimize(\n",
        "    cost_func_vqnhe,\n",
        "    x0,\n",
        "    args=(params_pqc, ansatz_zz, ansatz_x0, ansatz_x1, ansatz_x2, ansatz_x3, ansatz_x4, sampler),\n",
        "    method=\"bfgs\",\n",
        "    callback=callback,\n",
        "    options=options\n",
        "  )\n",
        "\n",
        "  local_minimum_dict = callback_dict[\"cost_history\"]\n",
        "  local_minimum_list.append(local_minimum_dict[-1])\n",
        "\n",
        "\n",
        "local_minimum_list = np.array(local_minimum_list)"
      ],
      "metadata": {
        "id": "D9N-sflrg24l"
      },
      "execution_count": null,
      "outputs": []
    },
    {
      "cell_type": "code",
      "source": [
        "local_minimum_list"
      ],
      "metadata": {
        "id": "HhJ1XdZjg2yf"
      },
      "execution_count": null,
      "outputs": []
    },
    {
      "cell_type": "code",
      "source": [
        "local_minimum_list = []\n",
        "\n",
        "for k in range(70,80,1):\n",
        "\n",
        "  callback_dict = {\n",
        "    \"prev_vector\": None,\n",
        "    \"iters\": 0,\n",
        "    \"cost_history\": [],\n",
        "  }\n",
        "\n",
        "  np.random.seed(k)\n",
        "  x0 = 2 * np.random.random(271) - 1\n",
        "\n",
        "  callback = build_callback_vqnhe(params_pqc, ansatz_zz, ansatz_x0, ansatz_x1, ansatz_x2, ansatz_x3, ansatz_x4, sampler, callback_dict)\n",
        "\n",
        "  options = dict()\n",
        "  options[\"maxiter\"] = 50000\n",
        "  options[\"disp\"] = True\n",
        "\n",
        "  res = minimize(\n",
        "    cost_func_vqnhe,\n",
        "    x0,\n",
        "    args=(params_pqc, ansatz_zz, ansatz_x0, ansatz_x1, ansatz_x2, ansatz_x3, ansatz_x4, sampler),\n",
        "    method=\"bfgs\",\n",
        "    callback=callback,\n",
        "    options=options\n",
        "  )\n",
        "\n",
        "  local_minimum_dict = callback_dict[\"cost_history\"]\n",
        "  local_minimum_list.append(local_minimum_dict[-1])\n",
        "\n",
        "\n",
        "local_minimum_list = np.array(local_minimum_list)"
      ],
      "metadata": {
        "id": "2xRS8jxdg2sr"
      },
      "execution_count": null,
      "outputs": []
    },
    {
      "cell_type": "code",
      "source": [
        "local_minimum_list"
      ],
      "metadata": {
        "id": "Tg01nbOlg2m6"
      },
      "execution_count": null,
      "outputs": []
    },
    {
      "cell_type": "code",
      "source": [
        "local_minimum_list = []\n",
        "\n",
        "for k in range(80,90,1):\n",
        "\n",
        "  callback_dict = {\n",
        "    \"prev_vector\": None,\n",
        "    \"iters\": 0,\n",
        "    \"cost_history\": [],\n",
        "  }\n",
        "\n",
        "  np.random.seed(k)\n",
        "  x0 = 2 * np.random.random(271) - 1\n",
        "\n",
        "  callback = build_callback_vqnhe(params_pqc, ansatz_zz, ansatz_x0, ansatz_x1, ansatz_x2, ansatz_x3, ansatz_x4, sampler, callback_dict)\n",
        "\n",
        "  options = dict()\n",
        "  options[\"maxiter\"] = 50000\n",
        "  options[\"disp\"] = True\n",
        "\n",
        "  res = minimize(\n",
        "    cost_func_vqnhe,\n",
        "    x0,\n",
        "    args=(params_pqc, ansatz_zz, ansatz_x0, ansatz_x1, ansatz_x2, ansatz_x3, ansatz_x4, sampler),\n",
        "    method=\"bfgs\",\n",
        "    callback=callback,\n",
        "    options=options\n",
        "  )\n",
        "\n",
        "  local_minimum_dict = callback_dict[\"cost_history\"]\n",
        "  local_minimum_list.append(local_minimum_dict[-1])\n",
        "\n",
        "\n",
        "local_minimum_list = np.array(local_minimum_list)"
      ],
      "metadata": {
        "id": "ZwyDMDDmg2ff"
      },
      "execution_count": null,
      "outputs": []
    },
    {
      "cell_type": "code",
      "source": [
        "local_minimum_list"
      ],
      "metadata": {
        "id": "7jO3fRePg2ZC"
      },
      "execution_count": null,
      "outputs": []
    },
    {
      "cell_type": "code",
      "source": [
        "local_minimum_list = []\n",
        "\n",
        "for k in range(90,100,1):\n",
        "\n",
        "  callback_dict = {\n",
        "    \"prev_vector\": None,\n",
        "    \"iters\": 0,\n",
        "    \"cost_history\": [],\n",
        "  }\n",
        "\n",
        "  np.random.seed(k)\n",
        "  x0 = 2 * np.random.random(271) - 1\n",
        "\n",
        "  callback = build_callback_vqnhe(params_pqc, ansatz_zz, ansatz_x0, ansatz_x1, ansatz_x2, ansatz_x3, ansatz_x4, sampler, callback_dict)\n",
        "\n",
        "  options = dict()\n",
        "  options[\"maxiter\"] = 50000\n",
        "  options[\"disp\"] = True\n",
        "\n",
        "  res = minimize(\n",
        "    cost_func_vqnhe,\n",
        "    x0,\n",
        "    args=(params_pqc, ansatz_zz, ansatz_x0, ansatz_x1, ansatz_x2, ansatz_x3, ansatz_x4, sampler),\n",
        "    method=\"bfgs\",\n",
        "    callback=callback,\n",
        "    options=options\n",
        "  )\n",
        "\n",
        "  local_minimum_dict = callback_dict[\"cost_history\"]\n",
        "  local_minimum_list.append(local_minimum_dict[-1])\n",
        "\n",
        "\n",
        "local_minimum_list = np.array(local_minimum_list)"
      ],
      "metadata": {
        "id": "7o-cWxcJg2S2"
      },
      "execution_count": null,
      "outputs": []
    },
    {
      "cell_type": "code",
      "source": [
        "local_minimum_list"
      ],
      "metadata": {
        "id": "VAnN1fMBg2MN"
      },
      "execution_count": null,
      "outputs": []
    }
  ]
}