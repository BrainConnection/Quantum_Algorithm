{
  "nbformat": 4,
  "nbformat_minor": 0,
  "metadata": {
    "colab": {
      "provenance": [],
      "machine_shape": "hm",
      "gpuType": "V100",
      "authorship_tag": "ABX9TyM+bt6TbMkhm9PaZ5llrbGs",
      "include_colab_link": true
    },
    "kernelspec": {
      "name": "python3",
      "display_name": "Python 3"
    },
    "language_info": {
      "name": "python"
    }
  },
  "cells": [
    {
      "cell_type": "markdown",
      "metadata": {
        "id": "view-in-github",
        "colab_type": "text"
      },
      "source": [
        "<a href=\"https://colab.research.google.com/github/BrainConnection/Quantum_Algorithm/blob/main/3.%20QAOA.ipynb\" target=\"_parent\"><img src=\"https://colab.research.google.com/assets/colab-badge.svg\" alt=\"Open In Colab\"/></a>"
      ]
    },
    {
      "cell_type": "markdown",
      "source": [
        "# Environment Setting"
      ],
      "metadata": {
        "id": "nHZOKbnMg33g"
      }
    },
    {
      "cell_type": "code",
      "execution_count": null,
      "metadata": {
        "colab": {
          "base_uri": "https://localhost:8080/"
        },
        "id": "09dlWASwmtoK",
        "outputId": "239f4ed8-173d-4b06-feab-7db859623f3b"
      },
      "outputs": [
        {
          "output_type": "stream",
          "name": "stdout",
          "text": [
            "Collecting qiskit\n",
            "  Downloading qiskit-1.0.2-cp38-abi3-manylinux_2_17_x86_64.manylinux2014_x86_64.whl (5.6 MB)\n",
            "\u001b[2K     \u001b[90m━━━━━━━━━━━━━━━━━━━━━━━━━━━━━━━━━━━━━━━━\u001b[0m \u001b[32m5.6/5.6 MB\u001b[0m \u001b[31m44.1 MB/s\u001b[0m eta \u001b[36m0:00:00\u001b[0m\n",
            "\u001b[?25hCollecting rustworkx>=0.14.0 (from qiskit)\n",
            "  Downloading rustworkx-0.14.2-cp310-cp310-manylinux_2_17_x86_64.manylinux2014_x86_64.whl (2.1 MB)\n",
            "\u001b[2K     \u001b[90m━━━━━━━━━━━━━━━━━━━━━━━━━━━━━━━━━━━━━━━━\u001b[0m \u001b[32m2.1/2.1 MB\u001b[0m \u001b[31m72.1 MB/s\u001b[0m eta \u001b[36m0:00:00\u001b[0m\n",
            "\u001b[?25hRequirement already satisfied: numpy<2,>=1.17 in /usr/local/lib/python3.10/dist-packages (from qiskit) (1.25.2)\n",
            "Requirement already satisfied: scipy>=1.5 in /usr/local/lib/python3.10/dist-packages (from qiskit) (1.11.4)\n",
            "Requirement already satisfied: sympy>=1.3 in /usr/local/lib/python3.10/dist-packages (from qiskit) (1.12)\n",
            "Collecting dill>=0.3 (from qiskit)\n",
            "  Downloading dill-0.3.8-py3-none-any.whl (116 kB)\n",
            "\u001b[2K     \u001b[90m━━━━━━━━━━━━━━━━━━━━━━━━━━━━━━━━━━━━━━━━\u001b[0m \u001b[32m116.3/116.3 kB\u001b[0m \u001b[31m13.9 MB/s\u001b[0m eta \u001b[36m0:00:00\u001b[0m\n",
            "\u001b[?25hRequirement already satisfied: python-dateutil>=2.8.0 in /usr/local/lib/python3.10/dist-packages (from qiskit) (2.8.2)\n",
            "Collecting stevedore>=3.0.0 (from qiskit)\n",
            "  Downloading stevedore-5.2.0-py3-none-any.whl (49 kB)\n",
            "\u001b[2K     \u001b[90m━━━━━━━━━━━━━━━━━━━━━━━━━━━━━━━━━━━━━━━━\u001b[0m \u001b[32m49.7/49.7 kB\u001b[0m \u001b[31m6.2 MB/s\u001b[0m eta \u001b[36m0:00:00\u001b[0m\n",
            "\u001b[?25hRequirement already satisfied: typing-extensions in /usr/local/lib/python3.10/dist-packages (from qiskit) (4.10.0)\n",
            "Collecting symengine>=0.11 (from qiskit)\n",
            "  Downloading symengine-0.11.0-cp310-cp310-manylinux_2_12_x86_64.manylinux2010_x86_64.whl (39.4 MB)\n",
            "\u001b[2K     \u001b[90m━━━━━━━━━━━━━━━━━━━━━━━━━━━━━━━━━━━━━━━━\u001b[0m \u001b[32m39.4/39.4 MB\u001b[0m \u001b[31m35.3 MB/s\u001b[0m eta \u001b[36m0:00:00\u001b[0m\n",
            "\u001b[?25hRequirement already satisfied: six>=1.5 in /usr/local/lib/python3.10/dist-packages (from python-dateutil>=2.8.0->qiskit) (1.16.0)\n",
            "Collecting pbr!=2.1.0,>=2.0.0 (from stevedore>=3.0.0->qiskit)\n",
            "  Downloading pbr-6.0.0-py2.py3-none-any.whl (107 kB)\n",
            "\u001b[2K     \u001b[90m━━━━━━━━━━━━━━━━━━━━━━━━━━━━━━━━━━━━━━━━\u001b[0m \u001b[32m107.5/107.5 kB\u001b[0m \u001b[31m13.4 MB/s\u001b[0m eta \u001b[36m0:00:00\u001b[0m\n",
            "\u001b[?25hRequirement already satisfied: mpmath>=0.19 in /usr/local/lib/python3.10/dist-packages (from sympy>=1.3->qiskit) (1.3.0)\n",
            "Installing collected packages: symengine, rustworkx, pbr, dill, stevedore, qiskit\n",
            "Successfully installed dill-0.3.8 pbr-6.0.0 qiskit-1.0.2 rustworkx-0.14.2 stevedore-5.2.0 symengine-0.11.0\n",
            "Collecting qiskit-ibm-runtime\n",
            "  Downloading qiskit_ibm_runtime-0.21.1-py3-none-any.whl (3.0 MB)\n",
            "\u001b[2K     \u001b[90m━━━━━━━━━━━━━━━━━━━━━━━━━━━━━━━━━━━━━━━━\u001b[0m \u001b[32m3.0/3.0 MB\u001b[0m \u001b[31m33.4 MB/s\u001b[0m eta \u001b[36m0:00:00\u001b[0m\n",
            "\u001b[?25hRequirement already satisfied: requests>=2.19 in /usr/local/lib/python3.10/dist-packages (from qiskit-ibm-runtime) (2.31.0)\n",
            "Collecting requests-ntlm>=1.1.0 (from qiskit-ibm-runtime)\n",
            "  Downloading requests_ntlm-1.2.0-py3-none-any.whl (6.0 kB)\n",
            "Requirement already satisfied: numpy>=1.13 in /usr/local/lib/python3.10/dist-packages (from qiskit-ibm-runtime) (1.25.2)\n",
            "Requirement already satisfied: urllib3>=1.21.1 in /usr/local/lib/python3.10/dist-packages (from qiskit-ibm-runtime) (2.0.7)\n",
            "Requirement already satisfied: python-dateutil>=2.8.0 in /usr/local/lib/python3.10/dist-packages (from qiskit-ibm-runtime) (2.8.2)\n",
            "Requirement already satisfied: websocket-client>=1.5.1 in /usr/local/lib/python3.10/dist-packages (from qiskit-ibm-runtime) (1.7.0)\n",
            "Collecting ibm-platform-services>=0.22.6 (from qiskit-ibm-runtime)\n",
            "  Downloading ibm-platform-services-0.52.0.tar.gz (316 kB)\n",
            "\u001b[2K     \u001b[90m━━━━━━━━━━━━━━━━━━━━━━━━━━━━━━━━━━━━━━━━\u001b[0m \u001b[32m316.3/316.3 kB\u001b[0m \u001b[31m32.8 MB/s\u001b[0m eta \u001b[36m0:00:00\u001b[0m\n",
            "\u001b[?25h  Installing build dependencies ... \u001b[?25l\u001b[?25hdone\n",
            "  Getting requirements to build wheel ... \u001b[?25l\u001b[?25hdone\n",
            "  Preparing metadata (pyproject.toml) ... \u001b[?25l\u001b[?25hdone\n",
            "Requirement already satisfied: pydantic in /usr/local/lib/python3.10/dist-packages (from qiskit-ibm-runtime) (2.6.3)\n",
            "Requirement already satisfied: qiskit>=1.0.0 in /usr/local/lib/python3.10/dist-packages (from qiskit-ibm-runtime) (1.0.2)\n",
            "Collecting ibm-cloud-sdk-core<4.0.0,>=3.19.2 (from ibm-platform-services>=0.22.6->qiskit-ibm-runtime)\n",
            "  Downloading ibm-cloud-sdk-core-3.19.2.tar.gz (61 kB)\n",
            "\u001b[2K     \u001b[90m━━━━━━━━━━━━━━━━━━━━━━━━━━━━━━━━━━━━━━━━\u001b[0m \u001b[32m62.0/62.0 kB\u001b[0m \u001b[31m7.1 MB/s\u001b[0m eta \u001b[36m0:00:00\u001b[0m\n",
            "\u001b[?25h  Installing build dependencies ... \u001b[?25l\u001b[?25hdone\n",
            "  Getting requirements to build wheel ... \u001b[?25l\u001b[?25hdone\n",
            "  Preparing metadata (pyproject.toml) ... \u001b[?25l\u001b[?25hdone\n",
            "Requirement already satisfied: six>=1.5 in /usr/local/lib/python3.10/dist-packages (from python-dateutil>=2.8.0->qiskit-ibm-runtime) (1.16.0)\n",
            "Requirement already satisfied: rustworkx>=0.14.0 in /usr/local/lib/python3.10/dist-packages (from qiskit>=1.0.0->qiskit-ibm-runtime) (0.14.2)\n",
            "Requirement already satisfied: scipy>=1.5 in /usr/local/lib/python3.10/dist-packages (from qiskit>=1.0.0->qiskit-ibm-runtime) (1.11.4)\n",
            "Requirement already satisfied: sympy>=1.3 in /usr/local/lib/python3.10/dist-packages (from qiskit>=1.0.0->qiskit-ibm-runtime) (1.12)\n",
            "Requirement already satisfied: dill>=0.3 in /usr/local/lib/python3.10/dist-packages (from qiskit>=1.0.0->qiskit-ibm-runtime) (0.3.8)\n",
            "Requirement already satisfied: stevedore>=3.0.0 in /usr/local/lib/python3.10/dist-packages (from qiskit>=1.0.0->qiskit-ibm-runtime) (5.2.0)\n",
            "Requirement already satisfied: typing-extensions in /usr/local/lib/python3.10/dist-packages (from qiskit>=1.0.0->qiskit-ibm-runtime) (4.10.0)\n",
            "Requirement already satisfied: symengine>=0.11 in /usr/local/lib/python3.10/dist-packages (from qiskit>=1.0.0->qiskit-ibm-runtime) (0.11.0)\n",
            "Requirement already satisfied: charset-normalizer<4,>=2 in /usr/local/lib/python3.10/dist-packages (from requests>=2.19->qiskit-ibm-runtime) (3.3.2)\n",
            "Requirement already satisfied: idna<4,>=2.5 in /usr/local/lib/python3.10/dist-packages (from requests>=2.19->qiskit-ibm-runtime) (3.6)\n",
            "Requirement already satisfied: certifi>=2017.4.17 in /usr/local/lib/python3.10/dist-packages (from requests>=2.19->qiskit-ibm-runtime) (2024.2.2)\n",
            "Requirement already satisfied: cryptography>=1.3 in /usr/local/lib/python3.10/dist-packages (from requests-ntlm>=1.1.0->qiskit-ibm-runtime) (42.0.5)\n",
            "Collecting pyspnego>=0.1.6 (from requests-ntlm>=1.1.0->qiskit-ibm-runtime)\n",
            "  Downloading pyspnego-0.10.2-py3-none-any.whl (129 kB)\n",
            "\u001b[2K     \u001b[90m━━━━━━━━━━━━━━━━━━━━━━━━━━━━━━━━━━━━━━━━\u001b[0m \u001b[32m129.9/129.9 kB\u001b[0m \u001b[31m15.7 MB/s\u001b[0m eta \u001b[36m0:00:00\u001b[0m\n",
            "\u001b[?25hRequirement already satisfied: annotated-types>=0.4.0 in /usr/local/lib/python3.10/dist-packages (from pydantic->qiskit-ibm-runtime) (0.6.0)\n",
            "Requirement already satisfied: pydantic-core==2.16.3 in /usr/local/lib/python3.10/dist-packages (from pydantic->qiskit-ibm-runtime) (2.16.3)\n",
            "Requirement already satisfied: cffi>=1.12 in /usr/local/lib/python3.10/dist-packages (from cryptography>=1.3->requests-ntlm>=1.1.0->qiskit-ibm-runtime) (1.16.0)\n",
            "Collecting urllib3>=1.21.1 (from qiskit-ibm-runtime)\n",
            "  Downloading urllib3-2.2.1-py3-none-any.whl (121 kB)\n",
            "\u001b[2K     \u001b[90m━━━━━━━━━━━━━━━━━━━━━━━━━━━━━━━━━━━━━━━━\u001b[0m \u001b[32m121.1/121.1 kB\u001b[0m \u001b[31m13.5 MB/s\u001b[0m eta \u001b[36m0:00:00\u001b[0m\n",
            "\u001b[?25hCollecting PyJWT<3.0.0,>=2.8.0 (from ibm-cloud-sdk-core<4.0.0,>=3.19.2->ibm-platform-services>=0.22.6->qiskit-ibm-runtime)\n",
            "  Downloading PyJWT-2.8.0-py3-none-any.whl (22 kB)\n",
            "Requirement already satisfied: pbr!=2.1.0,>=2.0.0 in /usr/local/lib/python3.10/dist-packages (from stevedore>=3.0.0->qiskit>=1.0.0->qiskit-ibm-runtime) (6.0.0)\n",
            "Requirement already satisfied: mpmath>=0.19 in /usr/local/lib/python3.10/dist-packages (from sympy>=1.3->qiskit>=1.0.0->qiskit-ibm-runtime) (1.3.0)\n",
            "Requirement already satisfied: pycparser in /usr/local/lib/python3.10/dist-packages (from cffi>=1.12->cryptography>=1.3->requests-ntlm>=1.1.0->qiskit-ibm-runtime) (2.21)\n",
            "Building wheels for collected packages: ibm-platform-services, ibm-cloud-sdk-core\n",
            "  Building wheel for ibm-platform-services (pyproject.toml) ... \u001b[?25l\u001b[?25hdone\n",
            "  Created wheel for ibm-platform-services: filename=ibm_platform_services-0.52.0-py3-none-any.whl size=331902 sha256=90b5ea09fc75b3f7b40843aec29c3d53df4ebf751fd5b54d152654133d1472de\n",
            "  Stored in directory: /root/.cache/pip/wheels/9b/34/7b/f02968953b977f20d07a36eab5f7ea8c4d6590f5919940a9f8\n",
            "  Building wheel for ibm-cloud-sdk-core (pyproject.toml) ... \u001b[?25l\u001b[?25hdone\n",
            "  Created wheel for ibm-cloud-sdk-core: filename=ibm_cloud_sdk_core-3.19.2-py3-none-any.whl size=98827 sha256=8710da9b742db41b80c191c9f63730f7257816095eeb386b694124d17b358e47\n",
            "  Stored in directory: /root/.cache/pip/wheels/90/05/db/f544eb28b85089bf6cf29cb9e30f56b471bf59d56a46c92519\n",
            "Successfully built ibm-platform-services ibm-cloud-sdk-core\n",
            "Installing collected packages: urllib3, PyJWT, pyspnego, ibm-cloud-sdk-core, requests-ntlm, ibm-platform-services, qiskit-ibm-runtime\n",
            "  Attempting uninstall: urllib3\n",
            "    Found existing installation: urllib3 2.0.7\n",
            "    Uninstalling urllib3-2.0.7:\n",
            "      Successfully uninstalled urllib3-2.0.7\n",
            "  Attempting uninstall: PyJWT\n",
            "    Found existing installation: PyJWT 2.3.0\n",
            "    Uninstalling PyJWT-2.3.0:\n",
            "      Successfully uninstalled PyJWT-2.3.0\n",
            "Successfully installed PyJWT-2.8.0 ibm-cloud-sdk-core-3.19.2 ibm-platform-services-0.52.0 pyspnego-0.10.2 qiskit-ibm-runtime-0.21.1 requests-ntlm-1.2.0 urllib3-2.2.1\n",
            "Requirement already satisfied: qiskit[visualization] in /usr/local/lib/python3.10/dist-packages (1.0.2)\n",
            "Requirement already satisfied: rustworkx>=0.14.0 in /usr/local/lib/python3.10/dist-packages (from qiskit[visualization]) (0.14.2)\n",
            "Requirement already satisfied: numpy<2,>=1.17 in /usr/local/lib/python3.10/dist-packages (from qiskit[visualization]) (1.25.2)\n",
            "Requirement already satisfied: scipy>=1.5 in /usr/local/lib/python3.10/dist-packages (from qiskit[visualization]) (1.11.4)\n",
            "Requirement already satisfied: sympy>=1.3 in /usr/local/lib/python3.10/dist-packages (from qiskit[visualization]) (1.12)\n",
            "Requirement already satisfied: dill>=0.3 in /usr/local/lib/python3.10/dist-packages (from qiskit[visualization]) (0.3.8)\n",
            "Requirement already satisfied: python-dateutil>=2.8.0 in /usr/local/lib/python3.10/dist-packages (from qiskit[visualization]) (2.8.2)\n",
            "Requirement already satisfied: stevedore>=3.0.0 in /usr/local/lib/python3.10/dist-packages (from qiskit[visualization]) (5.2.0)\n",
            "Requirement already satisfied: typing-extensions in /usr/local/lib/python3.10/dist-packages (from qiskit[visualization]) (4.10.0)\n",
            "Requirement already satisfied: symengine>=0.11 in /usr/local/lib/python3.10/dist-packages (from qiskit[visualization]) (0.11.0)\n",
            "Requirement already satisfied: matplotlib>=3.3 in /usr/local/lib/python3.10/dist-packages (from qiskit[visualization]) (3.7.1)\n",
            "Requirement already satisfied: pydot in /usr/local/lib/python3.10/dist-packages (from qiskit[visualization]) (1.4.2)\n",
            "Requirement already satisfied: Pillow>=4.2.1 in /usr/local/lib/python3.10/dist-packages (from qiskit[visualization]) (9.4.0)\n",
            "Collecting pylatexenc>=1.4 (from qiskit[visualization])\n",
            "  Downloading pylatexenc-2.10.tar.gz (162 kB)\n",
            "\u001b[2K     \u001b[90m━━━━━━━━━━━━━━━━━━━━━━━━━━━━━━━━━━━━━━━━\u001b[0m \u001b[32m162.6/162.6 kB\u001b[0m \u001b[31m4.1 MB/s\u001b[0m eta \u001b[36m0:00:00\u001b[0m\n",
            "\u001b[?25h  Preparing metadata (setup.py) ... \u001b[?25l\u001b[?25hdone\n",
            "Requirement already satisfied: seaborn>=0.9.0 in /usr/local/lib/python3.10/dist-packages (from qiskit[visualization]) (0.13.1)\n",
            "Requirement already satisfied: contourpy>=1.0.1 in /usr/local/lib/python3.10/dist-packages (from matplotlib>=3.3->qiskit[visualization]) (1.2.0)\n",
            "Requirement already satisfied: cycler>=0.10 in /usr/local/lib/python3.10/dist-packages (from matplotlib>=3.3->qiskit[visualization]) (0.12.1)\n",
            "Requirement already satisfied: fonttools>=4.22.0 in /usr/local/lib/python3.10/dist-packages (from matplotlib>=3.3->qiskit[visualization]) (4.49.0)\n",
            "Requirement already satisfied: kiwisolver>=1.0.1 in /usr/local/lib/python3.10/dist-packages (from matplotlib>=3.3->qiskit[visualization]) (1.4.5)\n",
            "Requirement already satisfied: packaging>=20.0 in /usr/local/lib/python3.10/dist-packages (from matplotlib>=3.3->qiskit[visualization]) (24.0)\n",
            "Requirement already satisfied: pyparsing>=2.3.1 in /usr/local/lib/python3.10/dist-packages (from matplotlib>=3.3->qiskit[visualization]) (3.1.2)\n",
            "Requirement already satisfied: six>=1.5 in /usr/local/lib/python3.10/dist-packages (from python-dateutil>=2.8.0->qiskit[visualization]) (1.16.0)\n",
            "Requirement already satisfied: pandas>=1.2 in /usr/local/lib/python3.10/dist-packages (from seaborn>=0.9.0->qiskit[visualization]) (1.5.3)\n",
            "Requirement already satisfied: pbr!=2.1.0,>=2.0.0 in /usr/local/lib/python3.10/dist-packages (from stevedore>=3.0.0->qiskit[visualization]) (6.0.0)\n",
            "Requirement already satisfied: mpmath>=0.19 in /usr/local/lib/python3.10/dist-packages (from sympy>=1.3->qiskit[visualization]) (1.3.0)\n",
            "Requirement already satisfied: pytz>=2020.1 in /usr/local/lib/python3.10/dist-packages (from pandas>=1.2->seaborn>=0.9.0->qiskit[visualization]) (2023.4)\n",
            "Building wheels for collected packages: pylatexenc\n",
            "  Building wheel for pylatexenc (setup.py) ... \u001b[?25l\u001b[?25hdone\n",
            "  Created wheel for pylatexenc: filename=pylatexenc-2.10-py3-none-any.whl size=136816 sha256=4e7d740cdb2b29ca2b8574ea079ddfb6c6df5374204d787b6f9fa54b86a86959\n",
            "  Stored in directory: /root/.cache/pip/wheels/d3/31/8b/e09b0386afd80cfc556c00408c9aeea5c35c4d484a9c762fd5\n",
            "Successfully built pylatexenc\n",
            "Installing collected packages: pylatexenc\n",
            "Successfully installed pylatexenc-2.10\n",
            "Collecting qiskit-algorithms\n",
            "  Downloading qiskit_algorithms-0.3.0-py3-none-any.whl (308 kB)\n",
            "\u001b[2K     \u001b[90m━━━━━━━━━━━━━━━━━━━━━━━━━━━━━━━━━━━━━━━━\u001b[0m \u001b[32m308.6/308.6 kB\u001b[0m \u001b[31m6.9 MB/s\u001b[0m eta \u001b[36m0:00:00\u001b[0m\n",
            "\u001b[?25hRequirement already satisfied: qiskit>=0.44 in /usr/local/lib/python3.10/dist-packages (from qiskit-algorithms) (1.0.2)\n",
            "Requirement already satisfied: scipy>=1.4 in /usr/local/lib/python3.10/dist-packages (from qiskit-algorithms) (1.11.4)\n",
            "Requirement already satisfied: numpy>=1.17 in /usr/local/lib/python3.10/dist-packages (from qiskit-algorithms) (1.25.2)\n",
            "Requirement already satisfied: rustworkx>=0.14.0 in /usr/local/lib/python3.10/dist-packages (from qiskit>=0.44->qiskit-algorithms) (0.14.2)\n",
            "Requirement already satisfied: sympy>=1.3 in /usr/local/lib/python3.10/dist-packages (from qiskit>=0.44->qiskit-algorithms) (1.12)\n",
            "Requirement already satisfied: dill>=0.3 in /usr/local/lib/python3.10/dist-packages (from qiskit>=0.44->qiskit-algorithms) (0.3.8)\n",
            "Requirement already satisfied: python-dateutil>=2.8.0 in /usr/local/lib/python3.10/dist-packages (from qiskit>=0.44->qiskit-algorithms) (2.8.2)\n",
            "Requirement already satisfied: stevedore>=3.0.0 in /usr/local/lib/python3.10/dist-packages (from qiskit>=0.44->qiskit-algorithms) (5.2.0)\n",
            "Requirement already satisfied: typing-extensions in /usr/local/lib/python3.10/dist-packages (from qiskit>=0.44->qiskit-algorithms) (4.10.0)\n",
            "Requirement already satisfied: symengine>=0.11 in /usr/local/lib/python3.10/dist-packages (from qiskit>=0.44->qiskit-algorithms) (0.11.0)\n",
            "Requirement already satisfied: six>=1.5 in /usr/local/lib/python3.10/dist-packages (from python-dateutil>=2.8.0->qiskit>=0.44->qiskit-algorithms) (1.16.0)\n",
            "Requirement already satisfied: pbr!=2.1.0,>=2.0.0 in /usr/local/lib/python3.10/dist-packages (from stevedore>=3.0.0->qiskit>=0.44->qiskit-algorithms) (6.0.0)\n",
            "Requirement already satisfied: mpmath>=0.19 in /usr/local/lib/python3.10/dist-packages (from sympy>=1.3->qiskit>=0.44->qiskit-algorithms) (1.3.0)\n",
            "Installing collected packages: qiskit-algorithms\n",
            "Successfully installed qiskit-algorithms-0.3.0\n",
            "Collecting qiskit-aer\n",
            "  Downloading qiskit_aer-0.13.3-cp310-cp310-manylinux_2_17_x86_64.manylinux2014_x86_64.whl (12.3 MB)\n",
            "\u001b[2K     \u001b[90m━━━━━━━━━━━━━━━━━━━━━━━━━━━━━━━━━━━━━━━━\u001b[0m \u001b[32m12.3/12.3 MB\u001b[0m \u001b[31m71.8 MB/s\u001b[0m eta \u001b[36m0:00:00\u001b[0m\n",
            "\u001b[?25hRequirement already satisfied: qiskit>=0.45.0 in /usr/local/lib/python3.10/dist-packages (from qiskit-aer) (1.0.2)\n",
            "Requirement already satisfied: numpy>=1.16.3 in /usr/local/lib/python3.10/dist-packages (from qiskit-aer) (1.25.2)\n",
            "Requirement already satisfied: scipy>=1.0 in /usr/local/lib/python3.10/dist-packages (from qiskit-aer) (1.11.4)\n",
            "Requirement already satisfied: psutil>=5 in /usr/local/lib/python3.10/dist-packages (from qiskit-aer) (5.9.5)\n",
            "Requirement already satisfied: rustworkx>=0.14.0 in /usr/local/lib/python3.10/dist-packages (from qiskit>=0.45.0->qiskit-aer) (0.14.2)\n",
            "Requirement already satisfied: sympy>=1.3 in /usr/local/lib/python3.10/dist-packages (from qiskit>=0.45.0->qiskit-aer) (1.12)\n",
            "Requirement already satisfied: dill>=0.3 in /usr/local/lib/python3.10/dist-packages (from qiskit>=0.45.0->qiskit-aer) (0.3.8)\n",
            "Requirement already satisfied: python-dateutil>=2.8.0 in /usr/local/lib/python3.10/dist-packages (from qiskit>=0.45.0->qiskit-aer) (2.8.2)\n",
            "Requirement already satisfied: stevedore>=3.0.0 in /usr/local/lib/python3.10/dist-packages (from qiskit>=0.45.0->qiskit-aer) (5.2.0)\n",
            "Requirement already satisfied: typing-extensions in /usr/local/lib/python3.10/dist-packages (from qiskit>=0.45.0->qiskit-aer) (4.10.0)\n",
            "Requirement already satisfied: symengine>=0.11 in /usr/local/lib/python3.10/dist-packages (from qiskit>=0.45.0->qiskit-aer) (0.11.0)\n",
            "Requirement already satisfied: six>=1.5 in /usr/local/lib/python3.10/dist-packages (from python-dateutil>=2.8.0->qiskit>=0.45.0->qiskit-aer) (1.16.0)\n",
            "Requirement already satisfied: pbr!=2.1.0,>=2.0.0 in /usr/local/lib/python3.10/dist-packages (from stevedore>=3.0.0->qiskit>=0.45.0->qiskit-aer) (6.0.0)\n",
            "Requirement already satisfied: mpmath>=0.19 in /usr/local/lib/python3.10/dist-packages (from sympy>=1.3->qiskit>=0.45.0->qiskit-aer) (1.3.0)\n",
            "Installing collected packages: qiskit-aer\n",
            "Successfully installed qiskit-aer-0.13.3\n",
            "Requirement already satisfied: scipy in /usr/local/lib/python3.10/dist-packages (1.11.4)\n",
            "Requirement already satisfied: numpy<1.28.0,>=1.21.6 in /usr/local/lib/python3.10/dist-packages (from scipy) (1.25.2)\n",
            "Requirement already satisfied: matplotlib in /usr/local/lib/python3.10/dist-packages (3.7.1)\n",
            "Requirement already satisfied: contourpy>=1.0.1 in /usr/local/lib/python3.10/dist-packages (from matplotlib) (1.2.0)\n",
            "Requirement already satisfied: cycler>=0.10 in /usr/local/lib/python3.10/dist-packages (from matplotlib) (0.12.1)\n",
            "Requirement already satisfied: fonttools>=4.22.0 in /usr/local/lib/python3.10/dist-packages (from matplotlib) (4.49.0)\n",
            "Requirement already satisfied: kiwisolver>=1.0.1 in /usr/local/lib/python3.10/dist-packages (from matplotlib) (1.4.5)\n",
            "Requirement already satisfied: numpy>=1.20 in /usr/local/lib/python3.10/dist-packages (from matplotlib) (1.25.2)\n",
            "Requirement already satisfied: packaging>=20.0 in /usr/local/lib/python3.10/dist-packages (from matplotlib) (24.0)\n",
            "Requirement already satisfied: pillow>=6.2.0 in /usr/local/lib/python3.10/dist-packages (from matplotlib) (9.4.0)\n",
            "Requirement already satisfied: pyparsing>=2.3.1 in /usr/local/lib/python3.10/dist-packages (from matplotlib) (3.1.2)\n",
            "Requirement already satisfied: python-dateutil>=2.7 in /usr/local/lib/python3.10/dist-packages (from matplotlib) (2.8.2)\n",
            "Requirement already satisfied: six>=1.5 in /usr/local/lib/python3.10/dist-packages (from python-dateutil>=2.7->matplotlib) (1.16.0)\n"
          ]
        }
      ],
      "source": [
        "!pip install qiskit\n",
        "!pip install qiskit-ibm-runtime\n",
        "!pip install qiskit[visualization]\n",
        "!pip install qiskit-algorithms\n",
        "!pip install qiskit-aer\n",
        "\n",
        "!pip install scipy\n",
        "!pip install matplotlib"
      ]
    },
    {
      "cell_type": "code",
      "source": [
        "from qiskit_ibm_runtime import QiskitRuntimeService, Estimator, Options\n",
        "\n",
        "# Save an IBM Quantum account and set it as your default account.\n",
        "QiskitRuntimeService.save_account(channel=\"ibm_quantum\",\n",
        "                                  token=\"067e5c82606f0a1157dd554e2087d6b7a9b823dbaa4ad47b95c3337eab2e6cd9361719cc0470f4a98d1631b73b264a82577012a0b8ff32963d5964e6cc12c525\",\n",
        "                                  set_as_default=True,\n",
        "                                  overwrite=True)\n",
        "\n",
        "service = QiskitRuntimeService()\n",
        "backend = service.backend(\"ibmq_qasm_simulator\")"
      ],
      "metadata": {
        "id": "2WPbDpzlm75h"
      },
      "execution_count": null,
      "outputs": []
    },
    {
      "cell_type": "markdown",
      "source": [
        "# Hamiltonian Diagonalization"
      ],
      "metadata": {
        "id": "KxlrsTqLfZMB"
      }
    },
    {
      "cell_type": "markdown",
      "source": [
        "$$ H = -(1-g) Σ Z_j Z_{j+1} -g Σ X_j  $$\n",
        "\n",
        "1D 5 Qubit System"
      ],
      "metadata": {
        "id": "ECHhrgxzxyoj"
      }
    },
    {
      "cell_type": "code",
      "source": [
        "from qiskit.quantum_info import SparsePauliOp\n",
        "import numpy as np\n",
        "import matplotlib.pyplot as plt"
      ],
      "metadata": {
        "id": "DtnIBeDK08QA"
      },
      "execution_count": null,
      "outputs": []
    },
    {
      "cell_type": "code",
      "source": [
        "interation = 1\n",
        "bias = -1\n",
        "\n",
        "coeff_list = [interation for _ in range(5)] + [bias for _ in range(5)]\n",
        "operator_list = [\"ZZIII\", \"IZZII\", \"IIZZI\", \"IIIZZ\", \"ZIIIZ\", \"XIIII\", \"IXIII\", \"IIXII\", \"IIIXI\", \"IIIIX\"]\n",
        "hamiltonian_list = []\n",
        "for i in range(10):\n",
        "  hamiltonian_list.append((operator_list[i], coeff_list[i]))\n",
        "hamiltonian = SparsePauliOp.from_list(hamiltonian_list)\n",
        "hamiltonian_matrix = hamiltonian.to_matrix()\n",
        "\n",
        "eigenvalue, eigenvector = np.linalg.eig(hamiltonian_matrix)\n",
        "\n",
        "lowest_energy = np.min(eigenvalue)\n",
        "\n",
        "np.real(lowest_energy)"
      ],
      "metadata": {
        "colab": {
          "base_uri": "https://localhost:8080/"
        },
        "id": "DF1a7aGu4fUc",
        "outputId": "a3e13952-4d4a-4e95-f86b-7f8ef834f7ac"
      },
      "execution_count": null,
      "outputs": [
        {
          "output_type": "execute_result",
          "data": {
            "text/plain": [
              "-6.155367074350501"
            ]
          },
          "metadata": {},
          "execution_count": 4
        }
      ]
    },
    {
      "cell_type": "code",
      "source": [
        "interation = 1\n",
        "bias = -1\n",
        "\n",
        "coeff_list = [interation for _ in range(4)] + [bias for _ in range(5)]\n",
        "operator_list = [\"ZZIII\", \"IZZII\", \"IIZZI\", \"IIIZZ\", \"XIIII\", \"IXIII\", \"IIXII\", \"IIIXI\", \"IIIIX\"]\n",
        "hamiltonian_list = []\n",
        "for i in range(9):\n",
        "  hamiltonian_list.append((operator_list[i], coeff_list[i]))\n",
        "hamiltonian = SparsePauliOp.from_list(hamiltonian_list)\n",
        "hamiltonian_matrix = hamiltonian.to_matrix()\n",
        "\n",
        "eigenvalue, eigenvector = np.linalg.eig(hamiltonian_matrix)\n",
        "\n",
        "lowest_energy = np.min(eigenvalue)\n",
        "\n",
        "np.real(lowest_energy)"
      ],
      "metadata": {
        "colab": {
          "base_uri": "https://localhost:8080/"
        },
        "id": "ibnWJRIIS7w8",
        "outputId": "e9badc75-4390-4b90-b9d7-e98aebc185f6"
      },
      "execution_count": null,
      "outputs": [
        {
          "output_type": "execute_result",
          "data": {
            "text/plain": [
              "-6.026674183332294"
            ]
          },
          "metadata": {},
          "execution_count": 5
        }
      ]
    },
    {
      "cell_type": "markdown",
      "source": [
        "# VQE in Exact Simulator (Method 1)\n",
        "\n",
        "quantum_algorithms VQE object"
      ],
      "metadata": {
        "id": "VSK1jKSCkGd3"
      }
    },
    {
      "cell_type": "code",
      "source": [
        "from qiskit.circuit import QuantumCircuit, QuantumRegister, Parameter\n",
        "from qiskit.quantum_info import SparsePauliOp\n",
        "from qiskit.circuit import ParameterVector\n",
        "import numpy as np\n",
        "\n",
        "# Instantiate the system Hamiltonian\n",
        "interation = 1\n",
        "bias = -1\n",
        "\n",
        "coeff_list = [interation for _ in range(4)] + [bias for _ in range(5)]\n",
        "operator_list = [\"ZZIII\", \"IZZII\", \"IIZZI\", \"IIIZZ\", \"XIIII\", \"IXIII\", \"IIXII\", \"IIIXI\", \"IIIIX\"]\n",
        "hamiltonian_list = []\n",
        "for i in range(9):\n",
        "  hamiltonian_list.append((operator_list[i], coeff_list[i]))\n",
        "hamiltonian = SparsePauliOp.from_list(hamiltonian_list)"
      ],
      "metadata": {
        "id": "wyE7E-3fkCwj"
      },
      "execution_count": null,
      "outputs": []
    },
    {
      "cell_type": "code",
      "source": [
        "ansatz = QuantumCircuit(5)\n",
        "params = ParameterVector(\"theta\", length=9)\n",
        "it = iter(params)\n",
        "ansatz.h(range(0,5))\n",
        "\n",
        "ansatz.barrier()\n",
        "\n",
        "ansatz.cx(0, 1)\n",
        "ansatz.cx(2, 3)\n",
        "ansatz.rz(next(it), 1)\n",
        "ansatz.rz(next(it), 3)\n",
        "ansatz.cx(0, 1)\n",
        "ansatz.cx(2, 3)\n",
        "ansatz.cx(1, 2)\n",
        "ansatz.cx(3, 4)\n",
        "ansatz.rz(next(it), 2)\n",
        "ansatz.rz(next(it), 4)\n",
        "ansatz.cx(1, 2)\n",
        "ansatz.cx(3, 4)\n",
        "\n",
        "ansatz.barrier()\n",
        "\n",
        "ansatz.rx(next(it), 0)\n",
        "ansatz.rx(next(it), 1)\n",
        "ansatz.rx(next(it), 2)\n",
        "ansatz.rx(next(it), 3)\n",
        "ansatz.rx(next(it), 4)\n",
        "\n",
        "ansatz.draw(\"mpl\")"
      ],
      "metadata": {
        "colab": {
          "base_uri": "https://localhost:8080/"
        },
        "id": "qt1iKeHukCts",
        "outputId": "ae678bae-e9d6-478f-c8f6-83dbd44487b6"
      },
      "execution_count": null,
      "outputs": [
        {
          "output_type": "execute_result",
          "data": {
            "text/plain": [
              "<Figure size 956.385x451.5 with 1 Axes>"
            ],
            "image/png": "[encoded data removed]"
          },
          "metadata": {},
          "execution_count": 7
        }
      ]
    },
    {
      "cell_type": "code",
      "source": [
        "from qiskit_algorithms.optimizers import CG\n",
        "from qiskit_algorithms import VQE, SamplingVQE\n",
        "from qiskit_algorithms.gradients import LinCombEstimatorGradient\n",
        "from qiskit.primitives import Estimator\n",
        "\n",
        "step_list = np.array([i for i in range(20)])\n",
        "vqe_list = []\n",
        "\n",
        "for max in range(20):\n",
        "\n",
        "  # Conjugate Gradient algorithm\n",
        "  optimizer = CG(maxiter=max)\n",
        "\n",
        "  # Gradient callable\n",
        "  estimator = Estimator()\n",
        "  grad = LinCombEstimatorGradient(estimator)  # optional estimator gradient\n",
        "  vqe = VQE(estimator=estimator, ansatz=ansatz, optimizer=optimizer, gradient=grad)\n",
        "\n",
        "  result = vqe.compute_minimum_eigenvalue(hamiltonian)\n",
        "  vqe_list.append(result.optimal_value)\n",
        "\n",
        "vqe_list = np.array(vqe_list)"
      ],
      "metadata": {
        "id": "_a6qMXM7kbuu"
      },
      "execution_count": null,
      "outputs": []
    },
    {
      "cell_type": "code",
      "source": [
        "import matplotlib.pyplot as plt\n",
        "\n",
        "fig, ax = plt.subplots()\n",
        "ax.plot(step_list, vqe_list)\n",
        "ax.set_xlabel(\"Iterations\")\n",
        "ax.set_ylabel(\"Cost\")\n",
        "plt.draw()"
      ],
      "metadata": {
        "colab": {
          "base_uri": "https://localhost:8080/"
        },
        "id": "6ftUh5K-l4xZ",
        "outputId": "760892c8-1fb9-4939-f9a9-35a9751df3a1"
      },
      "execution_count": null,
      "outputs": [
        {
          "output_type": "display_data",
          "data": {
            "text/plain": [
              "<Figure size 640x480 with 1 Axes>"
            ],
            "image/png": "[encoded data removed]"
          },
          "metadata": {}
        }
      ]
    },
    {
      "cell_type": "markdown",
      "source": [
        "# VQE in Exact Simulator (Method 2)\n",
        "\n",
        "scipy minimize"
      ],
      "metadata": {
        "id": "-WrqU9C2g8fS"
      }
    },
    {
      "cell_type": "markdown",
      "source": [
        "## Function Definition"
      ],
      "metadata": {
        "id": "cmvKiG5U_VJH"
      }
    },
    {
      "cell_type": "code",
      "source": [
        "from qiskit.circuit import QuantumCircuit, QuantumRegister, Parameter\n",
        "from qiskit.quantum_info import SparsePauliOp\n",
        "from qiskit.circuit import ParameterVector\n",
        "from qiskit.primitives import Estimator\n",
        "\n",
        "import numpy as np\n",
        "from scipy.optimize import minimize"
      ],
      "metadata": {
        "id": "rEnUcxZ96kcK"
      },
      "execution_count": null,
      "outputs": []
    },
    {
      "cell_type": "code",
      "source": [
        "# Instantiate the system Hamiltonian\n",
        "interation = 1\n",
        "bias = -1\n",
        "\n",
        "coeff_list = [interation for _ in range(4)] + [bias for _ in range(5)]\n",
        "operator_list = [\"ZZIII\", \"IZZII\", \"IIZZI\", \"IIIZZ\", \"XIIII\", \"IXIII\", \"IIXII\", \"IIIXI\", \"IIIIX\"]\n",
        "hamiltonian_list = []\n",
        "for i in range(9):\n",
        "  hamiltonian_list.append((operator_list[i], coeff_list[i]))\n",
        "hamiltonian = SparsePauliOp.from_list(hamiltonian_list)"
      ],
      "metadata": {
        "id": "KoR-xtSmhIFG"
      },
      "execution_count": null,
      "outputs": []
    },
    {
      "cell_type": "code",
      "source": [
        "# Ansatz\n",
        "\n",
        "ansatz = QuantumCircuit(5)\n",
        "params = ParameterVector(\"theta\", length=9)\n",
        "it = iter(params)\n",
        "ansatz.h(range(0,5))\n",
        "\n",
        "ansatz.barrier()\n",
        "\n",
        "ansatz.cx(0, 1)\n",
        "ansatz.cx(2, 3)\n",
        "ansatz.rz(next(it), 1)\n",
        "ansatz.rz(next(it), 3)\n",
        "ansatz.cx(0, 1)\n",
        "ansatz.cx(2, 3)\n",
        "ansatz.cx(1, 2)\n",
        "ansatz.cx(3, 4)\n",
        "ansatz.rz(next(it), 2)\n",
        "ansatz.rz(next(it), 4)\n",
        "ansatz.cx(1, 2)\n",
        "ansatz.cx(3, 4)\n",
        "\n",
        "ansatz.barrier()\n",
        "\n",
        "ansatz.rx(next(it), 0)\n",
        "ansatz.rx(next(it), 1)\n",
        "ansatz.rx(next(it), 2)\n",
        "ansatz.rx(next(it), 3)\n",
        "ansatz.rx(next(it), 4)\n",
        "\n",
        "ansatz.draw(\"mpl\")"
      ],
      "metadata": {
        "id": "kQizJBKXlHwO",
        "outputId": "22cf96de-1474-4e59-fad0-da7406fde52c",
        "colab": {
          "base_uri": "https://localhost:8080/"
        }
      },
      "execution_count": null,
      "outputs": [
        {
          "output_type": "execute_result",
          "data": {
            "text/plain": [
              "<Figure size 956.385x451.5 with 1 Axes>"
            ],
            "image/png": "[encoded data removed]"
          },
          "metadata": {},
          "execution_count": 12
        }
      ]
    },
    {
      "cell_type": "code",
      "source": [
        "# Estimator\n",
        "\n",
        "estimator = Estimator()"
      ],
      "metadata": {
        "id": "_rBBWOGgTPa3"
      },
      "execution_count": null,
      "outputs": []
    },
    {
      "cell_type": "code",
      "source": [
        "def cost_func_vqe(params, ansatz, hamiltonian, estimator):\n",
        "    cost = estimator.run(ansatz, hamiltonian, parameter_values=params).result()\n",
        "    return cost.values[0]"
      ],
      "metadata": {
        "id": "gUgIPgDjp9Kj"
      },
      "execution_count": null,
      "outputs": []
    },
    {
      "cell_type": "code",
      "source": [
        "def build_callback(ansatz, hamiltonian, estimator, callback_dict):\n",
        "  def callback(current_vector):\n",
        "    callback_dict[\"iters\"] += 1\n",
        "    callback_dict[\"prev_vector\"] = current_vector\n",
        "    current_cost = cost_func_vqe(current_vector, ansatz, hamiltonian, estimator)\n",
        "\n",
        "    callback_dict[\"cost_history\"].append(current_cost)\n",
        "\n",
        "    print(\n",
        "      \"Iters. done: {} [Current cost: {}]\".format(callback_dict[\"iters\"], current_cost),\n",
        "      end=\"\\r\",\n",
        "      flush=True,\n",
        "    )\n",
        "\n",
        "  return callback"
      ],
      "metadata": {
        "id": "OFgXN1F4x-yG"
      },
      "execution_count": null,
      "outputs": []
    },
    {
      "cell_type": "markdown",
      "source": [
        "## Minimizing Method Trial\n",
        "\n",
        "COBYLA, SLSQP, BFGS"
      ],
      "metadata": {
        "id": "lFAqiQXZ_cOm"
      }
    },
    {
      "cell_type": "code",
      "source": [
        "callback_dict = {\n",
        "    \"prev_vector\": None,\n",
        "    \"iters\": 0,\n",
        "    \"cost_history\": [],\n",
        "}\n",
        "\n",
        "np.random.seed(1)\n",
        "x0 = 2 * np.pi * np.random.random(9)\n",
        "\n",
        "x0"
      ],
      "metadata": {
        "id": "fbtJseldyr3r",
        "colab": {
          "base_uri": "https://localhost:8080/"
        },
        "outputId": "68134ba8-4c4c-413b-ddca-ab156db4dd87"
      },
      "execution_count": null,
      "outputs": [
        {
          "output_type": "execute_result",
          "data": {
            "text/plain": [
              "array([2.62022653e+00, 4.52593227e+00, 7.18638172e-04, 1.89961158e+00,\n",
              "       9.22094457e-01, 5.80180502e-01, 1.17030742e+00, 2.17122208e+00,\n",
              "       2.49296356e+00])"
            ]
          },
          "metadata": {},
          "execution_count": 16
        }
      ]
    },
    {
      "cell_type": "code",
      "source": [
        "callback = build_callback(ansatz, hamiltonian, estimator, callback_dict)\n",
        "res = minimize(\n",
        "  cost_func_vqe,\n",
        "  x0,\n",
        "  args=(ansatz, hamiltonian, estimator),\n",
        "  method=\"cobyla\",\n",
        "  callback=callback,\n",
        ")"
      ],
      "metadata": {
        "id": "eBHr-RDPytHr",
        "outputId": "68938897-7569-46da-9631-081ea6420e24",
        "colab": {
          "base_uri": "https://localhost:8080/"
        }
      },
      "execution_count": null,
      "outputs": [
        {
          "output_type": "stream",
          "name": "stdout",
          "text": []
        }
      ]
    },
    {
      "cell_type": "code",
      "source": [
        "res"
      ],
      "metadata": {
        "id": "R97EUoPb1LTW",
        "colab": {
          "base_uri": "https://localhost:8080/"
        },
        "outputId": "5691daf4-f9d8-4438-d5d9-dd38890ae45c"
      },
      "execution_count": null,
      "outputs": [
        {
          "output_type": "execute_result",
          "data": {
            "text/plain": [
              " message: Maximum number of function evaluations has been exceeded.\n",
              " success: False\n",
              "  status: 2\n",
              "     fun: -5.8686873148044505\n",
              "       x: [ 5.837e+00  6.673e+00  3.926e-01  4.467e-01 -9.710e-01\n",
              "            2.544e+00  2.177e+00  2.548e+00  2.166e+00]\n",
              "    nfev: 1000\n",
              "   maxcv: 0.0"
            ]
          },
          "metadata": {},
          "execution_count": 18
        }
      ]
    },
    {
      "cell_type": "code",
      "source": [
        "fig, ax = plt.subplots()\n",
        "ax.plot(range(callback_dict[\"iters\"]), callback_dict[\"cost_history\"])\n",
        "ax.set_xlabel(\"Iterations\")\n",
        "ax.set_ylabel(\"Cost\")\n",
        "plt.draw()"
      ],
      "metadata": {
        "id": "82bVxHG4ytC6",
        "colab": {
          "base_uri": "https://localhost:8080/"
        },
        "outputId": "cf9a82ea-dca6-4058-ea0a-c05d3751595a"
      },
      "execution_count": null,
      "outputs": [
        {
          "output_type": "display_data",
          "data": {
            "text/plain": [
              "<Figure size 640x480 with 1 Axes>"
            ],
            "image/png": "[encoded data removed]"
          },
          "metadata": {}
        }
      ]
    },
    {
      "cell_type": "code",
      "source": [
        "callback_dict = {\n",
        "    \"prev_vector\": None,\n",
        "    \"iters\": 0,\n",
        "    \"cost_history\": [],\n",
        "}\n",
        "\n",
        "np.random.seed(1)\n",
        "x0 = 2 * np.pi * np.random.random(9)\n",
        "\n",
        "x0"
      ],
      "metadata": {
        "id": "wGceDYYRViCC",
        "outputId": "8022d92a-fd73-4cc4-d9f4-49f843775092",
        "colab": {
          "base_uri": "https://localhost:8080/"
        }
      },
      "execution_count": null,
      "outputs": [
        {
          "output_type": "execute_result",
          "data": {
            "text/plain": [
              "array([2.62022653e+00, 4.52593227e+00, 7.18638172e-04, 1.89961158e+00,\n",
              "       9.22094457e-01, 5.80180502e-01, 1.17030742e+00, 2.17122208e+00,\n",
              "       2.49296356e+00])"
            ]
          },
          "metadata": {},
          "execution_count": 20
        }
      ]
    },
    {
      "cell_type": "code",
      "source": [
        "callback = build_callback(ansatz, hamiltonian, estimator, callback_dict)\n",
        "res = minimize(\n",
        "  cost_func_vqe,\n",
        "  x0,\n",
        "  args=(ansatz, hamiltonian, estimator),\n",
        "  method=\"SLSQP\",\n",
        "  callback=callback,\n",
        ")"
      ],
      "metadata": {
        "colab": {
          "base_uri": "https://localhost:8080/"
        },
        "id": "QrUvUrl5-x0W",
        "outputId": "0715c3c3-559a-408e-918a-2603ff3d08a9"
      },
      "execution_count": null,
      "outputs": [
        {
          "output_type": "stream",
          "name": "stdout",
          "text": []
        }
      ]
    },
    {
      "cell_type": "code",
      "source": [
        "res"
      ],
      "metadata": {
        "colab": {
          "base_uri": "https://localhost:8080/"
        },
        "id": "nrAglRWo-xx1",
        "outputId": "a17af1a7-3e29-40ac-84c6-c39df9638a5c"
      },
      "execution_count": null,
      "outputs": [
        {
          "output_type": "execute_result",
          "data": {
            "text/plain": [
              " message: Optimization terminated successfully\n",
              " success: True\n",
              "  status: 0\n",
              "     fun: -5.897229043538905\n",
              "       x: [-4.799e-01  1.296e+01  3.976e-01 -6.763e+00  1.571e+00\n",
              "            4.614e-04 -1.571e+00  7.090e-04  1.570e+00]\n",
              "     nit: 26\n",
              "     jac: [-2.710e-04 -2.074e-04  1.441e-04 -7.761e-05  1.005e-04\n",
              "            1.032e-04  1.562e-05  1.583e-04  4.566e-05]\n",
              "    nfev: 262\n",
              "    njev: 26"
            ]
          },
          "metadata": {},
          "execution_count": 22
        }
      ]
    },
    {
      "cell_type": "code",
      "source": [
        "fig, ax = plt.subplots()\n",
        "ax.plot(range(callback_dict[\"iters\"]), callback_dict[\"cost_history\"])\n",
        "ax.set_xlabel(\"Iterations\")\n",
        "ax.set_ylabel(\"Cost\")\n",
        "plt.draw()"
      ],
      "metadata": {
        "colab": {
          "base_uri": "https://localhost:8080/"
        },
        "id": "Lc35_4Ua-xvO",
        "outputId": "a9bc89e6-8a1e-4799-88e7-db55ec7ae851"
      },
      "execution_count": null,
      "outputs": [
        {
          "output_type": "display_data",
          "data": {
            "text/plain": [
              "<Figure size 640x480 with 1 Axes>"
            ],
            "image/png": "[encoded data removed]"
          },
          "metadata": {}
        }
      ]
    },
    {
      "cell_type": "code",
      "source": [
        "callback_dict = {\n",
        "    \"prev_vector\": None,\n",
        "    \"iters\": 0,\n",
        "    \"cost_history\": [],\n",
        "}\n",
        "\n",
        "np.random.seed(1)\n",
        "x0 = 2 * np.pi * np.random.random(9)\n",
        "\n",
        "x0"
      ],
      "metadata": {
        "id": "jNjnRE8iVjAQ",
        "outputId": "2d9a3d69-c541-40fe-e1bc-a4efc98adff1",
        "colab": {
          "base_uri": "https://localhost:8080/"
        }
      },
      "execution_count": null,
      "outputs": [
        {
          "output_type": "execute_result",
          "data": {
            "text/plain": [
              "array([2.62022653e+00, 4.52593227e+00, 7.18638172e-04, 1.89961158e+00,\n",
              "       9.22094457e-01, 5.80180502e-01, 1.17030742e+00, 2.17122208e+00,\n",
              "       2.49296356e+00])"
            ]
          },
          "metadata": {},
          "execution_count": 24
        }
      ]
    },
    {
      "cell_type": "code",
      "source": [
        "callback = build_callback(ansatz, hamiltonian, estimator, callback_dict)\n",
        "res = minimize(\n",
        "  cost_func_vqe,\n",
        "  x0,\n",
        "  args=(ansatz, hamiltonian, estimator),\n",
        "  method=\"BFGS\",\n",
        "  callback=callback,\n",
        ")"
      ],
      "metadata": {
        "colab": {
          "base_uri": "https://localhost:8080/"
        },
        "id": "5Io-qjDm-xse",
        "outputId": "fcf507b9-2c32-4246-b22d-d1fb49009e58"
      },
      "execution_count": null,
      "outputs": [
        {
          "output_type": "stream",
          "name": "stdout",
          "text": []
        }
      ]
    },
    {
      "cell_type": "code",
      "source": [
        "res"
      ],
      "metadata": {
        "colab": {
          "base_uri": "https://localhost:8080/"
        },
        "id": "2qADZIJl-xpv",
        "outputId": "792b83d5-073c-40d8-cfe0-6f3ad6eb9af8"
      },
      "execution_count": null,
      "outputs": [
        {
          "output_type": "execute_result",
          "data": {
            "text/plain": [
              "  message: Optimization terminated successfully.\n",
              "  success: True\n",
              "   status: 0\n",
              "      fun: -5.8972291332413995\n",
              "        x: [ 4.797e-01 -3.975e-01  6.681e+00  5.803e+00 -4.712e+00\n",
              "             3.142e+00  1.571e+00 -1.721e-05  1.571e+00]\n",
              "      nit: 28\n",
              "      jac: [ 8.702e-06 -5.484e-06 -6.437e-06  4.053e-06  4.768e-07\n",
              "            -3.338e-06 -5.245e-06 -2.384e-06  2.146e-06]\n",
              " hess_inv: [[ 4.495e-01  2.533e-02 ...  4.487e-02 -1.532e-01]\n",
              "            [ 2.533e-02  4.622e-01 ... -7.152e-02  1.585e-01]\n",
              "            ...\n",
              "            [ 4.487e-02 -7.152e-02 ...  6.177e+00 -5.512e+00]\n",
              "            [-1.532e-01  1.585e-01 ... -5.512e+00  6.966e+00]]\n",
              "     nfev: 340\n",
              "     njev: 34"
            ]
          },
          "metadata": {},
          "execution_count": 26
        }
      ]
    },
    {
      "cell_type": "code",
      "source": [
        "fig, ax = plt.subplots()\n",
        "ax.plot(range(callback_dict[\"iters\"]), callback_dict[\"cost_history\"])\n",
        "ax.set_xlabel(\"Iterations\")\n",
        "ax.set_ylabel(\"Cost\")\n",
        "plt.draw()"
      ],
      "metadata": {
        "colab": {
          "base_uri": "https://localhost:8080/"
        },
        "id": "ABWxbu4J-xm-",
        "outputId": "eb73a22a-44eb-4bde-cb9e-ef4ee580c76c"
      },
      "execution_count": null,
      "outputs": [
        {
          "output_type": "display_data",
          "data": {
            "text/plain": [
              "<Figure size 640x480 with 1 Axes>"
            ],
            "image/png": "[encoded data removed]"
          },
          "metadata": {}
        }
      ]
    },
    {
      "cell_type": "markdown",
      "source": [
        "## Finding Seed of np.random.seed"
      ],
      "metadata": {
        "id": "8M8wfGCy_Pj5"
      }
    },
    {
      "cell_type": "code",
      "source": [
        "local_minimum_list = []\n",
        "seed_list = []\n",
        "k = 0\n",
        "\n",
        "while (len(seed_list)<120) :\n",
        "\n",
        "  callback_dict = {\n",
        "    \"prev_vector\": None,\n",
        "    \"iters\": 0,\n",
        "    \"cost_history\": [],\n",
        "  }\n",
        "\n",
        "  np.random.seed(k)\n",
        "  x0 = 2 * np.pi * np.random.random(9)\n",
        "\n",
        "  callback = build_callback(ansatz, hamiltonian, estimator, callback_dict)\n",
        "\n",
        "  options = dict()\n",
        "  options[\"maxiter\"] = 400\n",
        "  options[\"disp\"] = True\n",
        "\n",
        "  res = minimize(\n",
        "    cost_func_vqe,\n",
        "    x0,\n",
        "    args=(ansatz, hamiltonian, estimator),\n",
        "    method=\"cobyla\",\n",
        "    callback=callback,\n",
        "    options=options\n",
        "  )\n",
        "\n",
        "  local_minimum_dict = callback_dict[\"cost_history\"]\n",
        "  local_minimum_list.append(local_minimum_dict[-1])\n",
        "\n",
        "  if local_minimum_dict[-1] < -5 :\n",
        "    seed_list.append(k)\n",
        "\n",
        "  k = k + 1\n",
        "\n",
        "\n",
        "local_minimum_list = np.array(local_minimum_list)\n",
        "seed_list = np.array(seed_list)"
      ],
      "metadata": {
        "colab": {
          "base_uri": "https://localhost:8080/"
        },
        "id": "Omx12cth_XfI",
        "outputId": "1b044e16-fb7b-4f1f-866b-a0e3e298342e"
      },
      "execution_count": null,
      "outputs": [
        {
          "output_type": "stream",
          "name": "stdout",
          "text": []
        }
      ]
    },
    {
      "cell_type": "code",
      "source": [
        "local_minimum_list"
      ],
      "metadata": {
        "colab": {
          "base_uri": "https://localhost:8080/"
        },
        "id": "PPS53ID4A6Ln",
        "outputId": "bc5e799d-1ec8-4c0d-bae7-22aa519f829f"
      },
      "execution_count": null,
      "outputs": [
        {
          "output_type": "execute_result",
          "data": {
            "text/plain": [
              "array([-3.64352019, -5.82879886, -3.64352019, -3.64352019, -5.89649831,\n",
              "       -5.89460313, -5.87216999, -5.89714665, -5.8970116 , -3.64352019,\n",
              "       -5.82318112, -5.88723766, -5.87906279, -5.89633351, -5.89712631,\n",
              "       -5.89706667, -3.64352018, -5.89640049, -5.89686096, -5.84344741,\n",
              "       -5.89722894, -5.89514208, -3.64352019, -5.89722285, -5.89281514,\n",
              "       -5.8954058 , -3.64352018, -5.89660128, -5.89722463, -5.8262015 ,\n",
              "       -5.89560605, -5.83363386, -3.64352019, -3.64352019, -5.87957003,\n",
              "       -3.64352019, -5.82656423, -5.89196626, -5.82341307, -5.8972198 ,\n",
              "       -5.82579769, -5.89274968, -5.89058962, -5.89571965, -5.89121954,\n",
              "       -5.89066143, -5.89556185, -5.8294686 , -5.89500158, -5.88381387,\n",
              "       -3.64352019, -5.89720651, -5.86661138, -3.57102188, -3.00057907,\n",
              "       -5.89703354, -5.8971071 , -3.26759188, -3.64348142, -5.89488588,\n",
              "       -3.64351983, -5.88977925, -3.64208323, -5.89321505, -3.48455584,\n",
              "       -5.89655454, -5.89722776, -5.89703659, -5.8961525 , -5.89248345,\n",
              "       -5.89678098, -5.89358845, -3.64352019, -3.64352018, -5.82619791,\n",
              "       -5.88964449, -5.89599961, -5.89636862, -5.87624267, -3.64352018,\n",
              "       -3.64352019, -5.89717557, -3.64352019, -3.49885124, -3.64352019,\n",
              "       -3.61958171, -5.89514411, -5.83231881, -3.64352019, -3.64352019,\n",
              "       -5.89722489, -3.6435202 , -3.64352019, -5.89417956, -3.64352018,\n",
              "       -5.86522879, -5.89603463, -5.82299708, -3.64352018, -5.89690459,\n",
              "       -3.64352019, -5.89513546, -5.88945447, -5.89701515, -5.89144585,\n",
              "       -5.89279627, -5.89577581, -5.836521  , -5.88388422, -3.4930488 ,\n",
              "       -5.89711739, -5.84467668, -5.89351984, -5.89512836, -5.89677164,\n",
              "       -5.87800257, -5.88000114, -3.64352019, -5.83970428, -5.88410124,\n",
              "       -3.64352018, -5.86785946, -3.64352019, -3.50030344, -5.8962536 ,\n",
              "       -5.89717338, -5.84988649, -5.892418  , -5.88143104, -3.64352019,\n",
              "       -4.61751404, -5.89473968, -5.89702307, -5.85915542, -3.64352019,\n",
              "       -5.89705331, -5.89717653, -5.89196071, -5.89641764, -5.88954192,\n",
              "       -5.89643247, -5.87526326, -5.87665054, -3.64352018, -5.89114796,\n",
              "       -3.64352019, -3.61644449, -5.89216479, -5.89659767, -5.82367041,\n",
              "       -5.89716998, -5.87167894, -5.89713761, -3.64316007, -5.89381185,\n",
              "       -5.84994722, -3.64352018, -5.87792315, -3.6435189 , -3.64352018,\n",
              "       -3.64352019, -3.64352019, -5.84570272, -3.64352019, -3.4977149 ,\n",
              "       -5.89480458, -5.8589973 , -3.64352019, -3.56015325, -5.8952731 ,\n",
              "       -3.64352019, -5.89601665, -5.88907325, -3.5040473 , -5.89514313,\n",
              "       -3.64352019, -3.64352018, -5.89343759])"
            ]
          },
          "metadata": {},
          "execution_count": 29
        }
      ]
    },
    {
      "cell_type": "code",
      "source": [
        "seed_list"
      ],
      "metadata": {
        "colab": {
          "base_uri": "https://localhost:8080/"
        },
        "id": "6FDN7Lu_A5zX",
        "outputId": "6d57b151-90fb-42bd-be79-ba0bb9c20f8e"
      },
      "execution_count": null,
      "outputs": [
        {
          "output_type": "execute_result",
          "data": {
            "text/plain": [
              "array([  1,   4,   5,   6,   7,   8,  10,  11,  12,  13,  14,  15,  17,\n",
              "        18,  19,  20,  21,  23,  24,  25,  27,  28,  29,  30,  31,  34,\n",
              "        36,  37,  38,  39,  40,  41,  42,  43,  44,  45,  46,  47,  48,\n",
              "        49,  51,  52,  55,  56,  59,  61,  63,  65,  66,  67,  68,  69,\n",
              "        70,  71,  74,  75,  76,  77,  78,  81,  86,  87,  90,  93,  95,\n",
              "        96,  97,  99, 101, 102, 103, 104, 105, 106, 107, 108, 110, 111,\n",
              "       112, 113, 114, 115, 116, 118, 119, 121, 124, 125, 126, 127, 128,\n",
              "       131, 132, 133, 135, 136, 137, 138, 139, 140, 141, 142, 144, 147,\n",
              "       148, 149, 150, 151, 152, 154, 155, 157, 162, 165, 166, 169, 171,\n",
              "       172, 174, 177])"
            ]
          },
          "metadata": {},
          "execution_count": 30
        }
      ]
    },
    {
      "cell_type": "markdown",
      "source": [
        "# VQE in Noisy Simulator (Trial)\n",
        "\n",
        "scipy minimize method trial (\"cobyla\", \"bfsd\", \"slsqp\")"
      ],
      "metadata": {
        "id": "WfhzQg3PCqTU"
      }
    },
    {
      "cell_type": "markdown",
      "source": [
        "## Function Definition"
      ],
      "metadata": {
        "id": "VscAJ2CtCqTk"
      }
    },
    {
      "cell_type": "code",
      "source": [
        "from qiskit.circuit import QuantumCircuit, QuantumRegister, Parameter\n",
        "from qiskit.visualization import plot_histogram\n",
        "from qiskit.quantum_info import SparsePauliOp\n",
        "from qiskit.circuit import ParameterVector\n",
        "from qiskit_aer.primitives import Estimator\n",
        "\n",
        "import numpy as np\n",
        "from scipy.optimize import minimize\n",
        "import matplotlib.pyplot as plt\n",
        "\n",
        "# Import from Qiskit Aer noise module\n",
        "from qiskit_aer.noise import (\n",
        "    NoiseModel,\n",
        "    QuantumError,\n",
        "    ReadoutError,\n",
        "    depolarizing_error,\n",
        "    pauli_error,\n",
        "    thermal_relaxation_error,\n",
        ")"
      ],
      "metadata": {
        "id": "rDaiPP25CqTk"
      },
      "execution_count": null,
      "outputs": []
    },
    {
      "cell_type": "code",
      "source": [
        "# Instantiate the system Hamiltonian\n",
        "interation = 1\n",
        "bias = -1\n",
        "\n",
        "coeff_list = [interation for _ in range(4)] + [bias for _ in range(5)]\n",
        "operator_list = [\"ZZIII\", \"IZZII\", \"IIZZI\", \"IIIZZ\", \"XIIII\", \"IXIII\", \"IIXII\", \"IIIXI\", \"IIIIX\"]\n",
        "hamiltonian_list = []\n",
        "for i in range(9):\n",
        "  hamiltonian_list.append((operator_list[i], coeff_list[i]))\n",
        "hamiltonian = SparsePauliOp.from_list(hamiltonian_list)"
      ],
      "metadata": {
        "id": "I1WUYRxECqTl"
      },
      "execution_count": null,
      "outputs": []
    },
    {
      "cell_type": "code",
      "source": [
        "# Ansatz\n",
        "\n",
        "ansatz = QuantumCircuit(5)\n",
        "params = ParameterVector(\"theta\", length=9)\n",
        "it = iter(params)\n",
        "ansatz.h(range(0,5))\n",
        "\n",
        "ansatz.barrier()\n",
        "\n",
        "ansatz.cx(0, 1)\n",
        "ansatz.cx(2, 3)\n",
        "ansatz.rz(next(it), 1)\n",
        "ansatz.rz(next(it), 3)\n",
        "ansatz.cx(0, 1)\n",
        "ansatz.cx(2, 3)\n",
        "ansatz.cx(1, 2)\n",
        "ansatz.cx(3, 4)\n",
        "ansatz.rz(next(it), 2)\n",
        "ansatz.rz(next(it), 4)\n",
        "ansatz.cx(1, 2)\n",
        "ansatz.cx(3, 4)\n",
        "\n",
        "ansatz.barrier()\n",
        "\n",
        "ansatz.rx(next(it), 0)\n",
        "ansatz.rx(next(it), 1)\n",
        "ansatz.rx(next(it), 2)\n",
        "ansatz.rx(next(it), 3)\n",
        "ansatz.rx(next(it), 4)\n",
        "\n",
        "ansatz.draw(\"mpl\")"
      ],
      "metadata": {
        "outputId": "75c1ac60-58f4-4bee-d147-70fc5f90cc54",
        "colab": {
          "base_uri": "https://localhost:8080/"
        },
        "id": "42jLcycaCqTl"
      },
      "execution_count": null,
      "outputs": [
        {
          "output_type": "execute_result",
          "data": {
            "text/plain": [
              "<Figure size 956.385x451.5 with 1 Axes>"
            ],
            "image/png": "[encoded data removed]"
          },
          "metadata": {},
          "execution_count": 33
        }
      ]
    },
    {
      "cell_type": "code",
      "source": [
        "noise_model = NoiseModel()\n",
        "\n",
        "# Example error probabilities\n",
        "p_reset = 0.03\n",
        "p_meas = 0.1\n",
        "p_gate1 = 0.05\n",
        "cx_depolarizing_prob = 0.02\n",
        "\n",
        "\n",
        "# QuantumError objects\n",
        "error_reset = pauli_error([('X', p_reset), ('I', 1 - p_reset)])\n",
        "error_meas = pauli_error([('X',p_meas), ('I', 1 - p_meas)])\n",
        "error_gate1 = pauli_error([('X',p_gate1), ('I', 1 - p_gate1)])\n",
        "error_gate2 = error_gate1.tensor(error_gate1)\n",
        "\n",
        "noise_model.add_all_qubit_quantum_error(error_reset, \"reset\")\n",
        "noise_model.add_all_qubit_quantum_error(error_meas, \"measure\")\n",
        "noise_model.add_all_qubit_quantum_error(error_gate1, [\"u1\", \"u2\", \"u3\"])\n",
        "noise_model.add_all_qubit_quantum_error(error_gate2, [\"cx\"])\n",
        "noise_model.add_all_qubit_quantum_error(depolarizing_error(cx_depolarizing_prob, 2), [\"cx\"])\n",
        "\n",
        "\n",
        "estimator = Estimator(backend_options={\"noise_model\": noise_model}, skip_transpilation=True)\n",
        "\n",
        "print(noise_model)"
      ],
      "metadata": {
        "colab": {
          "base_uri": "https://localhost:8080/"
        },
        "id": "Yym2umjKneTs",
        "outputId": "71be9426-0491-46fd-c1c1-99585f63f77a"
      },
      "execution_count": null,
      "outputs": [
        {
          "output_type": "stream",
          "name": "stderr",
          "text": [
            "WARNING:qiskit_aer.noise.noise_model:WARNING: all-qubit error already exists for instruction \"cx\", composing with additional error.\n"
          ]
        },
        {
          "output_type": "stream",
          "name": "stdout",
          "text": [
            "NoiseModel:\n",
            "  Basis gates: ['cx', 'id', 'rz', 'sx', 'u1', 'u2', 'u3']\n",
            "  Instructions with noise: ['u3', 'cx', 'measure', 'u1', 'reset', 'u2']\n",
            "  All-qubits errors: ['reset', 'measure', 'u1', 'u2', 'u3', 'cx']\n"
          ]
        }
      ]
    },
    {
      "cell_type": "code",
      "source": [
        "def cost_func_vqe(params, ansatz, hamiltonian, estimator):\n",
        "    cost = estimator.run(ansatz, hamiltonian, parameter_values=params).result()\n",
        "    return cost.values[0]"
      ],
      "metadata": {
        "id": "NcaL4PZ7CqTl"
      },
      "execution_count": null,
      "outputs": []
    },
    {
      "cell_type": "code",
      "source": [
        "def build_callback(ansatz, hamiltonian, estimator, callback_dict):\n",
        "  def callback(current_vector):\n",
        "    callback_dict[\"iters\"] += 1\n",
        "    callback_dict[\"prev_vector\"] = current_vector\n",
        "    current_cost = cost_func_vqe(current_vector, ansatz, hamiltonian, estimator)\n",
        "\n",
        "    callback_dict[\"cost_history\"].append(current_cost)\n",
        "\n",
        "    print(\n",
        "      \"Iters. done: {} [Current cost: {}]\".format(callback_dict[\"iters\"], current_cost),\n",
        "      end=\"\\r\",\n",
        "      flush=True,\n",
        "    )\n",
        "\n",
        "  return callback"
      ],
      "metadata": {
        "id": "3067SIwuCqTm"
      },
      "execution_count": null,
      "outputs": []
    },
    {
      "cell_type": "markdown",
      "source": [
        "## Minimizing Method Trial\n",
        "\n",
        "COBYLA, SLSQP, BFGS"
      ],
      "metadata": {
        "id": "TI3b6_gbCqTm"
      }
    },
    {
      "cell_type": "code",
      "source": [
        "callback_dict = {\n",
        "    \"prev_vector\": None,\n",
        "    \"iters\": 0,\n",
        "    \"cost_history\": [],\n",
        "}\n",
        "\n",
        "np.random.seed(5)\n",
        "x0 = 2 * np.pi * np.random.random(9)\n",
        "\n",
        "x0"
      ],
      "metadata": {
        "colab": {
          "base_uri": "https://localhost:8080/"
        },
        "outputId": "75c49180-c6b2-4da1-b500-fa50f4d0b825",
        "id": "QCNtUQ4rCqTm"
      },
      "execution_count": null,
      "outputs": [
        {
          "output_type": "execute_result",
          "data": {
            "text/plain": [
              "array([1.39482423, 5.47097243, 1.29885476, 5.77180256, 3.06877801,\n",
              "       3.84370005, 4.81234099, 3.25731628, 1.86485255])"
            ]
          },
          "metadata": {},
          "execution_count": 37
        }
      ]
    },
    {
      "cell_type": "code",
      "source": [
        "callback = build_callback(ansatz, hamiltonian, estimator, callback_dict)\n",
        "res = minimize(\n",
        "  cost_func_vqe,\n",
        "  x0,\n",
        "  args=(ansatz, hamiltonian, estimator),\n",
        "  method=\"cobyla\",\n",
        "  callback=callback,\n",
        ")"
      ],
      "metadata": {
        "outputId": "13d6e649-b66f-4b63-9c68-5a83f9ba6d72",
        "colab": {
          "base_uri": "https://localhost:8080/"
        },
        "id": "GXLbveKeCqTm"
      },
      "execution_count": null,
      "outputs": [
        {
          "output_type": "stream",
          "name": "stdout",
          "text": []
        }
      ]
    },
    {
      "cell_type": "code",
      "source": [
        "res"
      ],
      "metadata": {
        "colab": {
          "base_uri": "https://localhost:8080/"
        },
        "outputId": "9c51979e-c805-4901-d5f4-9b29919466a3",
        "id": "et-qu-ByCqTn"
      },
      "execution_count": null,
      "outputs": [
        {
          "output_type": "execute_result",
          "data": {
            "text/plain": [
              " message: Optimization terminated successfully.\n",
              " success: True\n",
              "  status: 1\n",
              "     fun: -3.833984375\n",
              "       x: [-1.772e-01  6.251e+00  4.286e-01  6.645e+00  2.471e+00\n",
              "            5.300e+00  5.802e+00  2.812e+00  1.528e+00]\n",
              "    nfev: 105\n",
              "   maxcv: 0.0"
            ]
          },
          "metadata": {},
          "execution_count": 39
        }
      ]
    },
    {
      "cell_type": "code",
      "source": [
        "fig, ax = plt.subplots()\n",
        "ax.plot(range(callback_dict[\"iters\"]), callback_dict[\"cost_history\"])\n",
        "ax.set_xlabel(\"Iterations\")\n",
        "ax.set_ylabel(\"Cost\")\n",
        "plt.draw()"
      ],
      "metadata": {
        "colab": {
          "base_uri": "https://localhost:8080/"
        },
        "outputId": "e7803ac8-d2c3-4ef2-ab00-b67758eaf67e",
        "id": "Et5hyxADCqTn"
      },
      "execution_count": null,
      "outputs": [
        {
          "output_type": "display_data",
          "data": {
            "text/plain": [
              "<Figure size 640x480 with 1 Axes>"
            ],
            "image/png": "[encoded data removed]"
          },
          "metadata": {}
        }
      ]
    },
    {
      "cell_type": "code",
      "source": [
        "callback_dict = {\n",
        "    \"prev_vector\": None,\n",
        "    \"iters\": 0,\n",
        "    \"cost_history\": [],\n",
        "}\n",
        "\n",
        "np.random.seed(1)\n",
        "x0 = 2 * np.pi * np.random.random(9)\n",
        "\n",
        "x0"
      ],
      "metadata": {
        "outputId": "7e721985-d3af-4dfc-fe29-fd261ac9c592",
        "colab": {
          "base_uri": "https://localhost:8080/"
        },
        "id": "u1cTZsT_CqTn"
      },
      "execution_count": null,
      "outputs": [
        {
          "output_type": "execute_result",
          "data": {
            "text/plain": [
              "array([2.62022653e+00, 4.52593227e+00, 7.18638172e-04, 1.89961158e+00,\n",
              "       9.22094457e-01, 5.80180502e-01, 1.17030742e+00, 2.17122208e+00,\n",
              "       2.49296356e+00])"
            ]
          },
          "metadata": {},
          "execution_count": 41
        }
      ]
    },
    {
      "cell_type": "code",
      "source": [
        "callback = build_callback(ansatz, hamiltonian, estimator, callback_dict)\n",
        "res = minimize(\n",
        "  cost_func_vqe,\n",
        "  x0,\n",
        "  args=(ansatz, hamiltonian, estimator),\n",
        "  method=\"SLSQP\",\n",
        "  callback=callback,\n",
        ")"
      ],
      "metadata": {
        "colab": {
          "base_uri": "https://localhost:8080/"
        },
        "outputId": "6c7a4a52-85cf-4d0e-e7e9-5d2178acea8e",
        "id": "_2znnR0aCqTo"
      },
      "execution_count": null,
      "outputs": [
        {
          "output_type": "stream",
          "name": "stdout",
          "text": []
        }
      ]
    },
    {
      "cell_type": "code",
      "source": [
        "res"
      ],
      "metadata": {
        "colab": {
          "base_uri": "https://localhost:8080/"
        },
        "outputId": "26536882-100c-49e3-9230-62ec0f0cacb0",
        "id": "8pfFKqcuCqTo"
      },
      "execution_count": null,
      "outputs": [
        {
          "output_type": "execute_result",
          "data": {
            "text/plain": [
              " message: Optimization terminated successfully\n",
              " success: True\n",
              "  status: 0\n",
              "     fun: -0.490234375\n",
              "       x: [-7.691e+05  9.834e+06  1.536e+07 -5.090e+06 -1.904e+07\n",
              "            3.058e+07  2.420e+07 -1.903e+07  1.292e+07]\n",
              "     nit: 46\n",
              "     jac: [ 1.717e+07  7.602e+06  1.075e+07  1.363e+07  1.337e+07\n",
              "            1.206e+07  1.901e+07  1.049e+07  1.835e+06]\n",
              "    nfev: 921\n",
              "    njev: 46"
            ]
          },
          "metadata": {},
          "execution_count": 43
        }
      ]
    },
    {
      "cell_type": "code",
      "source": [
        "fig, ax = plt.subplots()\n",
        "ax.plot(range(callback_dict[\"iters\"]), callback_dict[\"cost_history\"])\n",
        "ax.set_xlabel(\"Iterations\")\n",
        "ax.set_ylabel(\"Cost\")\n",
        "plt.draw()"
      ],
      "metadata": {
        "colab": {
          "base_uri": "https://localhost:8080/"
        },
        "outputId": "981450b4-99cc-480a-f874-9316aabfd664",
        "id": "Jga1_SRvCqTo"
      },
      "execution_count": null,
      "outputs": [
        {
          "output_type": "display_data",
          "data": {
            "text/plain": [
              "<Figure size 640x480 with 1 Axes>"
            ],
            "image/png": "[encoded data removed]"
          },
          "metadata": {}
        }
      ]
    },
    {
      "cell_type": "code",
      "source": [
        "callback_dict = {\n",
        "    \"prev_vector\": None,\n",
        "    \"iters\": 0,\n",
        "    \"cost_history\": [],\n",
        "}\n",
        "\n",
        "np.random.seed(1)\n",
        "x0 = 2 * np.pi * np.random.random(9)\n",
        "\n",
        "x0"
      ],
      "metadata": {
        "outputId": "310fa3dc-3cfc-4b3c-deb2-439fdfb662a3",
        "colab": {
          "base_uri": "https://localhost:8080/"
        },
        "id": "ulcDk_aTCqTo"
      },
      "execution_count": null,
      "outputs": [
        {
          "output_type": "execute_result",
          "data": {
            "text/plain": [
              "array([2.62022653e+00, 4.52593227e+00, 7.18638172e-04, 1.89961158e+00,\n",
              "       9.22094457e-01, 5.80180502e-01, 1.17030742e+00, 2.17122208e+00,\n",
              "       2.49296356e+00])"
            ]
          },
          "metadata": {},
          "execution_count": 45
        }
      ]
    },
    {
      "cell_type": "code",
      "source": [
        "callback = build_callback(ansatz, hamiltonian, estimator, callback_dict)\n",
        "res = minimize(\n",
        "  cost_func_vqe,\n",
        "  x0,\n",
        "  args=(ansatz, hamiltonian, estimator),\n",
        "  method=\"BFGS\",\n",
        "  callback=callback,\n",
        ")"
      ],
      "metadata": {
        "colab": {
          "base_uri": "https://localhost:8080/"
        },
        "outputId": "dc153044-624d-4268-df7f-2aeaf507f389",
        "id": "RQAJILMKCqTp"
      },
      "execution_count": null,
      "outputs": [
        {
          "output_type": "stream",
          "name": "stdout",
          "text": [
            "Iters. done: 1 [Current cost: 1.951171875]\r"
          ]
        }
      ]
    },
    {
      "cell_type": "code",
      "source": [
        "res"
      ],
      "metadata": {
        "colab": {
          "base_uri": "https://localhost:8080/"
        },
        "outputId": "fd9066dc-6725-4264-f136-fd15d8a86820",
        "id": "yQJvT2dwCqTp"
      },
      "execution_count": null,
      "outputs": [
        {
          "output_type": "execute_result",
          "data": {
            "text/plain": [
              "  message: Desired error not necessarily achieved due to precision loss.\n",
              "  success: False\n",
              "   status: 2\n",
              "      fun: 1.837890625\n",
              "        x: [ 2.620e+00  4.526e+00  7.186e-04  1.900e+00  9.221e-01\n",
              "             5.802e-01  1.170e+00  2.171e+00  2.493e+00]\n",
              "      nit: 1\n",
              "      jac: [ 5.898e+06 -7.995e+06  1.324e+07  7.340e+06  3.932e+06\n",
              "             4.063e+06 -1.835e+06 -9.961e+06  1.704e+06]\n",
              " hess_inv: [[ 1.219e+00 -9.976e-03 ...  1.791e-02  1.384e-01]\n",
              "            [-9.976e-03  7.765e-01 ... -3.035e-01 -6.494e-02]\n",
              "            ...\n",
              "            [ 1.791e-02 -3.035e-01 ...  5.923e-01 -6.794e-02]\n",
              "            [ 1.384e-01 -6.494e-02 ... -6.794e-02  1.072e+00]]\n",
              "     nfev: 221\n",
              "     njev: 21"
            ]
          },
          "metadata": {},
          "execution_count": 47
        }
      ]
    },
    {
      "cell_type": "code",
      "source": [
        "fig, ax = plt.subplots()\n",
        "ax.plot(range(callback_dict[\"iters\"]), callback_dict[\"cost_history\"])\n",
        "ax.set_xlabel(\"Iterations\")\n",
        "ax.set_ylabel(\"Cost\")\n",
        "plt.draw()"
      ],
      "metadata": {
        "colab": {
          "base_uri": "https://localhost:8080/"
        },
        "outputId": "cfe1a000-1090-4db2-c27a-974c695c851e",
        "id": "8Oihe4XYCqTp"
      },
      "execution_count": null,
      "outputs": [
        {
          "output_type": "display_data",
          "data": {
            "text/plain": [
              "<Figure size 640x480 with 1 Axes>"
            ],
            "image/png": "[encoded data removed]"
          },
          "metadata": {}
        }
      ]
    },
    {
      "cell_type": "markdown",
      "source": [
        "# VQE in Noisy Simulator (Various types of error)\n",
        "\n",
        "scipy minimize method \"cobyla\""
      ],
      "metadata": {
        "id": "5H0hTHhSFjKV"
      }
    },
    {
      "cell_type": "markdown",
      "source": [
        "## Function Setting"
      ],
      "metadata": {
        "id": "LE_cJDJqLLeq"
      }
    },
    {
      "cell_type": "code",
      "source": [
        "from qiskit.circuit import QuantumCircuit, QuantumRegister, Parameter\n",
        "from qiskit.visualization import plot_histogram\n",
        "from qiskit.quantum_info import SparsePauliOp\n",
        "from qiskit.circuit import ParameterVector\n",
        "from qiskit_aer.primitives import Estimator\n",
        "\n",
        "import numpy as np\n",
        "from scipy.optimize import minimize\n",
        "import matplotlib.pyplot as plt\n",
        "\n",
        "# Import from Qiskit Aer noise module\n",
        "from qiskit_aer.noise import (\n",
        "    NoiseModel,\n",
        "    QuantumError,\n",
        "    ReadoutError,\n",
        "    depolarizing_error,\n",
        "    pauli_error,\n",
        "    thermal_relaxation_error,\n",
        ")"
      ],
      "metadata": {
        "id": "LkL3pqVyLPJE"
      },
      "execution_count": null,
      "outputs": []
    },
    {
      "cell_type": "code",
      "source": [
        "# Instantiate the system Hamiltonian\n",
        "interation = 1\n",
        "bias = -1\n",
        "\n",
        "coeff_list = [interation for _ in range(4)] + [bias for _ in range(5)]\n",
        "operator_list = [\"ZZIII\", \"IZZII\", \"IIZZI\", \"IIIZZ\", \"XIIII\", \"IXIII\", \"IIXII\", \"IIIXI\", \"IIIIX\"]\n",
        "hamiltonian_list = []\n",
        "for i in range(9):\n",
        "  hamiltonian_list.append((operator_list[i], coeff_list[i]))\n",
        "hamiltonian = SparsePauliOp.from_list(hamiltonian_list)"
      ],
      "metadata": {
        "id": "zK6fuZ3-LPGf"
      },
      "execution_count": null,
      "outputs": []
    },
    {
      "cell_type": "code",
      "source": [
        "# Ansatz\n",
        "\n",
        "ansatz = QuantumCircuit(5)\n",
        "params = ParameterVector(\"theta\", length=9)\n",
        "it = iter(params)\n",
        "ansatz.h(range(0,5))\n",
        "\n",
        "ansatz.barrier()\n",
        "\n",
        "ansatz.cx(0, 1)\n",
        "ansatz.cx(2, 3)\n",
        "ansatz.rz(next(it), 1)\n",
        "ansatz.rz(next(it), 3)\n",
        "ansatz.cx(0, 1)\n",
        "ansatz.cx(2, 3)\n",
        "ansatz.cx(1, 2)\n",
        "ansatz.cx(3, 4)\n",
        "ansatz.rz(next(it), 2)\n",
        "ansatz.rz(next(it), 4)\n",
        "ansatz.cx(1, 2)\n",
        "ansatz.cx(3, 4)\n",
        "\n",
        "ansatz.barrier()\n",
        "\n",
        "ansatz.rx(next(it), 0)\n",
        "ansatz.rx(next(it), 1)\n",
        "ansatz.rx(next(it), 2)\n",
        "ansatz.rx(next(it), 3)\n",
        "ansatz.rx(next(it), 4)\n",
        "\n",
        "ansatz.draw(\"mpl\")"
      ],
      "metadata": {
        "colab": {
          "base_uri": "https://localhost:8080/"
        },
        "id": "JtIzciKXLPDw",
        "outputId": "82c535fe-00eb-43d1-bf56-c998695d46c2"
      },
      "execution_count": null,
      "outputs": [
        {
          "output_type": "execute_result",
          "data": {
            "text/plain": [
              "<Figure size 956.385x451.5 with 1 Axes>"
            ],
            "image/png": "[encoded data removed]"
          },
          "metadata": {},
          "execution_count": 106
        }
      ]
    },
    {
      "cell_type": "code",
      "source": [
        "service = QiskitRuntimeService()\n",
        "backend = service.backend(\"ibmq_qasm_simulator\")"
      ],
      "metadata": {
        "id": "xOGdJ6UUL8K6"
      },
      "execution_count": null,
      "outputs": []
    },
    {
      "cell_type": "code",
      "source": [
        "seed_list = [1,   4,   5,   6,   7,   8,  10,  11,  12,  13,\n",
        "14,  15,  17,  18,  19,  20,  21,  23,  24,  25,\n",
        "27,  28,  29,  30,  31,  34,  36,  38,  39,  40,\n",
        "41,  42,  43,  45,  46,  47,  48,  49,  51,  52,\n",
        "55,  59,  61,  63,  65,  66,  67,  68,  70,  71,\n",
        "74,  75,  76,  77,  78,  81,  86,  87,  90,  93,\n",
        "95,  96,  97,  101, 102, 103, 104, 105, 106, 107,\n",
        "112, 113, 114, 116, 118, 121, 124, 126, 127, 128,\n",
        "132, 133, 135, 136, 137, 138, 139, 140, 141, 142,\n",
        "144, 147, 148, 149, 150, 151, 152, 154, 155, 162,\n",
        "165, 166, 169, 171, 172, 174]"
      ],
      "metadata": {
        "id": "lAJbJEf9JvxJ"
      },
      "execution_count": null,
      "outputs": []
    },
    {
      "cell_type": "markdown",
      "source": [
        "## Ideal Simulator"
      ],
      "metadata": {
        "id": "W-2AcOQYFjKh"
      }
    },
    {
      "cell_type": "code",
      "source": [
        "noise_model = NoiseModel()\n",
        "\n",
        "estimator = Estimator(backend_options={\"noise_model\": noise_model}, skip_transpilation=True)"
      ],
      "metadata": {
        "id": "EkBUkDurFjKi"
      },
      "execution_count": null,
      "outputs": []
    },
    {
      "cell_type": "code",
      "source": [
        "def cost_func_vqe(params, ansatz, hamiltonian, estimator):\n",
        "    cost = estimator.run(ansatz, hamiltonian, parameter_values=params, shots=8192, seed=1).result()\n",
        "    return cost.values[0]\n",
        "\n",
        "\n",
        "def build_callback(ansatz, hamiltonian, estimator, callback_dict):\n",
        "  def callback(current_vector):\n",
        "    callback_dict[\"iters\"] += 1\n",
        "    callback_dict[\"prev_vector\"] = current_vector\n",
        "    current_cost = cost_func_vqe(current_vector, ansatz, hamiltonian, estimator)\n",
        "\n",
        "    callback_dict[\"cost_history\"].append(current_cost)\n",
        "\n",
        "    print(\n",
        "      \"Iters. done: {} [Current cost: {}]\".format(callback_dict[\"iters\"], current_cost),\n",
        "      end=\"\\r\",\n",
        "      flush=True,\n",
        "    )\n",
        "\n",
        "  return callback"
      ],
      "metadata": {
        "id": "AHwNwxiZFjKi"
      },
      "execution_count": null,
      "outputs": []
    },
    {
      "cell_type": "code",
      "source": [
        "local_minimum_list = []\n",
        "\n",
        "for k in range(100):\n",
        "\n",
        "  callback_dict = {\n",
        "    \"prev_vector\": None,\n",
        "    \"iters\": 0,\n",
        "    \"cost_history\": [],\n",
        "  }\n",
        "\n",
        "  np.random.seed(seed_list[k])\n",
        "  x0 = 2 * np.pi * np.random.random(9)\n",
        "\n",
        "  callback = build_callback(ansatz, hamiltonian, estimator, callback_dict)\n",
        "\n",
        "  options = dict()\n",
        "  options[\"maxiter\"] = 4000\n",
        "  options[\"disp\"] = True\n",
        "\n",
        "  res = minimize(\n",
        "    cost_func_vqe,\n",
        "    x0,\n",
        "    args=(ansatz, hamiltonian, estimator),\n",
        "    method=\"cobyla\",\n",
        "    callback=callback,\n",
        "    options=options\n",
        "  )\n",
        "\n",
        "  local_minimum_dict = callback_dict[\"cost_history\"]\n",
        "  local_minimum_list.append(local_minimum_dict[-1])\n",
        "\n",
        "\n",
        "local_minimum_list = np.array(local_minimum_list)"
      ],
      "metadata": {
        "colab": {
          "base_uri": "https://localhost:8080/"
        },
        "id": "3cFZogBMFjKi",
        "outputId": "cbbe93fb-a3ee-4b8f-b61b-3a8bbceaac91"
      },
      "execution_count": null,
      "outputs": [
        {
          "output_type": "stream",
          "name": "stdout",
          "text": []
        }
      ]
    },
    {
      "cell_type": "code",
      "source": [
        "mean_ideal = np.mean(local_minimum_list)\n",
        "var_ideal = np.var(local_minimum_list)\n",
        "max_ideal = np.max(local_minimum_list)\n",
        "min_ideal = np.min(local_minimum_list)\n",
        "\n",
        "print(\"mean : {0}\".format(mean_ideal))\n",
        "print(\"variance : {0}\".format(var_ideal))\n",
        "print(\"maximum : {0}\".format(max_ideal))\n",
        "print(\"minimum : {0}\".format(min_ideal))\n",
        "print()\n",
        "print(local_minimum_list)"
      ],
      "metadata": {
        "colab": {
          "base_uri": "https://localhost:8080/"
        },
        "id": "dDE6hhKQU1jg",
        "outputId": "c386f2e8-d66e-429b-879c-9a08e6de781e"
      },
      "execution_count": null,
      "outputs": [
        {
          "output_type": "stream",
          "name": "stdout",
          "text": [
            "mean : -5.783564453125\n",
            "variance : 0.007575407600402833\n",
            "maximum : -5.5791015625\n",
            "minimum : -5.898681640625\n",
            "\n",
            "[-5.66845703 -5.86987305 -5.69555664 -5.85449219 -5.88012695 -5.89672852\n",
            " -5.69189453 -5.67260742 -5.87280273 -5.74780273 -5.83886719 -5.89379883\n",
            " -5.84790039 -5.68261719 -5.68017578 -5.88769531 -5.74804688 -5.84472656\n",
            " -5.75732422 -5.84521484 -5.89794922 -5.8605957  -5.80004883 -5.62597656\n",
            " -5.6184082  -5.82568359 -5.63647461 -5.73828125 -5.85913086 -5.80078125\n",
            " -5.86987305 -5.58251953 -5.84619141 -5.68579102 -5.83862305 -5.57910156\n",
            " -5.78735352 -5.64453125 -5.8762207  -5.75537109 -5.67797852 -5.70263672\n",
            " -5.80859375 -5.7109375  -5.74365234 -5.89282227 -5.88354492 -5.86621094\n",
            " -5.85229492 -5.859375   -5.80444336 -5.83349609 -5.74536133 -5.87084961\n",
            " -5.796875   -5.87280273 -5.70019531 -5.76074219 -5.87133789 -5.6940918\n",
            " -5.58813477 -5.87353516 -5.87573242 -5.69848633 -5.77709961 -5.77050781\n",
            " -5.82519531 -5.59399414 -5.875      -5.7355957  -5.81762695 -5.69970703\n",
            " -5.89868164 -5.80102539 -5.81152344 -5.77709961 -5.89111328 -5.78613281\n",
            " -5.7824707  -5.71362305 -5.86303711 -5.80029297 -5.88598633 -5.79443359\n",
            " -5.69750977 -5.61889648 -5.84643555 -5.68383789 -5.83837891 -5.77001953\n",
            " -5.64086914 -5.86376953 -5.86645508 -5.78491211 -5.81396484 -5.81103516\n",
            " -5.86669922 -5.83496094 -5.79467773 -5.73413086]\n"
          ]
        }
      ]
    },
    {
      "cell_type": "code",
      "source": [
        "callback_dict = {\n",
        "    \"prev_vector\": None,\n",
        "    \"iters\": 0,\n",
        "    \"cost_history\": [],\n",
        "}\n",
        "\n",
        "np.random.seed(seed_list[72])\n",
        "x0 = 2 * np.pi * np.random.random(9)\n",
        "\n",
        "callback = build_callback(ansatz, hamiltonian, estimator, callback_dict)\n",
        "\n",
        "options = dict()\n",
        "options[\"maxiter\"] = 400\n",
        "options[\"disp\"] = True\n",
        "\n",
        "res = minimize(\n",
        "    cost_func_vqe,\n",
        "    x0,\n",
        "    args=(ansatz, hamiltonian, estimator),\n",
        "    method=\"cobyla\",\n",
        "    callback=callback,\n",
        "    options=options\n",
        ")"
      ],
      "metadata": {
        "id": "TbQeORpKbWd4",
        "outputId": "f6c60644-6f8f-4c5b-b0fc-a2e61300179f",
        "colab": {
          "base_uri": "https://localhost:8080/"
        }
      },
      "execution_count": null,
      "outputs": [
        {
          "output_type": "stream",
          "name": "stdout",
          "text": []
        }
      ]
    },
    {
      "cell_type": "code",
      "source": [
        "res"
      ],
      "metadata": {
        "id": "sW60NVdVbWbe",
        "outputId": "dae306d1-e5eb-4617-9d84-1ae19a510475",
        "colab": {
          "base_uri": "https://localhost:8080/"
        }
      },
      "execution_count": null,
      "outputs": [
        {
          "output_type": "execute_result",
          "data": {
            "text/plain": [
              " message: Optimization terminated successfully.\n",
              " success: True\n",
              "  status: 1\n",
              "     fun: -5.898681640625\n",
              "       x: [-5.497e-01  6.701e+00  6.719e+00  5.781e+00  4.499e+00\n",
              "            3.260e+00  1.411e+00  3.240e+00  4.786e+00]\n",
              "    nfev: 136\n",
              "   maxcv: 0.0"
            ]
          },
          "metadata": {},
          "execution_count": 122
        }
      ]
    },
    {
      "cell_type": "markdown",
      "source": [
        "## Reset Error"
      ],
      "metadata": {
        "id": "amGS4Z_NWnF8"
      }
    },
    {
      "cell_type": "code",
      "source": [
        "noise_model = NoiseModel()\n",
        "\n",
        "# Example error probabilities\n",
        "p_reset = 0.01\n",
        "\n",
        "# QuantumError objects\n",
        "noise_model.add_all_qubit_quantum_error(pauli_error([('X', p_reset), ('I', 1 - p_reset)]), \"reset\")\n",
        "\n",
        "\n",
        "estimator = Estimator(backend_options={\"noise_model\": noise_model}, skip_transpilation=True)"
      ],
      "metadata": {
        "id": "DJnNTinqWnGC"
      },
      "execution_count": null,
      "outputs": []
    },
    {
      "cell_type": "code",
      "source": [
        "def cost_func_vqe(params, ansatz, hamiltonian, estimator):\n",
        "    cost = estimator.run(ansatz, hamiltonian, parameter_values=params, shots=8192, seed=1).result()\n",
        "    return cost.values[0]\n",
        "\n",
        "\n",
        "def build_callback(ansatz, hamiltonian, estimator, callback_dict):\n",
        "  def callback(current_vector):\n",
        "    callback_dict[\"iters\"] += 1\n",
        "    callback_dict[\"prev_vector\"] = current_vector\n",
        "    current_cost = cost_func_vqe(current_vector, ansatz, hamiltonian, estimator)\n",
        "\n",
        "    callback_dict[\"cost_history\"].append(current_cost)\n",
        "\n",
        "    print(\n",
        "      \"Iters. done: {} [Current cost: {}]\".format(callback_dict[\"iters\"], current_cost),\n",
        "      end=\"\\r\",\n",
        "      flush=True,\n",
        "    )\n",
        "\n",
        "  return callback"
      ],
      "metadata": {
        "id": "CeGHFTsPWnGC"
      },
      "execution_count": null,
      "outputs": []
    },
    {
      "cell_type": "code",
      "source": [
        "local_minimum_list = []\n",
        "\n",
        "for k in range(100):\n",
        "\n",
        "  callback_dict = {\n",
        "    \"prev_vector\": None,\n",
        "    \"iters\": 0,\n",
        "    \"cost_history\": [],\n",
        "  }\n",
        "\n",
        "  np.random.seed(seed_list[k])\n",
        "  x0 = 2 * np.pi * np.random.random(9)\n",
        "\n",
        "  callback = build_callback(ansatz, hamiltonian, estimator, callback_dict)\n",
        "\n",
        "  options = dict()\n",
        "  options[\"maxiter\"] = 4000\n",
        "  options[\"disp\"] = True\n",
        "\n",
        "  res = minimize(\n",
        "    cost_func_vqe,\n",
        "    x0,\n",
        "    args=(ansatz, hamiltonian, estimator),\n",
        "    method=\"cobyla\",\n",
        "    callback=callback,\n",
        "    options=options\n",
        "  )\n",
        "\n",
        "  local_minimum_dict = callback_dict[\"cost_history\"]\n",
        "  local_minimum_list.append(local_minimum_dict[-1])\n",
        "\n",
        "\n",
        "local_minimum_list = np.array(local_minimum_list)"
      ],
      "metadata": {
        "colab": {
          "base_uri": "https://localhost:8080/"
        },
        "outputId": "7991f19e-9eaa-42e1-81b0-dc58c8406992",
        "id": "UwspTQVLWnGD"
      },
      "execution_count": null,
      "outputs": [
        {
          "output_type": "stream",
          "name": "stdout",
          "text": []
        }
      ]
    },
    {
      "cell_type": "code",
      "source": [
        "mean_rst = np.mean(local_minimum_list)\n",
        "var_rst = np.var(local_minimum_list)\n",
        "max_rst = np.max(local_minimum_list)\n",
        "min_rst = np.min(local_minimum_list)\n",
        "\n",
        "print(\"mean : {0}\".format(mean_rst))\n",
        "print(\"variance : {0}\".format(var_rst))\n",
        "print(\"maximum : {0}\".format(max_rst))\n",
        "print(\"minimum : {0}\".format(min_rst))\n",
        "print()\n",
        "print(local_minimum_list)"
      ],
      "metadata": {
        "colab": {
          "base_uri": "https://localhost:8080/"
        },
        "id": "-XlSF1a6WnGD",
        "outputId": "56827167-9804-4974-b291-8300742a6f02"
      },
      "execution_count": null,
      "outputs": [
        {
          "output_type": "stream",
          "name": "stdout",
          "text": [
            "mean : -5.783564453125\n",
            "variance : 0.007575407600402833\n",
            "maximum : -5.5791015625\n",
            "minimum : -5.898681640625\n",
            "\n",
            "[-5.66845703 -5.86987305 -5.69555664 -5.85449219 -5.88012695 -5.89672852\n",
            " -5.69189453 -5.67260742 -5.87280273 -5.74780273 -5.83886719 -5.89379883\n",
            " -5.84790039 -5.68261719 -5.68017578 -5.88769531 -5.74804688 -5.84472656\n",
            " -5.75732422 -5.84521484 -5.89794922 -5.8605957  -5.80004883 -5.62597656\n",
            " -5.6184082  -5.82568359 -5.63647461 -5.73828125 -5.85913086 -5.80078125\n",
            " -5.86987305 -5.58251953 -5.84619141 -5.68579102 -5.83862305 -5.57910156\n",
            " -5.78735352 -5.64453125 -5.8762207  -5.75537109 -5.67797852 -5.70263672\n",
            " -5.80859375 -5.7109375  -5.74365234 -5.89282227 -5.88354492 -5.86621094\n",
            " -5.85229492 -5.859375   -5.80444336 -5.83349609 -5.74536133 -5.87084961\n",
            " -5.796875   -5.87280273 -5.70019531 -5.76074219 -5.87133789 -5.6940918\n",
            " -5.58813477 -5.87353516 -5.87573242 -5.69848633 -5.77709961 -5.77050781\n",
            " -5.82519531 -5.59399414 -5.875      -5.7355957  -5.81762695 -5.69970703\n",
            " -5.89868164 -5.80102539 -5.81152344 -5.77709961 -5.89111328 -5.78613281\n",
            " -5.7824707  -5.71362305 -5.86303711 -5.80029297 -5.88598633 -5.79443359\n",
            " -5.69750977 -5.61889648 -5.84643555 -5.68383789 -5.83837891 -5.77001953\n",
            " -5.64086914 -5.86376953 -5.86645508 -5.78491211 -5.81396484 -5.81103516\n",
            " -5.86669922 -5.83496094 -5.79467773 -5.73413086]\n"
          ]
        }
      ]
    },
    {
      "cell_type": "markdown",
      "source": [
        "## Measurement Error"
      ],
      "metadata": {
        "id": "0TP9YNTvYxUG"
      }
    },
    {
      "cell_type": "code",
      "source": [
        "noise_model = NoiseModel()\n",
        "\n",
        "# Example error probabilities\n",
        "p_measure = 0.01\n",
        "\n",
        "# QuantumError objects\n",
        "noise_model.add_all_qubit_quantum_error(pauli_error([('X', p_measure), ('I', 1 - p_measure)]), \"measure\")\n",
        "\n",
        "\n",
        "estimator = Estimator(backend_options={\"noise_model\": noise_model}, skip_transpilation=True)"
      ],
      "metadata": {
        "id": "UPNYO1J1YxUR"
      },
      "execution_count": null,
      "outputs": []
    },
    {
      "cell_type": "code",
      "source": [
        "def cost_func_vqe(params, ansatz, hamiltonian, estimator):\n",
        "    cost = estimator.run(ansatz, hamiltonian, parameter_values=params, shots=8192, seed=1).result()\n",
        "    return cost.values[0]\n",
        "\n",
        "\n",
        "def build_callback(ansatz, hamiltonian, estimator, callback_dict):\n",
        "  def callback(current_vector):\n",
        "    callback_dict[\"iters\"] += 1\n",
        "    callback_dict[\"prev_vector\"] = current_vector\n",
        "    current_cost = cost_func_vqe(current_vector, ansatz, hamiltonian, estimator)\n",
        "\n",
        "    callback_dict[\"cost_history\"].append(current_cost)\n",
        "\n",
        "    print(\n",
        "      \"Iters. done: {} [Current cost: {}]\".format(callback_dict[\"iters\"], current_cost),\n",
        "      end=\"\\r\",\n",
        "      flush=True,\n",
        "    )\n",
        "\n",
        "  return callback"
      ],
      "metadata": {
        "id": "LZcpFqL_YxUR"
      },
      "execution_count": null,
      "outputs": []
    },
    {
      "cell_type": "code",
      "source": [
        "local_minimum_list = []\n",
        "\n",
        "for k in range(100):\n",
        "\n",
        "  callback_dict = {\n",
        "    \"prev_vector\": None,\n",
        "    \"iters\": 0,\n",
        "    \"cost_history\": [],\n",
        "  }\n",
        "\n",
        "  np.random.seed(seed_list[k])\n",
        "  x0 = 2 * np.pi * np.random.random(9)\n",
        "\n",
        "  callback = build_callback(ansatz, hamiltonian, estimator, callback_dict)\n",
        "\n",
        "  options = dict()\n",
        "  options[\"maxiter\"] = 4000\n",
        "  options[\"disp\"] = True\n",
        "\n",
        "  res = minimize(\n",
        "    cost_func_vqe,\n",
        "    x0,\n",
        "    args=(ansatz, hamiltonian, estimator),\n",
        "    method=\"cobyla\",\n",
        "    callback=callback,\n",
        "    options=options\n",
        "  )\n",
        "\n",
        "  local_minimum_dict = callback_dict[\"cost_history\"]\n",
        "  local_minimum_list.append(local_minimum_dict[-1])\n",
        "\n",
        "\n",
        "local_minimum_list = np.array(local_minimum_list)"
      ],
      "metadata": {
        "colab": {
          "base_uri": "https://localhost:8080/"
        },
        "outputId": "68fcb07e-f28a-4979-d259-459a2303a7dc",
        "id": "CEtAJZsnYxUR"
      },
      "execution_count": null,
      "outputs": [
        {
          "output_type": "stream",
          "name": "stdout",
          "text": []
        }
      ]
    },
    {
      "cell_type": "code",
      "source": [
        "mean_measure = np.mean(local_minimum_list)\n",
        "var_measure = np.var(local_minimum_list)\n",
        "max_measure = np.max(local_minimum_list)\n",
        "min_measure = np.min(local_minimum_list)\n",
        "\n",
        "print(\"mean : {0}\".format(mean_measure))\n",
        "print(\"variance : {0}\".format(var_measure))\n",
        "print(\"maximum : {0}\".format(max_measure))\n",
        "print(\"minimum : {0}\".format(min_measure))\n",
        "print()\n",
        "print(local_minimum_list)"
      ],
      "metadata": {
        "colab": {
          "base_uri": "https://localhost:8080/"
        },
        "id": "cK_EdZ2tYxUR",
        "outputId": "91325603-a7b1-4bbc-c2fe-efede9b71f9d"
      },
      "execution_count": null,
      "outputs": [
        {
          "output_type": "stream",
          "name": "stdout",
          "text": [
            "mean : -5.6357568359375\n",
            "variance : 0.007461439156532288\n",
            "maximum : -5.408935546875\n",
            "minimum : -5.75341796875\n",
            "\n",
            "[-5.69775391 -5.64233398 -5.56347656 -5.67919922 -5.74389648 -5.72094727\n",
            " -5.62036133 -5.72216797 -5.44067383 -5.52441406 -5.64526367 -5.73339844\n",
            " -5.671875   -5.55834961 -5.48901367 -5.71606445 -5.54443359 -5.72973633\n",
            " -5.59765625 -5.49755859 -5.71582031 -5.75341797 -5.70751953 -5.59204102\n",
            " -5.46899414 -5.61743164 -5.53222656 -5.50805664 -5.65258789 -5.40893555\n",
            " -5.70507812 -5.67822266 -5.7121582  -5.65527344 -5.70849609 -5.62988281\n",
            " -5.70874023 -5.47998047 -5.69238281 -5.4987793  -5.68505859 -5.57666016\n",
            " -5.62329102 -5.56103516 -5.46118164 -5.74560547 -5.69580078 -5.69116211\n",
            " -5.51123047 -5.69482422 -5.62182617 -5.7097168  -5.56030273 -5.67822266\n",
            " -5.66235352 -5.75024414 -5.53833008 -5.64233398 -5.74511719 -5.7097168\n",
            " -5.46899414 -5.73071289 -5.67700195 -5.64501953 -5.65332031 -5.5612793\n",
            " -5.71508789 -5.46899414 -5.67407227 -5.48632812 -5.64941406 -5.6887207\n",
            " -5.65893555 -5.67529297 -5.69628906 -5.61254883 -5.72949219 -5.59814453\n",
            " -5.63476562 -5.63085938 -5.72436523 -5.65185547 -5.68115234 -5.69848633\n",
            " -5.62231445 -5.59765625 -5.71557617 -5.54003906 -5.7355957  -5.62719727\n",
            " -5.44775391 -5.72753906 -5.74829102 -5.59545898 -5.67211914 -5.68505859\n",
            " -5.66113281 -5.703125   -5.68920898 -5.56787109]\n"
          ]
        }
      ]
    },
    {
      "cell_type": "markdown",
      "source": [
        "## Bit Flip"
      ],
      "metadata": {
        "id": "ZhldUP5CZRnN"
      }
    },
    {
      "cell_type": "code",
      "source": [
        "noise_model = NoiseModel()\n",
        "\n",
        "# Example error probabilities\n",
        "p_bit = 0.01\n",
        "\n",
        "bit1 = pauli_error([('X', p_bit), ('I', 1 - p_bit)])\n",
        "bit2 = bit1.tensor(bit1)\n",
        "\n",
        "# QuantumError objects\n",
        "noise_model.add_all_qubit_quantum_error(bit1, [\"u1\", \"u2\", \"u3\"])\n",
        "noise_model.add_all_qubit_quantum_error(bit2, [\"cx\"])\n",
        "\n",
        "\n",
        "estimator = Estimator(backend_options={\"noise_model\": noise_model}, skip_transpilation=True)"
      ],
      "metadata": {
        "id": "kkciiMUkZRnW"
      },
      "execution_count": null,
      "outputs": []
    },
    {
      "cell_type": "code",
      "source": [
        "def cost_func_vqe(params, ansatz, hamiltonian, estimator):\n",
        "    cost = estimator.run(ansatz, hamiltonian, parameter_values=params, shots=8192, seed=1).result()\n",
        "    return cost.values[0]\n",
        "\n",
        "\n",
        "def build_callback(ansatz, hamiltonian, estimator, callback_dict):\n",
        "  def callback(current_vector):\n",
        "    callback_dict[\"iters\"] += 1\n",
        "    callback_dict[\"prev_vector\"] = current_vector\n",
        "    current_cost = cost_func_vqe(current_vector, ansatz, hamiltonian, estimator)\n",
        "\n",
        "    callback_dict[\"cost_history\"].append(current_cost)\n",
        "\n",
        "    print(\n",
        "      \"Iters. done: {} [Current cost: {}]\".format(callback_dict[\"iters\"], current_cost),\n",
        "      end=\"\\r\",\n",
        "      flush=True,\n",
        "    )\n",
        "\n",
        "  return callback"
      ],
      "metadata": {
        "id": "hQpnWA3TZRnW"
      },
      "execution_count": null,
      "outputs": []
    },
    {
      "cell_type": "code",
      "source": [
        "local_minimum_list = []\n",
        "\n",
        "for k in range(100):\n",
        "\n",
        "  callback_dict = {\n",
        "    \"prev_vector\": None,\n",
        "    \"iters\": 0,\n",
        "    \"cost_history\": [],\n",
        "  }\n",
        "\n",
        "  np.random.seed(seed_list[k])\n",
        "  x0 = 2 * np.pi * np.random.random(9)\n",
        "\n",
        "  callback = build_callback(ansatz, hamiltonian, estimator, callback_dict)\n",
        "\n",
        "  options = dict()\n",
        "  options[\"maxiter\"] = 4000\n",
        "  options[\"disp\"] = True\n",
        "\n",
        "  res = minimize(\n",
        "    cost_func_vqe,\n",
        "    x0,\n",
        "    args=(ansatz, hamiltonian, estimator),\n",
        "    method=\"cobyla\",\n",
        "    callback=callback,\n",
        "    options=options\n",
        "  )\n",
        "\n",
        "  local_minimum_dict = callback_dict[\"cost_history\"]\n",
        "  local_minimum_list.append(local_minimum_dict[-1])\n",
        "\n",
        "\n",
        "local_minimum_list = np.array(local_minimum_list)"
      ],
      "metadata": {
        "colab": {
          "base_uri": "https://localhost:8080/"
        },
        "outputId": "1fd5987b-cfc1-41d3-eba3-872456cdf318",
        "id": "QwJ7_8InZRnW"
      },
      "execution_count": null,
      "outputs": [
        {
          "output_type": "stream",
          "name": "stdout",
          "text": []
        }
      ]
    },
    {
      "cell_type": "code",
      "source": [
        "mean_bit = np.mean(local_minimum_list)\n",
        "var_bit = np.var(local_minimum_list)\n",
        "max_bit = np.max(local_minimum_list)\n",
        "min_bit = np.min(local_minimum_list)\n",
        "\n",
        "print(\"mean : {0}\".format(mean_bit))\n",
        "print(\"variance : {0}\".format(var_bit))\n",
        "print(\"maximum : {0}\".format(max_bit))\n",
        "print(\"minimum : {0}\".format(min_bit))\n",
        "print()\n",
        "print(local_minimum_list)"
      ],
      "metadata": {
        "colab": {
          "base_uri": "https://localhost:8080/"
        },
        "id": "zKWtMZuUZRnW",
        "outputId": "e7af610b-fefc-4f3b-eb8a-9019d08577a8"
      },
      "execution_count": null,
      "outputs": [
        {
          "output_type": "stream",
          "name": "stdout",
          "text": [
            "mean : -5.66617919921875\n",
            "variance : 0.006554347342252731\n",
            "maximum : -5.34375\n",
            "minimum : -5.77734375\n",
            "\n",
            "[-5.60742188 -5.76147461 -5.60180664 -5.70556641 -5.69165039 -5.76611328\n",
            " -5.65112305 -5.64379883 -5.53466797 -5.55786133 -5.57275391 -5.75830078\n",
            " -5.77734375 -5.59106445 -5.60424805 -5.71679688 -5.4831543  -5.73168945\n",
            " -5.67578125 -5.73046875 -5.74951172 -5.77416992 -5.68432617 -5.6496582\n",
            " -5.51489258 -5.70556641 -5.6237793  -5.66503906 -5.71142578 -5.68334961\n",
            " -5.71533203 -5.74560547 -5.71630859 -5.34375    -5.70336914 -5.70239258\n",
            " -5.70874023 -5.73583984 -5.57202148 -5.56396484 -5.6862793  -5.63623047\n",
            " -5.56738281 -5.60766602 -5.6418457  -5.69580078 -5.55810547 -5.74438477\n",
            " -5.72167969 -5.72680664 -5.67480469 -5.61572266 -5.42407227 -5.51489258\n",
            " -5.67822266 -5.74609375 -5.69677734 -5.66601562 -5.73046875 -5.57861328\n",
            " -5.55273438 -5.76977539 -5.69750977 -5.70141602 -5.6484375  -5.73706055\n",
            " -5.7121582  -5.77319336 -5.60473633 -5.68017578 -5.64233398 -5.59057617\n",
            " -5.74365234 -5.67236328 -5.6081543  -5.57421875 -5.75195312 -5.67724609\n",
            " -5.71557617 -5.69140625 -5.55810547 -5.69091797 -5.75634766 -5.69970703\n",
            " -5.67285156 -5.71264648 -5.72973633 -5.61279297 -5.72998047 -5.71240234\n",
            " -5.71289062 -5.77099609 -5.76489258 -5.66894531 -5.62841797 -5.69506836\n",
            " -5.67114258 -5.76806641 -5.51904297 -5.65429688]\n"
          ]
        }
      ]
    },
    {
      "cell_type": "markdown",
      "source": [
        "## Phase Flip"
      ],
      "metadata": {
        "id": "0bQIczJLa5Ql"
      }
    },
    {
      "cell_type": "code",
      "source": [
        "noise_model = NoiseModel()\n",
        "\n",
        "# Example error probabilities\n",
        "p_phase = 0.01\n",
        "\n",
        "phase1 = pauli_error([('Z', p_phase), ('I', 1 - p_phase)])\n",
        "phase2 = bit1.tensor(bit1)\n",
        "\n",
        "# QuantumError objects\n",
        "noise_model.add_all_qubit_quantum_error(phase1, [\"u1\", \"u2\", \"u3\"])\n",
        "noise_model.add_all_qubit_quantum_error(phase2, [\"cx\"])\n",
        "\n",
        "\n",
        "estimator = Estimator(backend_options={\"noise_model\": noise_model}, skip_transpilation=True)"
      ],
      "metadata": {
        "id": "kUqTN912a5Qq"
      },
      "execution_count": null,
      "outputs": []
    },
    {
      "cell_type": "code",
      "source": [
        "def cost_func_vqe(params, ansatz, hamiltonian, estimator):\n",
        "    cost = estimator.run(ansatz, hamiltonian, parameter_values=params, shots=8192, seed=1).result()\n",
        "    return cost.values[0]\n",
        "\n",
        "\n",
        "def build_callback(ansatz, hamiltonian, estimator, callback_dict):\n",
        "  def callback(current_vector):\n",
        "    callback_dict[\"iters\"] += 1\n",
        "    callback_dict[\"prev_vector\"] = current_vector\n",
        "    current_cost = cost_func_vqe(current_vector, ansatz, hamiltonian, estimator)\n",
        "\n",
        "    callback_dict[\"cost_history\"].append(current_cost)\n",
        "\n",
        "    print(\n",
        "      \"Iters. done: {} [Current cost: {}]\".format(callback_dict[\"iters\"], current_cost),\n",
        "      end=\"\\r\",\n",
        "      flush=True,\n",
        "    )\n",
        "\n",
        "  return callback"
      ],
      "metadata": {
        "id": "X1xvb3RLa5Qq"
      },
      "execution_count": null,
      "outputs": []
    },
    {
      "cell_type": "code",
      "source": [
        "local_minimum_list = []\n",
        "\n",
        "for k in range(100):\n",
        "\n",
        "  callback_dict = {\n",
        "    \"prev_vector\": None,\n",
        "    \"iters\": 0,\n",
        "    \"cost_history\": [],\n",
        "  }\n",
        "\n",
        "  np.random.seed(seed_list[k])\n",
        "  x0 = 2 * np.pi * np.random.random(9)\n",
        "\n",
        "  callback = build_callback(ansatz, hamiltonian, estimator, callback_dict)\n",
        "\n",
        "  options = dict()\n",
        "  options[\"maxiter\"] = 4000\n",
        "  options[\"disp\"] = True\n",
        "\n",
        "  res = minimize(\n",
        "    cost_func_vqe,\n",
        "    x0,\n",
        "    args=(ansatz, hamiltonian, estimator),\n",
        "    method=\"cobyla\",\n",
        "    callback=callback,\n",
        "    options=options\n",
        "  )\n",
        "\n",
        "  local_minimum_dict = callback_dict[\"cost_history\"]\n",
        "  local_minimum_list.append(local_minimum_dict[-1])\n",
        "\n",
        "\n",
        "local_minimum_list = np.array(local_minimum_list)"
      ],
      "metadata": {
        "colab": {
          "base_uri": "https://localhost:8080/"
        },
        "outputId": "96e17848-7862-4192-f2b9-514d3bca515e",
        "id": "7-EhSUDFa5Qq"
      },
      "execution_count": null,
      "outputs": [
        {
          "output_type": "stream",
          "name": "stdout",
          "text": []
        }
      ]
    },
    {
      "cell_type": "code",
      "source": [
        "mean_phase = np.mean(local_minimum_list)\n",
        "var_phase = np.var(local_minimum_list)\n",
        "max_phase = np.max(local_minimum_list)\n",
        "min_phase = np.min(local_minimum_list)\n",
        "\n",
        "print(\"mean : {0}\".format(mean_phase))\n",
        "print(\"variance : {0}\".format(var_phase))\n",
        "print(\"maximum : {0}\".format(max_phase))\n",
        "print(\"minimum : {0}\".format(min_phase))\n",
        "print()\n",
        "print(local_minimum_list)"
      ],
      "metadata": {
        "colab": {
          "base_uri": "https://localhost:8080/"
        },
        "id": "Myydq92za5Qq",
        "outputId": "075f73c5-59a1-4a57-ee39-61018dcb50b3"
      },
      "execution_count": null,
      "outputs": [
        {
          "output_type": "stream",
          "name": "stdout",
          "text": [
            "mean : -5.66617919921875\n",
            "variance : 0.006554347342252731\n",
            "maximum : -5.34375\n",
            "minimum : -5.77734375\n",
            "\n",
            "[-5.60742188 -5.76147461 -5.60180664 -5.70556641 -5.69165039 -5.76611328\n",
            " -5.65112305 -5.64379883 -5.53466797 -5.55786133 -5.57275391 -5.75830078\n",
            " -5.77734375 -5.59106445 -5.60424805 -5.71679688 -5.4831543  -5.73168945\n",
            " -5.67578125 -5.73046875 -5.74951172 -5.77416992 -5.68432617 -5.6496582\n",
            " -5.51489258 -5.70556641 -5.6237793  -5.66503906 -5.71142578 -5.68334961\n",
            " -5.71533203 -5.74560547 -5.71630859 -5.34375    -5.70336914 -5.70239258\n",
            " -5.70874023 -5.73583984 -5.57202148 -5.56396484 -5.6862793  -5.63623047\n",
            " -5.56738281 -5.60766602 -5.6418457  -5.69580078 -5.55810547 -5.74438477\n",
            " -5.72167969 -5.72680664 -5.67480469 -5.61572266 -5.42407227 -5.51489258\n",
            " -5.67822266 -5.74609375 -5.69677734 -5.66601562 -5.73046875 -5.57861328\n",
            " -5.55273438 -5.76977539 -5.69750977 -5.70141602 -5.6484375  -5.73706055\n",
            " -5.7121582  -5.77319336 -5.60473633 -5.68017578 -5.64233398 -5.59057617\n",
            " -5.74365234 -5.67236328 -5.6081543  -5.57421875 -5.75195312 -5.67724609\n",
            " -5.71557617 -5.69140625 -5.55810547 -5.69091797 -5.75634766 -5.69970703\n",
            " -5.67285156 -5.71264648 -5.72973633 -5.61279297 -5.72998047 -5.71240234\n",
            " -5.71289062 -5.77099609 -5.76489258 -5.66894531 -5.62841797 -5.69506836\n",
            " -5.67114258 -5.76806641 -5.51904297 -5.65429688]\n"
          ]
        }
      ]
    },
    {
      "cell_type": "markdown",
      "source": [
        "## Depolarization"
      ],
      "metadata": {
        "id": "g0QEks6TbdHL"
      }
    },
    {
      "cell_type": "code",
      "source": [
        "noise_model = NoiseModel()\n",
        "\n",
        "# Example error probabilities\n",
        "u_depolarizing_prob = 0.01\n",
        "cx_depolarizing_prob = 0.01\n",
        "\n",
        "# QuantumError objects\n",
        "noise_model.add_all_qubit_quantum_error(depolarizing_error(u_depolarizing_prob, 1), ['u1', 'u2', 'u3'])\n",
        "noise_model.add_all_qubit_quantum_error(depolarizing_error(cx_depolarizing_prob, 2), [\"cx\"])\n",
        "\n",
        "estimator = Estimator(backend_options={\"noise_model\": noise_model}, skip_transpilation=True)"
      ],
      "metadata": {
        "id": "hB-S8e00bdHU"
      },
      "execution_count": null,
      "outputs": []
    },
    {
      "cell_type": "code",
      "source": [
        "def cost_func_vqe(params, ansatz, hamiltonian, estimator):\n",
        "    cost = estimator.run(ansatz, hamiltonian, parameter_values=params, shots=8192, seed=1).result()\n",
        "    return cost.values[0]\n",
        "\n",
        "\n",
        "def build_callback(ansatz, hamiltonian, estimator, callback_dict):\n",
        "  def callback(current_vector):\n",
        "    callback_dict[\"iters\"] += 1\n",
        "    callback_dict[\"prev_vector\"] = current_vector\n",
        "    current_cost = cost_func_vqe(current_vector, ansatz, hamiltonian, estimator)\n",
        "\n",
        "    callback_dict[\"cost_history\"].append(current_cost)\n",
        "\n",
        "    print(\n",
        "      \"Iters. done: {} [Current cost: {}]\".format(callback_dict[\"iters\"], current_cost),\n",
        "      end=\"\\r\",\n",
        "      flush=True,\n",
        "    )\n",
        "\n",
        "  return callback"
      ],
      "metadata": {
        "id": "BAGiKpysbdHU"
      },
      "execution_count": null,
      "outputs": []
    },
    {
      "cell_type": "code",
      "source": [
        "local_minimum_list = []\n",
        "\n",
        "for k in range(100):\n",
        "\n",
        "  callback_dict = {\n",
        "    \"prev_vector\": None,\n",
        "    \"iters\": 0,\n",
        "    \"cost_history\": [],\n",
        "  }\n",
        "\n",
        "  np.random.seed(seed_list[k])\n",
        "  x0 = 2 * np.pi * np.random.random(9)\n",
        "\n",
        "  callback = build_callback(ansatz, hamiltonian, estimator, callback_dict)\n",
        "\n",
        "  options = dict()\n",
        "  options[\"maxiter\"] = 4000\n",
        "  options[\"disp\"] = True\n",
        "\n",
        "  res = minimize(\n",
        "    cost_func_vqe,\n",
        "    x0,\n",
        "    args=(ansatz, hamiltonian, estimator),\n",
        "    method=\"cobyla\",\n",
        "    callback=callback,\n",
        "    options=options\n",
        "  )\n",
        "\n",
        "  local_minimum_dict = callback_dict[\"cost_history\"]\n",
        "  local_minimum_list.append(local_minimum_dict[-1])\n",
        "\n",
        "\n",
        "local_minimum_list = np.array(local_minimum_list)"
      ],
      "metadata": {
        "colab": {
          "base_uri": "https://localhost:8080/"
        },
        "outputId": "ab06d53c-228c-403f-cf6a-bc0505bf1233",
        "id": "65j_k0CRbdHU"
      },
      "execution_count": null,
      "outputs": [
        {
          "output_type": "stream",
          "name": "stdout",
          "text": []
        }
      ]
    },
    {
      "cell_type": "code",
      "source": [
        "mean_depo = np.mean(local_minimum_list)\n",
        "var_depo = np.var(local_minimum_list)\n",
        "max_depo = np.max(local_minimum_list)\n",
        "min_depo = np.min(local_minimum_list)\n",
        "\n",
        "print(\"mean : {0}\".format(mean_depo))\n",
        "print(\"variance : {0}\".format(var_depo))\n",
        "print(\"maximum : {0}\".format(max_depo))\n",
        "print(\"minimum : {0}\".format(min_depo))\n",
        "print()\n",
        "print(local_minimum_list)"
      ],
      "metadata": {
        "colab": {
          "base_uri": "https://localhost:8080/"
        },
        "id": "13d3OARFbdHU",
        "outputId": "e57e84c0-32f6-4ee7-e901-bbe84e8dfdb7"
      },
      "execution_count": null,
      "outputs": [
        {
          "output_type": "stream",
          "name": "stdout",
          "text": [
            "mean : -5.5868896484375\n",
            "variance : 0.008558568358421326\n",
            "maximum : -5.307373046875\n",
            "minimum : -5.7119140625\n",
            "\n",
            "[-5.48925781 -5.63330078 -5.50708008 -5.65844727 -5.71191406 -5.67211914\n",
            " -5.5168457  -5.52661133 -5.49560547 -5.53027344 -5.5390625  -5.68554688\n",
            " -5.67993164 -5.60058594 -5.52612305 -5.7043457  -5.48461914 -5.66235352\n",
            " -5.54125977 -5.49267578 -5.70239258 -5.70092773 -5.65844727 -5.45385742\n",
            " -5.42236328 -5.63378906 -5.52856445 -5.46069336 -5.57202148 -5.60620117\n",
            " -5.64477539 -5.64379883 -5.63110352 -5.34936523 -5.66381836 -5.62402344\n",
            " -5.39404297 -5.47460938 -5.30737305 -5.58618164 -5.51489258 -5.52978516\n",
            " -5.53613281 -5.51098633 -5.38452148 -5.69287109 -5.6965332  -5.68310547\n",
            " -5.52148438 -5.63378906 -5.59863281 -5.64086914 -5.53320312 -5.66455078\n",
            " -5.59643555 -5.69238281 -5.65405273 -5.57836914 -5.69677734 -5.61083984\n",
            " -5.46630859 -5.70922852 -5.54443359 -5.55859375 -5.62792969 -5.69799805\n",
            " -5.53466797 -5.42773438 -5.65161133 -5.49755859 -5.62915039 -5.62207031\n",
            " -5.59326172 -5.60961914 -5.62866211 -5.55932617 -5.64550781 -5.60522461\n",
            " -5.56713867 -5.56005859 -5.6953125  -5.58911133 -5.70874023 -5.67114258\n",
            " -5.55395508 -5.60131836 -5.66577148 -5.48364258 -5.70214844 -5.31665039\n",
            " -5.66796875 -5.68774414 -5.68066406 -5.50756836 -5.65209961 -5.56201172\n",
            " -5.62231445 -5.66699219 -5.67480469 -5.55639648]\n"
          ]
        }
      ]
    },
    {
      "cell_type": "markdown",
      "source": [
        "## Summation of all-type Error & Conclusion"
      ],
      "metadata": {
        "id": "J4KoB_K_cMxx"
      }
    },
    {
      "cell_type": "code",
      "source": [
        "noise_model = NoiseModel()\n",
        "\n",
        "# Example error probabilities\n",
        "p_reset = 0.01\n",
        "p_measure = 0.01\n",
        "p_bit = 0.01\n",
        "p_phase = 0.01\n",
        "u_depolarizing_prob = 0.01\n",
        "cx_depolarizing_prob = 0.01\n",
        "\n",
        "bit1 = pauli_error([('X', p_bit), ('I', 1 - p_bit)])\n",
        "bit2 = bit1.tensor(bit1)\n",
        "\n",
        "phase1 = pauli_error([('Z', p_phase), ('I', 1 - p_phase)])\n",
        "phase2 = bit1.tensor(bit1)\n",
        "\n",
        "# QuantumError objects\n",
        "noise_model.add_all_qubit_quantum_error(pauli_error([('X', p_reset), ('I', 1 - p_reset)]), \"reset\")\n",
        "\n",
        "noise_model.add_all_qubit_quantum_error(pauli_error([('X', p_measure), ('I', 1 - p_measure)]), \"measure\")\n",
        "\n",
        "noise_model.add_all_qubit_quantum_error(bit1, [\"u1\", \"u2\", \"u3\"])\n",
        "noise_model.add_all_qubit_quantum_error(bit2, [\"cx\"])\n",
        "\n",
        "noise_model.add_all_qubit_quantum_error(phase1, [\"u1\", \"u2\", \"u3\"])\n",
        "noise_model.add_all_qubit_quantum_error(phase2, [\"cx\"])\n",
        "\n",
        "noise_model.add_all_qubit_quantum_error(depolarizing_error(u_depolarizing_prob, 1), ['u1', 'u2', 'u3'])\n",
        "noise_model.add_all_qubit_quantum_error(depolarizing_error(cx_depolarizing_prob, 2), [\"cx\"])\n",
        "\n",
        "estimator = Estimator(backend_options={\"noise_model\": noise_model}, skip_transpilation=True)"
      ],
      "metadata": {
        "colab": {
          "base_uri": "https://localhost:8080/"
        },
        "id": "OH0-CwkScMxy",
        "outputId": "a46aebb6-a59a-4357-eab3-0c40ec8ab333"
      },
      "execution_count": null,
      "outputs": [
        {
          "output_type": "stream",
          "name": "stderr",
          "text": [
            "WARNING:qiskit_aer.noise.noise_model:WARNING: all-qubit error already exists for instruction \"u1\", composing with additional error.\n",
            "WARNING:qiskit_aer.noise.noise_model:WARNING: all-qubit error already exists for instruction \"u2\", composing with additional error.\n",
            "WARNING:qiskit_aer.noise.noise_model:WARNING: all-qubit error already exists for instruction \"u3\", composing with additional error.\n",
            "WARNING:qiskit_aer.noise.noise_model:WARNING: all-qubit error already exists for instruction \"cx\", composing with additional error.\n",
            "WARNING:qiskit_aer.noise.noise_model:WARNING: all-qubit error already exists for instruction \"u1\", composing with additional error.\n",
            "WARNING:qiskit_aer.noise.noise_model:WARNING: all-qubit error already exists for instruction \"u2\", composing with additional error.\n",
            "WARNING:qiskit_aer.noise.noise_model:WARNING: all-qubit error already exists for instruction \"u3\", composing with additional error.\n",
            "WARNING:qiskit_aer.noise.noise_model:WARNING: all-qubit error already exists for instruction \"cx\", composing with additional error.\n"
          ]
        }
      ]
    },
    {
      "cell_type": "code",
      "source": [
        "def cost_func_vqe(params, ansatz, hamiltonian, estimator):\n",
        "    cost = estimator.run(ansatz, hamiltonian, parameter_values=params, shots=8192, seed=1).result()\n",
        "    return cost.values[0]\n",
        "\n",
        "\n",
        "def build_callback(ansatz, hamiltonian, estimator, callback_dict):\n",
        "  def callback(current_vector):\n",
        "    callback_dict[\"iters\"] += 1\n",
        "    callback_dict[\"prev_vector\"] = current_vector\n",
        "    current_cost = cost_func_vqe(current_vector, ansatz, hamiltonian, estimator)\n",
        "\n",
        "    callback_dict[\"cost_history\"].append(current_cost)\n",
        "\n",
        "    print(\n",
        "      \"Iters. done: {} [Current cost: {}]\".format(callback_dict[\"iters\"], current_cost),\n",
        "      end=\"\\r\",\n",
        "      flush=True,\n",
        "    )\n",
        "\n",
        "  return callback"
      ],
      "metadata": {
        "id": "AH0UeODycMxy"
      },
      "execution_count": null,
      "outputs": []
    },
    {
      "cell_type": "code",
      "source": [
        "local_minimum_list = []\n",
        "\n",
        "for k in range(100):\n",
        "\n",
        "  callback_dict = {\n",
        "    \"prev_vector\": None,\n",
        "    \"iters\": 0,\n",
        "    \"cost_history\": [],\n",
        "  }\n",
        "\n",
        "  np.random.seed(seed_list[k])\n",
        "  x0 = 2 * np.pi * np.random.random(9)\n",
        "\n",
        "  callback = build_callback(ansatz, hamiltonian, estimator, callback_dict)\n",
        "\n",
        "  options = dict()\n",
        "  options[\"maxiter\"] = 4000\n",
        "  options[\"disp\"] = True\n",
        "\n",
        "  res = minimize(\n",
        "    cost_func_vqe,\n",
        "    x0,\n",
        "    args=(ansatz, hamiltonian, estimator),\n",
        "    method=\"cobyla\",\n",
        "    callback=callback,\n",
        "    options=options\n",
        "  )\n",
        "\n",
        "  local_minimum_dict = callback_dict[\"cost_history\"]\n",
        "  local_minimum_list.append(local_minimum_dict[-1])\n",
        "\n",
        "\n",
        "local_minimum_list = np.array(local_minimum_list)"
      ],
      "metadata": {
        "colab": {
          "base_uri": "https://localhost:8080/"
        },
        "id": "LVrDLUPgcMxz",
        "outputId": "4b6a5803-06e3-4e21-eaac-823663685635"
      },
      "execution_count": null,
      "outputs": [
        {
          "output_type": "stream",
          "name": "stdout",
          "text": []
        }
      ]
    },
    {
      "cell_type": "code",
      "source": [
        "mean_all = np.mean(local_minimum_list)\n",
        "var_all = np.var(local_minimum_list)\n",
        "max_all = np.max(local_minimum_list)\n",
        "min_all = np.min(local_minimum_list)\n",
        "\n",
        "print(\"mean : {0}\".format(mean_all))\n",
        "print(\"variance : {0}\".format(var_all))\n",
        "print(\"maximum : {0}\".format(max_all))\n",
        "print(\"minimum : {0}\".format(min_all))\n",
        "print()\n",
        "print(local_minimum_list)"
      ],
      "metadata": {
        "colab": {
          "base_uri": "https://localhost:8080/"
        },
        "id": "x_HSovVpcMxz",
        "outputId": "60e45ded-da5a-4753-ea02-7cd3924a6310"
      },
      "execution_count": null,
      "outputs": [
        {
          "output_type": "stream",
          "name": "stdout",
          "text": [
            "mean : -5.26560546875\n",
            "variance : 0.0035531195163726807\n",
            "maximum : -5.140380859375\n",
            "minimum : -5.359619140625\n",
            "\n",
            "[-5.15698242 -5.32470703 -5.2253418  -5.27124023 -5.32128906 -5.35644531\n",
            " -5.29858398 -5.32617188 -5.24316406 -5.29370117 -5.27075195 -5.33154297\n",
            " -5.31054688 -5.29541016 -5.17993164 -5.34204102 -5.16333008 -5.22460938\n",
            " -5.23120117 -5.29248047 -5.35961914 -5.34741211 -5.27636719 -5.21142578\n",
            " -5.15771484 -5.33618164 -5.21923828 -5.34545898 -5.32324219 -5.30688477\n",
            " -5.16333008 -5.31274414 -5.31201172 -5.23535156 -5.21899414 -5.18017578\n",
            " -5.30297852 -5.2043457  -5.17260742 -5.22021484 -5.24462891 -5.26855469\n",
            " -5.33325195 -5.29833984 -5.23779297 -5.35668945 -5.17944336 -5.359375\n",
            " -5.296875   -5.2355957  -5.27001953 -5.25561523 -5.24169922 -5.35107422\n",
            " -5.23925781 -5.2590332  -5.25195312 -5.27636719 -5.34301758 -5.21923828\n",
            " -5.31103516 -5.33618164 -5.26342773 -5.19482422 -5.18237305 -5.3503418\n",
            " -5.28833008 -5.20214844 -5.14355469 -5.28735352 -5.29785156 -5.16088867\n",
            " -5.28466797 -5.19799805 -5.29711914 -5.21264648 -5.34594727 -5.14038086\n",
            " -5.26367188 -5.30126953 -5.18603516 -5.28735352 -5.35546875 -5.3137207\n",
            " -5.25952148 -5.27758789 -5.31542969 -5.19213867 -5.17626953 -5.28881836\n",
            " -5.28149414 -5.33227539 -5.33374023 -5.24047852 -5.20336914 -5.28637695\n",
            " -5.23730469 -5.29858398 -5.26074219 -5.18823242]\n"
          ]
        }
      ]
    },
    {
      "cell_type": "code",
      "source": [
        "import matplotlib.pyplot as plt\n",
        "\n",
        "x = [\"Ideal\", \"Reset\", \"Measure\", \"Bit Flip\", \"Phase Flip\", \"Depolarize\", \"Sum\"]\n",
        "y = [mean_ideal, mean_rst, mean_measure, mean_bit, mean_phase, mean_depo, mean_all]\n",
        "yerr = [2*np.sqrt(var_ideal), 2*np.sqrt(var_rst), 2*np.sqrt(var_measure), 2*np.sqrt(var_bit), 2*np.sqrt(var_phase), 2*np.sqrt(var_depo), 2*np.sqrt(var_all)]\n",
        "\n",
        "plt.plot(x, y)\n",
        "plt.errorbar(x, y, yerr=yerr, fmt ='o')\n",
        "plt.xlabel('Error')\n",
        "plt.ylabel('Lowest Energy')\n",
        "plt.show()"
      ],
      "metadata": {
        "colab": {
          "base_uri": "https://localhost:8080/"
        },
        "id": "WwrvF8cVd3n1",
        "outputId": "43117df3-6881-4951-ccee-6fffb2fbc219"
      },
      "execution_count": null,
      "outputs": [
        {
          "output_type": "display_data",
          "data": {
            "text/plain": [
              "<Figure size 640x480 with 1 Axes>"
            ],
            "image/png": "[encoded data removed]"
          },
          "metadata": {}
        }
      ]
    },
    {
      "cell_type": "code",
      "source": [
        "res"
      ],
      "metadata": {
        "colab": {
          "base_uri": "https://localhost:8080/"
        },
        "id": "QTZf01CA0mYU",
        "outputId": "04e123f0-0dd8-4df1-9411-5d82ca932086"
      },
      "execution_count": null,
      "outputs": [
        {
          "output_type": "execute_result",
          "data": {
            "text/plain": [
              " message: Optimization terminated successfully.\n",
              " success: True\n",
              "  status: 1\n",
              "     fun: -5.188232421875\n",
              "       x: [ 4.611e-02  6.001e+00  6.747e+00  6.727e+00  4.257e+00\n",
              "            5.256e+00  5.704e+00  2.286e+00  2.328e+00]\n",
              "    nfev: 122\n",
              "   maxcv: 0.0"
            ]
          },
          "metadata": {},
          "execution_count": 148
        }
      ]
    },
    {
      "cell_type": "markdown",
      "source": [
        "# VQE in IBM Hardware (IBM CUSCO)\n",
        "\n",
        "use parameter optimized in Noiseless Simulator & just conduct measurement for 10 times"
      ],
      "metadata": {
        "id": "XNbQIir0i6Mc"
      }
    },
    {
      "cell_type": "markdown",
      "source": [
        "## optimization_level = 3 resilence_level = 0"
      ],
      "metadata": {
        "id": "wNLFzG0I00OJ"
      }
    },
    {
      "cell_type": "code",
      "source": [
        "from qiskit.circuit import QuantumCircuit, QuantumRegister, Parameter\n",
        "from qiskit.quantum_info import SparsePauliOp\n",
        "from qiskit.circuit import ParameterVector\n",
        "\n",
        "from qiskit_ibm_runtime import QiskitRuntimeService, Estimator, Options\n",
        "from qiskit.transpiler.preset_passmanagers import generate_preset_pass_manager\n",
        "\n",
        "import numpy as np"
      ],
      "metadata": {
        "id": "VSbxuwSSi6Ml"
      },
      "execution_count": null,
      "outputs": []
    },
    {
      "cell_type": "code",
      "source": [
        "# Instantiate the system Hamiltonian\n",
        "interation = 1\n",
        "bias = -1\n",
        "\n",
        "coeff_list = [interation for _ in range(4)] + [bias for _ in range(5)]\n",
        "operator_list = [\"ZZIII\", \"IZZII\", \"IIZZI\", \"IIIZZ\", \"XIIII\", \"IXIII\", \"IIXII\", \"IIIXI\", \"IIIIX\"]\n",
        "hamiltonian_list = []\n",
        "for i in range(9):\n",
        "  hamiltonian_list.append((operator_list[i], coeff_list[i]))\n",
        "hamiltonian = SparsePauliOp.from_list(hamiltonian_list)"
      ],
      "metadata": {
        "id": "x6iWoO7ii6Ml"
      },
      "execution_count": null,
      "outputs": []
    },
    {
      "cell_type": "code",
      "source": [
        "# Ansatz\n",
        "\n",
        "ansatz = QuantumCircuit(5)\n",
        "params = ParameterVector(\"theta\", length=9)\n",
        "it = iter(params)\n",
        "ansatz.h(range(0,5))\n",
        "\n",
        "ansatz.barrier()\n",
        "\n",
        "ansatz.cx(0, 1)\n",
        "ansatz.cx(2, 3)\n",
        "ansatz.rz(next(it), 1)\n",
        "ansatz.rz(next(it), 3)\n",
        "ansatz.cx(0, 1)\n",
        "ansatz.cx(2, 3)\n",
        "ansatz.cx(1, 2)\n",
        "ansatz.cx(3, 4)\n",
        "ansatz.rz(next(it), 2)\n",
        "ansatz.rz(next(it), 4)\n",
        "ansatz.cx(1, 2)\n",
        "ansatz.cx(3, 4)\n",
        "\n",
        "ansatz.barrier()\n",
        "\n",
        "ansatz.rx(next(it), 0)\n",
        "ansatz.rx(next(it), 1)\n",
        "ansatz.rx(next(it), 2)\n",
        "ansatz.rx(next(it), 3)\n",
        "ansatz.rx(next(it), 4)\n",
        "\n",
        "ansatz.draw(\"mpl\")"
      ],
      "metadata": {
        "colab": {
          "base_uri": "https://localhost:8080/",
          "height": 384
        },
        "outputId": "19317908-e2c0-4f07-ce7b-a2a6911d5c09",
        "id": "swE-gOWdi6Ml"
      },
      "execution_count": null,
      "outputs": [
        {
          "output_type": "execute_result",
          "data": {
            "text/plain": [
              "<Figure size 956.385x451.5 with 1 Axes>"
            ],
            "image/png": "[encoded data removed]"
          },
          "metadata": {},
          "execution_count": 6
        }
      ]
    },
    {
      "cell_type": "code",
      "source": [
        "service = QiskitRuntimeService()\n",
        "\n",
        "backend = service.backend(\"ibmq_cusco\")\n",
        "print(backend)"
      ],
      "metadata": {
        "colab": {
          "base_uri": "https://localhost:8080/"
        },
        "outputId": "1c3c1833-fe4b-4720-c1ca-2c83b090fde1",
        "id": "n0Fv5vS0i6Ml"
      },
      "execution_count": null,
      "outputs": [
        {
          "output_type": "stream",
          "name": "stdout",
          "text": [
            "<IBMBackend('ibm_cairo')>\n"
          ]
        }
      ]
    },
    {
      "cell_type": "code",
      "source": [
        "pm = generate_preset_pass_manager(backend=backend, optimization_level=1)\n",
        "isa_circuit = pm.run(ansatz)\n",
        "isa_observable = hamiltonian.apply_layout(isa_circuit.layout)\n",
        "\n",
        "options = Options()\n",
        "options.optimization_level = 3\n",
        "options.resilience_level = 0\n",
        "\n",
        "estimator = Estimator(backend=backend, options=options)"
      ],
      "metadata": {
        "id": "nQ-aqP4fi6Mm"
      },
      "execution_count": null,
      "outputs": []
    },
    {
      "cell_type": "code",
      "source": [
        "def cost_func_vqe(params, ansatz, hamiltonian, estimator):\n",
        "    cost = estimator.run(ansatz, hamiltonian, parameter_values=params, shots=8192).result()\n",
        "    return cost.values[0]"
      ],
      "metadata": {
        "id": "W2jFCudn_9pd"
      },
      "execution_count": null,
      "outputs": []
    },
    {
      "cell_type": "code",
      "source": [
        "x0 = np.array([-5.497e-01,  6.701e+00,  6.719e+00,  5.781e+00,  4.499e+00,  3.260e+00,  1.411e+00,  3.240e+00,  4.786e+00])\n",
        "local_minimum_list = []\n",
        "\n",
        "for _ in range(10):\n",
        "  local_minimum_list.append(cost_func_vqe(x0, isa_circuit, isa_observable, estimator))\n",
        "\n",
        "local_minimum_list = np.array(local_minimum_list)"
      ],
      "metadata": {
        "colab": {
          "base_uri": "https://localhost:8080/",
          "height": 365
        },
        "id": "QKxTDSbE_FyS",
        "outputId": "787e81e4-8978-4b26-feb4-cf7ea5c3b97a"
      },
      "execution_count": null,
      "outputs": [
        {
          "output_type": "error",
          "ename": "KeyboardInterrupt",
          "evalue": "",
          "traceback": [
            "\u001b[0;31m---------------------------------------------------------------------------\u001b[0m",
            "\u001b[0;31mKeyboardInterrupt\u001b[0m                         Traceback (most recent call last)",
            "\u001b[0;32m<ipython-input-10-606307540500>\u001b[0m in \u001b[0;36m<cell line: 4>\u001b[0;34m()\u001b[0m\n\u001b[1;32m      3\u001b[0m \u001b[0;34m\u001b[0m\u001b[0m\n\u001b[1;32m      4\u001b[0m \u001b[0;32mfor\u001b[0m \u001b[0m_\u001b[0m \u001b[0;32min\u001b[0m \u001b[0mrange\u001b[0m\u001b[0;34m(\u001b[0m\u001b[0;36m10\u001b[0m\u001b[0;34m)\u001b[0m\u001b[0;34m:\u001b[0m\u001b[0;34m\u001b[0m\u001b[0;34m\u001b[0m\u001b[0m\n\u001b[0;32m----> 5\u001b[0;31m   \u001b[0mlocal_minimum_list\u001b[0m\u001b[0;34m.\u001b[0m\u001b[0mappend\u001b[0m\u001b[0;34m(\u001b[0m\u001b[0mcost_func_vqe\u001b[0m\u001b[0;34m(\u001b[0m\u001b[0mx0\u001b[0m\u001b[0;34m,\u001b[0m \u001b[0misa_circuit\u001b[0m\u001b[0;34m,\u001b[0m \u001b[0misa_observable\u001b[0m\u001b[0;34m,\u001b[0m \u001b[0mestimator\u001b[0m\u001b[0;34m)\u001b[0m\u001b[0;34m)\u001b[0m\u001b[0;34m\u001b[0m\u001b[0;34m\u001b[0m\u001b[0m\n\u001b[0m\u001b[1;32m      6\u001b[0m \u001b[0;34m\u001b[0m\u001b[0m\n\u001b[1;32m      7\u001b[0m \u001b[0mlocal_minimum_list\u001b[0m \u001b[0;34m=\u001b[0m \u001b[0mnp\u001b[0m\u001b[0;34m.\u001b[0m\u001b[0marray\u001b[0m\u001b[0;34m(\u001b[0m\u001b[0mlocal_minimum_list\u001b[0m\u001b[0;34m)\u001b[0m\u001b[0;34m\u001b[0m\u001b[0;34m\u001b[0m\u001b[0m\n",
            "\u001b[0;32m<ipython-input-9-a1429ab82af7>\u001b[0m in \u001b[0;36mcost_func_vqe\u001b[0;34m(params, ansatz, hamiltonian, estimator)\u001b[0m\n\u001b[1;32m      1\u001b[0m \u001b[0;32mdef\u001b[0m \u001b[0mcost_func_vqe\u001b[0m\u001b[0;34m(\u001b[0m\u001b[0mparams\u001b[0m\u001b[0;34m,\u001b[0m \u001b[0mansatz\u001b[0m\u001b[0;34m,\u001b[0m \u001b[0mhamiltonian\u001b[0m\u001b[0;34m,\u001b[0m \u001b[0mestimator\u001b[0m\u001b[0;34m)\u001b[0m\u001b[0;34m:\u001b[0m\u001b[0;34m\u001b[0m\u001b[0;34m\u001b[0m\u001b[0m\n\u001b[0;32m----> 2\u001b[0;31m     \u001b[0mcost\u001b[0m \u001b[0;34m=\u001b[0m \u001b[0mestimator\u001b[0m\u001b[0;34m.\u001b[0m\u001b[0mrun\u001b[0m\u001b[0;34m(\u001b[0m\u001b[0mansatz\u001b[0m\u001b[0;34m,\u001b[0m \u001b[0mhamiltonian\u001b[0m\u001b[0;34m,\u001b[0m \u001b[0mparameter_values\u001b[0m\u001b[0;34m=\u001b[0m\u001b[0mparams\u001b[0m\u001b[0;34m,\u001b[0m \u001b[0mshots\u001b[0m\u001b[0;34m=\u001b[0m\u001b[0;36m8192\u001b[0m\u001b[0;34m)\u001b[0m\u001b[0;34m.\u001b[0m\u001b[0mresult\u001b[0m\u001b[0;34m(\u001b[0m\u001b[0;34m)\u001b[0m\u001b[0;34m\u001b[0m\u001b[0;34m\u001b[0m\u001b[0m\n\u001b[0m\u001b[1;32m      3\u001b[0m     \u001b[0;32mreturn\u001b[0m \u001b[0mcost\u001b[0m\u001b[0;34m.\u001b[0m\u001b[0mvalues\u001b[0m\u001b[0;34m[\u001b[0m\u001b[0;36m0\u001b[0m\u001b[0;34m]\u001b[0m\u001b[0;34m\u001b[0m\u001b[0;34m\u001b[0m\u001b[0m\n",
            "\u001b[0;32m/usr/local/lib/python3.10/dist-packages/qiskit_ibm_runtime/runtime_job.py\u001b[0m in \u001b[0;36mresult\u001b[0;34m(self, timeout, decoder)\u001b[0m\n\u001b[1;32m    153\u001b[0m         \"\"\"\n\u001b[1;32m    154\u001b[0m         \u001b[0m_decoder\u001b[0m \u001b[0;34m=\u001b[0m \u001b[0mdecoder\u001b[0m \u001b[0;32mor\u001b[0m \u001b[0mself\u001b[0m\u001b[0;34m.\u001b[0m\u001b[0m_final_result_decoder\u001b[0m\u001b[0;34m\u001b[0m\u001b[0;34m\u001b[0m\u001b[0m\n\u001b[0;32m--> 155\u001b[0;31m         \u001b[0mself\u001b[0m\u001b[0;34m.\u001b[0m\u001b[0mwait_for_final_state\u001b[0m\u001b[0;34m(\u001b[0m\u001b[0mtimeout\u001b[0m\u001b[0;34m=\u001b[0m\u001b[0mtimeout\u001b[0m\u001b[0;34m)\u001b[0m\u001b[0;34m\u001b[0m\u001b[0;34m\u001b[0m\u001b[0m\n\u001b[0m\u001b[1;32m    156\u001b[0m         \u001b[0;32mif\u001b[0m \u001b[0mself\u001b[0m\u001b[0;34m.\u001b[0m\u001b[0m_status\u001b[0m \u001b[0;34m==\u001b[0m \u001b[0mJobStatus\u001b[0m\u001b[0;34m.\u001b[0m\u001b[0mERROR\u001b[0m\u001b[0;34m:\u001b[0m\u001b[0;34m\u001b[0m\u001b[0;34m\u001b[0m\u001b[0m\n\u001b[1;32m    157\u001b[0m             \u001b[0merror_message\u001b[0m \u001b[0;34m=\u001b[0m \u001b[0mself\u001b[0m\u001b[0;34m.\u001b[0m\u001b[0m_reason\u001b[0m \u001b[0;32mif\u001b[0m \u001b[0mself\u001b[0m\u001b[0;34m.\u001b[0m\u001b[0m_reason\u001b[0m \u001b[0;32melse\u001b[0m \u001b[0mself\u001b[0m\u001b[0;34m.\u001b[0m\u001b[0m_error_message\u001b[0m\u001b[0;34m\u001b[0m\u001b[0;34m\u001b[0m\u001b[0m\n",
            "\u001b[0;32m/usr/local/lib/python3.10/dist-packages/qiskit_ibm_runtime/runtime_job.py\u001b[0m in \u001b[0;36mwait_for_final_state\u001b[0;34m(self, timeout)\u001b[0m\n\u001b[1;32m    333\u001b[0m                 \u001b[0mself\u001b[0m\u001b[0;34m.\u001b[0m\u001b[0m_ws_client_future\u001b[0m \u001b[0;34m=\u001b[0m \u001b[0mself\u001b[0m\u001b[0;34m.\u001b[0m\u001b[0m_executor\u001b[0m\u001b[0;34m.\u001b[0m\u001b[0msubmit\u001b[0m\u001b[0;34m(\u001b[0m\u001b[0mself\u001b[0m\u001b[0;34m.\u001b[0m\u001b[0m_start_websocket_client\u001b[0m\u001b[0;34m)\u001b[0m\u001b[0;34m\u001b[0m\u001b[0;34m\u001b[0m\u001b[0m\n\u001b[1;32m    334\u001b[0m             \u001b[0;32mif\u001b[0m \u001b[0mself\u001b[0m\u001b[0;34m.\u001b[0m\u001b[0m_is_streaming\u001b[0m\u001b[0;34m(\u001b[0m\u001b[0;34m)\u001b[0m\u001b[0;34m:\u001b[0m\u001b[0;34m\u001b[0m\u001b[0;34m\u001b[0m\u001b[0m\n\u001b[0;32m--> 335\u001b[0;31m                 \u001b[0mself\u001b[0m\u001b[0;34m.\u001b[0m\u001b[0m_ws_client_future\u001b[0m\u001b[0;34m.\u001b[0m\u001b[0mresult\u001b[0m\u001b[0;34m(\u001b[0m\u001b[0mtimeout\u001b[0m\u001b[0;34m)\u001b[0m\u001b[0;34m\u001b[0m\u001b[0;34m\u001b[0m\u001b[0m\n\u001b[0m\u001b[1;32m    336\u001b[0m             \u001b[0;31m# poll for status after stream has closed until status is final\u001b[0m\u001b[0;34m\u001b[0m\u001b[0;34m\u001b[0m\u001b[0m\n\u001b[1;32m    337\u001b[0m             \u001b[0;31m# because status doesn't become final as soon as stream closes\u001b[0m\u001b[0;34m\u001b[0m\u001b[0;34m\u001b[0m\u001b[0m\n",
            "\u001b[0;32m/usr/lib/python3.10/concurrent/futures/_base.py\u001b[0m in \u001b[0;36mresult\u001b[0;34m(self, timeout)\u001b[0m\n\u001b[1;32m    451\u001b[0m                     \u001b[0;32mreturn\u001b[0m \u001b[0mself\u001b[0m\u001b[0;34m.\u001b[0m\u001b[0m__get_result\u001b[0m\u001b[0;34m(\u001b[0m\u001b[0;34m)\u001b[0m\u001b[0;34m\u001b[0m\u001b[0;34m\u001b[0m\u001b[0m\n\u001b[1;32m    452\u001b[0m \u001b[0;34m\u001b[0m\u001b[0m\n\u001b[0;32m--> 453\u001b[0;31m                 \u001b[0mself\u001b[0m\u001b[0;34m.\u001b[0m\u001b[0m_condition\u001b[0m\u001b[0;34m.\u001b[0m\u001b[0mwait\u001b[0m\u001b[0;34m(\u001b[0m\u001b[0mtimeout\u001b[0m\u001b[0;34m)\u001b[0m\u001b[0;34m\u001b[0m\u001b[0;34m\u001b[0m\u001b[0m\n\u001b[0m\u001b[1;32m    454\u001b[0m \u001b[0;34m\u001b[0m\u001b[0m\n\u001b[1;32m    455\u001b[0m                 \u001b[0;32mif\u001b[0m \u001b[0mself\u001b[0m\u001b[0;34m.\u001b[0m\u001b[0m_state\u001b[0m \u001b[0;32min\u001b[0m \u001b[0;34m[\u001b[0m\u001b[0mCANCELLED\u001b[0m\u001b[0;34m,\u001b[0m \u001b[0mCANCELLED_AND_NOTIFIED\u001b[0m\u001b[0;34m]\u001b[0m\u001b[0;34m:\u001b[0m\u001b[0;34m\u001b[0m\u001b[0;34m\u001b[0m\u001b[0m\n",
            "\u001b[0;32m/usr/lib/python3.10/threading.py\u001b[0m in \u001b[0;36mwait\u001b[0;34m(self, timeout)\u001b[0m\n\u001b[1;32m    318\u001b[0m         \u001b[0;32mtry\u001b[0m\u001b[0;34m:\u001b[0m    \u001b[0;31m# restore state no matter what (e.g., KeyboardInterrupt)\u001b[0m\u001b[0;34m\u001b[0m\u001b[0;34m\u001b[0m\u001b[0m\n\u001b[1;32m    319\u001b[0m             \u001b[0;32mif\u001b[0m \u001b[0mtimeout\u001b[0m \u001b[0;32mis\u001b[0m \u001b[0;32mNone\u001b[0m\u001b[0;34m:\u001b[0m\u001b[0;34m\u001b[0m\u001b[0;34m\u001b[0m\u001b[0m\n\u001b[0;32m--> 320\u001b[0;31m                 \u001b[0mwaiter\u001b[0m\u001b[0;34m.\u001b[0m\u001b[0macquire\u001b[0m\u001b[0;34m(\u001b[0m\u001b[0;34m)\u001b[0m\u001b[0;34m\u001b[0m\u001b[0;34m\u001b[0m\u001b[0m\n\u001b[0m\u001b[1;32m    321\u001b[0m                 \u001b[0mgotit\u001b[0m \u001b[0;34m=\u001b[0m \u001b[0;32mTrue\u001b[0m\u001b[0;34m\u001b[0m\u001b[0;34m\u001b[0m\u001b[0m\n\u001b[1;32m    322\u001b[0m             \u001b[0;32melse\u001b[0m\u001b[0;34m:\u001b[0m\u001b[0;34m\u001b[0m\u001b[0;34m\u001b[0m\u001b[0m\n",
            "\u001b[0;31mKeyboardInterrupt\u001b[0m: "
          ]
        }
      ]
    },
    {
      "cell_type": "code",
      "source": [
        "local_minimum_list"
      ],
      "metadata": {
        "id": "u-daA0I0AxoT"
      },
      "execution_count": null,
      "outputs": []
    },
    {
      "cell_type": "markdown",
      "source": [
        "## optimization_level = 3 resilence_level = 1"
      ],
      "metadata": {
        "id": "K7jbvFubBBBp"
      }
    },
    {
      "cell_type": "code",
      "source": [
        "from qiskit.circuit import QuantumCircuit, QuantumRegister, Parameter\n",
        "from qiskit.quantum_info import SparsePauliOp\n",
        "from qiskit.circuit import ParameterVector\n",
        "\n",
        "from qiskit_ibm_runtime import QiskitRuntimeService, Estimator, Options\n",
        "from qiskit.transpiler.preset_passmanagers import generate_preset_pass_manager\n",
        "\n",
        "import numpy as np"
      ],
      "metadata": {
        "id": "Bbd0V3pdBBB6"
      },
      "execution_count": null,
      "outputs": []
    },
    {
      "cell_type": "code",
      "source": [
        "# Instantiate the system Hamiltonian\n",
        "interation = 1\n",
        "bias = -1\n",
        "\n",
        "coeff_list = [interation for _ in range(4)] + [bias for _ in range(5)]\n",
        "operator_list = [\"ZZIII\", \"IZZII\", \"IIZZI\", \"IIIZZ\", \"XIIII\", \"IXIII\", \"IIXII\", \"IIIXI\", \"IIIIX\"]\n",
        "hamiltonian_list = []\n",
        "for i in range(9):\n",
        "  hamiltonian_list.append((operator_list[i], coeff_list[i]))\n",
        "hamiltonian = SparsePauliOp.from_list(hamiltonian_list)"
      ],
      "metadata": {
        "id": "DrPLTvyWBBB6"
      },
      "execution_count": null,
      "outputs": []
    },
    {
      "cell_type": "code",
      "source": [
        "# Ansatz\n",
        "\n",
        "ansatz = QuantumCircuit(5)\n",
        "params = ParameterVector(\"theta\", length=9)\n",
        "it = iter(params)\n",
        "ansatz.h(range(0,5))\n",
        "\n",
        "ansatz.barrier()\n",
        "\n",
        "ansatz.cx(0, 1)\n",
        "ansatz.cx(2, 3)\n",
        "ansatz.rz(next(it), 1)\n",
        "ansatz.rz(next(it), 3)\n",
        "ansatz.cx(0, 1)\n",
        "ansatz.cx(2, 3)\n",
        "ansatz.cx(1, 2)\n",
        "ansatz.cx(3, 4)\n",
        "ansatz.rz(next(it), 2)\n",
        "ansatz.rz(next(it), 4)\n",
        "ansatz.cx(1, 2)\n",
        "ansatz.cx(3, 4)\n",
        "\n",
        "ansatz.barrier()\n",
        "\n",
        "ansatz.rx(next(it), 0)\n",
        "ansatz.rx(next(it), 1)\n",
        "ansatz.rx(next(it), 2)\n",
        "ansatz.rx(next(it), 3)\n",
        "ansatz.rx(next(it), 4)\n",
        "\n",
        "ansatz.draw(\"mpl\")"
      ],
      "metadata": {
        "id": "Q1728UAmBBB6"
      },
      "execution_count": null,
      "outputs": []
    },
    {
      "cell_type": "code",
      "source": [
        "service = QiskitRuntimeService()\n",
        "\n",
        "backend = service.backend(\"ibmq_cusco\")\n",
        "print(backend)"
      ],
      "metadata": {
        "id": "fKK3ld9jBBB7"
      },
      "execution_count": null,
      "outputs": []
    },
    {
      "cell_type": "code",
      "source": [
        "pm = generate_preset_pass_manager(backend=backend, optimization_level=1)\n",
        "isa_circuit = pm.run(ansatz)\n",
        "isa_observable = hamiltonian.apply_layout(isa_circuit.layout)\n",
        "\n",
        "options = Options()\n",
        "options.optimization_level = 3\n",
        "options.resilience_level = 1\n",
        "\n",
        "estimator = Estimator(backend=backend, options=options)"
      ],
      "metadata": {
        "id": "u8cFwdeeBBB7"
      },
      "execution_count": null,
      "outputs": []
    },
    {
      "cell_type": "code",
      "source": [
        "def cost_func_vqe(params, ansatz, hamiltonian, estimator):\n",
        "    cost = estimator.run(ansatz, hamiltonian, parameter_values=params, shots=8192).result()\n",
        "    return cost.values[0]"
      ],
      "metadata": {
        "id": "fnTDNNcJBBB8"
      },
      "execution_count": null,
      "outputs": []
    },
    {
      "cell_type": "code",
      "source": [
        "x0 = np.array([-5.497e-01,  6.701e+00,  6.719e+00,  5.781e+00,  4.499e+00,  3.260e+00,  1.411e+00,  3.240e+00,  4.786e+00])\n",
        "local_minimum_list = []\n",
        "\n",
        "for _ in range(10):\n",
        "  local_minimum_list.append(cost_func_vqe(x0, isa_circuit, isa_observable, estimator))\n",
        "\n",
        "local_minimum_list = np.array(local_minimum_list)"
      ],
      "metadata": {
        "id": "GwS57hdyBBB8"
      },
      "execution_count": null,
      "outputs": []
    },
    {
      "cell_type": "code",
      "source": [
        "local_minimum_list"
      ],
      "metadata": {
        "id": "mut9rNQKBBB8"
      },
      "execution_count": null,
      "outputs": []
    },
    {
      "cell_type": "markdown",
      "source": [
        "## optimization_level = 3 resilence_level = 2"
      ],
      "metadata": {
        "id": "11OrZZmkBBgo"
      }
    },
    {
      "cell_type": "code",
      "source": [
        "from qiskit.circuit import QuantumCircuit, QuantumRegister, Parameter\n",
        "from qiskit.quantum_info import SparsePauliOp\n",
        "from qiskit.circuit import ParameterVector\n",
        "\n",
        "from qiskit_ibm_runtime import QiskitRuntimeService, Estimator, Options\n",
        "from qiskit.transpiler.preset_passmanagers import generate_preset_pass_manager\n",
        "\n",
        "import numpy as np"
      ],
      "metadata": {
        "id": "Oo_FEcODBBgp"
      },
      "execution_count": null,
      "outputs": []
    },
    {
      "cell_type": "code",
      "source": [
        "# Instantiate the system Hamiltonian\n",
        "interation = 1\n",
        "bias = -1\n",
        "\n",
        "coeff_list = [interation for _ in range(4)] + [bias for _ in range(5)]\n",
        "operator_list = [\"ZZIII\", \"IZZII\", \"IIZZI\", \"IIIZZ\", \"XIIII\", \"IXIII\", \"IIXII\", \"IIIXI\", \"IIIIX\"]\n",
        "hamiltonian_list = []\n",
        "for i in range(9):\n",
        "  hamiltonian_list.append((operator_list[i], coeff_list[i]))\n",
        "hamiltonian = SparsePauliOp.from_list(hamiltonian_list)"
      ],
      "metadata": {
        "id": "Md5C_3CsBBgp"
      },
      "execution_count": null,
      "outputs": []
    },
    {
      "cell_type": "code",
      "source": [
        "# Ansatz\n",
        "\n",
        "ansatz = QuantumCircuit(5)\n",
        "params = ParameterVector(\"theta\", length=9)\n",
        "it = iter(params)\n",
        "ansatz.h(range(0,5))\n",
        "\n",
        "ansatz.barrier()\n",
        "\n",
        "ansatz.cx(0, 1)\n",
        "ansatz.cx(2, 3)\n",
        "ansatz.rz(next(it), 1)\n",
        "ansatz.rz(next(it), 3)\n",
        "ansatz.cx(0, 1)\n",
        "ansatz.cx(2, 3)\n",
        "ansatz.cx(1, 2)\n",
        "ansatz.cx(3, 4)\n",
        "ansatz.rz(next(it), 2)\n",
        "ansatz.rz(next(it), 4)\n",
        "ansatz.cx(1, 2)\n",
        "ansatz.cx(3, 4)\n",
        "\n",
        "ansatz.barrier()\n",
        "\n",
        "ansatz.rx(next(it), 0)\n",
        "ansatz.rx(next(it), 1)\n",
        "ansatz.rx(next(it), 2)\n",
        "ansatz.rx(next(it), 3)\n",
        "ansatz.rx(next(it), 4)\n",
        "\n",
        "ansatz.draw(\"mpl\")"
      ],
      "metadata": {
        "id": "bFsX9F7QBBgp"
      },
      "execution_count": null,
      "outputs": []
    },
    {
      "cell_type": "code",
      "source": [
        "service = QiskitRuntimeService()\n",
        "\n",
        "backend = service.backend(\"ibmq_cusco\")\n",
        "print(backend)"
      ],
      "metadata": {
        "id": "1l8nOgnZBBgq"
      },
      "execution_count": null,
      "outputs": []
    },
    {
      "cell_type": "code",
      "source": [
        "pm = generate_preset_pass_manager(backend=backend, optimization_level=1)\n",
        "isa_circuit = pm.run(ansatz)\n",
        "isa_observable = hamiltonian.apply_layout(isa_circuit.layout)\n",
        "\n",
        "options = Options()\n",
        "options.optimization_level = 3\n",
        "options.resilience_level = 2\n",
        "\n",
        "estimator = Estimator(backend=backend, options=options)"
      ],
      "metadata": {
        "id": "lmr687ocBBgq"
      },
      "execution_count": null,
      "outputs": []
    },
    {
      "cell_type": "code",
      "source": [
        "def cost_func_vqe(params, ansatz, hamiltonian, estimator):\n",
        "    cost = estimator.run(ansatz, hamiltonian, parameter_values=params, shots=8192).result()\n",
        "    return cost.values[0]"
      ],
      "metadata": {
        "id": "_SOOjkE3BBgq"
      },
      "execution_count": null,
      "outputs": []
    },
    {
      "cell_type": "code",
      "source": [
        "x0 = np.array([-5.497e-01,  6.701e+00,  6.719e+00,  5.781e+00,  4.499e+00,  3.260e+00,  1.411e+00,  3.240e+00,  4.786e+00])\n",
        "local_minimum_list = []\n",
        "\n",
        "for _ in range(10):\n",
        "  local_minimum_list.append(cost_func_vqe(x0, isa_circuit, isa_observable, estimator))\n",
        "\n",
        "local_minimum_list = np.array(local_minimum_list)"
      ],
      "metadata": {
        "id": "irTE5VudBBgq"
      },
      "execution_count": null,
      "outputs": []
    },
    {
      "cell_type": "code",
      "source": [
        "local_minimum_list"
      ],
      "metadata": {
        "id": "xqdZYx0xBBgq"
      },
      "execution_count": null,
      "outputs": []
    },
    {
      "cell_type": "markdown",
      "source": [
        "## optimization_level = 3 resilence_level = 3"
      ],
      "metadata": {
        "id": "wNbkWxyLBB15"
      }
    },
    {
      "cell_type": "code",
      "source": [
        "from qiskit.circuit import QuantumCircuit, QuantumRegister, Parameter\n",
        "from qiskit.quantum_info import SparsePauliOp\n",
        "from qiskit.circuit import ParameterVector\n",
        "\n",
        "from qiskit_ibm_runtime import QiskitRuntimeService, Estimator, Options\n",
        "from qiskit.transpiler.preset_passmanagers import generate_preset_pass_manager\n",
        "\n",
        "import numpy as np"
      ],
      "metadata": {
        "id": "7BTHBHLmBB16"
      },
      "execution_count": null,
      "outputs": []
    },
    {
      "cell_type": "code",
      "source": [
        "# Instantiate the system Hamiltonian\n",
        "interation = 1\n",
        "bias = -1\n",
        "\n",
        "coeff_list = [interation for _ in range(4)] + [bias for _ in range(5)]\n",
        "operator_list = [\"ZZIII\", \"IZZII\", \"IIZZI\", \"IIIZZ\", \"XIIII\", \"IXIII\", \"IIXII\", \"IIIXI\", \"IIIIX\"]\n",
        "hamiltonian_list = []\n",
        "for i in range(9):\n",
        "  hamiltonian_list.append((operator_list[i], coeff_list[i]))\n",
        "hamiltonian = SparsePauliOp.from_list(hamiltonian_list)"
      ],
      "metadata": {
        "id": "FuvdEv4_BB16"
      },
      "execution_count": null,
      "outputs": []
    },
    {
      "cell_type": "code",
      "source": [
        "# Ansatz\n",
        "\n",
        "ansatz = QuantumCircuit(5)\n",
        "params = ParameterVector(\"theta\", length=9)\n",
        "it = iter(params)\n",
        "ansatz.h(range(0,5))\n",
        "\n",
        "ansatz.barrier()\n",
        "\n",
        "ansatz.cx(0, 1)\n",
        "ansatz.cx(2, 3)\n",
        "ansatz.rz(next(it), 1)\n",
        "ansatz.rz(next(it), 3)\n",
        "ansatz.cx(0, 1)\n",
        "ansatz.cx(2, 3)\n",
        "ansatz.cx(1, 2)\n",
        "ansatz.cx(3, 4)\n",
        "ansatz.rz(next(it), 2)\n",
        "ansatz.rz(next(it), 4)\n",
        "ansatz.cx(1, 2)\n",
        "ansatz.cx(3, 4)\n",
        "\n",
        "ansatz.barrier()\n",
        "\n",
        "ansatz.rx(next(it), 0)\n",
        "ansatz.rx(next(it), 1)\n",
        "ansatz.rx(next(it), 2)\n",
        "ansatz.rx(next(it), 3)\n",
        "ansatz.rx(next(it), 4)\n",
        "\n",
        "ansatz.draw(\"mpl\")"
      ],
      "metadata": {
        "id": "aUf7tIxPBB16"
      },
      "execution_count": null,
      "outputs": []
    },
    {
      "cell_type": "code",
      "source": [
        "service = QiskitRuntimeService()\n",
        "\n",
        "backend = service.backend(\"ibmq_cusco\")\n",
        "print(backend)"
      ],
      "metadata": {
        "id": "7DBYloBKBB17"
      },
      "execution_count": null,
      "outputs": []
    },
    {
      "cell_type": "code",
      "source": [
        "pm = generate_preset_pass_manager(backend=backend, optimization_level=1)\n",
        "isa_circuit = pm.run(ansatz)\n",
        "isa_observable = hamiltonian.apply_layout(isa_circuit.layout)\n",
        "\n",
        "options = Options()\n",
        "options.optimization_level = 3\n",
        "options.resilience_level = 3\n",
        "\n",
        "estimator = Estimator(backend=backend, options=options)"
      ],
      "metadata": {
        "id": "rEm9i-KBBB17"
      },
      "execution_count": null,
      "outputs": []
    },
    {
      "cell_type": "code",
      "source": [
        "def cost_func_vqe(params, ansatz, hamiltonian, estimator):\n",
        "    cost = estimator.run(ansatz, hamiltonian, parameter_values=params, shots=8192).result()\n",
        "    return cost.values[0]"
      ],
      "metadata": {
        "id": "u95b9BYBBB17"
      },
      "execution_count": null,
      "outputs": []
    },
    {
      "cell_type": "code",
      "source": [
        "x0 = np.array([-5.497e-01,  6.701e+00,  6.719e+00,  5.781e+00,  4.499e+00,  3.260e+00,  1.411e+00,  3.240e+00,  4.786e+00])\n",
        "local_minimum_list = []\n",
        "\n",
        "for _ in range(10):\n",
        "  local_minimum_list.append(cost_func_vqe(x0, isa_circuit, isa_observable, estimator))\n",
        "\n",
        "local_minimum_list = np.array(local_minimum_list)"
      ],
      "metadata": {
        "id": "I5dr3Ge8BB18"
      },
      "execution_count": null,
      "outputs": []
    },
    {
      "cell_type": "code",
      "source": [
        "local_minimum_list"
      ],
      "metadata": {
        "id": "X7vo_xXKBB19"
      },
      "execution_count": null,
      "outputs": []
    },
    {
      "cell_type": "markdown",
      "source": [
        "## Optimized Lowest Energy\n",
        "\n",
        "Optimization_level=3 & Resilence_level=0\n",
        "\n",
        "[-5.06079102, -5.26391602, -5.17651367, -5.2253418 , -5.31274414, -5.31054688, -5.2878418 , -5.27050781, -5.28540039, -5.29614258]\n",
        "\n",
        "Optimization_level=3 & Resilence_level=1\n",
        "\n",
        "[-5.72749676, -5.72937777, -5.73962453, -5.7612482 , -5.68476149, -5.6843978 , -5.64541463, -5.76621523, -5.71810848, -5.76632458]\n",
        "\n",
        "Optimization_level=3 & Resilence_level=2\n",
        "\n",
        "[-5.69306641, -5.74666425, -5.69708356, -5.7189238 , -5.70712288, -5.67600891, -5.72470249, -5.74243537, -5.69886404, -5.62487282]\n",
        "\n",
        "Optimization_level=3 & Resilence_level=3\n",
        "\n",
        "[-6.22839352, -4.62640797, -6.19686491, -5.54156607, -5.65017652, -5.74497337, -6.03524048, -5.48405816, -5.61264108, -6.14861837]"
      ],
      "metadata": {
        "id": "OnQHVMJmseyt"
      }
    },
    {
      "cell_type": "code",
      "source": [
        "# When Optimization_level=3 & Resilence_level=0\n",
        "\n",
        "local_minimum_list = np.array([-5.06079102, -5.26391602, -5.17651367, -5.2253418 , -5.31274414, -5.31054688, -5.2878418 , -5.27050781, -5.28540039, -5.29614258])\n",
        "\n",
        "mean_0 = np.mean(local_minimum_list)\n",
        "var_0 = np.var(local_minimum_list)\n",
        "max_0 = np.max(local_minimum_list)\n",
        "min_0 = np.min(local_minimum_list)\n",
        "\n",
        "print(\"mean : {0}\".format(mean_0))\n",
        "print(\"variance : {0}\".format(var_0))\n",
        "print(\"maximum : {0}\".format(max_0))\n",
        "print(\"minimum : {0}\".format(min_0))\n",
        "print()\n",
        "print(local_minimum_list)"
      ],
      "metadata": {
        "colab": {
          "base_uri": "https://localhost:8080/"
        },
        "id": "b6Qw9KesxQ_W",
        "outputId": "5bfa7319-f2fa-4034-942f-eefbe1e6e21c"
      },
      "execution_count": null,
      "outputs": [
        {
          "output_type": "stream",
          "name": "stdout",
          "text": [
            "mean : -5.2489746109999995\n",
            "variance : 0.005482909620489517\n",
            "maximum : -5.06079102\n",
            "minimum : -5.31274414\n",
            "\n",
            "[-5.06079102 -5.26391602 -5.17651367 -5.2253418  -5.31274414 -5.31054688\n",
            " -5.2878418  -5.27050781 -5.28540039 -5.29614258]\n"
          ]
        }
      ]
    },
    {
      "cell_type": "code",
      "source": [
        "# When Optimization_level=3 & Resilence_level=1\n",
        "\n",
        "local_minimum_list = np.array([-5.72749676, -5.72937777, -5.73962453, -5.7612482 , -5.68476149, -5.6843978 , -5.64541463, -5.76621523, -5.71810848, -5.76632458])\n",
        "\n",
        "mean_1 = np.mean(local_minimum_list)\n",
        "var_1 = np.var(local_minimum_list)\n",
        "max_1 = np.max(local_minimum_list)\n",
        "min_1 = np.min(local_minimum_list)\n",
        "\n",
        "print(\"mean : {0}\".format(mean_1))\n",
        "print(\"variance : {0}\".format(var_1))\n",
        "print(\"maximum : {0}\".format(max_1))\n",
        "print(\"minimum : {0}\".format(min_1))\n",
        "print()\n",
        "print(local_minimum_list)"
      ],
      "metadata": {
        "colab": {
          "base_uri": "https://localhost:8080/"
        },
        "id": "ZWaQeRHUxQ8k",
        "outputId": "2e6cf137-13f2-4b51-e565-658a8b1981b4"
      },
      "execution_count": null,
      "outputs": [
        {
          "output_type": "stream",
          "name": "stdout",
          "text": [
            "mean : -5.722296947\n",
            "variance : 0.0014535559200360005\n",
            "maximum : -5.64541463\n",
            "minimum : -5.76632458\n",
            "\n",
            "[-5.72749676 -5.72937777 -5.73962453 -5.7612482  -5.68476149 -5.6843978\n",
            " -5.64541463 -5.76621523 -5.71810848 -5.76632458]\n"
          ]
        }
      ]
    },
    {
      "cell_type": "code",
      "source": [
        "# When Optimization_level=3 & Resilence_level=2\n",
        "\n",
        "local_minimum_list = np.array([-5.69306641, -5.74666425, -5.69708356, -5.7189238 , -5.70712288, -5.67600891, -5.72470249, -5.74243537, -5.69886404, -5.62487282])\n",
        "\n",
        "mean_2 = np.mean(local_minimum_list)\n",
        "var_2 = np.var(local_minimum_list)\n",
        "max_2 = np.max(local_minimum_list)\n",
        "min_2 = np.min(local_minimum_list)\n",
        "\n",
        "print(\"mean : {0}\".format(mean_2))\n",
        "print(\"variance : {0}\".format(var_2))\n",
        "print(\"maximum : {0}\".format(max_2))\n",
        "print(\"minimum : {0}\".format(min_2))\n",
        "print()\n",
        "print(local_minimum_list)"
      ],
      "metadata": {
        "colab": {
          "base_uri": "https://localhost:8080/"
        },
        "id": "2l_BfyBUxQ3_",
        "outputId": "f3489cb6-01b7-4eb7-a527-634e7e3d88b3"
      },
      "execution_count": null,
      "outputs": [
        {
          "output_type": "stream",
          "name": "stdout",
          "text": [
            "mean : -5.702974453000001\n",
            "variance : 0.001118643405856558\n",
            "maximum : -5.62487282\n",
            "minimum : -5.74666425\n",
            "\n",
            "[-5.69306641 -5.74666425 -5.69708356 -5.7189238  -5.70712288 -5.67600891\n",
            " -5.72470249 -5.74243537 -5.69886404 -5.62487282]\n"
          ]
        }
      ]
    },
    {
      "cell_type": "code",
      "source": [
        "# When Optimization_level=3 & Resilence_level=3\n",
        "\n",
        "local_minimum_list = np.array([-6.22839352, -4.62640797, -6.19686491, -5.54156607, -5.65017652, -5.74497337, -6.03524048, -5.48405816, -5.61264108, -6.14861837])\n",
        "\n",
        "mean_3 = np.mean(local_minimum_list)\n",
        "var_3 = np.var(local_minimum_list)\n",
        "max_3 = np.max(local_minimum_list)\n",
        "min_3 = np.min(local_minimum_list)\n",
        "\n",
        "print(\"mean : {0}\".format(mean_3))\n",
        "print(\"variance : {0}\".format(var_3))\n",
        "print(\"maximum : {0}\".format(max_3))\n",
        "print(\"minimum : {0}\".format(min_3))\n",
        "print()\n",
        "print(local_minimum_list)"
      ],
      "metadata": {
        "colab": {
          "base_uri": "https://localhost:8080/"
        },
        "id": "sS1CxCBsyEn2",
        "outputId": "dcff99b3-42be-4e55-faac-8904d4e1e57c"
      },
      "execution_count": null,
      "outputs": [
        {
          "output_type": "stream",
          "name": "stdout",
          "text": [
            "mean : -5.726894045\n",
            "variance : 0.20689547749241513\n",
            "maximum : -4.62640797\n",
            "minimum : -6.22839352\n",
            "\n",
            "[-6.22839352 -4.62640797 -6.19686491 -5.54156607 -5.65017652 -5.74497337\n",
            " -6.03524048 -5.48405816 -5.61264108 -6.14861837]\n"
          ]
        }
      ]
    },
    {
      "cell_type": "code",
      "source": [
        "import matplotlib.pyplot as plt\n",
        "\n",
        "x = [\"Resilience_level=0\", \"Resilience_level=1\", \"Resilience_level=2\", \"Resilience_level=3\"]\n",
        "y = [mean_0,mean_1,mean_2,mean_3]\n",
        "yerr = [2*np.sqrt(var_0), 2*np.sqrt(var_1), 2*np.sqrt(var_2), 2*np.sqrt(var_3)]\n",
        "\n",
        "plt.plot(x, y)\n",
        "plt.errorbar(x, y, yerr=yerr, fmt ='o')\n",
        "plt.xlabel('Error')\n",
        "plt.ylabel('Lowest Energy, Optimization_level=3')\n",
        "plt.show()"
      ],
      "metadata": {
        "colab": {
          "base_uri": "https://localhost:8080/",
          "height": 451
        },
        "id": "xJnV2-kOyEgN",
        "outputId": "464a0dbe-01e9-498a-fdee-fa46ea405a1b"
      },
      "execution_count": null,
      "outputs": [
        {
          "output_type": "display_data",
          "data": {
            "text/plain": [
              "<Figure size 640x480 with 1 Axes>"
            ],
            "image/png": "[encoded data removed]"
          },
          "metadata": {}
        }
      ]
    },
    {
      "cell_type": "markdown",
      "source": [
        "# VQE Data & Figure"
      ],
      "metadata": {
        "id": "3Bj8afkCziVm"
      }
    },
    {
      "cell_type": "markdown",
      "source": [
        "IBM CUSCO (resilience_level=2&3) will be dropped off because Sampler has only resilience_level=0&1."
      ],
      "metadata": {
        "id": "AIuHJwLJ8QEd"
      }
    },
    {
      "cell_type": "code",
      "source": [
        "import numpy as np\n",
        "\n",
        "vqe_noiseless = np.array([-5.82879886, -5.89649831, -5.89460313, -5.87216999, -5.89714665, -5.8970116, -5.82318112, -5.88723766, -5.87906279, -5.89633351, -5.89712631, -5.89706667, -5.89640049, -5.89686096, -5.84344741, -5.89722894, -5.89514208, -5.89722285, -5.89281514, -5.8954058 , -5.89660128, -5.89722463, -5.8262015 , -5.89560605, -5.83363386, -5.87957003, -5.82656423, -5.89196626, -5.82341307, -5.8972198 , -5.82579769, -5.89274968, -5.89058962, -5.89571965, -5.89121954, -5.89066143, -5.89556185, -5.8294686 , -5.89500158, -5.88381387, -5.89720651, -5.86661138, -5.89703354, -5.8971071 , -5.89488588, -5.88977925, -5.89321505, -5.89655454, -5.89722776, -5.89703659, -5.8961525 , -5.89248345, -5.89678098, -5.89358845, -5.82619791, -5.88964449, -5.89599961, -5.89636862, -5.87624267, -5.89717557, -5.89514411, -5.83231881, -5.89722489, -5.89417956, -5.86522879, -5.89603463, -5.82299708, -5.89690459, -5.89513546, -5.88945447, -5.89701515, -5.89144585, -5.89279627, -5.89577581, -5.836521 , -5.88388422, -5.89711739, -5.84467668, -5.89351984, -5.89512836, -5.89677164, -5.87800257, -5.88000114, -5.83970428, -5.88410124, -5.86785946, -5.8962536 , -5.89717338, -5.84988649, -5.892418 , -5.88143104, -5.89473968, -5.89702307, -5.85915542, -5.89705331, -5.89717653, -5.89196071, -5.89641764, -5.88954192, -5.89643247])\n",
        "\n",
        "vqe_bitflip_1 = np.array([-5.606, -5.71875, -5.60175, -5.698, -5.78125, -5.767, -5.5845, -5.645, -5.69425, -5.51475, -5.56775, -5.75575, -5.769, -5.57125, -5.64275, -5.74275, -5.5175, -5.7255, -5.666, -5.73625, -5.723, -5.7545, -5.6705, -5.60075, -5.52975, -5.6935, -5.61425, -5.6985, -5.69325, -5.6845, -5.73225, -5.72175, -5.6815, -5.31325, -5.7015, -5.70625, -5.68925, -5.738, -5.71325, -5.672, -5.66375, -5.618, -5.6725, -5.6015, -5.615, -5.7535, -5.52925, -5.767, -5.736, -5.7325, -5.647, -5.6445, -5.72275, -5.55, -5.67225, -5.68075, -5.7195, -5.6425, -5.7215, -5.60475, -5.72025, -5.709, -5.58275, -5.7115, -5.7125, -5.6935, -5.6955, -5.53825, -5.53225, -5.52125, -5.64025, -5.644, -5.7355, -5.6575, -5.6785, -5.56625, -5.762, -5.6985, -5.697, -5.63975, -5.61525, -5.68075, -5.76425, -5.7605, -5.699, -5.57325, -5.707, -5.57125, -5.74275, -5.68675, -5.4285, -5.7675, -5.76325, -5.6595, -5.71025, -5.66375, -5.6435, -5.726, -5.67075, -5.62425])\n",
        "\n",
        "vqe_depolarization_1 = np.array([-5.464, -5.5505, -5.50125, -5.64825, -5.70225, -5.70025, -5.43825, -5.57275, -5.4745, -5.6055, -5.66075, -5.692, -5.68175, -5.47775, -5.317, -5.67375, -5.529, -5.657, -5.55025, -5.46625, -5.69025, -5.67975, -5.631, -5.4515, -5.412, -5.6265, -5.53575, -5.43025, -5.5855, -5.4955, -5.6855, -5.6505, -5.672, -5.35175, -5.65225, -5.65475, -5.4135, -5.56525, -5.438, -5.6115, -5.5225, -5.52325, -5.55525, -5.501, -5.3635, -5.70075, -5.649, -5.7025, -5.4855, -5.625, -5.6135, -5.633, -5.43725, -5.46675, -5.6255, -5.704, -5.432, -5.55775, -5.686, -5.511, -5.4655, -5.68625, -5.5895, -5.5275, -5.5875, -5.432, -5.30525, -5.475, -5.6845, -5.6685, -5.56775, -5.686, -5.502, -5.615, -5.6445, -5.5425, -5.67275, -5.57275, -5.614, -5.57625, -5.68275, -5.572, -5.68975, -5.66025, -5.5175, -5.597, -5.653, -5.49375, -5.71, -5.3725, -5.61425, -5.67175, -5.671, -5.55375, -5.63675, -5.5605, -5.66775, -5.65575, -5.62475, -5.5515 ])\n",
        "\n",
        "vqe_cusco_0 = np.array([-5.06079102, -5.26391602, -5.17651367, -5.2253418 , -5.31274414, -5.31054688, -5.2878418 , -5.27050781, -5.28540039, -5.29614258])\n",
        "\n",
        "vqe_cusco_1 = np.array([-5.72749676, -5.72937777, -5.73962453, -5.7612482 , -5.68476149, -5.6843978 , -5.64541463, -5.76621523, -5.71810848, -5.76632458])\n",
        "\n",
        "vqe_cusco_2 = np.array([-5.69306641, -5.74666425, -5.69708356, -5.7189238 , -5.70712288, -5.67600891, -5.72470249, -5.74243537, -5.69886404, -5.62487282])\n",
        "\n",
        "vqe_cusco_3 = np.array([-6.22839352, -4.62640797, -6.19686491, -5.54156607, -5.65017652, -5.74497337, -6.03524048, -5.48405816, -5.61264108, -6.14861837])\n",
        "\n",
        "\n",
        "print(\"vqe_noiseless\")\n",
        "print(\"mean : {0}\".format(np.mean(vqe_noiseless)))\n",
        "print(\"stdev : {0}\".format(np.sqrt(np.var(vqe_noiseless))))\n",
        "print(\"maximum : {0}\".format(np.max(vqe_noiseless)))\n",
        "print(\"minimum : {0}\".format(np.min(vqe_noiseless)))\n",
        "print()\n",
        "print()\n",
        "\n",
        "\n",
        "print(\"vqe_bitflip_1\")\n",
        "print(\"mean : {0}\".format(np.mean(vqe_bitflip_1)))\n",
        "print(\"stdev : {0}\".format(np.sqrt(np.var(vqe_bitflip_1))))\n",
        "print(\"maximum : {0}\".format(np.max(vqe_bitflip_1)))\n",
        "print(\"minimum : {0}\".format(np.min(vqe_bitflip_1)))\n",
        "print()\n",
        "print()\n",
        "\n",
        "\n",
        "print(\"vqe_depolarization_1\")\n",
        "print(\"mean : {0}\".format(np.mean(vqe_depolarization_1)))\n",
        "print(\"stdev : {0}\".format(np.sqrt(np.var(vqe_depolarization_1))))\n",
        "print(\"maximum : {0}\".format(np.max(vqe_depolarization_1)))\n",
        "print(\"minimum : {0}\".format(np.min(vqe_depolarization_1)))\n",
        "print()\n",
        "print()\n",
        "\n",
        "\n",
        "print(\"vqe_cusco_0\")\n",
        "print(\"mean : {0}\".format(np.mean(vqe_cusco_0)))\n",
        "print(\"stdev : {0}\".format(np.sqrt(np.var(vqe_cusco_0))))\n",
        "print(\"maximum : {0}\".format(np.max(vqe_cusco_0)))\n",
        "print(\"minimum : {0}\".format(np.min(vqe_cusco_0)))\n",
        "print()\n",
        "print()\n",
        "\n",
        "\n",
        "print(\"vqe_cusco_1\")\n",
        "print(\"mean : {0}\".format(np.mean(vqe_cusco_1)))\n",
        "print(\"stdev : {0}\".format(np.sqrt(np.var(vqe_cusco_1))))\n",
        "print(\"maximum : {0}\".format(np.max(vqe_cusco_1)))\n",
        "print(\"minimum : {0}\".format(np.min(vqe_cusco_1)))\n",
        "print()\n",
        "print()\n",
        "\n",
        "\n",
        "print(\"vqe_cusco_2\")\n",
        "print(\"mean : {0}\".format(np.mean(vqe_cusco_2)))\n",
        "print(\"stdev : {0}\".format(np.sqrt(np.var(vqe_cusco_2))))\n",
        "print(\"maximum : {0}\".format(np.max(vqe_cusco_2)))\n",
        "print(\"minimum : {0}\".format(np.min(vqe_cusco_2)))\n",
        "print()\n",
        "print()\n",
        "\n",
        "\n",
        "print(\"vqe_cusco_3\")\n",
        "print(\"mean : {0}\".format(np.mean(vqe_cusco_3)))\n",
        "print(\"stdev : {0}\".format(np.sqrt(np.var(vqe_cusco_3))))\n",
        "print(\"maximum : {0}\".format(np.max(vqe_cusco_3)))\n",
        "print(\"minimum : {0}\".format(np.min(vqe_cusco_3)))\n",
        "print()\n",
        "print()"
      ],
      "metadata": {
        "colab": {
          "base_uri": "https://localhost:8080/"
        },
        "id": "P3kYkKlDzlIV",
        "outputId": "27c780fa-4ac9-4878-dd48-3069496e7655"
      },
      "execution_count": null,
      "outputs": [
        {
          "output_type": "stream",
          "name": "stdout",
          "text": [
            "vqe_noiseless\n",
            "mean : -5.8822224289000005\n",
            "stdev : 0.023394008024182674\n",
            "maximum : -5.82299708\n",
            "minimum : -5.89722894\n",
            "\n",
            "\n",
            "vqe_bitflip_1\n",
            "mean : -5.665257499999999\n",
            "stdev : 0.07990144284523278\n",
            "maximum : -5.31325\n",
            "minimum : -5.78125\n",
            "\n",
            "\n",
            "vqe_depolarization_1\n",
            "mean : -5.5746225\n",
            "stdev : 0.09975300430939411\n",
            "maximum : -5.30525\n",
            "minimum : -5.71\n",
            "\n",
            "\n",
            "vqe_cusco_0\n",
            "mean : -5.2489746109999995\n",
            "stdev : 0.07404667190690961\n",
            "maximum : -5.06079102\n",
            "minimum : -5.31274414\n",
            "\n",
            "\n",
            "vqe_cusco_1\n",
            "mean : -5.722296947\n",
            "stdev : 0.038125528455826035\n",
            "maximum : -5.64541463\n",
            "minimum : -5.76632458\n",
            "\n",
            "\n",
            "vqe_cusco_2\n",
            "mean : -5.702974453000001\n",
            "stdev : 0.0334461269186218\n",
            "maximum : -5.62487282\n",
            "minimum : -5.74666425\n",
            "\n",
            "\n",
            "vqe_cusco_3\n",
            "mean : -5.726894045\n",
            "stdev : 0.45485764530500655\n",
            "maximum : -4.62640797\n",
            "minimum : -6.22839352\n",
            "\n",
            "\n"
          ]
        }
      ]
    },
    {
      "cell_type": "code",
      "source": [
        "import matplotlib.pyplot as plt\n",
        "import numpy as np\n",
        "\n",
        "# Sample data to mimic the plot\n",
        "# Assuming there are two energy levels for each of the three categories\n",
        "categories = ['Noiseless simulator', 'Noisy simulator (bit flip channel, p=0.01)', 'Noisy simulator (depolarization channel, p=0.01)',\n",
        "              'IBM CUSCO (resilience_level=0)', 'IBM CUSCO (resilience_level=1)', 'IBM CUSCO (resilience_level=2)', 'IBM CUSCO (resilience_level=3)']\n",
        "methods = ['VQE']\n",
        "energies = {\n",
        "    'Noiseless simulator':                                {'VQE': (np.mean(vqe_noiseless), np.sqrt(np.var(vqe_noiseless)))},\n",
        "    'Noisy simulator (bit flip channel, p=0.01)':         {'VQE': (np.mean(vqe_bitflip_1), np.sqrt(np.var(vqe_bitflip_1)))},\n",
        "    'Noisy simulator (depolarization channel, p=0.01)':   {'VQE': (np.mean(vqe_depolarization_1), np.sqrt(np.var(vqe_depolarization_1)))},\n",
        "    'IBM CUSCO (resilience_level=0)':                     {'VQE': (np.mean(vqe_cusco_0), np.sqrt(np.var(vqe_cusco_0)))},\n",
        "    'IBM CUSCO (resilience_level=1)':                     {'VQE': (np.mean(vqe_cusco_1), np.sqrt(np.var(vqe_cusco_1)))},\n",
        "    'IBM CUSCO (resilience_level=2)':                     {'VQE': (np.mean(vqe_cusco_2), np.sqrt(np.var(vqe_cusco_2)))},\n",
        "    'IBM CUSCO (resilience_level=3)':                     {'VQE': (np.mean(vqe_cusco_3), np.sqrt(np.var(vqe_cusco_3)))},\n",
        "}\n",
        "\n",
        "# Create figure and axes\n",
        "fig, ax = plt.subplots(figsize=(10, 5))\n",
        "\n",
        "# Plotting the data\n",
        "for i, category in enumerate(categories):\n",
        "    for j, method in enumerate(methods):\n",
        "        mean, error = energies[category][method]\n",
        "        marker = 'o' if method == 'VQE' else '^'\n",
        "        color = 'red' if method == 'VQE' else 'blue'\n",
        "        ax.errorbar(mean, i, xerr=error, fmt=marker, color=color, label=method if i == 0 else \"\")\n",
        "\n",
        "# Customizing the plot\n",
        "ax.set_yticks(range(len(categories)))\n",
        "ax.set_yticklabels(categories)\n",
        "ax.invert_yaxis()  # Invert y-axis to match the uploaded image\n",
        "ax.set_xlabel('E')\n",
        "ax.xaxis.grid(True)  # Add a grid on x-axis\n",
        "ax.set_xlim(-6.20, -5.10)  # Set the limit for x-axis to match the uploaded image\n",
        "\n",
        "# Add legend\n",
        "handles, labels = ax.get_legend_handles_labels()\n",
        "by_label = dict(zip(labels, handles))\n",
        "ax.legend(by_label.values(), by_label.keys())\n",
        "\n",
        "plt.tight_layout()\n",
        "plt.show()"
      ],
      "metadata": {
        "colab": {
          "base_uri": "https://localhost:8080/",
          "height": 507
        },
        "id": "_d6wMV6I3ZvZ",
        "outputId": "df350022-14f8-47d4-e9ca-80d591252ba0"
      },
      "execution_count": null,
      "outputs": [
        {
          "output_type": "display_data",
          "data": {
            "text/plain": [
              "<Figure size 1000x500 with 1 Axes>"
            ],
            "image/png": "[encoded data removed]"
          },
          "metadata": {}
        }
      ]
    }
  ]
}