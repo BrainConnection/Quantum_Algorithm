{
  "nbformat": 4,
  "nbformat_minor": 0,
  "metadata": {
    "colab": {
      "provenance": [],
      "machine_shape": "hm",
      "gpuType": "V100",
      "authorship_tag": "ABX9TyOXsNMg0NyDVy4OCVQ7iKgt",
      "include_colab_link": true
    },
    "kernelspec": {
      "name": "python3",
      "display_name": "Python 3"
    },
    "language_info": {
      "name": "python"
    }
  },
  "cells": [
    {
      "cell_type": "markdown",
      "metadata": {
        "id": "view-in-github",
        "colab_type": "text"
      },
      "source": [
        "<a href=\"https://colab.research.google.com/github/BrainConnection/Quantum_Algorithm/blob/main/1.%20TFIM%20VQE.ipynb\" target=\"_parent\"><img src=\"https://colab.research.google.com/assets/colab-badge.svg\" alt=\"Open In Colab\"/></a>"
      ]
    },
    {
      "cell_type": "markdown",
      "source": [
        "# Environment Setting"
      ],
      "metadata": {
        "id": "nHZOKbnMg33g"
      }
    },
    {
      "cell_type": "code",
      "execution_count": null,
      "metadata": {
        "colab": {
          "base_uri": "https://localhost:8080/"
        },
        "id": "09dlWASwmtoK",
        "outputId": "df496506-6321-40bf-eef3-11c203d9ad71"
      },
      "outputs": [
        {
          "output_type": "stream",
          "name": "stdout",
          "text": [
            "Collecting qiskit\n",
            "  Downloading qiskit-1.0.1-cp38-abi3-manylinux_2_17_x86_64.manylinux2014_x86_64.whl (5.6 MB)\n",
            "\u001b[2K     \u001b[90m━━━━━━━━━━━━━━━━━━━━━━━━━━━━━━━━━━━━━━━━\u001b[0m \u001b[32m5.6/5.6 MB\u001b[0m \u001b[31m21.2 MB/s\u001b[0m eta \u001b[36m0:00:00\u001b[0m\n",
            "\u001b[?25hCollecting rustworkx>=0.14.0 (from qiskit)\n",
            "  Downloading rustworkx-0.14.1-cp310-cp310-manylinux_2_17_x86_64.manylinux2014_x86_64.whl (2.1 MB)\n",
            "\u001b[2K     \u001b[90m━━━━━━━━━━━━━━━━━━━━━━━━━━━━━━━━━━━━━━━━\u001b[0m \u001b[32m2.1/2.1 MB\u001b[0m \u001b[31m73.1 MB/s\u001b[0m eta \u001b[36m0:00:00\u001b[0m\n",
            "\u001b[?25hRequirement already satisfied: numpy<2,>=1.17 in /usr/local/lib/python3.10/dist-packages (from qiskit) (1.25.2)\n",
            "Requirement already satisfied: scipy>=1.5 in /usr/local/lib/python3.10/dist-packages (from qiskit) (1.11.4)\n",
            "Requirement already satisfied: sympy>=1.3 in /usr/local/lib/python3.10/dist-packages (from qiskit) (1.12)\n",
            "Collecting dill>=0.3 (from qiskit)\n",
            "  Downloading dill-0.3.8-py3-none-any.whl (116 kB)\n",
            "\u001b[2K     \u001b[90m━━━━━━━━━━━━━━━━━━━━━━━━━━━━━━━━━━━━━━━━\u001b[0m \u001b[32m116.3/116.3 kB\u001b[0m \u001b[31m15.5 MB/s\u001b[0m eta \u001b[36m0:00:00\u001b[0m\n",
            "\u001b[?25hRequirement already satisfied: python-dateutil>=2.8.0 in /usr/local/lib/python3.10/dist-packages (from qiskit) (2.8.2)\n",
            "Collecting stevedore>=3.0.0 (from qiskit)\n",
            "  Downloading stevedore-5.2.0-py3-none-any.whl (49 kB)\n",
            "\u001b[2K     \u001b[90m━━━━━━━━━━━━━━━━━━━━━━━━━━━━━━━━━━━━━━━━\u001b[0m \u001b[32m49.7/49.7 kB\u001b[0m \u001b[31m6.7 MB/s\u001b[0m eta \u001b[36m0:00:00\u001b[0m\n",
            "\u001b[?25hRequirement already satisfied: typing-extensions in /usr/local/lib/python3.10/dist-packages (from qiskit) (4.10.0)\n",
            "Collecting symengine>=0.11 (from qiskit)\n",
            "  Downloading symengine-0.11.0-cp310-cp310-manylinux_2_12_x86_64.manylinux2010_x86_64.whl (39.4 MB)\n",
            "\u001b[2K     \u001b[90m━━━━━━━━━━━━━━━━━━━━━━━━━━━━━━━━━━━━━━━━\u001b[0m \u001b[32m39.4/39.4 MB\u001b[0m \u001b[31m32.4 MB/s\u001b[0m eta \u001b[36m0:00:00\u001b[0m\n",
            "\u001b[?25hRequirement already satisfied: six>=1.5 in /usr/local/lib/python3.10/dist-packages (from python-dateutil>=2.8.0->qiskit) (1.16.0)\n",
            "Collecting pbr!=2.1.0,>=2.0.0 (from stevedore>=3.0.0->qiskit)\n",
            "  Downloading pbr-6.0.0-py2.py3-none-any.whl (107 kB)\n",
            "\u001b[2K     \u001b[90m━━━━━━━━━━━━━━━━━━━━━━━━━━━━━━━━━━━━━━━━\u001b[0m \u001b[32m107.5/107.5 kB\u001b[0m \u001b[31m16.0 MB/s\u001b[0m eta \u001b[36m0:00:00\u001b[0m\n",
            "\u001b[?25hRequirement already satisfied: mpmath>=0.19 in /usr/local/lib/python3.10/dist-packages (from sympy>=1.3->qiskit) (1.3.0)\n",
            "Installing collected packages: symengine, rustworkx, pbr, dill, stevedore, qiskit\n",
            "Successfully installed dill-0.3.8 pbr-6.0.0 qiskit-1.0.1 rustworkx-0.14.1 stevedore-5.2.0 symengine-0.11.0\n",
            "Collecting qiskit-ibm-runtime\n",
            "  Downloading qiskit_ibm_runtime-0.20.0-py3-none-any.whl (1.8 MB)\n",
            "\u001b[2K     \u001b[90m━━━━━━━━━━━━━━━━━━━━━━━━━━━━━━━━━━━━━━━━\u001b[0m \u001b[32m1.8/1.8 MB\u001b[0m \u001b[31m9.8 MB/s\u001b[0m eta \u001b[36m0:00:00\u001b[0m\n",
            "\u001b[?25hRequirement already satisfied: qiskit>=0.45.0 in /usr/local/lib/python3.10/dist-packages (from qiskit-ibm-runtime) (1.0.1)\n",
            "Requirement already satisfied: requests>=2.19 in /usr/local/lib/python3.10/dist-packages (from qiskit-ibm-runtime) (2.31.0)\n",
            "Collecting requests-ntlm>=1.1.0 (from qiskit-ibm-runtime)\n",
            "  Downloading requests_ntlm-1.2.0-py3-none-any.whl (6.0 kB)\n",
            "Requirement already satisfied: numpy>=1.13 in /usr/local/lib/python3.10/dist-packages (from qiskit-ibm-runtime) (1.25.2)\n",
            "Requirement already satisfied: urllib3>=1.21.1 in /usr/local/lib/python3.10/dist-packages (from qiskit-ibm-runtime) (2.0.7)\n",
            "Requirement already satisfied: python-dateutil>=2.8.0 in /usr/local/lib/python3.10/dist-packages (from qiskit-ibm-runtime) (2.8.2)\n",
            "Requirement already satisfied: websocket-client>=1.5.1 in /usr/local/lib/python3.10/dist-packages (from qiskit-ibm-runtime) (1.7.0)\n",
            "Collecting ibm-platform-services>=0.22.6 (from qiskit-ibm-runtime)\n",
            "  Downloading ibm-platform-services-0.51.2.tar.gz (315 kB)\n",
            "\u001b[2K     \u001b[90m━━━━━━━━━━━━━━━━━━━━━━━━━━━━━━━━━━━━━━━━\u001b[0m \u001b[32m315.8/315.8 kB\u001b[0m \u001b[31m34.8 MB/s\u001b[0m eta \u001b[36m0:00:00\u001b[0m\n",
            "\u001b[?25h  Installing build dependencies ... \u001b[?25l\u001b[?25hdone\n",
            "  Getting requirements to build wheel ... \u001b[?25l\u001b[?25hdone\n",
            "  Preparing metadata (pyproject.toml) ... \u001b[?25l\u001b[?25hdone\n",
            "Collecting ibm-cloud-sdk-core<4.0.0,>=3.19.2 (from ibm-platform-services>=0.22.6->qiskit-ibm-runtime)\n",
            "  Downloading ibm-cloud-sdk-core-3.19.2.tar.gz (61 kB)\n",
            "\u001b[2K     \u001b[90m━━━━━━━━━━━━━━━━━━━━━━━━━━━━━━━━━━━━━━━━\u001b[0m \u001b[32m62.0/62.0 kB\u001b[0m \u001b[31m8.5 MB/s\u001b[0m eta \u001b[36m0:00:00\u001b[0m\n",
            "\u001b[?25h"
          ]
        }
      ],
      "source": [
        "!pip install qiskit\n",
        "!pip install qiskit-ibm-runtime\n",
        "!pip install qiskit[visualization]\n",
        "!pip install qiskit-algorithms\n",
        "\n",
        "!pip install scipy\n",
        "!pip install matplotlib"
      ]
    },
    {
      "cell_type": "code",
      "source": [
        "from qiskit_ibm_runtime import QiskitRuntimeService, Session, Estimator, Options\n",
        "\n",
        "# Save an IBM Quantum account and set it as your default account.\n",
        "QiskitRuntimeService.save_account(channel=\"ibm_quantum\",\n",
        "                                  token=\"067e5c82606f0a1157dd554e2087d6b7a9b823dbaa4ad47b95c3337eab2e6cd9361719cc0470f4a98d1631b73b264a82577012a0b8ff32963d5964e6cc12c525\",\n",
        "                                  set_as_default=True,\n",
        "                                  overwrite=True)\n",
        "\n",
        "service = QiskitRuntimeService()\n",
        "backend = service.get_backend(\"ibmq_qasm_simulator\")\n",
        "backend.name"
      ],
      "metadata": {
        "id": "2WPbDpzlm75h"
      },
      "execution_count": null,
      "outputs": []
    },
    {
      "cell_type": "markdown",
      "source": [
        "# Hamiltonian Diagonalization"
      ],
      "metadata": {
        "id": "KxlrsTqLfZMB"
      }
    },
    {
      "cell_type": "markdown",
      "source": [
        "$$ H = -(1-g) Σ Z_j Z_{j+1} -g Σ X_j  $$\n",
        "\n",
        "1D 5 Qubit System"
      ],
      "metadata": {
        "id": "ECHhrgxzxyoj"
      }
    },
    {
      "cell_type": "code",
      "source": [
        "from qiskit.quantum_info import SparsePauliOp\n",
        "import numpy as np\n",
        "import matplotlib.pyplot as plt"
      ],
      "metadata": {
        "id": "DtnIBeDK08QA"
      },
      "execution_count": null,
      "outputs": []
    },
    {
      "cell_type": "code",
      "source": [
        "def exact_eigen_energy_open(g):\n",
        "  interation = -(1-g)\n",
        "  bias = -g\n",
        "\n",
        "  coeff_list = [interation for _ in range(5)] + [bias for _ in range(5)]\n",
        "  operator_list = [\"ZZIII\", \"IZZII\", \"IIZZI\", \"IIIZZ\", \"ZIIIZ\", \"XIIII\", \"IXIII\", \"IIXII\", \"IIIXI\", \"IIIIX\"]\n",
        "  hamiltonian_list = []\n",
        "  for i in range(10):\n",
        "    hamiltonian_list.append((operator_list[i], coeff_list[i]))\n",
        "  hamiltonian = SparsePauliOp.from_list(hamiltonian_list)\n",
        "  hamiltonian_matrix = hamiltonian.to_matrix()\n",
        "\n",
        "  eigenvalue, eigenvector = np.linalg.eig(hamiltonian_matrix)\n",
        "\n",
        "  lowest_energy = np.min(eigenvalue)\n",
        "  return np.real(lowest_energy)"
      ],
      "metadata": {
        "id": "eenfvejGyy9S"
      },
      "execution_count": null,
      "outputs": []
    },
    {
      "cell_type": "code",
      "source": [
        "def exact_eigen_energy_closed(g):\n",
        "  interation = -(1-g)\n",
        "  bias = -g\n",
        "\n",
        "  coeff_list = [interation for _ in range(4)] + [bias for _ in range(5)]\n",
        "  operator_list = [\"ZZIII\", \"IZZII\", \"IIZZI\", \"IIIZZ\", \"XIIII\", \"IXIII\", \"IIXII\", \"IIIXI\", \"IIIIX\"]\n",
        "  hamiltonian_list = []\n",
        "  for i in range(9):\n",
        "    hamiltonian_list.append((operator_list[i], coeff_list[i]))\n",
        "  hamiltonian = SparsePauliOp.from_list(hamiltonian_list)\n",
        "  hamiltonian_matrix = hamiltonian.to_matrix()\n",
        "\n",
        "  eigenvalue, eigenvector = np.linalg.eig(hamiltonian_matrix)\n",
        "\n",
        "  lowest_energy = np.min(eigenvalue)\n",
        "  return np.real(lowest_energy)"
      ],
      "metadata": {
        "id": "ZeN7EPT50-h4"
      },
      "execution_count": null,
      "outputs": []
    },
    {
      "cell_type": "code",
      "source": [
        "g_list = np.array([0.0001*g for g in range(10001)])\n",
        "open_energy_list = np.array([exact_eigen_energy_open(0.0001*g) for g in range(10001)])\n",
        "closed_energy_list = np.array([exact_eigen_energy_closed(0.0001*g) for g in range(10001)])\n",
        "\n",
        "plt.figure()\n",
        "plt.plot(g_list, open_energy_list, label=\"Open\")\n",
        "plt.plot(g_list, closed_energy_list, label=\"Closed\")\n",
        "plt.xlabel(\"Bias coefficient g\")\n",
        "plt.ylabel(\"Lowest energy\")\n",
        "plt.legend()"
      ],
      "metadata": {
        "id": "90_uPgNZfbeT"
      },
      "execution_count": null,
      "outputs": []
    },
    {
      "cell_type": "code",
      "source": [
        "interation = 1\n",
        "bias = -1\n",
        "\n",
        "coeff_list = [interation for _ in range(5)] + [bias for _ in range(5)]\n",
        "operator_list = [\"ZZIII\", \"IZZII\", \"IIZZI\", \"IIIZZ\", \"ZIIIZ\", \"XIIII\", \"IXIII\", \"IIXII\", \"IIIXI\", \"IIIIX\"]\n",
        "hamiltonian_list = []\n",
        "for i in range(10):\n",
        "  hamiltonian_list.append((operator_list[i], coeff_list[i]))\n",
        "hamiltonian = SparsePauliOp.from_list(hamiltonian_list)\n",
        "hamiltonian_matrix = hamiltonian.to_matrix()\n",
        "\n",
        "eigenvalue, eigenvector = np.linalg.eig(hamiltonian_matrix)\n",
        "\n",
        "lowest_energy = np.min(eigenvalue)\n",
        "\n",
        "np.real(lowest_energy)"
      ],
      "metadata": {
        "id": "DF1a7aGu4fUc"
      },
      "execution_count": null,
      "outputs": []
    },
    {
      "cell_type": "markdown",
      "source": [
        "# VQE in Exact Simulator (Method 1)\n",
        "\n",
        "quantum_algorithms VQE object"
      ],
      "metadata": {
        "id": "VSK1jKSCkGd3"
      }
    },
    {
      "cell_type": "code",
      "source": [
        "from qiskit.circuit import QuantumCircuit, QuantumRegister, Parameter\n",
        "from qiskit.quantum_info import SparsePauliOp\n",
        "from qiskit.circuit import ParameterVector\n",
        "import numpy as np\n",
        "\n",
        "# Instantiate the system Hamiltonian\n",
        "interation = 1\n",
        "bias = -1\n",
        "\n",
        "coeff_list = [interation for _ in range(5)] + [bias for _ in range(5)]\n",
        "operator_list = [\"ZZIII\", \"IZZII\", \"IIZZI\", \"IIIZZ\", \"ZIIIZ\", \"XIIII\", \"IXIII\", \"IIXII\", \"IIIXI\", \"IIIIX\"]\n",
        "hamiltonian_list = []\n",
        "for i in range(10):\n",
        "    hamiltonian_list.append((operator_list[i], coeff_list[i]))\n",
        "hamiltonian = SparsePauliOp.from_list(hamiltonian_list)"
      ],
      "metadata": {
        "id": "wyE7E-3fkCwj"
      },
      "execution_count": null,
      "outputs": []
    },
    {
      "cell_type": "code",
      "source": [
        "ansatz = QuantumCircuit(5)\n",
        "params = ParameterVector(\"theta\", length=9)\n",
        "it = iter(params)\n",
        "ansatz.h(range(0,5))\n",
        "\n",
        "ansatz.barrier()\n",
        "\n",
        "ansatz.cx(0, 1)\n",
        "ansatz.cx(2, 3)\n",
        "ansatz.rz(next(it), 1)\n",
        "ansatz.rz(next(it), 3)\n",
        "ansatz.cx(0, 1)\n",
        "ansatz.cx(2, 3)\n",
        "ansatz.cx(1, 2)\n",
        "ansatz.cx(3, 4)\n",
        "ansatz.rz(next(it), 2)\n",
        "ansatz.rz(next(it), 4)\n",
        "ansatz.cx(1, 2)\n",
        "ansatz.cx(3, 4)\n",
        "\n",
        "ansatz.barrier()\n",
        "\n",
        "ansatz.rx(next(it), 0)\n",
        "ansatz.rx(next(it), 1)\n",
        "ansatz.rx(next(it), 2)\n",
        "ansatz.rx(next(it), 3)\n",
        "ansatz.rx(next(it), 4)\n",
        "\n",
        "ansatz.draw(\"mpl\")"
      ],
      "metadata": {
        "id": "qt1iKeHukCts"
      },
      "execution_count": null,
      "outputs": []
    },
    {
      "cell_type": "code",
      "source": [
        "from qiskit_algorithms.optimizers import CG\n",
        "from qiskit_algorithms import VQE, SamplingVQE\n",
        "from qiskit_algorithms.gradients import LinCombEstimatorGradient\n",
        "from qiskit.primitives import Estimator\n",
        "\n",
        "step_list = np.array([i for i in range(20)])\n",
        "vqe_list = []\n",
        "\n",
        "for max in range(20):\n",
        "\n",
        "  # Conjugate Gradient algorithm\n",
        "  optimizer = CG(maxiter=max)\n",
        "\n",
        "  # Gradient callable\n",
        "  estimator = Estimator()\n",
        "  grad = LinCombEstimatorGradient(estimator)  # optional estimator gradient\n",
        "  vqe = VQE(estimator=estimator, ansatz=ansatz, optimizer=optimizer, gradient=grad)\n",
        "\n",
        "  result = vqe.compute_minimum_eigenvalue(hamiltonian)\n",
        "  vqe_list.append(result.optimal_value)\n",
        "\n",
        "vqe_list = np.array(vqe_list)"
      ],
      "metadata": {
        "id": "_a6qMXM7kbuu"
      },
      "execution_count": null,
      "outputs": []
    },
    {
      "cell_type": "code",
      "source": [
        "import matplotlib.pyplot as plt\n",
        "\n",
        "fig, ax = plt.subplots()\n",
        "ax.plot(step_list, vqe_list)\n",
        "ax.set_xlabel(\"Iterations\")\n",
        "ax.set_ylabel(\"Cost\")\n",
        "plt.draw()"
      ],
      "metadata": {
        "id": "6ftUh5K-l4xZ"
      },
      "execution_count": null,
      "outputs": []
    },
    {
      "cell_type": "markdown",
      "source": [
        "# VQE in Exact Simulator (Method 2)\n",
        "\n",
        "scipy minimize"
      ],
      "metadata": {
        "id": "-WrqU9C2g8fS"
      }
    },
    {
      "cell_type": "markdown",
      "source": [
        "## Function Definition"
      ],
      "metadata": {
        "id": "cmvKiG5U_VJH"
      }
    },
    {
      "cell_type": "code",
      "source": [
        "from qiskit.circuit import QuantumCircuit, QuantumRegister, Parameter\n",
        "from qiskit.quantum_info import SparsePauliOp\n",
        "from qiskit.circuit import ParameterVector\n",
        "from qiskit.primitives import Estimator\n",
        "\n",
        "import numpy as np\n",
        "from scipy.optimize import minimize"
      ],
      "metadata": {
        "id": "rEnUcxZ96kcK"
      },
      "execution_count": null,
      "outputs": []
    },
    {
      "cell_type": "code",
      "source": [
        "# Instantiate the system Hamiltonian\n",
        "\n",
        "interation = 1\n",
        "bias = -1\n",
        "coeff_list = [interation for _ in range(5)] + [bias for _ in range(5)]\n",
        "operator_list = [\"ZZIII\", \"IZZII\", \"IIZZI\", \"IIIZZ\", \"ZIIIZ\", \"XIIII\", \"IXIII\", \"IIXII\", \"IIIXI\", \"IIIIX\"]\n",
        "hamiltonian_list = []\n",
        "for i in range(10):\n",
        "    hamiltonian_list.append((operator_list[i], coeff_list[i]))\n",
        "hamiltonian = SparsePauliOp.from_list(hamiltonian_list)\n",
        "\n",
        "\n",
        "# Estimator\n",
        "\n",
        "estimator = Estimator()"
      ],
      "metadata": {
        "id": "KoR-xtSmhIFG"
      },
      "execution_count": null,
      "outputs": []
    },
    {
      "cell_type": "code",
      "source": [
        "# Ansatz\n",
        "\n",
        "ansatz = QuantumCircuit(5)\n",
        "params = ParameterVector(\"theta\", length=9)\n",
        "it = iter(params)\n",
        "ansatz.h(range(0,5))\n",
        "\n",
        "ansatz.barrier()\n",
        "\n",
        "ansatz.cx(0, 1)\n",
        "ansatz.cx(2, 3)\n",
        "ansatz.rz(next(it), 1)\n",
        "ansatz.rz(next(it), 3)\n",
        "ansatz.cx(0, 1)\n",
        "ansatz.cx(2, 3)\n",
        "ansatz.cx(1, 2)\n",
        "ansatz.cx(3, 4)\n",
        "ansatz.rz(next(it), 2)\n",
        "ansatz.rz(next(it), 4)\n",
        "ansatz.cx(1, 2)\n",
        "ansatz.cx(3, 4)\n",
        "\n",
        "ansatz.barrier()\n",
        "\n",
        "ansatz.rx(next(it), 0)\n",
        "ansatz.rx(next(it), 1)\n",
        "ansatz.rx(next(it), 2)\n",
        "ansatz.rx(next(it), 3)\n",
        "ansatz.rx(next(it), 4)\n",
        "\n",
        "ansatz.draw(\"mpl\")"
      ],
      "metadata": {
        "id": "kQizJBKXlHwO"
      },
      "execution_count": null,
      "outputs": []
    },
    {
      "cell_type": "code",
      "source": [
        "def cost_func_vqe(params, ansatz, hamiltonian, estimator):\n",
        "    cost = estimator.run(ansatz, hamiltonian, parameter_values=params).result()\n",
        "    return cost.values[0]"
      ],
      "metadata": {
        "id": "gUgIPgDjp9Kj"
      },
      "execution_count": null,
      "outputs": []
    },
    {
      "cell_type": "code",
      "source": [
        "def build_callback(ansatz, hamiltonian, estimator, callback_dict):\n",
        "  def callback(current_vector):\n",
        "    callback_dict[\"iters\"] += 1\n",
        "    callback_dict[\"prev_vector\"] = current_vector\n",
        "    current_cost = cost_func_vqe(current_vector, ansatz, hamiltonian, estimator)\n",
        "\n",
        "    callback_dict[\"cost_history\"].append(current_cost)\n",
        "\n",
        "    print(\n",
        "      \"Iters. done: {} [Current cost: {}]\".format(callback_dict[\"iters\"], current_cost),\n",
        "      end=\"\\r\",\n",
        "      flush=True,\n",
        "    )\n",
        "\n",
        "  return callback"
      ],
      "metadata": {
        "id": "OFgXN1F4x-yG"
      },
      "execution_count": null,
      "outputs": []
    },
    {
      "cell_type": "markdown",
      "source": [
        "## Minimizing Method Trial\n",
        "\n",
        "COBYLA, SLSQP, BFGS"
      ],
      "metadata": {
        "id": "lFAqiQXZ_cOm"
      }
    },
    {
      "cell_type": "code",
      "source": [
        "callback_dict = {\n",
        "    \"prev_vector\": None,\n",
        "    \"iters\": 0,\n",
        "    \"cost_history\": [],\n",
        "}\n",
        "\n",
        "np.random.seed(0)\n",
        "x0 = 2 * np.pi * np.random.random(9)\n",
        "\n",
        "x0"
      ],
      "metadata": {
        "id": "fbtJseldyr3r"
      },
      "execution_count": null,
      "outputs": []
    },
    {
      "cell_type": "code",
      "source": [
        "callback = build_callback(ansatz, hamiltonian, estimator, callback_dict)\n",
        "res = minimize(\n",
        "  cost_func_vqe,\n",
        "  x0,\n",
        "  args=(ansatz, hamiltonian, estimator),\n",
        "  method=\"cobyla\",\n",
        "  callback=callback,\n",
        ")"
      ],
      "metadata": {
        "id": "eBHr-RDPytHr"
      },
      "execution_count": null,
      "outputs": []
    },
    {
      "cell_type": "code",
      "source": [
        "res"
      ],
      "metadata": {
        "id": "R97EUoPb1LTW"
      },
      "execution_count": null,
      "outputs": []
    },
    {
      "cell_type": "code",
      "source": [
        "fig, ax = plt.subplots()\n",
        "ax.plot(range(callback_dict[\"iters\"]), callback_dict[\"cost_history\"])\n",
        "ax.set_xlabel(\"Iterations\")\n",
        "ax.set_ylabel(\"Cost\")\n",
        "plt.draw()"
      ],
      "metadata": {
        "id": "82bVxHG4ytC6"
      },
      "execution_count": null,
      "outputs": []
    },
    {
      "cell_type": "code",
      "source": [
        "callback_dict = {\n",
        "    \"prev_vector\": None,\n",
        "    \"iters\": 0,\n",
        "    \"cost_history\": [],\n",
        "}\n",
        "\n",
        "np.random.seed(0)\n",
        "x0 = 2 * np.pi * np.random.random(9)\n",
        "\n",
        "x0"
      ],
      "metadata": {
        "id": "wGceDYYRViCC"
      },
      "execution_count": null,
      "outputs": []
    },
    {
      "cell_type": "code",
      "source": [
        "callback = build_callback(ansatz, hamiltonian, estimator, callback_dict)\n",
        "res = minimize(\n",
        "  cost_func_vqe,\n",
        "  x0,\n",
        "  args=(ansatz, hamiltonian, estimator),\n",
        "  method=\"SLSQP\",\n",
        "  callback=callback,\n",
        ")"
      ],
      "metadata": {
        "id": "QrUvUrl5-x0W"
      },
      "execution_count": null,
      "outputs": []
    },
    {
      "cell_type": "code",
      "source": [
        "res"
      ],
      "metadata": {
        "id": "nrAglRWo-xx1"
      },
      "execution_count": null,
      "outputs": []
    },
    {
      "cell_type": "code",
      "source": [
        "fig, ax = plt.subplots()\n",
        "ax.plot(range(callback_dict[\"iters\"]), callback_dict[\"cost_history\"])\n",
        "ax.set_xlabel(\"Iterations\")\n",
        "ax.set_ylabel(\"Cost\")\n",
        "plt.draw()"
      ],
      "metadata": {
        "id": "Lc35_4Ua-xvO"
      },
      "execution_count": null,
      "outputs": []
    },
    {
      "cell_type": "code",
      "source": [
        "callback_dict = {\n",
        "    \"prev_vector\": None,\n",
        "    \"iters\": 0,\n",
        "    \"cost_history\": [],\n",
        "}\n",
        "\n",
        "np.random.seed(0)\n",
        "x0 = 2 * np.pi * np.random.random(9)\n",
        "\n",
        "x0"
      ],
      "metadata": {
        "id": "jNjnRE8iVjAQ"
      },
      "execution_count": null,
      "outputs": []
    },
    {
      "cell_type": "code",
      "source": [
        "callback = build_callback(ansatz, hamiltonian, estimator, callback_dict)\n",
        "res = minimize(\n",
        "  cost_func_vqe,\n",
        "  x0,\n",
        "  args=(ansatz, hamiltonian, estimator),\n",
        "  method=\"BFGS\",\n",
        "  callback=callback,\n",
        ")"
      ],
      "metadata": {
        "id": "5Io-qjDm-xse"
      },
      "execution_count": null,
      "outputs": []
    },
    {
      "cell_type": "code",
      "source": [
        "res"
      ],
      "metadata": {
        "id": "2qADZIJl-xpv"
      },
      "execution_count": null,
      "outputs": []
    },
    {
      "cell_type": "code",
      "source": [
        "fig, ax = plt.subplots()\n",
        "ax.plot(range(callback_dict[\"iters\"]), callback_dict[\"cost_history\"])\n",
        "ax.set_xlabel(\"Iterations\")\n",
        "ax.set_ylabel(\"Cost\")\n",
        "plt.draw()"
      ],
      "metadata": {
        "id": "ABWxbu4J-xm-"
      },
      "execution_count": null,
      "outputs": []
    },
    {
      "cell_type": "markdown",
      "source": [
        "## VQE Method 2"
      ],
      "metadata": {
        "id": "AiCtyYHJCYpz"
      }
    },
    {
      "cell_type": "code",
      "source": [
        "ground_energy = 0\n",
        "cost_history_list = []\n",
        "callback_iter_list = []\n",
        "local_minimum_list = []\n",
        "for k in range(100):\n",
        "\n",
        "  callback_dict = {\n",
        "    \"prev_vector\": None,\n",
        "    \"iters\": 0,\n",
        "    \"cost_history\": [],\n",
        "  }\n",
        "\n",
        "  np.random.seed(k)\n",
        "  x0 = 2 * np.pi * np.random.random(9)\n",
        "\n",
        "  callback = build_callback(ansatz, hamiltonian, estimator, callback_dict)\n",
        "\n",
        "  options = dict()\n",
        "  options[\"maxiter\"] = 40\n",
        "  options[\"disp\"] = True\n",
        "\n",
        "  res = minimize(\n",
        "    cost_func_vqe,\n",
        "    x0,\n",
        "    args=(ansatz, hamiltonian, estimator),\n",
        "    method=\"BFGS\",\n",
        "    callback=callback,\n",
        "    options=options\n",
        "  )\n",
        "\n",
        "  local_minimum_dict = callback_dict[\"cost_history\"]\n",
        "  callback_iter_list.append(callback_dict[\"iters\"])\n",
        "  cost_history_list.append(local_minimum_dict)\n",
        "  local_minimum_list.append(local_minimum_dict[-1])\n",
        "  local_minimum = local_minimum_dict[-1]\n",
        "\n",
        "  print(local_minimum_dict[-1])\n",
        "  print()\n",
        "  print()\n",
        "\n",
        "  if ground_energy > local_minimum:\n",
        "    ground_energy = local_minimum"
      ],
      "metadata": {
        "id": "wfAYNZjw-xkV"
      },
      "execution_count": null,
      "outputs": []
    },
    {
      "cell_type": "code",
      "source": [
        "ground_energy"
      ],
      "metadata": {
        "id": "2oVNFz1FaXk_"
      },
      "execution_count": null,
      "outputs": []
    },
    {
      "cell_type": "code",
      "source": [
        "local_minimum_list[0:10]"
      ],
      "metadata": {
        "id": "IRuk9TLKfl6G"
      },
      "execution_count": null,
      "outputs": []
    },
    {
      "cell_type": "code",
      "source": [
        "local_minimum_list[10:20]"
      ],
      "metadata": {
        "id": "VPMyPVqXg23r"
      },
      "execution_count": null,
      "outputs": []
    },
    {
      "cell_type": "code",
      "source": [
        "local_minimum_list[20:30]"
      ],
      "metadata": {
        "id": "Pan9LRIQg202"
      },
      "execution_count": null,
      "outputs": []
    },
    {
      "cell_type": "code",
      "source": [
        "seed_list = [1,4,5,6,8,9,10,11,13,14,15,17,18,19,20,21,23,24,25,28]"
      ],
      "metadata": {
        "id": "45nyxeq3gLNG"
      },
      "execution_count": null,
      "outputs": []
    },
    {
      "cell_type": "code",
      "source": [
        "fig, ax = plt.subplots()\n",
        "ax.plot(range(callback_iter_list[1]), cost_history_list[1])\n",
        "ax.plot(range(callback_iter_list[4]), cost_history_list[4])\n",
        "ax.plot(range(callback_iter_list[5]), cost_history_list[5])\n",
        "ax.plot(range(callback_iter_list[6]), cost_history_list[6])\n",
        "ax.plot(range(callback_iter_list[8]), cost_history_list[8])\n",
        "ax.set_xlabel(\"Iterations\")\n",
        "ax.set_ylabel(\"Cost\")\n",
        "plt.draw()"
      ],
      "metadata": {
        "id": "icPjwb-naXfR"
      },
      "execution_count": null,
      "outputs": []
    },
    {
      "cell_type": "markdown",
      "source": [
        "# VQE in IBM Hardware\n",
        "\n",
        "optimization_level = 0\n",
        "resilence_level = 0"
      ],
      "metadata": {
        "id": "IKuteBxWC-nr"
      }
    },
    {
      "cell_type": "code",
      "source": [
        "from qiskit.circuit import QuantumCircuit, QuantumRegister, Parameter\n",
        "from qiskit.quantum_info import SparsePauliOp\n",
        "from qiskit.circuit import ParameterVector\n",
        "\n",
        "from qiskit_ibm_runtime import QiskitRuntimeService, Estimator, Options\n",
        "from qiskit.transpiler.preset_passmanagers import generate_preset_pass_manager\n",
        "\n",
        "import numpy as np\n",
        "from scipy.optimize import minimize"
      ],
      "metadata": {
        "id": "kkea0wVODMyY"
      },
      "execution_count": null,
      "outputs": []
    },
    {
      "cell_type": "code",
      "source": [
        "# Instantiate the system Hamiltonian\n",
        "\n",
        "interation = 1\n",
        "bias = -1\n",
        "coeff_list = [interation for _ in range(5)] + [bias for _ in range(5)]\n",
        "operator_list = [\"ZZIII\", \"IZZII\", \"IIZZI\", \"IIIZZ\", \"ZIIIZ\", \"XIIII\", \"IXIII\", \"IIXII\", \"IIIXI\", \"IIIIX\"]\n",
        "hamiltonian_list = []\n",
        "for i in range(10):\n",
        "    hamiltonian_list.append((operator_list[i], coeff_list[i]))\n",
        "hamiltonian = SparsePauliOp.from_list(hamiltonian_list)"
      ],
      "metadata": {
        "id": "FfnL4hqGEVHI"
      },
      "execution_count": null,
      "outputs": []
    },
    {
      "cell_type": "code",
      "source": [
        "# Ansatz\n",
        "\n",
        "ansatz = QuantumCircuit(5)\n",
        "params = ParameterVector(\"theta\", length=9)\n",
        "it = iter(params)\n",
        "ansatz.h(range(0,5))\n",
        "\n",
        "ansatz.barrier()\n",
        "\n",
        "ansatz.cx(0, 1)\n",
        "ansatz.cx(2, 3)\n",
        "ansatz.rz(next(it), 1)\n",
        "ansatz.rz(next(it), 3)\n",
        "ansatz.cx(0, 1)\n",
        "ansatz.cx(2, 3)\n",
        "ansatz.cx(1, 2)\n",
        "ansatz.cx(3, 4)\n",
        "ansatz.rz(next(it), 2)\n",
        "ansatz.rz(next(it), 4)\n",
        "ansatz.cx(1, 2)\n",
        "ansatz.cx(3, 4)\n",
        "\n",
        "ansatz.barrier()\n",
        "\n",
        "ansatz.rx(next(it), 0)\n",
        "ansatz.rx(next(it), 1)\n",
        "ansatz.rx(next(it), 2)\n",
        "ansatz.rx(next(it), 3)\n",
        "ansatz.rx(next(it), 4)\n",
        "\n",
        "ansatz.draw(\"mpl\")"
      ],
      "metadata": {
        "id": "yJyffKiSEVEq"
      },
      "execution_count": null,
      "outputs": []
    },
    {
      "cell_type": "code",
      "source": [
        "service = QiskitRuntimeService()\n",
        "\n",
        "backend = service.least_busy(simulator=False, operational=True)\n",
        "print(backend)"
      ],
      "metadata": {
        "id": "Nmu_1nfCEkMo"
      },
      "execution_count": null,
      "outputs": []
    },
    {
      "cell_type": "code",
      "source": [
        "pm = generate_preset_pass_manager(backend=backend, optimization_level=1)\n",
        "isa_circuit = pm.run(ansatz)\n",
        "isa_observable = hamiltonian.apply_layout(isa_circuit.layout)\n",
        "\n",
        "options = Options()\n",
        "options.optimization_level = 0\n",
        "options.resilience_level = 0\n",
        "\n",
        "estimator = Estimator(backend=backend, options=options)"
      ],
      "metadata": {
        "id": "XjR4gsNhE_54"
      },
      "execution_count": null,
      "outputs": []
    },
    {
      "cell_type": "code",
      "source": [
        "def cost_func_vqe(params, ansatz, hamiltonian, estimator):\n",
        "    cost = estimator.run(ansatz, hamiltonian, parameter_values=params).result()\n",
        "    return cost.values[0]"
      ],
      "metadata": {
        "id": "3K2VKzQ_EU-4"
      },
      "execution_count": null,
      "outputs": []
    },
    {
      "cell_type": "code",
      "source": [
        "def build_callback(ansatz, hamiltonian, estimator, callback_dict):\n",
        "  def callback(current_vector):\n",
        "    callback_dict[\"iters\"] += 1\n",
        "    callback_dict[\"prev_vector\"] = current_vector\n",
        "    current_cost = cost_func_vqe(current_vector, ansatz, hamiltonian, estimator)\n",
        "\n",
        "    callback_dict[\"cost_history\"].append(current_cost)\n",
        "\n",
        "    print(\n",
        "      \"Iters. done: {} [Current cost: {}]\".format(callback_dict[\"iters\"], current_cost),\n",
        "      end=\"\\r\",\n",
        "      flush=True,\n",
        "    )\n",
        "\n",
        "  return callback"
      ],
      "metadata": {
        "id": "hl2Y8czdEfKJ"
      },
      "execution_count": null,
      "outputs": []
    },
    {
      "cell_type": "code",
      "source": [
        "seed_list = [1,4,5,6,8,9,10,11,13,14,15,17,18,19,20,21,23,24,25,28]\n",
        "\n",
        "ground_energy = 0\n",
        "cost_history_list = []\n",
        "callback_iter_list = []\n",
        "local_minimum_list = []\n",
        "for k in range(20):\n",
        "\n",
        "  callback_dict = {\n",
        "    \"prev_vector\": None,\n",
        "    \"iters\": 0,\n",
        "    \"cost_history\": [],\n",
        "  }\n",
        "\n",
        "  np.random.seed(seed_list[k])\n",
        "  x0 = 2 * np.pi * np.random.random(9)\n",
        "\n",
        "  callback = build_callback(isa_circuit, isa_observable, estimator, callback_dict)\n",
        "\n",
        "  options = dict()\n",
        "  options[\"maxiter\"] = 40\n",
        "  options[\"disp\"] = True\n",
        "\n",
        "  res = minimize(\n",
        "    cost_func_vqe,\n",
        "    x0,\n",
        "    args=(isa_circuit, isa_observable, estimator),\n",
        "    method=\"BFGS\",\n",
        "    callback=callback,\n",
        "    options=options\n",
        "  )\n",
        "\n",
        "  local_minimum_dict = callback_dict[\"cost_history\"]\n",
        "  callback_iter_list.append(callback_dict[\"iters\"])\n",
        "  cost_history_list.append(local_minimum_dict)\n",
        "  local_minimum_list.append(local_minimum_dict[-1])\n",
        "  local_minimum = local_minimum_dict[-1]\n",
        "\n",
        "  print(local_minimum)\n",
        "  print()\n",
        "  print()\n",
        "\n",
        "  if ground_energy > local_minimum:\n",
        "    ground_energy = local_minimum"
      ],
      "metadata": {
        "id": "Y0GTlUE4IE88"
      },
      "execution_count": null,
      "outputs": []
    },
    {
      "cell_type": "code",
      "source": [
        "ground_energy"
      ],
      "metadata": {
        "id": "LXH3KaVINpAg"
      },
      "execution_count": null,
      "outputs": []
    },
    {
      "cell_type": "code",
      "source": [
        "fig, ax = plt.subplots()\n",
        "ax.plot(range(callback_iter_list[0]), cost_history_list[0])\n",
        "ax.plot(range(callback_iter_list[1]), cost_history_list[1])\n",
        "ax.plot(range(callback_iter_list[2]), cost_history_list[2])\n",
        "ax.plot(range(callback_iter_list[3]), cost_history_list[3])\n",
        "ax.plot(range(callback_iter_list[4]), cost_history_list[4])\n",
        "ax.set_xlabel(\"Iterations\")\n",
        "ax.set_ylabel(\"Cost\")\n",
        "plt.draw()"
      ],
      "metadata": {
        "id": "LfYtDuKMPIJF"
      },
      "execution_count": null,
      "outputs": []
    },
    {
      "cell_type": "markdown",
      "source": [
        "# VQE in IBM Hardware\n",
        "\n",
        "optimization_level = 3\n",
        "resilence_level = 1"
      ],
      "metadata": {
        "id": "XNbQIir0i6Mc"
      }
    },
    {
      "cell_type": "code",
      "source": [
        "from qiskit.circuit import QuantumCircuit, QuantumRegister, Parameter\n",
        "from qiskit.quantum_info import SparsePauliOp\n",
        "from qiskit.circuit import ParameterVector\n",
        "\n",
        "from qiskit_ibm_runtime import QiskitRuntimeService, Estimator, Options\n",
        "from qiskit.transpiler.preset_passmanagers import generate_preset_pass_manager\n",
        "\n",
        "import numpy as np\n",
        "from scipy.optimize import minimize"
      ],
      "metadata": {
        "id": "VSbxuwSSi6Ml"
      },
      "execution_count": null,
      "outputs": []
    },
    {
      "cell_type": "code",
      "source": [
        "# Instantiate the system Hamiltonian\n",
        "\n",
        "interation = 1\n",
        "bias = -1\n",
        "coeff_list = [interation for _ in range(5)] + [bias for _ in range(5)]\n",
        "operator_list = [\"ZZIII\", \"IZZII\", \"IIZZI\", \"IIIZZ\", \"ZIIIZ\", \"XIIII\", \"IXIII\", \"IIXII\", \"IIIXI\", \"IIIIX\"]\n",
        "hamiltonian_list = []\n",
        "for i in range(10):\n",
        "    hamiltonian_list.append((operator_list[i], coeff_list[i]))\n",
        "hamiltonian = SparsePauliOp.from_list(hamiltonian_list)"
      ],
      "metadata": {
        "id": "x6iWoO7ii6Ml"
      },
      "execution_count": null,
      "outputs": []
    },
    {
      "cell_type": "code",
      "source": [
        "# Ansatz\n",
        "\n",
        "ansatz = QuantumCircuit(5)\n",
        "params = ParameterVector(\"theta\", length=9)\n",
        "it = iter(params)\n",
        "ansatz.h(range(0,5))\n",
        "\n",
        "ansatz.barrier()\n",
        "\n",
        "ansatz.cx(0, 1)\n",
        "ansatz.cx(2, 3)\n",
        "ansatz.rz(next(it), 1)\n",
        "ansatz.rz(next(it), 3)\n",
        "ansatz.cx(0, 1)\n",
        "ansatz.cx(2, 3)\n",
        "ansatz.cx(1, 2)\n",
        "ansatz.cx(3, 4)\n",
        "ansatz.rz(next(it), 2)\n",
        "ansatz.rz(next(it), 4)\n",
        "ansatz.cx(1, 2)\n",
        "ansatz.cx(3, 4)\n",
        "\n",
        "ansatz.barrier()\n",
        "\n",
        "ansatz.rx(next(it), 0)\n",
        "ansatz.rx(next(it), 1)\n",
        "ansatz.rx(next(it), 2)\n",
        "ansatz.rx(next(it), 3)\n",
        "ansatz.rx(next(it), 4)\n",
        "\n",
        "ansatz.draw(\"mpl\")"
      ],
      "metadata": {
        "id": "swE-gOWdi6Ml"
      },
      "execution_count": null,
      "outputs": []
    },
    {
      "cell_type": "code",
      "source": [
        "service = QiskitRuntimeService()\n",
        "\n",
        "backend = service.least_busy(simulator=False, operational=True)\n",
        "print(backend)"
      ],
      "metadata": {
        "id": "n0Fv5vS0i6Ml"
      },
      "execution_count": null,
      "outputs": []
    },
    {
      "cell_type": "code",
      "source": [
        "pm = generate_preset_pass_manager(backend=backend, optimization_level=1)\n",
        "isa_circuit = pm.run(ansatz)\n",
        "isa_observable = hamiltonian.apply_layout(isa_circuit.layout)\n",
        "\n",
        "options = Options()\n",
        "options.optimization_level = 3\n",
        "options.resilience_level = 1\n",
        "\n",
        "estimator = Estimator(backend=backend, options=options)"
      ],
      "metadata": {
        "id": "nQ-aqP4fi6Mm"
      },
      "execution_count": null,
      "outputs": []
    },
    {
      "cell_type": "code",
      "source": [
        "def cost_func_vqe(params, ansatz, hamiltonian, estimator):\n",
        "    cost = estimator.run(ansatz, hamiltonian, parameter_values=params).result()\n",
        "    return cost.values[0]"
      ],
      "metadata": {
        "id": "C6ue1CtPi6Mm"
      },
      "execution_count": null,
      "outputs": []
    },
    {
      "cell_type": "code",
      "source": [
        "def build_callback(ansatz, hamiltonian, estimator, callback_dict):\n",
        "  def callback(current_vector):\n",
        "    callback_dict[\"iters\"] += 1\n",
        "    callback_dict[\"prev_vector\"] = current_vector\n",
        "    current_cost = cost_func_vqe(current_vector, ansatz, hamiltonian, estimator)\n",
        "\n",
        "    callback_dict[\"cost_history\"].append(current_cost)\n",
        "\n",
        "    print(\n",
        "      \"Iters. done: {} [Current cost: {}]\".format(callback_dict[\"iters\"], current_cost),\n",
        "      end=\"\\r\",\n",
        "      flush=True,\n",
        "    )\n",
        "\n",
        "  return callback"
      ],
      "metadata": {
        "id": "Bo9yDUHvi6Mm"
      },
      "execution_count": null,
      "outputs": []
    },
    {
      "cell_type": "code",
      "source": [
        "seed_list = [1,4,5,6,8,9,10,11,13,14,15,17,18,19,20,21,23,24,25,28]\n",
        "\n",
        "ground_energy = 0\n",
        "cost_history_list = []\n",
        "callback_iter_list = []\n",
        "local_minimum_list = []\n",
        "for k in range(20):\n",
        "\n",
        "  callback_dict = {\n",
        "    \"prev_vector\": None,\n",
        "    \"iters\": 0,\n",
        "    \"cost_history\": [],\n",
        "  }\n",
        "\n",
        "  np.random.seed(seed_list[k])\n",
        "  x0 = 2 * np.pi * np.random.random(9)\n",
        "\n",
        "  callback = build_callback(isa_circuit, isa_observable, estimator, callback_dict)\n",
        "\n",
        "  options = dict()\n",
        "  options[\"maxiter\"] = 40\n",
        "  options[\"disp\"] = True\n",
        "\n",
        "  res = minimize(\n",
        "    cost_func_vqe,\n",
        "    x0,\n",
        "    args=(isa_circuit, isa_observable, estimator),\n",
        "    method=\"BFGS\",\n",
        "    callback=callback,\n",
        "    options=options\n",
        "  )\n",
        "\n",
        "  local_minimum_dict = callback_dict[\"cost_history\"]\n",
        "  callback_iter_list.append(callback_dict[\"iters\"])\n",
        "  cost_history_list.append(local_minimum_dict)\n",
        "  local_minimum_list.append(local_minimum_dict[-1])\n",
        "  local_minimum = local_minimum_dict[-1]\n",
        "\n",
        "  print(local_minimum)\n",
        "  print()\n",
        "  print()\n",
        "\n",
        "  if ground_energy > local_minimum:\n",
        "    ground_energy = local_minimum"
      ],
      "metadata": {
        "id": "N9DeIpV3i6Mm"
      },
      "execution_count": null,
      "outputs": []
    },
    {
      "cell_type": "code",
      "source": [
        "ground_energy"
      ],
      "metadata": {
        "id": "NhWzAYr3i6Mm"
      },
      "execution_count": null,
      "outputs": []
    },
    {
      "cell_type": "code",
      "source": [
        "fig, ax = plt.subplots()\n",
        "ax.plot(range(callback_iter_list[0]), cost_history_list[0])\n",
        "ax.plot(range(callback_iter_list[1]), cost_history_list[1])\n",
        "ax.plot(range(callback_iter_list[2]), cost_history_list[2])\n",
        "ax.plot(range(callback_iter_list[3]), cost_history_list[3])\n",
        "ax.plot(range(callback_iter_list[4]), cost_history_list[4])\n",
        "ax.set_xlabel(\"Iterations\")\n",
        "ax.set_ylabel(\"Cost\")\n",
        "plt.draw()"
      ],
      "metadata": {
        "id": "rJFmuE89i6Mm"
      },
      "execution_count": null,
      "outputs": []
    },
    {
      "cell_type": "markdown",
      "source": [
        "# VQE in IBM Hardware\n",
        "\n",
        "optimization_level = 3\n",
        "resilence_level = 3"
      ],
      "metadata": {
        "id": "gugcTKpkjEEm"
      }
    },
    {
      "cell_type": "code",
      "source": [
        "from qiskit.circuit import QuantumCircuit, QuantumRegister, Parameter\n",
        "from qiskit.quantum_info import SparsePauliOp\n",
        "from qiskit.circuit import ParameterVector\n",
        "\n",
        "from qiskit_ibm_runtime import QiskitRuntimeService, Estimator, Options\n",
        "from qiskit.transpiler.preset_passmanagers import generate_preset_pass_manager\n",
        "\n",
        "import numpy as np\n",
        "from scipy.optimize import minimize"
      ],
      "metadata": {
        "id": "MaQjg27YjEEs"
      },
      "execution_count": null,
      "outputs": []
    },
    {
      "cell_type": "code",
      "source": [
        "# Instantiate the system Hamiltonian\n",
        "\n",
        "interation = 1\n",
        "bias = -1\n",
        "coeff_list = [interation for _ in range(5)] + [bias for _ in range(5)]\n",
        "operator_list = [\"ZZIII\", \"IZZII\", \"IIZZI\", \"IIIZZ\", \"ZIIIZ\", \"XIIII\", \"IXIII\", \"IIXII\", \"IIIXI\", \"IIIIX\"]\n",
        "hamiltonian_list = []\n",
        "for i in range(10):\n",
        "    hamiltonian_list.append((operator_list[i], coeff_list[i]))\n",
        "hamiltonian = SparsePauliOp.from_list(hamiltonian_list)"
      ],
      "metadata": {
        "id": "OOpbeAz8jEEs"
      },
      "execution_count": null,
      "outputs": []
    },
    {
      "cell_type": "code",
      "source": [
        "# Ansatz\n",
        "\n",
        "ansatz = QuantumCircuit(5)\n",
        "params = ParameterVector(\"theta\", length=9)\n",
        "it = iter(params)\n",
        "ansatz.h(range(0,5))\n",
        "\n",
        "ansatz.barrier()\n",
        "\n",
        "ansatz.cx(0, 1)\n",
        "ansatz.cx(2, 3)\n",
        "ansatz.rz(next(it), 1)\n",
        "ansatz.rz(next(it), 3)\n",
        "ansatz.cx(0, 1)\n",
        "ansatz.cx(2, 3)\n",
        "ansatz.cx(1, 2)\n",
        "ansatz.cx(3, 4)\n",
        "ansatz.rz(next(it), 2)\n",
        "ansatz.rz(next(it), 4)\n",
        "ansatz.cx(1, 2)\n",
        "ansatz.cx(3, 4)\n",
        "\n",
        "ansatz.barrier()\n",
        "\n",
        "ansatz.rx(next(it), 0)\n",
        "ansatz.rx(next(it), 1)\n",
        "ansatz.rx(next(it), 2)\n",
        "ansatz.rx(next(it), 3)\n",
        "ansatz.rx(next(it), 4)\n",
        "\n",
        "ansatz.draw(\"mpl\")"
      ],
      "metadata": {
        "id": "6mTwPn4WjEEt"
      },
      "execution_count": null,
      "outputs": []
    },
    {
      "cell_type": "code",
      "source": [
        "service = QiskitRuntimeService()\n",
        "\n",
        "backend = service.least_busy(simulator=False, operational=True)\n",
        "print(backend)"
      ],
      "metadata": {
        "id": "hv-EiR_CjEEt"
      },
      "execution_count": null,
      "outputs": []
    },
    {
      "cell_type": "code",
      "source": [
        "pm = generate_preset_pass_manager(backend=backend, optimization_level=1)\n",
        "isa_circuit = pm.run(ansatz)\n",
        "isa_observable = hamiltonian.apply_layout(isa_circuit.layout)\n",
        "\n",
        "options = Options()\n",
        "options.optimization_level = 3\n",
        "options.resilience_level = 3\n",
        "\n",
        "estimator = Estimator(backend=backend, options=options)"
      ],
      "metadata": {
        "id": "OTos5HUXjEEt"
      },
      "execution_count": null,
      "outputs": []
    },
    {
      "cell_type": "code",
      "source": [
        "def cost_func_vqe(params, ansatz, hamiltonian, estimator):\n",
        "    cost = estimator.run(ansatz, hamiltonian, parameter_values=params).result()\n",
        "    return cost.values[0]"
      ],
      "metadata": {
        "id": "jNNDo7Y0jEEt"
      },
      "execution_count": null,
      "outputs": []
    },
    {
      "cell_type": "code",
      "source": [
        "def build_callback(ansatz, hamiltonian, estimator, callback_dict):\n",
        "  def callback(current_vector):\n",
        "    callback_dict[\"iters\"] += 1\n",
        "    callback_dict[\"prev_vector\"] = current_vector\n",
        "    current_cost = cost_func_vqe(current_vector, ansatz, hamiltonian, estimator)\n",
        "\n",
        "    callback_dict[\"cost_history\"].append(current_cost)\n",
        "\n",
        "    print(\n",
        "      \"Iters. done: {} [Current cost: {}]\".format(callback_dict[\"iters\"], current_cost),\n",
        "      end=\"\\r\",\n",
        "      flush=True,\n",
        "    )\n",
        "\n",
        "  return callback"
      ],
      "metadata": {
        "id": "iC1FjlMyjEEt"
      },
      "execution_count": null,
      "outputs": []
    },
    {
      "cell_type": "code",
      "source": [
        "seed_list = [1,4,5,6,8,9,10,11,13,14,15,17,18,19,20,21,23,24,25,28]\n",
        "\n",
        "ground_energy = 0\n",
        "cost_history_list = []\n",
        "callback_iter_list = []\n",
        "local_minimum_list = []\n",
        "for k in range(20):\n",
        "\n",
        "  callback_dict = {\n",
        "    \"prev_vector\": None,\n",
        "    \"iters\": 0,\n",
        "    \"cost_history\": [],\n",
        "  }\n",
        "\n",
        "  np.random.seed(seed_list[k])\n",
        "  x0 = 2 * np.pi * np.random.random(9)\n",
        "\n",
        "  callback = build_callback(isa_circuit, isa_observable, estimator, callback_dict)\n",
        "\n",
        "  options = dict()\n",
        "  options[\"maxiter\"] = 40\n",
        "  options[\"disp\"] = True\n",
        "\n",
        "  res = minimize(\n",
        "    cost_func_vqe,\n",
        "    x0,\n",
        "    args=(isa_circuit, isa_observable, estimator),\n",
        "    method=\"BFGS\",\n",
        "    callback=callback,\n",
        "    options=options\n",
        "  )\n",
        "\n",
        "  local_minimum_dict = callback_dict[\"cost_history\"]\n",
        "  callback_iter_list.append(callback_dict[\"iters\"])\n",
        "  cost_history_list.append(local_minimum_dict)\n",
        "  local_minimum_list.append(local_minimum_dict[-1])\n",
        "  local_minimum = local_minimum_dict[-1]\n",
        "\n",
        "  print(local_minimum)\n",
        "  print()\n",
        "  print()\n",
        "\n",
        "  if ground_energy > local_minimum:\n",
        "    ground_energy = local_minimum"
      ],
      "metadata": {
        "id": "5sJTC_KjjEEt"
      },
      "execution_count": null,
      "outputs": []
    },
    {
      "cell_type": "code",
      "source": [
        "ground_energy"
      ],
      "metadata": {
        "id": "t9ES___TjEEt"
      },
      "execution_count": null,
      "outputs": []
    },
    {
      "cell_type": "code",
      "source": [
        "fig, ax = plt.subplots()\n",
        "ax.plot(range(callback_iter_list[0]), cost_history_list[0])\n",
        "ax.plot(range(callback_iter_list[1]), cost_history_list[1])\n",
        "ax.plot(range(callback_iter_list[2]), cost_history_list[2])\n",
        "ax.plot(range(callback_iter_list[3]), cost_history_list[3])\n",
        "ax.plot(range(callback_iter_list[4]), cost_history_list[4])\n",
        "ax.set_xlabel(\"Iterations\")\n",
        "ax.set_ylabel(\"Cost\")\n",
        "plt.draw()"
      ],
      "metadata": {
        "id": "nCqnMFYnjEEt"
      },
      "execution_count": null,
      "outputs": []
    }
  ]
}